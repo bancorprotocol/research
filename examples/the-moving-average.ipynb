{
 "cells": [
  {
   "cell_type": "code",
   "execution_count": 1,
   "metadata": {
    "tags": [
     "remove-input"
    ]
   },
   "outputs": [
    {
     "name": "stdout",
     "output_type": "stream",
     "text": [
      "Bootstrap requirements met for eth\n",
      "Bootstrap requirements met for link\n",
      "Bootstrap requirements met for wbtc\n"
     ]
    }
   ],
   "source": [
    "from datascience import *\n",
    "from datascience.predicates import are\n",
    "path_data = '../../../../data/'\n",
    "import numpy as np\n",
    "import matplotlib\n",
    "matplotlib.use('Agg')\n",
    "%matplotlib inline\n",
    "import matplotlib.pyplot as plots\n",
    "plots.style.use('fivethirtyeight')\n",
    "import warnings\n",
    "warnings.simplefilter(action=\"ignore\", category=FutureWarning)\n",
    "\n",
    "from urllib.request import urlopen \n",
    "import re\n",
    "\n",
    "from bancor_research.bancor_simulator.v3.spec.network import BancorDapp\n",
    "\n",
    "# Recall from an earlier chapter that we already defined the whitelisted_tokens as follows.\n",
    "whitelisted_tokens = {\n",
    "    \"eth\": {\n",
    "        \"trading_fee\": 0.01,\n",
    "        \"bnt_funding_limit\": 1000000\n",
    "    },\n",
    "    \"link\": {\n",
    "        \"trading_fee\": 0.01,\n",
    "        \"bnt_funding_limit\": 1000000\n",
    "    },\n",
    "    \"wbtc\": {\n",
    "        \"trading_fee\": 0.01,\n",
    "        \"bnt_funding_limit\": 1000000\n",
    "    }\n",
    "}\n",
    "\n",
    "# There are other possible configuration settings available, however for the present purpose we will use the defaults.\n",
    "v3 = BancorDapp(whitelisted_tokens=whitelisted_tokens)\n",
    "\n",
    "v3.set_user_balance(tkn_amt='101', tkn_name='eth', user_name='Alice')\n",
    "v3.set_user_balance(tkn_amt='101', tkn_name='wbtc', user_name='Bob')\n",
    "v3.set_user_balance(tkn_amt='10001', tkn_name='link', user_name='Charlie')\n",
    "v3.set_user_balance(tkn_amt='23', tkn_name='bnt', user_name='Trader')\n",
    "v3.set_user_balance(tkn_amt='1', tkn_name='eth', user_name='Trader')\n",
    "v3.set_user_balance(tkn_amt='3', tkn_name='link', user_name='Trader')\n",
    "\n",
    "# The actual deposits.\n",
    "\n",
    "v3.deposit(tkn_amt='100', tkn_name='eth', user_name='Alice')\n",
    "\n",
    "v3.deposit(tkn_amt='10000', tkn_name='link', user_name='Charlie')\n",
    "\n",
    "v3.deposit(tkn_amt='100', tkn_name='wbtc', user_name='Bob')\n",
    "\n",
    "v3.deposit(tkn_amt='1', tkn_name='eth', user_name='Alice')\n",
    "\n",
    "v3.deposit(tkn_amt='1', tkn_name='link', user_name='Charlie')\n",
    "\n",
    "v3.deposit(tkn_amt='1', tkn_name='wbtc', user_name='Bob')\n",
    "\n",
    "for tkn_name in whitelisted_tokens:\n",
    "    v3.enable_trading(tkn_name)\n",
    "\n",
    "def read_url(url): \n",
    "    return re.sub('\\\\s+', ' ', urlopen(url).read().decode())"
   ]
  },
  {
   "cell_type": "markdown",
   "metadata": {},
   "source": [
    "# The Moving Average - EMA\n",
    "\n",
    "A moving average is utilized as a security measure, where sudden changes in the pool reserves can be detected, and prevent abuse of the protocol's features. The moving average (ema) is updated with the first trade of the block, for any asset according to the following formula: \n",
    "\n",
    "![](https://lh5.googleusercontent.com/Hq0YWEHsrIza40yun3z0tuEu8migMiB6CzhIKZsY5TA2XCLw-zYqHGsm0J3QdB4-O1jxG1CF3swVjRyU4PTfQzyMJKxTCZRqS_D-9CbQYvcaZ-hh8_X2R_NGUqxIHigFGrpDeat7)\n",
    "\n",
    "where r is the spot rate in units of BNT/TKN as determined by the trading liquidity balances of the pool, and α is an arbitrary constant that determines the responsiveness of the moving average. The α term is a global variable, set at 0.2 (or 20%) at launch of Bancor 3, and is intended to provide a consensus rate for the pool that is resistant to virtual price manipulation attacks. The following chart is an arbitrary depiction of the ema behavior relative to the spot price on a per-block basis. The ema is measured and updated before an action is executed; therefore, the ema response is delayed by a minimum of one action (e.g. a trade or add/remove liquidity event). Further, the ema is only adjusted once per pool, per block.\n"
   ]
  },
  {
   "cell_type": "code",
   "execution_count": 2,
   "outputs": [
    {
     "data": {
      "text/plain": "                                             eth          link          wbtc  \\\n1 Account Alice                         0.000000           NaN           NaN   \n          Bob                                NaN           NaN      0.000000   \n          Charlie                            NaN      0.000000           NaN   \n          Trader                        1.000000      3.000000           NaN   \n2 Pool    a: TKN Staked Balance       101.000000  10001.000000    101.000000   \n          b: TKN Trading Liquidity     20.000000   3333.333333      1.250000   \n          c: BNT Trading Liquidity  20000.000000  20000.000000  20000.000000   \n          d: BNT Current Funding    20000.000000  20000.000000  20000.000000   \n          e: Spot Rate               1000.000000      6.000000  16000.000000   \n          f: Average Rate            1000.000000      6.000000  16000.000000   \n          g: Average Inverse Rate       0.000000      0.000000      0.000000   \n3 Network Master Vault                101.000000  10001.000000    101.000000   \n          Protection Vault              0.000000      0.000000      0.000000   \n          Protocol Equity                    NaN           NaN           NaN   \n          Rewards Vault                      NaN           NaN           NaN   \n\n                                          bnt       bneth        bnlink  \\\n1 Account Alice                           NaN  101.000000           NaN   \n          Bob                             NaN         NaN           NaN   \n          Charlie                         NaN         NaN  10001.000000   \n          Trader                    23.000000         NaN           NaN   \n2 Pool    a: TKN Staked Balance           NaN    0.000000      0.000000   \n          b: TKN Trading Liquidity        NaN    0.000000      0.000000   \n          c: BNT Trading Liquidity        NaN    0.000000      0.000000   \n          d: BNT Current Funding          NaN    0.000000      0.000000   \n          e: Spot Rate                    NaN    0.000000      0.000000   \n          f: Average Rate                 NaN    0.000000      0.000000   \n          g: Average Inverse Rate         NaN    0.000000      0.000000   \n3 Network Master Vault                    NaN         NaN           NaN   \n          Protection Vault                NaN         NaN           NaN   \n          Protocol Equity                 NaN    0.000000      0.000000   \n          Rewards Vault                   NaN    0.000000      0.000000   \n\n                                        bnwbtc  \n1 Account Alice                            NaN  \n          Bob                       101.000000  \n          Charlie                          NaN  \n          Trader                           NaN  \n2 Pool    a: TKN Staked Balance       0.000000  \n          b: TKN Trading Liquidity    0.000000  \n          c: BNT Trading Liquidity    0.000000  \n          d: BNT Current Funding      0.000000  \n          e: Spot Rate                0.000000  \n          f: Average Rate             0.000000  \n          g: Average Inverse Rate     0.000000  \n3 Network Master Vault                     NaN  \n          Protection Vault                 NaN  \n          Protocol Equity             0.000000  \n          Rewards Vault               0.000000  ",
      "text/html": "<div>\n<style scoped>\n    .dataframe tbody tr th:only-of-type {\n        vertical-align: middle;\n    }\n\n    .dataframe tbody tr th {\n        vertical-align: top;\n    }\n\n    .dataframe thead th {\n        text-align: right;\n    }\n</style>\n<table border=\"1\" class=\"dataframe\">\n  <thead>\n    <tr style=\"text-align: right;\">\n      <th></th>\n      <th></th>\n      <th></th>\n      <th>eth</th>\n      <th>link</th>\n      <th>wbtc</th>\n      <th>bnt</th>\n      <th>bneth</th>\n      <th>bnlink</th>\n      <th>bnwbtc</th>\n    </tr>\n  </thead>\n  <tbody>\n    <tr>\n      <th rowspan=\"4\" valign=\"top\">1</th>\n      <th rowspan=\"4\" valign=\"top\">Account</th>\n      <th>Alice</th>\n      <td>0.000000</td>\n      <td>NaN</td>\n      <td>NaN</td>\n      <td>NaN</td>\n      <td>101.000000</td>\n      <td>NaN</td>\n      <td>NaN</td>\n    </tr>\n    <tr>\n      <th>Bob</th>\n      <td>NaN</td>\n      <td>NaN</td>\n      <td>0.000000</td>\n      <td>NaN</td>\n      <td>NaN</td>\n      <td>NaN</td>\n      <td>101.000000</td>\n    </tr>\n    <tr>\n      <th>Charlie</th>\n      <td>NaN</td>\n      <td>0.000000</td>\n      <td>NaN</td>\n      <td>NaN</td>\n      <td>NaN</td>\n      <td>10001.000000</td>\n      <td>NaN</td>\n    </tr>\n    <tr>\n      <th>Trader</th>\n      <td>1.000000</td>\n      <td>3.000000</td>\n      <td>NaN</td>\n      <td>23.000000</td>\n      <td>NaN</td>\n      <td>NaN</td>\n      <td>NaN</td>\n    </tr>\n    <tr>\n      <th rowspan=\"7\" valign=\"top\">2</th>\n      <th rowspan=\"7\" valign=\"top\">Pool</th>\n      <th>a: TKN Staked Balance</th>\n      <td>101.000000</td>\n      <td>10001.000000</td>\n      <td>101.000000</td>\n      <td>NaN</td>\n      <td>0.000000</td>\n      <td>0.000000</td>\n      <td>0.000000</td>\n    </tr>\n    <tr>\n      <th>b: TKN Trading Liquidity</th>\n      <td>20.000000</td>\n      <td>3333.333333</td>\n      <td>1.250000</td>\n      <td>NaN</td>\n      <td>0.000000</td>\n      <td>0.000000</td>\n      <td>0.000000</td>\n    </tr>\n    <tr>\n      <th>c: BNT Trading Liquidity</th>\n      <td>20000.000000</td>\n      <td>20000.000000</td>\n      <td>20000.000000</td>\n      <td>NaN</td>\n      <td>0.000000</td>\n      <td>0.000000</td>\n      <td>0.000000</td>\n    </tr>\n    <tr>\n      <th>d: BNT Current Funding</th>\n      <td>20000.000000</td>\n      <td>20000.000000</td>\n      <td>20000.000000</td>\n      <td>NaN</td>\n      <td>0.000000</td>\n      <td>0.000000</td>\n      <td>0.000000</td>\n    </tr>\n    <tr>\n      <th>e: Spot Rate</th>\n      <td>1000.000000</td>\n      <td>6.000000</td>\n      <td>16000.000000</td>\n      <td>NaN</td>\n      <td>0.000000</td>\n      <td>0.000000</td>\n      <td>0.000000</td>\n    </tr>\n    <tr>\n      <th>f: Average Rate</th>\n      <td>1000.000000</td>\n      <td>6.000000</td>\n      <td>16000.000000</td>\n      <td>NaN</td>\n      <td>0.000000</td>\n      <td>0.000000</td>\n      <td>0.000000</td>\n    </tr>\n    <tr>\n      <th>g: Average Inverse Rate</th>\n      <td>0.000000</td>\n      <td>0.000000</td>\n      <td>0.000000</td>\n      <td>NaN</td>\n      <td>0.000000</td>\n      <td>0.000000</td>\n      <td>0.000000</td>\n    </tr>\n    <tr>\n      <th rowspan=\"4\" valign=\"top\">3</th>\n      <th rowspan=\"4\" valign=\"top\">Network</th>\n      <th>Master Vault</th>\n      <td>101.000000</td>\n      <td>10001.000000</td>\n      <td>101.000000</td>\n      <td>NaN</td>\n      <td>NaN</td>\n      <td>NaN</td>\n      <td>NaN</td>\n    </tr>\n    <tr>\n      <th>Protection Vault</th>\n      <td>0.000000</td>\n      <td>0.000000</td>\n      <td>0.000000</td>\n      <td>NaN</td>\n      <td>NaN</td>\n      <td>NaN</td>\n      <td>NaN</td>\n    </tr>\n    <tr>\n      <th>Protocol Equity</th>\n      <td>NaN</td>\n      <td>NaN</td>\n      <td>NaN</td>\n      <td>NaN</td>\n      <td>0.000000</td>\n      <td>0.000000</td>\n      <td>0.000000</td>\n    </tr>\n    <tr>\n      <th>Rewards Vault</th>\n      <td>NaN</td>\n      <td>NaN</td>\n      <td>NaN</td>\n      <td>NaN</td>\n      <td>0.000000</td>\n      <td>0.000000</td>\n      <td>0.000000</td>\n    </tr>\n  </tbody>\n</table>\n</div>"
     },
     "execution_count": 2,
     "metadata": {},
     "output_type": "execute_result"
    }
   ],
   "source": [
    "v3.describe(decimals=6)"
   ],
   "metadata": {
    "collapsed": false,
    "pycharm": {
     "name": "#%%\n"
    }
   }
  },
  {
   "cell_type": "markdown",
   "source": [
    "At genesis, the ema rate is set equal to the spot rate. Therefore, in the above scenario each of the liquidity pools began with the following rates:"
   ],
   "metadata": {
    "collapsed": false
   }
  },
  {
   "cell_type": "code",
   "execution_count": 3,
   "outputs": [
    {
     "data": {
      "text/plain": "                                           eth        link        wbtc  \\\n1 Account Alice                         0.0000         NaN         NaN   \n          Bob                              NaN         NaN      0.0000   \n          Charlie                          NaN      0.0000         NaN   \n          Trader                        1.0000      3.0000         NaN   \n2 Pool    a: TKN Staked Balance       101.0000  10001.0000    101.0000   \n          b: TKN Trading Liquidity     20.0000   3333.3333      1.2500   \n          c: BNT Trading Liquidity  20000.0000  20000.0000  20000.0000   \n          d: BNT Current Funding    20000.0000  20000.0000  20000.0000   \n          e: Spot Rate               1000.0000      6.0000  16000.0000   \n          f: Average Rate            1000.0000      6.0000  16000.0000   \n          g: Average Inverse Rate       0.0000      0.0000      0.0000   \n3 Network Master Vault                101.0000  10001.0000    101.0000   \n          Protection Vault              0.0000      0.0000      0.0000   \n          Protocol Equity                  NaN         NaN         NaN   \n          Rewards Vault                    NaN         NaN         NaN   \n\n                                        bnt     bneth      bnlink    bnwbtc  \n1 Account Alice                         NaN  101.0000         NaN       NaN  \n          Bob                           NaN       NaN         NaN  101.0000  \n          Charlie                       NaN       NaN  10001.0000       NaN  \n          Trader                    23.0000       NaN         NaN       NaN  \n2 Pool    a: TKN Staked Balance         NaN    0.0000      0.0000    0.0000  \n          b: TKN Trading Liquidity      NaN    0.0000      0.0000    0.0000  \n          c: BNT Trading Liquidity      NaN    0.0000      0.0000    0.0000  \n          d: BNT Current Funding        NaN    0.0000      0.0000    0.0000  \n          e: Spot Rate                  NaN    0.0000      0.0000    0.0000  \n          f: Average Rate               NaN    0.0000      0.0000    0.0000  \n          g: Average Inverse Rate       NaN    0.0000      0.0000    0.0000  \n3 Network Master Vault                  NaN       NaN         NaN       NaN  \n          Protection Vault              NaN       NaN         NaN       NaN  \n          Protocol Equity               NaN    0.0000      0.0000    0.0000  \n          Rewards Vault                 NaN    0.0000      0.0000    0.0000  ",
      "text/html": "<div>\n<style scoped>\n    .dataframe tbody tr th:only-of-type {\n        vertical-align: middle;\n    }\n\n    .dataframe tbody tr th {\n        vertical-align: top;\n    }\n\n    .dataframe thead th {\n        text-align: right;\n    }\n</style>\n<table border=\"1\" class=\"dataframe\">\n  <thead>\n    <tr style=\"text-align: right;\">\n      <th></th>\n      <th></th>\n      <th></th>\n      <th>eth</th>\n      <th>link</th>\n      <th>wbtc</th>\n      <th>bnt</th>\n      <th>bneth</th>\n      <th>bnlink</th>\n      <th>bnwbtc</th>\n    </tr>\n  </thead>\n  <tbody>\n    <tr>\n      <th rowspan=\"4\" valign=\"top\">1</th>\n      <th rowspan=\"4\" valign=\"top\">Account</th>\n      <th>Alice</th>\n      <td>0.0000</td>\n      <td>NaN</td>\n      <td>NaN</td>\n      <td>NaN</td>\n      <td>101.0000</td>\n      <td>NaN</td>\n      <td>NaN</td>\n    </tr>\n    <tr>\n      <th>Bob</th>\n      <td>NaN</td>\n      <td>NaN</td>\n      <td>0.0000</td>\n      <td>NaN</td>\n      <td>NaN</td>\n      <td>NaN</td>\n      <td>101.0000</td>\n    </tr>\n    <tr>\n      <th>Charlie</th>\n      <td>NaN</td>\n      <td>0.0000</td>\n      <td>NaN</td>\n      <td>NaN</td>\n      <td>NaN</td>\n      <td>10001.0000</td>\n      <td>NaN</td>\n    </tr>\n    <tr>\n      <th>Trader</th>\n      <td>1.0000</td>\n      <td>3.0000</td>\n      <td>NaN</td>\n      <td>23.0000</td>\n      <td>NaN</td>\n      <td>NaN</td>\n      <td>NaN</td>\n    </tr>\n    <tr>\n      <th rowspan=\"7\" valign=\"top\">2</th>\n      <th rowspan=\"7\" valign=\"top\">Pool</th>\n      <th>a: TKN Staked Balance</th>\n      <td>101.0000</td>\n      <td>10001.0000</td>\n      <td>101.0000</td>\n      <td>NaN</td>\n      <td>0.0000</td>\n      <td>0.0000</td>\n      <td>0.0000</td>\n    </tr>\n    <tr>\n      <th>b: TKN Trading Liquidity</th>\n      <td>20.0000</td>\n      <td>3333.3333</td>\n      <td>1.2500</td>\n      <td>NaN</td>\n      <td>0.0000</td>\n      <td>0.0000</td>\n      <td>0.0000</td>\n    </tr>\n    <tr>\n      <th>c: BNT Trading Liquidity</th>\n      <td>20000.0000</td>\n      <td>20000.0000</td>\n      <td>20000.0000</td>\n      <td>NaN</td>\n      <td>0.0000</td>\n      <td>0.0000</td>\n      <td>0.0000</td>\n    </tr>\n    <tr>\n      <th>d: BNT Current Funding</th>\n      <td>20000.0000</td>\n      <td>20000.0000</td>\n      <td>20000.0000</td>\n      <td>NaN</td>\n      <td>0.0000</td>\n      <td>0.0000</td>\n      <td>0.0000</td>\n    </tr>\n    <tr>\n      <th>e: Spot Rate</th>\n      <td>1000.0000</td>\n      <td>6.0000</td>\n      <td>16000.0000</td>\n      <td>NaN</td>\n      <td>0.0000</td>\n      <td>0.0000</td>\n      <td>0.0000</td>\n    </tr>\n    <tr>\n      <th>f: Average Rate</th>\n      <td>1000.0000</td>\n      <td>6.0000</td>\n      <td>16000.0000</td>\n      <td>NaN</td>\n      <td>0.0000</td>\n      <td>0.0000</td>\n      <td>0.0000</td>\n    </tr>\n    <tr>\n      <th>g: Average Inverse Rate</th>\n      <td>0.0000</td>\n      <td>0.0000</td>\n      <td>0.0000</td>\n      <td>NaN</td>\n      <td>0.0000</td>\n      <td>0.0000</td>\n      <td>0.0000</td>\n    </tr>\n    <tr>\n      <th rowspan=\"4\" valign=\"top\">3</th>\n      <th rowspan=\"4\" valign=\"top\">Network</th>\n      <th>Master Vault</th>\n      <td>101.0000</td>\n      <td>10001.0000</td>\n      <td>101.0000</td>\n      <td>NaN</td>\n      <td>NaN</td>\n      <td>NaN</td>\n      <td>NaN</td>\n    </tr>\n    <tr>\n      <th>Protection Vault</th>\n      <td>0.0000</td>\n      <td>0.0000</td>\n      <td>0.0000</td>\n      <td>NaN</td>\n      <td>NaN</td>\n      <td>NaN</td>\n      <td>NaN</td>\n    </tr>\n    <tr>\n      <th>Protocol Equity</th>\n      <td>NaN</td>\n      <td>NaN</td>\n      <td>NaN</td>\n      <td>NaN</td>\n      <td>0.0000</td>\n      <td>0.0000</td>\n      <td>0.0000</td>\n    </tr>\n    <tr>\n      <th>Rewards Vault</th>\n      <td>NaN</td>\n      <td>NaN</td>\n      <td>NaN</td>\n      <td>NaN</td>\n      <td>0.0000</td>\n      <td>0.0000</td>\n      <td>0.0000</td>\n    </tr>\n  </tbody>\n</table>\n</div>"
     },
     "execution_count": 3,
     "metadata": {},
     "output_type": "execute_result"
    }
   ],
   "source": [
    "v3.describe(decimals=4)"
   ],
   "metadata": {
    "collapsed": false,
    "pycharm": {
     "name": "#%%\n"
    }
   }
  },
  {
   "cell_type": "markdown",
   "source": [
    "However, the trading situations do have an effect. To demonstrate, assume that the trades described above happen on consecutive blocks. For the LINK trading pool, both the spot rate and the ema begin at 6, as set at the genesis of the pool. Since the ema is adjusted before the trade is executed, the first trade has no effect on the ema; the spot price changes as expected. The new spot price becomes relevant in the next block, as the ema is updated prior to performing the second trade. First, the ema is updated using the new spot rate, then the second trade is processed. In this example, the lag of the ema means there is a significant gap between it and the spot price after the first block; however, the adjustment in the second block, prior to executing the second trade, results in a close agreement thereafter."
   ],
   "metadata": {
    "collapsed": false,
    "pycharm": {
     "name": "#%% md\n"
    }
   }
  },
  {
   "cell_type": "code",
   "execution_count": 4,
   "outputs": [
    {
     "data": {
      "text/plain": "                                           eth        link        wbtc  \\\n1 Account Alice                         0.0000         NaN         NaN   \n          Bob                              NaN         NaN      0.0000   \n          Charlie                          NaN      0.0000         NaN   \n          Trader                        1.0000    303.0000         NaN   \n2 Pool    a: TKN Staked Balance       101.0000  10003.4242    101.0000   \n          b: TKN Trading Liquidity     20.0000   3033.3333      1.2500   \n          c: BNT Trading Liquidity  20000.0000  21995.6044  20000.0000   \n          d: BNT Current Funding    20000.0000  20000.0000  20000.0000   \n          e: Spot Rate               1000.0000      7.2513  16000.0000   \n          f: Average Rate            1000.0000      6.0000  16000.0000   \n          g: Average Inverse Rate       0.0000      0.0000      0.0000   \n3 Network Master Vault                101.0000   9701.0000    101.0000   \n          Protection Vault              0.0000      0.0000      0.0000   \n          Protocol Equity                  NaN         NaN         NaN   \n          Rewards Vault                    NaN         NaN         NaN   \n\n                                           bnt     bneth      bnlink    bnwbtc  \n1 Account Alice                            NaN  101.0000         NaN       NaN  \n          Bob                              NaN       NaN         NaN  101.0000  \n          Charlie                          NaN       NaN  10001.0000       NaN  \n          Trader                    -1977.0000       NaN         NaN       NaN  \n2 Pool    a: TKN Staked Balance            NaN    0.0000      0.0000    0.0000  \n          b: TKN Trading Liquidity         NaN    0.0000      0.0000    0.0000  \n          c: BNT Trading Liquidity         NaN    0.0000      0.0000    0.0000  \n          d: BNT Current Funding           NaN    0.0000      0.0000    0.0000  \n          e: Spot Rate                     NaN    0.0000      0.0000    0.0000  \n          f: Average Rate                  NaN    0.0000      0.0000    0.0000  \n          g: Average Inverse Rate          NaN    0.0000      0.0000    0.0000  \n3 Network Master Vault                     NaN       NaN         NaN       NaN  \n          Protection Vault                 NaN       NaN         NaN       NaN  \n          Protocol Equity                  NaN    0.0000      0.0000    0.0000  \n          Rewards Vault                    NaN    0.0000      0.0000    0.0000  ",
      "text/html": "<div>\n<style scoped>\n    .dataframe tbody tr th:only-of-type {\n        vertical-align: middle;\n    }\n\n    .dataframe tbody tr th {\n        vertical-align: top;\n    }\n\n    .dataframe thead th {\n        text-align: right;\n    }\n</style>\n<table border=\"1\" class=\"dataframe\">\n  <thead>\n    <tr style=\"text-align: right;\">\n      <th></th>\n      <th></th>\n      <th></th>\n      <th>eth</th>\n      <th>link</th>\n      <th>wbtc</th>\n      <th>bnt</th>\n      <th>bneth</th>\n      <th>bnlink</th>\n      <th>bnwbtc</th>\n    </tr>\n  </thead>\n  <tbody>\n    <tr>\n      <th rowspan=\"4\" valign=\"top\">1</th>\n      <th rowspan=\"4\" valign=\"top\">Account</th>\n      <th>Alice</th>\n      <td>0.0000</td>\n      <td>NaN</td>\n      <td>NaN</td>\n      <td>NaN</td>\n      <td>101.0000</td>\n      <td>NaN</td>\n      <td>NaN</td>\n    </tr>\n    <tr>\n      <th>Bob</th>\n      <td>NaN</td>\n      <td>NaN</td>\n      <td>0.0000</td>\n      <td>NaN</td>\n      <td>NaN</td>\n      <td>NaN</td>\n      <td>101.0000</td>\n    </tr>\n    <tr>\n      <th>Charlie</th>\n      <td>NaN</td>\n      <td>0.0000</td>\n      <td>NaN</td>\n      <td>NaN</td>\n      <td>NaN</td>\n      <td>10001.0000</td>\n      <td>NaN</td>\n    </tr>\n    <tr>\n      <th>Trader</th>\n      <td>1.0000</td>\n      <td>303.0000</td>\n      <td>NaN</td>\n      <td>-1977.0000</td>\n      <td>NaN</td>\n      <td>NaN</td>\n      <td>NaN</td>\n    </tr>\n    <tr>\n      <th rowspan=\"7\" valign=\"top\">2</th>\n      <th rowspan=\"7\" valign=\"top\">Pool</th>\n      <th>a: TKN Staked Balance</th>\n      <td>101.0000</td>\n      <td>10003.4242</td>\n      <td>101.0000</td>\n      <td>NaN</td>\n      <td>0.0000</td>\n      <td>0.0000</td>\n      <td>0.0000</td>\n    </tr>\n    <tr>\n      <th>b: TKN Trading Liquidity</th>\n      <td>20.0000</td>\n      <td>3033.3333</td>\n      <td>1.2500</td>\n      <td>NaN</td>\n      <td>0.0000</td>\n      <td>0.0000</td>\n      <td>0.0000</td>\n    </tr>\n    <tr>\n      <th>c: BNT Trading Liquidity</th>\n      <td>20000.0000</td>\n      <td>21995.6044</td>\n      <td>20000.0000</td>\n      <td>NaN</td>\n      <td>0.0000</td>\n      <td>0.0000</td>\n      <td>0.0000</td>\n    </tr>\n    <tr>\n      <th>d: BNT Current Funding</th>\n      <td>20000.0000</td>\n      <td>20000.0000</td>\n      <td>20000.0000</td>\n      <td>NaN</td>\n      <td>0.0000</td>\n      <td>0.0000</td>\n      <td>0.0000</td>\n    </tr>\n    <tr>\n      <th>e: Spot Rate</th>\n      <td>1000.0000</td>\n      <td>7.2513</td>\n      <td>16000.0000</td>\n      <td>NaN</td>\n      <td>0.0000</td>\n      <td>0.0000</td>\n      <td>0.0000</td>\n    </tr>\n    <tr>\n      <th>f: Average Rate</th>\n      <td>1000.0000</td>\n      <td>6.0000</td>\n      <td>16000.0000</td>\n      <td>NaN</td>\n      <td>0.0000</td>\n      <td>0.0000</td>\n      <td>0.0000</td>\n    </tr>\n    <tr>\n      <th>g: Average Inverse Rate</th>\n      <td>0.0000</td>\n      <td>0.0000</td>\n      <td>0.0000</td>\n      <td>NaN</td>\n      <td>0.0000</td>\n      <td>0.0000</td>\n      <td>0.0000</td>\n    </tr>\n    <tr>\n      <th rowspan=\"4\" valign=\"top\">3</th>\n      <th rowspan=\"4\" valign=\"top\">Network</th>\n      <th>Master Vault</th>\n      <td>101.0000</td>\n      <td>9701.0000</td>\n      <td>101.0000</td>\n      <td>NaN</td>\n      <td>NaN</td>\n      <td>NaN</td>\n      <td>NaN</td>\n    </tr>\n    <tr>\n      <th>Protection Vault</th>\n      <td>0.0000</td>\n      <td>0.0000</td>\n      <td>0.0000</td>\n      <td>NaN</td>\n      <td>NaN</td>\n      <td>NaN</td>\n      <td>NaN</td>\n    </tr>\n    <tr>\n      <th>Protocol Equity</th>\n      <td>NaN</td>\n      <td>NaN</td>\n      <td>NaN</td>\n      <td>NaN</td>\n      <td>0.0000</td>\n      <td>0.0000</td>\n      <td>0.0000</td>\n    </tr>\n    <tr>\n      <th>Rewards Vault</th>\n      <td>NaN</td>\n      <td>NaN</td>\n      <td>NaN</td>\n      <td>NaN</td>\n      <td>0.0000</td>\n      <td>0.0000</td>\n      <td>0.0000</td>\n    </tr>\n  </tbody>\n</table>\n</div>"
     },
     "execution_count": 4,
     "metadata": {},
     "output_type": "execute_result"
    }
   ],
   "source": [
    "timestep = v3.global_state.timestamp\n",
    "\n",
    "v3.trade(tkn_amt='2000', source_token='bnt',  target_token='link', user_name='Trader', timestamp=timestep)\n",
    "\n",
    "v3.describe(decimals=4)"
   ],
   "metadata": {
    "collapsed": false,
    "pycharm": {
     "name": "#%%\n"
    }
   }
  },
  {
   "cell_type": "code",
   "execution_count": 5,
   "outputs": [
    {
     "data": {
      "text/plain": "                                           eth        link        wbtc  \\\n1 Account Alice                         0.0000         NaN         NaN   \n          Bob                              NaN         NaN      0.0000   \n          Charlie                          NaN      0.0000         NaN   \n          Trader                        1.0000      0.0019         NaN   \n2 Pool    a: TKN Staked Balance       101.0000  10003.4242    101.0000   \n          b: TKN Trading Liquidity     20.0000   3336.3314      1.2500   \n          c: BNT Trading Liquidity  20000.0000  20013.9939  20000.0000   \n          d: BNT Current Funding    20000.0000  20015.9807  20000.0000   \n          e: Spot Rate               1000.0000      5.9988  16000.0000   \n          f: Average Rate            1000.0000      6.2503  16000.0000   \n          g: Average Inverse Rate       0.0000      0.0000      0.0000   \n3 Network Master Vault                101.0000  10003.9981    101.0000   \n          Protection Vault              0.0000      0.0000      0.0000   \n          Protocol Equity                  NaN         NaN         NaN   \n          Rewards Vault                    NaN         NaN         NaN   \n\n                                       bnt     bneth      bnlink    bnwbtc  \n1 Account Alice                        NaN  101.0000         NaN       NaN  \n          Bob                          NaN       NaN         NaN  101.0000  \n          Charlie                      NaN       NaN  10001.0000       NaN  \n          Trader                    0.6153       NaN         NaN       NaN  \n2 Pool    a: TKN Staked Balance        NaN    0.0000      0.0000    0.0000  \n          b: TKN Trading Liquidity     NaN    0.0000      0.0000    0.0000  \n          c: BNT Trading Liquidity     NaN    0.0000      0.0000    0.0000  \n          d: BNT Current Funding       NaN    0.0000      0.0000    0.0000  \n          e: Spot Rate                 NaN    0.0000      0.0000    0.0000  \n          f: Average Rate              NaN    0.0000      0.0000    0.0000  \n          g: Average Inverse Rate      NaN    0.0000      0.0000    0.0000  \n3 Network Master Vault                 NaN       NaN         NaN       NaN  \n          Protection Vault             NaN       NaN         NaN       NaN  \n          Protocol Equity              NaN    0.0000      0.0000    0.0000  \n          Rewards Vault                NaN    0.0000      0.0000    0.0000  ",
      "text/html": "<div>\n<style scoped>\n    .dataframe tbody tr th:only-of-type {\n        vertical-align: middle;\n    }\n\n    .dataframe tbody tr th {\n        vertical-align: top;\n    }\n\n    .dataframe thead th {\n        text-align: right;\n    }\n</style>\n<table border=\"1\" class=\"dataframe\">\n  <thead>\n    <tr style=\"text-align: right;\">\n      <th></th>\n      <th></th>\n      <th></th>\n      <th>eth</th>\n      <th>link</th>\n      <th>wbtc</th>\n      <th>bnt</th>\n      <th>bneth</th>\n      <th>bnlink</th>\n      <th>bnwbtc</th>\n    </tr>\n  </thead>\n  <tbody>\n    <tr>\n      <th rowspan=\"4\" valign=\"top\">1</th>\n      <th rowspan=\"4\" valign=\"top\">Account</th>\n      <th>Alice</th>\n      <td>0.0000</td>\n      <td>NaN</td>\n      <td>NaN</td>\n      <td>NaN</td>\n      <td>101.0000</td>\n      <td>NaN</td>\n      <td>NaN</td>\n    </tr>\n    <tr>\n      <th>Bob</th>\n      <td>NaN</td>\n      <td>NaN</td>\n      <td>0.0000</td>\n      <td>NaN</td>\n      <td>NaN</td>\n      <td>NaN</td>\n      <td>101.0000</td>\n    </tr>\n    <tr>\n      <th>Charlie</th>\n      <td>NaN</td>\n      <td>0.0000</td>\n      <td>NaN</td>\n      <td>NaN</td>\n      <td>NaN</td>\n      <td>10001.0000</td>\n      <td>NaN</td>\n    </tr>\n    <tr>\n      <th>Trader</th>\n      <td>1.0000</td>\n      <td>0.0019</td>\n      <td>NaN</td>\n      <td>0.6153</td>\n      <td>NaN</td>\n      <td>NaN</td>\n      <td>NaN</td>\n    </tr>\n    <tr>\n      <th rowspan=\"7\" valign=\"top\">2</th>\n      <th rowspan=\"7\" valign=\"top\">Pool</th>\n      <th>a: TKN Staked Balance</th>\n      <td>101.0000</td>\n      <td>10003.4242</td>\n      <td>101.0000</td>\n      <td>NaN</td>\n      <td>0.0000</td>\n      <td>0.0000</td>\n      <td>0.0000</td>\n    </tr>\n    <tr>\n      <th>b: TKN Trading Liquidity</th>\n      <td>20.0000</td>\n      <td>3336.3314</td>\n      <td>1.2500</td>\n      <td>NaN</td>\n      <td>0.0000</td>\n      <td>0.0000</td>\n      <td>0.0000</td>\n    </tr>\n    <tr>\n      <th>c: BNT Trading Liquidity</th>\n      <td>20000.0000</td>\n      <td>20013.9939</td>\n      <td>20000.0000</td>\n      <td>NaN</td>\n      <td>0.0000</td>\n      <td>0.0000</td>\n      <td>0.0000</td>\n    </tr>\n    <tr>\n      <th>d: BNT Current Funding</th>\n      <td>20000.0000</td>\n      <td>20015.9807</td>\n      <td>20000.0000</td>\n      <td>NaN</td>\n      <td>0.0000</td>\n      <td>0.0000</td>\n      <td>0.0000</td>\n    </tr>\n    <tr>\n      <th>e: Spot Rate</th>\n      <td>1000.0000</td>\n      <td>5.9988</td>\n      <td>16000.0000</td>\n      <td>NaN</td>\n      <td>0.0000</td>\n      <td>0.0000</td>\n      <td>0.0000</td>\n    </tr>\n    <tr>\n      <th>f: Average Rate</th>\n      <td>1000.0000</td>\n      <td>6.2503</td>\n      <td>16000.0000</td>\n      <td>NaN</td>\n      <td>0.0000</td>\n      <td>0.0000</td>\n      <td>0.0000</td>\n    </tr>\n    <tr>\n      <th>g: Average Inverse Rate</th>\n      <td>0.0000</td>\n      <td>0.0000</td>\n      <td>0.0000</td>\n      <td>NaN</td>\n      <td>0.0000</td>\n      <td>0.0000</td>\n      <td>0.0000</td>\n    </tr>\n    <tr>\n      <th rowspan=\"4\" valign=\"top\">3</th>\n      <th rowspan=\"4\" valign=\"top\">Network</th>\n      <th>Master Vault</th>\n      <td>101.0000</td>\n      <td>10003.9981</td>\n      <td>101.0000</td>\n      <td>NaN</td>\n      <td>NaN</td>\n      <td>NaN</td>\n      <td>NaN</td>\n    </tr>\n    <tr>\n      <th>Protection Vault</th>\n      <td>0.0000</td>\n      <td>0.0000</td>\n      <td>0.0000</td>\n      <td>NaN</td>\n      <td>NaN</td>\n      <td>NaN</td>\n      <td>NaN</td>\n    </tr>\n    <tr>\n      <th>Protocol Equity</th>\n      <td>NaN</td>\n      <td>NaN</td>\n      <td>NaN</td>\n      <td>NaN</td>\n      <td>0.0000</td>\n      <td>0.0000</td>\n      <td>0.0000</td>\n    </tr>\n    <tr>\n      <th>Rewards Vault</th>\n      <td>NaN</td>\n      <td>NaN</td>\n      <td>NaN</td>\n      <td>NaN</td>\n      <td>0.0000</td>\n      <td>0.0000</td>\n      <td>0.0000</td>\n    </tr>\n  </tbody>\n</table>\n</div>"
     },
     "execution_count": 5,
     "metadata": {},
     "output_type": "execute_result"
    }
   ],
   "source": [
    "v3.trade(tkn_amt='302.9981', source_token='link',  target_token='bnt', user_name='Trader', timestamp=timestep + 1)\n",
    "v3.describe(decimals=4)"
   ],
   "metadata": {
    "collapsed": false,
    "pycharm": {
     "name": "#%%\n"
    }
   }
  },
  {
   "cell_type": "code",
   "execution_count": 6,
   "outputs": [
    {
     "data": {
      "text/plain": "                                           eth        link        wbtc  \\\n1 Account Alice                         0.0000         NaN         NaN   \n          Bob                              NaN         NaN      0.0000   \n          Charlie                          NaN      0.0000         NaN   \n          Trader                        0.0000      0.0019      0.0557   \n2 Pool    a: TKN Staked Balance       101.0000  10003.4242    101.0005   \n          b: TKN Trading Liquidity     21.0000   3336.3314      1.1943   \n          c: BNT Trading Liquidity  19055.2381  20013.9939  20940.8835   \n          d: BNT Current Funding    20007.6190  20015.9807  20000.0000   \n          e: Spot Rate                907.3923      5.9988  17534.2111   \n          f: Average Rate            1000.0000      6.2503  16000.0000   \n          g: Average Inverse Rate       0.0000      0.0000      0.0000   \n3 Network Master Vault                102.0000  10003.9981    100.9443   \n          Protection Vault              0.0000      0.0000      0.0000   \n          Protocol Equity                  NaN         NaN         NaN   \n          Rewards Vault                    NaN         NaN         NaN   \n\n                                       bnt     bneth      bnlink    bnwbtc  \n1 Account Alice                        NaN  101.0000         NaN       NaN  \n          Bob                          NaN       NaN         NaN  101.0000  \n          Charlie                      NaN       NaN  10001.0000       NaN  \n          Trader                    0.6153       NaN         NaN       NaN  \n2 Pool    a: TKN Staked Balance        NaN    0.0000      0.0000    0.0000  \n          b: TKN Trading Liquidity     NaN    0.0000      0.0000    0.0000  \n          c: BNT Trading Liquidity     NaN    0.0000      0.0000    0.0000  \n          d: BNT Current Funding       NaN    0.0000      0.0000    0.0000  \n          e: Spot Rate                 NaN    0.0000      0.0000    0.0000  \n          f: Average Rate              NaN    0.0000      0.0000    0.0000  \n          g: Average Inverse Rate      NaN    0.0000      0.0000    0.0000  \n3 Network Master Vault                 NaN       NaN         NaN       NaN  \n          Protection Vault             NaN       NaN         NaN       NaN  \n          Protocol Equity              NaN    0.0000      0.0000    0.0000  \n          Rewards Vault                NaN    0.0000      0.0000    0.0000  ",
      "text/html": "<div>\n<style scoped>\n    .dataframe tbody tr th:only-of-type {\n        vertical-align: middle;\n    }\n\n    .dataframe tbody tr th {\n        vertical-align: top;\n    }\n\n    .dataframe thead th {\n        text-align: right;\n    }\n</style>\n<table border=\"1\" class=\"dataframe\">\n  <thead>\n    <tr style=\"text-align: right;\">\n      <th></th>\n      <th></th>\n      <th></th>\n      <th>eth</th>\n      <th>link</th>\n      <th>wbtc</th>\n      <th>bnt</th>\n      <th>bneth</th>\n      <th>bnlink</th>\n      <th>bnwbtc</th>\n    </tr>\n  </thead>\n  <tbody>\n    <tr>\n      <th rowspan=\"4\" valign=\"top\">1</th>\n      <th rowspan=\"4\" valign=\"top\">Account</th>\n      <th>Alice</th>\n      <td>0.0000</td>\n      <td>NaN</td>\n      <td>NaN</td>\n      <td>NaN</td>\n      <td>101.0000</td>\n      <td>NaN</td>\n      <td>NaN</td>\n    </tr>\n    <tr>\n      <th>Bob</th>\n      <td>NaN</td>\n      <td>NaN</td>\n      <td>0.0000</td>\n      <td>NaN</td>\n      <td>NaN</td>\n      <td>NaN</td>\n      <td>101.0000</td>\n    </tr>\n    <tr>\n      <th>Charlie</th>\n      <td>NaN</td>\n      <td>0.0000</td>\n      <td>NaN</td>\n      <td>NaN</td>\n      <td>NaN</td>\n      <td>10001.0000</td>\n      <td>NaN</td>\n    </tr>\n    <tr>\n      <th>Trader</th>\n      <td>0.0000</td>\n      <td>0.0019</td>\n      <td>0.0557</td>\n      <td>0.6153</td>\n      <td>NaN</td>\n      <td>NaN</td>\n      <td>NaN</td>\n    </tr>\n    <tr>\n      <th rowspan=\"7\" valign=\"top\">2</th>\n      <th rowspan=\"7\" valign=\"top\">Pool</th>\n      <th>a: TKN Staked Balance</th>\n      <td>101.0000</td>\n      <td>10003.4242</td>\n      <td>101.0005</td>\n      <td>NaN</td>\n      <td>0.0000</td>\n      <td>0.0000</td>\n      <td>0.0000</td>\n    </tr>\n    <tr>\n      <th>b: TKN Trading Liquidity</th>\n      <td>21.0000</td>\n      <td>3336.3314</td>\n      <td>1.1943</td>\n      <td>NaN</td>\n      <td>0.0000</td>\n      <td>0.0000</td>\n      <td>0.0000</td>\n    </tr>\n    <tr>\n      <th>c: BNT Trading Liquidity</th>\n      <td>19055.2381</td>\n      <td>20013.9939</td>\n      <td>20940.8835</td>\n      <td>NaN</td>\n      <td>0.0000</td>\n      <td>0.0000</td>\n      <td>0.0000</td>\n    </tr>\n    <tr>\n      <th>d: BNT Current Funding</th>\n      <td>20007.6190</td>\n      <td>20015.9807</td>\n      <td>20000.0000</td>\n      <td>NaN</td>\n      <td>0.0000</td>\n      <td>0.0000</td>\n      <td>0.0000</td>\n    </tr>\n    <tr>\n      <th>e: Spot Rate</th>\n      <td>907.3923</td>\n      <td>5.9988</td>\n      <td>17534.2111</td>\n      <td>NaN</td>\n      <td>0.0000</td>\n      <td>0.0000</td>\n      <td>0.0000</td>\n    </tr>\n    <tr>\n      <th>f: Average Rate</th>\n      <td>1000.0000</td>\n      <td>6.2503</td>\n      <td>16000.0000</td>\n      <td>NaN</td>\n      <td>0.0000</td>\n      <td>0.0000</td>\n      <td>0.0000</td>\n    </tr>\n    <tr>\n      <th>g: Average Inverse Rate</th>\n      <td>0.0000</td>\n      <td>0.0000</td>\n      <td>0.0000</td>\n      <td>NaN</td>\n      <td>0.0000</td>\n      <td>0.0000</td>\n      <td>0.0000</td>\n    </tr>\n    <tr>\n      <th rowspan=\"4\" valign=\"top\">3</th>\n      <th rowspan=\"4\" valign=\"top\">Network</th>\n      <th>Master Vault</th>\n      <td>102.0000</td>\n      <td>10003.9981</td>\n      <td>100.9443</td>\n      <td>NaN</td>\n      <td>NaN</td>\n      <td>NaN</td>\n      <td>NaN</td>\n    </tr>\n    <tr>\n      <th>Protection Vault</th>\n      <td>0.0000</td>\n      <td>0.0000</td>\n      <td>0.0000</td>\n      <td>NaN</td>\n      <td>NaN</td>\n      <td>NaN</td>\n      <td>NaN</td>\n    </tr>\n    <tr>\n      <th>Protocol Equity</th>\n      <td>NaN</td>\n      <td>NaN</td>\n      <td>NaN</td>\n      <td>NaN</td>\n      <td>0.0000</td>\n      <td>0.0000</td>\n      <td>0.0000</td>\n    </tr>\n    <tr>\n      <th>Rewards Vault</th>\n      <td>NaN</td>\n      <td>NaN</td>\n      <td>NaN</td>\n      <td>NaN</td>\n      <td>0.0000</td>\n      <td>0.0000</td>\n      <td>0.0000</td>\n    </tr>\n  </tbody>\n</table>\n</div>"
     },
     "execution_count": 6,
     "metadata": {},
     "output_type": "execute_result"
    }
   ],
   "source": [
    "v3.trade(tkn_amt='1', source_token='eth',  target_token='wbtc', user_name='Trader', timestamp=timestep)\n",
    "v3.describe(decimals=4)"
   ],
   "metadata": {
    "collapsed": false,
    "pycharm": {
     "name": "#%%\n"
    }
   }
  }
 ],
 "metadata": {
  "kernelspec": {
   "name": "python3",
   "language": "python",
   "display_name": "Python 3 (ipykernel)"
  },
  "language_info": {
   "codemirror_mode": {
    "name": "ipython",
    "version": 3
   },
   "file_extension": ".py",
   "mimetype": "text/x-python",
   "name": "python",
   "nbconvert_exporter": "python",
   "pygments_lexer": "ipython3",
   "version": "3.8.5"
  }
 },
 "nbformat": 4,
 "nbformat_minor": 2
}