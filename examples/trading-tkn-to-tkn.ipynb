{
 "cells": [
  {
   "cell_type": "code",
   "execution_count": 1,
   "metadata": {
    "tags": [
     "remove-input"
    ]
   },
   "outputs": [
    {
     "name": "stdout",
     "output_type": "stream",
     "text": [
      "Bootstrap requirements met for eth\n",
      "Bootstrap requirements met for wbtc\n",
      "Bootstrap requirements met for link\n"
     ]
    }
   ],
   "source": [
    "from datascience import *\n",
    "from datascience.predicates import are\n",
    "path_data = '../../../../data/'\n",
    "import numpy as np\n",
    "import matplotlib\n",
    "matplotlib.use('Agg')\n",
    "%matplotlib inline\n",
    "import matplotlib.pyplot as plots\n",
    "plots.style.use('fivethirtyeight')\n",
    "import warnings\n",
    "warnings.simplefilter(action=\"ignore\", category=FutureWarning)\n",
    "\n",
    "from urllib.request import urlopen \n",
    "import re\n",
    "from bancor_research.bancor_simulator.v3.spec.network import BancorDapp\n",
    "\n",
    "# Recall from an earlier chapter that we already defined the whitelisted_tokens as follows.\n",
    "whitelisted_tokens: list = ['bnt', 'eth', 'wbtc', 'link']\n",
    "\n",
    "# There are other possible configuration settings available, however for the present purpose we will use the defaults.\n",
    "v3 = BancorDapp(whitelisted_tokens=whitelisted_tokens)\n",
    "\n",
    "v3.create_user('Trader')\n",
    "\n",
    "v3.set_user_balance(tkn_amt=101, tkn_name='eth', user_name='Alice')\n",
    "v3.set_user_balance(tkn_amt=101, tkn_name='wbtc', user_name='Bob')\n",
    "v3.set_user_balance(tkn_amt=10001, tkn_name='link', user_name='Charlie')\n",
    "v3.set_user_balance(tkn_amt=2000, tkn_name='bnt', user_name='Trader')\n",
    "v3.set_user_balance(tkn_amt=1, tkn_name='eth', user_name='Trader')\n",
    "v3.set_user_balance(tkn_amt=303, tkn_name='link', user_name='Trader')\n",
    "\n",
    "# The actual deposits.\n",
    "\n",
    "v3.deposit(tkn_amt=100, tkn_name='eth', user_name='Alice')\n",
    "\n",
    "v3.deposit(tkn_amt=10000, tkn_name='link', user_name='Charlie')\n",
    "\n",
    "v3.deposit(tkn_amt=100, tkn_name='wbtc', user_name='Bob')\n",
    "\n",
    "v3.deposit(tkn_amt=1, tkn_name='eth', user_name='Alice')\n",
    "\n",
    "v3.deposit(tkn_amt=1, tkn_name='link', user_name='Charlie')\n",
    "\n",
    "v3.deposit(tkn_amt=1, tkn_name='wbtc', user_name='Bob')\n",
    "\n",
    "v3.dao_msig_init_pools(whitelisted_tokens, 'bnt')\n",
    "\n",
    "v3.trade(tkn_amt=2000, source_token='bnt',  target_token='link', user_name='Trader', timestamp=0)\n",
    "\n",
    "v3.trade(tkn_amt=302.9981, source_token='link',  target_token='bnt', user_name='Trader', timestamp=0)\n",
    "\n",
    "def read_url(url): \n",
    "    return re.sub('\\\\s+', ' ', urlopen(url).read().decode())"
   ]
  },
  {
   "cell_type": "code",
   "execution_count": 2,
   "outputs": [
    {
     "data": {
      "text/plain": "                   Trading Liquidity              Vault            Staking  \\\n0     bnt=20000.000000 eth=20.000000      bnt=22.384703      bnt=15.980730   \n1     bnt=20000.000000 wbtc=1.250000     eth=101.000000     eth=101.000000   \n2  bnt=20013.993917 link=3336.331433    wbtc=101.000000    wbtc=101.000000   \n3                                     link=10003.998100  link=10003.424242   \n\n       ERC20 Contracts        Vortex External Protection Protocol WalletState  \n0       bnbnt=0.000000  bnt=8.390787        bnt=0.000000   bnbnt=20000.000000  \n1     bneth=101.000000                      eth=0.000000                       \n2    bnwbtc=101.000000                     wbtc=0.000000                       \n3  bnlink=10001.000000                     link=0.000000                       ",
      "text/html": "<div>\n<style scoped>\n    .dataframe tbody tr th:only-of-type {\n        vertical-align: middle;\n    }\n\n    .dataframe tbody tr th {\n        vertical-align: top;\n    }\n\n    .dataframe thead th {\n        text-align: right;\n    }\n</style>\n<table border=\"1\" class=\"dataframe\">\n  <thead>\n    <tr style=\"text-align: right;\">\n      <th></th>\n      <th>Trading Liquidity</th>\n      <th>Vault</th>\n      <th>Staking</th>\n      <th>ERC20 Contracts</th>\n      <th>Vortex</th>\n      <th>External Protection</th>\n      <th>Protocol WalletState</th>\n    </tr>\n  </thead>\n  <tbody>\n    <tr>\n      <th>0</th>\n      <td>bnt=20000.000000 eth=20.000000</td>\n      <td>bnt=22.384703</td>\n      <td>bnt=15.980730</td>\n      <td>bnbnt=0.000000</td>\n      <td>bnt=8.390787</td>\n      <td>bnt=0.000000</td>\n      <td>bnbnt=20000.000000</td>\n    </tr>\n    <tr>\n      <th>1</th>\n      <td>bnt=20000.000000 wbtc=1.250000</td>\n      <td>eth=101.000000</td>\n      <td>eth=101.000000</td>\n      <td>bneth=101.000000</td>\n      <td></td>\n      <td>eth=0.000000</td>\n      <td></td>\n    </tr>\n    <tr>\n      <th>2</th>\n      <td>bnt=20013.993917 link=3336.331433</td>\n      <td>wbtc=101.000000</td>\n      <td>wbtc=101.000000</td>\n      <td>bnwbtc=101.000000</td>\n      <td></td>\n      <td>wbtc=0.000000</td>\n      <td></td>\n    </tr>\n    <tr>\n      <th>3</th>\n      <td></td>\n      <td>link=10003.998100</td>\n      <td>link=10003.424242</td>\n      <td>bnlink=10001.000000</td>\n      <td></td>\n      <td>link=0.000000</td>\n      <td></td>\n    </tr>\n  </tbody>\n</table>\n</div>"
     },
     "execution_count": 2,
     "metadata": {},
     "output_type": "execute_result"
    }
   ],
   "source": [
    "v3.describe()"
   ],
   "metadata": {
    "collapsed": false,
    "pycharm": {
     "name": "#%%\n"
    }
   }
  },
  {
   "cell_type": "markdown",
   "metadata": {},
   "source": [
    "# Trading and Fees - TKN to TKN\n",
    "\n",
    "Assume now that a trader wishes to exchange 1 ETH for wBTC. From their perspective the process is similar to that\n",
    "described above. A total of 1 ETH tokens are sent into the vault, and the vault sends 0.055712824 wBTC tokens back, and the change in the vault balances agree with the trader's intuition (as before). However, this situation compounds the effects described in the previous two sections. The changes in the trading liquidity balances, and the accumulation of value to the vortex ledger, can be deduced by considering the two separate legs of the process:\n",
    "\n",
    "1. Swap 1 ETH for 942.857143 BNT\n",
    "\n",
    "   - Add 7.619047619 BNT to the staking ledger\n",
    "\n",
    "   - Add 1.904761905 BNT to the vortex ledger\n",
    "\n",
    "2. Swap 942.857143 BNT for 0.055712824 wBTC\n",
    "\n",
    "   - Add 0.000450205 wBTC to the staking ledger\n",
    "\n",
    "   - Add 1.973681795 BNT to the vortex ledger"
   ]
  },
  {
   "cell_type": "code",
   "execution_count": 3,
   "outputs": [
    {
     "data": {
      "text/plain": "               Trading Liquidity            Vault          Staking  \\\n0     bnt=19055.2381 eth=21.0000      bnt=22.3847      bnt=23.5998   \n1     bnt=20940.8835 wbtc=1.1943     eth=102.0000     eth=101.0000   \n2  bnt=20013.9939 link=3336.3314    wbtc=100.9443    wbtc=101.0005   \n3                                 link=10003.9981  link=10003.4242   \n\n     ERC20 Contracts       Vortex External Protection Protocol WalletState  \n0       bnbnt=0.0000  bnt=12.2692          bnt=0.0000     bnbnt=20000.0000  \n1     bneth=101.0000                       eth=0.0000                       \n2    bnwbtc=101.0000                      wbtc=0.0000                       \n3  bnlink=10001.0000                      link=0.0000                       ",
      "text/html": "<div>\n<style scoped>\n    .dataframe tbody tr th:only-of-type {\n        vertical-align: middle;\n    }\n\n    .dataframe tbody tr th {\n        vertical-align: top;\n    }\n\n    .dataframe thead th {\n        text-align: right;\n    }\n</style>\n<table border=\"1\" class=\"dataframe\">\n  <thead>\n    <tr style=\"text-align: right;\">\n      <th></th>\n      <th>Trading Liquidity</th>\n      <th>Vault</th>\n      <th>Staking</th>\n      <th>ERC20 Contracts</th>\n      <th>Vortex</th>\n      <th>External Protection</th>\n      <th>Protocol WalletState</th>\n    </tr>\n  </thead>\n  <tbody>\n    <tr>\n      <th>0</th>\n      <td>bnt=19055.2381 eth=21.0000</td>\n      <td>bnt=22.3847</td>\n      <td>bnt=23.5998</td>\n      <td>bnbnt=0.0000</td>\n      <td>bnt=12.2692</td>\n      <td>bnt=0.0000</td>\n      <td>bnbnt=20000.0000</td>\n    </tr>\n    <tr>\n      <th>1</th>\n      <td>bnt=20940.8835 wbtc=1.1943</td>\n      <td>eth=102.0000</td>\n      <td>eth=101.0000</td>\n      <td>bneth=101.0000</td>\n      <td></td>\n      <td>eth=0.0000</td>\n      <td></td>\n    </tr>\n    <tr>\n      <th>2</th>\n      <td>bnt=20013.9939 link=3336.3314</td>\n      <td>wbtc=100.9443</td>\n      <td>wbtc=101.0005</td>\n      <td>bnwbtc=101.0000</td>\n      <td></td>\n      <td>wbtc=0.0000</td>\n      <td></td>\n    </tr>\n    <tr>\n      <th>3</th>\n      <td></td>\n      <td>link=10003.9981</td>\n      <td>link=10003.4242</td>\n      <td>bnlink=10001.0000</td>\n      <td></td>\n      <td>link=0.0000</td>\n      <td></td>\n    </tr>\n  </tbody>\n</table>\n</div>"
     },
     "execution_count": 3,
     "metadata": {},
     "output_type": "execute_result"
    }
   ],
   "source": [
    "\n",
    "v3.trade(tkn_amt=1, source_token='eth',  target_token='wbtc', user_name='Trader', timestamp=0)\n",
    "\n",
    "v3.describe(decimals=4)"
   ],
   "metadata": {
    "collapsed": false,
    "pycharm": {
     "name": "#%%\n"
    }
   }
  },
  {
   "cell_type": "markdown",
   "source": [
    "It is important to realize that there is no BNT transfer, despite both pools reporting a change to the BNT trading liquidity. A virtual trade has been performed, where BNT is still used as numeraire, and which allows for the relative value of ETH and wBTC to be known. Since the liquidity pools are virtual, their relative balance of BNT can be adjusted as though the tokens were sent, when in fact the BNT remains where it was in the vault. Thus, a quasi-single hop trade is achieved.\n",
    "\n",
    "Therefore, during the trade the following components of the system were changed:\n",
    "\n",
    "1. The vault balances. The change in the vault is always in agreement with the trader's intuition. In this case, the trader sent 1 ETH into the vault, and received 0.055712824 wBTC from it. Therefore, the vault balance of ETH must have increased by 1 ETH, and decreased by 0.055712824 wBTC.\n",
    "\n",
    "2. The staking ledger. Trading fees are always taken from the target asset, in this case there are two:\n",
    "\n",
    "1. The first virtual trade to BNT, resulting in a 7.619047619 increase to the BNT staked balance.\n",
    "\n",
    "2. The second virtual trade, resulting in a 0.000450205 increase to the wBTC staked balance.\n",
    "\n",
    "Therefore, the value of the bnBNT pool token, and wBTC pool token must be appreciated by 80% of the fee apparent to the trader (i.e. the total fee - vortex rate).\n",
    "\n",
    "1. The vortex ledger. Both virtual trades have an apparent effect on the vortex ledger. In the first virtual trade to BNT, one fifth of the fee paid by the trader is collected by the vortex directly; in the second virtual trade, one fifth of the fee in wBTC is swapped back to BNT. Both are added to the BNT balance of the vortex ledger.\n",
    "\n",
    "2. The trading liquidity. The changes to the trading liquidities on both pools can be understood after accounting for the effect of the collectionby the vortex.\n",
    "\n",
    "The change in the BNT, ETH, and wBTC trading liquidity can be expressed as follows:\n",
    "\n",
    "![](https://lh5.googleusercontent.com/doveLoYhNUJtnhVPwl2vneQWuOFLZwtoA1IA-v472nUtYScilTCSe2m1yQXKyquVJjTElyYscYqSSUIjPU9LXrlM88_Un4Lf9dW_aPNWcb7K2uzAgAVMsqQkofmdAb9V8MXfU_Iu)\n",
    "\n",
    "![](https://lh6.googleusercontent.com/SdYHsyNvZIKz3O7JdQNeu_6XHZp7jK4s_vtuCnm6ekReFAsU4tkR2pGkqzWkneT_jzMs0QR8grLnskRof_oWrKlk8mt49bppggxtYNYibZkq4uBkN0XVvy1azYiBYDVTvA6aR8qz)\n",
    "\n",
    "![](https://lh5.googleusercontent.com/7SFfNH_BLbsm2nAS_TI4veTsEI4-BmOxw9RypNeEWzaDfA48ELD30aXiopBHIBUSRTjWRAu57rQ1bmH5igSKf6vyR13PS2BSKOx6mM9oqpp7POxr1MWIJLk2v12b7bGSw4iXh_ze)\n",
    "\n",
    "![](https://lh4.googleusercontent.com/nQbaQymdxqr99dZhRngwd5acVZtmjOr--QqtFH4-OAyTiOkDtl2vynZR50LQVaqv6Xez_9r7yMSPJgq3ayBH2YJK0lpPpFPGYj5vqtIqoAeSF_Y3WSNBcLLbdbJ141nOP-GAIhsA)\n",
    "\n",
    "![](https://lh3.googleusercontent.com/fB4ZwVR0grJ-ALAIFKwpnR3bgBawzdyk6uKtBUCq1huifwIPIPrDU_vauIEtyXSkETlswyxKYykNJdZtJFDStfqNyXmSMFAzfA6BeY7duBIrCXTiktCX0fRjMJNw6A6FOgSknfSl)\n",
    "\n",
    "where a1† and a1 are the BNT trading liquidity balances of the source pool (BNT-ETH) after and before the trade,\n",
    "respectively, b1† and b1 are the TKN trading liquidity balances of the source pool (BNT-ETH) after and before the trade, respectively, a2† and a2 are the BNT trading liquidity balances of the destination pool (BNT-wBTC) after and before the trade, respectively, b2† and b2 are the TKN trading liquidity balances of the destination pool (BNT-wBTC) after and before the trade, respectively, d1 is the source pool fee (BNT-ETH, e.g. 0.01, or 1%), d2 is the destination pool fee (BNT-wBTC, e.g. 0.01, or 1%), and e is the Vortex rate (e.g. 0.2, or 20%). The number of ETH tokens being sent into the vault is x, and the number of wBTC tokens sent back to the trader is tknOut. The change in the ETH trading liquidity (and therefore the update to the available ETH trading liquidity) is unchanged from the standard case. The calculation of the fee awarded to the bnwBTC, and bnBNT pool token holders is:\n",
    "\n",
    "![](https://lh5.googleusercontent.com/MG169O6uOWvALrOb5TgqaOM-O1Qh96yXNPXFEFluyEH5rxcJFn8B988n0hoF5GbV_UWXwmUF3LXLbwdQLZHG2Zo2VsKvcjnWkkJR1vELWji8hsIOMHt8nAIqZVn0p6hqCfRZd-Vm)\n",
    "\n",
    "![](https://lh3.googleusercontent.com/HFcLc-pvEdpenFPVNvjVXLL7mGUy5SlK8K78IeFjQ2r5ZlcB-cbh4ah7XtKY8JCvpadLdm1UG1og4eiUXMw85Ou7v6isoCdgjLpa_i5b5ZfwJACKfHgv4k3MTkVDZG7TvW8q4utM)\n",
    "\n",
    "And the calculation for the fee given to the Bancor Vortex, denominated exclusively in BNT and added to the vortex ledger is:\n",
    "\n",
    "![](https://lh5.googleusercontent.com/o-GET6e9jIIDlJ54BnkXX_eizMLT8I8g1tV9qIZE88orUlrDTRUa0lxqJVd3uC2InWc682kukPqJoWloUnRzmHP__PXfp_us8_CzQLjmo072dFoik_zSbIVqa3o-FI94lowQznDA)"
   ],
   "metadata": {
    "collapsed": false,
    "pycharm": {
     "name": "#%% md\n"
    }
   }
  },
  {
   "cell_type": "code",
   "execution_count": 3,
   "outputs": [],
   "source": [],
   "metadata": {
    "collapsed": false,
    "pycharm": {
     "name": "#%%\n"
    }
   }
  },
  {
   "cell_type": "code",
   "execution_count": 3,
   "outputs": [],
   "source": [],
   "metadata": {
    "collapsed": false,
    "pycharm": {
     "name": "#%%\n"
    }
   }
  },
  {
   "cell_type": "code",
   "execution_count": 3,
   "outputs": [],
   "source": [],
   "metadata": {
    "collapsed": false,
    "pycharm": {
     "name": "#%%\n"
    }
   }
  }
 ],
 "metadata": {
  "kernelspec": {
   "name": "pycharm-c19c9c8d",
   "language": "python",
   "display_name": "PyCharm (simulator-v3)"
  },
  "language_info": {
   "codemirror_mode": {
    "name": "ipython",
    "version": 3
   },
   "file_extension": ".py",
   "mimetype": "text/x-python",
   "name": "python",
   "nbconvert_exporter": "python",
   "pygments_lexer": "ipython3",
   "version": "3.8.5"
  }
 },
 "nbformat": 4,
 "nbformat_minor": 2
}
