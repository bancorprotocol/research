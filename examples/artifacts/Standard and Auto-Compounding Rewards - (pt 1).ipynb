{
 "cells": [
  {
   "cell_type": "markdown",
   "source": [
    "## Standard and Auto-Compounding Rewards - (pt 1)"
   ],
   "metadata": {
    "collapsed": false
   }
  },
  {
   "cell_type": "code",
   "execution_count": 2,
   "outputs": [],
   "source": [
    "from bancor_research.bancor_simulator.v3.spec.state import *\n",
    "from bancor_research.bancor_simulator.v3.spec.network import BancorDapp"
   ],
   "metadata": {
    "collapsed": false,
    "pycharm": {
     "name": "#%%\n"
    }
   }
  },
  {
   "cell_type": "code",
   "execution_count": 3,
   "metadata": {
    "collapsed": true
   },
   "outputs": [
    {
     "data": {
      "text/plain": "                                        bnt eth link      tkn wbtc bnbnt  \\\n1 Account Alice                     1000000   0    0  1000000    0     0   \n2 Pool    a: TKN Staked Balance           0   0    0        0    0     0   \n          b: TKN Trading Liquidity        0   0    0        0    0     0   \n          c: BNT Trading Liquidity        0   0    0        0    0     0   \n          d: BNT Current Funding          0   0    0        0    0     0   \n          e: Spot Rate                    0   0    0        0    0     0   \n          f: Average Rate                 0   0    0        0    0     0   \n          g: Average Inverse Rate         0   0    0        0    0     0   \n3 Network BNT Staked Balance              0   0    0        0    0     0   \n          Master Vault                    0   0    0        0    0     0   \n          Protection Vault                0   0    0        0    0     0   \n          Protocol Equity                 0   0    0        0    0     0   \n          Rewards Vault                   0   0    0        0    0     0   \n          Vortex                          0   0    0        0    0     0   \n\n                                   bneth bnlink bntkn bnwbtc vbnt  \n1 Account Alice                        0      0     0      0    0  \n2 Pool    a: TKN Staked Balance        0      0     0      0    0  \n          b: TKN Trading Liquidity     0      0     0      0    0  \n          c: BNT Trading Liquidity     0      0     0      0    0  \n          d: BNT Current Funding       0      0     0      0    0  \n          e: Spot Rate                 0      0     0      0    0  \n          f: Average Rate              0      0     0      0    0  \n          g: Average Inverse Rate      0      0     0      0    0  \n3 Network BNT Staked Balance           0      0     0      0    0  \n          Master Vault                 0      0     0      0    0  \n          Protection Vault             0      0     0      0    0  \n          Protocol Equity              0      0     0      0    0  \n          Rewards Vault                0      0     0      0    0  \n          Vortex                       0      0     0      0    0  ",
      "text/html": "<div>\n<style scoped>\n    .dataframe tbody tr th:only-of-type {\n        vertical-align: middle;\n    }\n\n    .dataframe tbody tr th {\n        vertical-align: top;\n    }\n\n    .dataframe thead th {\n        text-align: right;\n    }\n</style>\n<table border=\"1\" class=\"dataframe\">\n  <thead>\n    <tr style=\"text-align: right;\">\n      <th></th>\n      <th></th>\n      <th></th>\n      <th>bnt</th>\n      <th>eth</th>\n      <th>link</th>\n      <th>tkn</th>\n      <th>wbtc</th>\n      <th>bnbnt</th>\n      <th>bneth</th>\n      <th>bnlink</th>\n      <th>bntkn</th>\n      <th>bnwbtc</th>\n      <th>vbnt</th>\n    </tr>\n  </thead>\n  <tbody>\n    <tr>\n      <th>1</th>\n      <th>Account</th>\n      <th>Alice</th>\n      <td>1000000</td>\n      <td>0</td>\n      <td>0</td>\n      <td>1000000</td>\n      <td>0</td>\n      <td>0</td>\n      <td>0</td>\n      <td>0</td>\n      <td>0</td>\n      <td>0</td>\n      <td>0</td>\n    </tr>\n    <tr>\n      <th rowspan=\"7\" valign=\"top\">2</th>\n      <th rowspan=\"7\" valign=\"top\">Pool</th>\n      <th>a: TKN Staked Balance</th>\n      <td>0</td>\n      <td>0</td>\n      <td>0</td>\n      <td>0</td>\n      <td>0</td>\n      <td>0</td>\n      <td>0</td>\n      <td>0</td>\n      <td>0</td>\n      <td>0</td>\n      <td>0</td>\n    </tr>\n    <tr>\n      <th>b: TKN Trading Liquidity</th>\n      <td>0</td>\n      <td>0</td>\n      <td>0</td>\n      <td>0</td>\n      <td>0</td>\n      <td>0</td>\n      <td>0</td>\n      <td>0</td>\n      <td>0</td>\n      <td>0</td>\n      <td>0</td>\n    </tr>\n    <tr>\n      <th>c: BNT Trading Liquidity</th>\n      <td>0</td>\n      <td>0</td>\n      <td>0</td>\n      <td>0</td>\n      <td>0</td>\n      <td>0</td>\n      <td>0</td>\n      <td>0</td>\n      <td>0</td>\n      <td>0</td>\n      <td>0</td>\n    </tr>\n    <tr>\n      <th>d: BNT Current Funding</th>\n      <td>0</td>\n      <td>0</td>\n      <td>0</td>\n      <td>0</td>\n      <td>0</td>\n      <td>0</td>\n      <td>0</td>\n      <td>0</td>\n      <td>0</td>\n      <td>0</td>\n      <td>0</td>\n    </tr>\n    <tr>\n      <th>e: Spot Rate</th>\n      <td>0</td>\n      <td>0</td>\n      <td>0</td>\n      <td>0</td>\n      <td>0</td>\n      <td>0</td>\n      <td>0</td>\n      <td>0</td>\n      <td>0</td>\n      <td>0</td>\n      <td>0</td>\n    </tr>\n    <tr>\n      <th>f: Average Rate</th>\n      <td>0</td>\n      <td>0</td>\n      <td>0</td>\n      <td>0</td>\n      <td>0</td>\n      <td>0</td>\n      <td>0</td>\n      <td>0</td>\n      <td>0</td>\n      <td>0</td>\n      <td>0</td>\n    </tr>\n    <tr>\n      <th>g: Average Inverse Rate</th>\n      <td>0</td>\n      <td>0</td>\n      <td>0</td>\n      <td>0</td>\n      <td>0</td>\n      <td>0</td>\n      <td>0</td>\n      <td>0</td>\n      <td>0</td>\n      <td>0</td>\n      <td>0</td>\n    </tr>\n    <tr>\n      <th rowspan=\"6\" valign=\"top\">3</th>\n      <th rowspan=\"6\" valign=\"top\">Network</th>\n      <th>BNT Staked Balance</th>\n      <td>0</td>\n      <td>0</td>\n      <td>0</td>\n      <td>0</td>\n      <td>0</td>\n      <td>0</td>\n      <td>0</td>\n      <td>0</td>\n      <td>0</td>\n      <td>0</td>\n      <td>0</td>\n    </tr>\n    <tr>\n      <th>Master Vault</th>\n      <td>0</td>\n      <td>0</td>\n      <td>0</td>\n      <td>0</td>\n      <td>0</td>\n      <td>0</td>\n      <td>0</td>\n      <td>0</td>\n      <td>0</td>\n      <td>0</td>\n      <td>0</td>\n    </tr>\n    <tr>\n      <th>Protection Vault</th>\n      <td>0</td>\n      <td>0</td>\n      <td>0</td>\n      <td>0</td>\n      <td>0</td>\n      <td>0</td>\n      <td>0</td>\n      <td>0</td>\n      <td>0</td>\n      <td>0</td>\n      <td>0</td>\n    </tr>\n    <tr>\n      <th>Protocol Equity</th>\n      <td>0</td>\n      <td>0</td>\n      <td>0</td>\n      <td>0</td>\n      <td>0</td>\n      <td>0</td>\n      <td>0</td>\n      <td>0</td>\n      <td>0</td>\n      <td>0</td>\n      <td>0</td>\n    </tr>\n    <tr>\n      <th>Rewards Vault</th>\n      <td>0</td>\n      <td>0</td>\n      <td>0</td>\n      <td>0</td>\n      <td>0</td>\n      <td>0</td>\n      <td>0</td>\n      <td>0</td>\n      <td>0</td>\n      <td>0</td>\n      <td>0</td>\n    </tr>\n    <tr>\n      <th>Vortex</th>\n      <td>0</td>\n      <td>0</td>\n      <td>0</td>\n      <td>0</td>\n      <td>0</td>\n      <td>0</td>\n      <td>0</td>\n      <td>0</td>\n      <td>0</td>\n      <td>0</td>\n      <td>0</td>\n    </tr>\n  </tbody>\n</table>\n</div>"
     },
     "execution_count": 3,
     "metadata": {},
     "output_type": "execute_result"
    }
   ],
   "source": [
    "# Initialize the main simulator class\n",
    "v3 = BancorDapp(cooldown_time=7)\n",
    "\n",
    "user_name = 'Alice'\n",
    "\n",
    "# whitelist tokens\n",
    "v3.whitelist_token('tkn')\n",
    "\n",
    "# Create the users\n",
    "v3.create_user(user_name)\n",
    "\n",
    "# Set the initial starting balances\n",
    "v3.set_user_balance(user_name=user_name, tkn_name='tkn',tkn_amt=1000000)\n",
    "v3.set_user_balance(user_name=user_name, tkn_name='bnt',tkn_amt=1000000)\n",
    "\n",
    "v3.describe()"
   ]
  },
  {
   "cell_type": "code",
   "execution_count": 4,
   "metadata": {
    "collapsed": false,
    "pycharm": {
     "name": "#%%\n"
    }
   },
   "outputs": [
    {
     "data": {
      "text/plain": "                                               bnt       eth      link  \\\n1 Account Alice                     1000000.000000  0.000000  0.000000   \n2 Pool    a: TKN Staked Balance                  0  0.000000  0.000000   \n          b: TKN Trading Liquidity               0  0.000000  0.000000   \n          c: BNT Trading Liquidity               0  0.000000  0.000000   \n          d: BNT Current Funding                 0  0.000000  0.000000   \n          e: Spot Rate                           0  0.000000  0.000000   \n          f: Average Rate                        0  0.000000  0.000000   \n          g: Average Inverse Rate                0  0.000000  0.000000   \n3 Network BNT Staked Balance              0.000000         0         0   \n          Master Vault                    0.000000  0.000000  0.000000   \n          Protection Vault                0.000000  0.000000  0.000000   \n          Protocol Equity                        0         0         0   \n          Rewards Vault                          0         0         0   \n          Vortex                          0.000000         0         0   \n\n                                              tkn      wbtc     bnbnt  \\\n1 Account Alice                     999000.000000  0.000000  0.000000   \n2 Pool    a: TKN Staked Balance       1000.000000  0.000000         0   \n          b: TKN Trading Liquidity       0.000000  0.000000         0   \n          c: BNT Trading Liquidity       0.000000  0.000000         0   \n          d: BNT Current Funding         0.000000  0.000000         0   \n          e: Spot Rate                   0.000000  0.000000         0   \n          f: Average Rate                0.000000  0.000000         0   \n          g: Average Inverse Rate        0.000000  0.000000         0   \n3 Network BNT Staked Balance                    0         0         0   \n          Master Vault                1000.000000  0.000000         0   \n          Protection Vault               0.000000  0.000000         0   \n          Protocol Equity                       0         0  0.000000   \n          Rewards Vault                         0         0  0.000000   \n          Vortex                                0         0         0   \n\n                                       bneth    bnlink        bntkn    bnwbtc  \\\n1 Account Alice                     0.000000  0.000000  1000.000000  0.000000   \n2 Pool    a: TKN Staked Balance            0         0            0         0   \n          b: TKN Trading Liquidity         0         0            0         0   \n          c: BNT Trading Liquidity         0         0            0         0   \n          d: BNT Current Funding           0         0            0         0   \n          e: Spot Rate                     0         0            0         0   \n          f: Average Rate                  0         0            0         0   \n          g: Average Inverse Rate          0         0            0         0   \n3 Network BNT Staked Balance               0         0            0         0   \n          Master Vault                     0         0            0         0   \n          Protection Vault                 0         0            0         0   \n          Protocol Equity           0.000000  0.000000     0.000000  0.000000   \n          Rewards Vault             0.000000  0.000000     0.000000  0.000000   \n          Vortex                           0         0            0         0   \n\n                                        vbnt  \n1 Account Alice                     0.000000  \n2 Pool    a: TKN Staked Balance            0  \n          b: TKN Trading Liquidity         0  \n          c: BNT Trading Liquidity         0  \n          d: BNT Current Funding           0  \n          e: Spot Rate                     0  \n          f: Average Rate                  0  \n          g: Average Inverse Rate          0  \n3 Network BNT Staked Balance               0  \n          Master Vault                     0  \n          Protection Vault                 0  \n          Protocol Equity                  0  \n          Rewards Vault                    0  \n          Vortex                           0  ",
      "text/html": "<div>\n<style scoped>\n    .dataframe tbody tr th:only-of-type {\n        vertical-align: middle;\n    }\n\n    .dataframe tbody tr th {\n        vertical-align: top;\n    }\n\n    .dataframe thead th {\n        text-align: right;\n    }\n</style>\n<table border=\"1\" class=\"dataframe\">\n  <thead>\n    <tr style=\"text-align: right;\">\n      <th></th>\n      <th></th>\n      <th></th>\n      <th>bnt</th>\n      <th>eth</th>\n      <th>link</th>\n      <th>tkn</th>\n      <th>wbtc</th>\n      <th>bnbnt</th>\n      <th>bneth</th>\n      <th>bnlink</th>\n      <th>bntkn</th>\n      <th>bnwbtc</th>\n      <th>vbnt</th>\n    </tr>\n  </thead>\n  <tbody>\n    <tr>\n      <th>1</th>\n      <th>Account</th>\n      <th>Alice</th>\n      <td>1000000.000000</td>\n      <td>0.000000</td>\n      <td>0.000000</td>\n      <td>999000.000000</td>\n      <td>0.000000</td>\n      <td>0.000000</td>\n      <td>0.000000</td>\n      <td>0.000000</td>\n      <td>1000.000000</td>\n      <td>0.000000</td>\n      <td>0.000000</td>\n    </tr>\n    <tr>\n      <th rowspan=\"7\" valign=\"top\">2</th>\n      <th rowspan=\"7\" valign=\"top\">Pool</th>\n      <th>a: TKN Staked Balance</th>\n      <td>0</td>\n      <td>0.000000</td>\n      <td>0.000000</td>\n      <td>1000.000000</td>\n      <td>0.000000</td>\n      <td>0</td>\n      <td>0</td>\n      <td>0</td>\n      <td>0</td>\n      <td>0</td>\n      <td>0</td>\n    </tr>\n    <tr>\n      <th>b: TKN Trading Liquidity</th>\n      <td>0</td>\n      <td>0.000000</td>\n      <td>0.000000</td>\n      <td>0.000000</td>\n      <td>0.000000</td>\n      <td>0</td>\n      <td>0</td>\n      <td>0</td>\n      <td>0</td>\n      <td>0</td>\n      <td>0</td>\n    </tr>\n    <tr>\n      <th>c: BNT Trading Liquidity</th>\n      <td>0</td>\n      <td>0.000000</td>\n      <td>0.000000</td>\n      <td>0.000000</td>\n      <td>0.000000</td>\n      <td>0</td>\n      <td>0</td>\n      <td>0</td>\n      <td>0</td>\n      <td>0</td>\n      <td>0</td>\n    </tr>\n    <tr>\n      <th>d: BNT Current Funding</th>\n      <td>0</td>\n      <td>0.000000</td>\n      <td>0.000000</td>\n      <td>0.000000</td>\n      <td>0.000000</td>\n      <td>0</td>\n      <td>0</td>\n      <td>0</td>\n      <td>0</td>\n      <td>0</td>\n      <td>0</td>\n    </tr>\n    <tr>\n      <th>e: Spot Rate</th>\n      <td>0</td>\n      <td>0.000000</td>\n      <td>0.000000</td>\n      <td>0.000000</td>\n      <td>0.000000</td>\n      <td>0</td>\n      <td>0</td>\n      <td>0</td>\n      <td>0</td>\n      <td>0</td>\n      <td>0</td>\n    </tr>\n    <tr>\n      <th>f: Average Rate</th>\n      <td>0</td>\n      <td>0.000000</td>\n      <td>0.000000</td>\n      <td>0.000000</td>\n      <td>0.000000</td>\n      <td>0</td>\n      <td>0</td>\n      <td>0</td>\n      <td>0</td>\n      <td>0</td>\n      <td>0</td>\n    </tr>\n    <tr>\n      <th>g: Average Inverse Rate</th>\n      <td>0</td>\n      <td>0.000000</td>\n      <td>0.000000</td>\n      <td>0.000000</td>\n      <td>0.000000</td>\n      <td>0</td>\n      <td>0</td>\n      <td>0</td>\n      <td>0</td>\n      <td>0</td>\n      <td>0</td>\n    </tr>\n    <tr>\n      <th rowspan=\"6\" valign=\"top\">3</th>\n      <th rowspan=\"6\" valign=\"top\">Network</th>\n      <th>BNT Staked Balance</th>\n      <td>0.000000</td>\n      <td>0</td>\n      <td>0</td>\n      <td>0</td>\n      <td>0</td>\n      <td>0</td>\n      <td>0</td>\n      <td>0</td>\n      <td>0</td>\n      <td>0</td>\n      <td>0</td>\n    </tr>\n    <tr>\n      <th>Master Vault</th>\n      <td>0.000000</td>\n      <td>0.000000</td>\n      <td>0.000000</td>\n      <td>1000.000000</td>\n      <td>0.000000</td>\n      <td>0</td>\n      <td>0</td>\n      <td>0</td>\n      <td>0</td>\n      <td>0</td>\n      <td>0</td>\n    </tr>\n    <tr>\n      <th>Protection Vault</th>\n      <td>0.000000</td>\n      <td>0.000000</td>\n      <td>0.000000</td>\n      <td>0.000000</td>\n      <td>0.000000</td>\n      <td>0</td>\n      <td>0</td>\n      <td>0</td>\n      <td>0</td>\n      <td>0</td>\n      <td>0</td>\n    </tr>\n    <tr>\n      <th>Protocol Equity</th>\n      <td>0</td>\n      <td>0</td>\n      <td>0</td>\n      <td>0</td>\n      <td>0</td>\n      <td>0.000000</td>\n      <td>0.000000</td>\n      <td>0.000000</td>\n      <td>0.000000</td>\n      <td>0.000000</td>\n      <td>0</td>\n    </tr>\n    <tr>\n      <th>Rewards Vault</th>\n      <td>0</td>\n      <td>0</td>\n      <td>0</td>\n      <td>0</td>\n      <td>0</td>\n      <td>0.000000</td>\n      <td>0.000000</td>\n      <td>0.000000</td>\n      <td>0.000000</td>\n      <td>0.000000</td>\n      <td>0</td>\n    </tr>\n    <tr>\n      <th>Vortex</th>\n      <td>0.000000</td>\n      <td>0</td>\n      <td>0</td>\n      <td>0</td>\n      <td>0</td>\n      <td>0</td>\n      <td>0</td>\n      <td>0</td>\n      <td>0</td>\n      <td>0</td>\n      <td>0</td>\n    </tr>\n  </tbody>\n</table>\n</div>"
     },
     "execution_count": 4,
     "metadata": {},
     "output_type": "execute_result"
    }
   ],
   "source": [
    "timestamp = 14\n",
    "v3.deposit(tkn_name='tkn', tkn_amt='1000', user_name='Alice', timestamp=timestamp)\n",
    "v3.describe(decimals=6)"
   ]
  },
  {
   "cell_type": "code",
   "execution_count": 5,
   "metadata": {
    "collapsed": false,
    "pycharm": {
     "name": "#%%\n"
    }
   },
   "outputs": [
    {
     "data": {
      "text/plain": "                                               bnt       eth      link  \\\n1 Account Alice                     1000000.000000  0.000000  0.000000   \n2 Pool    a: TKN Staked Balance                  0  0.000000  0.000000   \n          b: TKN Trading Liquidity               0  0.000000  0.000000   \n          c: BNT Trading Liquidity               0  0.000000  0.000000   \n          d: BNT Current Funding                 0  0.000000  0.000000   \n          e: Spot Rate                           0  0.000000  0.000000   \n          f: Average Rate                        0  0.000000  0.000000   \n          g: Average Inverse Rate                0  0.000000  0.000000   \n3 Network BNT Staked Balance              0.000000         0         0   \n          Master Vault                    0.000000  0.000000  0.000000   \n          Protection Vault                0.000000  0.000000  0.000000   \n          Protocol Equity                        0         0         0   \n          Rewards Vault                          0         0         0   \n          Vortex                          0.000000         0         0   \n\n                                              tkn      wbtc     bnbnt  \\\n1 Account Alice                     998000.000000  0.000000  0.000000   \n2 Pool    a: TKN Staked Balance       2000.000000  0.000000         0   \n          b: TKN Trading Liquidity       0.000000  0.000000         0   \n          c: BNT Trading Liquidity       0.000000  0.000000         0   \n          d: BNT Current Funding         0.000000  0.000000         0   \n          e: Spot Rate                   0.000000  0.000000         0   \n          f: Average Rate                0.000000  0.000000         0   \n          g: Average Inverse Rate        0.000000  0.000000         0   \n3 Network BNT Staked Balance                    0         0         0   \n          Master Vault                2000.000000  0.000000         0   \n          Protection Vault               0.000000  0.000000         0   \n          Protocol Equity                       0         0  0.000000   \n          Rewards Vault                         0         0  0.000000   \n          Vortex                                0         0         0   \n\n                                       bneth    bnlink        bntkn    bnwbtc  \\\n1 Account Alice                     0.000000  0.000000  2000.000000  0.000000   \n2 Pool    a: TKN Staked Balance            0         0            0         0   \n          b: TKN Trading Liquidity         0         0            0         0   \n          c: BNT Trading Liquidity         0         0            0         0   \n          d: BNT Current Funding           0         0            0         0   \n          e: Spot Rate                     0         0            0         0   \n          f: Average Rate                  0         0            0         0   \n          g: Average Inverse Rate          0         0            0         0   \n3 Network BNT Staked Balance               0         0            0         0   \n          Master Vault                     0         0            0         0   \n          Protection Vault                 0         0            0         0   \n          Protocol Equity           0.000000  0.000000     0.000000  0.000000   \n          Rewards Vault             0.000000  0.000000     0.000000  0.000000   \n          Vortex                           0         0            0         0   \n\n                                        vbnt  \n1 Account Alice                     0.000000  \n2 Pool    a: TKN Staked Balance            0  \n          b: TKN Trading Liquidity         0  \n          c: BNT Trading Liquidity         0  \n          d: BNT Current Funding           0  \n          e: Spot Rate                     0  \n          f: Average Rate                  0  \n          g: Average Inverse Rate          0  \n3 Network BNT Staked Balance               0  \n          Master Vault                     0  \n          Protection Vault                 0  \n          Protocol Equity                  0  \n          Rewards Vault                    0  \n          Vortex                           0  ",
      "text/html": "<div>\n<style scoped>\n    .dataframe tbody tr th:only-of-type {\n        vertical-align: middle;\n    }\n\n    .dataframe tbody tr th {\n        vertical-align: top;\n    }\n\n    .dataframe thead th {\n        text-align: right;\n    }\n</style>\n<table border=\"1\" class=\"dataframe\">\n  <thead>\n    <tr style=\"text-align: right;\">\n      <th></th>\n      <th></th>\n      <th></th>\n      <th>bnt</th>\n      <th>eth</th>\n      <th>link</th>\n      <th>tkn</th>\n      <th>wbtc</th>\n      <th>bnbnt</th>\n      <th>bneth</th>\n      <th>bnlink</th>\n      <th>bntkn</th>\n      <th>bnwbtc</th>\n      <th>vbnt</th>\n    </tr>\n  </thead>\n  <tbody>\n    <tr>\n      <th>1</th>\n      <th>Account</th>\n      <th>Alice</th>\n      <td>1000000.000000</td>\n      <td>0.000000</td>\n      <td>0.000000</td>\n      <td>998000.000000</td>\n      <td>0.000000</td>\n      <td>0.000000</td>\n      <td>0.000000</td>\n      <td>0.000000</td>\n      <td>2000.000000</td>\n      <td>0.000000</td>\n      <td>0.000000</td>\n    </tr>\n    <tr>\n      <th rowspan=\"7\" valign=\"top\">2</th>\n      <th rowspan=\"7\" valign=\"top\">Pool</th>\n      <th>a: TKN Staked Balance</th>\n      <td>0</td>\n      <td>0.000000</td>\n      <td>0.000000</td>\n      <td>2000.000000</td>\n      <td>0.000000</td>\n      <td>0</td>\n      <td>0</td>\n      <td>0</td>\n      <td>0</td>\n      <td>0</td>\n      <td>0</td>\n    </tr>\n    <tr>\n      <th>b: TKN Trading Liquidity</th>\n      <td>0</td>\n      <td>0.000000</td>\n      <td>0.000000</td>\n      <td>0.000000</td>\n      <td>0.000000</td>\n      <td>0</td>\n      <td>0</td>\n      <td>0</td>\n      <td>0</td>\n      <td>0</td>\n      <td>0</td>\n    </tr>\n    <tr>\n      <th>c: BNT Trading Liquidity</th>\n      <td>0</td>\n      <td>0.000000</td>\n      <td>0.000000</td>\n      <td>0.000000</td>\n      <td>0.000000</td>\n      <td>0</td>\n      <td>0</td>\n      <td>0</td>\n      <td>0</td>\n      <td>0</td>\n      <td>0</td>\n    </tr>\n    <tr>\n      <th>d: BNT Current Funding</th>\n      <td>0</td>\n      <td>0.000000</td>\n      <td>0.000000</td>\n      <td>0.000000</td>\n      <td>0.000000</td>\n      <td>0</td>\n      <td>0</td>\n      <td>0</td>\n      <td>0</td>\n      <td>0</td>\n      <td>0</td>\n    </tr>\n    <tr>\n      <th>e: Spot Rate</th>\n      <td>0</td>\n      <td>0.000000</td>\n      <td>0.000000</td>\n      <td>0.000000</td>\n      <td>0.000000</td>\n      <td>0</td>\n      <td>0</td>\n      <td>0</td>\n      <td>0</td>\n      <td>0</td>\n      <td>0</td>\n    </tr>\n    <tr>\n      <th>f: Average Rate</th>\n      <td>0</td>\n      <td>0.000000</td>\n      <td>0.000000</td>\n      <td>0.000000</td>\n      <td>0.000000</td>\n      <td>0</td>\n      <td>0</td>\n      <td>0</td>\n      <td>0</td>\n      <td>0</td>\n      <td>0</td>\n    </tr>\n    <tr>\n      <th>g: Average Inverse Rate</th>\n      <td>0</td>\n      <td>0.000000</td>\n      <td>0.000000</td>\n      <td>0.000000</td>\n      <td>0.000000</td>\n      <td>0</td>\n      <td>0</td>\n      <td>0</td>\n      <td>0</td>\n      <td>0</td>\n      <td>0</td>\n    </tr>\n    <tr>\n      <th rowspan=\"6\" valign=\"top\">3</th>\n      <th rowspan=\"6\" valign=\"top\">Network</th>\n      <th>BNT Staked Balance</th>\n      <td>0.000000</td>\n      <td>0</td>\n      <td>0</td>\n      <td>0</td>\n      <td>0</td>\n      <td>0</td>\n      <td>0</td>\n      <td>0</td>\n      <td>0</td>\n      <td>0</td>\n      <td>0</td>\n    </tr>\n    <tr>\n      <th>Master Vault</th>\n      <td>0.000000</td>\n      <td>0.000000</td>\n      <td>0.000000</td>\n      <td>2000.000000</td>\n      <td>0.000000</td>\n      <td>0</td>\n      <td>0</td>\n      <td>0</td>\n      <td>0</td>\n      <td>0</td>\n      <td>0</td>\n    </tr>\n    <tr>\n      <th>Protection Vault</th>\n      <td>0.000000</td>\n      <td>0.000000</td>\n      <td>0.000000</td>\n      <td>0.000000</td>\n      <td>0.000000</td>\n      <td>0</td>\n      <td>0</td>\n      <td>0</td>\n      <td>0</td>\n      <td>0</td>\n      <td>0</td>\n    </tr>\n    <tr>\n      <th>Protocol Equity</th>\n      <td>0</td>\n      <td>0</td>\n      <td>0</td>\n      <td>0</td>\n      <td>0</td>\n      <td>0.000000</td>\n      <td>0.000000</td>\n      <td>0.000000</td>\n      <td>0.000000</td>\n      <td>0.000000</td>\n      <td>0</td>\n    </tr>\n    <tr>\n      <th>Rewards Vault</th>\n      <td>0</td>\n      <td>0</td>\n      <td>0</td>\n      <td>0</td>\n      <td>0</td>\n      <td>0.000000</td>\n      <td>0.000000</td>\n      <td>0.000000</td>\n      <td>0.000000</td>\n      <td>0.000000</td>\n      <td>0</td>\n    </tr>\n    <tr>\n      <th>Vortex</th>\n      <td>0.000000</td>\n      <td>0</td>\n      <td>0</td>\n      <td>0</td>\n      <td>0</td>\n      <td>0</td>\n      <td>0</td>\n      <td>0</td>\n      <td>0</td>\n      <td>0</td>\n      <td>0</td>\n    </tr>\n  </tbody>\n</table>\n</div>"
     },
     "execution_count": 5,
     "metadata": {},
     "output_type": "execute_result"
    }
   ],
   "source": [
    "timestamp = 14 * 2\n",
    "v3.deposit(tkn_name='tkn', tkn_amt='1000', user_name='Alice', timestamp=timestamp)\n",
    "v3.describe(decimals=6)"
   ]
  },
  {
   "cell_type": "code",
   "execution_count": 6,
   "metadata": {
    "collapsed": false,
    "pycharm": {
     "name": "#%%\n"
    }
   },
   "outputs": [
    {
     "name": "stdout",
     "output_type": "stream",
     "text": [
      "<class 'bancor_research.bancor_simulator.v3.spec.network.BancorDapp'>: Bootstrap requirements *not* met for tkn\n"
     ]
    }
   ],
   "source": [
    "timestamp = 14 * 3\n",
    "try:\n",
    "    v3.enable_trading(tkn_name='tkn', timestamp=timestamp)\n",
    "    raise BaseException('expected an error')\n",
    "except Exception as error:\n",
    "    print('{}: {}'.format(type(v3), error))"
   ]
  },
  {
   "cell_type": "code",
   "execution_count": 7,
   "metadata": {
    "collapsed": false,
    "pycharm": {
     "name": "#%%\n"
    }
   },
   "outputs": [
    {
     "data": {
      "text/plain": "                                               bnt       eth      link  \\\n1 Account Alice                     1000000.000000  0.000000  0.000000   \n2 Pool    a: TKN Staked Balance                  0  0.000000  0.000000   \n          b: TKN Trading Liquidity               0  0.000000  0.000000   \n          c: BNT Trading Liquidity               0  0.000000  0.000000   \n          d: BNT Current Funding                 0  0.000000  0.000000   \n          e: Spot Rate                           0  0.000000  0.000000   \n          f: Average Rate                        0  0.000000  0.000000   \n          g: Average Inverse Rate                0  0.000000  0.000000   \n3 Network BNT Staked Balance              0.000000         0         0   \n          Master Vault                    0.000000  0.000000  0.000000   \n          Protection Vault                0.000000  0.000000  0.000000   \n          Protocol Equity                        0         0         0   \n          Rewards Vault                          0         0         0   \n          Vortex                          0.000000         0         0   \n\n                                              tkn      wbtc     bnbnt  \\\n1 Account Alice                     978000.000000  0.000000  0.000000   \n2 Pool    a: TKN Staked Balance      22000.000000  0.000000         0   \n          b: TKN Trading Liquidity       0.000000  0.000000         0   \n          c: BNT Trading Liquidity       0.000000  0.000000         0   \n          d: BNT Current Funding         0.000000  0.000000         0   \n          e: Spot Rate                   0.000000  0.000000         0   \n          f: Average Rate                0.000000  0.000000         0   \n          g: Average Inverse Rate        0.000000  0.000000         0   \n3 Network BNT Staked Balance                    0         0         0   \n          Master Vault               22000.000000  0.000000         0   \n          Protection Vault               0.000000  0.000000         0   \n          Protocol Equity                       0         0  0.000000   \n          Rewards Vault                         0         0  0.000000   \n          Vortex                                0         0         0   \n\n                                       bneth    bnlink         bntkn  \\\n1 Account Alice                     0.000000  0.000000  22000.000000   \n2 Pool    a: TKN Staked Balance            0         0             0   \n          b: TKN Trading Liquidity         0         0             0   \n          c: BNT Trading Liquidity         0         0             0   \n          d: BNT Current Funding           0         0             0   \n          e: Spot Rate                     0         0             0   \n          f: Average Rate                  0         0             0   \n          g: Average Inverse Rate          0         0             0   \n3 Network BNT Staked Balance               0         0             0   \n          Master Vault                     0         0             0   \n          Protection Vault                 0         0             0   \n          Protocol Equity           0.000000  0.000000      0.000000   \n          Rewards Vault             0.000000  0.000000      0.000000   \n          Vortex                           0         0             0   \n\n                                      bnwbtc      vbnt  \n1 Account Alice                     0.000000  0.000000  \n2 Pool    a: TKN Staked Balance            0         0  \n          b: TKN Trading Liquidity         0         0  \n          c: BNT Trading Liquidity         0         0  \n          d: BNT Current Funding           0         0  \n          e: Spot Rate                     0         0  \n          f: Average Rate                  0         0  \n          g: Average Inverse Rate          0         0  \n3 Network BNT Staked Balance               0         0  \n          Master Vault                     0         0  \n          Protection Vault                 0         0  \n          Protocol Equity           0.000000         0  \n          Rewards Vault             0.000000         0  \n          Vortex                           0         0  ",
      "text/html": "<div>\n<style scoped>\n    .dataframe tbody tr th:only-of-type {\n        vertical-align: middle;\n    }\n\n    .dataframe tbody tr th {\n        vertical-align: top;\n    }\n\n    .dataframe thead th {\n        text-align: right;\n    }\n</style>\n<table border=\"1\" class=\"dataframe\">\n  <thead>\n    <tr style=\"text-align: right;\">\n      <th></th>\n      <th></th>\n      <th></th>\n      <th>bnt</th>\n      <th>eth</th>\n      <th>link</th>\n      <th>tkn</th>\n      <th>wbtc</th>\n      <th>bnbnt</th>\n      <th>bneth</th>\n      <th>bnlink</th>\n      <th>bntkn</th>\n      <th>bnwbtc</th>\n      <th>vbnt</th>\n    </tr>\n  </thead>\n  <tbody>\n    <tr>\n      <th>1</th>\n      <th>Account</th>\n      <th>Alice</th>\n      <td>1000000.000000</td>\n      <td>0.000000</td>\n      <td>0.000000</td>\n      <td>978000.000000</td>\n      <td>0.000000</td>\n      <td>0.000000</td>\n      <td>0.000000</td>\n      <td>0.000000</td>\n      <td>22000.000000</td>\n      <td>0.000000</td>\n      <td>0.000000</td>\n    </tr>\n    <tr>\n      <th rowspan=\"7\" valign=\"top\">2</th>\n      <th rowspan=\"7\" valign=\"top\">Pool</th>\n      <th>a: TKN Staked Balance</th>\n      <td>0</td>\n      <td>0.000000</td>\n      <td>0.000000</td>\n      <td>22000.000000</td>\n      <td>0.000000</td>\n      <td>0</td>\n      <td>0</td>\n      <td>0</td>\n      <td>0</td>\n      <td>0</td>\n      <td>0</td>\n    </tr>\n    <tr>\n      <th>b: TKN Trading Liquidity</th>\n      <td>0</td>\n      <td>0.000000</td>\n      <td>0.000000</td>\n      <td>0.000000</td>\n      <td>0.000000</td>\n      <td>0</td>\n      <td>0</td>\n      <td>0</td>\n      <td>0</td>\n      <td>0</td>\n      <td>0</td>\n    </tr>\n    <tr>\n      <th>c: BNT Trading Liquidity</th>\n      <td>0</td>\n      <td>0.000000</td>\n      <td>0.000000</td>\n      <td>0.000000</td>\n      <td>0.000000</td>\n      <td>0</td>\n      <td>0</td>\n      <td>0</td>\n      <td>0</td>\n      <td>0</td>\n      <td>0</td>\n    </tr>\n    <tr>\n      <th>d: BNT Current Funding</th>\n      <td>0</td>\n      <td>0.000000</td>\n      <td>0.000000</td>\n      <td>0.000000</td>\n      <td>0.000000</td>\n      <td>0</td>\n      <td>0</td>\n      <td>0</td>\n      <td>0</td>\n      <td>0</td>\n      <td>0</td>\n    </tr>\n    <tr>\n      <th>e: Spot Rate</th>\n      <td>0</td>\n      <td>0.000000</td>\n      <td>0.000000</td>\n      <td>0.000000</td>\n      <td>0.000000</td>\n      <td>0</td>\n      <td>0</td>\n      <td>0</td>\n      <td>0</td>\n      <td>0</td>\n      <td>0</td>\n    </tr>\n    <tr>\n      <th>f: Average Rate</th>\n      <td>0</td>\n      <td>0.000000</td>\n      <td>0.000000</td>\n      <td>0.000000</td>\n      <td>0.000000</td>\n      <td>0</td>\n      <td>0</td>\n      <td>0</td>\n      <td>0</td>\n      <td>0</td>\n      <td>0</td>\n    </tr>\n    <tr>\n      <th>g: Average Inverse Rate</th>\n      <td>0</td>\n      <td>0.000000</td>\n      <td>0.000000</td>\n      <td>0.000000</td>\n      <td>0.000000</td>\n      <td>0</td>\n      <td>0</td>\n      <td>0</td>\n      <td>0</td>\n      <td>0</td>\n      <td>0</td>\n    </tr>\n    <tr>\n      <th rowspan=\"6\" valign=\"top\">3</th>\n      <th rowspan=\"6\" valign=\"top\">Network</th>\n      <th>BNT Staked Balance</th>\n      <td>0.000000</td>\n      <td>0</td>\n      <td>0</td>\n      <td>0</td>\n      <td>0</td>\n      <td>0</td>\n      <td>0</td>\n      <td>0</td>\n      <td>0</td>\n      <td>0</td>\n      <td>0</td>\n    </tr>\n    <tr>\n      <th>Master Vault</th>\n      <td>0.000000</td>\n      <td>0.000000</td>\n      <td>0.000000</td>\n      <td>22000.000000</td>\n      <td>0.000000</td>\n      <td>0</td>\n      <td>0</td>\n      <td>0</td>\n      <td>0</td>\n      <td>0</td>\n      <td>0</td>\n    </tr>\n    <tr>\n      <th>Protection Vault</th>\n      <td>0.000000</td>\n      <td>0.000000</td>\n      <td>0.000000</td>\n      <td>0.000000</td>\n      <td>0.000000</td>\n      <td>0</td>\n      <td>0</td>\n      <td>0</td>\n      <td>0</td>\n      <td>0</td>\n      <td>0</td>\n    </tr>\n    <tr>\n      <th>Protocol Equity</th>\n      <td>0</td>\n      <td>0</td>\n      <td>0</td>\n      <td>0</td>\n      <td>0</td>\n      <td>0.000000</td>\n      <td>0.000000</td>\n      <td>0.000000</td>\n      <td>0.000000</td>\n      <td>0.000000</td>\n      <td>0</td>\n    </tr>\n    <tr>\n      <th>Rewards Vault</th>\n      <td>0</td>\n      <td>0</td>\n      <td>0</td>\n      <td>0</td>\n      <td>0</td>\n      <td>0.000000</td>\n      <td>0.000000</td>\n      <td>0.000000</td>\n      <td>0.000000</td>\n      <td>0.000000</td>\n      <td>0</td>\n    </tr>\n    <tr>\n      <th>Vortex</th>\n      <td>0.000000</td>\n      <td>0</td>\n      <td>0</td>\n      <td>0</td>\n      <td>0</td>\n      <td>0</td>\n      <td>0</td>\n      <td>0</td>\n      <td>0</td>\n      <td>0</td>\n      <td>0</td>\n    </tr>\n  </tbody>\n</table>\n</div>"
     },
     "execution_count": 7,
     "metadata": {},
     "output_type": "execute_result"
    }
   ],
   "source": [
    "timestamp = 14 * 4\n",
    "v3.deposit(tkn_name='tkn', tkn_amt='20000', user_name='Alice', timestamp=timestamp)\n",
    "v3.describe(decimals=6)"
   ]
  },
  {
   "cell_type": "code",
   "execution_count": 8,
   "metadata": {
    "collapsed": false,
    "pycharm": {
     "name": "#%%\n"
    }
   },
   "outputs": [
    {
     "data": {
      "text/plain": "                                               bnt       eth      link  \\\n1 Account Alice                     1000000.000000  0.000000  0.000000   \n2 Pool    a: TKN Staked Balance                  0  0.000000  0.000000   \n          b: TKN Trading Liquidity               0  0.000000  0.000000   \n          c: BNT Trading Liquidity               0  0.000000  0.000000   \n          d: BNT Current Funding                 0  0.000000  0.000000   \n          e: Spot Rate                           0  0.000000  0.000000   \n          f: Average Rate                        0  0.000000  0.000000   \n          g: Average Inverse Rate                0  0.000000  0.000000   \n3 Network BNT Staked Balance          20000.000000         0         0   \n          Master Vault                20000.000000  0.000000  0.000000   \n          Protection Vault                0.000000  0.000000  0.000000   \n          Protocol Equity                        0         0         0   \n          Rewards Vault                          0         0         0   \n          Vortex                          0.000000         0         0   \n\n                                              tkn      wbtc         bnbnt  \\\n1 Account Alice                     978000.000000  0.000000      0.000000   \n2 Pool    a: TKN Staked Balance      22000.000000  0.000000             0   \n          b: TKN Trading Liquidity   20000.000000  0.000000             0   \n          c: BNT Trading Liquidity   20000.000000  0.000000             0   \n          d: BNT Current Funding     20000.000000  0.000000             0   \n          e: Spot Rate                   1.000000  0.000000             0   \n          f: Average Rate                1.000000  0.000000             0   \n          g: Average Inverse Rate        1.000000  0.000000             0   \n3 Network BNT Staked Balance                    0         0             0   \n          Master Vault               22000.000000  0.000000             0   \n          Protection Vault               0.000000  0.000000             0   \n          Protocol Equity                       0         0  20000.000000   \n          Rewards Vault                         0         0      0.000000   \n          Vortex                                0         0             0   \n\n                                       bneth    bnlink         bntkn  \\\n1 Account Alice                     0.000000  0.000000  22000.000000   \n2 Pool    a: TKN Staked Balance            0         0             0   \n          b: TKN Trading Liquidity         0         0             0   \n          c: BNT Trading Liquidity         0         0             0   \n          d: BNT Current Funding           0         0             0   \n          e: Spot Rate                     0         0             0   \n          f: Average Rate                  0         0             0   \n          g: Average Inverse Rate          0         0             0   \n3 Network BNT Staked Balance               0         0             0   \n          Master Vault                     0         0             0   \n          Protection Vault                 0         0             0   \n          Protocol Equity           0.000000  0.000000      0.000000   \n          Rewards Vault             0.000000  0.000000      0.000000   \n          Vortex                           0         0             0   \n\n                                      bnwbtc      vbnt  \n1 Account Alice                     0.000000  0.000000  \n2 Pool    a: TKN Staked Balance            0         0  \n          b: TKN Trading Liquidity         0         0  \n          c: BNT Trading Liquidity         0         0  \n          d: BNT Current Funding           0         0  \n          e: Spot Rate                     0         0  \n          f: Average Rate                  0         0  \n          g: Average Inverse Rate          0         0  \n3 Network BNT Staked Balance               0         0  \n          Master Vault                     0         0  \n          Protection Vault                 0         0  \n          Protocol Equity           0.000000         0  \n          Rewards Vault             0.000000         0  \n          Vortex                           0         0  ",
      "text/html": "<div>\n<style scoped>\n    .dataframe tbody tr th:only-of-type {\n        vertical-align: middle;\n    }\n\n    .dataframe tbody tr th {\n        vertical-align: top;\n    }\n\n    .dataframe thead th {\n        text-align: right;\n    }\n</style>\n<table border=\"1\" class=\"dataframe\">\n  <thead>\n    <tr style=\"text-align: right;\">\n      <th></th>\n      <th></th>\n      <th></th>\n      <th>bnt</th>\n      <th>eth</th>\n      <th>link</th>\n      <th>tkn</th>\n      <th>wbtc</th>\n      <th>bnbnt</th>\n      <th>bneth</th>\n      <th>bnlink</th>\n      <th>bntkn</th>\n      <th>bnwbtc</th>\n      <th>vbnt</th>\n    </tr>\n  </thead>\n  <tbody>\n    <tr>\n      <th>1</th>\n      <th>Account</th>\n      <th>Alice</th>\n      <td>1000000.000000</td>\n      <td>0.000000</td>\n      <td>0.000000</td>\n      <td>978000.000000</td>\n      <td>0.000000</td>\n      <td>0.000000</td>\n      <td>0.000000</td>\n      <td>0.000000</td>\n      <td>22000.000000</td>\n      <td>0.000000</td>\n      <td>0.000000</td>\n    </tr>\n    <tr>\n      <th rowspan=\"7\" valign=\"top\">2</th>\n      <th rowspan=\"7\" valign=\"top\">Pool</th>\n      <th>a: TKN Staked Balance</th>\n      <td>0</td>\n      <td>0.000000</td>\n      <td>0.000000</td>\n      <td>22000.000000</td>\n      <td>0.000000</td>\n      <td>0</td>\n      <td>0</td>\n      <td>0</td>\n      <td>0</td>\n      <td>0</td>\n      <td>0</td>\n    </tr>\n    <tr>\n      <th>b: TKN Trading Liquidity</th>\n      <td>0</td>\n      <td>0.000000</td>\n      <td>0.000000</td>\n      <td>20000.000000</td>\n      <td>0.000000</td>\n      <td>0</td>\n      <td>0</td>\n      <td>0</td>\n      <td>0</td>\n      <td>0</td>\n      <td>0</td>\n    </tr>\n    <tr>\n      <th>c: BNT Trading Liquidity</th>\n      <td>0</td>\n      <td>0.000000</td>\n      <td>0.000000</td>\n      <td>20000.000000</td>\n      <td>0.000000</td>\n      <td>0</td>\n      <td>0</td>\n      <td>0</td>\n      <td>0</td>\n      <td>0</td>\n      <td>0</td>\n    </tr>\n    <tr>\n      <th>d: BNT Current Funding</th>\n      <td>0</td>\n      <td>0.000000</td>\n      <td>0.000000</td>\n      <td>20000.000000</td>\n      <td>0.000000</td>\n      <td>0</td>\n      <td>0</td>\n      <td>0</td>\n      <td>0</td>\n      <td>0</td>\n      <td>0</td>\n    </tr>\n    <tr>\n      <th>e: Spot Rate</th>\n      <td>0</td>\n      <td>0.000000</td>\n      <td>0.000000</td>\n      <td>1.000000</td>\n      <td>0.000000</td>\n      <td>0</td>\n      <td>0</td>\n      <td>0</td>\n      <td>0</td>\n      <td>0</td>\n      <td>0</td>\n    </tr>\n    <tr>\n      <th>f: Average Rate</th>\n      <td>0</td>\n      <td>0.000000</td>\n      <td>0.000000</td>\n      <td>1.000000</td>\n      <td>0.000000</td>\n      <td>0</td>\n      <td>0</td>\n      <td>0</td>\n      <td>0</td>\n      <td>0</td>\n      <td>0</td>\n    </tr>\n    <tr>\n      <th>g: Average Inverse Rate</th>\n      <td>0</td>\n      <td>0.000000</td>\n      <td>0.000000</td>\n      <td>1.000000</td>\n      <td>0.000000</td>\n      <td>0</td>\n      <td>0</td>\n      <td>0</td>\n      <td>0</td>\n      <td>0</td>\n      <td>0</td>\n    </tr>\n    <tr>\n      <th rowspan=\"6\" valign=\"top\">3</th>\n      <th rowspan=\"6\" valign=\"top\">Network</th>\n      <th>BNT Staked Balance</th>\n      <td>20000.000000</td>\n      <td>0</td>\n      <td>0</td>\n      <td>0</td>\n      <td>0</td>\n      <td>0</td>\n      <td>0</td>\n      <td>0</td>\n      <td>0</td>\n      <td>0</td>\n      <td>0</td>\n    </tr>\n    <tr>\n      <th>Master Vault</th>\n      <td>20000.000000</td>\n      <td>0.000000</td>\n      <td>0.000000</td>\n      <td>22000.000000</td>\n      <td>0.000000</td>\n      <td>0</td>\n      <td>0</td>\n      <td>0</td>\n      <td>0</td>\n      <td>0</td>\n      <td>0</td>\n    </tr>\n    <tr>\n      <th>Protection Vault</th>\n      <td>0.000000</td>\n      <td>0.000000</td>\n      <td>0.000000</td>\n      <td>0.000000</td>\n      <td>0.000000</td>\n      <td>0</td>\n      <td>0</td>\n      <td>0</td>\n      <td>0</td>\n      <td>0</td>\n      <td>0</td>\n    </tr>\n    <tr>\n      <th>Protocol Equity</th>\n      <td>0</td>\n      <td>0</td>\n      <td>0</td>\n      <td>0</td>\n      <td>0</td>\n      <td>20000.000000</td>\n      <td>0.000000</td>\n      <td>0.000000</td>\n      <td>0.000000</td>\n      <td>0.000000</td>\n      <td>0</td>\n    </tr>\n    <tr>\n      <th>Rewards Vault</th>\n      <td>0</td>\n      <td>0</td>\n      <td>0</td>\n      <td>0</td>\n      <td>0</td>\n      <td>0.000000</td>\n      <td>0.000000</td>\n      <td>0.000000</td>\n      <td>0.000000</td>\n      <td>0.000000</td>\n      <td>0</td>\n    </tr>\n    <tr>\n      <th>Vortex</th>\n      <td>0.000000</td>\n      <td>0</td>\n      <td>0</td>\n      <td>0</td>\n      <td>0</td>\n      <td>0</td>\n      <td>0</td>\n      <td>0</td>\n      <td>0</td>\n      <td>0</td>\n      <td>0</td>\n    </tr>\n  </tbody>\n</table>\n</div>"
     },
     "execution_count": 8,
     "metadata": {},
     "output_type": "execute_result"
    }
   ],
   "source": [
    "timestamp = 14 * 5\n",
    "v3.enable_trading(tkn_name='tkn', timestamp=timestamp)\n",
    "v3.describe(decimals=6)"
   ]
  },
  {
   "cell_type": "code",
   "execution_count": 9,
   "metadata": {
    "collapsed": false,
    "pycharm": {
     "name": "#%%\n"
    }
   },
   "outputs": [
    {
     "data": {
      "text/plain": "                                               bnt       eth      link  \\\n1 Account Alice                     1000000.000000  0.000000  0.000000   \n2 Pool    a: TKN Staked Balance                  0  0.000000  0.000000   \n          b: TKN Trading Liquidity               0  0.000000  0.000000   \n          c: BNT Trading Liquidity               0  0.000000  0.000000   \n          d: BNT Current Funding                 0  0.000000  0.000000   \n          e: Spot Rate                           0  0.000000  0.000000   \n          f: Average Rate                        0  0.000000  0.000000   \n          g: Average Inverse Rate                0  0.000000  0.000000   \n3 Network BNT Staked Balance          20000.000000         0         0   \n          Master Vault                20000.000000  0.000000  0.000000   \n          Protection Vault                0.000000  0.000000  0.000000   \n          Protocol Equity                        0         0         0   \n          Rewards Vault                          0         0         0   \n          Vortex                          0.000000         0         0   \n\n                                              tkn      wbtc         bnbnt  \\\n1 Account Alice                     978000.000000  0.000000      0.000000   \n2 Pool    a: TKN Staked Balance      22000.000000  0.000000             0   \n          b: TKN Trading Liquidity   20000.000000  0.000000             0   \n          c: BNT Trading Liquidity   20000.000000  0.000000             0   \n          d: BNT Current Funding     20000.000000  0.000000             0   \n          e: Spot Rate                   1.000000  0.000000             0   \n          f: Average Rate                1.000000  0.000000             0   \n          g: Average Inverse Rate        1.000000  0.000000             0   \n3 Network BNT Staked Balance                    0         0             0   \n          Master Vault               22000.000000  0.000000             0   \n          Protection Vault               0.000000  0.000000             0   \n          Protocol Equity                       0         0  20000.000000   \n          Rewards Vault                         0         0      0.000000   \n          Vortex                                0         0             0   \n\n                                       bneth    bnlink         bntkn  \\\n1 Account Alice                     0.000000  0.000000  12000.000000   \n2 Pool    a: TKN Staked Balance            0         0             0   \n          b: TKN Trading Liquidity         0         0             0   \n          c: BNT Trading Liquidity         0         0             0   \n          d: BNT Current Funding           0         0             0   \n          e: Spot Rate                     0         0             0   \n          f: Average Rate                  0         0             0   \n          g: Average Inverse Rate          0         0             0   \n3 Network BNT Staked Balance               0         0             0   \n          Master Vault                     0         0             0   \n          Protection Vault                 0         0             0   \n          Protocol Equity           0.000000  0.000000      0.000000   \n          Rewards Vault             0.000000  0.000000  10000.000000   \n          Vortex                           0         0             0   \n\n                                      bnwbtc      vbnt  \n1 Account Alice                     0.000000  0.000000  \n2 Pool    a: TKN Staked Balance            0         0  \n          b: TKN Trading Liquidity         0         0  \n          c: BNT Trading Liquidity         0         0  \n          d: BNT Current Funding           0         0  \n          e: Spot Rate                     0         0  \n          f: Average Rate                  0         0  \n          g: Average Inverse Rate          0         0  \n3 Network BNT Staked Balance               0         0  \n          Master Vault                     0         0  \n          Protection Vault                 0         0  \n          Protocol Equity           0.000000         0  \n          Rewards Vault             0.000000         0  \n          Vortex                           0         0  ",
      "text/html": "<div>\n<style scoped>\n    .dataframe tbody tr th:only-of-type {\n        vertical-align: middle;\n    }\n\n    .dataframe tbody tr th {\n        vertical-align: top;\n    }\n\n    .dataframe thead th {\n        text-align: right;\n    }\n</style>\n<table border=\"1\" class=\"dataframe\">\n  <thead>\n    <tr style=\"text-align: right;\">\n      <th></th>\n      <th></th>\n      <th></th>\n      <th>bnt</th>\n      <th>eth</th>\n      <th>link</th>\n      <th>tkn</th>\n      <th>wbtc</th>\n      <th>bnbnt</th>\n      <th>bneth</th>\n      <th>bnlink</th>\n      <th>bntkn</th>\n      <th>bnwbtc</th>\n      <th>vbnt</th>\n    </tr>\n  </thead>\n  <tbody>\n    <tr>\n      <th>1</th>\n      <th>Account</th>\n      <th>Alice</th>\n      <td>1000000.000000</td>\n      <td>0.000000</td>\n      <td>0.000000</td>\n      <td>978000.000000</td>\n      <td>0.000000</td>\n      <td>0.000000</td>\n      <td>0.000000</td>\n      <td>0.000000</td>\n      <td>12000.000000</td>\n      <td>0.000000</td>\n      <td>0.000000</td>\n    </tr>\n    <tr>\n      <th rowspan=\"7\" valign=\"top\">2</th>\n      <th rowspan=\"7\" valign=\"top\">Pool</th>\n      <th>a: TKN Staked Balance</th>\n      <td>0</td>\n      <td>0.000000</td>\n      <td>0.000000</td>\n      <td>22000.000000</td>\n      <td>0.000000</td>\n      <td>0</td>\n      <td>0</td>\n      <td>0</td>\n      <td>0</td>\n      <td>0</td>\n      <td>0</td>\n    </tr>\n    <tr>\n      <th>b: TKN Trading Liquidity</th>\n      <td>0</td>\n      <td>0.000000</td>\n      <td>0.000000</td>\n      <td>20000.000000</td>\n      <td>0.000000</td>\n      <td>0</td>\n      <td>0</td>\n      <td>0</td>\n      <td>0</td>\n      <td>0</td>\n      <td>0</td>\n    </tr>\n    <tr>\n      <th>c: BNT Trading Liquidity</th>\n      <td>0</td>\n      <td>0.000000</td>\n      <td>0.000000</td>\n      <td>20000.000000</td>\n      <td>0.000000</td>\n      <td>0</td>\n      <td>0</td>\n      <td>0</td>\n      <td>0</td>\n      <td>0</td>\n      <td>0</td>\n    </tr>\n    <tr>\n      <th>d: BNT Current Funding</th>\n      <td>0</td>\n      <td>0.000000</td>\n      <td>0.000000</td>\n      <td>20000.000000</td>\n      <td>0.000000</td>\n      <td>0</td>\n      <td>0</td>\n      <td>0</td>\n      <td>0</td>\n      <td>0</td>\n      <td>0</td>\n    </tr>\n    <tr>\n      <th>e: Spot Rate</th>\n      <td>0</td>\n      <td>0.000000</td>\n      <td>0.000000</td>\n      <td>1.000000</td>\n      <td>0.000000</td>\n      <td>0</td>\n      <td>0</td>\n      <td>0</td>\n      <td>0</td>\n      <td>0</td>\n      <td>0</td>\n    </tr>\n    <tr>\n      <th>f: Average Rate</th>\n      <td>0</td>\n      <td>0.000000</td>\n      <td>0.000000</td>\n      <td>1.000000</td>\n      <td>0.000000</td>\n      <td>0</td>\n      <td>0</td>\n      <td>0</td>\n      <td>0</td>\n      <td>0</td>\n      <td>0</td>\n    </tr>\n    <tr>\n      <th>g: Average Inverse Rate</th>\n      <td>0</td>\n      <td>0.000000</td>\n      <td>0.000000</td>\n      <td>1.000000</td>\n      <td>0.000000</td>\n      <td>0</td>\n      <td>0</td>\n      <td>0</td>\n      <td>0</td>\n      <td>0</td>\n      <td>0</td>\n    </tr>\n    <tr>\n      <th rowspan=\"6\" valign=\"top\">3</th>\n      <th rowspan=\"6\" valign=\"top\">Network</th>\n      <th>BNT Staked Balance</th>\n      <td>20000.000000</td>\n      <td>0</td>\n      <td>0</td>\n      <td>0</td>\n      <td>0</td>\n      <td>0</td>\n      <td>0</td>\n      <td>0</td>\n      <td>0</td>\n      <td>0</td>\n      <td>0</td>\n    </tr>\n    <tr>\n      <th>Master Vault</th>\n      <td>20000.000000</td>\n      <td>0.000000</td>\n      <td>0.000000</td>\n      <td>22000.000000</td>\n      <td>0.000000</td>\n      <td>0</td>\n      <td>0</td>\n      <td>0</td>\n      <td>0</td>\n      <td>0</td>\n      <td>0</td>\n    </tr>\n    <tr>\n      <th>Protection Vault</th>\n      <td>0.000000</td>\n      <td>0.000000</td>\n      <td>0.000000</td>\n      <td>0.000000</td>\n      <td>0.000000</td>\n      <td>0</td>\n      <td>0</td>\n      <td>0</td>\n      <td>0</td>\n      <td>0</td>\n      <td>0</td>\n    </tr>\n    <tr>\n      <th>Protocol Equity</th>\n      <td>0</td>\n      <td>0</td>\n      <td>0</td>\n      <td>0</td>\n      <td>0</td>\n      <td>20000.000000</td>\n      <td>0.000000</td>\n      <td>0.000000</td>\n      <td>0.000000</td>\n      <td>0.000000</td>\n      <td>0</td>\n    </tr>\n    <tr>\n      <th>Rewards Vault</th>\n      <td>0</td>\n      <td>0</td>\n      <td>0</td>\n      <td>0</td>\n      <td>0</td>\n      <td>0.000000</td>\n      <td>0.000000</td>\n      <td>0.000000</td>\n      <td>10000.000000</td>\n      <td>0.000000</td>\n      <td>0</td>\n    </tr>\n    <tr>\n      <th>Vortex</th>\n      <td>0.000000</td>\n      <td>0</td>\n      <td>0</td>\n      <td>0</td>\n      <td>0</td>\n      <td>0</td>\n      <td>0</td>\n      <td>0</td>\n      <td>0</td>\n      <td>0</td>\n      <td>0</td>\n    </tr>\n  </tbody>\n</table>\n</div>"
     },
     "execution_count": 9,
     "metadata": {},
     "output_type": "execute_result"
    }
   ],
   "source": [
    "from bancor_research import SECONDS_PER_DAY\n",
    "\n",
    "timestamp = 14 * 6\n",
    "start_time = 14 * 7\n",
    "\n",
    "total_rewards = '10000'\n",
    "total_duration = 365 * SECONDS_PER_DAY\n",
    "\n",
    "v3.create_flat_ac_rewards_program(\n",
    "        tkn_name='tkn',\n",
    "        user_name='Alice',\n",
    "        total_rewards=total_rewards,\n",
    "        start_time=start_time,\n",
    "        total_duration=total_duration,\n",
    "        timestamp=timestamp\n",
    "    )\n",
    "\n",
    "v3.describe(decimals=6)"
   ]
  },
  {
   "cell_type": "code",
   "execution_count": 10,
   "metadata": {
    "collapsed": false,
    "pycharm": {
     "name": "#%%\n"
    }
   },
   "outputs": [
    {
     "data": {
      "text/plain": "                                               bnt       eth      link  \\\n1 Account Alice                     1000000.000000  0.000000  0.000000   \n2 Pool    a: TKN Staked Balance                  0  0.000000  0.000000   \n          b: TKN Trading Liquidity               0  0.000000  0.000000   \n          c: BNT Trading Liquidity               0  0.000000  0.000000   \n          d: BNT Current Funding                 0  0.000000  0.000000   \n          e: Spot Rate                           0  0.000000  0.000000   \n          f: Average Rate                        0  0.000000  0.000000   \n          g: Average Inverse Rate                0  0.000000  0.000000   \n3 Network BNT Staked Balance          20000.000000         0         0   \n          Master Vault                20000.000000  0.000000  0.000000   \n          Protection Vault                0.000000  0.000000  0.000000   \n          Protocol Equity                        0         0         0   \n          Rewards Vault                          0         0         0   \n          Vortex                          0.000000         0         0   \n\n                                              tkn      wbtc         bnbnt  \\\n1 Account Alice                     978000.000000  0.000000      0.000000   \n2 Pool    a: TKN Staked Balance      22000.000000  0.000000             0   \n          b: TKN Trading Liquidity   20000.000000  0.000000             0   \n          c: BNT Trading Liquidity   20000.000000  0.000000             0   \n          d: BNT Current Funding     20000.000000  0.000000             0   \n          e: Spot Rate                   1.000000  0.000000             0   \n          f: Average Rate                1.000000  0.000000             0   \n          g: Average Inverse Rate        1.000000  0.000000             0   \n3 Network BNT Staked Balance                    0         0             0   \n          Master Vault               22000.000000  0.000000             0   \n          Protection Vault               0.000000  0.000000             0   \n          Protocol Equity                       0         0  20000.000000   \n          Rewards Vault                         0         0      0.000000   \n          Vortex                                0         0             0   \n\n                                       bneth    bnlink         bntkn  \\\n1 Account Alice                     0.000000  0.000000  12000.000000   \n2 Pool    a: TKN Staked Balance            0         0             0   \n          b: TKN Trading Liquidity         0         0             0   \n          c: BNT Trading Liquidity         0         0             0   \n          d: BNT Current Funding           0         0             0   \n          e: Spot Rate                     0         0             0   \n          f: Average Rate                  0         0             0   \n          g: Average Inverse Rate          0         0             0   \n3 Network BNT Staked Balance               0         0             0   \n          Master Vault                     0         0             0   \n          Protection Vault                 0         0             0   \n          Protocol Equity           0.000000  0.000000      0.000000   \n          Rewards Vault             0.000000  0.000000   9999.991861   \n          Vortex                           0         0             0   \n\n                                      bnwbtc      vbnt  \n1 Account Alice                     0.000000  0.000000  \n2 Pool    a: TKN Staked Balance            0         0  \n          b: TKN Trading Liquidity         0         0  \n          c: BNT Trading Liquidity         0         0  \n          d: BNT Current Funding           0         0  \n          e: Spot Rate                     0         0  \n          f: Average Rate                  0         0  \n          g: Average Inverse Rate          0         0  \n3 Network BNT Staked Balance               0         0  \n          Master Vault                     0         0  \n          Protection Vault                 0         0  \n          Protocol Equity           0.000000         0  \n          Rewards Vault             0.000000         0  \n          Vortex                           0         0  ",
      "text/html": "<div>\n<style scoped>\n    .dataframe tbody tr th:only-of-type {\n        vertical-align: middle;\n    }\n\n    .dataframe tbody tr th {\n        vertical-align: top;\n    }\n\n    .dataframe thead th {\n        text-align: right;\n    }\n</style>\n<table border=\"1\" class=\"dataframe\">\n  <thead>\n    <tr style=\"text-align: right;\">\n      <th></th>\n      <th></th>\n      <th></th>\n      <th>bnt</th>\n      <th>eth</th>\n      <th>link</th>\n      <th>tkn</th>\n      <th>wbtc</th>\n      <th>bnbnt</th>\n      <th>bneth</th>\n      <th>bnlink</th>\n      <th>bntkn</th>\n      <th>bnwbtc</th>\n      <th>vbnt</th>\n    </tr>\n  </thead>\n  <tbody>\n    <tr>\n      <th>1</th>\n      <th>Account</th>\n      <th>Alice</th>\n      <td>1000000.000000</td>\n      <td>0.000000</td>\n      <td>0.000000</td>\n      <td>978000.000000</td>\n      <td>0.000000</td>\n      <td>0.000000</td>\n      <td>0.000000</td>\n      <td>0.000000</td>\n      <td>12000.000000</td>\n      <td>0.000000</td>\n      <td>0.000000</td>\n    </tr>\n    <tr>\n      <th rowspan=\"7\" valign=\"top\">2</th>\n      <th rowspan=\"7\" valign=\"top\">Pool</th>\n      <th>a: TKN Staked Balance</th>\n      <td>0</td>\n      <td>0.000000</td>\n      <td>0.000000</td>\n      <td>22000.000000</td>\n      <td>0.000000</td>\n      <td>0</td>\n      <td>0</td>\n      <td>0</td>\n      <td>0</td>\n      <td>0</td>\n      <td>0</td>\n    </tr>\n    <tr>\n      <th>b: TKN Trading Liquidity</th>\n      <td>0</td>\n      <td>0.000000</td>\n      <td>0.000000</td>\n      <td>20000.000000</td>\n      <td>0.000000</td>\n      <td>0</td>\n      <td>0</td>\n      <td>0</td>\n      <td>0</td>\n      <td>0</td>\n      <td>0</td>\n    </tr>\n    <tr>\n      <th>c: BNT Trading Liquidity</th>\n      <td>0</td>\n      <td>0.000000</td>\n      <td>0.000000</td>\n      <td>20000.000000</td>\n      <td>0.000000</td>\n      <td>0</td>\n      <td>0</td>\n      <td>0</td>\n      <td>0</td>\n      <td>0</td>\n      <td>0</td>\n    </tr>\n    <tr>\n      <th>d: BNT Current Funding</th>\n      <td>0</td>\n      <td>0.000000</td>\n      <td>0.000000</td>\n      <td>20000.000000</td>\n      <td>0.000000</td>\n      <td>0</td>\n      <td>0</td>\n      <td>0</td>\n      <td>0</td>\n      <td>0</td>\n      <td>0</td>\n    </tr>\n    <tr>\n      <th>e: Spot Rate</th>\n      <td>0</td>\n      <td>0.000000</td>\n      <td>0.000000</td>\n      <td>1.000000</td>\n      <td>0.000000</td>\n      <td>0</td>\n      <td>0</td>\n      <td>0</td>\n      <td>0</td>\n      <td>0</td>\n      <td>0</td>\n    </tr>\n    <tr>\n      <th>f: Average Rate</th>\n      <td>0</td>\n      <td>0.000000</td>\n      <td>0.000000</td>\n      <td>1.000000</td>\n      <td>0.000000</td>\n      <td>0</td>\n      <td>0</td>\n      <td>0</td>\n      <td>0</td>\n      <td>0</td>\n      <td>0</td>\n    </tr>\n    <tr>\n      <th>g: Average Inverse Rate</th>\n      <td>0</td>\n      <td>0.000000</td>\n      <td>0.000000</td>\n      <td>1.000000</td>\n      <td>0.000000</td>\n      <td>0</td>\n      <td>0</td>\n      <td>0</td>\n      <td>0</td>\n      <td>0</td>\n      <td>0</td>\n    </tr>\n    <tr>\n      <th rowspan=\"6\" valign=\"top\">3</th>\n      <th rowspan=\"6\" valign=\"top\">Network</th>\n      <th>BNT Staked Balance</th>\n      <td>20000.000000</td>\n      <td>0</td>\n      <td>0</td>\n      <td>0</td>\n      <td>0</td>\n      <td>0</td>\n      <td>0</td>\n      <td>0</td>\n      <td>0</td>\n      <td>0</td>\n      <td>0</td>\n    </tr>\n    <tr>\n      <th>Master Vault</th>\n      <td>20000.000000</td>\n      <td>0.000000</td>\n      <td>0.000000</td>\n      <td>22000.000000</td>\n      <td>0.000000</td>\n      <td>0</td>\n      <td>0</td>\n      <td>0</td>\n      <td>0</td>\n      <td>0</td>\n      <td>0</td>\n    </tr>\n    <tr>\n      <th>Protection Vault</th>\n      <td>0.000000</td>\n      <td>0.000000</td>\n      <td>0.000000</td>\n      <td>0.000000</td>\n      <td>0.000000</td>\n      <td>0</td>\n      <td>0</td>\n      <td>0</td>\n      <td>0</td>\n      <td>0</td>\n      <td>0</td>\n    </tr>\n    <tr>\n      <th>Protocol Equity</th>\n      <td>0</td>\n      <td>0</td>\n      <td>0</td>\n      <td>0</td>\n      <td>0</td>\n      <td>20000.000000</td>\n      <td>0.000000</td>\n      <td>0.000000</td>\n      <td>0.000000</td>\n      <td>0.000000</td>\n      <td>0</td>\n    </tr>\n    <tr>\n      <th>Rewards Vault</th>\n      <td>0</td>\n      <td>0</td>\n      <td>0</td>\n      <td>0</td>\n      <td>0</td>\n      <td>0.000000</td>\n      <td>0.000000</td>\n      <td>0.000000</td>\n      <td>9999.991861</td>\n      <td>0.000000</td>\n      <td>0</td>\n    </tr>\n    <tr>\n      <th>Vortex</th>\n      <td>0.000000</td>\n      <td>0</td>\n      <td>0</td>\n      <td>0</td>\n      <td>0</td>\n      <td>0</td>\n      <td>0</td>\n      <td>0</td>\n      <td>0</td>\n      <td>0</td>\n      <td>0</td>\n    </tr>\n  </tbody>\n</table>\n</div>"
     },
     "execution_count": 10,
     "metadata": {},
     "output_type": "execute_result"
    }
   ],
   "source": [
    "timestamp = 14 * 8\n",
    "v3.process_ac_rewards_program(tkn_name='tkn', timestamp=timestamp)\n",
    "\n",
    "v3.describe(decimals=6)"
   ]
  },
  {
   "cell_type": "code",
   "execution_count": 11,
   "metadata": {
    "collapsed": false,
    "pycharm": {
     "name": "#%%\n"
    }
   },
   "outputs": [
    {
     "data": {
      "text/plain": "                                               bnt       eth      link  \\\n1 Account Alice                     1000000.000000  0.000000  0.000000   \n2 Pool    a: TKN Staked Balance                  0  0.000000  0.000000   \n          b: TKN Trading Liquidity               0  0.000000  0.000000   \n          c: BNT Trading Liquidity               0  0.000000  0.000000   \n          d: BNT Current Funding                 0  0.000000  0.000000   \n          e: Spot Rate                           0  0.000000  0.000000   \n          f: Average Rate                        0  0.000000  0.000000   \n          g: Average Inverse Rate                0  0.000000  0.000000   \n3 Network BNT Staked Balance          20000.000000         0         0   \n          Master Vault                20000.000000  0.000000  0.000000   \n          Protection Vault                0.000000  0.000000  0.000000   \n          Protocol Equity                        0         0         0   \n          Rewards Vault                          0         0         0   \n          Vortex                          0.000000         0         0   \n\n                                              tkn      wbtc         bnbnt  \\\n1 Account Alice                     978000.000000  0.000000      0.000000   \n2 Pool    a: TKN Staked Balance      22000.000000  0.000000             0   \n          b: TKN Trading Liquidity   20000.000000  0.000000             0   \n          c: BNT Trading Liquidity   20000.000000  0.000000             0   \n          d: BNT Current Funding     20000.000000  0.000000             0   \n          e: Spot Rate                   1.000000  0.000000             0   \n          f: Average Rate                1.000000  0.000000             0   \n          g: Average Inverse Rate        1.000000  0.000000             0   \n3 Network BNT Staked Balance                    0         0             0   \n          Master Vault               22000.000000  0.000000             0   \n          Protection Vault               0.000000  0.000000             0   \n          Protocol Equity                       0         0  20000.000000   \n          Rewards Vault                         0         0      0.000000   \n          Vortex                                0         0             0   \n\n                                       bneth    bnlink         bntkn  \\\n1 Account Alice                     0.000000  0.000000  12000.000000   \n2 Pool    a: TKN Staked Balance            0         0             0   \n          b: TKN Trading Liquidity         0         0             0   \n          c: BNT Trading Liquidity         0         0             0   \n          d: BNT Current Funding           0         0             0   \n          e: Spot Rate                     0         0             0   \n          f: Average Rate                  0         0             0   \n          g: Average Inverse Rate          0         0             0   \n3 Network BNT Staked Balance               0         0             0   \n          Master Vault                     0         0             0   \n          Protection Vault                 0         0             0   \n          Protocol Equity           0.000000  0.000000      0.000000   \n          Rewards Vault             0.000000  0.000000   9999.983722   \n          Vortex                           0         0             0   \n\n                                      bnwbtc      vbnt  \n1 Account Alice                     0.000000  0.000000  \n2 Pool    a: TKN Staked Balance            0         0  \n          b: TKN Trading Liquidity         0         0  \n          c: BNT Trading Liquidity         0         0  \n          d: BNT Current Funding           0         0  \n          e: Spot Rate                     0         0  \n          f: Average Rate                  0         0  \n          g: Average Inverse Rate          0         0  \n3 Network BNT Staked Balance               0         0  \n          Master Vault                     0         0  \n          Protection Vault                 0         0  \n          Protocol Equity           0.000000         0  \n          Rewards Vault             0.000000         0  \n          Vortex                           0         0  ",
      "text/html": "<div>\n<style scoped>\n    .dataframe tbody tr th:only-of-type {\n        vertical-align: middle;\n    }\n\n    .dataframe tbody tr th {\n        vertical-align: top;\n    }\n\n    .dataframe thead th {\n        text-align: right;\n    }\n</style>\n<table border=\"1\" class=\"dataframe\">\n  <thead>\n    <tr style=\"text-align: right;\">\n      <th></th>\n      <th></th>\n      <th></th>\n      <th>bnt</th>\n      <th>eth</th>\n      <th>link</th>\n      <th>tkn</th>\n      <th>wbtc</th>\n      <th>bnbnt</th>\n      <th>bneth</th>\n      <th>bnlink</th>\n      <th>bntkn</th>\n      <th>bnwbtc</th>\n      <th>vbnt</th>\n    </tr>\n  </thead>\n  <tbody>\n    <tr>\n      <th>1</th>\n      <th>Account</th>\n      <th>Alice</th>\n      <td>1000000.000000</td>\n      <td>0.000000</td>\n      <td>0.000000</td>\n      <td>978000.000000</td>\n      <td>0.000000</td>\n      <td>0.000000</td>\n      <td>0.000000</td>\n      <td>0.000000</td>\n      <td>12000.000000</td>\n      <td>0.000000</td>\n      <td>0.000000</td>\n    </tr>\n    <tr>\n      <th rowspan=\"7\" valign=\"top\">2</th>\n      <th rowspan=\"7\" valign=\"top\">Pool</th>\n      <th>a: TKN Staked Balance</th>\n      <td>0</td>\n      <td>0.000000</td>\n      <td>0.000000</td>\n      <td>22000.000000</td>\n      <td>0.000000</td>\n      <td>0</td>\n      <td>0</td>\n      <td>0</td>\n      <td>0</td>\n      <td>0</td>\n      <td>0</td>\n    </tr>\n    <tr>\n      <th>b: TKN Trading Liquidity</th>\n      <td>0</td>\n      <td>0.000000</td>\n      <td>0.000000</td>\n      <td>20000.000000</td>\n      <td>0.000000</td>\n      <td>0</td>\n      <td>0</td>\n      <td>0</td>\n      <td>0</td>\n      <td>0</td>\n      <td>0</td>\n    </tr>\n    <tr>\n      <th>c: BNT Trading Liquidity</th>\n      <td>0</td>\n      <td>0.000000</td>\n      <td>0.000000</td>\n      <td>20000.000000</td>\n      <td>0.000000</td>\n      <td>0</td>\n      <td>0</td>\n      <td>0</td>\n      <td>0</td>\n      <td>0</td>\n      <td>0</td>\n    </tr>\n    <tr>\n      <th>d: BNT Current Funding</th>\n      <td>0</td>\n      <td>0.000000</td>\n      <td>0.000000</td>\n      <td>20000.000000</td>\n      <td>0.000000</td>\n      <td>0</td>\n      <td>0</td>\n      <td>0</td>\n      <td>0</td>\n      <td>0</td>\n      <td>0</td>\n    </tr>\n    <tr>\n      <th>e: Spot Rate</th>\n      <td>0</td>\n      <td>0.000000</td>\n      <td>0.000000</td>\n      <td>1.000000</td>\n      <td>0.000000</td>\n      <td>0</td>\n      <td>0</td>\n      <td>0</td>\n      <td>0</td>\n      <td>0</td>\n      <td>0</td>\n    </tr>\n    <tr>\n      <th>f: Average Rate</th>\n      <td>0</td>\n      <td>0.000000</td>\n      <td>0.000000</td>\n      <td>1.000000</td>\n      <td>0.000000</td>\n      <td>0</td>\n      <td>0</td>\n      <td>0</td>\n      <td>0</td>\n      <td>0</td>\n      <td>0</td>\n    </tr>\n    <tr>\n      <th>g: Average Inverse Rate</th>\n      <td>0</td>\n      <td>0.000000</td>\n      <td>0.000000</td>\n      <td>1.000000</td>\n      <td>0.000000</td>\n      <td>0</td>\n      <td>0</td>\n      <td>0</td>\n      <td>0</td>\n      <td>0</td>\n      <td>0</td>\n    </tr>\n    <tr>\n      <th rowspan=\"6\" valign=\"top\">3</th>\n      <th rowspan=\"6\" valign=\"top\">Network</th>\n      <th>BNT Staked Balance</th>\n      <td>20000.000000</td>\n      <td>0</td>\n      <td>0</td>\n      <td>0</td>\n      <td>0</td>\n      <td>0</td>\n      <td>0</td>\n      <td>0</td>\n      <td>0</td>\n      <td>0</td>\n      <td>0</td>\n    </tr>\n    <tr>\n      <th>Master Vault</th>\n      <td>20000.000000</td>\n      <td>0.000000</td>\n      <td>0.000000</td>\n      <td>22000.000000</td>\n      <td>0.000000</td>\n      <td>0</td>\n      <td>0</td>\n      <td>0</td>\n      <td>0</td>\n      <td>0</td>\n      <td>0</td>\n    </tr>\n    <tr>\n      <th>Protection Vault</th>\n      <td>0.000000</td>\n      <td>0.000000</td>\n      <td>0.000000</td>\n      <td>0.000000</td>\n      <td>0.000000</td>\n      <td>0</td>\n      <td>0</td>\n      <td>0</td>\n      <td>0</td>\n      <td>0</td>\n      <td>0</td>\n    </tr>\n    <tr>\n      <th>Protocol Equity</th>\n      <td>0</td>\n      <td>0</td>\n      <td>0</td>\n      <td>0</td>\n      <td>0</td>\n      <td>20000.000000</td>\n      <td>0.000000</td>\n      <td>0.000000</td>\n      <td>0.000000</td>\n      <td>0.000000</td>\n      <td>0</td>\n    </tr>\n    <tr>\n      <th>Rewards Vault</th>\n      <td>0</td>\n      <td>0</td>\n      <td>0</td>\n      <td>0</td>\n      <td>0</td>\n      <td>0.000000</td>\n      <td>0.000000</td>\n      <td>0.000000</td>\n      <td>9999.983722</td>\n      <td>0.000000</td>\n      <td>0</td>\n    </tr>\n    <tr>\n      <th>Vortex</th>\n      <td>0.000000</td>\n      <td>0</td>\n      <td>0</td>\n      <td>0</td>\n      <td>0</td>\n      <td>0</td>\n      <td>0</td>\n      <td>0</td>\n      <td>0</td>\n      <td>0</td>\n      <td>0</td>\n    </tr>\n  </tbody>\n</table>\n</div>"
     },
     "execution_count": 11,
     "metadata": {},
     "output_type": "execute_result"
    }
   ],
   "source": [
    "timestamp = 14 * 9\n",
    "v3.process_ac_rewards_program(tkn_name='tkn', timestamp=timestamp)\n",
    "v3.describe(decimals=6)"
   ]
  },
  {
   "cell_type": "code",
   "execution_count": 12,
   "metadata": {
    "collapsed": false,
    "pycharm": {
     "name": "#%%\n"
    }
   },
   "outputs": [
    {
     "data": {
      "text/plain": "                                               bnt       eth      link  \\\n1 Account Alice                     1000000.000000  0.000000  0.000000   \n2 Pool    a: TKN Staked Balance                  0  0.000000  0.000000   \n          b: TKN Trading Liquidity               0  0.000000  0.000000   \n          c: BNT Trading Liquidity               0  0.000000  0.000000   \n          d: BNT Current Funding                 0  0.000000  0.000000   \n          e: Spot Rate                           0  0.000000  0.000000   \n          f: Average Rate                        0  0.000000  0.000000   \n          g: Average Inverse Rate                0  0.000000  0.000000   \n3 Network BNT Staked Balance          24000.000000         0         0   \n          Master Vault                24000.000000  0.000000  0.000000   \n          Protection Vault                0.000000  0.000000  0.000000   \n          Protocol Equity                        0         0         0   \n          Rewards Vault                          0         0         0   \n          Vortex                          0.000000         0         0   \n\n                                              tkn      wbtc         bnbnt  \\\n1 Account Alice                     976000.000000  0.000000      0.000000   \n2 Pool    a: TKN Staked Balance      24000.000000  0.000000             0   \n          b: TKN Trading Liquidity   24000.000000  0.000000             0   \n          c: BNT Trading Liquidity   24000.000000  0.000000             0   \n          d: BNT Current Funding     24000.000000  0.000000             0   \n          e: Spot Rate                   1.000000  0.000000             0   \n          f: Average Rate                1.000000  0.000000             0   \n          g: Average Inverse Rate        1.000000  0.000000             0   \n3 Network BNT Staked Balance                    0         0             0   \n          Master Vault               24000.000000  0.000000             0   \n          Protection Vault               0.000000  0.000000             0   \n          Protocol Equity                       0         0  24000.000000   \n          Rewards Vault                         0         0      0.000000   \n          Vortex                                0         0             0   \n\n                                       bneth    bnlink         bntkn  \\\n1 Account Alice                     0.000000  0.000000  13999.998520   \n2 Pool    a: TKN Staked Balance            0         0             0   \n          b: TKN Trading Liquidity         0         0             0   \n          c: BNT Trading Liquidity         0         0             0   \n          d: BNT Current Funding           0         0             0   \n          e: Spot Rate                     0         0             0   \n          f: Average Rate                  0         0             0   \n          g: Average Inverse Rate          0         0             0   \n3 Network BNT Staked Balance               0         0             0   \n          Master Vault                     0         0             0   \n          Protection Vault                 0         0             0   \n          Protocol Equity           0.000000  0.000000      0.000000   \n          Rewards Vault             0.000000  0.000000   9999.983722   \n          Vortex                           0         0             0   \n\n                                      bnwbtc      vbnt  \n1 Account Alice                     0.000000  0.000000  \n2 Pool    a: TKN Staked Balance            0         0  \n          b: TKN Trading Liquidity         0         0  \n          c: BNT Trading Liquidity         0         0  \n          d: BNT Current Funding           0         0  \n          e: Spot Rate                     0         0  \n          f: Average Rate                  0         0  \n          g: Average Inverse Rate          0         0  \n3 Network BNT Staked Balance               0         0  \n          Master Vault                     0         0  \n          Protection Vault                 0         0  \n          Protocol Equity           0.000000         0  \n          Rewards Vault             0.000000         0  \n          Vortex                           0         0  ",
      "text/html": "<div>\n<style scoped>\n    .dataframe tbody tr th:only-of-type {\n        vertical-align: middle;\n    }\n\n    .dataframe tbody tr th {\n        vertical-align: top;\n    }\n\n    .dataframe thead th {\n        text-align: right;\n    }\n</style>\n<table border=\"1\" class=\"dataframe\">\n  <thead>\n    <tr style=\"text-align: right;\">\n      <th></th>\n      <th></th>\n      <th></th>\n      <th>bnt</th>\n      <th>eth</th>\n      <th>link</th>\n      <th>tkn</th>\n      <th>wbtc</th>\n      <th>bnbnt</th>\n      <th>bneth</th>\n      <th>bnlink</th>\n      <th>bntkn</th>\n      <th>bnwbtc</th>\n      <th>vbnt</th>\n    </tr>\n  </thead>\n  <tbody>\n    <tr>\n      <th>1</th>\n      <th>Account</th>\n      <th>Alice</th>\n      <td>1000000.000000</td>\n      <td>0.000000</td>\n      <td>0.000000</td>\n      <td>976000.000000</td>\n      <td>0.000000</td>\n      <td>0.000000</td>\n      <td>0.000000</td>\n      <td>0.000000</td>\n      <td>13999.998520</td>\n      <td>0.000000</td>\n      <td>0.000000</td>\n    </tr>\n    <tr>\n      <th rowspan=\"7\" valign=\"top\">2</th>\n      <th rowspan=\"7\" valign=\"top\">Pool</th>\n      <th>a: TKN Staked Balance</th>\n      <td>0</td>\n      <td>0.000000</td>\n      <td>0.000000</td>\n      <td>24000.000000</td>\n      <td>0.000000</td>\n      <td>0</td>\n      <td>0</td>\n      <td>0</td>\n      <td>0</td>\n      <td>0</td>\n      <td>0</td>\n    </tr>\n    <tr>\n      <th>b: TKN Trading Liquidity</th>\n      <td>0</td>\n      <td>0.000000</td>\n      <td>0.000000</td>\n      <td>24000.000000</td>\n      <td>0.000000</td>\n      <td>0</td>\n      <td>0</td>\n      <td>0</td>\n      <td>0</td>\n      <td>0</td>\n      <td>0</td>\n    </tr>\n    <tr>\n      <th>c: BNT Trading Liquidity</th>\n      <td>0</td>\n      <td>0.000000</td>\n      <td>0.000000</td>\n      <td>24000.000000</td>\n      <td>0.000000</td>\n      <td>0</td>\n      <td>0</td>\n      <td>0</td>\n      <td>0</td>\n      <td>0</td>\n      <td>0</td>\n    </tr>\n    <tr>\n      <th>d: BNT Current Funding</th>\n      <td>0</td>\n      <td>0.000000</td>\n      <td>0.000000</td>\n      <td>24000.000000</td>\n      <td>0.000000</td>\n      <td>0</td>\n      <td>0</td>\n      <td>0</td>\n      <td>0</td>\n      <td>0</td>\n      <td>0</td>\n    </tr>\n    <tr>\n      <th>e: Spot Rate</th>\n      <td>0</td>\n      <td>0.000000</td>\n      <td>0.000000</td>\n      <td>1.000000</td>\n      <td>0.000000</td>\n      <td>0</td>\n      <td>0</td>\n      <td>0</td>\n      <td>0</td>\n      <td>0</td>\n      <td>0</td>\n    </tr>\n    <tr>\n      <th>f: Average Rate</th>\n      <td>0</td>\n      <td>0.000000</td>\n      <td>0.000000</td>\n      <td>1.000000</td>\n      <td>0.000000</td>\n      <td>0</td>\n      <td>0</td>\n      <td>0</td>\n      <td>0</td>\n      <td>0</td>\n      <td>0</td>\n    </tr>\n    <tr>\n      <th>g: Average Inverse Rate</th>\n      <td>0</td>\n      <td>0.000000</td>\n      <td>0.000000</td>\n      <td>1.000000</td>\n      <td>0.000000</td>\n      <td>0</td>\n      <td>0</td>\n      <td>0</td>\n      <td>0</td>\n      <td>0</td>\n      <td>0</td>\n    </tr>\n    <tr>\n      <th rowspan=\"6\" valign=\"top\">3</th>\n      <th rowspan=\"6\" valign=\"top\">Network</th>\n      <th>BNT Staked Balance</th>\n      <td>24000.000000</td>\n      <td>0</td>\n      <td>0</td>\n      <td>0</td>\n      <td>0</td>\n      <td>0</td>\n      <td>0</td>\n      <td>0</td>\n      <td>0</td>\n      <td>0</td>\n      <td>0</td>\n    </tr>\n    <tr>\n      <th>Master Vault</th>\n      <td>24000.000000</td>\n      <td>0.000000</td>\n      <td>0.000000</td>\n      <td>24000.000000</td>\n      <td>0.000000</td>\n      <td>0</td>\n      <td>0</td>\n      <td>0</td>\n      <td>0</td>\n      <td>0</td>\n      <td>0</td>\n    </tr>\n    <tr>\n      <th>Protection Vault</th>\n      <td>0.000000</td>\n      <td>0.000000</td>\n      <td>0.000000</td>\n      <td>0.000000</td>\n      <td>0.000000</td>\n      <td>0</td>\n      <td>0</td>\n      <td>0</td>\n      <td>0</td>\n      <td>0</td>\n      <td>0</td>\n    </tr>\n    <tr>\n      <th>Protocol Equity</th>\n      <td>0</td>\n      <td>0</td>\n      <td>0</td>\n      <td>0</td>\n      <td>0</td>\n      <td>24000.000000</td>\n      <td>0.000000</td>\n      <td>0.000000</td>\n      <td>0.000000</td>\n      <td>0.000000</td>\n      <td>0</td>\n    </tr>\n    <tr>\n      <th>Rewards Vault</th>\n      <td>0</td>\n      <td>0</td>\n      <td>0</td>\n      <td>0</td>\n      <td>0</td>\n      <td>0.000000</td>\n      <td>0.000000</td>\n      <td>0.000000</td>\n      <td>9999.983722</td>\n      <td>0.000000</td>\n      <td>0</td>\n    </tr>\n    <tr>\n      <th>Vortex</th>\n      <td>0.000000</td>\n      <td>0</td>\n      <td>0</td>\n      <td>0</td>\n      <td>0</td>\n      <td>0</td>\n      <td>0</td>\n      <td>0</td>\n      <td>0</td>\n      <td>0</td>\n      <td>0</td>\n    </tr>\n  </tbody>\n</table>\n</div>"
     },
     "execution_count": 12,
     "metadata": {},
     "output_type": "execute_result"
    }
   ],
   "source": [
    "timestamp = 14 * 10\n",
    "v3.deposit(tkn_name='tkn', tkn_amt='2000', user_name='Alice', timestamp=timestamp)\n",
    "v3.describe(decimals=6)"
   ]
  },
  {
   "cell_type": "code",
   "execution_count": 13,
   "metadata": {
    "collapsed": false,
    "pycharm": {
     "name": "#%%\n"
    }
   },
   "outputs": [
    {
     "data": {
      "text/plain": "                                               bnt       eth      link  \\\n1 Account Alice                     1000000.000000  0.000000  0.000000   \n2 Pool    a: TKN Staked Balance                  0  0.000000  0.000000   \n          b: TKN Trading Liquidity               0  0.000000  0.000000   \n          c: BNT Trading Liquidity               0  0.000000  0.000000   \n          d: BNT Current Funding                 0  0.000000  0.000000   \n          e: Spot Rate                           0  0.000000  0.000000   \n          f: Average Rate                        0  0.000000  0.000000   \n          g: Average Inverse Rate                0  0.000000  0.000000   \n3 Network BNT Staked Balance          24000.000000         0         0   \n          Master Vault                24000.000000  0.000000  0.000000   \n          Protection Vault                0.000000  0.000000  0.000000   \n          Protocol Equity                        0         0         0   \n          Rewards Vault                          0         0         0   \n          Vortex                          0.000000         0         0   \n\n                                              tkn      wbtc         bnbnt  \\\n1 Account Alice                     976000.000000  0.000000      0.000000   \n2 Pool    a: TKN Staked Balance      24000.000000  0.000000             0   \n          b: TKN Trading Liquidity   24000.000000  0.000000             0   \n          c: BNT Trading Liquidity   24000.000000  0.000000             0   \n          d: BNT Current Funding     24000.000000  0.000000             0   \n          e: Spot Rate                   1.000000  0.000000             0   \n          f: Average Rate                1.000000  0.000000             0   \n          g: Average Inverse Rate        1.000000  0.000000             0   \n3 Network BNT Staked Balance                    0         0             0   \n          Master Vault               24000.000000  0.000000             0   \n          Protection Vault               0.000000  0.000000             0   \n          Protocol Equity                       0         0  24000.000000   \n          Rewards Vault                         0         0      0.000000   \n          Vortex                                0         0             0   \n\n                                       bneth    bnlink         bntkn  \\\n1 Account Alice                     0.000000  0.000000  13999.998520   \n2 Pool    a: TKN Staked Balance            0         0             0   \n          b: TKN Trading Liquidity         0         0             0   \n          c: BNT Trading Liquidity         0         0             0   \n          d: BNT Current Funding           0         0             0   \n          e: Spot Rate                     0         0             0   \n          f: Average Rate                  0         0             0   \n          g: Average Inverse Rate          0         0             0   \n3 Network BNT Staked Balance               0         0             0   \n          Master Vault                     0         0             0   \n          Protection Vault                 0         0             0   \n          Protocol Equity           0.000000  0.000000      0.000000   \n          Rewards Vault             0.000000  0.000000   9999.968502   \n          Vortex                           0         0             0   \n\n                                      bnwbtc      vbnt  \n1 Account Alice                     0.000000  0.000000  \n2 Pool    a: TKN Staked Balance            0         0  \n          b: TKN Trading Liquidity         0         0  \n          c: BNT Trading Liquidity         0         0  \n          d: BNT Current Funding           0         0  \n          e: Spot Rate                     0         0  \n          f: Average Rate                  0         0  \n          g: Average Inverse Rate          0         0  \n3 Network BNT Staked Balance               0         0  \n          Master Vault                     0         0  \n          Protection Vault                 0         0  \n          Protocol Equity           0.000000         0  \n          Rewards Vault             0.000000         0  \n          Vortex                           0         0  ",
      "text/html": "<div>\n<style scoped>\n    .dataframe tbody tr th:only-of-type {\n        vertical-align: middle;\n    }\n\n    .dataframe tbody tr th {\n        vertical-align: top;\n    }\n\n    .dataframe thead th {\n        text-align: right;\n    }\n</style>\n<table border=\"1\" class=\"dataframe\">\n  <thead>\n    <tr style=\"text-align: right;\">\n      <th></th>\n      <th></th>\n      <th></th>\n      <th>bnt</th>\n      <th>eth</th>\n      <th>link</th>\n      <th>tkn</th>\n      <th>wbtc</th>\n      <th>bnbnt</th>\n      <th>bneth</th>\n      <th>bnlink</th>\n      <th>bntkn</th>\n      <th>bnwbtc</th>\n      <th>vbnt</th>\n    </tr>\n  </thead>\n  <tbody>\n    <tr>\n      <th>1</th>\n      <th>Account</th>\n      <th>Alice</th>\n      <td>1000000.000000</td>\n      <td>0.000000</td>\n      <td>0.000000</td>\n      <td>976000.000000</td>\n      <td>0.000000</td>\n      <td>0.000000</td>\n      <td>0.000000</td>\n      <td>0.000000</td>\n      <td>13999.998520</td>\n      <td>0.000000</td>\n      <td>0.000000</td>\n    </tr>\n    <tr>\n      <th rowspan=\"7\" valign=\"top\">2</th>\n      <th rowspan=\"7\" valign=\"top\">Pool</th>\n      <th>a: TKN Staked Balance</th>\n      <td>0</td>\n      <td>0.000000</td>\n      <td>0.000000</td>\n      <td>24000.000000</td>\n      <td>0.000000</td>\n      <td>0</td>\n      <td>0</td>\n      <td>0</td>\n      <td>0</td>\n      <td>0</td>\n      <td>0</td>\n    </tr>\n    <tr>\n      <th>b: TKN Trading Liquidity</th>\n      <td>0</td>\n      <td>0.000000</td>\n      <td>0.000000</td>\n      <td>24000.000000</td>\n      <td>0.000000</td>\n      <td>0</td>\n      <td>0</td>\n      <td>0</td>\n      <td>0</td>\n      <td>0</td>\n      <td>0</td>\n    </tr>\n    <tr>\n      <th>c: BNT Trading Liquidity</th>\n      <td>0</td>\n      <td>0.000000</td>\n      <td>0.000000</td>\n      <td>24000.000000</td>\n      <td>0.000000</td>\n      <td>0</td>\n      <td>0</td>\n      <td>0</td>\n      <td>0</td>\n      <td>0</td>\n      <td>0</td>\n    </tr>\n    <tr>\n      <th>d: BNT Current Funding</th>\n      <td>0</td>\n      <td>0.000000</td>\n      <td>0.000000</td>\n      <td>24000.000000</td>\n      <td>0.000000</td>\n      <td>0</td>\n      <td>0</td>\n      <td>0</td>\n      <td>0</td>\n      <td>0</td>\n      <td>0</td>\n    </tr>\n    <tr>\n      <th>e: Spot Rate</th>\n      <td>0</td>\n      <td>0.000000</td>\n      <td>0.000000</td>\n      <td>1.000000</td>\n      <td>0.000000</td>\n      <td>0</td>\n      <td>0</td>\n      <td>0</td>\n      <td>0</td>\n      <td>0</td>\n      <td>0</td>\n    </tr>\n    <tr>\n      <th>f: Average Rate</th>\n      <td>0</td>\n      <td>0.000000</td>\n      <td>0.000000</td>\n      <td>1.000000</td>\n      <td>0.000000</td>\n      <td>0</td>\n      <td>0</td>\n      <td>0</td>\n      <td>0</td>\n      <td>0</td>\n      <td>0</td>\n    </tr>\n    <tr>\n      <th>g: Average Inverse Rate</th>\n      <td>0</td>\n      <td>0.000000</td>\n      <td>0.000000</td>\n      <td>1.000000</td>\n      <td>0.000000</td>\n      <td>0</td>\n      <td>0</td>\n      <td>0</td>\n      <td>0</td>\n      <td>0</td>\n      <td>0</td>\n    </tr>\n    <tr>\n      <th rowspan=\"6\" valign=\"top\">3</th>\n      <th rowspan=\"6\" valign=\"top\">Network</th>\n      <th>BNT Staked Balance</th>\n      <td>24000.000000</td>\n      <td>0</td>\n      <td>0</td>\n      <td>0</td>\n      <td>0</td>\n      <td>0</td>\n      <td>0</td>\n      <td>0</td>\n      <td>0</td>\n      <td>0</td>\n      <td>0</td>\n    </tr>\n    <tr>\n      <th>Master Vault</th>\n      <td>24000.000000</td>\n      <td>0.000000</td>\n      <td>0.000000</td>\n      <td>24000.000000</td>\n      <td>0.000000</td>\n      <td>0</td>\n      <td>0</td>\n      <td>0</td>\n      <td>0</td>\n      <td>0</td>\n      <td>0</td>\n    </tr>\n    <tr>\n      <th>Protection Vault</th>\n      <td>0.000000</td>\n      <td>0.000000</td>\n      <td>0.000000</td>\n      <td>0.000000</td>\n      <td>0.000000</td>\n      <td>0</td>\n      <td>0</td>\n      <td>0</td>\n      <td>0</td>\n      <td>0</td>\n      <td>0</td>\n    </tr>\n    <tr>\n      <th>Protocol Equity</th>\n      <td>0</td>\n      <td>0</td>\n      <td>0</td>\n      <td>0</td>\n      <td>0</td>\n      <td>24000.000000</td>\n      <td>0.000000</td>\n      <td>0.000000</td>\n      <td>0.000000</td>\n      <td>0.000000</td>\n      <td>0</td>\n    </tr>\n    <tr>\n      <th>Rewards Vault</th>\n      <td>0</td>\n      <td>0</td>\n      <td>0</td>\n      <td>0</td>\n      <td>0</td>\n      <td>0.000000</td>\n      <td>0.000000</td>\n      <td>0.000000</td>\n      <td>9999.968502</td>\n      <td>0.000000</td>\n      <td>0</td>\n    </tr>\n    <tr>\n      <th>Vortex</th>\n      <td>0.000000</td>\n      <td>0</td>\n      <td>0</td>\n      <td>0</td>\n      <td>0</td>\n      <td>0</td>\n      <td>0</td>\n      <td>0</td>\n      <td>0</td>\n      <td>0</td>\n      <td>0</td>\n    </tr>\n  </tbody>\n</table>\n</div>"
     },
     "execution_count": 13,
     "metadata": {},
     "output_type": "execute_result"
    }
   ],
   "source": [
    "timestamp = 14 * 11\n",
    "v3.process_ac_rewards_program(tkn_name='tkn', timestamp=timestamp)\n",
    "v3.describe(decimals=6)"
   ]
  },
  {
   "cell_type": "code",
   "execution_count": 14,
   "metadata": {
    "collapsed": false,
    "pycharm": {
     "name": "#%%\n"
    }
   },
   "outputs": [
    {
     "data": {
      "text/plain": "                                               bnt       eth      link  \\\n1 Account Alice                     1000000.000000  0.000000  0.000000   \n2 Pool    a: TKN Staked Balance                  0  0.000000  0.000000   \n          b: TKN Trading Liquidity               0  0.000000  0.000000   \n          c: BNT Trading Liquidity               0  0.000000  0.000000   \n          d: BNT Current Funding                 0  0.000000  0.000000   \n          e: Spot Rate                           0  0.000000  0.000000   \n          f: Average Rate                        0  0.000000  0.000000   \n          g: Average Inverse Rate                0  0.000000  0.000000   \n3 Network BNT Staked Balance          48000.000000         0         0   \n          Master Vault                48000.000000  0.000000  0.000000   \n          Protection Vault                0.000000  0.000000  0.000000   \n          Protocol Equity                        0         0         0   \n          Rewards Vault                          0         0         0   \n          Vortex                          0.000000         0         0   \n\n                                              tkn      wbtc         bnbnt  \\\n1 Account Alice                     776000.000000  0.000000      0.000000   \n2 Pool    a: TKN Staked Balance     224000.000000  0.000000             0   \n          b: TKN Trading Liquidity   48000.000000  0.000000             0   \n          c: BNT Trading Liquidity   48000.000000  0.000000             0   \n          d: BNT Current Funding     48000.000000  0.000000             0   \n          e: Spot Rate                   1.000000  0.000000             0   \n          f: Average Rate                1.000000  0.000000             0   \n          g: Average Inverse Rate        1.000000  0.000000             0   \n3 Network BNT Staked Balance                    0         0             0   \n          Master Vault              224000.000000  0.000000             0   \n          Protection Vault               0.000000  0.000000             0   \n          Protocol Equity                       0         0  48000.000000   \n          Rewards Vault                         0         0      0.000000   \n          Vortex                                0         0             0   \n\n                                       bneth    bnlink          bntkn  \\\n1 Account Alice                     0.000000  0.000000  213999.723702   \n2 Pool    a: TKN Staked Balance            0         0              0   \n          b: TKN Trading Liquidity         0         0              0   \n          c: BNT Trading Liquidity         0         0              0   \n          d: BNT Current Funding           0         0              0   \n          e: Spot Rate                     0         0              0   \n          f: Average Rate                  0         0              0   \n          g: Average Inverse Rate          0         0              0   \n3 Network BNT Staked Balance               0         0              0   \n          Master Vault                     0         0              0   \n          Protection Vault                 0         0              0   \n          Protocol Equity           0.000000  0.000000       0.000000   \n          Rewards Vault             0.000000  0.000000    9999.968502   \n          Vortex                           0         0              0   \n\n                                      bnwbtc      vbnt  \n1 Account Alice                     0.000000  0.000000  \n2 Pool    a: TKN Staked Balance            0         0  \n          b: TKN Trading Liquidity         0         0  \n          c: BNT Trading Liquidity         0         0  \n          d: BNT Current Funding           0         0  \n          e: Spot Rate                     0         0  \n          f: Average Rate                  0         0  \n          g: Average Inverse Rate          0         0  \n3 Network BNT Staked Balance               0         0  \n          Master Vault                     0         0  \n          Protection Vault                 0         0  \n          Protocol Equity           0.000000         0  \n          Rewards Vault             0.000000         0  \n          Vortex                           0         0  ",
      "text/html": "<div>\n<style scoped>\n    .dataframe tbody tr th:only-of-type {\n        vertical-align: middle;\n    }\n\n    .dataframe tbody tr th {\n        vertical-align: top;\n    }\n\n    .dataframe thead th {\n        text-align: right;\n    }\n</style>\n<table border=\"1\" class=\"dataframe\">\n  <thead>\n    <tr style=\"text-align: right;\">\n      <th></th>\n      <th></th>\n      <th></th>\n      <th>bnt</th>\n      <th>eth</th>\n      <th>link</th>\n      <th>tkn</th>\n      <th>wbtc</th>\n      <th>bnbnt</th>\n      <th>bneth</th>\n      <th>bnlink</th>\n      <th>bntkn</th>\n      <th>bnwbtc</th>\n      <th>vbnt</th>\n    </tr>\n  </thead>\n  <tbody>\n    <tr>\n      <th>1</th>\n      <th>Account</th>\n      <th>Alice</th>\n      <td>1000000.000000</td>\n      <td>0.000000</td>\n      <td>0.000000</td>\n      <td>776000.000000</td>\n      <td>0.000000</td>\n      <td>0.000000</td>\n      <td>0.000000</td>\n      <td>0.000000</td>\n      <td>213999.723702</td>\n      <td>0.000000</td>\n      <td>0.000000</td>\n    </tr>\n    <tr>\n      <th rowspan=\"7\" valign=\"top\">2</th>\n      <th rowspan=\"7\" valign=\"top\">Pool</th>\n      <th>a: TKN Staked Balance</th>\n      <td>0</td>\n      <td>0.000000</td>\n      <td>0.000000</td>\n      <td>224000.000000</td>\n      <td>0.000000</td>\n      <td>0</td>\n      <td>0</td>\n      <td>0</td>\n      <td>0</td>\n      <td>0</td>\n      <td>0</td>\n    </tr>\n    <tr>\n      <th>b: TKN Trading Liquidity</th>\n      <td>0</td>\n      <td>0.000000</td>\n      <td>0.000000</td>\n      <td>48000.000000</td>\n      <td>0.000000</td>\n      <td>0</td>\n      <td>0</td>\n      <td>0</td>\n      <td>0</td>\n      <td>0</td>\n      <td>0</td>\n    </tr>\n    <tr>\n      <th>c: BNT Trading Liquidity</th>\n      <td>0</td>\n      <td>0.000000</td>\n      <td>0.000000</td>\n      <td>48000.000000</td>\n      <td>0.000000</td>\n      <td>0</td>\n      <td>0</td>\n      <td>0</td>\n      <td>0</td>\n      <td>0</td>\n      <td>0</td>\n    </tr>\n    <tr>\n      <th>d: BNT Current Funding</th>\n      <td>0</td>\n      <td>0.000000</td>\n      <td>0.000000</td>\n      <td>48000.000000</td>\n      <td>0.000000</td>\n      <td>0</td>\n      <td>0</td>\n      <td>0</td>\n      <td>0</td>\n      <td>0</td>\n      <td>0</td>\n    </tr>\n    <tr>\n      <th>e: Spot Rate</th>\n      <td>0</td>\n      <td>0.000000</td>\n      <td>0.000000</td>\n      <td>1.000000</td>\n      <td>0.000000</td>\n      <td>0</td>\n      <td>0</td>\n      <td>0</td>\n      <td>0</td>\n      <td>0</td>\n      <td>0</td>\n    </tr>\n    <tr>\n      <th>f: Average Rate</th>\n      <td>0</td>\n      <td>0.000000</td>\n      <td>0.000000</td>\n      <td>1.000000</td>\n      <td>0.000000</td>\n      <td>0</td>\n      <td>0</td>\n      <td>0</td>\n      <td>0</td>\n      <td>0</td>\n      <td>0</td>\n    </tr>\n    <tr>\n      <th>g: Average Inverse Rate</th>\n      <td>0</td>\n      <td>0.000000</td>\n      <td>0.000000</td>\n      <td>1.000000</td>\n      <td>0.000000</td>\n      <td>0</td>\n      <td>0</td>\n      <td>0</td>\n      <td>0</td>\n      <td>0</td>\n      <td>0</td>\n    </tr>\n    <tr>\n      <th rowspan=\"6\" valign=\"top\">3</th>\n      <th rowspan=\"6\" valign=\"top\">Network</th>\n      <th>BNT Staked Balance</th>\n      <td>48000.000000</td>\n      <td>0</td>\n      <td>0</td>\n      <td>0</td>\n      <td>0</td>\n      <td>0</td>\n      <td>0</td>\n      <td>0</td>\n      <td>0</td>\n      <td>0</td>\n      <td>0</td>\n    </tr>\n    <tr>\n      <th>Master Vault</th>\n      <td>48000.000000</td>\n      <td>0.000000</td>\n      <td>0.000000</td>\n      <td>224000.000000</td>\n      <td>0.000000</td>\n      <td>0</td>\n      <td>0</td>\n      <td>0</td>\n      <td>0</td>\n      <td>0</td>\n      <td>0</td>\n    </tr>\n    <tr>\n      <th>Protection Vault</th>\n      <td>0.000000</td>\n      <td>0.000000</td>\n      <td>0.000000</td>\n      <td>0.000000</td>\n      <td>0.000000</td>\n      <td>0</td>\n      <td>0</td>\n      <td>0</td>\n      <td>0</td>\n      <td>0</td>\n      <td>0</td>\n    </tr>\n    <tr>\n      <th>Protocol Equity</th>\n      <td>0</td>\n      <td>0</td>\n      <td>0</td>\n      <td>0</td>\n      <td>0</td>\n      <td>48000.000000</td>\n      <td>0.000000</td>\n      <td>0.000000</td>\n      <td>0.000000</td>\n      <td>0.000000</td>\n      <td>0</td>\n    </tr>\n    <tr>\n      <th>Rewards Vault</th>\n      <td>0</td>\n      <td>0</td>\n      <td>0</td>\n      <td>0</td>\n      <td>0</td>\n      <td>0.000000</td>\n      <td>0.000000</td>\n      <td>0.000000</td>\n      <td>9999.968502</td>\n      <td>0.000000</td>\n      <td>0</td>\n    </tr>\n    <tr>\n      <th>Vortex</th>\n      <td>0.000000</td>\n      <td>0</td>\n      <td>0</td>\n      <td>0</td>\n      <td>0</td>\n      <td>0</td>\n      <td>0</td>\n      <td>0</td>\n      <td>0</td>\n      <td>0</td>\n      <td>0</td>\n    </tr>\n  </tbody>\n</table>\n</div>"
     },
     "execution_count": 14,
     "metadata": {},
     "output_type": "execute_result"
    }
   ],
   "source": [
    "timestamp = 14 * 12\n",
    "v3.deposit(tkn_name='tkn', tkn_amt='200000', user_name='Alice', timestamp=timestamp)\n",
    "v3.describe(decimals=6)"
   ]
  },
  {
   "cell_type": "code",
   "execution_count": 15,
   "metadata": {
    "collapsed": false,
    "pycharm": {
     "name": "#%%\n"
    }
   },
   "outputs": [
    {
     "data": {
      "text/plain": "                                               bnt       eth      link  \\\n1 Account Alice                     1000000.000000  0.000000  0.000000   \n2 Pool    a: TKN Staked Balance                  0  0.000000  0.000000   \n          b: TKN Trading Liquidity               0  0.000000  0.000000   \n          c: BNT Trading Liquidity               0  0.000000  0.000000   \n          d: BNT Current Funding                 0  0.000000  0.000000   \n          e: Spot Rate                           0  0.000000  0.000000   \n          f: Average Rate                        0  0.000000  0.000000   \n          g: Average Inverse Rate                0  0.000000  0.000000   \n3 Network BNT Staked Balance          48000.000000         0         0   \n          Master Vault                48000.000000  0.000000  0.000000   \n          Protection Vault                0.000000  0.000000  0.000000   \n          Protocol Equity                        0         0         0   \n          Rewards Vault                          0         0         0   \n          Vortex                          0.000000         0         0   \n\n                                              tkn      wbtc         bnbnt  \\\n1 Account Alice                     776000.000000  0.000000      0.000000   \n2 Pool    a: TKN Staked Balance     224000.000000  0.000000             0   \n          b: TKN Trading Liquidity   48000.000000  0.000000             0   \n          c: BNT Trading Liquidity   48000.000000  0.000000             0   \n          d: BNT Current Funding     48000.000000  0.000000             0   \n          e: Spot Rate                   1.000000  0.000000             0   \n          f: Average Rate                1.000000  0.000000             0   \n          g: Average Inverse Rate        1.000000  0.000000             0   \n3 Network BNT Staked Balance                    0         0             0   \n          Master Vault              224000.000000  0.000000             0   \n          Protection Vault               0.000000  0.000000             0   \n          Protocol Equity                       0         0  48000.000000   \n          Rewards Vault                         0         0      0.000000   \n          Vortex                                0         0             0   \n\n                                       bneth    bnlink          bntkn  \\\n1 Account Alice                     0.000000  0.000000  213999.723702   \n2 Pool    a: TKN Staked Balance            0         0              0   \n          b: TKN Trading Liquidity         0         0              0   \n          c: BNT Trading Liquidity         0         0              0   \n          d: BNT Current Funding           0         0              0   \n          e: Spot Rate                     0         0              0   \n          f: Average Rate                  0         0              0   \n          g: Average Inverse Rate          0         0              0   \n3 Network BNT Staked Balance               0         0              0   \n          Master Vault                     0         0              0   \n          Protection Vault                 0         0              0   \n          Protocol Equity           0.000000  0.000000       0.000000   \n          Rewards Vault             0.000000  0.000000    9999.959208   \n          Vortex                           0         0              0   \n\n                                      bnwbtc      vbnt  \n1 Account Alice                     0.000000  0.000000  \n2 Pool    a: TKN Staked Balance            0         0  \n          b: TKN Trading Liquidity         0         0  \n          c: BNT Trading Liquidity         0         0  \n          d: BNT Current Funding           0         0  \n          e: Spot Rate                     0         0  \n          f: Average Rate                  0         0  \n          g: Average Inverse Rate          0         0  \n3 Network BNT Staked Balance               0         0  \n          Master Vault                     0         0  \n          Protection Vault                 0         0  \n          Protocol Equity           0.000000         0  \n          Rewards Vault             0.000000         0  \n          Vortex                           0         0  ",
      "text/html": "<div>\n<style scoped>\n    .dataframe tbody tr th:only-of-type {\n        vertical-align: middle;\n    }\n\n    .dataframe tbody tr th {\n        vertical-align: top;\n    }\n\n    .dataframe thead th {\n        text-align: right;\n    }\n</style>\n<table border=\"1\" class=\"dataframe\">\n  <thead>\n    <tr style=\"text-align: right;\">\n      <th></th>\n      <th></th>\n      <th></th>\n      <th>bnt</th>\n      <th>eth</th>\n      <th>link</th>\n      <th>tkn</th>\n      <th>wbtc</th>\n      <th>bnbnt</th>\n      <th>bneth</th>\n      <th>bnlink</th>\n      <th>bntkn</th>\n      <th>bnwbtc</th>\n      <th>vbnt</th>\n    </tr>\n  </thead>\n  <tbody>\n    <tr>\n      <th>1</th>\n      <th>Account</th>\n      <th>Alice</th>\n      <td>1000000.000000</td>\n      <td>0.000000</td>\n      <td>0.000000</td>\n      <td>776000.000000</td>\n      <td>0.000000</td>\n      <td>0.000000</td>\n      <td>0.000000</td>\n      <td>0.000000</td>\n      <td>213999.723702</td>\n      <td>0.000000</td>\n      <td>0.000000</td>\n    </tr>\n    <tr>\n      <th rowspan=\"7\" valign=\"top\">2</th>\n      <th rowspan=\"7\" valign=\"top\">Pool</th>\n      <th>a: TKN Staked Balance</th>\n      <td>0</td>\n      <td>0.000000</td>\n      <td>0.000000</td>\n      <td>224000.000000</td>\n      <td>0.000000</td>\n      <td>0</td>\n      <td>0</td>\n      <td>0</td>\n      <td>0</td>\n      <td>0</td>\n      <td>0</td>\n    </tr>\n    <tr>\n      <th>b: TKN Trading Liquidity</th>\n      <td>0</td>\n      <td>0.000000</td>\n      <td>0.000000</td>\n      <td>48000.000000</td>\n      <td>0.000000</td>\n      <td>0</td>\n      <td>0</td>\n      <td>0</td>\n      <td>0</td>\n      <td>0</td>\n      <td>0</td>\n    </tr>\n    <tr>\n      <th>c: BNT Trading Liquidity</th>\n      <td>0</td>\n      <td>0.000000</td>\n      <td>0.000000</td>\n      <td>48000.000000</td>\n      <td>0.000000</td>\n      <td>0</td>\n      <td>0</td>\n      <td>0</td>\n      <td>0</td>\n      <td>0</td>\n      <td>0</td>\n    </tr>\n    <tr>\n      <th>d: BNT Current Funding</th>\n      <td>0</td>\n      <td>0.000000</td>\n      <td>0.000000</td>\n      <td>48000.000000</td>\n      <td>0.000000</td>\n      <td>0</td>\n      <td>0</td>\n      <td>0</td>\n      <td>0</td>\n      <td>0</td>\n      <td>0</td>\n    </tr>\n    <tr>\n      <th>e: Spot Rate</th>\n      <td>0</td>\n      <td>0.000000</td>\n      <td>0.000000</td>\n      <td>1.000000</td>\n      <td>0.000000</td>\n      <td>0</td>\n      <td>0</td>\n      <td>0</td>\n      <td>0</td>\n      <td>0</td>\n      <td>0</td>\n    </tr>\n    <tr>\n      <th>f: Average Rate</th>\n      <td>0</td>\n      <td>0.000000</td>\n      <td>0.000000</td>\n      <td>1.000000</td>\n      <td>0.000000</td>\n      <td>0</td>\n      <td>0</td>\n      <td>0</td>\n      <td>0</td>\n      <td>0</td>\n      <td>0</td>\n    </tr>\n    <tr>\n      <th>g: Average Inverse Rate</th>\n      <td>0</td>\n      <td>0.000000</td>\n      <td>0.000000</td>\n      <td>1.000000</td>\n      <td>0.000000</td>\n      <td>0</td>\n      <td>0</td>\n      <td>0</td>\n      <td>0</td>\n      <td>0</td>\n      <td>0</td>\n    </tr>\n    <tr>\n      <th rowspan=\"6\" valign=\"top\">3</th>\n      <th rowspan=\"6\" valign=\"top\">Network</th>\n      <th>BNT Staked Balance</th>\n      <td>48000.000000</td>\n      <td>0</td>\n      <td>0</td>\n      <td>0</td>\n      <td>0</td>\n      <td>0</td>\n      <td>0</td>\n      <td>0</td>\n      <td>0</td>\n      <td>0</td>\n      <td>0</td>\n    </tr>\n    <tr>\n      <th>Master Vault</th>\n      <td>48000.000000</td>\n      <td>0.000000</td>\n      <td>0.000000</td>\n      <td>224000.000000</td>\n      <td>0.000000</td>\n      <td>0</td>\n      <td>0</td>\n      <td>0</td>\n      <td>0</td>\n      <td>0</td>\n      <td>0</td>\n    </tr>\n    <tr>\n      <th>Protection Vault</th>\n      <td>0.000000</td>\n      <td>0.000000</td>\n      <td>0.000000</td>\n      <td>0.000000</td>\n      <td>0.000000</td>\n      <td>0</td>\n      <td>0</td>\n      <td>0</td>\n      <td>0</td>\n      <td>0</td>\n      <td>0</td>\n    </tr>\n    <tr>\n      <th>Protocol Equity</th>\n      <td>0</td>\n      <td>0</td>\n      <td>0</td>\n      <td>0</td>\n      <td>0</td>\n      <td>48000.000000</td>\n      <td>0.000000</td>\n      <td>0.000000</td>\n      <td>0.000000</td>\n      <td>0.000000</td>\n      <td>0</td>\n    </tr>\n    <tr>\n      <th>Rewards Vault</th>\n      <td>0</td>\n      <td>0</td>\n      <td>0</td>\n      <td>0</td>\n      <td>0</td>\n      <td>0.000000</td>\n      <td>0.000000</td>\n      <td>0.000000</td>\n      <td>9999.959208</td>\n      <td>0.000000</td>\n      <td>0</td>\n    </tr>\n    <tr>\n      <th>Vortex</th>\n      <td>0.000000</td>\n      <td>0</td>\n      <td>0</td>\n      <td>0</td>\n      <td>0</td>\n      <td>0</td>\n      <td>0</td>\n      <td>0</td>\n      <td>0</td>\n      <td>0</td>\n      <td>0</td>\n    </tr>\n  </tbody>\n</table>\n</div>"
     },
     "execution_count": 15,
     "metadata": {},
     "output_type": "execute_result"
    }
   ],
   "source": [
    "timestamp = 14 * 13\n",
    "v3.process_ac_rewards_program(tkn_name='tkn', timestamp=timestamp)\n",
    "v3.describe(decimals=6)"
   ]
  },
  {
   "cell_type": "code",
   "execution_count": 16,
   "metadata": {
    "collapsed": false,
    "pycharm": {
     "name": "#%%\n"
    }
   },
   "outputs": [
    {
     "data": {
      "text/plain": "                                               bnt       eth      link  \\\n1 Account Alice                     1000000.000000  0.000000  0.000000   \n2 Pool    a: TKN Staked Balance                  0  0.000000  0.000000   \n          b: TKN Trading Liquidity               0  0.000000  0.000000   \n          c: BNT Trading Liquidity               0  0.000000  0.000000   \n          d: BNT Current Funding                 0  0.000000  0.000000   \n          e: Spot Rate                           0  0.000000  0.000000   \n          f: Average Rate                        0  0.000000  0.000000   \n          g: Average Inverse Rate                0  0.000000  0.000000   \n3 Network BNT Staked Balance          96000.000000         0         0   \n          Master Vault                96000.000000  0.000000  0.000000   \n          Protection Vault                0.000000  0.000000  0.000000   \n          Protocol Equity                        0         0         0   \n          Rewards Vault                          0         0         0   \n          Vortex                          0.000000         0         0   \n\n                                              tkn      wbtc         bnbnt  \\\n1 Account Alice                     576000.000000  0.000000      0.000000   \n2 Pool    a: TKN Staked Balance     424000.000000  0.000000             0   \n          b: TKN Trading Liquidity   96000.000000  0.000000             0   \n          c: BNT Trading Liquidity   96000.000000  0.000000             0   \n          d: BNT Current Funding     96000.000000  0.000000             0   \n          e: Spot Rate                   1.000000  0.000000             0   \n          f: Average Rate                1.000000  0.000000             0   \n          g: Average Inverse Rate        1.000000  0.000000             0   \n3 Network BNT Staked Balance                    0         0             0   \n          Master Vault              424000.000000  0.000000             0   \n          Protection Vault               0.000000  0.000000             0   \n          Protocol Equity                       0         0  96000.000000   \n          Rewards Vault                         0         0      0.000000   \n          Vortex                                0         0             0   \n\n                                       bneth    bnlink          bntkn  \\\n1 Account Alice                     0.000000  0.000000  413999.440587   \n2 Pool    a: TKN Staked Balance            0         0              0   \n          b: TKN Trading Liquidity         0         0              0   \n          c: BNT Trading Liquidity         0         0              0   \n          d: BNT Current Funding           0         0              0   \n          e: Spot Rate                     0         0              0   \n          f: Average Rate                  0         0              0   \n          g: Average Inverse Rate          0         0              0   \n3 Network BNT Staked Balance               0         0              0   \n          Master Vault                     0         0              0   \n          Protection Vault                 0         0              0   \n          Protocol Equity           0.000000  0.000000       0.000000   \n          Rewards Vault             0.000000  0.000000    9999.959208   \n          Vortex                           0         0              0   \n\n                                      bnwbtc      vbnt  \n1 Account Alice                     0.000000  0.000000  \n2 Pool    a: TKN Staked Balance            0         0  \n          b: TKN Trading Liquidity         0         0  \n          c: BNT Trading Liquidity         0         0  \n          d: BNT Current Funding           0         0  \n          e: Spot Rate                     0         0  \n          f: Average Rate                  0         0  \n          g: Average Inverse Rate          0         0  \n3 Network BNT Staked Balance               0         0  \n          Master Vault                     0         0  \n          Protection Vault                 0         0  \n          Protocol Equity           0.000000         0  \n          Rewards Vault             0.000000         0  \n          Vortex                           0         0  ",
      "text/html": "<div>\n<style scoped>\n    .dataframe tbody tr th:only-of-type {\n        vertical-align: middle;\n    }\n\n    .dataframe tbody tr th {\n        vertical-align: top;\n    }\n\n    .dataframe thead th {\n        text-align: right;\n    }\n</style>\n<table border=\"1\" class=\"dataframe\">\n  <thead>\n    <tr style=\"text-align: right;\">\n      <th></th>\n      <th></th>\n      <th></th>\n      <th>bnt</th>\n      <th>eth</th>\n      <th>link</th>\n      <th>tkn</th>\n      <th>wbtc</th>\n      <th>bnbnt</th>\n      <th>bneth</th>\n      <th>bnlink</th>\n      <th>bntkn</th>\n      <th>bnwbtc</th>\n      <th>vbnt</th>\n    </tr>\n  </thead>\n  <tbody>\n    <tr>\n      <th>1</th>\n      <th>Account</th>\n      <th>Alice</th>\n      <td>1000000.000000</td>\n      <td>0.000000</td>\n      <td>0.000000</td>\n      <td>576000.000000</td>\n      <td>0.000000</td>\n      <td>0.000000</td>\n      <td>0.000000</td>\n      <td>0.000000</td>\n      <td>413999.440587</td>\n      <td>0.000000</td>\n      <td>0.000000</td>\n    </tr>\n    <tr>\n      <th rowspan=\"7\" valign=\"top\">2</th>\n      <th rowspan=\"7\" valign=\"top\">Pool</th>\n      <th>a: TKN Staked Balance</th>\n      <td>0</td>\n      <td>0.000000</td>\n      <td>0.000000</td>\n      <td>424000.000000</td>\n      <td>0.000000</td>\n      <td>0</td>\n      <td>0</td>\n      <td>0</td>\n      <td>0</td>\n      <td>0</td>\n      <td>0</td>\n    </tr>\n    <tr>\n      <th>b: TKN Trading Liquidity</th>\n      <td>0</td>\n      <td>0.000000</td>\n      <td>0.000000</td>\n      <td>96000.000000</td>\n      <td>0.000000</td>\n      <td>0</td>\n      <td>0</td>\n      <td>0</td>\n      <td>0</td>\n      <td>0</td>\n      <td>0</td>\n    </tr>\n    <tr>\n      <th>c: BNT Trading Liquidity</th>\n      <td>0</td>\n      <td>0.000000</td>\n      <td>0.000000</td>\n      <td>96000.000000</td>\n      <td>0.000000</td>\n      <td>0</td>\n      <td>0</td>\n      <td>0</td>\n      <td>0</td>\n      <td>0</td>\n      <td>0</td>\n    </tr>\n    <tr>\n      <th>d: BNT Current Funding</th>\n      <td>0</td>\n      <td>0.000000</td>\n      <td>0.000000</td>\n      <td>96000.000000</td>\n      <td>0.000000</td>\n      <td>0</td>\n      <td>0</td>\n      <td>0</td>\n      <td>0</td>\n      <td>0</td>\n      <td>0</td>\n    </tr>\n    <tr>\n      <th>e: Spot Rate</th>\n      <td>0</td>\n      <td>0.000000</td>\n      <td>0.000000</td>\n      <td>1.000000</td>\n      <td>0.000000</td>\n      <td>0</td>\n      <td>0</td>\n      <td>0</td>\n      <td>0</td>\n      <td>0</td>\n      <td>0</td>\n    </tr>\n    <tr>\n      <th>f: Average Rate</th>\n      <td>0</td>\n      <td>0.000000</td>\n      <td>0.000000</td>\n      <td>1.000000</td>\n      <td>0.000000</td>\n      <td>0</td>\n      <td>0</td>\n      <td>0</td>\n      <td>0</td>\n      <td>0</td>\n      <td>0</td>\n    </tr>\n    <tr>\n      <th>g: Average Inverse Rate</th>\n      <td>0</td>\n      <td>0.000000</td>\n      <td>0.000000</td>\n      <td>1.000000</td>\n      <td>0.000000</td>\n      <td>0</td>\n      <td>0</td>\n      <td>0</td>\n      <td>0</td>\n      <td>0</td>\n      <td>0</td>\n    </tr>\n    <tr>\n      <th rowspan=\"6\" valign=\"top\">3</th>\n      <th rowspan=\"6\" valign=\"top\">Network</th>\n      <th>BNT Staked Balance</th>\n      <td>96000.000000</td>\n      <td>0</td>\n      <td>0</td>\n      <td>0</td>\n      <td>0</td>\n      <td>0</td>\n      <td>0</td>\n      <td>0</td>\n      <td>0</td>\n      <td>0</td>\n      <td>0</td>\n    </tr>\n    <tr>\n      <th>Master Vault</th>\n      <td>96000.000000</td>\n      <td>0.000000</td>\n      <td>0.000000</td>\n      <td>424000.000000</td>\n      <td>0.000000</td>\n      <td>0</td>\n      <td>0</td>\n      <td>0</td>\n      <td>0</td>\n      <td>0</td>\n      <td>0</td>\n    </tr>\n    <tr>\n      <th>Protection Vault</th>\n      <td>0.000000</td>\n      <td>0.000000</td>\n      <td>0.000000</td>\n      <td>0.000000</td>\n      <td>0.000000</td>\n      <td>0</td>\n      <td>0</td>\n      <td>0</td>\n      <td>0</td>\n      <td>0</td>\n      <td>0</td>\n    </tr>\n    <tr>\n      <th>Protocol Equity</th>\n      <td>0</td>\n      <td>0</td>\n      <td>0</td>\n      <td>0</td>\n      <td>0</td>\n      <td>96000.000000</td>\n      <td>0.000000</td>\n      <td>0.000000</td>\n      <td>0.000000</td>\n      <td>0.000000</td>\n      <td>0</td>\n    </tr>\n    <tr>\n      <th>Rewards Vault</th>\n      <td>0</td>\n      <td>0</td>\n      <td>0</td>\n      <td>0</td>\n      <td>0</td>\n      <td>0.000000</td>\n      <td>0.000000</td>\n      <td>0.000000</td>\n      <td>9999.959208</td>\n      <td>0.000000</td>\n      <td>0</td>\n    </tr>\n    <tr>\n      <th>Vortex</th>\n      <td>0.000000</td>\n      <td>0</td>\n      <td>0</td>\n      <td>0</td>\n      <td>0</td>\n      <td>0</td>\n      <td>0</td>\n      <td>0</td>\n      <td>0</td>\n      <td>0</td>\n      <td>0</td>\n    </tr>\n  </tbody>\n</table>\n</div>"
     },
     "execution_count": 16,
     "metadata": {},
     "output_type": "execute_result"
    }
   ],
   "source": [
    "timestamp = 14 * 14\n",
    "v3.deposit(tkn_name='tkn', tkn_amt='200000', user_name='Alice', timestamp=timestamp)\n",
    "v3.describe(decimals=6)"
   ]
  },
  {
   "cell_type": "code",
   "execution_count": 17,
   "metadata": {
    "collapsed": false,
    "pycharm": {
     "name": "#%%\n"
    }
   },
   "outputs": [
    {
     "data": {
      "text/plain": "                                               bnt       eth      link  \\\n1 Account Alice                     1000000.000000  0.000000  0.000000   \n2 Pool    a: TKN Staked Balance                  0  0.000000  0.000000   \n          b: TKN Trading Liquidity               0  0.000000  0.000000   \n          c: BNT Trading Liquidity               0  0.000000  0.000000   \n          d: BNT Current Funding                 0  0.000000  0.000000   \n          e: Spot Rate                           0  0.000000  0.000000   \n          f: Average Rate                        0  0.000000  0.000000   \n          g: Average Inverse Rate                0  0.000000  0.000000   \n3 Network BNT Staked Balance          96000.000000         0         0   \n          Master Vault                96000.000000  0.000000  0.000000   \n          Protection Vault                0.000000  0.000000  0.000000   \n          Protocol Equity                        0         0         0   \n          Rewards Vault                          0         0         0   \n          Vortex                          0.000000         0         0   \n\n                                              tkn      wbtc         bnbnt  \\\n1 Account Alice                     576000.000000  0.000000      0.000000   \n2 Pool    a: TKN Staked Balance     424000.000000  0.000000             0   \n          b: TKN Trading Liquidity   96000.000000  0.000000             0   \n          c: BNT Trading Liquidity   96000.000000  0.000000             0   \n          d: BNT Current Funding     96000.000000  0.000000             0   \n          e: Spot Rate                   1.000000  0.000000             0   \n          f: Average Rate                1.000000  0.000000             0   \n          g: Average Inverse Rate        1.000000  0.000000             0   \n3 Network BNT Staked Balance                    0         0             0   \n          Master Vault              424000.000000  0.000000             0   \n          Protection Vault               0.000000  0.000000             0   \n          Protocol Equity                       0         0  96000.000000   \n          Rewards Vault                         0         0      0.000000   \n          Vortex                                0         0             0   \n\n                                       bneth    bnlink          bntkn  \\\n1 Account Alice                     0.000000  0.000000  413999.440587   \n2 Pool    a: TKN Staked Balance            0         0              0   \n          b: TKN Trading Liquidity         0         0              0   \n          c: BNT Trading Liquidity         0         0              0   \n          d: BNT Current Funding           0         0              0   \n          e: Spot Rate                     0         0              0   \n          f: Average Rate                  0         0              0   \n          g: Average Inverse Rate          0         0              0   \n3 Network BNT Staked Balance               0         0              0   \n          Master Vault                     0         0              0   \n          Protection Vault                 0         0              0   \n          Protocol Equity           0.000000  0.000000       0.000000   \n          Rewards Vault             0.000000  0.000000    9999.950115   \n          Vortex                           0         0              0   \n\n                                      bnwbtc      vbnt  \n1 Account Alice                     0.000000  0.000000  \n2 Pool    a: TKN Staked Balance            0         0  \n          b: TKN Trading Liquidity         0         0  \n          c: BNT Trading Liquidity         0         0  \n          d: BNT Current Funding           0         0  \n          e: Spot Rate                     0         0  \n          f: Average Rate                  0         0  \n          g: Average Inverse Rate          0         0  \n3 Network BNT Staked Balance               0         0  \n          Master Vault                     0         0  \n          Protection Vault                 0         0  \n          Protocol Equity           0.000000         0  \n          Rewards Vault             0.000000         0  \n          Vortex                           0         0  ",
      "text/html": "<div>\n<style scoped>\n    .dataframe tbody tr th:only-of-type {\n        vertical-align: middle;\n    }\n\n    .dataframe tbody tr th {\n        vertical-align: top;\n    }\n\n    .dataframe thead th {\n        text-align: right;\n    }\n</style>\n<table border=\"1\" class=\"dataframe\">\n  <thead>\n    <tr style=\"text-align: right;\">\n      <th></th>\n      <th></th>\n      <th></th>\n      <th>bnt</th>\n      <th>eth</th>\n      <th>link</th>\n      <th>tkn</th>\n      <th>wbtc</th>\n      <th>bnbnt</th>\n      <th>bneth</th>\n      <th>bnlink</th>\n      <th>bntkn</th>\n      <th>bnwbtc</th>\n      <th>vbnt</th>\n    </tr>\n  </thead>\n  <tbody>\n    <tr>\n      <th>1</th>\n      <th>Account</th>\n      <th>Alice</th>\n      <td>1000000.000000</td>\n      <td>0.000000</td>\n      <td>0.000000</td>\n      <td>576000.000000</td>\n      <td>0.000000</td>\n      <td>0.000000</td>\n      <td>0.000000</td>\n      <td>0.000000</td>\n      <td>413999.440587</td>\n      <td>0.000000</td>\n      <td>0.000000</td>\n    </tr>\n    <tr>\n      <th rowspan=\"7\" valign=\"top\">2</th>\n      <th rowspan=\"7\" valign=\"top\">Pool</th>\n      <th>a: TKN Staked Balance</th>\n      <td>0</td>\n      <td>0.000000</td>\n      <td>0.000000</td>\n      <td>424000.000000</td>\n      <td>0.000000</td>\n      <td>0</td>\n      <td>0</td>\n      <td>0</td>\n      <td>0</td>\n      <td>0</td>\n      <td>0</td>\n    </tr>\n    <tr>\n      <th>b: TKN Trading Liquidity</th>\n      <td>0</td>\n      <td>0.000000</td>\n      <td>0.000000</td>\n      <td>96000.000000</td>\n      <td>0.000000</td>\n      <td>0</td>\n      <td>0</td>\n      <td>0</td>\n      <td>0</td>\n      <td>0</td>\n      <td>0</td>\n    </tr>\n    <tr>\n      <th>c: BNT Trading Liquidity</th>\n      <td>0</td>\n      <td>0.000000</td>\n      <td>0.000000</td>\n      <td>96000.000000</td>\n      <td>0.000000</td>\n      <td>0</td>\n      <td>0</td>\n      <td>0</td>\n      <td>0</td>\n      <td>0</td>\n      <td>0</td>\n    </tr>\n    <tr>\n      <th>d: BNT Current Funding</th>\n      <td>0</td>\n      <td>0.000000</td>\n      <td>0.000000</td>\n      <td>96000.000000</td>\n      <td>0.000000</td>\n      <td>0</td>\n      <td>0</td>\n      <td>0</td>\n      <td>0</td>\n      <td>0</td>\n      <td>0</td>\n    </tr>\n    <tr>\n      <th>e: Spot Rate</th>\n      <td>0</td>\n      <td>0.000000</td>\n      <td>0.000000</td>\n      <td>1.000000</td>\n      <td>0.000000</td>\n      <td>0</td>\n      <td>0</td>\n      <td>0</td>\n      <td>0</td>\n      <td>0</td>\n      <td>0</td>\n    </tr>\n    <tr>\n      <th>f: Average Rate</th>\n      <td>0</td>\n      <td>0.000000</td>\n      <td>0.000000</td>\n      <td>1.000000</td>\n      <td>0.000000</td>\n      <td>0</td>\n      <td>0</td>\n      <td>0</td>\n      <td>0</td>\n      <td>0</td>\n      <td>0</td>\n    </tr>\n    <tr>\n      <th>g: Average Inverse Rate</th>\n      <td>0</td>\n      <td>0.000000</td>\n      <td>0.000000</td>\n      <td>1.000000</td>\n      <td>0.000000</td>\n      <td>0</td>\n      <td>0</td>\n      <td>0</td>\n      <td>0</td>\n      <td>0</td>\n      <td>0</td>\n    </tr>\n    <tr>\n      <th rowspan=\"6\" valign=\"top\">3</th>\n      <th rowspan=\"6\" valign=\"top\">Network</th>\n      <th>BNT Staked Balance</th>\n      <td>96000.000000</td>\n      <td>0</td>\n      <td>0</td>\n      <td>0</td>\n      <td>0</td>\n      <td>0</td>\n      <td>0</td>\n      <td>0</td>\n      <td>0</td>\n      <td>0</td>\n      <td>0</td>\n    </tr>\n    <tr>\n      <th>Master Vault</th>\n      <td>96000.000000</td>\n      <td>0.000000</td>\n      <td>0.000000</td>\n      <td>424000.000000</td>\n      <td>0.000000</td>\n      <td>0</td>\n      <td>0</td>\n      <td>0</td>\n      <td>0</td>\n      <td>0</td>\n      <td>0</td>\n    </tr>\n    <tr>\n      <th>Protection Vault</th>\n      <td>0.000000</td>\n      <td>0.000000</td>\n      <td>0.000000</td>\n      <td>0.000000</td>\n      <td>0.000000</td>\n      <td>0</td>\n      <td>0</td>\n      <td>0</td>\n      <td>0</td>\n      <td>0</td>\n      <td>0</td>\n    </tr>\n    <tr>\n      <th>Protocol Equity</th>\n      <td>0</td>\n      <td>0</td>\n      <td>0</td>\n      <td>0</td>\n      <td>0</td>\n      <td>96000.000000</td>\n      <td>0.000000</td>\n      <td>0.000000</td>\n      <td>0.000000</td>\n      <td>0.000000</td>\n      <td>0</td>\n    </tr>\n    <tr>\n      <th>Rewards Vault</th>\n      <td>0</td>\n      <td>0</td>\n      <td>0</td>\n      <td>0</td>\n      <td>0</td>\n      <td>0.000000</td>\n      <td>0.000000</td>\n      <td>0.000000</td>\n      <td>9999.950115</td>\n      <td>0.000000</td>\n      <td>0</td>\n    </tr>\n    <tr>\n      <th>Vortex</th>\n      <td>0.000000</td>\n      <td>0</td>\n      <td>0</td>\n      <td>0</td>\n      <td>0</td>\n      <td>0</td>\n      <td>0</td>\n      <td>0</td>\n      <td>0</td>\n      <td>0</td>\n      <td>0</td>\n    </tr>\n  </tbody>\n</table>\n</div>"
     },
     "execution_count": 17,
     "metadata": {},
     "output_type": "execute_result"
    }
   ],
   "source": [
    "timestamp = 14 * 15\n",
    "v3.process_ac_rewards_program(tkn_name='tkn', timestamp=timestamp)\n",
    "v3.describe(decimals=6)"
   ]
  },
  {
   "cell_type": "code",
   "execution_count": 18,
   "metadata": {
    "collapsed": false,
    "pycharm": {
     "name": "#%%\n"
    }
   },
   "outputs": [
    {
     "ename": "NameError",
     "evalue": "name 'v3v3' is not defined",
     "output_type": "error",
     "traceback": [
      "\u001B[0;31m---------------------------------------------------------------------------\u001B[0m",
      "\u001B[0;31mNameError\u001B[0m                                 Traceback (most recent call last)",
      "\u001B[0;32m/var/folders/rt/qnj8r6yd6131ccxkw_k9d9gc0000gn/T/ipykernel_65263/587223999.py\u001B[0m in \u001B[0;36m<cell line: 3>\u001B[0;34m()\u001B[0m\n\u001B[1;32m      1\u001B[0m \u001B[0mtimestamp\u001B[0m \u001B[0;34m=\u001B[0m \u001B[0;36m14\u001B[0m \u001B[0;34m*\u001B[0m \u001B[0;36m16\u001B[0m\u001B[0;34m\u001B[0m\u001B[0;34m\u001B[0m\u001B[0m\n\u001B[1;32m      2\u001B[0m \u001B[0;34m\u001B[0m\u001B[0m\n\u001B[0;32m----> 3\u001B[0;31m \u001B[0mv3v3\u001B[0m\u001B[0;34m.\u001B[0m\u001B[0mdeposit\u001B[0m\u001B[0;34m(\u001B[0m\u001B[0mtkn_name\u001B[0m\u001B[0;34m=\u001B[0m\u001B[0;34m'tkn'\u001B[0m\u001B[0;34m,\u001B[0m \u001B[0mtkn_amt\u001B[0m\u001B[0;34m=\u001B[0m\u001B[0;34m'200000'\u001B[0m\u001B[0;34m,\u001B[0m \u001B[0muser_name\u001B[0m\u001B[0;34m=\u001B[0m\u001B[0muser_name\u001B[0m\u001B[0;34m,\u001B[0m \u001B[0mtimestamp\u001B[0m\u001B[0;34m=\u001B[0m\u001B[0mtimestamp\u001B[0m\u001B[0;34m)\u001B[0m\u001B[0;34m\u001B[0m\u001B[0;34m\u001B[0m\u001B[0m\n\u001B[0m\u001B[1;32m      4\u001B[0m \u001B[0mv3\u001B[0m\u001B[0;34m.\u001B[0m\u001B[0mdescribe\u001B[0m\u001B[0;34m(\u001B[0m\u001B[0mdecimals\u001B[0m\u001B[0;34m=\u001B[0m\u001B[0;36m6\u001B[0m\u001B[0;34m)\u001B[0m\u001B[0;34m\u001B[0m\u001B[0;34m\u001B[0m\u001B[0m\n",
      "\u001B[0;31mNameError\u001B[0m: name 'v3v3' is not defined"
     ]
    }
   ],
   "source": [
    "timestamp = 14 * 16\n",
    "\n",
    "v3v3.deposit(tkn_name='tkn', tkn_amt='200000', user_name=user_name, timestamp=timestamp)\n",
    "v3.describe(decimals=6)"
   ]
  },
  {
   "cell_type": "code",
   "execution_count": null,
   "metadata": {
    "collapsed": false,
    "pycharm": {
     "name": "#%%\n"
    }
   },
   "outputs": [],
   "source": [
    "timestamp = 14 * 17\n",
    "\n",
    "v3v3.process_ac_rewards_program(tkn_name='tkn', timestamp=timestamp)\n",
    "v3.describe(decimals=6)"
   ]
  },
  {
   "cell_type": "code",
   "execution_count": null,
   "metadata": {
    "collapsed": false,
    "pycharm": {
     "name": "#%%\n"
    }
   },
   "outputs": [],
   "source": [
    "timestamp = 14 * 18\n",
    "\n",
    "v3v3.deposit(tkn_name='tkn', tkn_amt='200000', user_name=user_name, timestamp=timestamp)\n",
    "v3.describe(decimals=6)"
   ]
  },
  {
   "cell_type": "code",
   "execution_count": null,
   "metadata": {
    "collapsed": false,
    "pycharm": {
     "name": "#%%\n"
    }
   },
   "outputs": [],
   "source": [
    "timestamp = 14 * 19\n",
    "\n",
    "v3v3.process_ac_rewards_program(tkn_name='tkn', timestamp=timestamp)\n",
    "v3.describe(decimals=6)"
   ]
  },
  {
   "cell_type": "code",
   "execution_count": null,
   "metadata": {
    "collapsed": false,
    "pycharm": {
     "name": "#%%\n"
    }
   },
   "outputs": [],
   "source": [
    "timestamp = 14 * 20\n",
    "\n",
    "v3v3.deposit(tkn_name='tkn', tkn_amt='200000', user_name=user_name, timestamp=timestamp)\n",
    "v3.describe(decimals=6)"
   ]
  },
  {
   "cell_type": "code",
   "execution_count": null,
   "metadata": {
    "collapsed": false,
    "pycharm": {
     "name": "#%%\n"
    }
   },
   "outputs": [],
   "source": [
    "timestamp = 14 * 21\n",
    "\n",
    "v3v3.process_ac_rewards_program(tkn_name='tkn', timestamp=timestamp)\n",
    "v3.describe(decimals=6)"
   ]
  },
  {
   "cell_type": "code",
   "execution_count": null,
   "metadata": {
    "collapsed": false,
    "pycharm": {
     "name": "#%%\n"
    }
   },
   "outputs": [],
   "source": [
    "timestamp = 14 * 21\n",
    "\n",
    "v3v3.process_ac_rewards_program(tkn_name='tkn', timestamp=timestamp)\n",
    "v3.describe(decimals=6)"
   ]
  },
  {
   "cell_type": "code",
   "execution_count": null,
   "metadata": {
    "collapsed": false,
    "pycharm": {
     "name": "#%%\n"
    }
   },
   "outputs": [],
   "source": [
    "timestamp = 14 * 21\n",
    "\n",
    "v3v3.process_ac_rewards_program(tkn_name='tkn', timestamp=timestamp)\n",
    "v3.describe(decimals=6)"
   ]
  },
  {
   "cell_type": "code",
   "execution_count": null,
   "metadata": {
    "collapsed": false,
    "pycharm": {
     "name": "#%%\n"
    }
   },
   "outputs": [],
   "source": [
    "timestamp = 14 * 210\n",
    "\n",
    "v3v3.process_ac_rewards_program(tkn_name='tkn', timestamp=timestamp)\n",
    "v3.describe(decimals=6)"
   ]
  },
  {
   "cell_type": "code",
   "execution_count": null,
   "metadata": {
    "collapsed": false,
    "pycharm": {
     "name": "#%%\n"
    }
   },
   "outputs": [],
   "source": [
    "timestamp = 14 * 210\n",
    "\n",
    "v3v3.process_ac_rewards_program(tkn_name='tkn', timestamp=timestamp)\n",
    "v3.describe(decimals=6)"
   ]
  },
  {
   "cell_type": "code",
   "execution_count": null,
   "metadata": {
    "collapsed": false,
    "pycharm": {
     "name": "#%%\n"
    }
   },
   "outputs": [],
   "source": [
    "timestamp = 14 * 2100\n",
    "\n",
    "v3v3.process_ac_rewards_program(tkn_name='tkn', timestamp=timestamp)\n",
    "v3.describe(decimals=6)"
   ]
  },
  {
   "cell_type": "code",
   "execution_count": null,
   "metadata": {
    "collapsed": false,
    "pycharm": {
     "name": "#%%\n"
    }
   },
   "outputs": [],
   "source": [
    "timestamp = 14 * 2100\n",
    "\n",
    "v3v3.process_ac_rewards_program(tkn_name='tkn', timestamp=timestamp)\n",
    "v3.describe(decimals=6)"
   ]
  },
  {
   "cell_type": "code",
   "execution_count": null,
   "metadata": {
    "collapsed": false,
    "pycharm": {
     "name": "#%%\n"
    }
   },
   "outputs": [],
   "source": [
    "timestamp = 14 * 4200\n",
    "\n",
    "v3v3.process_ac_rewards_program(tkn_name='tkn', timestamp=timestamp)\n",
    "v3.describe(decimals=6)"
   ]
  },
  {
   "cell_type": "code",
   "execution_count": null,
   "metadata": {
    "collapsed": false,
    "pycharm": {
     "name": "#%%\n"
    }
   },
   "outputs": [],
   "source": [
    "timestamp = 14 * 4200\n",
    "\n",
    "v3v3.process_ac_rewards_program(tkn_name='tkn', timestamp=timestamp)\n",
    "v3.describe(decimals=6)"
   ]
  },
  {
   "cell_type": "code",
   "execution_count": null,
   "metadata": {
    "collapsed": false,
    "pycharm": {
     "name": "#%%\n"
    }
   },
   "outputs": [],
   "source": [
    "timestamp = 14 * 4200 * 2\n",
    "\n",
    "v3v3.process_ac_rewards_program(tkn_name='tkn', timestamp=timestamp)\n",
    "v3.describe(decimals=6)"
   ]
  },
  {
   "cell_type": "code",
   "execution_count": null,
   "metadata": {
    "collapsed": false,
    "pycharm": {
     "name": "#%%\n"
    }
   },
   "outputs": [],
   "source": [
    "timestamp = 14 * 4200 * 2\n",
    "\n",
    "v3v3.process_ac_rewards_program(tkn_name='tkn', timestamp=timestamp)\n",
    "v3.describe(decimals=6)"
   ]
  },
  {
   "cell_type": "code",
   "execution_count": null,
   "metadata": {
    "collapsed": false,
    "pycharm": {
     "name": "#%%\n"
    }
   },
   "outputs": [],
   "source": [
    "timestamp = 14 * 4200 * 2 + 14\n",
    "all_pool_tokens = get_user_balance(sDapp.global_state, user_name, 'bntkn')\n",
    "\n",
    "v3v3.burn_pool_tokens('tkn', str(all_pool_tokens), user_name, timestamp)\n",
    "v3.describe(decimals=6)"
   ]
  },
  {
   "cell_type": "code",
   "execution_count": null,
   "metadata": {
    "collapsed": false,
    "pycharm": {
     "name": "#%%\n"
    }
   },
   "outputs": [],
   "source": [
    "timestamp = 14 * 4200 * 2 + 14 * 2\n",
    "\n",
    "v3v3.deposit(tkn_name='tkn', tkn_amt='1000', user_name=user_name, timestamp=timestamp)\n",
    "v3.describe(decimals=6)"
   ]
  },
  {
   "cell_type": "code",
   "execution_count": null,
   "metadata": {
    "collapsed": false,
    "pycharm": {
     "name": "#%%\n"
    }
   },
   "outputs": [],
   "source": [
    "timestamp = 14 * 4200 * 2 + 14 * 3\n",
    "\n",
    "v3v3.deposit(tkn_name='tkn', tkn_amt='500000', user_name=user_name, timestamp=timestamp)\n",
    "v3.describe(decimals=6)"
   ]
  },
  {
   "cell_type": "code",
   "execution_count": null,
   "metadata": {
    "collapsed": false,
    "pycharm": {
     "name": "#%%\n"
    }
   },
   "outputs": [],
   "source": [
    "timestamp = 14 * 4200 * 2 + 14 * 4\n",
    "\n",
    "v3.enable_trading(tkn_name='tkn', timestamp=timestamp)"
   ]
  },
  {
   "cell_type": "code",
   "execution_count": null,
   "metadata": {
    "collapsed": false,
    "pycharm": {
     "name": "#%%\n"
    }
   },
   "outputs": [],
   "source": [
    "timestamp = 14 * 4200 * 2 + 14 * 5\n",
    "\n",
    "v3v3.deposit(tkn_name='tkn', tkn_amt='500000', user_name=user_name, timestamp=timestamp)\n",
    "v3.describe(decimals=6)"
   ]
  },
  {
   "cell_type": "code",
   "execution_count": null,
   "metadata": {
    "collapsed": false,
    "pycharm": {
     "name": "#%%\n"
    }
   },
   "outputs": [],
   "source": [
    "timestamp = 14 * 4200 * 2 + 14 * 6\n",
    "start_time = 14 * 4200 * 2 + 14 * 7\n",
    "\n",
    "total_rewards = '36000'\n",
    "half_life = 1 * SECONDS_PER_DAY\n",
    "\n",
    "\n",
    "v3.terminate_ac_rewards_program(tkn_name='tkn', timestamp=timestamp)\n",
    "\n",
    "v3.create_exp_ac_rewards_program(\n",
    "        tkn_name='tkn',\n",
    "        user_name=user_name,\n",
    "        total_rewards=total_rewards,\n",
    "        start_time=start_time,\n",
    "        half_life=half_life,\n",
    "        timestamp=timestamp\n",
    "    )\n",
    "\n",
    "v3.describe(decimals=6)"
   ]
  },
  {
   "cell_type": "code",
   "execution_count": null,
   "metadata": {
    "collapsed": false,
    "pycharm": {
     "name": "#%%\n"
    }
   },
   "outputs": [],
   "source": [
    "timestamp = 14 * 4200 * 2 + 14 * 8\n",
    "\n",
    "v3.deposit(tkn_name='tkn', tkn_amt='2000', user_name=user_name, timestamp=timestamp)\n",
    "v3.describe(decimals=6)"
   ]
  },
  {
   "cell_type": "code",
   "execution_count": null,
   "metadata": {
    "collapsed": false,
    "pycharm": {
     "name": "#%%\n"
    }
   },
   "outputs": [],
   "source": [
    "timestamp = 14 * 4200 * 2 + 14 * 9\n",
    "\n",
    "v3.process_ac_rewards_program(tkn_name='tkn', timestamp=timestamp)\n",
    "v3.describe(decimals=6)"
   ]
  },
  {
   "cell_type": "code",
   "execution_count": null,
   "metadata": {
    "collapsed": false,
    "pycharm": {
     "name": "#%%\n"
    }
   },
   "outputs": [],
   "source": [
    "timestamp = 14 * 4200 * 2 + 14 * 8 * 10\n",
    "\n",
    "v3.deposit(tkn_name='tkn', tkn_amt='2000', user_name=user_name, timestamp=timestamp)\n",
    "v3.describe(decimals=6)"
   ]
  },
  {
   "cell_type": "code",
   "execution_count": null,
   "metadata": {
    "collapsed": false,
    "pycharm": {
     "name": "#%%\n"
    }
   },
   "outputs": [],
   "source": [
    "timestamp = 14 * 4200 * 2 + 14 * 8 * 20\n",
    "\n",
    "    v3.process_ac_rewards_program(tkn_name='tkn', timestamp=timestamp)\n",
    "v3.describe(decimals=6)"
   ]
  },
  {
   "cell_type": "code",
   "execution_count": null,
   "metadata": {
    "collapsed": false,
    "pycharm": {
     "name": "#%%\n"
    }
   },
   "outputs": [],
   "source": [
    "timestamp = 14 * 4200 * 2 + 14 * 8 * 200\n",
    "\n",
    "    v3.process_ac_rewards_program(tkn_name='tkn', timestamp=timestamp)\n",
    "v3.describe(decimals=6)"
   ]
  },
  {
   "cell_type": "code",
   "execution_count": null,
   "metadata": {
    "collapsed": false,
    "pycharm": {
     "name": "#%%\n"
    }
   },
   "outputs": [],
   "source": [
    "timestamp = 14 * 4200 * 2 + 14 * 8 * 2000\n",
    "\n",
    "    v3.process_ac_rewards_program(tkn_name='tkn', timestamp=timestamp)\n",
    "v3.describe(decimals=6)"
   ]
  },
  {
   "cell_type": "code",
   "execution_count": null,
   "metadata": {
    "collapsed": false,
    "pycharm": {
     "name": "#%%\n"
    }
   },
   "outputs": [],
   "source": [
    "timestamp = 14 * 4200 * 2 + 14 * 8 * 2000\n",
    "\n",
    "    v3.process_ac_rewards_program(tkn_name='tkn', timestamp=timestamp)\n",
    "v3.describe(decimals=6)"
   ]
  },
  {
   "cell_type": "code",
   "execution_count": null,
   "metadata": {
    "collapsed": false,
    "pycharm": {
     "name": "#%%\n"
    }
   },
   "outputs": [],
   "source": [
    "timestamp = 14 * 4200 * 2 + 14 * 8 * 2000\n",
    "\n",
    "    v3.process_ac_rewards_program(tkn_name='tkn', timestamp=timestamp)\n",
    "v3.describe(decimals=6)"
   ]
  },
  {
   "cell_type": "code",
   "execution_count": null,
   "metadata": {
    "collapsed": false,
    "pycharm": {
     "name": "#%%\n"
    }
   },
   "outputs": [],
   "source": [
    "timestamp = 14 * 4200 * 2 + 14 * 8 * 2000 + 14\n",
    "all_pool_tokens = get_user_balance(sDapp.global_state, user_name, 'bntkn')\n",
    "\n",
    "    v3.burn_pool_tokens('tkn', str(all_pool_tokens), user_name, timestamp)\n",
    "v3.describe(decimals=6)"
   ]
  },
  {
   "cell_type": "code",
   "execution_count": null,
   "metadata": {
    "collapsed": false,
    "pycharm": {
     "name": "#%%\n"
    }
   },
   "outputs": [],
   "source": [
    "timestamp = 14 * 4200 * 2 + 14 * 8 * 2000 + 14 * 2\n",
    "\n",
    "    v3.process_ac_rewards_program(tkn_name='tkn', timestamp=timestamp)\n",
    "v3.describe(decimals=6)"
   ]
  },
  {
   "cell_type": "code",
   "execution_count": null,
   "metadata": {
    "collapsed": false,
    "pycharm": {
     "name": "#%%\n"
    }
   },
   "outputs": [],
   "source": [
    "timestamp = 14 * 4200 * 2 + 14 * 8 * 2000 + 14 * 3\n",
    "\n",
    "    try:\n",
    "        v3.process_ac_rewards_program(tkn_name='tkn', timestamp=timestamp)\n",
    "        raise BaseException('expected an error')\n",
    "    except Exception as error:\n",
    "        print('{}: {}'.format(type(v3), error))"
   ]
  },
  {
   "cell_type": "code",
   "execution_count": null,
   "metadata": {
    "collapsed": false,
    "pycharm": {
     "name": "#%%\n"
    }
   },
   "outputs": [],
   "source": [
    "timestamp = 14 * 4200 * 2 + 14 * 8 * 2000 + 14 * 4\n",
    "\n",
    "v3.deposit(tkn_name='tkn', tkn_amt='20000', user_name=user_name, timestamp=timestamp)\n",
    "v3.describe(decimals=6)"
   ]
  },
  {
   "cell_type": "code",
   "execution_count": null,
   "metadata": {},
   "outputs": [],
   "source": [
    "bnt_staking_ledger = str(v3.global_state.tokens['bnt'].staking_ledger.balance)\n",
    "bnbnt_total_supply = str(v3.global_state.tokens['bnt'].pooltoken_supply.balance)\n",
    "'BNT Staking ledger = {}, bnBNT Total Supply = {}'.format(bnt_staking_ledger, bnbnt_total_supply)"
   ]
  },
  {
   "cell_type": "code",
   "execution_count": null,
   "metadata": {
    "collapsed": false,
    "pycharm": {
     "name": "#%%\n"
    }
   },
   "outputs": [],
   "source": [
    "total_rewards = '10000'\n",
    "half_life = 100 * SECONDS_PER_DAY\n",
    "\n",
    "\n",
    "v3.create_exp_ac_rewards_program(\n",
    "        tkn_name='tkn',\n",
    "        user_name=user_name,\n",
    "        total_rewards=total_rewards,\n",
    "        start_time=timestamp,\n",
    "        half_life=half_life,\n",
    "        timestamp=timestamp\n",
    "    )\n",
    "\n",
    "v3.describe(decimals=6)"
   ]
  },
  {
   "cell_type": "code",
   "execution_count": null,
   "metadata": {
    "collapsed": false,
    "pycharm": {
     "name": "#%%\n"
    }
   },
   "outputs": [],
   "source": [
    "timestamp = 14 * 4200 * 2 + 14 * 8 * 2000 + 14 * 4 * 100\n",
    "\n",
    "v3.process_ac_rewards_program(tkn_name='tkn', timestamp=timestamp)\n",
    "v3.describe(decimals=6)"
   ]
  },
  {
   "cell_type": "code",
   "execution_count": null,
   "metadata": {
    "collapsed": false,
    "pycharm": {
     "name": "#%%\n"
    }
   },
   "outputs": [],
   "source": [
    "timestamp = 14 * 4200 * 2 + 14 * 8 * 2000 + 14 * 4 * 200\n",
    "\n",
    "v3.process_ac_rewards_program(tkn_name='tkn', timestamp=timestamp)\n",
    "v3.describe(decimals=6)"
   ]
  },
  {
   "cell_type": "code",
   "execution_count": null,
   "metadata": {
    "collapsed": false,
    "pycharm": {
     "name": "#%%\n"
    }
   },
   "outputs": [],
   "source": [
    "timestamp = 14 * 4200 * 2 + 14 * 8 * 2000 + 14 * 4 * 200\n",
    "\n",
    "v3.process_ac_rewards_program(tkn_name='tkn', timestamp=timestamp)\n",
    "v3.describe(decimals=6)"
   ]
  },
  {
   "cell_type": "code",
   "execution_count": null,
   "metadata": {
    "collapsed": false,
    "pycharm": {
     "name": "#%%\n"
    }
   },
   "outputs": [],
   "source": [
    "timestamp = 14 * 4200 * 2 + 14 * 8 * 2000 + 14 * 4 * 20000\n",
    "\n",
    "v3.process_ac_rewards_program(tkn_name='tkn', timestamp=timestamp)\n",
    "v3.describe(decimals=6)"
   ]
  },
  {
   "cell_type": "code",
   "execution_count": null,
   "metadata": {
    "collapsed": false,
    "pycharm": {
     "name": "#%%\n"
    }
   },
   "outputs": [],
   "source": [
    "timestamp = 14 * 4200 * 2 + 14 * 8 * 2000 + 14 * 4 * 200000\n",
    "\n",
    "v3.process_ac_rewards_program(tkn_name='tkn', timestamp=timestamp)\n",
    "v3.describe(decimals=6)"
   ]
  },
  {
   "cell_type": "code",
   "execution_count": null,
   "metadata": {
    "collapsed": false,
    "pycharm": {
     "name": "#%%\n"
    }
   },
   "outputs": [],
   "source": [
    "timestamp = 14 * 4200 * 2 + 14 * 8 * 2000 + 14 * 4 * 200000 + 14\n",
    "\n",
    "id_number = v3.begin_cooldown_by_rtkn(tkn_amt='1000', tkn_name='tkn', user_name=user_name, timestamp=timestamp)\n",
    "v3.withdraw(user_name=user_name, id_number=id_number, timestamp=timestamp+DEFAULT.COOLDOWN_TIME)\n",
    "v3.describe(decimals=6)"
   ]
  }
 ],
 "metadata": {
  "kernelspec": {
   "display_name": "Python 3.9.13 64-bit",
   "language": "python",
   "name": "python3"
  },
  "language_info": {
   "codemirror_mode": {
    "name": "ipython",
    "version": 3
   },
   "file_extension": ".py",
   "mimetype": "text/x-python",
   "name": "python",
   "nbconvert_exporter": "python",
   "pygments_lexer": "ipython3",
   "version": "3.9.13"
  },
  "vscode": {
   "interpreter": {
    "hash": "aee8b7b246df8f9039afb4144a1f6fd8d2ca17a180786b69acc140d282b71a49"
   }
  }
 },
 "nbformat": 4,
 "nbformat_minor": 0
}