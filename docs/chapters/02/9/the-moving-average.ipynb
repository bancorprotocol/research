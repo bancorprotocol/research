{
 "cells": [
  {
   "cell_type": "code",
   "execution_count": 1,
   "metadata": {
    "tags": [
     "remove-input"
    ]
   },
   "outputs": [],
   "source": [
    "from datascience import *\n",
    "from datascience.predicates import are\n",
    "path_data = '../../../../data/'\n",
    "import numpy as np\n",
    "import matplotlib\n",
    "matplotlib.use('Agg')\n",
    "%matplotlib inline\n",
    "import matplotlib.pyplot as plots\n",
    "plots.style.use('fivethirtyeight')\n",
    "import warnings\n",
    "warnings.simplefilter(action=\"ignore\", category=FutureWarning)\n",
    "\n",
    "from urllib.request import urlopen \n",
    "import re\n",
    "from bancor_simulator.protocol import BancorNetwork\n",
    "from bancor_simulator.core.settings import GlobalSettings\n",
    "from decimal import Decimal\n",
    "from fractions import Fraction\n",
    "import pandas as pd\n",
    "\n",
    "# Recall from an earlier chapter that we already defined the cooldown period and the exit fees as follows.\n",
    "cooldown_time: int = 7\n",
    "withdrawal_fee: Decimal = Decimal('0.0025')\n",
    "whitelisted_tokens: list = ['bnt', 'eth', 'wbtc', 'link']\n",
    "bnt_funding_limit: Decimal = Decimal('40000')\n",
    "bnt_min_liquidity: Decimal = Decimal('10000')\n",
    "price_feeds = pd.DataFrame({'INDX':[0],\n",
    "                            'bnt':[2.5],\n",
    "                            'link':[15.00],\n",
    "                            'eth':[2500.00],\n",
    "                            'wbtc':[40000.00]})\n",
    "\n",
    "network_fee: Decimal = Decimal('0.2')\n",
    "trading_fee: Decimal = Decimal('0.01')\n",
    "\n",
    "# There are other possible configuration settings available, however for the present purpose we will use the defaults.\n",
    "v3 = BancorNetwork(whitelisted_tokens=whitelisted_tokens,\n",
    "              network_fee=network_fee,\n",
    "              trading_fee=trading_fee,\n",
    "              cooldown_time=cooldown_time,\n",
    "              withdrawal_fee=withdrawal_fee,\n",
    "              bnt_min_liquidity=bnt_min_liquidity,\n",
    "              bnt_funding_limit=bnt_funding_limit,\n",
    "              price_feeds=price_feeds)\n",
    "\n",
    "v3.create_user('Alice')\n",
    "v3.create_user('Bob')\n",
    "v3.create_user('Charlie')\n",
    "\n",
    "# The actual deposits.\n",
    "\n",
    "v3.stake(tkn_amt=100, tkn_name='eth', user_name='Alice')\n",
    "\n",
    "v3.stake(tkn_amt=10000, tkn_name='link', user_name='Charlie')\n",
    "\n",
    "v3.stake(tkn_amt=100, tkn_name='wbtc', user_name='Bob')\n",
    "\n",
    "v3.stake(tkn_amt=1, tkn_name='eth', user_name='Alice')\n",
    "\n",
    "v3.stake(tkn_amt=1, tkn_name='link', user_name='Charlie')\n",
    "\n",
    "v3.stake(tkn_amt=1, tkn_name='wbtc', user_name='Bob')\n",
    "\n",
    "v3.dao_msig_init_pools(whitelisted_tokens)\n",
    "\n",
    "v3.create_user('Trader')\n",
    "\n",
    "# v3.trade(swap_amount=2000, source_token='bnt',  target_token='link', user_name='Trader', timestep=0)\n",
    "\n",
    "def read_url(url): \n",
    "    return re.sub('\\\\s+', ' ', urlopen(url).read().decode())"
   ]
  },
  {
   "cell_type": "markdown",
   "metadata": {},
   "source": [
    "# The Moving Average - EMA\n",
    "\n",
    "A moving average is utilized as a security measure, where sudden changes in the pool reserves can be detected, and prevent abuse of the protocol's features. The moving average (ema) is updated with the first trade of the block, for any asset according to the following formula: \n",
    "\n",
    "![](https://lh5.googleusercontent.com/Hq0YWEHsrIza40yun3z0tuEu8migMiB6CzhIKZsY5TA2XCLw-zYqHGsm0J3QdB4-O1jxG1CF3swVjRyU4PTfQzyMJKxTCZRqS_D-9CbQYvcaZ-hh8_X2R_NGUqxIHigFGrpDeat7)\n",
    "\n",
    "where r is the spot rate in units of BNT/TKN as determined by the trading liquidity balances of the pool, and α is an arbitrary constant that determines the responsiveness of the moving average. The α term is a global variable, set at 0.2 (or 20%) at launch of Bancor 3, and is intended to provide a consensus rate for the pool that is resistant to virtual price manipulation attacks. The following chart is an arbitrary depiction of the ema behavior relative to the spot price on a per-block basis. The ema is measured and updated before an action is executed; therefore, the ema response is delayed by a minimum of one action (e.g. a trade or add/remove liquidity event). Further, the ema is only adjusted once per pool, per block.\n"
   ]
  },
  {
   "cell_type": "code",
   "execution_count": 2,
   "outputs": [
    {
     "data": {
      "text/plain": "                   Trading Liquidity              Vault            Staking  \\\n0                                      bnt=60000.000000   bnt=60000.000000   \n1     bnt=20000.000000 eth=20.000000     eth=101.000000     eth=101.000000   \n2     bnt=20000.000000 wbtc=1.250000    wbtc=101.000000    wbtc=101.000000   \n3  bnt=20000.000000 link=3333.333333  link=10001.000000  link=10001.000000   \n4                                                                            \n\n       ERC20 Contracts        Vortex External Protection     Protocol WalletState  \n0   bnbnt=60000.000000  bnt=0.000000        bnt=0.000000  bnbnt=60000.000000  \n1     bneth=101.000000                      eth=0.000000                      \n2    bnwbtc=101.000000                     wbtc=0.000000                      \n3  bnlink=10001.000000                     link=0.000000                      \n4                                                                             ",
      "text/html": "<div>\n<style scoped>\n    .dataframe tbody tr th:only-of-type {\n        vertical-align: middle;\n    }\n\n    .dataframe tbody tr th {\n        vertical-align: top;\n    }\n\n    .dataframe thead th {\n        text-align: right;\n    }\n</style>\n<table border=\"1\" class=\"dataframe\">\n  <thead>\n    <tr style=\"text-align: right;\">\n      <th></th>\n      <th>Trading Liquidity</th>\n      <th>Vault</th>\n      <th>Staking</th>\n      <th>ERC20 Contracts</th>\n      <th>Vortex</th>\n      <th>External Protection</th>\n      <th>Protocol WalletState</th>\n    </tr>\n  </thead>\n  <tbody>\n    <tr>\n      <th>0</th>\n      <td></td>\n      <td>bnt=60000.000000</td>\n      <td>bnt=60000.000000</td>\n      <td>bnbnt=60000.000000</td>\n      <td>bnt=0.000000</td>\n      <td>bnt=0.000000</td>\n      <td>bnbnt=60000.000000</td>\n    </tr>\n    <tr>\n      <th>1</th>\n      <td>bnt=20000.000000 eth=20.000000</td>\n      <td>eth=101.000000</td>\n      <td>eth=101.000000</td>\n      <td>bneth=101.000000</td>\n      <td></td>\n      <td>eth=0.000000</td>\n      <td></td>\n    </tr>\n    <tr>\n      <th>2</th>\n      <td>bnt=20000.000000 wbtc=1.250000</td>\n      <td>wbtc=101.000000</td>\n      <td>wbtc=101.000000</td>\n      <td>bnwbtc=101.000000</td>\n      <td></td>\n      <td>wbtc=0.000000</td>\n      <td></td>\n    </tr>\n    <tr>\n      <th>3</th>\n      <td>bnt=20000.000000 link=3333.333333</td>\n      <td>link=10001.000000</td>\n      <td>link=10001.000000</td>\n      <td>bnlink=10001.000000</td>\n      <td></td>\n      <td>link=0.000000</td>\n      <td></td>\n    </tr>\n    <tr>\n      <th>4</th>\n      <td></td>\n      <td></td>\n      <td></td>\n      <td></td>\n      <td></td>\n      <td></td>\n      <td></td>\n    </tr>\n  </tbody>\n</table>\n</div>"
     },
     "execution_count": 2,
     "metadata": {},
     "output_type": "execute_result"
    }
   ],
   "source": [
    "v3.describe()"
   ],
   "metadata": {
    "collapsed": false,
    "pycharm": {
     "name": "#%%\n"
    }
   }
  },
  {
   "cell_type": "markdown",
   "source": [
    "At genesis, the ema rate is set equal to the spot rate. Therefore, in the above scenario each of the liquidity pools began with the following rates:"
   ],
   "metadata": {
    "collapsed": false
   }
  },
  {
   "cell_type": "code",
   "execution_count": 3,
   "outputs": [
    {
     "data": {
      "text/plain": "  index                                          0\n0   bnt          Spot Rate=0.0000, EMA Rate=0.0000\n1   eth    Spot Rate=1000.0000, EMA Rate=1000.0000\n2  wbtc  Spot Rate=16000.0000, EMA Rate=16000.0000\n3  link          Spot Rate=6.0000, EMA Rate=6.0000",
      "text/html": "<div>\n<style scoped>\n    .dataframe tbody tr th:only-of-type {\n        vertical-align: middle;\n    }\n\n    .dataframe tbody tr th {\n        vertical-align: top;\n    }\n\n    .dataframe thead th {\n        text-align: right;\n    }\n</style>\n<table border=\"1\" class=\"dataframe\">\n  <thead>\n    <tr style=\"text-align: right;\">\n      <th></th>\n      <th>index</th>\n      <th>0</th>\n    </tr>\n  </thead>\n  <tbody>\n    <tr>\n      <th>0</th>\n      <td>bnt</td>\n      <td>Spot Rate=0.0000, EMA Rate=0.0000</td>\n    </tr>\n    <tr>\n      <th>1</th>\n      <td>eth</td>\n      <td>Spot Rate=1000.0000, EMA Rate=1000.0000</td>\n    </tr>\n    <tr>\n      <th>2</th>\n      <td>wbtc</td>\n      <td>Spot Rate=16000.0000, EMA Rate=16000.0000</td>\n    </tr>\n    <tr>\n      <th>3</th>\n      <td>link</td>\n      <td>Spot Rate=6.0000, EMA Rate=6.0000</td>\n    </tr>\n  </tbody>\n</table>\n</div>"
     },
     "execution_count": 3,
     "metadata": {},
     "output_type": "execute_result"
    }
   ],
   "source": [
    "v3.describe(rates=True, decimals=4)"
   ],
   "metadata": {
    "collapsed": false,
    "pycharm": {
     "name": "#%%\n"
    }
   }
  },
  {
   "cell_type": "markdown",
   "source": [
    "However, the trading situations do have an effect. To demonstrate, assume that the trades described above happen on consecutive blocks. For the LINK trading pool, both the spot rate and the ema begin at 6, as set at the genesis of the pool. Since the ema is adjusted before the trade is executed, the first trade has no effect on the ema; the spot price changes as expected. The new spot price becomes relevant in the next block, as the ema is updated prior to performing the second trade. First, the ema is updated using the new spot rate, then the second trade is processed. In this example, the lag of the ema means there is a significant gap between it and the spot price after the first block; however, the adjustment in the second block, prior to executing the second trade, results in a close agreement thereafter."
   ],
   "metadata": {
    "collapsed": false,
    "pycharm": {
     "name": "#%% md\n"
    }
   }
  },
  {
   "cell_type": "code",
   "execution_count": 4,
   "outputs": [
    {
     "data": {
      "text/plain": "  index                                          0\n0   bnt          Spot Rate=0.0000, EMA Rate=0.0000\n1   eth    Spot Rate=1000.0000, EMA Rate=1000.0000\n2  wbtc  Spot Rate=16000.0000, EMA Rate=16000.0000\n3  link          Spot Rate=7.2513, EMA Rate=6.0000",
      "text/html": "<div>\n<style scoped>\n    .dataframe tbody tr th:only-of-type {\n        vertical-align: middle;\n    }\n\n    .dataframe tbody tr th {\n        vertical-align: top;\n    }\n\n    .dataframe thead th {\n        text-align: right;\n    }\n</style>\n<table border=\"1\" class=\"dataframe\">\n  <thead>\n    <tr style=\"text-align: right;\">\n      <th></th>\n      <th>index</th>\n      <th>0</th>\n    </tr>\n  </thead>\n  <tbody>\n    <tr>\n      <th>0</th>\n      <td>bnt</td>\n      <td>Spot Rate=0.0000, EMA Rate=0.0000</td>\n    </tr>\n    <tr>\n      <th>1</th>\n      <td>eth</td>\n      <td>Spot Rate=1000.0000, EMA Rate=1000.0000</td>\n    </tr>\n    <tr>\n      <th>2</th>\n      <td>wbtc</td>\n      <td>Spot Rate=16000.0000, EMA Rate=16000.0000</td>\n    </tr>\n    <tr>\n      <th>3</th>\n      <td>link</td>\n      <td>Spot Rate=7.2513, EMA Rate=6.0000</td>\n    </tr>\n  </tbody>\n</table>\n</div>"
     },
     "execution_count": 4,
     "metadata": {},
     "output_type": "execute_result"
    }
   ],
   "source": [
    "timestep = v3.timestep\n",
    "\n",
    "v3.trade(swap_amount=2000, source_token='bnt',  target_token='link', user_name='Trader', timestep=timestep)\n",
    "\n",
    "v3.describe(rates=True, decimals=4)"
   ],
   "metadata": {
    "collapsed": false,
    "pycharm": {
     "name": "#%%\n"
    }
   }
  },
  {
   "cell_type": "code",
   "execution_count": 5,
   "outputs": [
    {
     "data": {
      "text/plain": "  index                                          0\n0   bnt          Spot Rate=0.0000, EMA Rate=0.0000\n1   eth    Spot Rate=1000.0000, EMA Rate=1000.0000\n2  wbtc  Spot Rate=16000.0000, EMA Rate=16000.0000\n3  link          Spot Rate=5.9988, EMA Rate=6.0000",
      "text/html": "<div>\n<style scoped>\n    .dataframe tbody tr th:only-of-type {\n        vertical-align: middle;\n    }\n\n    .dataframe tbody tr th {\n        vertical-align: top;\n    }\n\n    .dataframe thead th {\n        text-align: right;\n    }\n</style>\n<table border=\"1\" class=\"dataframe\">\n  <thead>\n    <tr style=\"text-align: right;\">\n      <th></th>\n      <th>index</th>\n      <th>0</th>\n    </tr>\n  </thead>\n  <tbody>\n    <tr>\n      <th>0</th>\n      <td>bnt</td>\n      <td>Spot Rate=0.0000, EMA Rate=0.0000</td>\n    </tr>\n    <tr>\n      <th>1</th>\n      <td>eth</td>\n      <td>Spot Rate=1000.0000, EMA Rate=1000.0000</td>\n    </tr>\n    <tr>\n      <th>2</th>\n      <td>wbtc</td>\n      <td>Spot Rate=16000.0000, EMA Rate=16000.0000</td>\n    </tr>\n    <tr>\n      <th>3</th>\n      <td>link</td>\n      <td>Spot Rate=5.9988, EMA Rate=6.0000</td>\n    </tr>\n  </tbody>\n</table>\n</div>"
     },
     "execution_count": 5,
     "metadata": {},
     "output_type": "execute_result"
    }
   ],
   "source": [
    "#TODO: Mark to verify link EMA rate=6.00 (conflicts with doc 5.9998)\n",
    "\n",
    "v3.trade(swap_amount=302.9981, source_token='link',  target_token='bnt', user_name='Trader', timestep=timestep + 1)\n",
    "\n",
    "v3.describe(rates=True, decimals=4)"
   ],
   "metadata": {
    "collapsed": false,
    "pycharm": {
     "name": "#%%\n"
    }
   }
  },
  {
   "cell_type": "code",
   "execution_count": 6,
   "outputs": [
    {
     "data": {
      "text/plain": "  index                                          0\n0   bnt          Spot Rate=0.0000, EMA Rate=0.0000\n1   eth     Spot Rate=907.3923, EMA Rate=1000.0000\n2  wbtc  Spot Rate=17534.2111, EMA Rate=16000.0000\n3  link          Spot Rate=5.9988, EMA Rate=6.0000",
      "text/html": "<div>\n<style scoped>\n    .dataframe tbody tr th:only-of-type {\n        vertical-align: middle;\n    }\n\n    .dataframe tbody tr th {\n        vertical-align: top;\n    }\n\n    .dataframe thead th {\n        text-align: right;\n    }\n</style>\n<table border=\"1\" class=\"dataframe\">\n  <thead>\n    <tr style=\"text-align: right;\">\n      <th></th>\n      <th>index</th>\n      <th>0</th>\n    </tr>\n  </thead>\n  <tbody>\n    <tr>\n      <th>0</th>\n      <td>bnt</td>\n      <td>Spot Rate=0.0000, EMA Rate=0.0000</td>\n    </tr>\n    <tr>\n      <th>1</th>\n      <td>eth</td>\n      <td>Spot Rate=907.3923, EMA Rate=1000.0000</td>\n    </tr>\n    <tr>\n      <th>2</th>\n      <td>wbtc</td>\n      <td>Spot Rate=17534.2111, EMA Rate=16000.0000</td>\n    </tr>\n    <tr>\n      <th>3</th>\n      <td>link</td>\n      <td>Spot Rate=5.9988, EMA Rate=6.0000</td>\n    </tr>\n  </tbody>\n</table>\n</div>"
     },
     "execution_count": 6,
     "metadata": {},
     "output_type": "execute_result"
    }
   ],
   "source": [
    "\n",
    "v3.trade(swap_amount=1, source_token='eth',  target_token='wbtc', user_name='Trader', timestep=timestep)\n",
    "\n",
    "v3.describe(rates=True, decimals=4)"
   ],
   "metadata": {
    "collapsed": false,
    "pycharm": {
     "name": "#%%\n"
    }
   }
  }
 ],
 "metadata": {
  "kernelspec": {
   "name": "pycharm-c19c9c8d",
   "language": "python",
   "display_name": "PyCharm (simulator-v3)"
  },
  "language_info": {
   "codemirror_mode": {
    "name": "ipython",
    "version": 3
   },
   "file_extension": ".py",
   "mimetype": "text/x-python",
   "name": "python",
   "nbconvert_exporter": "python",
   "pygments_lexer": "ipython3",
   "version": "3.8.5"
  }
 },
 "nbformat": 4,
 "nbformat_minor": 2
}