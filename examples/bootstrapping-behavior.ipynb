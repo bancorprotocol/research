{
 "cells": [
  {
   "cell_type": "code",
   "execution_count": 1,
   "metadata": {
    "tags": [
     "remove-input"
    ]
   },
   "outputs": [],
   "source": [
    "from datascience import *\n",
    "from datascience.predicates import are\n",
    "path_data = '../../../../data/'\n",
    "import numpy as np\n",
    "import matplotlib\n",
    "matplotlib.use('Agg')\n",
    "%matplotlib inline\n",
    "import matplotlib.pyplot as plots\n",
    "plots.style.use('fivethirtyeight')\n",
    "import warnings\n",
    "warnings.simplefilter(action=\"ignore\", category=FutureWarning)\n",
    "\n",
    "from urllib.request import urlopen \n",
    "import re\n",
    "from bancor3_simulator.protocol import BancorV3\n",
    "from bancor3_simulator.core.settings import GlobalSettings\n",
    "from decimal import Decimal\n",
    "import pandas as pd\n",
    "\n",
    "def read_url(url): \n",
    "    return re.sub('\\\\s+', ' ', urlopen(url).read().decode())"
   ]
  },
  {
   "cell_type": "markdown",
   "metadata": {},
   "source": [
    "# Bootstrapping Behavior\n",
    "\n",
    "To illustrate how the system works, we will constrain the system to an oversimplified case with only three pools: ETH, wBTC and LINK, in addition to the BNT omnipool. Assume that these pools have just recently earned whitelist status, they each have a BNT funding limit of 40,000 BNT, and all are completely empty."
   ]
  },
  {
   "cell_type": "code",
   "execution_count": 2,
   "outputs": [],
   "source": [
    "import pandas as pd\n",
    "from decimal import Decimal\n",
    "from bancor3_simulator.protocol import BancorV3"
   ],
   "metadata": {
    "collapsed": false,
    "pycharm": {
     "name": "#%%\n"
    }
   }
  },
  {
   "cell_type": "code",
   "execution_count": 3,
   "outputs": [],
   "source": [
    "whitelisted_tokens: list = ['bnt', 'eth', 'wbtc', 'link']"
   ],
   "metadata": {
    "collapsed": false,
    "pycharm": {
     "name": "#%%\n"
    }
   }
  },
  {
   "cell_type": "code",
   "execution_count": 4,
   "outputs": [],
   "source": [
    "bnt_funding_limit: Decimal = Decimal('40000')"
   ],
   "metadata": {
    "collapsed": false,
    "pycharm": {
     "name": "#%%\n"
    }
   }
  },
  {
   "cell_type": "markdown",
   "source": [
    "The protocol is in the “bootstrapping phase” for all three assets. Users can still interact with the system and deposit liquidity - which is essential for the process. The system needs to attract sufficient quantities of each token to overcome the minimum liquidity threshold prior to the activation of each liquidity pool, respectively. The default minimum liquidity threshold is 10,000 BNT (previously 1,000 BNT in an earlier draft of this proposal), meaning that the pool must mint 10,000 BNT during its activation, and therefore there must be at least a commensurate value of TKN available in the vault."
   ],
   "metadata": {
    "collapsed": false
   }
  },
  {
   "cell_type": "code",
   "execution_count": 5,
   "outputs": [],
   "source": [
    "bnt_min_liquidity: Decimal = Decimal('10000')"
   ],
   "metadata": {
    "collapsed": false,
    "pycharm": {
     "name": "#%%\n"
    }
   }
  },
  {
   "cell_type": "markdown",
   "source": [
    "Assume that the prices of each asset are as follows: BNT = 2.50, LINK = 15.00, ETH = 2,500.00, wBTC = 40,000.00. Therefore, to bootstrap each pool, at least $25,000 of each asset must be available in the vault."
   ],
   "metadata": {
    "collapsed": false
   }
  },
  {
   "cell_type": "code",
   "execution_count": 6,
   "outputs": [
    {
     "data": {
      "text/plain": "State(latest_tkn=None, latest_amt=Decimal('0'), latest_user_name=None, latest_action=None, withdrawal_ids=[], created_at=datetime.datetime(2022, 5, 16, 9, 21, 39, 781311), timestep=0, network_fee=Decimal('0.2'), trading_fee=Decimal('0.01'), bnt_min_liquidity=Decimal('10000'), cooldown_time=7, bnt_funding_limit=Decimal('40000'), alpha=Decimal('0.200000000000000000'), whitelisted_tokens=['bnt', 'eth', 'wbtc', 'link'], staked_bnt=Decimal('0'), vault_bnt=Decimal('0'), erc20contracts_bnbnt=Decimal('0'), protocol_wallet_bnbnt=Decimal('0'), vortex_bnt=Decimal('0'), vortex_vbnt_burned=Decimal('0'), tokens=defaultdict(<class 'bancor3_simulator.core.dataclasses.Transaction'>, {'bnt': Transaction(timestep=0, vault_tkn=Decimal('0'), erc20contracts_bntkn=Decimal('0'), staked_tkn=Decimal('0'), trading_enabled=False, bnt_trading_liquidity=Decimal('0'), tkn_trading_liquidity=Decimal('0'), trading_fee=Decimal('0.01'), bnt_funding_limit=Decimal('40000'), bnt_remaining_funding=Decimal('0'), bnt_funding_amount=Decimal('0'), external_protection_vault=Decimal('0'), spot_rate=Decimal('0'), ema_rate=Decimal('0'), ema_last_updated=Decimal('0')), 'eth': Transaction(timestep=0, vault_tkn=Decimal('0'), erc20contracts_bntkn=Decimal('0'), staked_tkn=Decimal('0'), trading_enabled=False, bnt_trading_liquidity=Decimal('0'), tkn_trading_liquidity=Decimal('0'), trading_fee=Decimal('0.01'), bnt_funding_limit=Decimal('40000'), bnt_remaining_funding=Decimal('0'), bnt_funding_amount=Decimal('0'), external_protection_vault=Decimal('0'), spot_rate=Decimal('0'), ema_rate=Decimal('0'), ema_last_updated=Decimal('0')), 'wbtc': Transaction(timestep=0, vault_tkn=Decimal('0'), erc20contracts_bntkn=Decimal('0'), staked_tkn=Decimal('0'), trading_enabled=False, bnt_trading_liquidity=Decimal('0'), tkn_trading_liquidity=Decimal('0'), trading_fee=Decimal('0.01'), bnt_funding_limit=Decimal('40000'), bnt_remaining_funding=Decimal('0'), bnt_funding_amount=Decimal('0'), external_protection_vault=Decimal('0'), spot_rate=Decimal('0'), ema_rate=Decimal('0'), ema_last_updated=Decimal('0')), 'link': Transaction(timestep=0, vault_tkn=Decimal('0'), erc20contracts_bntkn=Decimal('0'), staked_tkn=Decimal('0'), trading_enabled=False, bnt_trading_liquidity=Decimal('0'), tkn_trading_liquidity=Decimal('0'), trading_fee=Decimal('0.01'), bnt_funding_limit=Decimal('40000'), bnt_remaining_funding=Decimal('0'), bnt_funding_amount=Decimal('0'), external_protection_vault=Decimal('0'), spot_rate=Decimal('0'), ema_rate=Decimal('0'), ema_last_updated=Decimal('0'))}), transactions=[], users=Users(usernames=['Alice', 'Bob', 'Charlie', 'Trader'], users=defaultdict(<class 'bancor3_simulator.core.dataclasses.User'>, {'Alice': User(user_name='Alice', wallet=defaultdict(<class 'bancor3_simulator.core.dataclasses.Wallet'>, {'dai': Wallet(tkn_name='dai', tkn_amt=Decimal('0'), bntkn_amt=Decimal('0'), pending_withdrawals=defaultdict(<class 'bancor3_simulator.core.dataclasses.CooldownState'>, {}), vbnt_amt=Decimal('0')), 'eth': Wallet(tkn_name='eth', tkn_amt=Decimal('0'), bntkn_amt=Decimal('0'), pending_withdrawals=defaultdict(<class 'bancor3_simulator.core.dataclasses.CooldownState'>, {}), vbnt_amt=Decimal('0')), 'link': Wallet(tkn_name='link', tkn_amt=Decimal('0'), bntkn_amt=Decimal('0'), pending_withdrawals=defaultdict(<class 'bancor3_simulator.core.dataclasses.CooldownState'>, {}), vbnt_amt=Decimal('0')), 'bnt': Wallet(tkn_name='bnt', tkn_amt=Decimal('0'), bntkn_amt=Decimal('0'), pending_withdrawals=defaultdict(<class 'bancor3_simulator.core.dataclasses.CooldownState'>, {}), vbnt_amt=Decimal('0')), 'tkn': Wallet(tkn_name='tkn', tkn_amt=Decimal('0'), bntkn_amt=Decimal('0'), pending_withdrawals=defaultdict(<class 'bancor3_simulator.core.dataclasses.CooldownState'>, {}), vbnt_amt=Decimal('0')), 'wbtc': Wallet(tkn_name='wbtc', tkn_amt=Decimal('0'), bntkn_amt=Decimal('0'), pending_withdrawals=defaultdict(<class 'bancor3_simulator.core.dataclasses.CooldownState'>, {}), vbnt_amt=Decimal('0'))})), 'Bob': User(user_name='Bob', wallet=defaultdict(<class 'bancor3_simulator.core.dataclasses.Wallet'>, {'dai': Wallet(tkn_name='dai', tkn_amt=Decimal('0'), bntkn_amt=Decimal('0'), pending_withdrawals=defaultdict(<class 'bancor3_simulator.core.dataclasses.CooldownState'>, {}), vbnt_amt=Decimal('0')), 'eth': Wallet(tkn_name='eth', tkn_amt=Decimal('0'), bntkn_amt=Decimal('0'), pending_withdrawals=defaultdict(<class 'bancor3_simulator.core.dataclasses.CooldownState'>, {}), vbnt_amt=Decimal('0')), 'link': Wallet(tkn_name='link', tkn_amt=Decimal('0'), bntkn_amt=Decimal('0'), pending_withdrawals=defaultdict(<class 'bancor3_simulator.core.dataclasses.CooldownState'>, {}), vbnt_amt=Decimal('0')), 'bnt': Wallet(tkn_name='bnt', tkn_amt=Decimal('0'), bntkn_amt=Decimal('0'), pending_withdrawals=defaultdict(<class 'bancor3_simulator.core.dataclasses.CooldownState'>, {}), vbnt_amt=Decimal('0')), 'tkn': Wallet(tkn_name='tkn', tkn_amt=Decimal('0'), bntkn_amt=Decimal('0'), pending_withdrawals=defaultdict(<class 'bancor3_simulator.core.dataclasses.CooldownState'>, {}), vbnt_amt=Decimal('0')), 'wbtc': Wallet(tkn_name='wbtc', tkn_amt=Decimal('0'), bntkn_amt=Decimal('0'), pending_withdrawals=defaultdict(<class 'bancor3_simulator.core.dataclasses.CooldownState'>, {}), vbnt_amt=Decimal('0'))})), 'Charlie': User(user_name='Charlie', wallet=defaultdict(<class 'bancor3_simulator.core.dataclasses.Wallet'>, {'dai': Wallet(tkn_name='dai', tkn_amt=Decimal('0'), bntkn_amt=Decimal('0'), pending_withdrawals=defaultdict(<class 'bancor3_simulator.core.dataclasses.CooldownState'>, {}), vbnt_amt=Decimal('0')), 'eth': Wallet(tkn_name='eth', tkn_amt=Decimal('0'), bntkn_amt=Decimal('0'), pending_withdrawals=defaultdict(<class 'bancor3_simulator.core.dataclasses.CooldownState'>, {}), vbnt_amt=Decimal('0')), 'link': Wallet(tkn_name='link', tkn_amt=Decimal('0'), bntkn_amt=Decimal('0'), pending_withdrawals=defaultdict(<class 'bancor3_simulator.core.dataclasses.CooldownState'>, {}), vbnt_amt=Decimal('0')), 'bnt': Wallet(tkn_name='bnt', tkn_amt=Decimal('0'), bntkn_amt=Decimal('0'), pending_withdrawals=defaultdict(<class 'bancor3_simulator.core.dataclasses.CooldownState'>, {}), vbnt_amt=Decimal('0')), 'tkn': Wallet(tkn_name='tkn', tkn_amt=Decimal('0'), bntkn_amt=Decimal('0'), pending_withdrawals=defaultdict(<class 'bancor3_simulator.core.dataclasses.CooldownState'>, {}), vbnt_amt=Decimal('0')), 'wbtc': Wallet(tkn_name='wbtc', tkn_amt=Decimal('0'), bntkn_amt=Decimal('0'), pending_withdrawals=defaultdict(<class 'bancor3_simulator.core.dataclasses.CooldownState'>, {}), vbnt_amt=Decimal('0'))})), 'Trader': User(user_name='Trader', wallet=defaultdict(<class 'bancor3_simulator.core.dataclasses.Wallet'>, {'dai': Wallet(tkn_name='dai', tkn_amt=Decimal('0'), bntkn_amt=Decimal('0'), pending_withdrawals=defaultdict(<class 'bancor3_simulator.core.dataclasses.CooldownState'>, {}), vbnt_amt=Decimal('0')), 'eth': Wallet(tkn_name='eth', tkn_amt=Decimal('0'), bntkn_amt=Decimal('0'), pending_withdrawals=defaultdict(<class 'bancor3_simulator.core.dataclasses.CooldownState'>, {}), vbnt_amt=Decimal('0')), 'link': Wallet(tkn_name='link', tkn_amt=Decimal('0'), bntkn_amt=Decimal('0'), pending_withdrawals=defaultdict(<class 'bancor3_simulator.core.dataclasses.CooldownState'>, {}), vbnt_amt=Decimal('0')), 'bnt': Wallet(tkn_name='bnt', tkn_amt=Decimal('0'), bntkn_amt=Decimal('0'), pending_withdrawals=defaultdict(<class 'bancor3_simulator.core.dataclasses.CooldownState'>, {}), vbnt_amt=Decimal('0')), 'tkn': Wallet(tkn_name='tkn', tkn_amt=Decimal('0'), bntkn_amt=Decimal('0'), pending_withdrawals=defaultdict(<class 'bancor3_simulator.core.dataclasses.CooldownState'>, {}), vbnt_amt=Decimal('0')), 'wbtc': Wallet(tkn_name='wbtc', tkn_amt=Decimal('0'), bntkn_amt=Decimal('0'), pending_withdrawals=defaultdict(<class 'bancor3_simulator.core.dataclasses.CooldownState'>, {}), vbnt_amt=Decimal('0'))}))}), history=[]), history=[])"
     },
     "execution_count": 6,
     "metadata": {},
     "output_type": "execute_result"
    }
   ],
   "source": [
    "# Recall from an earlier chapter that we already defined the cooldown period and the exit fees as follows.\n",
    "cooldown_time: int = 7\n",
    "withdrawal_fee: Decimal = Decimal('0.0025')\n",
    "price_feeds = pd.DataFrame({'INDX':[0],\n",
    "                            'bnt':[2.5],\n",
    "                            'link':[15.00],\n",
    "                            'eth':[2500.00],\n",
    "                            'wbtc':[40000.00]})\n",
    "\n",
    "network_fee: Decimal = Decimal('0.2')\n",
    "trading_fee: Decimal = Decimal('0.01')\n",
    "\n",
    "# There are other possible configuration settings available, however for the present purpose we will use the defaults.\n",
    "v3 = BancorV3(whitelisted_tokens=whitelisted_tokens,\n",
    "              network_fee=network_fee,\n",
    "              trading_fee=trading_fee,\n",
    "              cooldown_time=cooldown_time,\n",
    "              withdrawal_fee=withdrawal_fee,\n",
    "              bnt_min_liquidity=bnt_min_liquidity,\n",
    "              bnt_funding_limit=bnt_funding_limit,\n",
    "              price_feeds=price_feeds)\n",
    "\n",
    "v3.global_state"
   ],
   "metadata": {
    "collapsed": false,
    "pycharm": {
     "name": "#%%\n"
    }
   }
  },
  {
   "cell_type": "markdown",
   "source": [
    "During the bootstrap phase, Alice deposits 100 ETH, Bob deposits 100 bnwBTC, and Charlie deposits 10,000 LINK. By default, the initial pool token value is 1:1 with the underlying asset, and only changes after revenue begins accumulating. Therefore, each of these characters receive 100 bnETH, 100 bnwBTC and 1,000 bnLINK pool tokens for their contribution, respectively,"
   ],
   "metadata": {
    "collapsed": false
   }
  },
  {
   "cell_type": "code",
   "execution_count": 7,
   "metadata": {},
   "outputs": [],
   "source": [
    "v3.create_user('Alice')\n",
    "v3.create_user('Bob')\n",
    "v3.create_user('Charlie')"
   ]
  },
  {
   "cell_type": "markdown",
   "source": [
    "However, note that the trading liquidity available on the pools remains unchanged until the BancorDAO msig signers initialize each pool.\n",
    "\n",
    "The condition to initialize a pool is that there must be at least 10,000 BNT ($25,000 at the quoted price) worth of each token - in this case all three satisfy the criteria. The BancorDAO msig signers then sign a transaction with the rate of BNT/TKN for each of the bootstrapping assets. In this case, BNT/ETH = 1,000, BNT/wBTC = 16,000, BNT/LINK =  6. The trading liquidity on each pool begins with exactly 10,000 BNT and the commensurate amount of TKN as determined by the rates supplied by the msig signers.\n",
    "\n",
    "It is important to note here that each of these pools have been stated to have a 100,000 BNT funding limit, 10× higher than the bootstrapping depth. This is because the pools should equilibrate with the rest of the market and grow in a controlled manner. Therefore, only a fraction of the available ETH, wBTC and LINK has been committed to trading at this stage. The other important change is that the BNT that was created by the protocol causes its own pool token to be issued, bnBNT,\n",
    "\n",
    "Fortunately, the rate at which the pool can grow is independent of the new liquidity additions, and is determined entirely by the token balances available in the vault. To demonstrate, suppose that each user deposits just 1 more TKN each to their respective pools; Alice deposits 1 ETH, Bob deposits 1 wBTC, and Charlie deposits 1 LINK. Each of these tokens is accepted directly to the vault. Assume that no trading has yet occurred on the pool, therefore the valuation of each pool token remains at 1:1 for the time being. Therefore, each user is issued one additional bnTKN."
   ],
   "metadata": {
    "collapsed": false
   }
  },
  {
   "cell_type": "code",
   "execution_count": 8,
   "outputs": [
    {
     "data": {
      "text/plain": "            Trading Liquidity              Vault            Staking  \\\n0                                   bnt=0.000000       bnt=0.000000   \n1   bnt=0.000000 eth=0.000000     eth=100.000000     eth=100.000000   \n2  bnt=0.000000 wbtc=0.000000    wbtc=100.000000    wbtc=100.000000   \n3  bnt=0.000000 link=0.000000  link=10000.000000  link=10000.000000   \n4                                                                     \n\n       ERC20 Contracts        Vortex External Protection Protocol Wallet  \n0       bnbnt=0.000000  bnt=0.000000        bnt=0.000000  bnbnt=0.000000  \n1     bneth=100.000000                      eth=0.000000                  \n2    bnwbtc=100.000000                     wbtc=0.000000                  \n3  bnlink=10000.000000                     link=0.000000                  \n4                                                                         ",
      "text/html": "<div>\n<style scoped>\n    .dataframe tbody tr th:only-of-type {\n        vertical-align: middle;\n    }\n\n    .dataframe tbody tr th {\n        vertical-align: top;\n    }\n\n    .dataframe thead th {\n        text-align: right;\n    }\n</style>\n<table border=\"1\" class=\"dataframe\">\n  <thead>\n    <tr style=\"text-align: right;\">\n      <th></th>\n      <th>Trading Liquidity</th>\n      <th>Vault</th>\n      <th>Staking</th>\n      <th>ERC20 Contracts</th>\n      <th>Vortex</th>\n      <th>External Protection</th>\n      <th>Protocol Wallet</th>\n    </tr>\n  </thead>\n  <tbody>\n    <tr>\n      <th>0</th>\n      <td></td>\n      <td>bnt=0.000000</td>\n      <td>bnt=0.000000</td>\n      <td>bnbnt=0.000000</td>\n      <td>bnt=0.000000</td>\n      <td>bnt=0.000000</td>\n      <td>bnbnt=0.000000</td>\n    </tr>\n    <tr>\n      <th>1</th>\n      <td>bnt=0.000000 eth=0.000000</td>\n      <td>eth=100.000000</td>\n      <td>eth=100.000000</td>\n      <td>bneth=100.000000</td>\n      <td></td>\n      <td>eth=0.000000</td>\n      <td></td>\n    </tr>\n    <tr>\n      <th>2</th>\n      <td>bnt=0.000000 wbtc=0.000000</td>\n      <td>wbtc=100.000000</td>\n      <td>wbtc=100.000000</td>\n      <td>bnwbtc=100.000000</td>\n      <td></td>\n      <td>wbtc=0.000000</td>\n      <td></td>\n    </tr>\n    <tr>\n      <th>3</th>\n      <td>bnt=0.000000 link=0.000000</td>\n      <td>link=10000.000000</td>\n      <td>link=10000.000000</td>\n      <td>bnlink=10000.000000</td>\n      <td></td>\n      <td>link=0.000000</td>\n      <td></td>\n    </tr>\n    <tr>\n      <th>4</th>\n      <td></td>\n      <td></td>\n      <td></td>\n      <td></td>\n      <td></td>\n      <td></td>\n      <td></td>\n    </tr>\n  </tbody>\n</table>\n</div>"
     },
     "execution_count": 8,
     "metadata": {},
     "output_type": "execute_result"
    }
   ],
   "source": [
    "# The actual deposits.\n",
    "\n",
    "v3.stake(tkn_amt=100, tkn_name='eth', user_name='Alice')\n",
    "\n",
    "v3.stake(tkn_amt=10000, tkn_name='link', user_name='Charlie')\n",
    "\n",
    "v3.stake(tkn_amt=100, tkn_name='wbtc', user_name='Bob')\n",
    "\n",
    "v3.describe()"
   ],
   "metadata": {
    "collapsed": false,
    "pycharm": {
     "name": "#%%\n"
    }
   }
  },
  {
   "cell_type": "code",
   "execution_count": 9,
   "outputs": [
    {
     "data": {
      "text/plain": "                   Trading Liquidity              Vault            Staking  \\\n0                                      bnt=60000.000000   bnt=60000.000000   \n1     bnt=20000.000000 eth=20.000000     eth=101.000000     eth=101.000000   \n2     bnt=20000.000000 wbtc=1.250000    wbtc=101.000000    wbtc=101.000000   \n3  bnt=20000.000000 link=3333.333333  link=10001.000000  link=10001.000000   \n4                                                                            \n\n       ERC20 Contracts        Vortex External Protection     Protocol Wallet  \n0   bnbnt=60000.000000  bnt=0.000000        bnt=0.000000  bnbnt=60000.000000  \n1     bneth=101.000000                      eth=0.000000                      \n2    bnwbtc=101.000000                     wbtc=0.000000                      \n3  bnlink=10001.000000                     link=0.000000                      \n4                                                                             ",
      "text/html": "<div>\n<style scoped>\n    .dataframe tbody tr th:only-of-type {\n        vertical-align: middle;\n    }\n\n    .dataframe tbody tr th {\n        vertical-align: top;\n    }\n\n    .dataframe thead th {\n        text-align: right;\n    }\n</style>\n<table border=\"1\" class=\"dataframe\">\n  <thead>\n    <tr style=\"text-align: right;\">\n      <th></th>\n      <th>Trading Liquidity</th>\n      <th>Vault</th>\n      <th>Staking</th>\n      <th>ERC20 Contracts</th>\n      <th>Vortex</th>\n      <th>External Protection</th>\n      <th>Protocol Wallet</th>\n    </tr>\n  </thead>\n  <tbody>\n    <tr>\n      <th>0</th>\n      <td></td>\n      <td>bnt=60000.000000</td>\n      <td>bnt=60000.000000</td>\n      <td>bnbnt=60000.000000</td>\n      <td>bnt=0.000000</td>\n      <td>bnt=0.000000</td>\n      <td>bnbnt=60000.000000</td>\n    </tr>\n    <tr>\n      <th>1</th>\n      <td>bnt=20000.000000 eth=20.000000</td>\n      <td>eth=101.000000</td>\n      <td>eth=101.000000</td>\n      <td>bneth=101.000000</td>\n      <td></td>\n      <td>eth=0.000000</td>\n      <td></td>\n    </tr>\n    <tr>\n      <th>2</th>\n      <td>bnt=20000.000000 wbtc=1.250000</td>\n      <td>wbtc=101.000000</td>\n      <td>wbtc=101.000000</td>\n      <td>bnwbtc=101.000000</td>\n      <td></td>\n      <td>wbtc=0.000000</td>\n      <td></td>\n    </tr>\n    <tr>\n      <th>3</th>\n      <td>bnt=20000.000000 link=3333.333333</td>\n      <td>link=10001.000000</td>\n      <td>link=10001.000000</td>\n      <td>bnlink=10001.000000</td>\n      <td></td>\n      <td>link=0.000000</td>\n      <td></td>\n    </tr>\n    <tr>\n      <th>4</th>\n      <td></td>\n      <td></td>\n      <td></td>\n      <td></td>\n      <td></td>\n      <td></td>\n      <td></td>\n    </tr>\n  </tbody>\n</table>\n</div>"
     },
     "execution_count": 9,
     "metadata": {},
     "output_type": "execute_result"
    }
   ],
   "source": [
    "v3.stake(tkn_amt=1, tkn_name='eth', user_name='Alice')\n",
    "\n",
    "v3.stake(tkn_amt=1, tkn_name='link', user_name='Charlie')\n",
    "\n",
    "v3.stake(tkn_amt=1, tkn_name='wbtc', user_name='Bob')\n",
    "\n",
    "v3.dao_msig_init_pools(whitelisted_tokens)\n",
    "\n",
    "v3.describe()"
   ],
   "metadata": {
    "collapsed": false,
    "pycharm": {
     "name": "#%%\n"
    }
   }
  },
  {
   "cell_type": "markdown",
   "source": [
    "and the balances of the staking ledger are updated accordingly."
   ],
   "metadata": {
    "collapsed": false,
    "pycharm": {
     "name": "#%% md\n"
    }
   }
  },
  {
   "cell_type": "code",
   "execution_count": null,
   "outputs": [],
   "source": [],
   "metadata": {
    "collapsed": false,
    "pycharm": {
     "name": "#%%\n"
    }
   }
  }
 ],
 "metadata": {
  "kernelspec": {
   "name": "pycharm-c19c9c8d",
   "language": "python",
   "display_name": "PyCharm (simulator-v3)"
  },
  "language_info": {
   "codemirror_mode": {
    "name": "ipython",
    "version": 3
   },
   "file_extension": ".py",
   "mimetype": "text/x-python",
   "name": "python",
   "nbconvert_exporter": "python",
   "pygments_lexer": "ipython3",
   "version": "3.8.5"
  }
 },
 "nbformat": 4,
 "nbformat_minor": 2
}