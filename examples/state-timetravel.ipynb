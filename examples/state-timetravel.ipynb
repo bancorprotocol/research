{
 "cells": [
  {
   "cell_type": "code",
   "execution_count": 9,
   "metadata": {
    "collapsed": true
   },
   "outputs": [],
   "source": [
    "from bancor_research.bancor_simulator.v3.spec.network import *\n",
    "\n",
    "v3 = BancorDapp()"
   ]
  },
  {
   "cell_type": "code",
   "execution_count": 10,
   "outputs": [],
   "source": [
    "user_name = 'Alice'\n",
    "\n",
    "tkn_name = 'tkn'\n",
    "bnt_name = 'bnt'\n",
    "\n",
    "tkn_amt = 1000000000\n",
    "bnt_amt = 1000000\n",
    "\n",
    "v3.set_user_balance(user_name, tkn_name, tkn_amt)\n",
    "v3.set_user_balance(user_name, bnt_name, bnt_amt)"
   ],
   "metadata": {
    "collapsed": false,
    "pycharm": {
     "name": "#%%\n"
    }
   }
  },
  {
   "cell_type": "code",
   "execution_count": 11,
   "outputs": [
    {
     "data": {
      "text/plain": "                                         eth      link               tkn  \\\n1 Account Alice                          NaN       NaN  999999000.000000   \n2 Pool    a: TKN Staked Balance     0.000000  0.000000       1000.000000   \n          b: TKN Trading Liquidity  0.000000  0.000000          0.000000   \n          c: BNT Trading Liquidity  0.000000  0.000000          0.000000   \n          d: BNT Current Funding    0.000000  0.000000          0.000000   \n          e: Spot Rate              0.000000  0.000000          0.000000   \n          f: Average Rate           0.000000  0.000000          0.000000   \n          g: Average Inverse Rate   0.000000  0.000000          0.000000   \n3 Network Master Vault              0.000000  0.000000       1000.000000   \n          Protection Vault          0.000000  0.000000          0.000000   \n          Protocol Equity                NaN       NaN               NaN   \n          Rewards Vault                  NaN       NaN               NaN   \n\n                                        wbtc             bnt     bneth  \\\n1 Account Alice                          NaN  1000000.000000       NaN   \n2 Pool    a: TKN Staked Balance     0.000000             NaN  0.000000   \n          b: TKN Trading Liquidity  0.000000             NaN  0.000000   \n          c: BNT Trading Liquidity  0.000000             NaN  0.000000   \n          d: BNT Current Funding    0.000000             NaN  0.000000   \n          e: Spot Rate              0.000000             NaN  0.000000   \n          f: Average Rate           0.000000             NaN  0.000000   \n          g: Average Inverse Rate   0.000000             NaN  0.000000   \n3 Network Master Vault              0.000000             NaN       NaN   \n          Protection Vault          0.000000             NaN       NaN   \n          Protocol Equity                NaN             NaN  0.000000   \n          Rewards Vault                  NaN             NaN  0.000000   \n\n                                      bnlink        bntkn    bnwbtc  \n1 Account Alice                          NaN  1000.000000       NaN  \n2 Pool    a: TKN Staked Balance     0.000000     0.000000  0.000000  \n          b: TKN Trading Liquidity  0.000000     0.000000  0.000000  \n          c: BNT Trading Liquidity  0.000000     0.000000  0.000000  \n          d: BNT Current Funding    0.000000     0.000000  0.000000  \n          e: Spot Rate              0.000000     0.000000  0.000000  \n          f: Average Rate           0.000000     0.000000  0.000000  \n          g: Average Inverse Rate   0.000000     0.000000  0.000000  \n3 Network Master Vault                   NaN          NaN       NaN  \n          Protection Vault               NaN          NaN       NaN  \n          Protocol Equity           0.000000     0.000000  0.000000  \n          Rewards Vault             0.000000     0.000000  0.000000  ",
      "text/html": "<div>\n<style scoped>\n    .dataframe tbody tr th:only-of-type {\n        vertical-align: middle;\n    }\n\n    .dataframe tbody tr th {\n        vertical-align: top;\n    }\n\n    .dataframe thead th {\n        text-align: right;\n    }\n</style>\n<table border=\"1\" class=\"dataframe\">\n  <thead>\n    <tr style=\"text-align: right;\">\n      <th></th>\n      <th></th>\n      <th></th>\n      <th>eth</th>\n      <th>link</th>\n      <th>tkn</th>\n      <th>wbtc</th>\n      <th>bnt</th>\n      <th>bneth</th>\n      <th>bnlink</th>\n      <th>bntkn</th>\n      <th>bnwbtc</th>\n    </tr>\n  </thead>\n  <tbody>\n    <tr>\n      <th>1</th>\n      <th>Account</th>\n      <th>Alice</th>\n      <td>NaN</td>\n      <td>NaN</td>\n      <td>999999000.000000</td>\n      <td>NaN</td>\n      <td>1000000.000000</td>\n      <td>NaN</td>\n      <td>NaN</td>\n      <td>1000.000000</td>\n      <td>NaN</td>\n    </tr>\n    <tr>\n      <th rowspan=\"7\" valign=\"top\">2</th>\n      <th rowspan=\"7\" valign=\"top\">Pool</th>\n      <th>a: TKN Staked Balance</th>\n      <td>0.000000</td>\n      <td>0.000000</td>\n      <td>1000.000000</td>\n      <td>0.000000</td>\n      <td>NaN</td>\n      <td>0.000000</td>\n      <td>0.000000</td>\n      <td>0.000000</td>\n      <td>0.000000</td>\n    </tr>\n    <tr>\n      <th>b: TKN Trading Liquidity</th>\n      <td>0.000000</td>\n      <td>0.000000</td>\n      <td>0.000000</td>\n      <td>0.000000</td>\n      <td>NaN</td>\n      <td>0.000000</td>\n      <td>0.000000</td>\n      <td>0.000000</td>\n      <td>0.000000</td>\n    </tr>\n    <tr>\n      <th>c: BNT Trading Liquidity</th>\n      <td>0.000000</td>\n      <td>0.000000</td>\n      <td>0.000000</td>\n      <td>0.000000</td>\n      <td>NaN</td>\n      <td>0.000000</td>\n      <td>0.000000</td>\n      <td>0.000000</td>\n      <td>0.000000</td>\n    </tr>\n    <tr>\n      <th>d: BNT Current Funding</th>\n      <td>0.000000</td>\n      <td>0.000000</td>\n      <td>0.000000</td>\n      <td>0.000000</td>\n      <td>NaN</td>\n      <td>0.000000</td>\n      <td>0.000000</td>\n      <td>0.000000</td>\n      <td>0.000000</td>\n    </tr>\n    <tr>\n      <th>e: Spot Rate</th>\n      <td>0.000000</td>\n      <td>0.000000</td>\n      <td>0.000000</td>\n      <td>0.000000</td>\n      <td>NaN</td>\n      <td>0.000000</td>\n      <td>0.000000</td>\n      <td>0.000000</td>\n      <td>0.000000</td>\n    </tr>\n    <tr>\n      <th>f: Average Rate</th>\n      <td>0.000000</td>\n      <td>0.000000</td>\n      <td>0.000000</td>\n      <td>0.000000</td>\n      <td>NaN</td>\n      <td>0.000000</td>\n      <td>0.000000</td>\n      <td>0.000000</td>\n      <td>0.000000</td>\n    </tr>\n    <tr>\n      <th>g: Average Inverse Rate</th>\n      <td>0.000000</td>\n      <td>0.000000</td>\n      <td>0.000000</td>\n      <td>0.000000</td>\n      <td>NaN</td>\n      <td>0.000000</td>\n      <td>0.000000</td>\n      <td>0.000000</td>\n      <td>0.000000</td>\n    </tr>\n    <tr>\n      <th rowspan=\"4\" valign=\"top\">3</th>\n      <th rowspan=\"4\" valign=\"top\">Network</th>\n      <th>Master Vault</th>\n      <td>0.000000</td>\n      <td>0.000000</td>\n      <td>1000.000000</td>\n      <td>0.000000</td>\n      <td>NaN</td>\n      <td>NaN</td>\n      <td>NaN</td>\n      <td>NaN</td>\n      <td>NaN</td>\n    </tr>\n    <tr>\n      <th>Protection Vault</th>\n      <td>0.000000</td>\n      <td>0.000000</td>\n      <td>0.000000</td>\n      <td>0.000000</td>\n      <td>NaN</td>\n      <td>NaN</td>\n      <td>NaN</td>\n      <td>NaN</td>\n      <td>NaN</td>\n    </tr>\n    <tr>\n      <th>Protocol Equity</th>\n      <td>NaN</td>\n      <td>NaN</td>\n      <td>NaN</td>\n      <td>NaN</td>\n      <td>NaN</td>\n      <td>0.000000</td>\n      <td>0.000000</td>\n      <td>0.000000</td>\n      <td>0.000000</td>\n    </tr>\n    <tr>\n      <th>Rewards Vault</th>\n      <td>NaN</td>\n      <td>NaN</td>\n      <td>NaN</td>\n      <td>NaN</td>\n      <td>NaN</td>\n      <td>0.000000</td>\n      <td>0.000000</td>\n      <td>0.000000</td>\n      <td>0.000000</td>\n    </tr>\n  </tbody>\n</table>\n</div>"
     },
     "execution_count": 11,
     "metadata": {},
     "output_type": "execute_result"
    }
   ],
   "source": [
    "timestamp = 14\n",
    "v3.deposit(tkn_name=tkn_name, tkn_amt='1000', user_name=user_name, timestamp=timestamp)\n",
    "v3.describe(decimals=6)"
   ],
   "metadata": {
    "collapsed": false,
    "pycharm": {
     "name": "#%%\n"
    }
   }
  },
  {
   "cell_type": "code",
   "execution_count": 12,
   "outputs": [
    {
     "data": {
      "text/plain": "                                         eth      link               tkn  \\\n1 Account Alice                          NaN       NaN  999998000.000000   \n2 Pool    a: TKN Staked Balance     0.000000  0.000000       2000.000000   \n          b: TKN Trading Liquidity  0.000000  0.000000          0.000000   \n          c: BNT Trading Liquidity  0.000000  0.000000          0.000000   \n          d: BNT Current Funding    0.000000  0.000000          0.000000   \n          e: Spot Rate              0.000000  0.000000          0.000000   \n          f: Average Rate           0.000000  0.000000          0.000000   \n          g: Average Inverse Rate   0.000000  0.000000          0.000000   \n3 Network Master Vault              0.000000  0.000000       2000.000000   \n          Protection Vault          0.000000  0.000000          0.000000   \n          Protocol Equity                NaN       NaN               NaN   \n          Rewards Vault                  NaN       NaN               NaN   \n\n                                        wbtc             bnt     bneth  \\\n1 Account Alice                          NaN  1000000.000000       NaN   \n2 Pool    a: TKN Staked Balance     0.000000             NaN  0.000000   \n          b: TKN Trading Liquidity  0.000000             NaN  0.000000   \n          c: BNT Trading Liquidity  0.000000             NaN  0.000000   \n          d: BNT Current Funding    0.000000             NaN  0.000000   \n          e: Spot Rate              0.000000             NaN  0.000000   \n          f: Average Rate           0.000000             NaN  0.000000   \n          g: Average Inverse Rate   0.000000             NaN  0.000000   \n3 Network Master Vault              0.000000             NaN       NaN   \n          Protection Vault          0.000000             NaN       NaN   \n          Protocol Equity                NaN             NaN  0.000000   \n          Rewards Vault                  NaN             NaN  0.000000   \n\n                                      bnlink        bntkn    bnwbtc  \n1 Account Alice                          NaN  2000.000000       NaN  \n2 Pool    a: TKN Staked Balance     0.000000     0.000000  0.000000  \n          b: TKN Trading Liquidity  0.000000     0.000000  0.000000  \n          c: BNT Trading Liquidity  0.000000     0.000000  0.000000  \n          d: BNT Current Funding    0.000000     0.000000  0.000000  \n          e: Spot Rate              0.000000     0.000000  0.000000  \n          f: Average Rate           0.000000     0.000000  0.000000  \n          g: Average Inverse Rate   0.000000     0.000000  0.000000  \n3 Network Master Vault                   NaN          NaN       NaN  \n          Protection Vault               NaN          NaN       NaN  \n          Protocol Equity           0.000000     0.000000  0.000000  \n          Rewards Vault             0.000000     0.000000  0.000000  ",
      "text/html": "<div>\n<style scoped>\n    .dataframe tbody tr th:only-of-type {\n        vertical-align: middle;\n    }\n\n    .dataframe tbody tr th {\n        vertical-align: top;\n    }\n\n    .dataframe thead th {\n        text-align: right;\n    }\n</style>\n<table border=\"1\" class=\"dataframe\">\n  <thead>\n    <tr style=\"text-align: right;\">\n      <th></th>\n      <th></th>\n      <th></th>\n      <th>eth</th>\n      <th>link</th>\n      <th>tkn</th>\n      <th>wbtc</th>\n      <th>bnt</th>\n      <th>bneth</th>\n      <th>bnlink</th>\n      <th>bntkn</th>\n      <th>bnwbtc</th>\n    </tr>\n  </thead>\n  <tbody>\n    <tr>\n      <th>1</th>\n      <th>Account</th>\n      <th>Alice</th>\n      <td>NaN</td>\n      <td>NaN</td>\n      <td>999998000.000000</td>\n      <td>NaN</td>\n      <td>1000000.000000</td>\n      <td>NaN</td>\n      <td>NaN</td>\n      <td>2000.000000</td>\n      <td>NaN</td>\n    </tr>\n    <tr>\n      <th rowspan=\"7\" valign=\"top\">2</th>\n      <th rowspan=\"7\" valign=\"top\">Pool</th>\n      <th>a: TKN Staked Balance</th>\n      <td>0.000000</td>\n      <td>0.000000</td>\n      <td>2000.000000</td>\n      <td>0.000000</td>\n      <td>NaN</td>\n      <td>0.000000</td>\n      <td>0.000000</td>\n      <td>0.000000</td>\n      <td>0.000000</td>\n    </tr>\n    <tr>\n      <th>b: TKN Trading Liquidity</th>\n      <td>0.000000</td>\n      <td>0.000000</td>\n      <td>0.000000</td>\n      <td>0.000000</td>\n      <td>NaN</td>\n      <td>0.000000</td>\n      <td>0.000000</td>\n      <td>0.000000</td>\n      <td>0.000000</td>\n    </tr>\n    <tr>\n      <th>c: BNT Trading Liquidity</th>\n      <td>0.000000</td>\n      <td>0.000000</td>\n      <td>0.000000</td>\n      <td>0.000000</td>\n      <td>NaN</td>\n      <td>0.000000</td>\n      <td>0.000000</td>\n      <td>0.000000</td>\n      <td>0.000000</td>\n    </tr>\n    <tr>\n      <th>d: BNT Current Funding</th>\n      <td>0.000000</td>\n      <td>0.000000</td>\n      <td>0.000000</td>\n      <td>0.000000</td>\n      <td>NaN</td>\n      <td>0.000000</td>\n      <td>0.000000</td>\n      <td>0.000000</td>\n      <td>0.000000</td>\n    </tr>\n    <tr>\n      <th>e: Spot Rate</th>\n      <td>0.000000</td>\n      <td>0.000000</td>\n      <td>0.000000</td>\n      <td>0.000000</td>\n      <td>NaN</td>\n      <td>0.000000</td>\n      <td>0.000000</td>\n      <td>0.000000</td>\n      <td>0.000000</td>\n    </tr>\n    <tr>\n      <th>f: Average Rate</th>\n      <td>0.000000</td>\n      <td>0.000000</td>\n      <td>0.000000</td>\n      <td>0.000000</td>\n      <td>NaN</td>\n      <td>0.000000</td>\n      <td>0.000000</td>\n      <td>0.000000</td>\n      <td>0.000000</td>\n    </tr>\n    <tr>\n      <th>g: Average Inverse Rate</th>\n      <td>0.000000</td>\n      <td>0.000000</td>\n      <td>0.000000</td>\n      <td>0.000000</td>\n      <td>NaN</td>\n      <td>0.000000</td>\n      <td>0.000000</td>\n      <td>0.000000</td>\n      <td>0.000000</td>\n    </tr>\n    <tr>\n      <th rowspan=\"4\" valign=\"top\">3</th>\n      <th rowspan=\"4\" valign=\"top\">Network</th>\n      <th>Master Vault</th>\n      <td>0.000000</td>\n      <td>0.000000</td>\n      <td>2000.000000</td>\n      <td>0.000000</td>\n      <td>NaN</td>\n      <td>NaN</td>\n      <td>NaN</td>\n      <td>NaN</td>\n      <td>NaN</td>\n    </tr>\n    <tr>\n      <th>Protection Vault</th>\n      <td>0.000000</td>\n      <td>0.000000</td>\n      <td>0.000000</td>\n      <td>0.000000</td>\n      <td>NaN</td>\n      <td>NaN</td>\n      <td>NaN</td>\n      <td>NaN</td>\n      <td>NaN</td>\n    </tr>\n    <tr>\n      <th>Protocol Equity</th>\n      <td>NaN</td>\n      <td>NaN</td>\n      <td>NaN</td>\n      <td>NaN</td>\n      <td>NaN</td>\n      <td>0.000000</td>\n      <td>0.000000</td>\n      <td>0.000000</td>\n      <td>0.000000</td>\n    </tr>\n    <tr>\n      <th>Rewards Vault</th>\n      <td>NaN</td>\n      <td>NaN</td>\n      <td>NaN</td>\n      <td>NaN</td>\n      <td>NaN</td>\n      <td>0.000000</td>\n      <td>0.000000</td>\n      <td>0.000000</td>\n      <td>0.000000</td>\n    </tr>\n  </tbody>\n</table>\n</div>"
     },
     "execution_count": 12,
     "metadata": {},
     "output_type": "execute_result"
    }
   ],
   "source": [
    "timestamp = 14 * 2\n",
    "v3.deposit(tkn_name=tkn_name, tkn_amt='1000', user_name=user_name, timestamp=timestamp)\n",
    "v3.describe(decimals=6)"
   ],
   "metadata": {
    "collapsed": false,
    "pycharm": {
     "name": "#%%\n"
    }
   }
  },
  {
   "cell_type": "markdown",
   "source": [
    "### List the state history available for timetravel."
   ],
   "metadata": {
    "collapsed": false
   }
  },
  {
   "cell_type": "code",
   "execution_count": 13,
   "outputs": [
    {
     "data": {
      "text/plain": "['initial_0', 'end_0', 'initial_14', 'initial_28']"
     },
     "execution_count": 13,
     "metadata": {},
     "output_type": "execute_result"
    }
   ],
   "source": [
    "v3.backup_states"
   ],
   "metadata": {
    "collapsed": false,
    "pycharm": {
     "name": "#%%\n"
    }
   }
  },
  {
   "cell_type": "markdown",
   "source": [
    "### Revert to a historical state."
   ],
   "metadata": {
    "collapsed": false
   }
  },
  {
   "cell_type": "code",
   "execution_count": 14,
   "outputs": [
    {
     "data": {
      "text/plain": "                                         eth      link               tkn  \\\n1 Account Alice                          NaN       NaN  999999000.000000   \n2 Pool    a: TKN Staked Balance     0.000000  0.000000       1000.000000   \n          b: TKN Trading Liquidity  0.000000  0.000000          0.000000   \n          c: BNT Trading Liquidity  0.000000  0.000000          0.000000   \n          d: BNT Current Funding    0.000000  0.000000          0.000000   \n          e: Spot Rate              0.000000  0.000000          0.000000   \n          f: Average Rate           0.000000  0.000000          0.000000   \n          g: Average Inverse Rate   0.000000  0.000000          0.000000   \n3 Network Master Vault              0.000000  0.000000       1000.000000   \n          Protection Vault          0.000000  0.000000          0.000000   \n          Protocol Equity                NaN       NaN               NaN   \n          Rewards Vault                  NaN       NaN               NaN   \n\n                                        wbtc             bnt     bneth  \\\n1 Account Alice                          NaN  1000000.000000       NaN   \n2 Pool    a: TKN Staked Balance     0.000000             NaN  0.000000   \n          b: TKN Trading Liquidity  0.000000             NaN  0.000000   \n          c: BNT Trading Liquidity  0.000000             NaN  0.000000   \n          d: BNT Current Funding    0.000000             NaN  0.000000   \n          e: Spot Rate              0.000000             NaN  0.000000   \n          f: Average Rate           0.000000             NaN  0.000000   \n          g: Average Inverse Rate   0.000000             NaN  0.000000   \n3 Network Master Vault              0.000000             NaN       NaN   \n          Protection Vault          0.000000             NaN       NaN   \n          Protocol Equity                NaN             NaN  0.000000   \n          Rewards Vault                  NaN             NaN  0.000000   \n\n                                      bnlink        bntkn    bnwbtc  \n1 Account Alice                          NaN  1000.000000       NaN  \n2 Pool    a: TKN Staked Balance     0.000000     0.000000  0.000000  \n          b: TKN Trading Liquidity  0.000000     0.000000  0.000000  \n          c: BNT Trading Liquidity  0.000000     0.000000  0.000000  \n          d: BNT Current Funding    0.000000     0.000000  0.000000  \n          e: Spot Rate              0.000000     0.000000  0.000000  \n          f: Average Rate           0.000000     0.000000  0.000000  \n          g: Average Inverse Rate   0.000000     0.000000  0.000000  \n3 Network Master Vault                   NaN          NaN       NaN  \n          Protection Vault               NaN          NaN       NaN  \n          Protocol Equity           0.000000     0.000000  0.000000  \n          Rewards Vault             0.000000     0.000000  0.000000  ",
      "text/html": "<div>\n<style scoped>\n    .dataframe tbody tr th:only-of-type {\n        vertical-align: middle;\n    }\n\n    .dataframe tbody tr th {\n        vertical-align: top;\n    }\n\n    .dataframe thead th {\n        text-align: right;\n    }\n</style>\n<table border=\"1\" class=\"dataframe\">\n  <thead>\n    <tr style=\"text-align: right;\">\n      <th></th>\n      <th></th>\n      <th></th>\n      <th>eth</th>\n      <th>link</th>\n      <th>tkn</th>\n      <th>wbtc</th>\n      <th>bnt</th>\n      <th>bneth</th>\n      <th>bnlink</th>\n      <th>bntkn</th>\n      <th>bnwbtc</th>\n    </tr>\n  </thead>\n  <tbody>\n    <tr>\n      <th>1</th>\n      <th>Account</th>\n      <th>Alice</th>\n      <td>NaN</td>\n      <td>NaN</td>\n      <td>999999000.000000</td>\n      <td>NaN</td>\n      <td>1000000.000000</td>\n      <td>NaN</td>\n      <td>NaN</td>\n      <td>1000.000000</td>\n      <td>NaN</td>\n    </tr>\n    <tr>\n      <th rowspan=\"7\" valign=\"top\">2</th>\n      <th rowspan=\"7\" valign=\"top\">Pool</th>\n      <th>a: TKN Staked Balance</th>\n      <td>0.000000</td>\n      <td>0.000000</td>\n      <td>1000.000000</td>\n      <td>0.000000</td>\n      <td>NaN</td>\n      <td>0.000000</td>\n      <td>0.000000</td>\n      <td>0.000000</td>\n      <td>0.000000</td>\n    </tr>\n    <tr>\n      <th>b: TKN Trading Liquidity</th>\n      <td>0.000000</td>\n      <td>0.000000</td>\n      <td>0.000000</td>\n      <td>0.000000</td>\n      <td>NaN</td>\n      <td>0.000000</td>\n      <td>0.000000</td>\n      <td>0.000000</td>\n      <td>0.000000</td>\n    </tr>\n    <tr>\n      <th>c: BNT Trading Liquidity</th>\n      <td>0.000000</td>\n      <td>0.000000</td>\n      <td>0.000000</td>\n      <td>0.000000</td>\n      <td>NaN</td>\n      <td>0.000000</td>\n      <td>0.000000</td>\n      <td>0.000000</td>\n      <td>0.000000</td>\n    </tr>\n    <tr>\n      <th>d: BNT Current Funding</th>\n      <td>0.000000</td>\n      <td>0.000000</td>\n      <td>0.000000</td>\n      <td>0.000000</td>\n      <td>NaN</td>\n      <td>0.000000</td>\n      <td>0.000000</td>\n      <td>0.000000</td>\n      <td>0.000000</td>\n    </tr>\n    <tr>\n      <th>e: Spot Rate</th>\n      <td>0.000000</td>\n      <td>0.000000</td>\n      <td>0.000000</td>\n      <td>0.000000</td>\n      <td>NaN</td>\n      <td>0.000000</td>\n      <td>0.000000</td>\n      <td>0.000000</td>\n      <td>0.000000</td>\n    </tr>\n    <tr>\n      <th>f: Average Rate</th>\n      <td>0.000000</td>\n      <td>0.000000</td>\n      <td>0.000000</td>\n      <td>0.000000</td>\n      <td>NaN</td>\n      <td>0.000000</td>\n      <td>0.000000</td>\n      <td>0.000000</td>\n      <td>0.000000</td>\n    </tr>\n    <tr>\n      <th>g: Average Inverse Rate</th>\n      <td>0.000000</td>\n      <td>0.000000</td>\n      <td>0.000000</td>\n      <td>0.000000</td>\n      <td>NaN</td>\n      <td>0.000000</td>\n      <td>0.000000</td>\n      <td>0.000000</td>\n      <td>0.000000</td>\n    </tr>\n    <tr>\n      <th rowspan=\"4\" valign=\"top\">3</th>\n      <th rowspan=\"4\" valign=\"top\">Network</th>\n      <th>Master Vault</th>\n      <td>0.000000</td>\n      <td>0.000000</td>\n      <td>1000.000000</td>\n      <td>0.000000</td>\n      <td>NaN</td>\n      <td>NaN</td>\n      <td>NaN</td>\n      <td>NaN</td>\n      <td>NaN</td>\n    </tr>\n    <tr>\n      <th>Protection Vault</th>\n      <td>0.000000</td>\n      <td>0.000000</td>\n      <td>0.000000</td>\n      <td>0.000000</td>\n      <td>NaN</td>\n      <td>NaN</td>\n      <td>NaN</td>\n      <td>NaN</td>\n      <td>NaN</td>\n    </tr>\n    <tr>\n      <th>Protocol Equity</th>\n      <td>NaN</td>\n      <td>NaN</td>\n      <td>NaN</td>\n      <td>NaN</td>\n      <td>NaN</td>\n      <td>0.000000</td>\n      <td>0.000000</td>\n      <td>0.000000</td>\n      <td>0.000000</td>\n    </tr>\n    <tr>\n      <th>Rewards Vault</th>\n      <td>NaN</td>\n      <td>NaN</td>\n      <td>NaN</td>\n      <td>NaN</td>\n      <td>NaN</td>\n      <td>0.000000</td>\n      <td>0.000000</td>\n      <td>0.000000</td>\n      <td>0.000000</td>\n    </tr>\n  </tbody>\n</table>\n</div>"
     },
     "execution_count": 14,
     "metadata": {},
     "output_type": "execute_result"
    }
   ],
   "source": [
    "v3.revert_state('initial_28')\n",
    "v3.describe(decimals=6)"
   ],
   "metadata": {
    "collapsed": false,
    "pycharm": {
     "name": "#%%\n"
    }
   }
  },
  {
   "cell_type": "markdown",
   "source": [
    "### Note that the state timetravel history is still available, this time into a future state."
   ],
   "metadata": {
    "collapsed": false
   }
  },
  {
   "cell_type": "code",
   "execution_count": 15,
   "outputs": [
    {
     "data": {
      "text/plain": "['initial_0', 'end_0', 'initial_14', 'initial_28']"
     },
     "execution_count": 15,
     "metadata": {},
     "output_type": "execute_result"
    }
   ],
   "source": [
    "v3.backup_states"
   ],
   "metadata": {
    "collapsed": false,
    "pycharm": {
     "name": "#%%\n"
    }
   }
  },
  {
   "cell_type": "code",
   "execution_count": null,
   "outputs": [],
   "source": [],
   "metadata": {
    "collapsed": false,
    "pycharm": {
     "name": "#%%\n"
    }
   }
  }
 ],
 "metadata": {
  "kernelspec": {
   "display_name": "Python 3",
   "language": "python",
   "name": "python3"
  },
  "language_info": {
   "codemirror_mode": {
    "name": "ipython",
    "version": 2
   },
   "file_extension": ".py",
   "mimetype": "text/x-python",
   "name": "python",
   "nbconvert_exporter": "python",
   "pygments_lexer": "ipython2",
   "version": "2.7.6"
  }
 },
 "nbformat": 4,
 "nbformat_minor": 0
}