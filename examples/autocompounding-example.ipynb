{
 "cells": [
  {
   "cell_type": "code",
   "execution_count": 1,
   "metadata": {
    "collapsed": true
   },
   "outputs": [
    {
     "name": "stdout",
     "output_type": "stream",
     "text": [
      "mike test\n",
      "testing...\n"
     ]
    }
   ],
   "source": [
    "from bancor_research.bancor_simulator.v3.spec.network import *\n",
    "\n",
    "v3 = BancorDapp()"
   ]
  },
  {
   "cell_type": "code",
   "execution_count": 1,
   "outputs": [
    {
     "name": "stdout",
     "output_type": "stream",
     "text": [
      "testing...\n"
     ]
    },
    {
     "data": {
      "text/plain": "<bancor_research.bancor_emulator.solidity.uint.fixed.uint at 0x123e43ca0>"
     },
     "execution_count": 1,
     "metadata": {},
     "output_type": "execute_result"
    }
   ],
   "source": [
    "from bancor_research.bancor_emulator.Constants import PPM_RESOLUTION\n",
    "\n",
    "PPM_RESOLUTION"
   ],
   "metadata": {
    "collapsed": false,
    "pycharm": {
     "name": "#%%\n"
    }
   }
  },
  {
   "cell_type": "code",
   "execution_count": 2,
   "outputs": [],
   "source": [
    "user_name = 'Alice'\n",
    "tkn_name = 'TKN'\n",
    "bnt_name = 'BNT'\n",
    "\n",
    "tkn_amt = Decimal('1000000000')\n",
    "bnt_amt = Decimal('1000000')\n",
    "\n",
    "v3.set_user_balance(user_name, tkn_name, tkn_amt)\n",
    "v3.set_user_balance(user_name, bnt_name, bnt_amt)\n"
   ],
   "metadata": {
    "collapsed": false,
    "pycharm": {
     "name": "#%%\n"
    }
   }
  },
  {
   "cell_type": "code",
   "execution_count": 3,
   "outputs": [
    {
     "data": {
      "text/plain": "            Trading Liquidity            Vault          Staking  \\\n0   bnt=0.000000 dai=0.000000     bnt=0.000000     bnt=0.000000   \n1   bnt=0.000000 eth=0.000000     dai=0.000000     dai=0.000000   \n2  bnt=0.000000 link=0.000000     eth=0.000000     eth=0.000000   \n3   bnt=0.000000 tkn=0.000000    link=0.000000    link=0.000000   \n4  bnt=0.000000 wbtc=0.000000  tkn=1000.000000  tkn=1000.000000   \n5                                wbtc=0.000000    wbtc=0.000000   \n\n     ERC20 Contracts        Vortex External Protection Protocol WalletState  \n0     bnbnt=0.000000  bnt=0.000000        dai=0.000000       bnbnt=0.000000  \n1     bndai=0.000000                      eth=0.000000                       \n2     bneth=0.000000                     link=0.000000                       \n3    bnlink=0.000000                      bnt=0.000000                       \n4  bntkn=1000.000000                      tkn=0.000000                       \n5    bnwbtc=0.000000                     wbtc=0.000000                       ",
      "text/html": "<div>\n<style scoped>\n    .dataframe tbody tr th:only-of-type {\n        vertical-align: middle;\n    }\n\n    .dataframe tbody tr th {\n        vertical-align: top;\n    }\n\n    .dataframe thead th {\n        text-align: right;\n    }\n</style>\n<table border=\"1\" class=\"dataframe\">\n  <thead>\n    <tr style=\"text-align: right;\">\n      <th></th>\n      <th>Trading Liquidity</th>\n      <th>Vault</th>\n      <th>Staking</th>\n      <th>ERC20 Contracts</th>\n      <th>Vortex</th>\n      <th>External Protection</th>\n      <th>Protocol WalletState</th>\n    </tr>\n  </thead>\n  <tbody>\n    <tr>\n      <th>0</th>\n      <td>bnt=0.000000 dai=0.000000</td>\n      <td>bnt=0.000000</td>\n      <td>bnt=0.000000</td>\n      <td>bnbnt=0.000000</td>\n      <td>bnt=0.000000</td>\n      <td>dai=0.000000</td>\n      <td>bnbnt=0.000000</td>\n    </tr>\n    <tr>\n      <th>1</th>\n      <td>bnt=0.000000 eth=0.000000</td>\n      <td>dai=0.000000</td>\n      <td>dai=0.000000</td>\n      <td>bndai=0.000000</td>\n      <td></td>\n      <td>eth=0.000000</td>\n      <td></td>\n    </tr>\n    <tr>\n      <th>2</th>\n      <td>bnt=0.000000 link=0.000000</td>\n      <td>eth=0.000000</td>\n      <td>eth=0.000000</td>\n      <td>bneth=0.000000</td>\n      <td></td>\n      <td>link=0.000000</td>\n      <td></td>\n    </tr>\n    <tr>\n      <th>3</th>\n      <td>bnt=0.000000 tkn=0.000000</td>\n      <td>link=0.000000</td>\n      <td>link=0.000000</td>\n      <td>bnlink=0.000000</td>\n      <td></td>\n      <td>bnt=0.000000</td>\n      <td></td>\n    </tr>\n    <tr>\n      <th>4</th>\n      <td>bnt=0.000000 wbtc=0.000000</td>\n      <td>tkn=1000.000000</td>\n      <td>tkn=1000.000000</td>\n      <td>bntkn=1000.000000</td>\n      <td></td>\n      <td>tkn=0.000000</td>\n      <td></td>\n    </tr>\n    <tr>\n      <th>5</th>\n      <td></td>\n      <td>wbtc=0.000000</td>\n      <td>wbtc=0.000000</td>\n      <td>bnwbtc=0.000000</td>\n      <td></td>\n      <td>wbtc=0.000000</td>\n      <td></td>\n    </tr>\n  </tbody>\n</table>\n</div>"
     },
     "execution_count": 3,
     "metadata": {},
     "output_type": "execute_result"
    }
   ],
   "source": [
    "timestamp = 14\n",
    "v3.deposit(tkn_name='TKN', tkn_amt=Decimal('1000'), user_name=user_name, timestamp=timestamp)\n",
    "v3.describe()"
   ],
   "metadata": {
    "collapsed": false,
    "pycharm": {
     "name": "#%%\n"
    }
   }
  },
  {
   "cell_type": "code",
   "execution_count": 4,
   "outputs": [
    {
     "data": {
      "text/plain": "            Trading Liquidity            Vault          Staking  \\\n0   bnt=0.000000 dai=0.000000     bnt=0.000000     bnt=0.000000   \n1   bnt=0.000000 eth=0.000000     dai=0.000000     dai=0.000000   \n2  bnt=0.000000 link=0.000000     eth=0.000000     eth=0.000000   \n3   bnt=0.000000 tkn=0.000000    link=0.000000    link=0.000000   \n4  bnt=0.000000 wbtc=0.000000  tkn=2000.000000  tkn=2000.000000   \n5                                wbtc=0.000000    wbtc=0.000000   \n\n     ERC20 Contracts        Vortex External Protection Protocol WalletState  \n0     bnbnt=0.000000  bnt=0.000000        dai=0.000000       bnbnt=0.000000  \n1     bndai=0.000000                      eth=0.000000                       \n2     bneth=0.000000                     link=0.000000                       \n3    bnlink=0.000000                      bnt=0.000000                       \n4  bntkn=2000.000000                      tkn=0.000000                       \n5    bnwbtc=0.000000                     wbtc=0.000000                       ",
      "text/html": "<div>\n<style scoped>\n    .dataframe tbody tr th:only-of-type {\n        vertical-align: middle;\n    }\n\n    .dataframe tbody tr th {\n        vertical-align: top;\n    }\n\n    .dataframe thead th {\n        text-align: right;\n    }\n</style>\n<table border=\"1\" class=\"dataframe\">\n  <thead>\n    <tr style=\"text-align: right;\">\n      <th></th>\n      <th>Trading Liquidity</th>\n      <th>Vault</th>\n      <th>Staking</th>\n      <th>ERC20 Contracts</th>\n      <th>Vortex</th>\n      <th>External Protection</th>\n      <th>Protocol WalletState</th>\n    </tr>\n  </thead>\n  <tbody>\n    <tr>\n      <th>0</th>\n      <td>bnt=0.000000 dai=0.000000</td>\n      <td>bnt=0.000000</td>\n      <td>bnt=0.000000</td>\n      <td>bnbnt=0.000000</td>\n      <td>bnt=0.000000</td>\n      <td>dai=0.000000</td>\n      <td>bnbnt=0.000000</td>\n    </tr>\n    <tr>\n      <th>1</th>\n      <td>bnt=0.000000 eth=0.000000</td>\n      <td>dai=0.000000</td>\n      <td>dai=0.000000</td>\n      <td>bndai=0.000000</td>\n      <td></td>\n      <td>eth=0.000000</td>\n      <td></td>\n    </tr>\n    <tr>\n      <th>2</th>\n      <td>bnt=0.000000 link=0.000000</td>\n      <td>eth=0.000000</td>\n      <td>eth=0.000000</td>\n      <td>bneth=0.000000</td>\n      <td></td>\n      <td>link=0.000000</td>\n      <td></td>\n    </tr>\n    <tr>\n      <th>3</th>\n      <td>bnt=0.000000 tkn=0.000000</td>\n      <td>link=0.000000</td>\n      <td>link=0.000000</td>\n      <td>bnlink=0.000000</td>\n      <td></td>\n      <td>bnt=0.000000</td>\n      <td></td>\n    </tr>\n    <tr>\n      <th>4</th>\n      <td>bnt=0.000000 wbtc=0.000000</td>\n      <td>tkn=2000.000000</td>\n      <td>tkn=2000.000000</td>\n      <td>bntkn=2000.000000</td>\n      <td></td>\n      <td>tkn=0.000000</td>\n      <td></td>\n    </tr>\n    <tr>\n      <th>5</th>\n      <td></td>\n      <td>wbtc=0.000000</td>\n      <td>wbtc=0.000000</td>\n      <td>bnwbtc=0.000000</td>\n      <td></td>\n      <td>wbtc=0.000000</td>\n      <td></td>\n    </tr>\n  </tbody>\n</table>\n</div>"
     },
     "execution_count": 4,
     "metadata": {},
     "output_type": "execute_result"
    }
   ],
   "source": [
    "timestamp = 14 * 2\n",
    "v3.deposit(tkn_name='TKN', tkn_amt=Decimal('1000'), user_name=user_name, timestamp=timestamp)\n",
    "v3.describe()"
   ],
   "metadata": {
    "collapsed": false,
    "pycharm": {
     "name": "#%%\n"
    }
   }
  },
  {
   "cell_type": "code",
   "execution_count": 5,
   "outputs": [],
   "source": [
    "timestamp = 14 * 3\n",
    "v3.dao_msig_init_pools(['TKN'], 'TKN', timestamp)"
   ],
   "metadata": {
    "collapsed": false,
    "pycharm": {
     "name": "#%%\n"
    }
   }
  },
  {
   "cell_type": "code",
   "execution_count": 6,
   "outputs": [
    {
     "data": {
      "text/plain": "            Trading Liquidity             Vault           Staking  \\\n0   bnt=0.000000 dai=0.000000      bnt=0.000000      bnt=0.000000   \n1   bnt=0.000000 eth=0.000000      dai=0.000000      dai=0.000000   \n2  bnt=0.000000 link=0.000000      eth=0.000000      eth=0.000000   \n3   bnt=0.000000 tkn=0.000000     link=0.000000     link=0.000000   \n4  bnt=0.000000 wbtc=0.000000  tkn=22000.000000  tkn=22000.000000   \n5                                 wbtc=0.000000     wbtc=0.000000   \n\n      ERC20 Contracts        Vortex External Protection Protocol WalletState  \n0      bnbnt=0.000000  bnt=0.000000        dai=0.000000       bnbnt=0.000000  \n1      bndai=0.000000                      eth=0.000000                       \n2      bneth=0.000000                     link=0.000000                       \n3     bnlink=0.000000                      bnt=0.000000                       \n4  bntkn=22000.000000                      tkn=0.000000                       \n5     bnwbtc=0.000000                     wbtc=0.000000                       ",
      "text/html": "<div>\n<style scoped>\n    .dataframe tbody tr th:only-of-type {\n        vertical-align: middle;\n    }\n\n    .dataframe tbody tr th {\n        vertical-align: top;\n    }\n\n    .dataframe thead th {\n        text-align: right;\n    }\n</style>\n<table border=\"1\" class=\"dataframe\">\n  <thead>\n    <tr style=\"text-align: right;\">\n      <th></th>\n      <th>Trading Liquidity</th>\n      <th>Vault</th>\n      <th>Staking</th>\n      <th>ERC20 Contracts</th>\n      <th>Vortex</th>\n      <th>External Protection</th>\n      <th>Protocol WalletState</th>\n    </tr>\n  </thead>\n  <tbody>\n    <tr>\n      <th>0</th>\n      <td>bnt=0.000000 dai=0.000000</td>\n      <td>bnt=0.000000</td>\n      <td>bnt=0.000000</td>\n      <td>bnbnt=0.000000</td>\n      <td>bnt=0.000000</td>\n      <td>dai=0.000000</td>\n      <td>bnbnt=0.000000</td>\n    </tr>\n    <tr>\n      <th>1</th>\n      <td>bnt=0.000000 eth=0.000000</td>\n      <td>dai=0.000000</td>\n      <td>dai=0.000000</td>\n      <td>bndai=0.000000</td>\n      <td></td>\n      <td>eth=0.000000</td>\n      <td></td>\n    </tr>\n    <tr>\n      <th>2</th>\n      <td>bnt=0.000000 link=0.000000</td>\n      <td>eth=0.000000</td>\n      <td>eth=0.000000</td>\n      <td>bneth=0.000000</td>\n      <td></td>\n      <td>link=0.000000</td>\n      <td></td>\n    </tr>\n    <tr>\n      <th>3</th>\n      <td>bnt=0.000000 tkn=0.000000</td>\n      <td>link=0.000000</td>\n      <td>link=0.000000</td>\n      <td>bnlink=0.000000</td>\n      <td></td>\n      <td>bnt=0.000000</td>\n      <td></td>\n    </tr>\n    <tr>\n      <th>4</th>\n      <td>bnt=0.000000 wbtc=0.000000</td>\n      <td>tkn=22000.000000</td>\n      <td>tkn=22000.000000</td>\n      <td>bntkn=22000.000000</td>\n      <td></td>\n      <td>tkn=0.000000</td>\n      <td></td>\n    </tr>\n    <tr>\n      <th>5</th>\n      <td></td>\n      <td>wbtc=0.000000</td>\n      <td>wbtc=0.000000</td>\n      <td>bnwbtc=0.000000</td>\n      <td></td>\n      <td>wbtc=0.000000</td>\n      <td></td>\n    </tr>\n  </tbody>\n</table>\n</div>"
     },
     "execution_count": 6,
     "metadata": {},
     "output_type": "execute_result"
    }
   ],
   "source": [
    "timestamp = 14 * 4\n",
    "v3.deposit(tkn_name='TKN', tkn_amt=Decimal('20000'), user_name=user_name, timestamp=timestamp)\n",
    "v3.describe()"
   ],
   "metadata": {
    "collapsed": false,
    "pycharm": {
     "name": "#%%\n"
    }
   }
  },
  {
   "cell_type": "code",
   "execution_count": 7,
   "outputs": [
    {
     "name": "stdout",
     "output_type": "stream",
     "text": [
      "Bootstrap requirements met for tkn\n"
     ]
    }
   ],
   "source": [
    "timestamp = 14 * 5\n",
    "v3.dao_msig_init_pools(['TKN'], 'TKN', timestamp)"
   ],
   "metadata": {
    "collapsed": false,
    "pycharm": {
     "name": "#%%\n"
    }
   }
  },
  {
   "cell_type": "code",
   "execution_count": 8,
   "outputs": [],
   "source": [
    "admin_user = 'Protocol'"
   ],
   "metadata": {
    "collapsed": false,
    "pycharm": {
     "name": "#%%\n"
    }
   }
  },
  {
   "cell_type": "code",
   "execution_count": 9,
   "outputs": [
    {
     "name": "stdout",
     "output_type": "stream",
     "text": [
      "Saved to test_scenarios.json\n"
     ]
    },
    {
     "data": {
      "text/plain": "                   Trading Liquidity             Vault           Staking  \\\n0          bnt=0.000000 dai=0.000000      bnt=0.000000      bnt=0.000000   \n1          bnt=0.000000 eth=0.000000      dai=0.000000      dai=0.000000   \n2         bnt=0.000000 link=0.000000      eth=0.000000      eth=0.000000   \n3  bnt=20000.000000 tkn=20000.000000     link=0.000000     link=0.000000   \n4         bnt=0.000000 wbtc=0.000000  tkn=22000.000000  tkn=22000.000000   \n5                                        wbtc=0.000000     wbtc=0.000000   \n\n      ERC20 Contracts        Vortex External Protection Protocol WalletState  \n0      bnbnt=0.000000  bnt=0.000000        dai=0.000000   bnbnt=20000.000000  \n1      bndai=0.000000                      eth=0.000000                       \n2      bneth=0.000000                     link=0.000000                       \n3     bnlink=0.000000                      bnt=0.000000                       \n4  bntkn=22000.000000                      tkn=0.000000                       \n5     bnwbtc=0.000000                     wbtc=0.000000                       ",
      "text/html": "<div>\n<style scoped>\n    .dataframe tbody tr th:only-of-type {\n        vertical-align: middle;\n    }\n\n    .dataframe tbody tr th {\n        vertical-align: top;\n    }\n\n    .dataframe thead th {\n        text-align: right;\n    }\n</style>\n<table border=\"1\" class=\"dataframe\">\n  <thead>\n    <tr style=\"text-align: right;\">\n      <th></th>\n      <th>Trading Liquidity</th>\n      <th>Vault</th>\n      <th>Staking</th>\n      <th>ERC20 Contracts</th>\n      <th>Vortex</th>\n      <th>External Protection</th>\n      <th>Protocol WalletState</th>\n    </tr>\n  </thead>\n  <tbody>\n    <tr>\n      <th>0</th>\n      <td>bnt=0.000000 dai=0.000000</td>\n      <td>bnt=0.000000</td>\n      <td>bnt=0.000000</td>\n      <td>bnbnt=0.000000</td>\n      <td>bnt=0.000000</td>\n      <td>dai=0.000000</td>\n      <td>bnbnt=20000.000000</td>\n    </tr>\n    <tr>\n      <th>1</th>\n      <td>bnt=0.000000 eth=0.000000</td>\n      <td>dai=0.000000</td>\n      <td>dai=0.000000</td>\n      <td>bndai=0.000000</td>\n      <td></td>\n      <td>eth=0.000000</td>\n      <td></td>\n    </tr>\n    <tr>\n      <th>2</th>\n      <td>bnt=0.000000 link=0.000000</td>\n      <td>eth=0.000000</td>\n      <td>eth=0.000000</td>\n      <td>bneth=0.000000</td>\n      <td></td>\n      <td>link=0.000000</td>\n      <td></td>\n    </tr>\n    <tr>\n      <th>3</th>\n      <td>bnt=20000.000000 tkn=20000.000000</td>\n      <td>link=0.000000</td>\n      <td>link=0.000000</td>\n      <td>bnlink=0.000000</td>\n      <td></td>\n      <td>bnt=0.000000</td>\n      <td></td>\n    </tr>\n    <tr>\n      <th>4</th>\n      <td>bnt=0.000000 wbtc=0.000000</td>\n      <td>tkn=22000.000000</td>\n      <td>tkn=22000.000000</td>\n      <td>bntkn=22000.000000</td>\n      <td></td>\n      <td>tkn=0.000000</td>\n      <td></td>\n    </tr>\n    <tr>\n      <th>5</th>\n      <td></td>\n      <td>wbtc=0.000000</td>\n      <td>wbtc=0.000000</td>\n      <td>bnwbtc=0.000000</td>\n      <td></td>\n      <td>wbtc=0.000000</td>\n      <td></td>\n    </tr>\n  </tbody>\n</table>\n</div>"
     },
     "execution_count": 9,
     "metadata": {},
     "output_type": "execute_result"
    }
   ],
   "source": [
    "timestamp = 14 * 6\n",
    "start_time = 14 * 7\n",
    "\n",
    "flat_distribution_rate_per_day=86400\n",
    "\n",
    "state = v3.global_state\n",
    "\n",
    "reward_total = Decimal('86400')\n",
    "\n",
    "v3.create_autocompounding_program(\n",
    "    state=state,\n",
    "    tkn_name=\"tkn\",\n",
    "    user_name=admin_user,\n",
    "    distribution_type=\"flat\",\n",
    "    total_rewards=reward_total,\n",
    "    total_duration_in_days=365,\n",
    "    start_time=start_time,\n",
    "    timestamp=timestamp\n",
    ")\n",
    "\n",
    "v3.export_test_scenarios()\n",
    "v3.describe()"
   ],
   "metadata": {
    "collapsed": false,
    "pycharm": {
     "name": "#%%\n"
    }
   }
  },
  {
   "cell_type": "code",
   "execution_count": 10,
   "outputs": [
    {
     "name": "stdout",
     "output_type": "stream",
     "text": [
      "pool_token_amt_to_burn > program_wallet_bntkn, setting pool_token_amt_to_burn=0\n",
      " staked_amt = 22000.000000000000000000\n",
      " erc20contracts_bntkn = 22000.000000000000000000\n",
      " program_wallet_bntkn = 0E-18\n",
      " total_rewards = 86400.000000000000000000\n",
      " prev_token_amt_distributed = 0E-18\n",
      " token_amt_to_distribute = 0.03835616438356164383561643836\n",
      " pool_token_amt_to_burn = 0E-18\n",
      " remaining_rewards = 86399.96164383561643835616438\n",
      "Saved to test_scenarios.json\n"
     ]
    },
    {
     "data": {
      "text/plain": "                   Trading Liquidity             Vault           Staking  \\\n0          bnt=0.000000 dai=0.000000      bnt=0.000000      bnt=0.000000   \n1          bnt=0.000000 eth=0.000000      dai=0.000000      dai=0.000000   \n2         bnt=0.000000 link=0.000000      eth=0.000000      eth=0.000000   \n3  bnt=20000.000000 tkn=20000.000000     link=0.000000     link=0.000000   \n4         bnt=0.000000 wbtc=0.000000  tkn=22000.000000  tkn=22000.000000   \n5                                        wbtc=0.000000     wbtc=0.000000   \n\n      ERC20 Contracts        Vortex External Protection Protocol WalletState  \n0      bnbnt=0.000000  bnt=0.000000        dai=0.000000   bnbnt=20000.000000  \n1      bndai=0.000000                      eth=0.000000                       \n2      bneth=0.000000                     link=0.000000                       \n3     bnlink=0.000000                      bnt=0.000000                       \n4  bntkn=22000.000000                      tkn=0.000000                       \n5     bnwbtc=0.000000                     wbtc=0.000000                       ",
      "text/html": "<div>\n<style scoped>\n    .dataframe tbody tr th:only-of-type {\n        vertical-align: middle;\n    }\n\n    .dataframe tbody tr th {\n        vertical-align: top;\n    }\n\n    .dataframe thead th {\n        text-align: right;\n    }\n</style>\n<table border=\"1\" class=\"dataframe\">\n  <thead>\n    <tr style=\"text-align: right;\">\n      <th></th>\n      <th>Trading Liquidity</th>\n      <th>Vault</th>\n      <th>Staking</th>\n      <th>ERC20 Contracts</th>\n      <th>Vortex</th>\n      <th>External Protection</th>\n      <th>Protocol WalletState</th>\n    </tr>\n  </thead>\n  <tbody>\n    <tr>\n      <th>0</th>\n      <td>bnt=0.000000 dai=0.000000</td>\n      <td>bnt=0.000000</td>\n      <td>bnt=0.000000</td>\n      <td>bnbnt=0.000000</td>\n      <td>bnt=0.000000</td>\n      <td>dai=0.000000</td>\n      <td>bnbnt=20000.000000</td>\n    </tr>\n    <tr>\n      <th>1</th>\n      <td>bnt=0.000000 eth=0.000000</td>\n      <td>dai=0.000000</td>\n      <td>dai=0.000000</td>\n      <td>bndai=0.000000</td>\n      <td></td>\n      <td>eth=0.000000</td>\n      <td></td>\n    </tr>\n    <tr>\n      <th>2</th>\n      <td>bnt=0.000000 link=0.000000</td>\n      <td>eth=0.000000</td>\n      <td>eth=0.000000</td>\n      <td>bneth=0.000000</td>\n      <td></td>\n      <td>link=0.000000</td>\n      <td></td>\n    </tr>\n    <tr>\n      <th>3</th>\n      <td>bnt=20000.000000 tkn=20000.000000</td>\n      <td>link=0.000000</td>\n      <td>link=0.000000</td>\n      <td>bnlink=0.000000</td>\n      <td></td>\n      <td>bnt=0.000000</td>\n      <td></td>\n    </tr>\n    <tr>\n      <th>4</th>\n      <td>bnt=0.000000 wbtc=0.000000</td>\n      <td>tkn=22000.000000</td>\n      <td>tkn=22000.000000</td>\n      <td>bntkn=22000.000000</td>\n      <td></td>\n      <td>tkn=0.000000</td>\n      <td></td>\n    </tr>\n    <tr>\n      <th>5</th>\n      <td></td>\n      <td>wbtc=0.000000</td>\n      <td>wbtc=0.000000</td>\n      <td>bnwbtc=0.000000</td>\n      <td></td>\n      <td>wbtc=0.000000</td>\n      <td></td>\n    </tr>\n  </tbody>\n</table>\n</div>"
     },
     "execution_count": 10,
     "metadata": {},
     "output_type": "execute_result"
    }
   ],
   "source": [
    "timestamp = 14 * 8\n",
    "\n",
    "v3.distribute_autocompounding_program(\n",
    "                                     tkn_name='TKN',\n",
    "                                     timestamp= timestamp)\n",
    "v3.export_test_scenarios()\n",
    "v3.describe()\n"
   ],
   "metadata": {
    "collapsed": false,
    "pycharm": {
     "name": "#%%\n"
    }
   }
  },
  {
   "cell_type": "code",
   "execution_count": 11,
   "outputs": [
    {
     "name": "stdout",
     "output_type": "stream",
     "text": [
      "pool_token_amt_to_burn > program_wallet_bntkn, setting pool_token_amt_to_burn=0\n",
      " staked_amt = 22000.000000000000000000\n",
      " erc20contracts_bntkn = 22000.000000000000000000\n",
      " program_wallet_bntkn = 0E-18\n",
      " total_rewards = 86400.000000000000000000\n",
      " prev_token_amt_distributed = 0.038356164383561644\n",
      " token_amt_to_distribute = 0.07671232876712328767123287672\n",
      " pool_token_amt_to_burn = 0E-18\n",
      " remaining_rewards = 86399.92328767123287671232877\n",
      "Saved to test_scenarios.json\n"
     ]
    },
    {
     "data": {
      "text/plain": "                   Trading Liquidity             Vault           Staking  \\\n0          bnt=0.000000 dai=0.000000      bnt=0.000000      bnt=0.000000   \n1          bnt=0.000000 eth=0.000000      dai=0.000000      dai=0.000000   \n2         bnt=0.000000 link=0.000000      eth=0.000000      eth=0.000000   \n3  bnt=20000.000000 tkn=20000.000000     link=0.000000     link=0.000000   \n4         bnt=0.000000 wbtc=0.000000  tkn=22000.000000  tkn=22000.000000   \n5                                        wbtc=0.000000     wbtc=0.000000   \n\n      ERC20 Contracts        Vortex External Protection Protocol WalletState  \n0      bnbnt=0.000000  bnt=0.000000        dai=0.000000   bnbnt=20000.000000  \n1      bndai=0.000000                      eth=0.000000                       \n2      bneth=0.000000                     link=0.000000                       \n3     bnlink=0.000000                      bnt=0.000000                       \n4  bntkn=22000.000000                      tkn=0.000000                       \n5     bnwbtc=0.000000                     wbtc=0.000000                       ",
      "text/html": "<div>\n<style scoped>\n    .dataframe tbody tr th:only-of-type {\n        vertical-align: middle;\n    }\n\n    .dataframe tbody tr th {\n        vertical-align: top;\n    }\n\n    .dataframe thead th {\n        text-align: right;\n    }\n</style>\n<table border=\"1\" class=\"dataframe\">\n  <thead>\n    <tr style=\"text-align: right;\">\n      <th></th>\n      <th>Trading Liquidity</th>\n      <th>Vault</th>\n      <th>Staking</th>\n      <th>ERC20 Contracts</th>\n      <th>Vortex</th>\n      <th>External Protection</th>\n      <th>Protocol WalletState</th>\n    </tr>\n  </thead>\n  <tbody>\n    <tr>\n      <th>0</th>\n      <td>bnt=0.000000 dai=0.000000</td>\n      <td>bnt=0.000000</td>\n      <td>bnt=0.000000</td>\n      <td>bnbnt=0.000000</td>\n      <td>bnt=0.000000</td>\n      <td>dai=0.000000</td>\n      <td>bnbnt=20000.000000</td>\n    </tr>\n    <tr>\n      <th>1</th>\n      <td>bnt=0.000000 eth=0.000000</td>\n      <td>dai=0.000000</td>\n      <td>dai=0.000000</td>\n      <td>bndai=0.000000</td>\n      <td></td>\n      <td>eth=0.000000</td>\n      <td></td>\n    </tr>\n    <tr>\n      <th>2</th>\n      <td>bnt=0.000000 link=0.000000</td>\n      <td>eth=0.000000</td>\n      <td>eth=0.000000</td>\n      <td>bneth=0.000000</td>\n      <td></td>\n      <td>link=0.000000</td>\n      <td></td>\n    </tr>\n    <tr>\n      <th>3</th>\n      <td>bnt=20000.000000 tkn=20000.000000</td>\n      <td>link=0.000000</td>\n      <td>link=0.000000</td>\n      <td>bnlink=0.000000</td>\n      <td></td>\n      <td>bnt=0.000000</td>\n      <td></td>\n    </tr>\n    <tr>\n      <th>4</th>\n      <td>bnt=0.000000 wbtc=0.000000</td>\n      <td>tkn=22000.000000</td>\n      <td>tkn=22000.000000</td>\n      <td>bntkn=22000.000000</td>\n      <td></td>\n      <td>tkn=0.000000</td>\n      <td></td>\n    </tr>\n    <tr>\n      <th>5</th>\n      <td></td>\n      <td>wbtc=0.000000</td>\n      <td>wbtc=0.000000</td>\n      <td>bnwbtc=0.000000</td>\n      <td></td>\n      <td>wbtc=0.000000</td>\n      <td></td>\n    </tr>\n  </tbody>\n</table>\n</div>"
     },
     "execution_count": 11,
     "metadata": {},
     "output_type": "execute_result"
    }
   ],
   "source": [
    "timestamp = 14 * 9\n",
    "\n",
    "v3.distribute_autocompounding_program(\n",
    "                                     tkn_name='TKN',\n",
    "                                     timestamp= timestamp)\n",
    "v3.export_test_scenarios()\n",
    "v3.describe()\n"
   ],
   "metadata": {
    "collapsed": false,
    "pycharm": {
     "name": "#%%\n"
    }
   }
  },
  {
   "cell_type": "code",
   "execution_count": 12,
   "outputs": [
    {
     "data": {
      "text/plain": "                   Trading Liquidity             Vault           Staking  \\\n0          bnt=0.000000 dai=0.000000      bnt=0.000000      bnt=0.000000   \n1          bnt=0.000000 eth=0.000000      dai=0.000000      dai=0.000000   \n2         bnt=0.000000 link=0.000000      eth=0.000000      eth=0.000000   \n3  bnt=24000.000000 tkn=24000.000000     link=0.000000     link=0.000000   \n4         bnt=0.000000 wbtc=0.000000  tkn=24000.000000  tkn=24000.000000   \n5                                        wbtc=0.000000     wbtc=0.000000   \n\n      ERC20 Contracts        Vortex External Protection Protocol WalletState  \n0      bnbnt=0.000000  bnt=0.000000        dai=0.000000    bnbnt=4000.000000  \n1      bndai=0.000000                      eth=0.000000                       \n2      bneth=0.000000                     link=0.000000                       \n3     bnlink=0.000000                      bnt=0.000000                       \n4  bntkn=24000.000000                      tkn=0.000000                       \n5     bnwbtc=0.000000                     wbtc=0.000000                       ",
      "text/html": "<div>\n<style scoped>\n    .dataframe tbody tr th:only-of-type {\n        vertical-align: middle;\n    }\n\n    .dataframe tbody tr th {\n        vertical-align: top;\n    }\n\n    .dataframe thead th {\n        text-align: right;\n    }\n</style>\n<table border=\"1\" class=\"dataframe\">\n  <thead>\n    <tr style=\"text-align: right;\">\n      <th></th>\n      <th>Trading Liquidity</th>\n      <th>Vault</th>\n      <th>Staking</th>\n      <th>ERC20 Contracts</th>\n      <th>Vortex</th>\n      <th>External Protection</th>\n      <th>Protocol WalletState</th>\n    </tr>\n  </thead>\n  <tbody>\n    <tr>\n      <th>0</th>\n      <td>bnt=0.000000 dai=0.000000</td>\n      <td>bnt=0.000000</td>\n      <td>bnt=0.000000</td>\n      <td>bnbnt=0.000000</td>\n      <td>bnt=0.000000</td>\n      <td>dai=0.000000</td>\n      <td>bnbnt=4000.000000</td>\n    </tr>\n    <tr>\n      <th>1</th>\n      <td>bnt=0.000000 eth=0.000000</td>\n      <td>dai=0.000000</td>\n      <td>dai=0.000000</td>\n      <td>bndai=0.000000</td>\n      <td></td>\n      <td>eth=0.000000</td>\n      <td></td>\n    </tr>\n    <tr>\n      <th>2</th>\n      <td>bnt=0.000000 link=0.000000</td>\n      <td>eth=0.000000</td>\n      <td>eth=0.000000</td>\n      <td>bneth=0.000000</td>\n      <td></td>\n      <td>link=0.000000</td>\n      <td></td>\n    </tr>\n    <tr>\n      <th>3</th>\n      <td>bnt=24000.000000 tkn=24000.000000</td>\n      <td>link=0.000000</td>\n      <td>link=0.000000</td>\n      <td>bnlink=0.000000</td>\n      <td></td>\n      <td>bnt=0.000000</td>\n      <td></td>\n    </tr>\n    <tr>\n      <th>4</th>\n      <td>bnt=0.000000 wbtc=0.000000</td>\n      <td>tkn=24000.000000</td>\n      <td>tkn=24000.000000</td>\n      <td>bntkn=24000.000000</td>\n      <td></td>\n      <td>tkn=0.000000</td>\n      <td></td>\n    </tr>\n    <tr>\n      <th>5</th>\n      <td></td>\n      <td>wbtc=0.000000</td>\n      <td>wbtc=0.000000</td>\n      <td>bnwbtc=0.000000</td>\n      <td></td>\n      <td>wbtc=0.000000</td>\n      <td></td>\n    </tr>\n  </tbody>\n</table>\n</div>"
     },
     "execution_count": 12,
     "metadata": {},
     "output_type": "execute_result"
    }
   ],
   "source": [
    "timestamp = 14 * 10\n",
    "\n",
    "v3.deposit(tkn_name='TKN', tkn_amt=Decimal('2000'), user_name=user_name, timestamp=timestamp)\n",
    "v3.describe()\n"
   ],
   "metadata": {
    "collapsed": false,
    "pycharm": {
     "name": "#%%\n"
    }
   }
  },
  {
   "cell_type": "code",
   "execution_count": 13,
   "outputs": [
    {
     "name": "stdout",
     "output_type": "stream",
     "text": [
      "pool_token_amt_to_burn > program_wallet_bntkn, setting pool_token_amt_to_burn=0\n",
      " staked_amt = 24000.000000000000000000\n",
      " erc20contracts_bntkn = 24000.000000000000000000\n",
      " program_wallet_bntkn = 0E-18\n",
      " total_rewards = 86400.000000000000000000\n",
      " prev_token_amt_distributed = 0.076712328767123288\n",
      " token_amt_to_distribute = 0.1534246575342465753424657534\n",
      " pool_token_amt_to_burn = 0E-18\n",
      " remaining_rewards = 86399.84657534246575342465753\n",
      "Saved to test_scenarios.json\n"
     ]
    },
    {
     "data": {
      "text/plain": "                   Trading Liquidity             Vault           Staking  \\\n0          bnt=0.000000 dai=0.000000      bnt=0.000000      bnt=0.000000   \n1          bnt=0.000000 eth=0.000000      dai=0.000000      dai=0.000000   \n2         bnt=0.000000 link=0.000000      eth=0.000000      eth=0.000000   \n3  bnt=24000.000000 tkn=24000.000000     link=0.000000     link=0.000000   \n4         bnt=0.000000 wbtc=0.000000  tkn=24000.000000  tkn=24000.000000   \n5                                        wbtc=0.000000     wbtc=0.000000   \n\n      ERC20 Contracts        Vortex External Protection Protocol WalletState  \n0      bnbnt=0.000000  bnt=0.000000        dai=0.000000    bnbnt=4000.000000  \n1      bndai=0.000000                      eth=0.000000                       \n2      bneth=0.000000                     link=0.000000                       \n3     bnlink=0.000000                      bnt=0.000000                       \n4  bntkn=24000.000000                      tkn=0.000000                       \n5     bnwbtc=0.000000                     wbtc=0.000000                       ",
      "text/html": "<div>\n<style scoped>\n    .dataframe tbody tr th:only-of-type {\n        vertical-align: middle;\n    }\n\n    .dataframe tbody tr th {\n        vertical-align: top;\n    }\n\n    .dataframe thead th {\n        text-align: right;\n    }\n</style>\n<table border=\"1\" class=\"dataframe\">\n  <thead>\n    <tr style=\"text-align: right;\">\n      <th></th>\n      <th>Trading Liquidity</th>\n      <th>Vault</th>\n      <th>Staking</th>\n      <th>ERC20 Contracts</th>\n      <th>Vortex</th>\n      <th>External Protection</th>\n      <th>Protocol WalletState</th>\n    </tr>\n  </thead>\n  <tbody>\n    <tr>\n      <th>0</th>\n      <td>bnt=0.000000 dai=0.000000</td>\n      <td>bnt=0.000000</td>\n      <td>bnt=0.000000</td>\n      <td>bnbnt=0.000000</td>\n      <td>bnt=0.000000</td>\n      <td>dai=0.000000</td>\n      <td>bnbnt=4000.000000</td>\n    </tr>\n    <tr>\n      <th>1</th>\n      <td>bnt=0.000000 eth=0.000000</td>\n      <td>dai=0.000000</td>\n      <td>dai=0.000000</td>\n      <td>bndai=0.000000</td>\n      <td></td>\n      <td>eth=0.000000</td>\n      <td></td>\n    </tr>\n    <tr>\n      <th>2</th>\n      <td>bnt=0.000000 link=0.000000</td>\n      <td>eth=0.000000</td>\n      <td>eth=0.000000</td>\n      <td>bneth=0.000000</td>\n      <td></td>\n      <td>link=0.000000</td>\n      <td></td>\n    </tr>\n    <tr>\n      <th>3</th>\n      <td>bnt=24000.000000 tkn=24000.000000</td>\n      <td>link=0.000000</td>\n      <td>link=0.000000</td>\n      <td>bnlink=0.000000</td>\n      <td></td>\n      <td>bnt=0.000000</td>\n      <td></td>\n    </tr>\n    <tr>\n      <th>4</th>\n      <td>bnt=0.000000 wbtc=0.000000</td>\n      <td>tkn=24000.000000</td>\n      <td>tkn=24000.000000</td>\n      <td>bntkn=24000.000000</td>\n      <td></td>\n      <td>tkn=0.000000</td>\n      <td></td>\n    </tr>\n    <tr>\n      <th>5</th>\n      <td></td>\n      <td>wbtc=0.000000</td>\n      <td>wbtc=0.000000</td>\n      <td>bnwbtc=0.000000</td>\n      <td></td>\n      <td>wbtc=0.000000</td>\n      <td></td>\n    </tr>\n  </tbody>\n</table>\n</div>"
     },
     "execution_count": 13,
     "metadata": {},
     "output_type": "execute_result"
    }
   ],
   "source": [
    "timestamp = 14 * 11\n",
    "\n",
    "v3.distribute_autocompounding_program(\n",
    "                                     tkn_name='TKN',\n",
    "                                     timestamp= timestamp)\n",
    "v3.export_test_scenarios()\n",
    "v3.describe()\n"
   ],
   "metadata": {
    "collapsed": false,
    "pycharm": {
     "name": "#%%\n"
    }
   }
  },
  {
   "cell_type": "code",
   "execution_count": 14,
   "outputs": [
    {
     "data": {
      "text/plain": "                   Trading Liquidity              Vault            Staking  \\\n0          bnt=0.000000 dai=0.000000       bnt=0.000000       bnt=0.000000   \n1          bnt=0.000000 eth=0.000000       dai=0.000000       dai=0.000000   \n2         bnt=0.000000 link=0.000000       eth=0.000000       eth=0.000000   \n3  bnt=48000.000000 tkn=48000.000000      link=0.000000      link=0.000000   \n4         bnt=0.000000 wbtc=0.000000  tkn=224000.000000  tkn=224000.000000   \n5                                         wbtc=0.000000      wbtc=0.000000   \n\n       ERC20 Contracts        Vortex External Protection Protocol WalletState  \n0       bnbnt=0.000000  bnt=0.000000        dai=0.000000   bnbnt=24000.000000  \n1       bndai=0.000000                      eth=0.000000                       \n2       bneth=0.000000                     link=0.000000                       \n3      bnlink=0.000000                      bnt=0.000000                       \n4  bntkn=224000.000000                      tkn=0.000000                       \n5      bnwbtc=0.000000                     wbtc=0.000000                       ",
      "text/html": "<div>\n<style scoped>\n    .dataframe tbody tr th:only-of-type {\n        vertical-align: middle;\n    }\n\n    .dataframe tbody tr th {\n        vertical-align: top;\n    }\n\n    .dataframe thead th {\n        text-align: right;\n    }\n</style>\n<table border=\"1\" class=\"dataframe\">\n  <thead>\n    <tr style=\"text-align: right;\">\n      <th></th>\n      <th>Trading Liquidity</th>\n      <th>Vault</th>\n      <th>Staking</th>\n      <th>ERC20 Contracts</th>\n      <th>Vortex</th>\n      <th>External Protection</th>\n      <th>Protocol WalletState</th>\n    </tr>\n  </thead>\n  <tbody>\n    <tr>\n      <th>0</th>\n      <td>bnt=0.000000 dai=0.000000</td>\n      <td>bnt=0.000000</td>\n      <td>bnt=0.000000</td>\n      <td>bnbnt=0.000000</td>\n      <td>bnt=0.000000</td>\n      <td>dai=0.000000</td>\n      <td>bnbnt=24000.000000</td>\n    </tr>\n    <tr>\n      <th>1</th>\n      <td>bnt=0.000000 eth=0.000000</td>\n      <td>dai=0.000000</td>\n      <td>dai=0.000000</td>\n      <td>bndai=0.000000</td>\n      <td></td>\n      <td>eth=0.000000</td>\n      <td></td>\n    </tr>\n    <tr>\n      <th>2</th>\n      <td>bnt=0.000000 link=0.000000</td>\n      <td>eth=0.000000</td>\n      <td>eth=0.000000</td>\n      <td>bneth=0.000000</td>\n      <td></td>\n      <td>link=0.000000</td>\n      <td></td>\n    </tr>\n    <tr>\n      <th>3</th>\n      <td>bnt=48000.000000 tkn=48000.000000</td>\n      <td>link=0.000000</td>\n      <td>link=0.000000</td>\n      <td>bnlink=0.000000</td>\n      <td></td>\n      <td>bnt=0.000000</td>\n      <td></td>\n    </tr>\n    <tr>\n      <th>4</th>\n      <td>bnt=0.000000 wbtc=0.000000</td>\n      <td>tkn=224000.000000</td>\n      <td>tkn=224000.000000</td>\n      <td>bntkn=224000.000000</td>\n      <td></td>\n      <td>tkn=0.000000</td>\n      <td></td>\n    </tr>\n    <tr>\n      <th>5</th>\n      <td></td>\n      <td>wbtc=0.000000</td>\n      <td>wbtc=0.000000</td>\n      <td>bnwbtc=0.000000</td>\n      <td></td>\n      <td>wbtc=0.000000</td>\n      <td></td>\n    </tr>\n  </tbody>\n</table>\n</div>"
     },
     "execution_count": 14,
     "metadata": {},
     "output_type": "execute_result"
    }
   ],
   "source": [
    "timestamp = 14 * 12\n",
    "\n",
    "v3.deposit(tkn_name='TKN', tkn_amt=Decimal('200000'), user_name=user_name, timestamp=timestamp)\n",
    "v3.describe()"
   ],
   "metadata": {
    "collapsed": false,
    "pycharm": {
     "name": "#%%\n"
    }
   }
  },
  {
   "cell_type": "code",
   "execution_count": 15,
   "outputs": [
    {
     "name": "stdout",
     "output_type": "stream",
     "text": [
      "pool_token_amt_to_burn > program_wallet_bntkn, setting pool_token_amt_to_burn=0\n",
      " staked_amt = 224000.000000000000000000\n",
      " erc20contracts_bntkn = 224000.000000000000000000\n",
      " program_wallet_bntkn = 0E-18\n",
      " total_rewards = 86400.000000000000000000\n",
      " prev_token_amt_distributed = 0.153424657534246575\n",
      " token_amt_to_distribute = 0.2301369863013698630136986302\n",
      " pool_token_amt_to_burn = 0E-18\n",
      " remaining_rewards = 86399.76986301369863013698630\n",
      "Saved to test_scenarios.json\n"
     ]
    },
    {
     "data": {
      "text/plain": "                   Trading Liquidity              Vault            Staking  \\\n0          bnt=0.000000 dai=0.000000       bnt=0.000000       bnt=0.000000   \n1          bnt=0.000000 eth=0.000000       dai=0.000000       dai=0.000000   \n2         bnt=0.000000 link=0.000000       eth=0.000000       eth=0.000000   \n3  bnt=48000.000000 tkn=48000.000000      link=0.000000      link=0.000000   \n4         bnt=0.000000 wbtc=0.000000  tkn=224000.000000  tkn=224000.000000   \n5                                         wbtc=0.000000      wbtc=0.000000   \n\n       ERC20 Contracts        Vortex External Protection Protocol WalletState  \n0       bnbnt=0.000000  bnt=0.000000        dai=0.000000   bnbnt=24000.000000  \n1       bndai=0.000000                      eth=0.000000                       \n2       bneth=0.000000                     link=0.000000                       \n3      bnlink=0.000000                      bnt=0.000000                       \n4  bntkn=224000.000000                      tkn=0.000000                       \n5      bnwbtc=0.000000                     wbtc=0.000000                       ",
      "text/html": "<div>\n<style scoped>\n    .dataframe tbody tr th:only-of-type {\n        vertical-align: middle;\n    }\n\n    .dataframe tbody tr th {\n        vertical-align: top;\n    }\n\n    .dataframe thead th {\n        text-align: right;\n    }\n</style>\n<table border=\"1\" class=\"dataframe\">\n  <thead>\n    <tr style=\"text-align: right;\">\n      <th></th>\n      <th>Trading Liquidity</th>\n      <th>Vault</th>\n      <th>Staking</th>\n      <th>ERC20 Contracts</th>\n      <th>Vortex</th>\n      <th>External Protection</th>\n      <th>Protocol WalletState</th>\n    </tr>\n  </thead>\n  <tbody>\n    <tr>\n      <th>0</th>\n      <td>bnt=0.000000 dai=0.000000</td>\n      <td>bnt=0.000000</td>\n      <td>bnt=0.000000</td>\n      <td>bnbnt=0.000000</td>\n      <td>bnt=0.000000</td>\n      <td>dai=0.000000</td>\n      <td>bnbnt=24000.000000</td>\n    </tr>\n    <tr>\n      <th>1</th>\n      <td>bnt=0.000000 eth=0.000000</td>\n      <td>dai=0.000000</td>\n      <td>dai=0.000000</td>\n      <td>bndai=0.000000</td>\n      <td></td>\n      <td>eth=0.000000</td>\n      <td></td>\n    </tr>\n    <tr>\n      <th>2</th>\n      <td>bnt=0.000000 link=0.000000</td>\n      <td>eth=0.000000</td>\n      <td>eth=0.000000</td>\n      <td>bneth=0.000000</td>\n      <td></td>\n      <td>link=0.000000</td>\n      <td></td>\n    </tr>\n    <tr>\n      <th>3</th>\n      <td>bnt=48000.000000 tkn=48000.000000</td>\n      <td>link=0.000000</td>\n      <td>link=0.000000</td>\n      <td>bnlink=0.000000</td>\n      <td></td>\n      <td>bnt=0.000000</td>\n      <td></td>\n    </tr>\n    <tr>\n      <th>4</th>\n      <td>bnt=0.000000 wbtc=0.000000</td>\n      <td>tkn=224000.000000</td>\n      <td>tkn=224000.000000</td>\n      <td>bntkn=224000.000000</td>\n      <td></td>\n      <td>tkn=0.000000</td>\n      <td></td>\n    </tr>\n    <tr>\n      <th>5</th>\n      <td></td>\n      <td>wbtc=0.000000</td>\n      <td>wbtc=0.000000</td>\n      <td>bnwbtc=0.000000</td>\n      <td></td>\n      <td>wbtc=0.000000</td>\n      <td></td>\n    </tr>\n  </tbody>\n</table>\n</div>"
     },
     "execution_count": 15,
     "metadata": {},
     "output_type": "execute_result"
    }
   ],
   "source": [
    "timestamp = 14 * 13\n",
    "\n",
    "v3.distribute_autocompounding_program(\n",
    "                                     tkn_name='TKN',\n",
    "                                     timestamp= timestamp)\n",
    "v3.export_test_scenarios()\n",
    "v3.describe()\n"
   ],
   "metadata": {
    "collapsed": false,
    "pycharm": {
     "name": "#%%\n"
    }
   }
  },
  {
   "cell_type": "code",
   "execution_count": 16,
   "outputs": [
    {
     "data": {
      "text/plain": "                   Trading Liquidity              Vault            Staking  \\\n0          bnt=0.000000 dai=0.000000       bnt=0.000000       bnt=0.000000   \n1          bnt=0.000000 eth=0.000000       dai=0.000000       dai=0.000000   \n2         bnt=0.000000 link=0.000000       eth=0.000000       eth=0.000000   \n3  bnt=96000.000000 tkn=96000.000000      link=0.000000      link=0.000000   \n4         bnt=0.000000 wbtc=0.000000  tkn=424000.000000  tkn=424000.000000   \n5                                         wbtc=0.000000      wbtc=0.000000   \n\n       ERC20 Contracts        Vortex External Protection Protocol WalletState  \n0       bnbnt=0.000000  bnt=0.000000        dai=0.000000   bnbnt=48000.000000  \n1       bndai=0.000000                      eth=0.000000                       \n2       bneth=0.000000                     link=0.000000                       \n3      bnlink=0.000000                      bnt=0.000000                       \n4  bntkn=424000.000000                      tkn=0.000000                       \n5      bnwbtc=0.000000                     wbtc=0.000000                       ",
      "text/html": "<div>\n<style scoped>\n    .dataframe tbody tr th:only-of-type {\n        vertical-align: middle;\n    }\n\n    .dataframe tbody tr th {\n        vertical-align: top;\n    }\n\n    .dataframe thead th {\n        text-align: right;\n    }\n</style>\n<table border=\"1\" class=\"dataframe\">\n  <thead>\n    <tr style=\"text-align: right;\">\n      <th></th>\n      <th>Trading Liquidity</th>\n      <th>Vault</th>\n      <th>Staking</th>\n      <th>ERC20 Contracts</th>\n      <th>Vortex</th>\n      <th>External Protection</th>\n      <th>Protocol WalletState</th>\n    </tr>\n  </thead>\n  <tbody>\n    <tr>\n      <th>0</th>\n      <td>bnt=0.000000 dai=0.000000</td>\n      <td>bnt=0.000000</td>\n      <td>bnt=0.000000</td>\n      <td>bnbnt=0.000000</td>\n      <td>bnt=0.000000</td>\n      <td>dai=0.000000</td>\n      <td>bnbnt=48000.000000</td>\n    </tr>\n    <tr>\n      <th>1</th>\n      <td>bnt=0.000000 eth=0.000000</td>\n      <td>dai=0.000000</td>\n      <td>dai=0.000000</td>\n      <td>bndai=0.000000</td>\n      <td></td>\n      <td>eth=0.000000</td>\n      <td></td>\n    </tr>\n    <tr>\n      <th>2</th>\n      <td>bnt=0.000000 link=0.000000</td>\n      <td>eth=0.000000</td>\n      <td>eth=0.000000</td>\n      <td>bneth=0.000000</td>\n      <td></td>\n      <td>link=0.000000</td>\n      <td></td>\n    </tr>\n    <tr>\n      <th>3</th>\n      <td>bnt=96000.000000 tkn=96000.000000</td>\n      <td>link=0.000000</td>\n      <td>link=0.000000</td>\n      <td>bnlink=0.000000</td>\n      <td></td>\n      <td>bnt=0.000000</td>\n      <td></td>\n    </tr>\n    <tr>\n      <th>4</th>\n      <td>bnt=0.000000 wbtc=0.000000</td>\n      <td>tkn=424000.000000</td>\n      <td>tkn=424000.000000</td>\n      <td>bntkn=424000.000000</td>\n      <td></td>\n      <td>tkn=0.000000</td>\n      <td></td>\n    </tr>\n    <tr>\n      <th>5</th>\n      <td></td>\n      <td>wbtc=0.000000</td>\n      <td>wbtc=0.000000</td>\n      <td>bnwbtc=0.000000</td>\n      <td></td>\n      <td>wbtc=0.000000</td>\n      <td></td>\n    </tr>\n  </tbody>\n</table>\n</div>"
     },
     "execution_count": 16,
     "metadata": {},
     "output_type": "execute_result"
    }
   ],
   "source": [
    "timestamp = 14 * 14\n",
    "\n",
    "v3.deposit(tkn_name='TKN', tkn_amt=Decimal('200000'), user_name=user_name, timestamp=timestamp)\n",
    "v3.describe()"
   ],
   "metadata": {
    "collapsed": false,
    "pycharm": {
     "name": "#%%\n"
    }
   }
  },
  {
   "cell_type": "code",
   "execution_count": 17,
   "outputs": [
    {
     "name": "stdout",
     "output_type": "stream",
     "text": [
      "pool_token_amt_to_burn > program_wallet_bntkn, setting pool_token_amt_to_burn=0\n",
      " staked_amt = 424000.000000000000000000\n",
      " erc20contracts_bntkn = 424000.000000000000000000\n",
      " program_wallet_bntkn = 0E-18\n",
      " total_rewards = 86400.000000000000000000\n",
      " prev_token_amt_distributed = 0.230136986301369863\n",
      " token_amt_to_distribute = 0.3068493150684931506849315069\n",
      " pool_token_amt_to_burn = 0E-18\n",
      " remaining_rewards = 86399.69315068493150684931507\n",
      "Saved to test_scenarios.json\n"
     ]
    },
    {
     "data": {
      "text/plain": "                   Trading Liquidity              Vault            Staking  \\\n0          bnt=0.000000 dai=0.000000       bnt=0.000000       bnt=0.000000   \n1          bnt=0.000000 eth=0.000000       dai=0.000000       dai=0.000000   \n2         bnt=0.000000 link=0.000000       eth=0.000000       eth=0.000000   \n3  bnt=96000.000000 tkn=96000.000000      link=0.000000      link=0.000000   \n4         bnt=0.000000 wbtc=0.000000  tkn=424000.000000  tkn=424000.000000   \n5                                         wbtc=0.000000      wbtc=0.000000   \n\n       ERC20 Contracts        Vortex External Protection Protocol WalletState  \n0       bnbnt=0.000000  bnt=0.000000        dai=0.000000   bnbnt=48000.000000  \n1       bndai=0.000000                      eth=0.000000                       \n2       bneth=0.000000                     link=0.000000                       \n3      bnlink=0.000000                      bnt=0.000000                       \n4  bntkn=424000.000000                      tkn=0.000000                       \n5      bnwbtc=0.000000                     wbtc=0.000000                       ",
      "text/html": "<div>\n<style scoped>\n    .dataframe tbody tr th:only-of-type {\n        vertical-align: middle;\n    }\n\n    .dataframe tbody tr th {\n        vertical-align: top;\n    }\n\n    .dataframe thead th {\n        text-align: right;\n    }\n</style>\n<table border=\"1\" class=\"dataframe\">\n  <thead>\n    <tr style=\"text-align: right;\">\n      <th></th>\n      <th>Trading Liquidity</th>\n      <th>Vault</th>\n      <th>Staking</th>\n      <th>ERC20 Contracts</th>\n      <th>Vortex</th>\n      <th>External Protection</th>\n      <th>Protocol WalletState</th>\n    </tr>\n  </thead>\n  <tbody>\n    <tr>\n      <th>0</th>\n      <td>bnt=0.000000 dai=0.000000</td>\n      <td>bnt=0.000000</td>\n      <td>bnt=0.000000</td>\n      <td>bnbnt=0.000000</td>\n      <td>bnt=0.000000</td>\n      <td>dai=0.000000</td>\n      <td>bnbnt=48000.000000</td>\n    </tr>\n    <tr>\n      <th>1</th>\n      <td>bnt=0.000000 eth=0.000000</td>\n      <td>dai=0.000000</td>\n      <td>dai=0.000000</td>\n      <td>bndai=0.000000</td>\n      <td></td>\n      <td>eth=0.000000</td>\n      <td></td>\n    </tr>\n    <tr>\n      <th>2</th>\n      <td>bnt=0.000000 link=0.000000</td>\n      <td>eth=0.000000</td>\n      <td>eth=0.000000</td>\n      <td>bneth=0.000000</td>\n      <td></td>\n      <td>link=0.000000</td>\n      <td></td>\n    </tr>\n    <tr>\n      <th>3</th>\n      <td>bnt=96000.000000 tkn=96000.000000</td>\n      <td>link=0.000000</td>\n      <td>link=0.000000</td>\n      <td>bnlink=0.000000</td>\n      <td></td>\n      <td>bnt=0.000000</td>\n      <td></td>\n    </tr>\n    <tr>\n      <th>4</th>\n      <td>bnt=0.000000 wbtc=0.000000</td>\n      <td>tkn=424000.000000</td>\n      <td>tkn=424000.000000</td>\n      <td>bntkn=424000.000000</td>\n      <td></td>\n      <td>tkn=0.000000</td>\n      <td></td>\n    </tr>\n    <tr>\n      <th>5</th>\n      <td></td>\n      <td>wbtc=0.000000</td>\n      <td>wbtc=0.000000</td>\n      <td>bnwbtc=0.000000</td>\n      <td></td>\n      <td>wbtc=0.000000</td>\n      <td></td>\n    </tr>\n  </tbody>\n</table>\n</div>"
     },
     "execution_count": 17,
     "metadata": {},
     "output_type": "execute_result"
    }
   ],
   "source": [
    "timestamp = 14 * 15\n",
    "\n",
    "v3.distribute_autocompounding_program(\n",
    "                                     tkn_name='TKN',\n",
    "                                     timestamp= timestamp)\n",
    "v3.export_test_scenarios()\n",
    "v3.describe()\n"
   ],
   "metadata": {
    "collapsed": false,
    "pycharm": {
     "name": "#%%\n"
    }
   }
  },
  {
   "cell_type": "code",
   "execution_count": 18,
   "outputs": [
    {
     "data": {
      "text/plain": "                     Trading Liquidity              Vault            Staking  \\\n0            bnt=0.000000 dai=0.000000       bnt=0.000000       bnt=0.000000   \n1            bnt=0.000000 eth=0.000000       dai=0.000000       dai=0.000000   \n2           bnt=0.000000 link=0.000000       eth=0.000000       eth=0.000000   \n3  bnt=192000.000000 tkn=192000.000000      link=0.000000      link=0.000000   \n4           bnt=0.000000 wbtc=0.000000  tkn=624000.000000  tkn=624000.000000   \n5                                           wbtc=0.000000      wbtc=0.000000   \n\n       ERC20 Contracts        Vortex External Protection Protocol WalletState  \n0       bnbnt=0.000000  bnt=0.000000        dai=0.000000   bnbnt=96000.000000  \n1       bndai=0.000000                      eth=0.000000                       \n2       bneth=0.000000                     link=0.000000                       \n3      bnlink=0.000000                      bnt=0.000000                       \n4  bntkn=624000.000000                      tkn=0.000000                       \n5      bnwbtc=0.000000                     wbtc=0.000000                       ",
      "text/html": "<div>\n<style scoped>\n    .dataframe tbody tr th:only-of-type {\n        vertical-align: middle;\n    }\n\n    .dataframe tbody tr th {\n        vertical-align: top;\n    }\n\n    .dataframe thead th {\n        text-align: right;\n    }\n</style>\n<table border=\"1\" class=\"dataframe\">\n  <thead>\n    <tr style=\"text-align: right;\">\n      <th></th>\n      <th>Trading Liquidity</th>\n      <th>Vault</th>\n      <th>Staking</th>\n      <th>ERC20 Contracts</th>\n      <th>Vortex</th>\n      <th>External Protection</th>\n      <th>Protocol WalletState</th>\n    </tr>\n  </thead>\n  <tbody>\n    <tr>\n      <th>0</th>\n      <td>bnt=0.000000 dai=0.000000</td>\n      <td>bnt=0.000000</td>\n      <td>bnt=0.000000</td>\n      <td>bnbnt=0.000000</td>\n      <td>bnt=0.000000</td>\n      <td>dai=0.000000</td>\n      <td>bnbnt=96000.000000</td>\n    </tr>\n    <tr>\n      <th>1</th>\n      <td>bnt=0.000000 eth=0.000000</td>\n      <td>dai=0.000000</td>\n      <td>dai=0.000000</td>\n      <td>bndai=0.000000</td>\n      <td></td>\n      <td>eth=0.000000</td>\n      <td></td>\n    </tr>\n    <tr>\n      <th>2</th>\n      <td>bnt=0.000000 link=0.000000</td>\n      <td>eth=0.000000</td>\n      <td>eth=0.000000</td>\n      <td>bneth=0.000000</td>\n      <td></td>\n      <td>link=0.000000</td>\n      <td></td>\n    </tr>\n    <tr>\n      <th>3</th>\n      <td>bnt=192000.000000 tkn=192000.000000</td>\n      <td>link=0.000000</td>\n      <td>link=0.000000</td>\n      <td>bnlink=0.000000</td>\n      <td></td>\n      <td>bnt=0.000000</td>\n      <td></td>\n    </tr>\n    <tr>\n      <th>4</th>\n      <td>bnt=0.000000 wbtc=0.000000</td>\n      <td>tkn=624000.000000</td>\n      <td>tkn=624000.000000</td>\n      <td>bntkn=624000.000000</td>\n      <td></td>\n      <td>tkn=0.000000</td>\n      <td></td>\n    </tr>\n    <tr>\n      <th>5</th>\n      <td></td>\n      <td>wbtc=0.000000</td>\n      <td>wbtc=0.000000</td>\n      <td>bnwbtc=0.000000</td>\n      <td></td>\n      <td>wbtc=0.000000</td>\n      <td></td>\n    </tr>\n  </tbody>\n</table>\n</div>"
     },
     "execution_count": 18,
     "metadata": {},
     "output_type": "execute_result"
    }
   ],
   "source": [
    "timestamp = 14 * 16\n",
    "\n",
    "v3.deposit(tkn_name='TKN', tkn_amt=Decimal('200000'), user_name=user_name, timestamp=timestamp)\n",
    "v3.describe()"
   ],
   "metadata": {
    "collapsed": false,
    "pycharm": {
     "name": "#%%\n"
    }
   }
  },
  {
   "cell_type": "code",
   "execution_count": 19,
   "outputs": [
    {
     "name": "stdout",
     "output_type": "stream",
     "text": [
      "pool_token_amt_to_burn > program_wallet_bntkn, setting pool_token_amt_to_burn=0\n",
      " staked_amt = 624000.000000000000000000\n",
      " erc20contracts_bntkn = 624000.000000000000000000\n",
      " program_wallet_bntkn = 0E-18\n",
      " total_rewards = 86400.000000000000000000\n",
      " prev_token_amt_distributed = 0.306849315068493151\n",
      " token_amt_to_distribute = 0.3835616438356164383561643836\n",
      " pool_token_amt_to_burn = 0E-18\n",
      " remaining_rewards = 86399.61643835616438356164384\n",
      "Saved to test_scenarios.json\n"
     ]
    },
    {
     "data": {
      "text/plain": "                     Trading Liquidity              Vault            Staking  \\\n0            bnt=0.000000 dai=0.000000       bnt=0.000000       bnt=0.000000   \n1            bnt=0.000000 eth=0.000000       dai=0.000000       dai=0.000000   \n2           bnt=0.000000 link=0.000000       eth=0.000000       eth=0.000000   \n3  bnt=192000.000000 tkn=192000.000000      link=0.000000      link=0.000000   \n4           bnt=0.000000 wbtc=0.000000  tkn=624000.000000  tkn=624000.000000   \n5                                           wbtc=0.000000      wbtc=0.000000   \n\n       ERC20 Contracts        Vortex External Protection Protocol WalletState  \n0       bnbnt=0.000000  bnt=0.000000        dai=0.000000   bnbnt=96000.000000  \n1       bndai=0.000000                      eth=0.000000                       \n2       bneth=0.000000                     link=0.000000                       \n3      bnlink=0.000000                      bnt=0.000000                       \n4  bntkn=624000.000000                      tkn=0.000000                       \n5      bnwbtc=0.000000                     wbtc=0.000000                       ",
      "text/html": "<div>\n<style scoped>\n    .dataframe tbody tr th:only-of-type {\n        vertical-align: middle;\n    }\n\n    .dataframe tbody tr th {\n        vertical-align: top;\n    }\n\n    .dataframe thead th {\n        text-align: right;\n    }\n</style>\n<table border=\"1\" class=\"dataframe\">\n  <thead>\n    <tr style=\"text-align: right;\">\n      <th></th>\n      <th>Trading Liquidity</th>\n      <th>Vault</th>\n      <th>Staking</th>\n      <th>ERC20 Contracts</th>\n      <th>Vortex</th>\n      <th>External Protection</th>\n      <th>Protocol WalletState</th>\n    </tr>\n  </thead>\n  <tbody>\n    <tr>\n      <th>0</th>\n      <td>bnt=0.000000 dai=0.000000</td>\n      <td>bnt=0.000000</td>\n      <td>bnt=0.000000</td>\n      <td>bnbnt=0.000000</td>\n      <td>bnt=0.000000</td>\n      <td>dai=0.000000</td>\n      <td>bnbnt=96000.000000</td>\n    </tr>\n    <tr>\n      <th>1</th>\n      <td>bnt=0.000000 eth=0.000000</td>\n      <td>dai=0.000000</td>\n      <td>dai=0.000000</td>\n      <td>bndai=0.000000</td>\n      <td></td>\n      <td>eth=0.000000</td>\n      <td></td>\n    </tr>\n    <tr>\n      <th>2</th>\n      <td>bnt=0.000000 link=0.000000</td>\n      <td>eth=0.000000</td>\n      <td>eth=0.000000</td>\n      <td>bneth=0.000000</td>\n      <td></td>\n      <td>link=0.000000</td>\n      <td></td>\n    </tr>\n    <tr>\n      <th>3</th>\n      <td>bnt=192000.000000 tkn=192000.000000</td>\n      <td>link=0.000000</td>\n      <td>link=0.000000</td>\n      <td>bnlink=0.000000</td>\n      <td></td>\n      <td>bnt=0.000000</td>\n      <td></td>\n    </tr>\n    <tr>\n      <th>4</th>\n      <td>bnt=0.000000 wbtc=0.000000</td>\n      <td>tkn=624000.000000</td>\n      <td>tkn=624000.000000</td>\n      <td>bntkn=624000.000000</td>\n      <td></td>\n      <td>tkn=0.000000</td>\n      <td></td>\n    </tr>\n    <tr>\n      <th>5</th>\n      <td></td>\n      <td>wbtc=0.000000</td>\n      <td>wbtc=0.000000</td>\n      <td>bnwbtc=0.000000</td>\n      <td></td>\n      <td>wbtc=0.000000</td>\n      <td></td>\n    </tr>\n  </tbody>\n</table>\n</div>"
     },
     "execution_count": 19,
     "metadata": {},
     "output_type": "execute_result"
    }
   ],
   "source": [
    "timestamp = 14 * 17\n",
    "\n",
    "v3.distribute_autocompounding_program(\n",
    "                                     tkn_name='TKN',\n",
    "                                     timestamp= timestamp)\n",
    "v3.export_test_scenarios()\n",
    "v3.describe()"
   ],
   "metadata": {
    "collapsed": false,
    "pycharm": {
     "name": "#%%\n"
    }
   }
  },
  {
   "cell_type": "code",
   "execution_count": 20,
   "outputs": [
    {
     "data": {
      "text/plain": "                     Trading Liquidity              Vault            Staking  \\\n0            bnt=0.000000 dai=0.000000       bnt=0.000000       bnt=0.000000   \n1            bnt=0.000000 eth=0.000000       dai=0.000000       dai=0.000000   \n2           bnt=0.000000 link=0.000000       eth=0.000000       eth=0.000000   \n3  bnt=384000.000000 tkn=384000.000000      link=0.000000      link=0.000000   \n4           bnt=0.000000 wbtc=0.000000  tkn=824000.000000  tkn=824000.000000   \n5                                           wbtc=0.000000      wbtc=0.000000   \n\n       ERC20 Contracts        Vortex External Protection Protocol WalletState  \n0       bnbnt=0.000000  bnt=0.000000        dai=0.000000  bnbnt=192000.000000  \n1       bndai=0.000000                      eth=0.000000                       \n2       bneth=0.000000                     link=0.000000                       \n3      bnlink=0.000000                      bnt=0.000000                       \n4  bntkn=824000.000000                      tkn=0.000000                       \n5      bnwbtc=0.000000                     wbtc=0.000000                       ",
      "text/html": "<div>\n<style scoped>\n    .dataframe tbody tr th:only-of-type {\n        vertical-align: middle;\n    }\n\n    .dataframe tbody tr th {\n        vertical-align: top;\n    }\n\n    .dataframe thead th {\n        text-align: right;\n    }\n</style>\n<table border=\"1\" class=\"dataframe\">\n  <thead>\n    <tr style=\"text-align: right;\">\n      <th></th>\n      <th>Trading Liquidity</th>\n      <th>Vault</th>\n      <th>Staking</th>\n      <th>ERC20 Contracts</th>\n      <th>Vortex</th>\n      <th>External Protection</th>\n      <th>Protocol WalletState</th>\n    </tr>\n  </thead>\n  <tbody>\n    <tr>\n      <th>0</th>\n      <td>bnt=0.000000 dai=0.000000</td>\n      <td>bnt=0.000000</td>\n      <td>bnt=0.000000</td>\n      <td>bnbnt=0.000000</td>\n      <td>bnt=0.000000</td>\n      <td>dai=0.000000</td>\n      <td>bnbnt=192000.000000</td>\n    </tr>\n    <tr>\n      <th>1</th>\n      <td>bnt=0.000000 eth=0.000000</td>\n      <td>dai=0.000000</td>\n      <td>dai=0.000000</td>\n      <td>bndai=0.000000</td>\n      <td></td>\n      <td>eth=0.000000</td>\n      <td></td>\n    </tr>\n    <tr>\n      <th>2</th>\n      <td>bnt=0.000000 link=0.000000</td>\n      <td>eth=0.000000</td>\n      <td>eth=0.000000</td>\n      <td>bneth=0.000000</td>\n      <td></td>\n      <td>link=0.000000</td>\n      <td></td>\n    </tr>\n    <tr>\n      <th>3</th>\n      <td>bnt=384000.000000 tkn=384000.000000</td>\n      <td>link=0.000000</td>\n      <td>link=0.000000</td>\n      <td>bnlink=0.000000</td>\n      <td></td>\n      <td>bnt=0.000000</td>\n      <td></td>\n    </tr>\n    <tr>\n      <th>4</th>\n      <td>bnt=0.000000 wbtc=0.000000</td>\n      <td>tkn=824000.000000</td>\n      <td>tkn=824000.000000</td>\n      <td>bntkn=824000.000000</td>\n      <td></td>\n      <td>tkn=0.000000</td>\n      <td></td>\n    </tr>\n    <tr>\n      <th>5</th>\n      <td></td>\n      <td>wbtc=0.000000</td>\n      <td>wbtc=0.000000</td>\n      <td>bnwbtc=0.000000</td>\n      <td></td>\n      <td>wbtc=0.000000</td>\n      <td></td>\n    </tr>\n  </tbody>\n</table>\n</div>"
     },
     "execution_count": 20,
     "metadata": {},
     "output_type": "execute_result"
    }
   ],
   "source": [
    "timestamp = 14 * 18\n",
    "\n",
    "v3.deposit(tkn_name='TKN', tkn_amt=Decimal('200000'), user_name=user_name, timestamp=timestamp)\n",
    "v3.describe()"
   ],
   "metadata": {
    "collapsed": false,
    "pycharm": {
     "name": "#%%\n"
    }
   }
  },
  {
   "cell_type": "code",
   "execution_count": 21,
   "outputs": [
    {
     "name": "stdout",
     "output_type": "stream",
     "text": [
      "pool_token_amt_to_burn > program_wallet_bntkn, setting pool_token_amt_to_burn=0\n",
      " staked_amt = 824000.000000000000000000\n",
      " erc20contracts_bntkn = 824000.000000000000000000\n",
      " program_wallet_bntkn = 0E-18\n",
      " total_rewards = 86400.000000000000000000\n",
      " prev_token_amt_distributed = 0.383561643835616438\n",
      " token_amt_to_distribute = 0.4602739726027397260273972603\n",
      " pool_token_amt_to_burn = 0E-18\n",
      " remaining_rewards = 86399.53972602739726027397260\n",
      "Saved to test_scenarios.json\n"
     ]
    },
    {
     "data": {
      "text/plain": "                     Trading Liquidity              Vault            Staking  \\\n0            bnt=0.000000 dai=0.000000       bnt=0.000000       bnt=0.000000   \n1            bnt=0.000000 eth=0.000000       dai=0.000000       dai=0.000000   \n2           bnt=0.000000 link=0.000000       eth=0.000000       eth=0.000000   \n3  bnt=384000.000000 tkn=384000.000000      link=0.000000      link=0.000000   \n4           bnt=0.000000 wbtc=0.000000  tkn=824000.000000  tkn=824000.000000   \n5                                           wbtc=0.000000      wbtc=0.000000   \n\n       ERC20 Contracts        Vortex External Protection Protocol WalletState  \n0       bnbnt=0.000000  bnt=0.000000        dai=0.000000  bnbnt=192000.000000  \n1       bndai=0.000000                      eth=0.000000                       \n2       bneth=0.000000                     link=0.000000                       \n3      bnlink=0.000000                      bnt=0.000000                       \n4  bntkn=824000.000000                      tkn=0.000000                       \n5      bnwbtc=0.000000                     wbtc=0.000000                       ",
      "text/html": "<div>\n<style scoped>\n    .dataframe tbody tr th:only-of-type {\n        vertical-align: middle;\n    }\n\n    .dataframe tbody tr th {\n        vertical-align: top;\n    }\n\n    .dataframe thead th {\n        text-align: right;\n    }\n</style>\n<table border=\"1\" class=\"dataframe\">\n  <thead>\n    <tr style=\"text-align: right;\">\n      <th></th>\n      <th>Trading Liquidity</th>\n      <th>Vault</th>\n      <th>Staking</th>\n      <th>ERC20 Contracts</th>\n      <th>Vortex</th>\n      <th>External Protection</th>\n      <th>Protocol WalletState</th>\n    </tr>\n  </thead>\n  <tbody>\n    <tr>\n      <th>0</th>\n      <td>bnt=0.000000 dai=0.000000</td>\n      <td>bnt=0.000000</td>\n      <td>bnt=0.000000</td>\n      <td>bnbnt=0.000000</td>\n      <td>bnt=0.000000</td>\n      <td>dai=0.000000</td>\n      <td>bnbnt=192000.000000</td>\n    </tr>\n    <tr>\n      <th>1</th>\n      <td>bnt=0.000000 eth=0.000000</td>\n      <td>dai=0.000000</td>\n      <td>dai=0.000000</td>\n      <td>bndai=0.000000</td>\n      <td></td>\n      <td>eth=0.000000</td>\n      <td></td>\n    </tr>\n    <tr>\n      <th>2</th>\n      <td>bnt=0.000000 link=0.000000</td>\n      <td>eth=0.000000</td>\n      <td>eth=0.000000</td>\n      <td>bneth=0.000000</td>\n      <td></td>\n      <td>link=0.000000</td>\n      <td></td>\n    </tr>\n    <tr>\n      <th>3</th>\n      <td>bnt=384000.000000 tkn=384000.000000</td>\n      <td>link=0.000000</td>\n      <td>link=0.000000</td>\n      <td>bnlink=0.000000</td>\n      <td></td>\n      <td>bnt=0.000000</td>\n      <td></td>\n    </tr>\n    <tr>\n      <th>4</th>\n      <td>bnt=0.000000 wbtc=0.000000</td>\n      <td>tkn=824000.000000</td>\n      <td>tkn=824000.000000</td>\n      <td>bntkn=824000.000000</td>\n      <td></td>\n      <td>tkn=0.000000</td>\n      <td></td>\n    </tr>\n    <tr>\n      <th>5</th>\n      <td></td>\n      <td>wbtc=0.000000</td>\n      <td>wbtc=0.000000</td>\n      <td>bnwbtc=0.000000</td>\n      <td></td>\n      <td>wbtc=0.000000</td>\n      <td></td>\n    </tr>\n  </tbody>\n</table>\n</div>"
     },
     "execution_count": 21,
     "metadata": {},
     "output_type": "execute_result"
    }
   ],
   "source": [
    "timestamp = 14 * 19\n",
    "\n",
    "v3.distribute_autocompounding_program(\n",
    "                                     tkn_name='TKN',\n",
    "                                     timestamp= timestamp)\n",
    "v3.export_test_scenarios()\n",
    "v3.describe()"
   ],
   "metadata": {
    "collapsed": false,
    "pycharm": {
     "name": "#%%\n"
    }
   }
  },
  {
   "cell_type": "code",
   "execution_count": 22,
   "outputs": [
    {
     "data": {
      "text/plain": "                     Trading Liquidity               Vault  \\\n0            bnt=0.000000 dai=0.000000        bnt=0.000000   \n1            bnt=0.000000 eth=0.000000        dai=0.000000   \n2           bnt=0.000000 link=0.000000        eth=0.000000   \n3  bnt=768000.000000 tkn=768000.000000       link=0.000000   \n4           bnt=0.000000 wbtc=0.000000  tkn=1024000.000000   \n5                                            wbtc=0.000000   \n\n              Staking       ERC20 Contracts        Vortex External Protection  \\\n0        bnt=0.000000        bnbnt=0.000000  bnt=0.000000        dai=0.000000   \n1        dai=0.000000        bndai=0.000000                      eth=0.000000   \n2        eth=0.000000        bneth=0.000000                     link=0.000000   \n3       link=0.000000       bnlink=0.000000                      bnt=0.000000   \n4  tkn=1024000.000000  bntkn=1024000.000000                      tkn=0.000000   \n5       wbtc=0.000000       bnwbtc=0.000000                     wbtc=0.000000   \n\n  Protocol WalletState  \n0  bnbnt=384000.000000  \n1                       \n2                       \n3                       \n4                       \n5                       ",
      "text/html": "<div>\n<style scoped>\n    .dataframe tbody tr th:only-of-type {\n        vertical-align: middle;\n    }\n\n    .dataframe tbody tr th {\n        vertical-align: top;\n    }\n\n    .dataframe thead th {\n        text-align: right;\n    }\n</style>\n<table border=\"1\" class=\"dataframe\">\n  <thead>\n    <tr style=\"text-align: right;\">\n      <th></th>\n      <th>Trading Liquidity</th>\n      <th>Vault</th>\n      <th>Staking</th>\n      <th>ERC20 Contracts</th>\n      <th>Vortex</th>\n      <th>External Protection</th>\n      <th>Protocol WalletState</th>\n    </tr>\n  </thead>\n  <tbody>\n    <tr>\n      <th>0</th>\n      <td>bnt=0.000000 dai=0.000000</td>\n      <td>bnt=0.000000</td>\n      <td>bnt=0.000000</td>\n      <td>bnbnt=0.000000</td>\n      <td>bnt=0.000000</td>\n      <td>dai=0.000000</td>\n      <td>bnbnt=384000.000000</td>\n    </tr>\n    <tr>\n      <th>1</th>\n      <td>bnt=0.000000 eth=0.000000</td>\n      <td>dai=0.000000</td>\n      <td>dai=0.000000</td>\n      <td>bndai=0.000000</td>\n      <td></td>\n      <td>eth=0.000000</td>\n      <td></td>\n    </tr>\n    <tr>\n      <th>2</th>\n      <td>bnt=0.000000 link=0.000000</td>\n      <td>eth=0.000000</td>\n      <td>eth=0.000000</td>\n      <td>bneth=0.000000</td>\n      <td></td>\n      <td>link=0.000000</td>\n      <td></td>\n    </tr>\n    <tr>\n      <th>3</th>\n      <td>bnt=768000.000000 tkn=768000.000000</td>\n      <td>link=0.000000</td>\n      <td>link=0.000000</td>\n      <td>bnlink=0.000000</td>\n      <td></td>\n      <td>bnt=0.000000</td>\n      <td></td>\n    </tr>\n    <tr>\n      <th>4</th>\n      <td>bnt=0.000000 wbtc=0.000000</td>\n      <td>tkn=1024000.000000</td>\n      <td>tkn=1024000.000000</td>\n      <td>bntkn=1024000.000000</td>\n      <td></td>\n      <td>tkn=0.000000</td>\n      <td></td>\n    </tr>\n    <tr>\n      <th>5</th>\n      <td></td>\n      <td>wbtc=0.000000</td>\n      <td>wbtc=0.000000</td>\n      <td>bnwbtc=0.000000</td>\n      <td></td>\n      <td>wbtc=0.000000</td>\n      <td></td>\n    </tr>\n  </tbody>\n</table>\n</div>"
     },
     "execution_count": 22,
     "metadata": {},
     "output_type": "execute_result"
    }
   ],
   "source": [
    "timestamp = 14 * 20\n",
    "\n",
    "v3.deposit(tkn_name='TKN', tkn_amt=Decimal('200000'), user_name=user_name, timestamp=timestamp)\n",
    "v3.describe()"
   ],
   "metadata": {
    "collapsed": false,
    "pycharm": {
     "name": "#%%\n"
    }
   }
  },
  {
   "cell_type": "code",
   "execution_count": 23,
   "outputs": [
    {
     "name": "stdout",
     "output_type": "stream",
     "text": [
      "pool_token_amt_to_burn > program_wallet_bntkn, setting pool_token_amt_to_burn=0\n",
      " staked_amt = 1024000.000000000000000000\n",
      " erc20contracts_bntkn = 1024000.000000000000000000\n",
      " program_wallet_bntkn = 0E-18\n",
      " total_rewards = 86400.000000000000000000\n",
      " prev_token_amt_distributed = 0.460273972602739726\n",
      " token_amt_to_distribute = 0.5369863013698630136986301370\n",
      " pool_token_amt_to_burn = 0E-18\n",
      " remaining_rewards = 86399.46301369863013698630137\n",
      "Saved to test_scenarios.json\n"
     ]
    },
    {
     "data": {
      "text/plain": "                     Trading Liquidity               Vault  \\\n0            bnt=0.000000 dai=0.000000        bnt=0.000000   \n1            bnt=0.000000 eth=0.000000        dai=0.000000   \n2           bnt=0.000000 link=0.000000        eth=0.000000   \n3  bnt=768000.000000 tkn=768000.000000       link=0.000000   \n4           bnt=0.000000 wbtc=0.000000  tkn=1024000.000000   \n5                                            wbtc=0.000000   \n\n              Staking       ERC20 Contracts        Vortex External Protection  \\\n0        bnt=0.000000        bnbnt=0.000000  bnt=0.000000        dai=0.000000   \n1        dai=0.000000        bndai=0.000000                      eth=0.000000   \n2        eth=0.000000        bneth=0.000000                     link=0.000000   \n3       link=0.000000       bnlink=0.000000                      bnt=0.000000   \n4  tkn=1024000.000000  bntkn=1024000.000000                      tkn=0.000000   \n5       wbtc=0.000000       bnwbtc=0.000000                     wbtc=0.000000   \n\n  Protocol WalletState  \n0  bnbnt=384000.000000  \n1                       \n2                       \n3                       \n4                       \n5                       ",
      "text/html": "<div>\n<style scoped>\n    .dataframe tbody tr th:only-of-type {\n        vertical-align: middle;\n    }\n\n    .dataframe tbody tr th {\n        vertical-align: top;\n    }\n\n    .dataframe thead th {\n        text-align: right;\n    }\n</style>\n<table border=\"1\" class=\"dataframe\">\n  <thead>\n    <tr style=\"text-align: right;\">\n      <th></th>\n      <th>Trading Liquidity</th>\n      <th>Vault</th>\n      <th>Staking</th>\n      <th>ERC20 Contracts</th>\n      <th>Vortex</th>\n      <th>External Protection</th>\n      <th>Protocol WalletState</th>\n    </tr>\n  </thead>\n  <tbody>\n    <tr>\n      <th>0</th>\n      <td>bnt=0.000000 dai=0.000000</td>\n      <td>bnt=0.000000</td>\n      <td>bnt=0.000000</td>\n      <td>bnbnt=0.000000</td>\n      <td>bnt=0.000000</td>\n      <td>dai=0.000000</td>\n      <td>bnbnt=384000.000000</td>\n    </tr>\n    <tr>\n      <th>1</th>\n      <td>bnt=0.000000 eth=0.000000</td>\n      <td>dai=0.000000</td>\n      <td>dai=0.000000</td>\n      <td>bndai=0.000000</td>\n      <td></td>\n      <td>eth=0.000000</td>\n      <td></td>\n    </tr>\n    <tr>\n      <th>2</th>\n      <td>bnt=0.000000 link=0.000000</td>\n      <td>eth=0.000000</td>\n      <td>eth=0.000000</td>\n      <td>bneth=0.000000</td>\n      <td></td>\n      <td>link=0.000000</td>\n      <td></td>\n    </tr>\n    <tr>\n      <th>3</th>\n      <td>bnt=768000.000000 tkn=768000.000000</td>\n      <td>link=0.000000</td>\n      <td>link=0.000000</td>\n      <td>bnlink=0.000000</td>\n      <td></td>\n      <td>bnt=0.000000</td>\n      <td></td>\n    </tr>\n    <tr>\n      <th>4</th>\n      <td>bnt=0.000000 wbtc=0.000000</td>\n      <td>tkn=1024000.000000</td>\n      <td>tkn=1024000.000000</td>\n      <td>bntkn=1024000.000000</td>\n      <td></td>\n      <td>tkn=0.000000</td>\n      <td></td>\n    </tr>\n    <tr>\n      <th>5</th>\n      <td></td>\n      <td>wbtc=0.000000</td>\n      <td>wbtc=0.000000</td>\n      <td>bnwbtc=0.000000</td>\n      <td></td>\n      <td>wbtc=0.000000</td>\n      <td></td>\n    </tr>\n  </tbody>\n</table>\n</div>"
     },
     "execution_count": 23,
     "metadata": {},
     "output_type": "execute_result"
    }
   ],
   "source": [
    "timestamp = 14 * 21\n",
    "\n",
    "v3.distribute_autocompounding_program(\n",
    "                                     tkn_name='TKN',\n",
    "                                     timestamp= timestamp)\n",
    "v3.export_test_scenarios()\n",
    "v3.describe()"
   ],
   "metadata": {
    "collapsed": false,
    "pycharm": {
     "name": "#%%\n"
    }
   }
  },
  {
   "cell_type": "code",
   "execution_count": 24,
   "outputs": [
    {
     "name": "stdout",
     "output_type": "stream",
     "text": [
      " staked_amt = 1024000.000000000000000000\n",
      " erc20contracts_bntkn = 1024000.000000000000000000\n",
      " program_wallet_bntkn = 0E-18\n",
      " total_rewards = 86400.000000000000000000\n",
      " prev_token_amt_distributed = 0.536986301369863014\n",
      " token_amt_to_distribute = 0.5369863013698630136986301370\n",
      " pool_token_amt_to_burn = -3.013698630000000000000000885E-19\n",
      " remaining_rewards = 86399.46301369863013698630137\n",
      "Saved to test_scenarios.json\n"
     ]
    },
    {
     "data": {
      "text/plain": "                     Trading Liquidity               Vault  \\\n0            bnt=0.000000 dai=0.000000        bnt=0.000000   \n1            bnt=0.000000 eth=0.000000        dai=0.000000   \n2           bnt=0.000000 link=0.000000        eth=0.000000   \n3  bnt=768000.000000 tkn=768000.000000       link=0.000000   \n4           bnt=0.000000 wbtc=0.000000  tkn=1024000.000000   \n5                                            wbtc=0.000000   \n\n              Staking       ERC20 Contracts        Vortex External Protection  \\\n0        bnt=0.000000        bnbnt=0.000000  bnt=0.000000        dai=0.000000   \n1        dai=0.000000        bndai=0.000000                      eth=0.000000   \n2        eth=0.000000        bneth=0.000000                     link=0.000000   \n3       link=0.000000       bnlink=0.000000                      bnt=0.000000   \n4  tkn=1024000.000000  bntkn=1024000.000000                      tkn=0.000000   \n5       wbtc=0.000000       bnwbtc=0.000000                     wbtc=0.000000   \n\n  Protocol WalletState  \n0  bnbnt=384000.000000  \n1                       \n2                       \n3                       \n4                       \n5                       ",
      "text/html": "<div>\n<style scoped>\n    .dataframe tbody tr th:only-of-type {\n        vertical-align: middle;\n    }\n\n    .dataframe tbody tr th {\n        vertical-align: top;\n    }\n\n    .dataframe thead th {\n        text-align: right;\n    }\n</style>\n<table border=\"1\" class=\"dataframe\">\n  <thead>\n    <tr style=\"text-align: right;\">\n      <th></th>\n      <th>Trading Liquidity</th>\n      <th>Vault</th>\n      <th>Staking</th>\n      <th>ERC20 Contracts</th>\n      <th>Vortex</th>\n      <th>External Protection</th>\n      <th>Protocol WalletState</th>\n    </tr>\n  </thead>\n  <tbody>\n    <tr>\n      <th>0</th>\n      <td>bnt=0.000000 dai=0.000000</td>\n      <td>bnt=0.000000</td>\n      <td>bnt=0.000000</td>\n      <td>bnbnt=0.000000</td>\n      <td>bnt=0.000000</td>\n      <td>dai=0.000000</td>\n      <td>bnbnt=384000.000000</td>\n    </tr>\n    <tr>\n      <th>1</th>\n      <td>bnt=0.000000 eth=0.000000</td>\n      <td>dai=0.000000</td>\n      <td>dai=0.000000</td>\n      <td>bndai=0.000000</td>\n      <td></td>\n      <td>eth=0.000000</td>\n      <td></td>\n    </tr>\n    <tr>\n      <th>2</th>\n      <td>bnt=0.000000 link=0.000000</td>\n      <td>eth=0.000000</td>\n      <td>eth=0.000000</td>\n      <td>bneth=0.000000</td>\n      <td></td>\n      <td>link=0.000000</td>\n      <td></td>\n    </tr>\n    <tr>\n      <th>3</th>\n      <td>bnt=768000.000000 tkn=768000.000000</td>\n      <td>link=0.000000</td>\n      <td>link=0.000000</td>\n      <td>bnlink=0.000000</td>\n      <td></td>\n      <td>bnt=0.000000</td>\n      <td></td>\n    </tr>\n    <tr>\n      <th>4</th>\n      <td>bnt=0.000000 wbtc=0.000000</td>\n      <td>tkn=1024000.000000</td>\n      <td>tkn=1024000.000000</td>\n      <td>bntkn=1024000.000000</td>\n      <td></td>\n      <td>tkn=0.000000</td>\n      <td></td>\n    </tr>\n    <tr>\n      <th>5</th>\n      <td></td>\n      <td>wbtc=0.000000</td>\n      <td>wbtc=0.000000</td>\n      <td>bnwbtc=0.000000</td>\n      <td></td>\n      <td>wbtc=0.000000</td>\n      <td></td>\n    </tr>\n  </tbody>\n</table>\n</div>"
     },
     "execution_count": 24,
     "metadata": {},
     "output_type": "execute_result"
    }
   ],
   "source": [
    "timestamp = 14 * 21\n",
    "\n",
    "v3.distribute_autocompounding_program(\n",
    "                                     tkn_name='TKN',\n",
    "                                     timestamp= timestamp)\n",
    "v3.export_test_scenarios()\n",
    "v3.describe()"
   ],
   "metadata": {
    "collapsed": false,
    "pycharm": {
     "name": "#%%\n"
    }
   }
  },
  {
   "cell_type": "code",
   "execution_count": 25,
   "outputs": [
    {
     "name": "stdout",
     "output_type": "stream",
     "text": [
      " staked_amt = 1024000.000000000000000000\n",
      " erc20contracts_bntkn = 1024000.000000000000000000\n",
      " program_wallet_bntkn = 0E-18\n",
      " total_rewards = 86400.000000000000000000\n",
      " prev_token_amt_distributed = 0.536986301369863014\n",
      " token_amt_to_distribute = 0.5369863013698630136986301370\n",
      " pool_token_amt_to_burn = -3.013698630000000000000000885E-19\n",
      " remaining_rewards = 86399.46301369863013698630137\n",
      "Saved to test_scenarios.json\n"
     ]
    },
    {
     "data": {
      "text/plain": "                     Trading Liquidity               Vault  \\\n0            bnt=0.000000 dai=0.000000        bnt=0.000000   \n1            bnt=0.000000 eth=0.000000        dai=0.000000   \n2           bnt=0.000000 link=0.000000        eth=0.000000   \n3  bnt=768000.000000 tkn=768000.000000       link=0.000000   \n4           bnt=0.000000 wbtc=0.000000  tkn=1024000.000000   \n5                                            wbtc=0.000000   \n\n              Staking       ERC20 Contracts        Vortex External Protection  \\\n0        bnt=0.000000        bnbnt=0.000000  bnt=0.000000        dai=0.000000   \n1        dai=0.000000        bndai=0.000000                      eth=0.000000   \n2        eth=0.000000        bneth=0.000000                     link=0.000000   \n3       link=0.000000       bnlink=0.000000                      bnt=0.000000   \n4  tkn=1024000.000000  bntkn=1024000.000000                      tkn=0.000000   \n5       wbtc=0.000000       bnwbtc=0.000000                     wbtc=0.000000   \n\n  Protocol WalletState  \n0  bnbnt=384000.000000  \n1                       \n2                       \n3                       \n4                       \n5                       ",
      "text/html": "<div>\n<style scoped>\n    .dataframe tbody tr th:only-of-type {\n        vertical-align: middle;\n    }\n\n    .dataframe tbody tr th {\n        vertical-align: top;\n    }\n\n    .dataframe thead th {\n        text-align: right;\n    }\n</style>\n<table border=\"1\" class=\"dataframe\">\n  <thead>\n    <tr style=\"text-align: right;\">\n      <th></th>\n      <th>Trading Liquidity</th>\n      <th>Vault</th>\n      <th>Staking</th>\n      <th>ERC20 Contracts</th>\n      <th>Vortex</th>\n      <th>External Protection</th>\n      <th>Protocol WalletState</th>\n    </tr>\n  </thead>\n  <tbody>\n    <tr>\n      <th>0</th>\n      <td>bnt=0.000000 dai=0.000000</td>\n      <td>bnt=0.000000</td>\n      <td>bnt=0.000000</td>\n      <td>bnbnt=0.000000</td>\n      <td>bnt=0.000000</td>\n      <td>dai=0.000000</td>\n      <td>bnbnt=384000.000000</td>\n    </tr>\n    <tr>\n      <th>1</th>\n      <td>bnt=0.000000 eth=0.000000</td>\n      <td>dai=0.000000</td>\n      <td>dai=0.000000</td>\n      <td>bndai=0.000000</td>\n      <td></td>\n      <td>eth=0.000000</td>\n      <td></td>\n    </tr>\n    <tr>\n      <th>2</th>\n      <td>bnt=0.000000 link=0.000000</td>\n      <td>eth=0.000000</td>\n      <td>eth=0.000000</td>\n      <td>bneth=0.000000</td>\n      <td></td>\n      <td>link=0.000000</td>\n      <td></td>\n    </tr>\n    <tr>\n      <th>3</th>\n      <td>bnt=768000.000000 tkn=768000.000000</td>\n      <td>link=0.000000</td>\n      <td>link=0.000000</td>\n      <td>bnlink=0.000000</td>\n      <td></td>\n      <td>bnt=0.000000</td>\n      <td></td>\n    </tr>\n    <tr>\n      <th>4</th>\n      <td>bnt=0.000000 wbtc=0.000000</td>\n      <td>tkn=1024000.000000</td>\n      <td>tkn=1024000.000000</td>\n      <td>bntkn=1024000.000000</td>\n      <td></td>\n      <td>tkn=0.000000</td>\n      <td></td>\n    </tr>\n    <tr>\n      <th>5</th>\n      <td></td>\n      <td>wbtc=0.000000</td>\n      <td>wbtc=0.000000</td>\n      <td>bnwbtc=0.000000</td>\n      <td></td>\n      <td>wbtc=0.000000</td>\n      <td></td>\n    </tr>\n  </tbody>\n</table>\n</div>"
     },
     "execution_count": 25,
     "metadata": {},
     "output_type": "execute_result"
    }
   ],
   "source": [
    "timestamp = 14 * 21\n",
    "\n",
    "v3.distribute_autocompounding_program(\n",
    "                                     tkn_name='TKN',\n",
    "                                     timestamp= timestamp)\n",
    "v3.export_test_scenarios()\n",
    "v3.describe()"
   ],
   "metadata": {
    "collapsed": false,
    "pycharm": {
     "name": "#%%\n"
    }
   }
  },
  {
   "cell_type": "code",
   "execution_count": 26,
   "outputs": [
    {
     "name": "stdout",
     "output_type": "stream",
     "text": [
      "pool_token_amt_to_burn > program_wallet_bntkn, setting pool_token_amt_to_burn=0\n",
      " staked_amt = 1024000.000000000000000000\n",
      " erc20contracts_bntkn = 1024000.000000000000000000\n",
      " program_wallet_bntkn = 0E-18\n",
      " total_rewards = 86400.000000000000000000\n",
      " prev_token_amt_distributed = 0.536986301369863014\n",
      " token_amt_to_distribute = 7.786301369863013698630136987\n",
      " pool_token_amt_to_burn = 0E-18\n",
      " remaining_rewards = 86392.21369863013698630136986\n",
      "Saved to test_scenarios.json\n"
     ]
    },
    {
     "data": {
      "text/plain": "                     Trading Liquidity               Vault  \\\n0            bnt=0.000000 dai=0.000000        bnt=0.000000   \n1            bnt=0.000000 eth=0.000000        dai=0.000000   \n2           bnt=0.000000 link=0.000000        eth=0.000000   \n3  bnt=768000.000000 tkn=768000.000000       link=0.000000   \n4           bnt=0.000000 wbtc=0.000000  tkn=1024000.000000   \n5                                            wbtc=0.000000   \n\n              Staking       ERC20 Contracts        Vortex External Protection  \\\n0        bnt=0.000000        bnbnt=0.000000  bnt=0.000000        dai=0.000000   \n1        dai=0.000000        bndai=0.000000                      eth=0.000000   \n2        eth=0.000000        bneth=0.000000                     link=0.000000   \n3       link=0.000000       bnlink=0.000000                      bnt=0.000000   \n4  tkn=1024000.000000  bntkn=1024000.000000                      tkn=0.000000   \n5       wbtc=0.000000       bnwbtc=0.000000                     wbtc=0.000000   \n\n  Protocol WalletState  \n0  bnbnt=384000.000000  \n1                       \n2                       \n3                       \n4                       \n5                       ",
      "text/html": "<div>\n<style scoped>\n    .dataframe tbody tr th:only-of-type {\n        vertical-align: middle;\n    }\n\n    .dataframe tbody tr th {\n        vertical-align: top;\n    }\n\n    .dataframe thead th {\n        text-align: right;\n    }\n</style>\n<table border=\"1\" class=\"dataframe\">\n  <thead>\n    <tr style=\"text-align: right;\">\n      <th></th>\n      <th>Trading Liquidity</th>\n      <th>Vault</th>\n      <th>Staking</th>\n      <th>ERC20 Contracts</th>\n      <th>Vortex</th>\n      <th>External Protection</th>\n      <th>Protocol WalletState</th>\n    </tr>\n  </thead>\n  <tbody>\n    <tr>\n      <th>0</th>\n      <td>bnt=0.000000 dai=0.000000</td>\n      <td>bnt=0.000000</td>\n      <td>bnt=0.000000</td>\n      <td>bnbnt=0.000000</td>\n      <td>bnt=0.000000</td>\n      <td>dai=0.000000</td>\n      <td>bnbnt=384000.000000</td>\n    </tr>\n    <tr>\n      <th>1</th>\n      <td>bnt=0.000000 eth=0.000000</td>\n      <td>dai=0.000000</td>\n      <td>dai=0.000000</td>\n      <td>bndai=0.000000</td>\n      <td></td>\n      <td>eth=0.000000</td>\n      <td></td>\n    </tr>\n    <tr>\n      <th>2</th>\n      <td>bnt=0.000000 link=0.000000</td>\n      <td>eth=0.000000</td>\n      <td>eth=0.000000</td>\n      <td>bneth=0.000000</td>\n      <td></td>\n      <td>link=0.000000</td>\n      <td></td>\n    </tr>\n    <tr>\n      <th>3</th>\n      <td>bnt=768000.000000 tkn=768000.000000</td>\n      <td>link=0.000000</td>\n      <td>link=0.000000</td>\n      <td>bnlink=0.000000</td>\n      <td></td>\n      <td>bnt=0.000000</td>\n      <td></td>\n    </tr>\n    <tr>\n      <th>4</th>\n      <td>bnt=0.000000 wbtc=0.000000</td>\n      <td>tkn=1024000.000000</td>\n      <td>tkn=1024000.000000</td>\n      <td>bntkn=1024000.000000</td>\n      <td></td>\n      <td>tkn=0.000000</td>\n      <td></td>\n    </tr>\n    <tr>\n      <th>5</th>\n      <td></td>\n      <td>wbtc=0.000000</td>\n      <td>wbtc=0.000000</td>\n      <td>bnwbtc=0.000000</td>\n      <td></td>\n      <td>wbtc=0.000000</td>\n      <td></td>\n    </tr>\n  </tbody>\n</table>\n</div>"
     },
     "execution_count": 26,
     "metadata": {},
     "output_type": "execute_result"
    }
   ],
   "source": [
    "timestamp = 14 * 210\n",
    "\n",
    "v3.distribute_autocompounding_program(\n",
    "                                     tkn_name='TKN',\n",
    "                                     timestamp= timestamp)\n",
    "v3.export_test_scenarios()\n",
    "v3.describe()"
   ],
   "metadata": {
    "collapsed": false,
    "pycharm": {
     "name": "#%%\n"
    }
   }
  },
  {
   "cell_type": "code",
   "execution_count": 27,
   "outputs": [
    {
     "name": "stdout",
     "output_type": "stream",
     "text": [
      " staked_amt = 1024000.000000000000000000\n",
      " erc20contracts_bntkn = 1024000.000000000000000000\n",
      " program_wallet_bntkn = 0E-18\n",
      " total_rewards = 86400.000000000000000000\n",
      " prev_token_amt_distributed = 7.786301369863013699\n",
      " token_amt_to_distribute = 7.786301369863013698630136987\n",
      " pool_token_amt_to_burn = -3.698630130000000000000001337E-19\n",
      " remaining_rewards = 86392.21369863013698630136986\n",
      "Saved to test_scenarios.json\n"
     ]
    },
    {
     "data": {
      "text/plain": "                     Trading Liquidity               Vault  \\\n0            bnt=0.000000 dai=0.000000        bnt=0.000000   \n1            bnt=0.000000 eth=0.000000        dai=0.000000   \n2           bnt=0.000000 link=0.000000        eth=0.000000   \n3  bnt=768000.000000 tkn=768000.000000       link=0.000000   \n4           bnt=0.000000 wbtc=0.000000  tkn=1024000.000000   \n5                                            wbtc=0.000000   \n\n              Staking       ERC20 Contracts        Vortex External Protection  \\\n0        bnt=0.000000        bnbnt=0.000000  bnt=0.000000        dai=0.000000   \n1        dai=0.000000        bndai=0.000000                      eth=0.000000   \n2        eth=0.000000        bneth=0.000000                     link=0.000000   \n3       link=0.000000       bnlink=0.000000                      bnt=0.000000   \n4  tkn=1024000.000000  bntkn=1024000.000000                      tkn=0.000000   \n5       wbtc=0.000000       bnwbtc=0.000000                     wbtc=0.000000   \n\n  Protocol WalletState  \n0  bnbnt=384000.000000  \n1                       \n2                       \n3                       \n4                       \n5                       ",
      "text/html": "<div>\n<style scoped>\n    .dataframe tbody tr th:only-of-type {\n        vertical-align: middle;\n    }\n\n    .dataframe tbody tr th {\n        vertical-align: top;\n    }\n\n    .dataframe thead th {\n        text-align: right;\n    }\n</style>\n<table border=\"1\" class=\"dataframe\">\n  <thead>\n    <tr style=\"text-align: right;\">\n      <th></th>\n      <th>Trading Liquidity</th>\n      <th>Vault</th>\n      <th>Staking</th>\n      <th>ERC20 Contracts</th>\n      <th>Vortex</th>\n      <th>External Protection</th>\n      <th>Protocol WalletState</th>\n    </tr>\n  </thead>\n  <tbody>\n    <tr>\n      <th>0</th>\n      <td>bnt=0.000000 dai=0.000000</td>\n      <td>bnt=0.000000</td>\n      <td>bnt=0.000000</td>\n      <td>bnbnt=0.000000</td>\n      <td>bnt=0.000000</td>\n      <td>dai=0.000000</td>\n      <td>bnbnt=384000.000000</td>\n    </tr>\n    <tr>\n      <th>1</th>\n      <td>bnt=0.000000 eth=0.000000</td>\n      <td>dai=0.000000</td>\n      <td>dai=0.000000</td>\n      <td>bndai=0.000000</td>\n      <td></td>\n      <td>eth=0.000000</td>\n      <td></td>\n    </tr>\n    <tr>\n      <th>2</th>\n      <td>bnt=0.000000 link=0.000000</td>\n      <td>eth=0.000000</td>\n      <td>eth=0.000000</td>\n      <td>bneth=0.000000</td>\n      <td></td>\n      <td>link=0.000000</td>\n      <td></td>\n    </tr>\n    <tr>\n      <th>3</th>\n      <td>bnt=768000.000000 tkn=768000.000000</td>\n      <td>link=0.000000</td>\n      <td>link=0.000000</td>\n      <td>bnlink=0.000000</td>\n      <td></td>\n      <td>bnt=0.000000</td>\n      <td></td>\n    </tr>\n    <tr>\n      <th>4</th>\n      <td>bnt=0.000000 wbtc=0.000000</td>\n      <td>tkn=1024000.000000</td>\n      <td>tkn=1024000.000000</td>\n      <td>bntkn=1024000.000000</td>\n      <td></td>\n      <td>tkn=0.000000</td>\n      <td></td>\n    </tr>\n    <tr>\n      <th>5</th>\n      <td></td>\n      <td>wbtc=0.000000</td>\n      <td>wbtc=0.000000</td>\n      <td>bnwbtc=0.000000</td>\n      <td></td>\n      <td>wbtc=0.000000</td>\n      <td></td>\n    </tr>\n  </tbody>\n</table>\n</div>"
     },
     "execution_count": 27,
     "metadata": {},
     "output_type": "execute_result"
    }
   ],
   "source": [
    "timestamp = 14 * 210\n",
    "\n",
    "v3.distribute_autocompounding_program(\n",
    "                                     tkn_name='TKN',\n",
    "                                     timestamp= timestamp)\n",
    "v3.export_test_scenarios()\n",
    "v3.describe()"
   ],
   "metadata": {
    "collapsed": false,
    "pycharm": {
     "name": "#%%\n"
    }
   }
  },
  {
   "cell_type": "code",
   "execution_count": 28,
   "outputs": [
    {
     "name": "stdout",
     "output_type": "stream",
     "text": [
      "pool_token_amt_to_burn > program_wallet_bntkn, setting pool_token_amt_to_burn=0\n",
      " staked_amt = 1024000.000000000000000000\n",
      " erc20contracts_bntkn = 1024000.000000000000000000\n",
      " program_wallet_bntkn = 0E-18\n",
      " total_rewards = 86400.000000000000000000\n",
      " prev_token_amt_distributed = 7.786301369863013699\n",
      " token_amt_to_distribute = 80.27945205479452054794520549\n",
      " pool_token_amt_to_burn = 0E-18\n",
      " remaining_rewards = 86319.72054794520547945205479\n",
      "Saved to test_scenarios.json\n"
     ]
    },
    {
     "data": {
      "text/plain": "                     Trading Liquidity               Vault  \\\n0            bnt=0.000000 dai=0.000000        bnt=0.000000   \n1            bnt=0.000000 eth=0.000000        dai=0.000000   \n2           bnt=0.000000 link=0.000000        eth=0.000000   \n3  bnt=768000.000000 tkn=768000.000000       link=0.000000   \n4           bnt=0.000000 wbtc=0.000000  tkn=1024000.000000   \n5                                            wbtc=0.000000   \n\n              Staking       ERC20 Contracts        Vortex External Protection  \\\n0        bnt=0.000000        bnbnt=0.000000  bnt=0.000000        dai=0.000000   \n1        dai=0.000000        bndai=0.000000                      eth=0.000000   \n2        eth=0.000000        bneth=0.000000                     link=0.000000   \n3       link=0.000000       bnlink=0.000000                      bnt=0.000000   \n4  tkn=1024000.000000  bntkn=1024000.000000                      tkn=0.000000   \n5       wbtc=0.000000       bnwbtc=0.000000                     wbtc=0.000000   \n\n  Protocol WalletState  \n0  bnbnt=384000.000000  \n1                       \n2                       \n3                       \n4                       \n5                       ",
      "text/html": "<div>\n<style scoped>\n    .dataframe tbody tr th:only-of-type {\n        vertical-align: middle;\n    }\n\n    .dataframe tbody tr th {\n        vertical-align: top;\n    }\n\n    .dataframe thead th {\n        text-align: right;\n    }\n</style>\n<table border=\"1\" class=\"dataframe\">\n  <thead>\n    <tr style=\"text-align: right;\">\n      <th></th>\n      <th>Trading Liquidity</th>\n      <th>Vault</th>\n      <th>Staking</th>\n      <th>ERC20 Contracts</th>\n      <th>Vortex</th>\n      <th>External Protection</th>\n      <th>Protocol WalletState</th>\n    </tr>\n  </thead>\n  <tbody>\n    <tr>\n      <th>0</th>\n      <td>bnt=0.000000 dai=0.000000</td>\n      <td>bnt=0.000000</td>\n      <td>bnt=0.000000</td>\n      <td>bnbnt=0.000000</td>\n      <td>bnt=0.000000</td>\n      <td>dai=0.000000</td>\n      <td>bnbnt=384000.000000</td>\n    </tr>\n    <tr>\n      <th>1</th>\n      <td>bnt=0.000000 eth=0.000000</td>\n      <td>dai=0.000000</td>\n      <td>dai=0.000000</td>\n      <td>bndai=0.000000</td>\n      <td></td>\n      <td>eth=0.000000</td>\n      <td></td>\n    </tr>\n    <tr>\n      <th>2</th>\n      <td>bnt=0.000000 link=0.000000</td>\n      <td>eth=0.000000</td>\n      <td>eth=0.000000</td>\n      <td>bneth=0.000000</td>\n      <td></td>\n      <td>link=0.000000</td>\n      <td></td>\n    </tr>\n    <tr>\n      <th>3</th>\n      <td>bnt=768000.000000 tkn=768000.000000</td>\n      <td>link=0.000000</td>\n      <td>link=0.000000</td>\n      <td>bnlink=0.000000</td>\n      <td></td>\n      <td>bnt=0.000000</td>\n      <td></td>\n    </tr>\n    <tr>\n      <th>4</th>\n      <td>bnt=0.000000 wbtc=0.000000</td>\n      <td>tkn=1024000.000000</td>\n      <td>tkn=1024000.000000</td>\n      <td>bntkn=1024000.000000</td>\n      <td></td>\n      <td>tkn=0.000000</td>\n      <td></td>\n    </tr>\n    <tr>\n      <th>5</th>\n      <td></td>\n      <td>wbtc=0.000000</td>\n      <td>wbtc=0.000000</td>\n      <td>bnwbtc=0.000000</td>\n      <td></td>\n      <td>wbtc=0.000000</td>\n      <td></td>\n    </tr>\n  </tbody>\n</table>\n</div>"
     },
     "execution_count": 28,
     "metadata": {},
     "output_type": "execute_result"
    }
   ],
   "source": [
    "timestamp = 14 * 2100\n",
    "\n",
    "v3.distribute_autocompounding_program(\n",
    "                                     tkn_name='TKN',\n",
    "                                     timestamp= timestamp)\n",
    "v3.export_test_scenarios()\n",
    "v3.describe()"
   ],
   "metadata": {
    "collapsed": false,
    "pycharm": {
     "name": "#%%\n"
    }
   }
  },
  {
   "cell_type": "code",
   "execution_count": 29,
   "outputs": [
    {
     "name": "stdout",
     "output_type": "stream",
     "text": [
      " staked_amt = 1024000.000000000000000000\n",
      " erc20contracts_bntkn = 1024000.000000000000000000\n",
      " program_wallet_bntkn = 0E-18\n",
      " total_rewards = 86400.000000000000000000\n",
      " prev_token_amt_distributed = 80.279452054794520548\n",
      " token_amt_to_distribute = 80.27945205479452054794520549\n",
      " pool_token_amt_to_burn = -5.479451000000000000000000293E-20\n",
      " remaining_rewards = 86319.72054794520547945205479\n",
      "Saved to test_scenarios.json\n"
     ]
    },
    {
     "data": {
      "text/plain": "                     Trading Liquidity               Vault  \\\n0            bnt=0.000000 dai=0.000000        bnt=0.000000   \n1            bnt=0.000000 eth=0.000000        dai=0.000000   \n2           bnt=0.000000 link=0.000000        eth=0.000000   \n3  bnt=768000.000000 tkn=768000.000000       link=0.000000   \n4           bnt=0.000000 wbtc=0.000000  tkn=1024000.000000   \n5                                            wbtc=0.000000   \n\n              Staking       ERC20 Contracts        Vortex External Protection  \\\n0        bnt=0.000000        bnbnt=0.000000  bnt=0.000000        dai=0.000000   \n1        dai=0.000000        bndai=0.000000                      eth=0.000000   \n2        eth=0.000000        bneth=0.000000                     link=0.000000   \n3       link=0.000000       bnlink=0.000000                      bnt=0.000000   \n4  tkn=1024000.000000  bntkn=1024000.000000                      tkn=0.000000   \n5       wbtc=0.000000       bnwbtc=0.000000                     wbtc=0.000000   \n\n  Protocol WalletState  \n0  bnbnt=384000.000000  \n1                       \n2                       \n3                       \n4                       \n5                       ",
      "text/html": "<div>\n<style scoped>\n    .dataframe tbody tr th:only-of-type {\n        vertical-align: middle;\n    }\n\n    .dataframe tbody tr th {\n        vertical-align: top;\n    }\n\n    .dataframe thead th {\n        text-align: right;\n    }\n</style>\n<table border=\"1\" class=\"dataframe\">\n  <thead>\n    <tr style=\"text-align: right;\">\n      <th></th>\n      <th>Trading Liquidity</th>\n      <th>Vault</th>\n      <th>Staking</th>\n      <th>ERC20 Contracts</th>\n      <th>Vortex</th>\n      <th>External Protection</th>\n      <th>Protocol WalletState</th>\n    </tr>\n  </thead>\n  <tbody>\n    <tr>\n      <th>0</th>\n      <td>bnt=0.000000 dai=0.000000</td>\n      <td>bnt=0.000000</td>\n      <td>bnt=0.000000</td>\n      <td>bnbnt=0.000000</td>\n      <td>bnt=0.000000</td>\n      <td>dai=0.000000</td>\n      <td>bnbnt=384000.000000</td>\n    </tr>\n    <tr>\n      <th>1</th>\n      <td>bnt=0.000000 eth=0.000000</td>\n      <td>dai=0.000000</td>\n      <td>dai=0.000000</td>\n      <td>bndai=0.000000</td>\n      <td></td>\n      <td>eth=0.000000</td>\n      <td></td>\n    </tr>\n    <tr>\n      <th>2</th>\n      <td>bnt=0.000000 link=0.000000</td>\n      <td>eth=0.000000</td>\n      <td>eth=0.000000</td>\n      <td>bneth=0.000000</td>\n      <td></td>\n      <td>link=0.000000</td>\n      <td></td>\n    </tr>\n    <tr>\n      <th>3</th>\n      <td>bnt=768000.000000 tkn=768000.000000</td>\n      <td>link=0.000000</td>\n      <td>link=0.000000</td>\n      <td>bnlink=0.000000</td>\n      <td></td>\n      <td>bnt=0.000000</td>\n      <td></td>\n    </tr>\n    <tr>\n      <th>4</th>\n      <td>bnt=0.000000 wbtc=0.000000</td>\n      <td>tkn=1024000.000000</td>\n      <td>tkn=1024000.000000</td>\n      <td>bntkn=1024000.000000</td>\n      <td></td>\n      <td>tkn=0.000000</td>\n      <td></td>\n    </tr>\n    <tr>\n      <th>5</th>\n      <td></td>\n      <td>wbtc=0.000000</td>\n      <td>wbtc=0.000000</td>\n      <td>bnwbtc=0.000000</td>\n      <td></td>\n      <td>wbtc=0.000000</td>\n      <td></td>\n    </tr>\n  </tbody>\n</table>\n</div>"
     },
     "execution_count": 29,
     "metadata": {},
     "output_type": "execute_result"
    }
   ],
   "source": [
    "timestamp = 14 * 2100\n",
    "\n",
    "v3.distribute_autocompounding_program(\n",
    "                                     tkn_name='TKN',\n",
    "                                     timestamp= timestamp)\n",
    "v3.export_test_scenarios()\n",
    "v3.describe()"
   ],
   "metadata": {
    "collapsed": false,
    "pycharm": {
     "name": "#%%\n"
    }
   }
  },
  {
   "cell_type": "code",
   "execution_count": 29,
   "outputs": [],
   "source": [],
   "metadata": {
    "collapsed": false,
    "pycharm": {
     "name": "#%%\n"
    }
   }
  },
  {
   "cell_type": "code",
   "execution_count": 30,
   "outputs": [
    {
     "name": "stdout",
     "output_type": "stream",
     "text": [
      "pool_token_amt_to_burn > program_wallet_bntkn, setting pool_token_amt_to_burn=0\n",
      " staked_amt = 1024000.000000000000000000\n",
      " erc20contracts_bntkn = 1024000.000000000000000000\n",
      " program_wallet_bntkn = 0E-18\n",
      " total_rewards = 86400.000000000000000000\n",
      " prev_token_amt_distributed = 80.279452054794520548\n",
      " token_amt_to_distribute = 160.8273972602739726027397260\n",
      " pool_token_amt_to_burn = 0E-18\n",
      " remaining_rewards = 86239.17260273972602739726027\n",
      "Saved to test_scenarios.json\n"
     ]
    },
    {
     "data": {
      "text/plain": "                     Trading Liquidity               Vault  \\\n0            bnt=0.000000 dai=0.000000        bnt=0.000000   \n1            bnt=0.000000 eth=0.000000        dai=0.000000   \n2           bnt=0.000000 link=0.000000        eth=0.000000   \n3  bnt=768000.000000 tkn=768000.000000       link=0.000000   \n4           bnt=0.000000 wbtc=0.000000  tkn=1024000.000000   \n5                                            wbtc=0.000000   \n\n              Staking       ERC20 Contracts        Vortex External Protection  \\\n0        bnt=0.000000        bnbnt=0.000000  bnt=0.000000        dai=0.000000   \n1        dai=0.000000        bndai=0.000000                      eth=0.000000   \n2        eth=0.000000        bneth=0.000000                     link=0.000000   \n3       link=0.000000       bnlink=0.000000                      bnt=0.000000   \n4  tkn=1024000.000000  bntkn=1024000.000000                      tkn=0.000000   \n5       wbtc=0.000000       bnwbtc=0.000000                     wbtc=0.000000   \n\n  Protocol WalletState  \n0  bnbnt=384000.000000  \n1                       \n2                       \n3                       \n4                       \n5                       ",
      "text/html": "<div>\n<style scoped>\n    .dataframe tbody tr th:only-of-type {\n        vertical-align: middle;\n    }\n\n    .dataframe tbody tr th {\n        vertical-align: top;\n    }\n\n    .dataframe thead th {\n        text-align: right;\n    }\n</style>\n<table border=\"1\" class=\"dataframe\">\n  <thead>\n    <tr style=\"text-align: right;\">\n      <th></th>\n      <th>Trading Liquidity</th>\n      <th>Vault</th>\n      <th>Staking</th>\n      <th>ERC20 Contracts</th>\n      <th>Vortex</th>\n      <th>External Protection</th>\n      <th>Protocol WalletState</th>\n    </tr>\n  </thead>\n  <tbody>\n    <tr>\n      <th>0</th>\n      <td>bnt=0.000000 dai=0.000000</td>\n      <td>bnt=0.000000</td>\n      <td>bnt=0.000000</td>\n      <td>bnbnt=0.000000</td>\n      <td>bnt=0.000000</td>\n      <td>dai=0.000000</td>\n      <td>bnbnt=384000.000000</td>\n    </tr>\n    <tr>\n      <th>1</th>\n      <td>bnt=0.000000 eth=0.000000</td>\n      <td>dai=0.000000</td>\n      <td>dai=0.000000</td>\n      <td>bndai=0.000000</td>\n      <td></td>\n      <td>eth=0.000000</td>\n      <td></td>\n    </tr>\n    <tr>\n      <th>2</th>\n      <td>bnt=0.000000 link=0.000000</td>\n      <td>eth=0.000000</td>\n      <td>eth=0.000000</td>\n      <td>bneth=0.000000</td>\n      <td></td>\n      <td>link=0.000000</td>\n      <td></td>\n    </tr>\n    <tr>\n      <th>3</th>\n      <td>bnt=768000.000000 tkn=768000.000000</td>\n      <td>link=0.000000</td>\n      <td>link=0.000000</td>\n      <td>bnlink=0.000000</td>\n      <td></td>\n      <td>bnt=0.000000</td>\n      <td></td>\n    </tr>\n    <tr>\n      <th>4</th>\n      <td>bnt=0.000000 wbtc=0.000000</td>\n      <td>tkn=1024000.000000</td>\n      <td>tkn=1024000.000000</td>\n      <td>bntkn=1024000.000000</td>\n      <td></td>\n      <td>tkn=0.000000</td>\n      <td></td>\n    </tr>\n    <tr>\n      <th>5</th>\n      <td></td>\n      <td>wbtc=0.000000</td>\n      <td>wbtc=0.000000</td>\n      <td>bnwbtc=0.000000</td>\n      <td></td>\n      <td>wbtc=0.000000</td>\n      <td></td>\n    </tr>\n  </tbody>\n</table>\n</div>"
     },
     "execution_count": 30,
     "metadata": {},
     "output_type": "execute_result"
    }
   ],
   "source": [
    "timestamp = 14 * 4200\n",
    "\n",
    "v3.distribute_autocompounding_program(\n",
    "                                     tkn_name='TKN',\n",
    "                                     timestamp= timestamp)\n",
    "v3.export_test_scenarios()\n",
    "v3.describe()"
   ],
   "metadata": {
    "collapsed": false,
    "pycharm": {
     "name": "#%%\n"
    }
   }
  },
  {
   "cell_type": "code",
   "execution_count": 31,
   "outputs": [
    {
     "name": "stdout",
     "output_type": "stream",
     "text": [
      " staked_amt = 1024000.000000000000000000\n",
      " erc20contracts_bntkn = 1024000.000000000000000000\n",
      " program_wallet_bntkn = 0E-18\n",
      " total_rewards = 86400.000000000000000000\n",
      " prev_token_amt_distributed = 160.827397260273972603\n",
      " token_amt_to_distribute = 160.8273972602739726027397260\n",
      " pool_token_amt_to_burn = -2.602740000000000000000000660E-19\n",
      " remaining_rewards = 86239.17260273972602739726027\n",
      "Saved to test_scenarios.json\n"
     ]
    },
    {
     "data": {
      "text/plain": "                     Trading Liquidity               Vault  \\\n0            bnt=0.000000 dai=0.000000        bnt=0.000000   \n1            bnt=0.000000 eth=0.000000        dai=0.000000   \n2           bnt=0.000000 link=0.000000        eth=0.000000   \n3  bnt=768000.000000 tkn=768000.000000       link=0.000000   \n4           bnt=0.000000 wbtc=0.000000  tkn=1024000.000000   \n5                                            wbtc=0.000000   \n\n              Staking       ERC20 Contracts        Vortex External Protection  \\\n0        bnt=0.000000        bnbnt=0.000000  bnt=0.000000        dai=0.000000   \n1        dai=0.000000        bndai=0.000000                      eth=0.000000   \n2        eth=0.000000        bneth=0.000000                     link=0.000000   \n3       link=0.000000       bnlink=0.000000                      bnt=0.000000   \n4  tkn=1024000.000000  bntkn=1024000.000000                      tkn=0.000000   \n5       wbtc=0.000000       bnwbtc=0.000000                     wbtc=0.000000   \n\n  Protocol WalletState  \n0  bnbnt=384000.000000  \n1                       \n2                       \n3                       \n4                       \n5                       ",
      "text/html": "<div>\n<style scoped>\n    .dataframe tbody tr th:only-of-type {\n        vertical-align: middle;\n    }\n\n    .dataframe tbody tr th {\n        vertical-align: top;\n    }\n\n    .dataframe thead th {\n        text-align: right;\n    }\n</style>\n<table border=\"1\" class=\"dataframe\">\n  <thead>\n    <tr style=\"text-align: right;\">\n      <th></th>\n      <th>Trading Liquidity</th>\n      <th>Vault</th>\n      <th>Staking</th>\n      <th>ERC20 Contracts</th>\n      <th>Vortex</th>\n      <th>External Protection</th>\n      <th>Protocol WalletState</th>\n    </tr>\n  </thead>\n  <tbody>\n    <tr>\n      <th>0</th>\n      <td>bnt=0.000000 dai=0.000000</td>\n      <td>bnt=0.000000</td>\n      <td>bnt=0.000000</td>\n      <td>bnbnt=0.000000</td>\n      <td>bnt=0.000000</td>\n      <td>dai=0.000000</td>\n      <td>bnbnt=384000.000000</td>\n    </tr>\n    <tr>\n      <th>1</th>\n      <td>bnt=0.000000 eth=0.000000</td>\n      <td>dai=0.000000</td>\n      <td>dai=0.000000</td>\n      <td>bndai=0.000000</td>\n      <td></td>\n      <td>eth=0.000000</td>\n      <td></td>\n    </tr>\n    <tr>\n      <th>2</th>\n      <td>bnt=0.000000 link=0.000000</td>\n      <td>eth=0.000000</td>\n      <td>eth=0.000000</td>\n      <td>bneth=0.000000</td>\n      <td></td>\n      <td>link=0.000000</td>\n      <td></td>\n    </tr>\n    <tr>\n      <th>3</th>\n      <td>bnt=768000.000000 tkn=768000.000000</td>\n      <td>link=0.000000</td>\n      <td>link=0.000000</td>\n      <td>bnlink=0.000000</td>\n      <td></td>\n      <td>bnt=0.000000</td>\n      <td></td>\n    </tr>\n    <tr>\n      <th>4</th>\n      <td>bnt=0.000000 wbtc=0.000000</td>\n      <td>tkn=1024000.000000</td>\n      <td>tkn=1024000.000000</td>\n      <td>bntkn=1024000.000000</td>\n      <td></td>\n      <td>tkn=0.000000</td>\n      <td></td>\n    </tr>\n    <tr>\n      <th>5</th>\n      <td></td>\n      <td>wbtc=0.000000</td>\n      <td>wbtc=0.000000</td>\n      <td>bnwbtc=0.000000</td>\n      <td></td>\n      <td>wbtc=0.000000</td>\n      <td></td>\n    </tr>\n  </tbody>\n</table>\n</div>"
     },
     "execution_count": 31,
     "metadata": {},
     "output_type": "execute_result"
    }
   ],
   "source": [
    "timestamp = 14 * 4200\n",
    "\n",
    "v3.distribute_autocompounding_program(\n",
    "                                     tkn_name='TKN',\n",
    "                                     timestamp= timestamp)\n",
    "v3.export_test_scenarios()\n",
    "v3.describe()"
   ],
   "metadata": {
    "collapsed": false,
    "pycharm": {
     "name": "#%%\n"
    }
   }
  },
  {
   "cell_type": "code",
   "execution_count": 32,
   "outputs": [
    {
     "name": "stdout",
     "output_type": "stream",
     "text": [
      "pool_token_amt_to_burn > program_wallet_bntkn, setting pool_token_amt_to_burn=0\n",
      " staked_amt = 1024000.000000000000000000\n",
      " erc20contracts_bntkn = 1024000.000000000000000000\n",
      " program_wallet_bntkn = 0E-18\n",
      " total_rewards = 86400.000000000000000000\n",
      " prev_token_amt_distributed = 160.827397260273972603\n",
      " token_amt_to_distribute = 321.9232876712328767123287672\n",
      " pool_token_amt_to_burn = 0E-18\n",
      " remaining_rewards = 86078.07671232876712328767123\n",
      "Saved to test_scenarios.json\n"
     ]
    },
    {
     "data": {
      "text/plain": "                     Trading Liquidity               Vault  \\\n0            bnt=0.000000 dai=0.000000        bnt=0.000000   \n1            bnt=0.000000 eth=0.000000        dai=0.000000   \n2           bnt=0.000000 link=0.000000        eth=0.000000   \n3  bnt=768000.000000 tkn=768000.000000       link=0.000000   \n4           bnt=0.000000 wbtc=0.000000  tkn=1024000.000000   \n5                                            wbtc=0.000000   \n\n              Staking       ERC20 Contracts        Vortex External Protection  \\\n0        bnt=0.000000        bnbnt=0.000000  bnt=0.000000        dai=0.000000   \n1        dai=0.000000        bndai=0.000000                      eth=0.000000   \n2        eth=0.000000        bneth=0.000000                     link=0.000000   \n3       link=0.000000       bnlink=0.000000                      bnt=0.000000   \n4  tkn=1024000.000000  bntkn=1024000.000000                      tkn=0.000000   \n5       wbtc=0.000000       bnwbtc=0.000000                     wbtc=0.000000   \n\n  Protocol WalletState  \n0  bnbnt=384000.000000  \n1                       \n2                       \n3                       \n4                       \n5                       ",
      "text/html": "<div>\n<style scoped>\n    .dataframe tbody tr th:only-of-type {\n        vertical-align: middle;\n    }\n\n    .dataframe tbody tr th {\n        vertical-align: top;\n    }\n\n    .dataframe thead th {\n        text-align: right;\n    }\n</style>\n<table border=\"1\" class=\"dataframe\">\n  <thead>\n    <tr style=\"text-align: right;\">\n      <th></th>\n      <th>Trading Liquidity</th>\n      <th>Vault</th>\n      <th>Staking</th>\n      <th>ERC20 Contracts</th>\n      <th>Vortex</th>\n      <th>External Protection</th>\n      <th>Protocol WalletState</th>\n    </tr>\n  </thead>\n  <tbody>\n    <tr>\n      <th>0</th>\n      <td>bnt=0.000000 dai=0.000000</td>\n      <td>bnt=0.000000</td>\n      <td>bnt=0.000000</td>\n      <td>bnbnt=0.000000</td>\n      <td>bnt=0.000000</td>\n      <td>dai=0.000000</td>\n      <td>bnbnt=384000.000000</td>\n    </tr>\n    <tr>\n      <th>1</th>\n      <td>bnt=0.000000 eth=0.000000</td>\n      <td>dai=0.000000</td>\n      <td>dai=0.000000</td>\n      <td>bndai=0.000000</td>\n      <td></td>\n      <td>eth=0.000000</td>\n      <td></td>\n    </tr>\n    <tr>\n      <th>2</th>\n      <td>bnt=0.000000 link=0.000000</td>\n      <td>eth=0.000000</td>\n      <td>eth=0.000000</td>\n      <td>bneth=0.000000</td>\n      <td></td>\n      <td>link=0.000000</td>\n      <td></td>\n    </tr>\n    <tr>\n      <th>3</th>\n      <td>bnt=768000.000000 tkn=768000.000000</td>\n      <td>link=0.000000</td>\n      <td>link=0.000000</td>\n      <td>bnlink=0.000000</td>\n      <td></td>\n      <td>bnt=0.000000</td>\n      <td></td>\n    </tr>\n    <tr>\n      <th>4</th>\n      <td>bnt=0.000000 wbtc=0.000000</td>\n      <td>tkn=1024000.000000</td>\n      <td>tkn=1024000.000000</td>\n      <td>bntkn=1024000.000000</td>\n      <td></td>\n      <td>tkn=0.000000</td>\n      <td></td>\n    </tr>\n    <tr>\n      <th>5</th>\n      <td></td>\n      <td>wbtc=0.000000</td>\n      <td>wbtc=0.000000</td>\n      <td>bnwbtc=0.000000</td>\n      <td></td>\n      <td>wbtc=0.000000</td>\n      <td></td>\n    </tr>\n  </tbody>\n</table>\n</div>"
     },
     "execution_count": 32,
     "metadata": {},
     "output_type": "execute_result"
    }
   ],
   "source": [
    "timestamp = 14 * 4200 * 2\n",
    "\n",
    "v3.distribute_autocompounding_program(\n",
    "                                     tkn_name='TKN',\n",
    "                                     timestamp= timestamp)\n",
    "v3.export_test_scenarios()\n",
    "v3.describe()"
   ],
   "metadata": {
    "collapsed": false,
    "pycharm": {
     "name": "#%%\n"
    }
   }
  },
  {
   "cell_type": "code",
   "execution_count": 33,
   "outputs": [
    {
     "name": "stdout",
     "output_type": "stream",
     "text": [
      "pool_token_amt_to_burn > program_wallet_bntkn, setting pool_token_amt_to_burn=0\n",
      " staked_amt = 1024000.000000000000000000\n",
      " erc20contracts_bntkn = 1024000.000000000000000000\n",
      " program_wallet_bntkn = 0E-18\n",
      " total_rewards = 86400.000000000000000000\n",
      " prev_token_amt_distributed = 321.923287671232876712\n",
      " token_amt_to_distribute = 321.9232876712328767123287672\n",
      " pool_token_amt_to_burn = 0E-18\n",
      " remaining_rewards = 86078.07671232876712328767123\n",
      "Saved to test_scenarios.json\n"
     ]
    },
    {
     "data": {
      "text/plain": "                     Trading Liquidity               Vault  \\\n0            bnt=0.000000 dai=0.000000        bnt=0.000000   \n1            bnt=0.000000 eth=0.000000        dai=0.000000   \n2           bnt=0.000000 link=0.000000        eth=0.000000   \n3  bnt=768000.000000 tkn=768000.000000       link=0.000000   \n4           bnt=0.000000 wbtc=0.000000  tkn=1024000.000000   \n5                                            wbtc=0.000000   \n\n              Staking       ERC20 Contracts        Vortex External Protection  \\\n0        bnt=0.000000        bnbnt=0.000000  bnt=0.000000        dai=0.000000   \n1        dai=0.000000        bndai=0.000000                      eth=0.000000   \n2        eth=0.000000        bneth=0.000000                     link=0.000000   \n3       link=0.000000       bnlink=0.000000                      bnt=0.000000   \n4  tkn=1024000.000000  bntkn=1024000.000000                      tkn=0.000000   \n5       wbtc=0.000000       bnwbtc=0.000000                     wbtc=0.000000   \n\n  Protocol WalletState  \n0  bnbnt=384000.000000  \n1                       \n2                       \n3                       \n4                       \n5                       ",
      "text/html": "<div>\n<style scoped>\n    .dataframe tbody tr th:only-of-type {\n        vertical-align: middle;\n    }\n\n    .dataframe tbody tr th {\n        vertical-align: top;\n    }\n\n    .dataframe thead th {\n        text-align: right;\n    }\n</style>\n<table border=\"1\" class=\"dataframe\">\n  <thead>\n    <tr style=\"text-align: right;\">\n      <th></th>\n      <th>Trading Liquidity</th>\n      <th>Vault</th>\n      <th>Staking</th>\n      <th>ERC20 Contracts</th>\n      <th>Vortex</th>\n      <th>External Protection</th>\n      <th>Protocol WalletState</th>\n    </tr>\n  </thead>\n  <tbody>\n    <tr>\n      <th>0</th>\n      <td>bnt=0.000000 dai=0.000000</td>\n      <td>bnt=0.000000</td>\n      <td>bnt=0.000000</td>\n      <td>bnbnt=0.000000</td>\n      <td>bnt=0.000000</td>\n      <td>dai=0.000000</td>\n      <td>bnbnt=384000.000000</td>\n    </tr>\n    <tr>\n      <th>1</th>\n      <td>bnt=0.000000 eth=0.000000</td>\n      <td>dai=0.000000</td>\n      <td>dai=0.000000</td>\n      <td>bndai=0.000000</td>\n      <td></td>\n      <td>eth=0.000000</td>\n      <td></td>\n    </tr>\n    <tr>\n      <th>2</th>\n      <td>bnt=0.000000 link=0.000000</td>\n      <td>eth=0.000000</td>\n      <td>eth=0.000000</td>\n      <td>bneth=0.000000</td>\n      <td></td>\n      <td>link=0.000000</td>\n      <td></td>\n    </tr>\n    <tr>\n      <th>3</th>\n      <td>bnt=768000.000000 tkn=768000.000000</td>\n      <td>link=0.000000</td>\n      <td>link=0.000000</td>\n      <td>bnlink=0.000000</td>\n      <td></td>\n      <td>bnt=0.000000</td>\n      <td></td>\n    </tr>\n    <tr>\n      <th>4</th>\n      <td>bnt=0.000000 wbtc=0.000000</td>\n      <td>tkn=1024000.000000</td>\n      <td>tkn=1024000.000000</td>\n      <td>bntkn=1024000.000000</td>\n      <td></td>\n      <td>tkn=0.000000</td>\n      <td></td>\n    </tr>\n    <tr>\n      <th>5</th>\n      <td></td>\n      <td>wbtc=0.000000</td>\n      <td>wbtc=0.000000</td>\n      <td>bnwbtc=0.000000</td>\n      <td></td>\n      <td>wbtc=0.000000</td>\n      <td></td>\n    </tr>\n  </tbody>\n</table>\n</div>"
     },
     "execution_count": 33,
     "metadata": {},
     "output_type": "execute_result"
    }
   ],
   "source": [
    "timestamp = 14 * 4200 * 2\n",
    "\n",
    "v3.distribute_autocompounding_program(\n",
    "                                     tkn_name='TKN',\n",
    "                                     timestamp= timestamp)\n",
    "v3.export_test_scenarios()\n",
    "v3.describe()"
   ],
   "metadata": {
    "collapsed": false,
    "pycharm": {
     "name": "#%%\n"
    }
   }
  },
  {
   "cell_type": "code",
   "execution_count": 34,
   "outputs": [
    {
     "name": "stdout",
     "output_type": "stream",
     "text": [
      "Saved to test_scenarios.json\n"
     ]
    },
    {
     "data": {
      "text/plain": "                     Trading Liquidity               Vault  \\\n0            bnt=0.000000 dai=0.000000        bnt=0.000000   \n1            bnt=0.000000 eth=0.000000        dai=0.000000   \n2           bnt=0.000000 link=0.000000        eth=0.000000   \n3  bnt=768000.000000 tkn=768000.000000       link=0.000000   \n4           bnt=0.000000 wbtc=0.000000  tkn=1024000.000000   \n5                                            wbtc=0.000000   \n\n              Staking       ERC20 Contracts        Vortex External Protection  \\\n0        bnt=0.000000        bnbnt=0.000000  bnt=0.000000        dai=0.000000   \n1        dai=0.000000        bndai=0.000000                      eth=0.000000   \n2        eth=0.000000        bneth=0.000000                     link=0.000000   \n3       link=0.000000       bnlink=0.000000                      bnt=0.000000   \n4  tkn=1024000.000000  bntkn=1002000.000000                      tkn=0.000000   \n5       wbtc=0.000000       bnwbtc=0.000000                     wbtc=0.000000   \n\n  Protocol WalletState  \n0  bnbnt=384000.000000  \n1                       \n2                       \n3                       \n4                       \n5                       ",
      "text/html": "<div>\n<style scoped>\n    .dataframe tbody tr th:only-of-type {\n        vertical-align: middle;\n    }\n\n    .dataframe tbody tr th {\n        vertical-align: top;\n    }\n\n    .dataframe thead th {\n        text-align: right;\n    }\n</style>\n<table border=\"1\" class=\"dataframe\">\n  <thead>\n    <tr style=\"text-align: right;\">\n      <th></th>\n      <th>Trading Liquidity</th>\n      <th>Vault</th>\n      <th>Staking</th>\n      <th>ERC20 Contracts</th>\n      <th>Vortex</th>\n      <th>External Protection</th>\n      <th>Protocol WalletState</th>\n    </tr>\n  </thead>\n  <tbody>\n    <tr>\n      <th>0</th>\n      <td>bnt=0.000000 dai=0.000000</td>\n      <td>bnt=0.000000</td>\n      <td>bnt=0.000000</td>\n      <td>bnbnt=0.000000</td>\n      <td>bnt=0.000000</td>\n      <td>dai=0.000000</td>\n      <td>bnbnt=384000.000000</td>\n    </tr>\n    <tr>\n      <th>1</th>\n      <td>bnt=0.000000 eth=0.000000</td>\n      <td>dai=0.000000</td>\n      <td>dai=0.000000</td>\n      <td>bndai=0.000000</td>\n      <td></td>\n      <td>eth=0.000000</td>\n      <td></td>\n    </tr>\n    <tr>\n      <th>2</th>\n      <td>bnt=0.000000 link=0.000000</td>\n      <td>eth=0.000000</td>\n      <td>eth=0.000000</td>\n      <td>bneth=0.000000</td>\n      <td></td>\n      <td>link=0.000000</td>\n      <td></td>\n    </tr>\n    <tr>\n      <th>3</th>\n      <td>bnt=768000.000000 tkn=768000.000000</td>\n      <td>link=0.000000</td>\n      <td>link=0.000000</td>\n      <td>bnlink=0.000000</td>\n      <td></td>\n      <td>bnt=0.000000</td>\n      <td></td>\n    </tr>\n    <tr>\n      <th>4</th>\n      <td>bnt=0.000000 wbtc=0.000000</td>\n      <td>tkn=1024000.000000</td>\n      <td>tkn=1024000.000000</td>\n      <td>bntkn=1002000.000000</td>\n      <td></td>\n      <td>tkn=0.000000</td>\n      <td></td>\n    </tr>\n    <tr>\n      <th>5</th>\n      <td></td>\n      <td>wbtc=0.000000</td>\n      <td>wbtc=0.000000</td>\n      <td>bnwbtc=0.000000</td>\n      <td></td>\n      <td>wbtc=0.000000</td>\n      <td></td>\n    </tr>\n  </tbody>\n</table>\n</div>"
     },
     "execution_count": 34,
     "metadata": {},
     "output_type": "execute_result"
    }
   ],
   "source": [
    "from bancor_research.bancor_simulator.v3.spec.state import get_user_balance\n",
    "\n",
    "timestamp = 14 * 4200 * 2 + 14\n",
    "\n",
    "all_pool_tokens = get_user_balance(state,  user_name, 'bnTKN')\n",
    "\n",
    "v3.burn('TKN', all_pool_tokens, user_name, timestamp)\n",
    "v3.export_test_scenarios()\n",
    "v3.describe()"
   ],
   "metadata": {
    "collapsed": false,
    "pycharm": {
     "name": "#%%\n"
    }
   }
  },
  {
   "cell_type": "code",
   "execution_count": 35,
   "outputs": [
    {
     "name": "stdout",
     "output_type": "stream",
     "text": [
      "Saved to test_scenarios.json\n"
     ]
    },
    {
     "data": {
      "text/plain": "                       Trading Liquidity               Vault  \\\n0              bnt=0.000000 dai=0.000000        bnt=0.000000   \n1              bnt=0.000000 eth=0.000000        dai=0.000000   \n2             bnt=0.000000 link=0.000000        eth=0.000000   \n3  bnt=1024978.515625 tkn=1024978.515625       link=0.000000   \n4             bnt=0.000000 wbtc=0.000000  tkn=1024978.515625   \n5                                              wbtc=0.000000   \n\n              Staking       ERC20 Contracts        Vortex External Protection  \\\n0        bnt=0.000000        bnbnt=0.000000  bnt=0.000000        dai=0.000000   \n1        dai=0.000000        bndai=0.000000                      eth=0.000000   \n2        eth=0.000000        bneth=0.000000                     link=0.000000   \n3       link=0.000000       bnlink=0.000000                      bnt=0.000000   \n4  tkn=1024978.515625  bntkn=1002978.515625                      tkn=0.000000   \n5       wbtc=0.000000       bnwbtc=0.000000                     wbtc=0.000000   \n\n  Protocol WalletState  \n0  bnbnt=256978.515625  \n1                       \n2                       \n3                       \n4                       \n5                       ",
      "text/html": "<div>\n<style scoped>\n    .dataframe tbody tr th:only-of-type {\n        vertical-align: middle;\n    }\n\n    .dataframe tbody tr th {\n        vertical-align: top;\n    }\n\n    .dataframe thead th {\n        text-align: right;\n    }\n</style>\n<table border=\"1\" class=\"dataframe\">\n  <thead>\n    <tr style=\"text-align: right;\">\n      <th></th>\n      <th>Trading Liquidity</th>\n      <th>Vault</th>\n      <th>Staking</th>\n      <th>ERC20 Contracts</th>\n      <th>Vortex</th>\n      <th>External Protection</th>\n      <th>Protocol WalletState</th>\n    </tr>\n  </thead>\n  <tbody>\n    <tr>\n      <th>0</th>\n      <td>bnt=0.000000 dai=0.000000</td>\n      <td>bnt=0.000000</td>\n      <td>bnt=0.000000</td>\n      <td>bnbnt=0.000000</td>\n      <td>bnt=0.000000</td>\n      <td>dai=0.000000</td>\n      <td>bnbnt=256978.515625</td>\n    </tr>\n    <tr>\n      <th>1</th>\n      <td>bnt=0.000000 eth=0.000000</td>\n      <td>dai=0.000000</td>\n      <td>dai=0.000000</td>\n      <td>bndai=0.000000</td>\n      <td></td>\n      <td>eth=0.000000</td>\n      <td></td>\n    </tr>\n    <tr>\n      <th>2</th>\n      <td>bnt=0.000000 link=0.000000</td>\n      <td>eth=0.000000</td>\n      <td>eth=0.000000</td>\n      <td>bneth=0.000000</td>\n      <td></td>\n      <td>link=0.000000</td>\n      <td></td>\n    </tr>\n    <tr>\n      <th>3</th>\n      <td>bnt=1024978.515625 tkn=1024978.515625</td>\n      <td>link=0.000000</td>\n      <td>link=0.000000</td>\n      <td>bnlink=0.000000</td>\n      <td></td>\n      <td>bnt=0.000000</td>\n      <td></td>\n    </tr>\n    <tr>\n      <th>4</th>\n      <td>bnt=0.000000 wbtc=0.000000</td>\n      <td>tkn=1024978.515625</td>\n      <td>tkn=1024978.515625</td>\n      <td>bntkn=1002978.515625</td>\n      <td></td>\n      <td>tkn=0.000000</td>\n      <td></td>\n    </tr>\n    <tr>\n      <th>5</th>\n      <td></td>\n      <td>wbtc=0.000000</td>\n      <td>wbtc=0.000000</td>\n      <td>bnwbtc=0.000000</td>\n      <td></td>\n      <td>wbtc=0.000000</td>\n      <td></td>\n    </tr>\n  </tbody>\n</table>\n</div>"
     },
     "execution_count": 35,
     "metadata": {},
     "output_type": "execute_result"
    }
   ],
   "source": [
    "timestamp = 14 * 4200 * 2 + 14 * 2\n",
    "v3.deposit(tkn_name='TKN', tkn_amt=Decimal('1000'), user_name=user_name, timestamp=timestamp)\n",
    "v3.export_test_scenarios()\n",
    "v3.describe()"
   ],
   "metadata": {
    "collapsed": false,
    "pycharm": {
     "name": "#%%\n"
    }
   }
  },
  {
   "cell_type": "code",
   "execution_count": 36,
   "outputs": [
    {
     "name": "stdout",
     "output_type": "stream",
     "text": [
      "Saved to test_scenarios.json\n"
     ]
    },
    {
     "data": {
      "text/plain": "                       Trading Liquidity               Vault  \\\n0              bnt=0.000000 dai=0.000000        bnt=0.000000   \n1              bnt=0.000000 eth=0.000000        dai=0.000000   \n2             bnt=0.000000 link=0.000000        eth=0.000000   \n3  bnt=1514246.583363 tkn=1514246.583363       link=0.000000   \n4             bnt=0.000000 wbtc=0.000000  tkn=1514246.583363   \n5                                              wbtc=0.000000   \n\n              Staking       ERC20 Contracts        Vortex External Protection  \\\n0        bnt=0.000000        bnbnt=0.000000  bnt=0.000000        dai=0.000000   \n1        dai=0.000000        bndai=0.000000                      eth=0.000000   \n2        eth=0.000000        bneth=0.000000                     link=0.000000   \n3       link=0.000000       bnlink=0.000000                      bnt=0.000000   \n4  tkn=1514246.583363  bntkn=1492246.583363                      tkn=0.000000   \n5       wbtc=0.000000       bnwbtc=0.000000                     wbtc=0.000000   \n\n  Protocol WalletState  \n0  bnbnt=489268.067738  \n1                       \n2                       \n3                       \n4                       \n5                       ",
      "text/html": "<div>\n<style scoped>\n    .dataframe tbody tr th:only-of-type {\n        vertical-align: middle;\n    }\n\n    .dataframe tbody tr th {\n        vertical-align: top;\n    }\n\n    .dataframe thead th {\n        text-align: right;\n    }\n</style>\n<table border=\"1\" class=\"dataframe\">\n  <thead>\n    <tr style=\"text-align: right;\">\n      <th></th>\n      <th>Trading Liquidity</th>\n      <th>Vault</th>\n      <th>Staking</th>\n      <th>ERC20 Contracts</th>\n      <th>Vortex</th>\n      <th>External Protection</th>\n      <th>Protocol WalletState</th>\n    </tr>\n  </thead>\n  <tbody>\n    <tr>\n      <th>0</th>\n      <td>bnt=0.000000 dai=0.000000</td>\n      <td>bnt=0.000000</td>\n      <td>bnt=0.000000</td>\n      <td>bnbnt=0.000000</td>\n      <td>bnt=0.000000</td>\n      <td>dai=0.000000</td>\n      <td>bnbnt=489268.067738</td>\n    </tr>\n    <tr>\n      <th>1</th>\n      <td>bnt=0.000000 eth=0.000000</td>\n      <td>dai=0.000000</td>\n      <td>dai=0.000000</td>\n      <td>bndai=0.000000</td>\n      <td></td>\n      <td>eth=0.000000</td>\n      <td></td>\n    </tr>\n    <tr>\n      <th>2</th>\n      <td>bnt=0.000000 link=0.000000</td>\n      <td>eth=0.000000</td>\n      <td>eth=0.000000</td>\n      <td>bneth=0.000000</td>\n      <td></td>\n      <td>link=0.000000</td>\n      <td></td>\n    </tr>\n    <tr>\n      <th>3</th>\n      <td>bnt=1514246.583363 tkn=1514246.583363</td>\n      <td>link=0.000000</td>\n      <td>link=0.000000</td>\n      <td>bnlink=0.000000</td>\n      <td></td>\n      <td>bnt=0.000000</td>\n      <td></td>\n    </tr>\n    <tr>\n      <th>4</th>\n      <td>bnt=0.000000 wbtc=0.000000</td>\n      <td>tkn=1514246.583363</td>\n      <td>tkn=1514246.583363</td>\n      <td>bntkn=1492246.583363</td>\n      <td></td>\n      <td>tkn=0.000000</td>\n      <td></td>\n    </tr>\n    <tr>\n      <th>5</th>\n      <td></td>\n      <td>wbtc=0.000000</td>\n      <td>wbtc=0.000000</td>\n      <td>bnwbtc=0.000000</td>\n      <td></td>\n      <td>wbtc=0.000000</td>\n      <td></td>\n    </tr>\n  </tbody>\n</table>\n</div>"
     },
     "execution_count": 36,
     "metadata": {},
     "output_type": "execute_result"
    }
   ],
   "source": [
    "timestamp = 14 * 4200 * 2 + 14 * 3\n",
    "v3.deposit(tkn_name='TKN', tkn_amt=Decimal('500000'), user_name=user_name, timestamp=timestamp)\n",
    "v3.export_test_scenarios()\n",
    "v3.describe()"
   ],
   "metadata": {
    "collapsed": false,
    "pycharm": {
     "name": "#%%\n"
    }
   }
  },
  {
   "cell_type": "code",
   "execution_count": 37,
   "outputs": [
    {
     "name": "stdout",
     "output_type": "stream",
     "text": [
      "Bootstrap requirements met for tkn\n"
     ]
    }
   ],
   "source": [
    "timestamp = 14 * 4200 * 2 + 14 * 4\n",
    "v3.dao_msig_init_pools(['TKN'], 'TKN')"
   ],
   "metadata": {
    "collapsed": false,
    "pycharm": {
     "name": "#%%\n"
    }
   }
  },
  {
   "cell_type": "code",
   "execution_count": 38,
   "outputs": [
    {
     "name": "stdout",
     "output_type": "stream",
     "text": [
      "Saved to test_scenarios.json\n"
     ]
    },
    {
     "data": {
      "text/plain": "                   Trading Liquidity               Vault             Staking  \\\n0          bnt=0.000000 dai=0.000000        bnt=0.000000        bnt=0.000000   \n1          bnt=0.000000 eth=0.000000        dai=0.000000        dai=0.000000   \n2         bnt=0.000000 link=0.000000        eth=0.000000        eth=0.000000   \n3  bnt=40000.000000 tkn=40000.000000       link=0.000000       link=0.000000   \n4         bnt=0.000000 wbtc=0.000000  tkn=2006982.244700  tkn=2006982.244700   \n5                                          wbtc=0.000000       wbtc=0.000000   \n\n        ERC20 Contracts        Vortex External Protection Protocol WalletState  \n0        bnbnt=0.000000  bnt=0.000000        dai=0.000000   bnbnt=20000.000000  \n1        bndai=0.000000                      eth=0.000000                       \n2        bneth=0.000000                     link=0.000000                       \n3       bnlink=0.000000                      bnt=0.000000                       \n4  bntkn=1984982.244700                      tkn=0.000000                       \n5       bnwbtc=0.000000                     wbtc=0.000000                       ",
      "text/html": "<div>\n<style scoped>\n    .dataframe tbody tr th:only-of-type {\n        vertical-align: middle;\n    }\n\n    .dataframe tbody tr th {\n        vertical-align: top;\n    }\n\n    .dataframe thead th {\n        text-align: right;\n    }\n</style>\n<table border=\"1\" class=\"dataframe\">\n  <thead>\n    <tr style=\"text-align: right;\">\n      <th></th>\n      <th>Trading Liquidity</th>\n      <th>Vault</th>\n      <th>Staking</th>\n      <th>ERC20 Contracts</th>\n      <th>Vortex</th>\n      <th>External Protection</th>\n      <th>Protocol WalletState</th>\n    </tr>\n  </thead>\n  <tbody>\n    <tr>\n      <th>0</th>\n      <td>bnt=0.000000 dai=0.000000</td>\n      <td>bnt=0.000000</td>\n      <td>bnt=0.000000</td>\n      <td>bnbnt=0.000000</td>\n      <td>bnt=0.000000</td>\n      <td>dai=0.000000</td>\n      <td>bnbnt=20000.000000</td>\n    </tr>\n    <tr>\n      <th>1</th>\n      <td>bnt=0.000000 eth=0.000000</td>\n      <td>dai=0.000000</td>\n      <td>dai=0.000000</td>\n      <td>bndai=0.000000</td>\n      <td></td>\n      <td>eth=0.000000</td>\n      <td></td>\n    </tr>\n    <tr>\n      <th>2</th>\n      <td>bnt=0.000000 link=0.000000</td>\n      <td>eth=0.000000</td>\n      <td>eth=0.000000</td>\n      <td>bneth=0.000000</td>\n      <td></td>\n      <td>link=0.000000</td>\n      <td></td>\n    </tr>\n    <tr>\n      <th>3</th>\n      <td>bnt=40000.000000 tkn=40000.000000</td>\n      <td>link=0.000000</td>\n      <td>link=0.000000</td>\n      <td>bnlink=0.000000</td>\n      <td></td>\n      <td>bnt=0.000000</td>\n      <td></td>\n    </tr>\n    <tr>\n      <th>4</th>\n      <td>bnt=0.000000 wbtc=0.000000</td>\n      <td>tkn=2006982.244700</td>\n      <td>tkn=2006982.244700</td>\n      <td>bntkn=1984982.244700</td>\n      <td></td>\n      <td>tkn=0.000000</td>\n      <td></td>\n    </tr>\n    <tr>\n      <th>5</th>\n      <td></td>\n      <td>wbtc=0.000000</td>\n      <td>wbtc=0.000000</td>\n      <td>bnwbtc=0.000000</td>\n      <td></td>\n      <td>wbtc=0.000000</td>\n      <td></td>\n    </tr>\n  </tbody>\n</table>\n</div>"
     },
     "execution_count": 38,
     "metadata": {},
     "output_type": "execute_result"
    }
   ],
   "source": [
    "timestamp = 14 * 4200 * 2 + 14 * 5\n",
    "v3.deposit(tkn_name='TKN', tkn_amt=Decimal('500000'), user_name=user_name, timestamp=timestamp)\n",
    "v3.export_test_scenarios()\n",
    "v3.describe()"
   ],
   "metadata": {
    "collapsed": false,
    "pycharm": {
     "name": "#%%\n"
    }
   }
  },
  {
   "cell_type": "code",
   "execution_count": 39,
   "outputs": [
    {
     "data": {
      "text/plain": "117698"
     },
     "execution_count": 39,
     "metadata": {},
     "output_type": "execute_result"
    }
   ],
   "source": [
    "14 * 4200 * 2 + 14 * 7"
   ],
   "metadata": {
    "collapsed": false,
    "pycharm": {
     "name": "#%%\n"
    }
   }
  },
  {
   "cell_type": "code",
   "execution_count": 40,
   "outputs": [
    {
     "name": "stdout",
     "output_type": "stream",
     "text": [
      "Saved to test_scenarios.json\n"
     ]
    },
    {
     "data": {
      "text/plain": "                   Trading Liquidity               Vault             Staking  \\\n0          bnt=0.000000 dai=0.000000        bnt=0.000000        bnt=0.000000   \n1          bnt=0.000000 eth=0.000000        dai=0.000000        dai=0.000000   \n2         bnt=0.000000 link=0.000000        eth=0.000000        eth=0.000000   \n3  bnt=40000.000000 tkn=40000.000000       link=0.000000       link=0.000000   \n4         bnt=0.000000 wbtc=0.000000  tkn=2006982.244700  tkn=2006982.244700   \n5                                          wbtc=0.000000       wbtc=0.000000   \n\n        ERC20 Contracts        Vortex External Protection Protocol WalletState  \n0        bnbnt=0.000000  bnt=0.000000        dai=0.000000   bnbnt=20000.000000  \n1        bndai=0.000000                      eth=0.000000                       \n2        bneth=0.000000                     link=0.000000                       \n3       bnlink=0.000000                      bnt=0.000000                       \n4  bntkn=1984982.244700                      tkn=0.000000                       \n5       bnwbtc=0.000000                     wbtc=0.000000                       ",
      "text/html": "<div>\n<style scoped>\n    .dataframe tbody tr th:only-of-type {\n        vertical-align: middle;\n    }\n\n    .dataframe tbody tr th {\n        vertical-align: top;\n    }\n\n    .dataframe thead th {\n        text-align: right;\n    }\n</style>\n<table border=\"1\" class=\"dataframe\">\n  <thead>\n    <tr style=\"text-align: right;\">\n      <th></th>\n      <th>Trading Liquidity</th>\n      <th>Vault</th>\n      <th>Staking</th>\n      <th>ERC20 Contracts</th>\n      <th>Vortex</th>\n      <th>External Protection</th>\n      <th>Protocol WalletState</th>\n    </tr>\n  </thead>\n  <tbody>\n    <tr>\n      <th>0</th>\n      <td>bnt=0.000000 dai=0.000000</td>\n      <td>bnt=0.000000</td>\n      <td>bnt=0.000000</td>\n      <td>bnbnt=0.000000</td>\n      <td>bnt=0.000000</td>\n      <td>dai=0.000000</td>\n      <td>bnbnt=20000.000000</td>\n    </tr>\n    <tr>\n      <th>1</th>\n      <td>bnt=0.000000 eth=0.000000</td>\n      <td>dai=0.000000</td>\n      <td>dai=0.000000</td>\n      <td>bndai=0.000000</td>\n      <td></td>\n      <td>eth=0.000000</td>\n      <td></td>\n    </tr>\n    <tr>\n      <th>2</th>\n      <td>bnt=0.000000 link=0.000000</td>\n      <td>eth=0.000000</td>\n      <td>eth=0.000000</td>\n      <td>bneth=0.000000</td>\n      <td></td>\n      <td>link=0.000000</td>\n      <td></td>\n    </tr>\n    <tr>\n      <th>3</th>\n      <td>bnt=40000.000000 tkn=40000.000000</td>\n      <td>link=0.000000</td>\n      <td>link=0.000000</td>\n      <td>bnlink=0.000000</td>\n      <td></td>\n      <td>bnt=0.000000</td>\n      <td></td>\n    </tr>\n    <tr>\n      <th>4</th>\n      <td>bnt=0.000000 wbtc=0.000000</td>\n      <td>tkn=2006982.244700</td>\n      <td>tkn=2006982.244700</td>\n      <td>bntkn=1984982.244700</td>\n      <td></td>\n      <td>tkn=0.000000</td>\n      <td></td>\n    </tr>\n    <tr>\n      <th>5</th>\n      <td></td>\n      <td>wbtc=0.000000</td>\n      <td>wbtc=0.000000</td>\n      <td>bnwbtc=0.000000</td>\n      <td></td>\n      <td>wbtc=0.000000</td>\n      <td></td>\n    </tr>\n  </tbody>\n</table>\n</div>"
     },
     "execution_count": 40,
     "metadata": {},
     "output_type": "execute_result"
    }
   ],
   "source": [
    "timestamp = 14 * 4200 * 2 + 14 * 6\n",
    "start_time = 14 * 4200 * 2 + 14 * 7\n",
    "\n",
    "# flat_distribution_rate_per_day=86400\n",
    "\n",
    "state = v3.global_state\n",
    "\n",
    "reward_total = Decimal('360000')\n",
    "\n",
    "state = v3.create_autocompounding_program(\n",
    "    state=state,\n",
    "    tkn_name=\"tkn\",\n",
    "    user_name=admin_user,\n",
    "    distribution_type=\"exp\",\n",
    "    half_life_days=1,\n",
    "    total_rewards=reward_total,\n",
    "    start_time=start_time,\n",
    "    timestamp=timestamp\n",
    ")\n",
    "\n",
    "v3.export_test_scenarios()\n",
    "v3.describe()"
   ],
   "metadata": {
    "collapsed": false,
    "pycharm": {
     "name": "#%%\n"
    }
   }
  },
  {
   "cell_type": "code",
   "execution_count": 41,
   "outputs": [
    {
     "data": {
      "text/plain": "3"
     },
     "execution_count": 41,
     "metadata": {},
     "output_type": "execute_result"
    }
   ],
   "source": [
    "from numpy import uint64\n",
    "\n",
    "class Epoch(uint64):\n",
    "    pass\n",
    "\n",
    "Epoch(1) + Epoch(2)"
   ],
   "metadata": {
    "collapsed": false,
    "pycharm": {
     "name": "#%%\n"
    }
   }
  },
  {
   "cell_type": "code",
   "execution_count": 42,
   "outputs": [
    {
     "name": "stdout",
     "output_type": "stream",
     "text": [
      "Saved to test_scenarios.json\n"
     ]
    },
    {
     "data": {
      "text/plain": "                   Trading Liquidity               Vault             Staking  \\\n0          bnt=0.000000 dai=0.000000        bnt=0.000000        bnt=0.000000   \n1          bnt=0.000000 eth=0.000000        dai=0.000000        dai=0.000000   \n2         bnt=0.000000 link=0.000000        eth=0.000000        eth=0.000000   \n3  bnt=80000.000000 tkn=80000.000000       link=0.000000       link=0.000000   \n4         bnt=0.000000 wbtc=0.000000  tkn=2008960.321238  tkn=2008960.321238   \n5                                          wbtc=0.000000       wbtc=0.000000   \n\n        ERC20 Contracts        Vortex External Protection Protocol WalletState  \n0        bnbnt=0.000000  bnt=0.000000        dai=0.000000   bnbnt=40000.000000  \n1        bndai=0.000000                      eth=0.000000                       \n2        bneth=0.000000                     link=0.000000                       \n3       bnlink=0.000000                      bnt=0.000000                       \n4  bntkn=1986960.321238                      tkn=0.000000                       \n5       bnwbtc=0.000000                     wbtc=0.000000                       ",
      "text/html": "<div>\n<style scoped>\n    .dataframe tbody tr th:only-of-type {\n        vertical-align: middle;\n    }\n\n    .dataframe tbody tr th {\n        vertical-align: top;\n    }\n\n    .dataframe thead th {\n        text-align: right;\n    }\n</style>\n<table border=\"1\" class=\"dataframe\">\n  <thead>\n    <tr style=\"text-align: right;\">\n      <th></th>\n      <th>Trading Liquidity</th>\n      <th>Vault</th>\n      <th>Staking</th>\n      <th>ERC20 Contracts</th>\n      <th>Vortex</th>\n      <th>External Protection</th>\n      <th>Protocol WalletState</th>\n    </tr>\n  </thead>\n  <tbody>\n    <tr>\n      <th>0</th>\n      <td>bnt=0.000000 dai=0.000000</td>\n      <td>bnt=0.000000</td>\n      <td>bnt=0.000000</td>\n      <td>bnbnt=0.000000</td>\n      <td>bnt=0.000000</td>\n      <td>dai=0.000000</td>\n      <td>bnbnt=40000.000000</td>\n    </tr>\n    <tr>\n      <th>1</th>\n      <td>bnt=0.000000 eth=0.000000</td>\n      <td>dai=0.000000</td>\n      <td>dai=0.000000</td>\n      <td>bndai=0.000000</td>\n      <td></td>\n      <td>eth=0.000000</td>\n      <td></td>\n    </tr>\n    <tr>\n      <th>2</th>\n      <td>bnt=0.000000 link=0.000000</td>\n      <td>eth=0.000000</td>\n      <td>eth=0.000000</td>\n      <td>bneth=0.000000</td>\n      <td></td>\n      <td>link=0.000000</td>\n      <td></td>\n    </tr>\n    <tr>\n      <th>3</th>\n      <td>bnt=80000.000000 tkn=80000.000000</td>\n      <td>link=0.000000</td>\n      <td>link=0.000000</td>\n      <td>bnlink=0.000000</td>\n      <td></td>\n      <td>bnt=0.000000</td>\n      <td></td>\n    </tr>\n    <tr>\n      <th>4</th>\n      <td>bnt=0.000000 wbtc=0.000000</td>\n      <td>tkn=2008960.321238</td>\n      <td>tkn=2008960.321238</td>\n      <td>bntkn=1986960.321238</td>\n      <td></td>\n      <td>tkn=0.000000</td>\n      <td></td>\n    </tr>\n    <tr>\n      <th>5</th>\n      <td></td>\n      <td>wbtc=0.000000</td>\n      <td>wbtc=0.000000</td>\n      <td>bnwbtc=0.000000</td>\n      <td></td>\n      <td>wbtc=0.000000</td>\n      <td></td>\n    </tr>\n  </tbody>\n</table>\n</div>"
     },
     "execution_count": 42,
     "metadata": {},
     "output_type": "execute_result"
    }
   ],
   "source": [
    "timestamp = 14 * 4200 * 2 + 14 * 8\n",
    "v3.deposit(tkn_name='TKN', tkn_amt=Decimal('2000'), user_name=user_name, timestamp=timestamp)\n",
    "v3.export_test_scenarios()\n",
    "v3.describe()"
   ],
   "metadata": {
    "collapsed": false,
    "pycharm": {
     "name": "#%%\n"
    }
   }
  },
  {
   "cell_type": "code",
   "execution_count": 43,
   "outputs": [
    {
     "data": {
      "text/plain": "'bn'"
     },
     "execution_count": 43,
     "metadata": {},
     "output_type": "execute_result"
    }
   ],
   "source": [
    "tkn_name='BNT'\n",
    "tkn_name[:2]"
   ],
   "metadata": {
    "collapsed": false,
    "pycharm": {
     "name": "#%%\n"
    }
   }
  },
  {
   "cell_type": "code",
   "execution_count": 44,
   "outputs": [
    {
     "name": "stdout",
     "output_type": "stream",
     "text": [
      "pool_token_amt_to_burn > program_wallet_bntkn, setting pool_token_amt_to_burn=0\n",
      " staked_amt = 2008960.321237743214763462\n",
      " erc20contracts_bntkn = 1986960.321237743214763462\n",
      " program_wallet_bntkn = 0E-18\n",
      " total_rewards = 360000.000000000000000000\n",
      " prev_token_amt_distributed = 0E-18\n",
      " token_amt_to_distribute = 80.85808910737494521983850400\n",
      " pool_token_amt_to_burn = 0E-18\n",
      " remaining_rewards = 359919.1419108926250547801615\n",
      "Saved to test_scenarios.json\n"
     ]
    },
    {
     "data": {
      "text/plain": "                   Trading Liquidity               Vault             Staking  \\\n0          bnt=0.000000 dai=0.000000        bnt=0.000000        bnt=0.000000   \n1          bnt=0.000000 eth=0.000000        dai=0.000000        dai=0.000000   \n2         bnt=0.000000 link=0.000000        eth=0.000000        eth=0.000000   \n3  bnt=80000.000000 tkn=80000.000000       link=0.000000       link=0.000000   \n4         bnt=0.000000 wbtc=0.000000  tkn=2008960.321238  tkn=2008960.321238   \n5                                          wbtc=0.000000       wbtc=0.000000   \n\n        ERC20 Contracts        Vortex External Protection Protocol WalletState  \n0        bnbnt=0.000000  bnt=0.000000        dai=0.000000   bnbnt=40000.000000  \n1        bndai=0.000000                      eth=0.000000                       \n2        bneth=0.000000                     link=0.000000                       \n3       bnlink=0.000000                      bnt=0.000000                       \n4  bntkn=1986960.321238                      tkn=0.000000                       \n5       bnwbtc=0.000000                     wbtc=0.000000                       ",
      "text/html": "<div>\n<style scoped>\n    .dataframe tbody tr th:only-of-type {\n        vertical-align: middle;\n    }\n\n    .dataframe tbody tr th {\n        vertical-align: top;\n    }\n\n    .dataframe thead th {\n        text-align: right;\n    }\n</style>\n<table border=\"1\" class=\"dataframe\">\n  <thead>\n    <tr style=\"text-align: right;\">\n      <th></th>\n      <th>Trading Liquidity</th>\n      <th>Vault</th>\n      <th>Staking</th>\n      <th>ERC20 Contracts</th>\n      <th>Vortex</th>\n      <th>External Protection</th>\n      <th>Protocol WalletState</th>\n    </tr>\n  </thead>\n  <tbody>\n    <tr>\n      <th>0</th>\n      <td>bnt=0.000000 dai=0.000000</td>\n      <td>bnt=0.000000</td>\n      <td>bnt=0.000000</td>\n      <td>bnbnt=0.000000</td>\n      <td>bnt=0.000000</td>\n      <td>dai=0.000000</td>\n      <td>bnbnt=40000.000000</td>\n    </tr>\n    <tr>\n      <th>1</th>\n      <td>bnt=0.000000 eth=0.000000</td>\n      <td>dai=0.000000</td>\n      <td>dai=0.000000</td>\n      <td>bndai=0.000000</td>\n      <td></td>\n      <td>eth=0.000000</td>\n      <td></td>\n    </tr>\n    <tr>\n      <th>2</th>\n      <td>bnt=0.000000 link=0.000000</td>\n      <td>eth=0.000000</td>\n      <td>eth=0.000000</td>\n      <td>bneth=0.000000</td>\n      <td></td>\n      <td>link=0.000000</td>\n      <td></td>\n    </tr>\n    <tr>\n      <th>3</th>\n      <td>bnt=80000.000000 tkn=80000.000000</td>\n      <td>link=0.000000</td>\n      <td>link=0.000000</td>\n      <td>bnlink=0.000000</td>\n      <td></td>\n      <td>bnt=0.000000</td>\n      <td></td>\n    </tr>\n    <tr>\n      <th>4</th>\n      <td>bnt=0.000000 wbtc=0.000000</td>\n      <td>tkn=2008960.321238</td>\n      <td>tkn=2008960.321238</td>\n      <td>bntkn=1986960.321238</td>\n      <td></td>\n      <td>tkn=0.000000</td>\n      <td></td>\n    </tr>\n    <tr>\n      <th>5</th>\n      <td></td>\n      <td>wbtc=0.000000</td>\n      <td>wbtc=0.000000</td>\n      <td>bnwbtc=0.000000</td>\n      <td></td>\n      <td>wbtc=0.000000</td>\n      <td></td>\n    </tr>\n  </tbody>\n</table>\n</div>"
     },
     "execution_count": 44,
     "metadata": {},
     "output_type": "execute_result"
    }
   ],
   "source": [
    "timestamp = 14 * 4200 * 2 + 14 * 9\n",
    "\n",
    "v3.distribute_autocompounding_program(\n",
    "                                     tkn_name='TKN',\n",
    "                                     timestamp= timestamp)\n",
    "v3.export_test_scenarios()\n",
    "v3.describe()"
   ],
   "metadata": {
    "collapsed": false,
    "pycharm": {
     "name": "#%%\n"
    }
   }
  },
  {
   "cell_type": "code",
   "execution_count": 45,
   "outputs": [
    {
     "name": "stdout",
     "output_type": "stream",
     "text": [
      "Saved to test_scenarios.json\n"
     ]
    },
    {
     "data": {
      "text/plain": "                     Trading Liquidity               Vault  \\\n0            bnt=0.000000 dai=0.000000        bnt=0.000000   \n1            bnt=0.000000 eth=0.000000        dai=0.000000   \n2           bnt=0.000000 link=0.000000        eth=0.000000   \n3  bnt=160000.000000 tkn=160000.000000       link=0.000000   \n4           bnt=0.000000 wbtc=0.000000  tkn=2010938.419362   \n5                                            wbtc=0.000000   \n\n              Staking       ERC20 Contracts        Vortex External Protection  \\\n0        bnt=0.000000        bnbnt=0.000000  bnt=0.000000        dai=0.000000   \n1        dai=0.000000        bndai=0.000000                      eth=0.000000   \n2        eth=0.000000        bneth=0.000000                     link=0.000000   \n3       link=0.000000       bnlink=0.000000                      bnt=0.000000   \n4  tkn=2010938.419362  bntkn=1988938.419362                      tkn=0.000000   \n5       wbtc=0.000000       bnwbtc=0.000000                     wbtc=0.000000   \n\n  Protocol WalletState  \n0   bnbnt=80000.000000  \n1                       \n2                       \n3                       \n4                       \n5                       ",
      "text/html": "<div>\n<style scoped>\n    .dataframe tbody tr th:only-of-type {\n        vertical-align: middle;\n    }\n\n    .dataframe tbody tr th {\n        vertical-align: top;\n    }\n\n    .dataframe thead th {\n        text-align: right;\n    }\n</style>\n<table border=\"1\" class=\"dataframe\">\n  <thead>\n    <tr style=\"text-align: right;\">\n      <th></th>\n      <th>Trading Liquidity</th>\n      <th>Vault</th>\n      <th>Staking</th>\n      <th>ERC20 Contracts</th>\n      <th>Vortex</th>\n      <th>External Protection</th>\n      <th>Protocol WalletState</th>\n    </tr>\n  </thead>\n  <tbody>\n    <tr>\n      <th>0</th>\n      <td>bnt=0.000000 dai=0.000000</td>\n      <td>bnt=0.000000</td>\n      <td>bnt=0.000000</td>\n      <td>bnbnt=0.000000</td>\n      <td>bnt=0.000000</td>\n      <td>dai=0.000000</td>\n      <td>bnbnt=80000.000000</td>\n    </tr>\n    <tr>\n      <th>1</th>\n      <td>bnt=0.000000 eth=0.000000</td>\n      <td>dai=0.000000</td>\n      <td>dai=0.000000</td>\n      <td>bndai=0.000000</td>\n      <td></td>\n      <td>eth=0.000000</td>\n      <td></td>\n    </tr>\n    <tr>\n      <th>2</th>\n      <td>bnt=0.000000 link=0.000000</td>\n      <td>eth=0.000000</td>\n      <td>eth=0.000000</td>\n      <td>bneth=0.000000</td>\n      <td></td>\n      <td>link=0.000000</td>\n      <td></td>\n    </tr>\n    <tr>\n      <th>3</th>\n      <td>bnt=160000.000000 tkn=160000.000000</td>\n      <td>link=0.000000</td>\n      <td>link=0.000000</td>\n      <td>bnlink=0.000000</td>\n      <td></td>\n      <td>bnt=0.000000</td>\n      <td></td>\n    </tr>\n    <tr>\n      <th>4</th>\n      <td>bnt=0.000000 wbtc=0.000000</td>\n      <td>tkn=2010938.419362</td>\n      <td>tkn=2010938.419362</td>\n      <td>bntkn=1988938.419362</td>\n      <td></td>\n      <td>tkn=0.000000</td>\n      <td></td>\n    </tr>\n    <tr>\n      <th>5</th>\n      <td></td>\n      <td>wbtc=0.000000</td>\n      <td>wbtc=0.000000</td>\n      <td>bnwbtc=0.000000</td>\n      <td></td>\n      <td>wbtc=0.000000</td>\n      <td></td>\n    </tr>\n  </tbody>\n</table>\n</div>"
     },
     "execution_count": 45,
     "metadata": {},
     "output_type": "execute_result"
    }
   ],
   "source": [
    "timestamp = 14 * 4200 * 2 + 14 * 8 * 10\n",
    "v3.deposit(tkn_name='TKN', tkn_amt=Decimal('2000'), user_name=user_name, timestamp=timestamp)\n",
    "v3.export_test_scenarios()\n",
    "v3.describe()"
   ],
   "metadata": {
    "collapsed": false,
    "pycharm": {
     "name": "#%%\n"
    }
   }
  },
  {
   "cell_type": "code",
   "execution_count": 46,
   "outputs": [
    {
     "name": "stdout",
     "output_type": "stream",
     "text": [
      "pool_token_amt_to_burn > program_wallet_bntkn, setting pool_token_amt_to_burn=0\n",
      " staked_amt = 2010938.419361665895774158\n",
      " erc20contracts_bntkn = 1988938.419361665895774158\n",
      " program_wallet_bntkn = 0E-18\n",
      " total_rewards = 360000.000000000000000000\n",
      " prev_token_amt_distributed = 80.858089107374945220\n",
      " token_amt_to_distribute = 6133.487884960582449911157048\n",
      " pool_token_amt_to_burn = 0E-18\n",
      " remaining_rewards = 353866.5121150394175500888430\n",
      "Saved to test_scenarios.json\n"
     ]
    },
    {
     "data": {
      "text/plain": "                     Trading Liquidity               Vault  \\\n0            bnt=0.000000 dai=0.000000        bnt=0.000000   \n1            bnt=0.000000 eth=0.000000        dai=0.000000   \n2           bnt=0.000000 link=0.000000        eth=0.000000   \n3  bnt=160000.000000 tkn=160000.000000       link=0.000000   \n4           bnt=0.000000 wbtc=0.000000  tkn=2010938.419362   \n5                                            wbtc=0.000000   \n\n              Staking       ERC20 Contracts        Vortex External Protection  \\\n0        bnt=0.000000        bnbnt=0.000000  bnt=0.000000        dai=0.000000   \n1        dai=0.000000        bndai=0.000000                      eth=0.000000   \n2        eth=0.000000        bneth=0.000000                     link=0.000000   \n3       link=0.000000       bnlink=0.000000                      bnt=0.000000   \n4  tkn=2010938.419362  bntkn=1988938.419362                      tkn=0.000000   \n5       wbtc=0.000000       bnwbtc=0.000000                     wbtc=0.000000   \n\n  Protocol WalletState  \n0   bnbnt=80000.000000  \n1                       \n2                       \n3                       \n4                       \n5                       ",
      "text/html": "<div>\n<style scoped>\n    .dataframe tbody tr th:only-of-type {\n        vertical-align: middle;\n    }\n\n    .dataframe tbody tr th {\n        vertical-align: top;\n    }\n\n    .dataframe thead th {\n        text-align: right;\n    }\n</style>\n<table border=\"1\" class=\"dataframe\">\n  <thead>\n    <tr style=\"text-align: right;\">\n      <th></th>\n      <th>Trading Liquidity</th>\n      <th>Vault</th>\n      <th>Staking</th>\n      <th>ERC20 Contracts</th>\n      <th>Vortex</th>\n      <th>External Protection</th>\n      <th>Protocol WalletState</th>\n    </tr>\n  </thead>\n  <tbody>\n    <tr>\n      <th>0</th>\n      <td>bnt=0.000000 dai=0.000000</td>\n      <td>bnt=0.000000</td>\n      <td>bnt=0.000000</td>\n      <td>bnbnt=0.000000</td>\n      <td>bnt=0.000000</td>\n      <td>dai=0.000000</td>\n      <td>bnbnt=80000.000000</td>\n    </tr>\n    <tr>\n      <th>1</th>\n      <td>bnt=0.000000 eth=0.000000</td>\n      <td>dai=0.000000</td>\n      <td>dai=0.000000</td>\n      <td>bndai=0.000000</td>\n      <td></td>\n      <td>eth=0.000000</td>\n      <td></td>\n    </tr>\n    <tr>\n      <th>2</th>\n      <td>bnt=0.000000 link=0.000000</td>\n      <td>eth=0.000000</td>\n      <td>eth=0.000000</td>\n      <td>bneth=0.000000</td>\n      <td></td>\n      <td>link=0.000000</td>\n      <td></td>\n    </tr>\n    <tr>\n      <th>3</th>\n      <td>bnt=160000.000000 tkn=160000.000000</td>\n      <td>link=0.000000</td>\n      <td>link=0.000000</td>\n      <td>bnlink=0.000000</td>\n      <td></td>\n      <td>bnt=0.000000</td>\n      <td></td>\n    </tr>\n    <tr>\n      <th>4</th>\n      <td>bnt=0.000000 wbtc=0.000000</td>\n      <td>tkn=2010938.419362</td>\n      <td>tkn=2010938.419362</td>\n      <td>bntkn=1988938.419362</td>\n      <td></td>\n      <td>tkn=0.000000</td>\n      <td></td>\n    </tr>\n    <tr>\n      <th>5</th>\n      <td></td>\n      <td>wbtc=0.000000</td>\n      <td>wbtc=0.000000</td>\n      <td>bnwbtc=0.000000</td>\n      <td></td>\n      <td>wbtc=0.000000</td>\n      <td></td>\n    </tr>\n  </tbody>\n</table>\n</div>"
     },
     "execution_count": 46,
     "metadata": {},
     "output_type": "execute_result"
    }
   ],
   "source": [
    "timestamp = 14 * 4200 * 2 + 14 * 8 * 20\n",
    "\n",
    "v3.distribute_autocompounding_program(\n",
    "                                     tkn_name='TKN',\n",
    "                                     timestamp= timestamp)\n",
    "v3.export_test_scenarios()\n",
    "v3.describe()"
   ],
   "metadata": {
    "collapsed": false,
    "pycharm": {
     "name": "#%%\n"
    }
   }
  },
  {
   "cell_type": "code",
   "execution_count": 47,
   "outputs": [
    {
     "name": "stdout",
     "output_type": "stream",
     "text": [
      "pool_token_amt_to_burn > program_wallet_bntkn, setting pool_token_amt_to_burn=0\n",
      " staked_amt = 2010938.419361665895774158\n",
      " erc20contracts_bntkn = 1988938.419361665895774158\n",
      " program_wallet_bntkn = 0E-18\n",
      " total_rewards = 360000.000000000000000000\n",
      " prev_token_amt_distributed = 6133.487884960582449911\n",
      " token_amt_to_distribute = 58977.37878351783565542904685\n",
      " pool_token_amt_to_burn = 0E-18\n",
      " remaining_rewards = 301022.6212164821643445709532\n",
      "Saved to test_scenarios.json\n"
     ]
    },
    {
     "data": {
      "text/plain": "                     Trading Liquidity               Vault  \\\n0            bnt=0.000000 dai=0.000000        bnt=0.000000   \n1            bnt=0.000000 eth=0.000000        dai=0.000000   \n2           bnt=0.000000 link=0.000000        eth=0.000000   \n3  bnt=160000.000000 tkn=160000.000000       link=0.000000   \n4           bnt=0.000000 wbtc=0.000000  tkn=2010938.419362   \n5                                            wbtc=0.000000   \n\n              Staking       ERC20 Contracts        Vortex External Protection  \\\n0        bnt=0.000000        bnbnt=0.000000  bnt=0.000000        dai=0.000000   \n1        dai=0.000000        bndai=0.000000                      eth=0.000000   \n2        eth=0.000000        bneth=0.000000                     link=0.000000   \n3       link=0.000000       bnlink=0.000000                      bnt=0.000000   \n4  tkn=2010938.419362  bntkn=1988938.419362                      tkn=0.000000   \n5       wbtc=0.000000       bnwbtc=0.000000                     wbtc=0.000000   \n\n  Protocol WalletState  \n0   bnbnt=80000.000000  \n1                       \n2                       \n3                       \n4                       \n5                       ",
      "text/html": "<div>\n<style scoped>\n    .dataframe tbody tr th:only-of-type {\n        vertical-align: middle;\n    }\n\n    .dataframe tbody tr th {\n        vertical-align: top;\n    }\n\n    .dataframe thead th {\n        text-align: right;\n    }\n</style>\n<table border=\"1\" class=\"dataframe\">\n  <thead>\n    <tr style=\"text-align: right;\">\n      <th></th>\n      <th>Trading Liquidity</th>\n      <th>Vault</th>\n      <th>Staking</th>\n      <th>ERC20 Contracts</th>\n      <th>Vortex</th>\n      <th>External Protection</th>\n      <th>Protocol WalletState</th>\n    </tr>\n  </thead>\n  <tbody>\n    <tr>\n      <th>0</th>\n      <td>bnt=0.000000 dai=0.000000</td>\n      <td>bnt=0.000000</td>\n      <td>bnt=0.000000</td>\n      <td>bnbnt=0.000000</td>\n      <td>bnt=0.000000</td>\n      <td>dai=0.000000</td>\n      <td>bnbnt=80000.000000</td>\n    </tr>\n    <tr>\n      <th>1</th>\n      <td>bnt=0.000000 eth=0.000000</td>\n      <td>dai=0.000000</td>\n      <td>dai=0.000000</td>\n      <td>bndai=0.000000</td>\n      <td></td>\n      <td>eth=0.000000</td>\n      <td></td>\n    </tr>\n    <tr>\n      <th>2</th>\n      <td>bnt=0.000000 link=0.000000</td>\n      <td>eth=0.000000</td>\n      <td>eth=0.000000</td>\n      <td>bneth=0.000000</td>\n      <td></td>\n      <td>link=0.000000</td>\n      <td></td>\n    </tr>\n    <tr>\n      <th>3</th>\n      <td>bnt=160000.000000 tkn=160000.000000</td>\n      <td>link=0.000000</td>\n      <td>link=0.000000</td>\n      <td>bnlink=0.000000</td>\n      <td></td>\n      <td>bnt=0.000000</td>\n      <td></td>\n    </tr>\n    <tr>\n      <th>4</th>\n      <td>bnt=0.000000 wbtc=0.000000</td>\n      <td>tkn=2010938.419362</td>\n      <td>tkn=2010938.419362</td>\n      <td>bntkn=1988938.419362</td>\n      <td></td>\n      <td>tkn=0.000000</td>\n      <td></td>\n    </tr>\n    <tr>\n      <th>5</th>\n      <td></td>\n      <td>wbtc=0.000000</td>\n      <td>wbtc=0.000000</td>\n      <td>bnwbtc=0.000000</td>\n      <td></td>\n      <td>wbtc=0.000000</td>\n      <td></td>\n    </tr>\n  </tbody>\n</table>\n</div>"
     },
     "execution_count": 47,
     "metadata": {},
     "output_type": "execute_result"
    }
   ],
   "source": [
    "timestamp = 14 * 4200 * 2 + 14 * 8 * 200\n",
    "\n",
    "v3.distribute_autocompounding_program(\n",
    "                                     tkn_name='TKN',\n",
    "                                     timestamp= timestamp)\n",
    "v3.export_test_scenarios()\n",
    "v3.describe()"
   ],
   "metadata": {
    "collapsed": false,
    "pycharm": {
     "name": "#%%\n"
    }
   }
  },
  {
   "cell_type": "code",
   "execution_count": 48,
   "outputs": [
    {
     "name": "stdout",
     "output_type": "stream",
     "text": [
      "pool_token_amt_to_burn > program_wallet_bntkn, setting pool_token_amt_to_burn=0\n",
      " staked_amt = 2010938.419361665895774158\n",
      " erc20contracts_bntkn = 1988938.419361665895774158\n",
      " program_wallet_bntkn = 0E-18\n",
      " total_rewards = 360000.000000000000000000\n",
      " prev_token_amt_distributed = 58977.378783517835655429\n",
      " token_amt_to_distribute = 300269.5468018414212558117086\n",
      " pool_token_amt_to_burn = 0E-18\n",
      " remaining_rewards = 59730.4531981585787441882914\n",
      "Saved to test_scenarios.json\n"
     ]
    },
    {
     "data": {
      "text/plain": "                     Trading Liquidity               Vault  \\\n0            bnt=0.000000 dai=0.000000        bnt=0.000000   \n1            bnt=0.000000 eth=0.000000        dai=0.000000   \n2           bnt=0.000000 link=0.000000        eth=0.000000   \n3  bnt=160000.000000 tkn=160000.000000       link=0.000000   \n4           bnt=0.000000 wbtc=0.000000  tkn=2010938.419362   \n5                                            wbtc=0.000000   \n\n              Staking       ERC20 Contracts        Vortex External Protection  \\\n0        bnt=0.000000        bnbnt=0.000000  bnt=0.000000        dai=0.000000   \n1        dai=0.000000        bndai=0.000000                      eth=0.000000   \n2        eth=0.000000        bneth=0.000000                     link=0.000000   \n3       link=0.000000       bnlink=0.000000                      bnt=0.000000   \n4  tkn=2010938.419362  bntkn=1988938.419362                      tkn=0.000000   \n5       wbtc=0.000000       bnwbtc=0.000000                     wbtc=0.000000   \n\n  Protocol WalletState  \n0   bnbnt=80000.000000  \n1                       \n2                       \n3                       \n4                       \n5                       ",
      "text/html": "<div>\n<style scoped>\n    .dataframe tbody tr th:only-of-type {\n        vertical-align: middle;\n    }\n\n    .dataframe tbody tr th {\n        vertical-align: top;\n    }\n\n    .dataframe thead th {\n        text-align: right;\n    }\n</style>\n<table border=\"1\" class=\"dataframe\">\n  <thead>\n    <tr style=\"text-align: right;\">\n      <th></th>\n      <th>Trading Liquidity</th>\n      <th>Vault</th>\n      <th>Staking</th>\n      <th>ERC20 Contracts</th>\n      <th>Vortex</th>\n      <th>External Protection</th>\n      <th>Protocol WalletState</th>\n    </tr>\n  </thead>\n  <tbody>\n    <tr>\n      <th>0</th>\n      <td>bnt=0.000000 dai=0.000000</td>\n      <td>bnt=0.000000</td>\n      <td>bnt=0.000000</td>\n      <td>bnbnt=0.000000</td>\n      <td>bnt=0.000000</td>\n      <td>dai=0.000000</td>\n      <td>bnbnt=80000.000000</td>\n    </tr>\n    <tr>\n      <th>1</th>\n      <td>bnt=0.000000 eth=0.000000</td>\n      <td>dai=0.000000</td>\n      <td>dai=0.000000</td>\n      <td>bndai=0.000000</td>\n      <td></td>\n      <td>eth=0.000000</td>\n      <td></td>\n    </tr>\n    <tr>\n      <th>2</th>\n      <td>bnt=0.000000 link=0.000000</td>\n      <td>eth=0.000000</td>\n      <td>eth=0.000000</td>\n      <td>bneth=0.000000</td>\n      <td></td>\n      <td>link=0.000000</td>\n      <td></td>\n    </tr>\n    <tr>\n      <th>3</th>\n      <td>bnt=160000.000000 tkn=160000.000000</td>\n      <td>link=0.000000</td>\n      <td>link=0.000000</td>\n      <td>bnlink=0.000000</td>\n      <td></td>\n      <td>bnt=0.000000</td>\n      <td></td>\n    </tr>\n    <tr>\n      <th>4</th>\n      <td>bnt=0.000000 wbtc=0.000000</td>\n      <td>tkn=2010938.419362</td>\n      <td>tkn=2010938.419362</td>\n      <td>bntkn=1988938.419362</td>\n      <td></td>\n      <td>tkn=0.000000</td>\n      <td></td>\n    </tr>\n    <tr>\n      <th>5</th>\n      <td></td>\n      <td>wbtc=0.000000</td>\n      <td>wbtc=0.000000</td>\n      <td>bnwbtc=0.000000</td>\n      <td></td>\n      <td>wbtc=0.000000</td>\n      <td></td>\n    </tr>\n  </tbody>\n</table>\n</div>"
     },
     "execution_count": 48,
     "metadata": {},
     "output_type": "execute_result"
    }
   ],
   "source": [
    "timestamp = 14 * 4200 * 2 + 14 * 8 * 2000\n",
    "\n",
    "v3.distribute_autocompounding_program(\n",
    "                                     tkn_name='TKN',\n",
    "                                     timestamp= timestamp)\n",
    "v3.export_test_scenarios()\n",
    "v3.describe()"
   ],
   "metadata": {
    "collapsed": false,
    "pycharm": {
     "name": "#%%\n"
    }
   }
  },
  {
   "cell_type": "code",
   "execution_count": 49,
   "outputs": [
    {
     "name": "stdout",
     "output_type": "stream",
     "text": [
      " staked_amt = 2010938.419361665895774158\n",
      " erc20contracts_bntkn = 1988938.419361665895774158\n",
      " program_wallet_bntkn = 0E-18\n",
      " total_rewards = 360000.000000000000000000\n",
      " prev_token_amt_distributed = 300269.546801841421255812\n",
      " token_amt_to_distribute = 300269.5468018414212558117086\n",
      " pool_token_amt_to_burn = -2.882120356455097285522411082E-19\n",
      " remaining_rewards = 59730.4531981585787441882914\n",
      "Saved to test_scenarios.json\n"
     ]
    },
    {
     "data": {
      "text/plain": "                     Trading Liquidity               Vault  \\\n0            bnt=0.000000 dai=0.000000        bnt=0.000000   \n1            bnt=0.000000 eth=0.000000        dai=0.000000   \n2           bnt=0.000000 link=0.000000        eth=0.000000   \n3  bnt=160000.000000 tkn=160000.000000       link=0.000000   \n4           bnt=0.000000 wbtc=0.000000  tkn=2010938.419362   \n5                                            wbtc=0.000000   \n\n              Staking       ERC20 Contracts        Vortex External Protection  \\\n0        bnt=0.000000        bnbnt=0.000000  bnt=0.000000        dai=0.000000   \n1        dai=0.000000        bndai=0.000000                      eth=0.000000   \n2        eth=0.000000        bneth=0.000000                     link=0.000000   \n3       link=0.000000       bnlink=0.000000                      bnt=0.000000   \n4  tkn=2010938.419362  bntkn=1988938.419362                      tkn=0.000000   \n5       wbtc=0.000000       bnwbtc=0.000000                     wbtc=0.000000   \n\n  Protocol WalletState  \n0   bnbnt=80000.000000  \n1                       \n2                       \n3                       \n4                       \n5                       ",
      "text/html": "<div>\n<style scoped>\n    .dataframe tbody tr th:only-of-type {\n        vertical-align: middle;\n    }\n\n    .dataframe tbody tr th {\n        vertical-align: top;\n    }\n\n    .dataframe thead th {\n        text-align: right;\n    }\n</style>\n<table border=\"1\" class=\"dataframe\">\n  <thead>\n    <tr style=\"text-align: right;\">\n      <th></th>\n      <th>Trading Liquidity</th>\n      <th>Vault</th>\n      <th>Staking</th>\n      <th>ERC20 Contracts</th>\n      <th>Vortex</th>\n      <th>External Protection</th>\n      <th>Protocol WalletState</th>\n    </tr>\n  </thead>\n  <tbody>\n    <tr>\n      <th>0</th>\n      <td>bnt=0.000000 dai=0.000000</td>\n      <td>bnt=0.000000</td>\n      <td>bnt=0.000000</td>\n      <td>bnbnt=0.000000</td>\n      <td>bnt=0.000000</td>\n      <td>dai=0.000000</td>\n      <td>bnbnt=80000.000000</td>\n    </tr>\n    <tr>\n      <th>1</th>\n      <td>bnt=0.000000 eth=0.000000</td>\n      <td>dai=0.000000</td>\n      <td>dai=0.000000</td>\n      <td>bndai=0.000000</td>\n      <td></td>\n      <td>eth=0.000000</td>\n      <td></td>\n    </tr>\n    <tr>\n      <th>2</th>\n      <td>bnt=0.000000 link=0.000000</td>\n      <td>eth=0.000000</td>\n      <td>eth=0.000000</td>\n      <td>bneth=0.000000</td>\n      <td></td>\n      <td>link=0.000000</td>\n      <td></td>\n    </tr>\n    <tr>\n      <th>3</th>\n      <td>bnt=160000.000000 tkn=160000.000000</td>\n      <td>link=0.000000</td>\n      <td>link=0.000000</td>\n      <td>bnlink=0.000000</td>\n      <td></td>\n      <td>bnt=0.000000</td>\n      <td></td>\n    </tr>\n    <tr>\n      <th>4</th>\n      <td>bnt=0.000000 wbtc=0.000000</td>\n      <td>tkn=2010938.419362</td>\n      <td>tkn=2010938.419362</td>\n      <td>bntkn=1988938.419362</td>\n      <td></td>\n      <td>tkn=0.000000</td>\n      <td></td>\n    </tr>\n    <tr>\n      <th>5</th>\n      <td></td>\n      <td>wbtc=0.000000</td>\n      <td>wbtc=0.000000</td>\n      <td>bnwbtc=0.000000</td>\n      <td></td>\n      <td>wbtc=0.000000</td>\n      <td></td>\n    </tr>\n  </tbody>\n</table>\n</div>"
     },
     "execution_count": 49,
     "metadata": {},
     "output_type": "execute_result"
    }
   ],
   "source": [
    "timestamp = 14 * 4200 * 2 + 14 * 8 * 2000\n",
    "\n",
    "v3.distribute_autocompounding_program(\n",
    "                                     tkn_name='TKN',\n",
    "                                     timestamp= timestamp)\n",
    "v3.export_test_scenarios()\n",
    "v3.describe()"
   ],
   "metadata": {
    "collapsed": false,
    "pycharm": {
     "name": "#%%\n"
    }
   }
  },
  {
   "cell_type": "code",
   "execution_count": 50,
   "outputs": [
    {
     "name": "stdout",
     "output_type": "stream",
     "text": [
      " staked_amt = 2010938.419361665895774158\n",
      " erc20contracts_bntkn = 1988938.419361665895774158\n",
      " program_wallet_bntkn = 0E-18\n",
      " total_rewards = 360000.000000000000000000\n",
      " prev_token_amt_distributed = 300269.546801841421255812\n",
      " token_amt_to_distribute = 300269.5468018414212558117086\n",
      " pool_token_amt_to_burn = -2.882120356455097285522411082E-19\n",
      " remaining_rewards = 59730.4531981585787441882914\n",
      "Saved to test_scenarios.json\n"
     ]
    },
    {
     "data": {
      "text/plain": "                     Trading Liquidity               Vault  \\\n0            bnt=0.000000 dai=0.000000        bnt=0.000000   \n1            bnt=0.000000 eth=0.000000        dai=0.000000   \n2           bnt=0.000000 link=0.000000        eth=0.000000   \n3  bnt=160000.000000 tkn=160000.000000       link=0.000000   \n4           bnt=0.000000 wbtc=0.000000  tkn=2010938.419362   \n5                                            wbtc=0.000000   \n\n              Staking       ERC20 Contracts        Vortex External Protection  \\\n0        bnt=0.000000        bnbnt=0.000000  bnt=0.000000        dai=0.000000   \n1        dai=0.000000        bndai=0.000000                      eth=0.000000   \n2        eth=0.000000        bneth=0.000000                     link=0.000000   \n3       link=0.000000       bnlink=0.000000                      bnt=0.000000   \n4  tkn=2010938.419362  bntkn=1988938.419362                      tkn=0.000000   \n5       wbtc=0.000000       bnwbtc=0.000000                     wbtc=0.000000   \n\n  Protocol WalletState  \n0   bnbnt=80000.000000  \n1                       \n2                       \n3                       \n4                       \n5                       ",
      "text/html": "<div>\n<style scoped>\n    .dataframe tbody tr th:only-of-type {\n        vertical-align: middle;\n    }\n\n    .dataframe tbody tr th {\n        vertical-align: top;\n    }\n\n    .dataframe thead th {\n        text-align: right;\n    }\n</style>\n<table border=\"1\" class=\"dataframe\">\n  <thead>\n    <tr style=\"text-align: right;\">\n      <th></th>\n      <th>Trading Liquidity</th>\n      <th>Vault</th>\n      <th>Staking</th>\n      <th>ERC20 Contracts</th>\n      <th>Vortex</th>\n      <th>External Protection</th>\n      <th>Protocol WalletState</th>\n    </tr>\n  </thead>\n  <tbody>\n    <tr>\n      <th>0</th>\n      <td>bnt=0.000000 dai=0.000000</td>\n      <td>bnt=0.000000</td>\n      <td>bnt=0.000000</td>\n      <td>bnbnt=0.000000</td>\n      <td>bnt=0.000000</td>\n      <td>dai=0.000000</td>\n      <td>bnbnt=80000.000000</td>\n    </tr>\n    <tr>\n      <th>1</th>\n      <td>bnt=0.000000 eth=0.000000</td>\n      <td>dai=0.000000</td>\n      <td>dai=0.000000</td>\n      <td>bndai=0.000000</td>\n      <td></td>\n      <td>eth=0.000000</td>\n      <td></td>\n    </tr>\n    <tr>\n      <th>2</th>\n      <td>bnt=0.000000 link=0.000000</td>\n      <td>eth=0.000000</td>\n      <td>eth=0.000000</td>\n      <td>bneth=0.000000</td>\n      <td></td>\n      <td>link=0.000000</td>\n      <td></td>\n    </tr>\n    <tr>\n      <th>3</th>\n      <td>bnt=160000.000000 tkn=160000.000000</td>\n      <td>link=0.000000</td>\n      <td>link=0.000000</td>\n      <td>bnlink=0.000000</td>\n      <td></td>\n      <td>bnt=0.000000</td>\n      <td></td>\n    </tr>\n    <tr>\n      <th>4</th>\n      <td>bnt=0.000000 wbtc=0.000000</td>\n      <td>tkn=2010938.419362</td>\n      <td>tkn=2010938.419362</td>\n      <td>bntkn=1988938.419362</td>\n      <td></td>\n      <td>tkn=0.000000</td>\n      <td></td>\n    </tr>\n    <tr>\n      <th>5</th>\n      <td></td>\n      <td>wbtc=0.000000</td>\n      <td>wbtc=0.000000</td>\n      <td>bnwbtc=0.000000</td>\n      <td></td>\n      <td>wbtc=0.000000</td>\n      <td></td>\n    </tr>\n  </tbody>\n</table>\n</div>"
     },
     "execution_count": 50,
     "metadata": {},
     "output_type": "execute_result"
    }
   ],
   "source": [
    "timestamp = 14 * 4200 * 2 + 14 * 8 * 2000\n",
    "\n",
    "v3.distribute_autocompounding_program(\n",
    "                                     tkn_name='TKN',\n",
    "                                     timestamp= timestamp)\n",
    "v3.export_test_scenarios()\n",
    "v3.describe()"
   ],
   "metadata": {
    "collapsed": false,
    "pycharm": {
     "name": "#%%\n"
    }
   }
  },
  {
   "cell_type": "code",
   "execution_count": 51,
   "outputs": [
    {
     "name": "stdout",
     "output_type": "stream",
     "text": [
      "Saved to test_scenarios.json\n"
     ]
    },
    {
     "data": {
      "text/plain": "                     Trading Liquidity               Vault  \\\n0            bnt=0.000000 dai=0.000000        bnt=0.000000   \n1            bnt=0.000000 eth=0.000000        dai=0.000000   \n2           bnt=0.000000 link=0.000000        eth=0.000000   \n3  bnt=160000.000000 tkn=160000.000000       link=0.000000   \n4           bnt=0.000000 wbtc=0.000000  tkn=2010938.419362   \n5                                            wbtc=0.000000   \n\n              Staking          ERC20 Contracts        Vortex  \\\n0        bnt=0.000000           bnbnt=0.000000  bnt=0.000000   \n1        dai=0.000000           bndai=0.000000                 \n2        eth=0.000000           bneth=0.000000                 \n3       link=0.000000          bnlink=0.000000                 \n4  tkn=2010938.419362  bntkn=-995982061.580638                 \n5       wbtc=0.000000          bnwbtc=0.000000                 \n\n  External Protection Protocol WalletState  \n0        dai=0.000000   bnbnt=80000.000000  \n1        eth=0.000000                       \n2       link=0.000000                       \n3        bnt=0.000000                       \n4        tkn=0.000000                       \n5       wbtc=0.000000                       ",
      "text/html": "<div>\n<style scoped>\n    .dataframe tbody tr th:only-of-type {\n        vertical-align: middle;\n    }\n\n    .dataframe tbody tr th {\n        vertical-align: top;\n    }\n\n    .dataframe thead th {\n        text-align: right;\n    }\n</style>\n<table border=\"1\" class=\"dataframe\">\n  <thead>\n    <tr style=\"text-align: right;\">\n      <th></th>\n      <th>Trading Liquidity</th>\n      <th>Vault</th>\n      <th>Staking</th>\n      <th>ERC20 Contracts</th>\n      <th>Vortex</th>\n      <th>External Protection</th>\n      <th>Protocol WalletState</th>\n    </tr>\n  </thead>\n  <tbody>\n    <tr>\n      <th>0</th>\n      <td>bnt=0.000000 dai=0.000000</td>\n      <td>bnt=0.000000</td>\n      <td>bnt=0.000000</td>\n      <td>bnbnt=0.000000</td>\n      <td>bnt=0.000000</td>\n      <td>dai=0.000000</td>\n      <td>bnbnt=80000.000000</td>\n    </tr>\n    <tr>\n      <th>1</th>\n      <td>bnt=0.000000 eth=0.000000</td>\n      <td>dai=0.000000</td>\n      <td>dai=0.000000</td>\n      <td>bndai=0.000000</td>\n      <td></td>\n      <td>eth=0.000000</td>\n      <td></td>\n    </tr>\n    <tr>\n      <th>2</th>\n      <td>bnt=0.000000 link=0.000000</td>\n      <td>eth=0.000000</td>\n      <td>eth=0.000000</td>\n      <td>bneth=0.000000</td>\n      <td></td>\n      <td>link=0.000000</td>\n      <td></td>\n    </tr>\n    <tr>\n      <th>3</th>\n      <td>bnt=160000.000000 tkn=160000.000000</td>\n      <td>link=0.000000</td>\n      <td>link=0.000000</td>\n      <td>bnlink=0.000000</td>\n      <td></td>\n      <td>bnt=0.000000</td>\n      <td></td>\n    </tr>\n    <tr>\n      <th>4</th>\n      <td>bnt=0.000000 wbtc=0.000000</td>\n      <td>tkn=2010938.419362</td>\n      <td>tkn=2010938.419362</td>\n      <td>bntkn=-995982061.580638</td>\n      <td></td>\n      <td>tkn=0.000000</td>\n      <td></td>\n    </tr>\n    <tr>\n      <th>5</th>\n      <td></td>\n      <td>wbtc=0.000000</td>\n      <td>wbtc=0.000000</td>\n      <td>bnwbtc=0.000000</td>\n      <td></td>\n      <td>wbtc=0.000000</td>\n      <td></td>\n    </tr>\n  </tbody>\n</table>\n</div>"
     },
     "execution_count": 51,
     "metadata": {},
     "output_type": "execute_result"
    }
   ],
   "source": [
    "timestamp = 14 * 4200 * 2 + 14 * 8 * 2000 + 14\n",
    "\n",
    "state = v3.global_state\n",
    "all_pool_tokens = get_user_balance(state, user_name, 'TKN')\n",
    "\n",
    "v3.burn('TKN', all_pool_tokens, user_name, timestamp)\n",
    "v3.export_test_scenarios()\n",
    "v3.describe()"
   ],
   "metadata": {
    "collapsed": false,
    "pycharm": {
     "name": "#%%\n"
    }
   }
  },
  {
   "cell_type": "code",
   "execution_count": 52,
   "outputs": [
    {
     "name": "stdout",
     "output_type": "stream",
     "text": [
      " staked_amt = 2010938.419361665895774158\n",
      " erc20contracts_bntkn = -995982061.580638334104225842\n",
      " program_wallet_bntkn = 0E-18\n",
      " total_rewards = 360000.000000000000000000\n",
      " prev_token_amt_distributed = 300269.546801841421255812\n",
      " token_amt_to_distribute = 300282.9626082500895756348183\n",
      " pool_token_amt_to_burn = -6644.566165631426157180726243\n",
      " remaining_rewards = 59717.0373917499104243651817\n",
      "Saved to test_scenarios.json\n"
     ]
    },
    {
     "data": {
      "text/plain": "                     Trading Liquidity               Vault  \\\n0            bnt=0.000000 dai=0.000000        bnt=0.000000   \n1            bnt=0.000000 eth=0.000000        dai=0.000000   \n2           bnt=0.000000 link=0.000000        eth=0.000000   \n3  bnt=160000.000000 tkn=160000.000000       link=0.000000   \n4           bnt=0.000000 wbtc=0.000000  tkn=2010938.419362   \n5                                            wbtc=0.000000   \n\n              Staking          ERC20 Contracts        Vortex  \\\n0        bnt=0.000000           bnbnt=0.000000  bnt=0.000000   \n1        dai=0.000000           bndai=0.000000                 \n2        eth=0.000000           bneth=0.000000                 \n3       link=0.000000          bnlink=0.000000                 \n4  tkn=2010938.419362  bntkn=-995975417.014473                 \n5       wbtc=0.000000          bnwbtc=0.000000                 \n\n  External Protection Protocol WalletState  \n0        dai=0.000000   bnbnt=80000.000000  \n1        eth=0.000000                       \n2       link=0.000000                       \n3        bnt=0.000000                       \n4        tkn=0.000000                       \n5       wbtc=0.000000                       ",
      "text/html": "<div>\n<style scoped>\n    .dataframe tbody tr th:only-of-type {\n        vertical-align: middle;\n    }\n\n    .dataframe tbody tr th {\n        vertical-align: top;\n    }\n\n    .dataframe thead th {\n        text-align: right;\n    }\n</style>\n<table border=\"1\" class=\"dataframe\">\n  <thead>\n    <tr style=\"text-align: right;\">\n      <th></th>\n      <th>Trading Liquidity</th>\n      <th>Vault</th>\n      <th>Staking</th>\n      <th>ERC20 Contracts</th>\n      <th>Vortex</th>\n      <th>External Protection</th>\n      <th>Protocol WalletState</th>\n    </tr>\n  </thead>\n  <tbody>\n    <tr>\n      <th>0</th>\n      <td>bnt=0.000000 dai=0.000000</td>\n      <td>bnt=0.000000</td>\n      <td>bnt=0.000000</td>\n      <td>bnbnt=0.000000</td>\n      <td>bnt=0.000000</td>\n      <td>dai=0.000000</td>\n      <td>bnbnt=80000.000000</td>\n    </tr>\n    <tr>\n      <th>1</th>\n      <td>bnt=0.000000 eth=0.000000</td>\n      <td>dai=0.000000</td>\n      <td>dai=0.000000</td>\n      <td>bndai=0.000000</td>\n      <td></td>\n      <td>eth=0.000000</td>\n      <td></td>\n    </tr>\n    <tr>\n      <th>2</th>\n      <td>bnt=0.000000 link=0.000000</td>\n      <td>eth=0.000000</td>\n      <td>eth=0.000000</td>\n      <td>bneth=0.000000</td>\n      <td></td>\n      <td>link=0.000000</td>\n      <td></td>\n    </tr>\n    <tr>\n      <th>3</th>\n      <td>bnt=160000.000000 tkn=160000.000000</td>\n      <td>link=0.000000</td>\n      <td>link=0.000000</td>\n      <td>bnlink=0.000000</td>\n      <td></td>\n      <td>bnt=0.000000</td>\n      <td></td>\n    </tr>\n    <tr>\n      <th>4</th>\n      <td>bnt=0.000000 wbtc=0.000000</td>\n      <td>tkn=2010938.419362</td>\n      <td>tkn=2010938.419362</td>\n      <td>bntkn=-995975417.014473</td>\n      <td></td>\n      <td>tkn=0.000000</td>\n      <td></td>\n    </tr>\n    <tr>\n      <th>5</th>\n      <td></td>\n      <td>wbtc=0.000000</td>\n      <td>wbtc=0.000000</td>\n      <td>bnwbtc=0.000000</td>\n      <td></td>\n      <td>wbtc=0.000000</td>\n      <td></td>\n    </tr>\n  </tbody>\n</table>\n</div>"
     },
     "execution_count": 52,
     "metadata": {},
     "output_type": "execute_result"
    }
   ],
   "source": [
    "timestamp = 14 * 4200 * 2 + 14 * 8 * 2000 + 14 * 2\n",
    "\n",
    "v3.distribute_autocompounding_program(\n",
    "                                     tkn_name='TKN',\n",
    "                                     timestamp= timestamp)\n",
    "v3.export_test_scenarios()\n",
    "v3.describe()"
   ],
   "metadata": {
    "collapsed": false,
    "pycharm": {
     "name": "#%%\n"
    }
   }
  },
  {
   "cell_type": "code",
   "execution_count": 53,
   "outputs": [
    {
     "name": "stdout",
     "output_type": "stream",
     "text": [
      " staked_amt = 2010938.419361665895774158\n",
      " erc20contracts_bntkn = -995975417.014472702678068661\n",
      " program_wallet_bntkn = 6644.566165631426157181\n",
      " total_rewards = 360000.000000000000000000\n",
      " prev_token_amt_distributed = 300282.962608250089575635\n",
      " token_amt_to_distribute = 300289.6693814366307059297671\n",
      " pool_token_amt_to_burn = -3321.690170120821206178965219\n",
      " remaining_rewards = 59710.3306185633692940702329\n",
      "Saved to test_scenarios.json\n"
     ]
    },
    {
     "data": {
      "text/plain": "                     Trading Liquidity               Vault  \\\n0            bnt=0.000000 dai=0.000000        bnt=0.000000   \n1            bnt=0.000000 eth=0.000000        dai=0.000000   \n2           bnt=0.000000 link=0.000000        eth=0.000000   \n3  bnt=160000.000000 tkn=160000.000000       link=0.000000   \n4           bnt=0.000000 wbtc=0.000000  tkn=2010938.419362   \n5                                            wbtc=0.000000   \n\n              Staking          ERC20 Contracts        Vortex  \\\n0        bnt=0.000000           bnbnt=0.000000  bnt=0.000000   \n1        dai=0.000000           bndai=0.000000                 \n2        eth=0.000000           bneth=0.000000                 \n3       link=0.000000          bnlink=0.000000                 \n4  tkn=2010938.419362  bntkn=-995972095.324303                 \n5       wbtc=0.000000          bnwbtc=0.000000                 \n\n  External Protection Protocol WalletState  \n0        dai=0.000000   bnbnt=80000.000000  \n1        eth=0.000000                       \n2       link=0.000000                       \n3        bnt=0.000000                       \n4        tkn=0.000000                       \n5       wbtc=0.000000                       ",
      "text/html": "<div>\n<style scoped>\n    .dataframe tbody tr th:only-of-type {\n        vertical-align: middle;\n    }\n\n    .dataframe tbody tr th {\n        vertical-align: top;\n    }\n\n    .dataframe thead th {\n        text-align: right;\n    }\n</style>\n<table border=\"1\" class=\"dataframe\">\n  <thead>\n    <tr style=\"text-align: right;\">\n      <th></th>\n      <th>Trading Liquidity</th>\n      <th>Vault</th>\n      <th>Staking</th>\n      <th>ERC20 Contracts</th>\n      <th>Vortex</th>\n      <th>External Protection</th>\n      <th>Protocol WalletState</th>\n    </tr>\n  </thead>\n  <tbody>\n    <tr>\n      <th>0</th>\n      <td>bnt=0.000000 dai=0.000000</td>\n      <td>bnt=0.000000</td>\n      <td>bnt=0.000000</td>\n      <td>bnbnt=0.000000</td>\n      <td>bnt=0.000000</td>\n      <td>dai=0.000000</td>\n      <td>bnbnt=80000.000000</td>\n    </tr>\n    <tr>\n      <th>1</th>\n      <td>bnt=0.000000 eth=0.000000</td>\n      <td>dai=0.000000</td>\n      <td>dai=0.000000</td>\n      <td>bndai=0.000000</td>\n      <td></td>\n      <td>eth=0.000000</td>\n      <td></td>\n    </tr>\n    <tr>\n      <th>2</th>\n      <td>bnt=0.000000 link=0.000000</td>\n      <td>eth=0.000000</td>\n      <td>eth=0.000000</td>\n      <td>bneth=0.000000</td>\n      <td></td>\n      <td>link=0.000000</td>\n      <td></td>\n    </tr>\n    <tr>\n      <th>3</th>\n      <td>bnt=160000.000000 tkn=160000.000000</td>\n      <td>link=0.000000</td>\n      <td>link=0.000000</td>\n      <td>bnlink=0.000000</td>\n      <td></td>\n      <td>bnt=0.000000</td>\n      <td></td>\n    </tr>\n    <tr>\n      <th>4</th>\n      <td>bnt=0.000000 wbtc=0.000000</td>\n      <td>tkn=2010938.419362</td>\n      <td>tkn=2010938.419362</td>\n      <td>bntkn=-995972095.324303</td>\n      <td></td>\n      <td>tkn=0.000000</td>\n      <td></td>\n    </tr>\n    <tr>\n      <th>5</th>\n      <td></td>\n      <td>wbtc=0.000000</td>\n      <td>wbtc=0.000000</td>\n      <td>bnwbtc=0.000000</td>\n      <td></td>\n      <td>wbtc=0.000000</td>\n      <td></td>\n    </tr>\n  </tbody>\n</table>\n</div>"
     },
     "execution_count": 53,
     "metadata": {},
     "output_type": "execute_result"
    }
   ],
   "source": [
    "timestamp = 14 * 4200 * 2 + 14 * 8 * 2000 + 14 * 3\n",
    "\n",
    "v3.distribute_autocompounding_program(\n",
    "                                     tkn_name='TKN',\n",
    "                                     timestamp= timestamp)\n",
    "v3.export_test_scenarios()\n",
    "v3.describe()"
   ],
   "metadata": {
    "collapsed": false,
    "pycharm": {
     "name": "#%%\n"
    }
   }
  },
  {
   "cell_type": "code",
   "execution_count": 54,
   "outputs": [
    {
     "name": "stdout",
     "output_type": "stream",
     "text": [
      "Saved to test_scenarios.json\n"
     ]
    },
    {
     "data": {
      "text/plain": "                     Trading Liquidity               Vault  \\\n0            bnt=0.000000 dai=0.000000        bnt=0.000000   \n1            bnt=0.000000 eth=0.000000        dai=0.000000   \n2           bnt=0.000000 link=0.000000        eth=0.000000   \n3  bnt=320000.000000 tkn=320000.000000       link=0.000000   \n4           bnt=0.000000 wbtc=0.000000  tkn=1020383.874543   \n5                                            wbtc=0.000000   \n\n              Staking          ERC20 Contracts        Vortex  \\\n0        bnt=0.000000           bnbnt=0.000000  bnt=0.000000   \n1        dai=0.000000           bndai=0.000000                 \n2        eth=0.000000           bneth=0.000000                 \n3       link=0.000000          bnlink=0.000000                 \n4  tkn=1020383.874543  bntkn=-996962649.869121                 \n5       wbtc=0.000000          bnwbtc=0.000000                 \n\n  External Protection Protocol WalletState  \n0        dai=0.000000  bnbnt=160000.000000  \n1        eth=0.000000                       \n2       link=0.000000                       \n3        bnt=0.000000                       \n4        tkn=0.000000                       \n5       wbtc=0.000000                       ",
      "text/html": "<div>\n<style scoped>\n    .dataframe tbody tr th:only-of-type {\n        vertical-align: middle;\n    }\n\n    .dataframe tbody tr th {\n        vertical-align: top;\n    }\n\n    .dataframe thead th {\n        text-align: right;\n    }\n</style>\n<table border=\"1\" class=\"dataframe\">\n  <thead>\n    <tr style=\"text-align: right;\">\n      <th></th>\n      <th>Trading Liquidity</th>\n      <th>Vault</th>\n      <th>Staking</th>\n      <th>ERC20 Contracts</th>\n      <th>Vortex</th>\n      <th>External Protection</th>\n      <th>Protocol WalletState</th>\n    </tr>\n  </thead>\n  <tbody>\n    <tr>\n      <th>0</th>\n      <td>bnt=0.000000 dai=0.000000</td>\n      <td>bnt=0.000000</td>\n      <td>bnt=0.000000</td>\n      <td>bnbnt=0.000000</td>\n      <td>bnt=0.000000</td>\n      <td>dai=0.000000</td>\n      <td>bnbnt=160000.000000</td>\n    </tr>\n    <tr>\n      <th>1</th>\n      <td>bnt=0.000000 eth=0.000000</td>\n      <td>dai=0.000000</td>\n      <td>dai=0.000000</td>\n      <td>bndai=0.000000</td>\n      <td></td>\n      <td>eth=0.000000</td>\n      <td></td>\n    </tr>\n    <tr>\n      <th>2</th>\n      <td>bnt=0.000000 link=0.000000</td>\n      <td>eth=0.000000</td>\n      <td>eth=0.000000</td>\n      <td>bneth=0.000000</td>\n      <td></td>\n      <td>link=0.000000</td>\n      <td></td>\n    </tr>\n    <tr>\n      <th>3</th>\n      <td>bnt=320000.000000 tkn=320000.000000</td>\n      <td>link=0.000000</td>\n      <td>link=0.000000</td>\n      <td>bnlink=0.000000</td>\n      <td></td>\n      <td>bnt=0.000000</td>\n      <td></td>\n    </tr>\n    <tr>\n      <th>4</th>\n      <td>bnt=0.000000 wbtc=0.000000</td>\n      <td>tkn=1020383.874543</td>\n      <td>tkn=1020383.874543</td>\n      <td>bntkn=-996962649.869121</td>\n      <td></td>\n      <td>tkn=0.000000</td>\n      <td></td>\n    </tr>\n    <tr>\n      <th>5</th>\n      <td></td>\n      <td>wbtc=0.000000</td>\n      <td>wbtc=0.000000</td>\n      <td>bnwbtc=0.000000</td>\n      <td></td>\n      <td>wbtc=0.000000</td>\n      <td></td>\n    </tr>\n  </tbody>\n</table>\n</div>"
     },
     "execution_count": 54,
     "metadata": {},
     "output_type": "execute_result"
    }
   ],
   "source": [
    "timestamp = 14 * 4200 * 2 + 14 * 8 * 2000 + 14 * 4\n",
    "v3.deposit(tkn_name='TKN', tkn_amt=Decimal('2000'), user_name=user_name, timestamp=timestamp)\n",
    "v3.export_test_scenarios()\n",
    "v3.describe()"
   ],
   "metadata": {
    "collapsed": false,
    "pycharm": {
     "name": "#%%\n"
    }
   }
  },
  {
   "cell_type": "code",
   "execution_count": 55,
   "outputs": [
    {
     "data": {
      "text/plain": "(Decimal('0'), Decimal('0'))"
     },
     "execution_count": 55,
     "metadata": {},
     "output_type": "execute_result"
    }
   ],
   "source": [
    "v3.global_state.tokens['BNT'].staking_ledger.balance, v3.global_state.tokens['BNT'].pooltoken_supply.balance"
   ],
   "metadata": {
    "collapsed": false,
    "pycharm": {
     "name": "#%%\n"
    }
   }
  },
  {
   "cell_type": "code",
   "execution_count": 56,
   "outputs": [
    {
     "name": "stdout",
     "output_type": "stream",
     "text": [
      " staked_amt = 1020383.874543277119967086\n",
      " erc20contracts_bntkn = -996962649.869120970632669554\n",
      " program_wallet_bntkn = 9966.256335752247363360\n",
      " total_rewards = 360000.000000000000000000\n",
      " prev_token_amt_distributed = 300289.669381436630705930\n",
      " token_amt_to_distribute = 302893.6232097429061183780282\n",
      " pool_token_amt_to_burn = -2537683.002135669574912742688\n",
      " remaining_rewards = 57106.3767902570938816219718\n",
      "Saved to test_scenarios.json\n"
     ]
    },
    {
     "data": {
      "text/plain": "                     Trading Liquidity               Vault  \\\n0            bnt=0.000000 dai=0.000000        bnt=0.000000   \n1            bnt=0.000000 eth=0.000000        dai=0.000000   \n2           bnt=0.000000 link=0.000000        eth=0.000000   \n3  bnt=320000.000000 tkn=320000.000000       link=0.000000   \n4           bnt=0.000000 wbtc=0.000000  tkn=1020383.874543   \n5                                            wbtc=0.000000   \n\n              Staking          ERC20 Contracts        Vortex  \\\n0        bnt=0.000000           bnbnt=0.000000  bnt=0.000000   \n1        dai=0.000000           bndai=0.000000                 \n2        eth=0.000000           bneth=0.000000                 \n3       link=0.000000          bnlink=0.000000                 \n4  tkn=1020383.874543  bntkn=-994424966.866985                 \n5       wbtc=0.000000          bnwbtc=0.000000                 \n\n  External Protection Protocol WalletState  \n0        dai=0.000000  bnbnt=160000.000000  \n1        eth=0.000000                       \n2       link=0.000000                       \n3        bnt=0.000000                       \n4        tkn=0.000000                       \n5       wbtc=0.000000                       ",
      "text/html": "<div>\n<style scoped>\n    .dataframe tbody tr th:only-of-type {\n        vertical-align: middle;\n    }\n\n    .dataframe tbody tr th {\n        vertical-align: top;\n    }\n\n    .dataframe thead th {\n        text-align: right;\n    }\n</style>\n<table border=\"1\" class=\"dataframe\">\n  <thead>\n    <tr style=\"text-align: right;\">\n      <th></th>\n      <th>Trading Liquidity</th>\n      <th>Vault</th>\n      <th>Staking</th>\n      <th>ERC20 Contracts</th>\n      <th>Vortex</th>\n      <th>External Protection</th>\n      <th>Protocol WalletState</th>\n    </tr>\n  </thead>\n  <tbody>\n    <tr>\n      <th>0</th>\n      <td>bnt=0.000000 dai=0.000000</td>\n      <td>bnt=0.000000</td>\n      <td>bnt=0.000000</td>\n      <td>bnbnt=0.000000</td>\n      <td>bnt=0.000000</td>\n      <td>dai=0.000000</td>\n      <td>bnbnt=160000.000000</td>\n    </tr>\n    <tr>\n      <th>1</th>\n      <td>bnt=0.000000 eth=0.000000</td>\n      <td>dai=0.000000</td>\n      <td>dai=0.000000</td>\n      <td>bndai=0.000000</td>\n      <td></td>\n      <td>eth=0.000000</td>\n      <td></td>\n    </tr>\n    <tr>\n      <th>2</th>\n      <td>bnt=0.000000 link=0.000000</td>\n      <td>eth=0.000000</td>\n      <td>eth=0.000000</td>\n      <td>bneth=0.000000</td>\n      <td></td>\n      <td>link=0.000000</td>\n      <td></td>\n    </tr>\n    <tr>\n      <th>3</th>\n      <td>bnt=320000.000000 tkn=320000.000000</td>\n      <td>link=0.000000</td>\n      <td>link=0.000000</td>\n      <td>bnlink=0.000000</td>\n      <td></td>\n      <td>bnt=0.000000</td>\n      <td></td>\n    </tr>\n    <tr>\n      <th>4</th>\n      <td>bnt=0.000000 wbtc=0.000000</td>\n      <td>tkn=1020383.874543</td>\n      <td>tkn=1020383.874543</td>\n      <td>bntkn=-994424966.866985</td>\n      <td></td>\n      <td>tkn=0.000000</td>\n      <td></td>\n    </tr>\n    <tr>\n      <th>5</th>\n      <td></td>\n      <td>wbtc=0.000000</td>\n      <td>wbtc=0.000000</td>\n      <td>bnwbtc=0.000000</td>\n      <td></td>\n      <td>wbtc=0.000000</td>\n      <td></td>\n    </tr>\n  </tbody>\n</table>\n</div>"
     },
     "execution_count": 56,
     "metadata": {},
     "output_type": "execute_result"
    }
   ],
   "source": [
    "timestamp = 14 * 4200 * 2 + 14 * 8 * 2000 + 14 * 4 * 100\n",
    "\n",
    "v3.distribute_autocompounding_program(\n",
    "                                     tkn_name='TKN',\n",
    "                                     timestamp= timestamp)\n",
    "v3.export_test_scenarios()\n",
    "v3.describe()"
   ],
   "metadata": {
    "collapsed": false,
    "pycharm": {
     "name": "#%%\n"
    }
   }
  },
  {
   "cell_type": "code",
   "execution_count": 57,
   "outputs": [
    {
     "name": "stdout",
     "output_type": "stream",
     "text": [
      " staked_amt = 1020383.874543277119967086\n",
      " erc20contracts_bntkn = -994424966.866985301057756811\n",
      " program_wallet_bntkn = 2547649.258471421822276103\n",
      " total_rewards = 360000.000000000000000000\n",
      " prev_token_amt_distributed = 302893.623209742906118378\n",
      " token_amt_to_distribute = 305402.4187746937896859475498\n",
      " pool_token_amt_to_burn = -2432757.040102721006759071291\n",
      " remaining_rewards = 54597.5812253062103140524502\n",
      "Saved to test_scenarios.json\n"
     ]
    },
    {
     "data": {
      "text/plain": "                     Trading Liquidity               Vault  \\\n0            bnt=0.000000 dai=0.000000        bnt=0.000000   \n1            bnt=0.000000 eth=0.000000        dai=0.000000   \n2           bnt=0.000000 link=0.000000        eth=0.000000   \n3  bnt=320000.000000 tkn=320000.000000       link=0.000000   \n4           bnt=0.000000 wbtc=0.000000  tkn=1020383.874543   \n5                                            wbtc=0.000000   \n\n              Staking          ERC20 Contracts        Vortex  \\\n0        bnt=0.000000           bnbnt=0.000000  bnt=0.000000   \n1        dai=0.000000           bndai=0.000000                 \n2        eth=0.000000           bneth=0.000000                 \n3       link=0.000000          bnlink=0.000000                 \n4  tkn=1020383.874543  bntkn=-991992209.826883                 \n5       wbtc=0.000000          bnwbtc=0.000000                 \n\n  External Protection Protocol WalletState  \n0        dai=0.000000  bnbnt=160000.000000  \n1        eth=0.000000                       \n2       link=0.000000                       \n3        bnt=0.000000                       \n4        tkn=0.000000                       \n5       wbtc=0.000000                       ",
      "text/html": "<div>\n<style scoped>\n    .dataframe tbody tr th:only-of-type {\n        vertical-align: middle;\n    }\n\n    .dataframe tbody tr th {\n        vertical-align: top;\n    }\n\n    .dataframe thead th {\n        text-align: right;\n    }\n</style>\n<table border=\"1\" class=\"dataframe\">\n  <thead>\n    <tr style=\"text-align: right;\">\n      <th></th>\n      <th>Trading Liquidity</th>\n      <th>Vault</th>\n      <th>Staking</th>\n      <th>ERC20 Contracts</th>\n      <th>Vortex</th>\n      <th>External Protection</th>\n      <th>Protocol WalletState</th>\n    </tr>\n  </thead>\n  <tbody>\n    <tr>\n      <th>0</th>\n      <td>bnt=0.000000 dai=0.000000</td>\n      <td>bnt=0.000000</td>\n      <td>bnt=0.000000</td>\n      <td>bnbnt=0.000000</td>\n      <td>bnt=0.000000</td>\n      <td>dai=0.000000</td>\n      <td>bnbnt=160000.000000</td>\n    </tr>\n    <tr>\n      <th>1</th>\n      <td>bnt=0.000000 eth=0.000000</td>\n      <td>dai=0.000000</td>\n      <td>dai=0.000000</td>\n      <td>bndai=0.000000</td>\n      <td></td>\n      <td>eth=0.000000</td>\n      <td></td>\n    </tr>\n    <tr>\n      <th>2</th>\n      <td>bnt=0.000000 link=0.000000</td>\n      <td>eth=0.000000</td>\n      <td>eth=0.000000</td>\n      <td>bneth=0.000000</td>\n      <td></td>\n      <td>link=0.000000</td>\n      <td></td>\n    </tr>\n    <tr>\n      <th>3</th>\n      <td>bnt=320000.000000 tkn=320000.000000</td>\n      <td>link=0.000000</td>\n      <td>link=0.000000</td>\n      <td>bnlink=0.000000</td>\n      <td></td>\n      <td>bnt=0.000000</td>\n      <td></td>\n    </tr>\n    <tr>\n      <th>4</th>\n      <td>bnt=0.000000 wbtc=0.000000</td>\n      <td>tkn=1020383.874543</td>\n      <td>tkn=1020383.874543</td>\n      <td>bntkn=-991992209.826883</td>\n      <td></td>\n      <td>tkn=0.000000</td>\n      <td></td>\n    </tr>\n    <tr>\n      <th>5</th>\n      <td></td>\n      <td>wbtc=0.000000</td>\n      <td>wbtc=0.000000</td>\n      <td>bnwbtc=0.000000</td>\n      <td></td>\n      <td>wbtc=0.000000</td>\n      <td></td>\n    </tr>\n  </tbody>\n</table>\n</div>"
     },
     "execution_count": 57,
     "metadata": {},
     "output_type": "execute_result"
    }
   ],
   "source": [
    "timestamp = 14 * 4200 * 2 + 14 * 8 * 2000 + 14 * 4 * 200\n",
    "\n",
    "v3.distribute_autocompounding_program(\n",
    "                                     tkn_name='TKN',\n",
    "                                     timestamp= timestamp)\n",
    "v3.export_test_scenarios()\n",
    "v3.describe()"
   ],
   "metadata": {
    "collapsed": false,
    "pycharm": {
     "name": "#%%\n"
    }
   }
  },
  {
   "cell_type": "code",
   "execution_count": 58,
   "outputs": [
    {
     "name": "stdout",
     "output_type": "stream",
     "text": [
      " staked_amt = 1020383.874543277119967086\n",
      " erc20contracts_bntkn = -991992209.826882580050997740\n",
      " program_wallet_bntkn = 4980406.298574142829035174\n",
      " total_rewards = 360000.000000000000000000\n",
      " prev_token_amt_distributed = 305402.418774693789685948\n",
      " token_amt_to_distribute = 305402.4187746937896859475498\n",
      " pool_token_amt_to_burn = 4.354870023976735809237683267E-16\n",
      " remaining_rewards = 54597.5812253062103140524502\n",
      "Saved to test_scenarios.json\n"
     ]
    },
    {
     "data": {
      "text/plain": "                     Trading Liquidity               Vault  \\\n0            bnt=0.000000 dai=0.000000        bnt=0.000000   \n1            bnt=0.000000 eth=0.000000        dai=0.000000   \n2           bnt=0.000000 link=0.000000        eth=0.000000   \n3  bnt=320000.000000 tkn=320000.000000       link=0.000000   \n4           bnt=0.000000 wbtc=0.000000  tkn=1020383.874543   \n5                                            wbtc=0.000000   \n\n              Staking          ERC20 Contracts        Vortex  \\\n0        bnt=0.000000           bnbnt=0.000000  bnt=0.000000   \n1        dai=0.000000           bndai=0.000000                 \n2        eth=0.000000           bneth=0.000000                 \n3       link=0.000000          bnlink=0.000000                 \n4  tkn=1020383.874543  bntkn=-991992209.826883                 \n5       wbtc=0.000000          bnwbtc=0.000000                 \n\n  External Protection Protocol WalletState  \n0        dai=0.000000  bnbnt=160000.000000  \n1        eth=0.000000                       \n2       link=0.000000                       \n3        bnt=0.000000                       \n4        tkn=0.000000                       \n5       wbtc=0.000000                       ",
      "text/html": "<div>\n<style scoped>\n    .dataframe tbody tr th:only-of-type {\n        vertical-align: middle;\n    }\n\n    .dataframe tbody tr th {\n        vertical-align: top;\n    }\n\n    .dataframe thead th {\n        text-align: right;\n    }\n</style>\n<table border=\"1\" class=\"dataframe\">\n  <thead>\n    <tr style=\"text-align: right;\">\n      <th></th>\n      <th>Trading Liquidity</th>\n      <th>Vault</th>\n      <th>Staking</th>\n      <th>ERC20 Contracts</th>\n      <th>Vortex</th>\n      <th>External Protection</th>\n      <th>Protocol WalletState</th>\n    </tr>\n  </thead>\n  <tbody>\n    <tr>\n      <th>0</th>\n      <td>bnt=0.000000 dai=0.000000</td>\n      <td>bnt=0.000000</td>\n      <td>bnt=0.000000</td>\n      <td>bnbnt=0.000000</td>\n      <td>bnt=0.000000</td>\n      <td>dai=0.000000</td>\n      <td>bnbnt=160000.000000</td>\n    </tr>\n    <tr>\n      <th>1</th>\n      <td>bnt=0.000000 eth=0.000000</td>\n      <td>dai=0.000000</td>\n      <td>dai=0.000000</td>\n      <td>bndai=0.000000</td>\n      <td></td>\n      <td>eth=0.000000</td>\n      <td></td>\n    </tr>\n    <tr>\n      <th>2</th>\n      <td>bnt=0.000000 link=0.000000</td>\n      <td>eth=0.000000</td>\n      <td>eth=0.000000</td>\n      <td>bneth=0.000000</td>\n      <td></td>\n      <td>link=0.000000</td>\n      <td></td>\n    </tr>\n    <tr>\n      <th>3</th>\n      <td>bnt=320000.000000 tkn=320000.000000</td>\n      <td>link=0.000000</td>\n      <td>link=0.000000</td>\n      <td>bnlink=0.000000</td>\n      <td></td>\n      <td>bnt=0.000000</td>\n      <td></td>\n    </tr>\n    <tr>\n      <th>4</th>\n      <td>bnt=0.000000 wbtc=0.000000</td>\n      <td>tkn=1020383.874543</td>\n      <td>tkn=1020383.874543</td>\n      <td>bntkn=-991992209.826883</td>\n      <td></td>\n      <td>tkn=0.000000</td>\n      <td></td>\n    </tr>\n    <tr>\n      <th>5</th>\n      <td></td>\n      <td>wbtc=0.000000</td>\n      <td>wbtc=0.000000</td>\n      <td>bnwbtc=0.000000</td>\n      <td></td>\n      <td>wbtc=0.000000</td>\n      <td></td>\n    </tr>\n  </tbody>\n</table>\n</div>"
     },
     "execution_count": 58,
     "metadata": {},
     "output_type": "execute_result"
    }
   ],
   "source": [
    "timestamp = 14 * 4200 * 2 + 14 * 8 * 2000 + 14 * 4 * 200\n",
    "\n",
    "v3.distribute_autocompounding_program(\n",
    "                                     tkn_name='TKN',\n",
    "                                     timestamp= timestamp)\n",
    "v3.export_test_scenarios()\n",
    "v3.describe()"
   ],
   "metadata": {
    "collapsed": false,
    "pycharm": {
     "name": "#%%\n"
    }
   }
  },
  {
   "cell_type": "code",
   "execution_count": 59,
   "outputs": [
    {
     "name": "stdout",
     "output_type": "stream",
     "text": [
      " staked_amt = 1020383.874543277119967086\n",
      " erc20contracts_bntkn = -991992209.826882580050998175\n",
      " program_wallet_bntkn = 4980406.298574142829034739\n",
      " total_rewards = 360000.000000000000000000\n",
      " prev_token_amt_distributed = 305402.418774693789685948\n",
      " token_amt_to_distribute = 359992.5190780206427521070602\n",
      " pool_token_amt_to_burn = -50137124.73364899552371584882\n",
      " remaining_rewards = 7.4809219793572478929398\n",
      "Saved to test_scenarios.json\n"
     ]
    },
    {
     "data": {
      "text/plain": "                     Trading Liquidity               Vault  \\\n0            bnt=0.000000 dai=0.000000        bnt=0.000000   \n1            bnt=0.000000 eth=0.000000        dai=0.000000   \n2           bnt=0.000000 link=0.000000        eth=0.000000   \n3  bnt=320000.000000 tkn=320000.000000       link=0.000000   \n4           bnt=0.000000 wbtc=0.000000  tkn=1020383.874543   \n5                                            wbtc=0.000000   \n\n              Staking          ERC20 Contracts        Vortex  \\\n0        bnt=0.000000           bnbnt=0.000000  bnt=0.000000   \n1        dai=0.000000           bndai=0.000000                 \n2        eth=0.000000           bneth=0.000000                 \n3       link=0.000000          bnlink=0.000000                 \n4  tkn=1020383.874543  bntkn=-941855085.093234                 \n5       wbtc=0.000000          bnwbtc=0.000000                 \n\n  External Protection Protocol WalletState  \n0        dai=0.000000  bnbnt=160000.000000  \n1        eth=0.000000                       \n2       link=0.000000                       \n3        bnt=0.000000                       \n4        tkn=0.000000                       \n5       wbtc=0.000000                       ",
      "text/html": "<div>\n<style scoped>\n    .dataframe tbody tr th:only-of-type {\n        vertical-align: middle;\n    }\n\n    .dataframe tbody tr th {\n        vertical-align: top;\n    }\n\n    .dataframe thead th {\n        text-align: right;\n    }\n</style>\n<table border=\"1\" class=\"dataframe\">\n  <thead>\n    <tr style=\"text-align: right;\">\n      <th></th>\n      <th>Trading Liquidity</th>\n      <th>Vault</th>\n      <th>Staking</th>\n      <th>ERC20 Contracts</th>\n      <th>Vortex</th>\n      <th>External Protection</th>\n      <th>Protocol WalletState</th>\n    </tr>\n  </thead>\n  <tbody>\n    <tr>\n      <th>0</th>\n      <td>bnt=0.000000 dai=0.000000</td>\n      <td>bnt=0.000000</td>\n      <td>bnt=0.000000</td>\n      <td>bnbnt=0.000000</td>\n      <td>bnt=0.000000</td>\n      <td>dai=0.000000</td>\n      <td>bnbnt=160000.000000</td>\n    </tr>\n    <tr>\n      <th>1</th>\n      <td>bnt=0.000000 eth=0.000000</td>\n      <td>dai=0.000000</td>\n      <td>dai=0.000000</td>\n      <td>bndai=0.000000</td>\n      <td></td>\n      <td>eth=0.000000</td>\n      <td></td>\n    </tr>\n    <tr>\n      <th>2</th>\n      <td>bnt=0.000000 link=0.000000</td>\n      <td>eth=0.000000</td>\n      <td>eth=0.000000</td>\n      <td>bneth=0.000000</td>\n      <td></td>\n      <td>link=0.000000</td>\n      <td></td>\n    </tr>\n    <tr>\n      <th>3</th>\n      <td>bnt=320000.000000 tkn=320000.000000</td>\n      <td>link=0.000000</td>\n      <td>link=0.000000</td>\n      <td>bnlink=0.000000</td>\n      <td></td>\n      <td>bnt=0.000000</td>\n      <td></td>\n    </tr>\n    <tr>\n      <th>4</th>\n      <td>bnt=0.000000 wbtc=0.000000</td>\n      <td>tkn=1020383.874543</td>\n      <td>tkn=1020383.874543</td>\n      <td>bntkn=-941855085.093234</td>\n      <td></td>\n      <td>tkn=0.000000</td>\n      <td></td>\n    </tr>\n    <tr>\n      <th>5</th>\n      <td></td>\n      <td>wbtc=0.000000</td>\n      <td>wbtc=0.000000</td>\n      <td>bnwbtc=0.000000</td>\n      <td></td>\n      <td>wbtc=0.000000</td>\n      <td></td>\n    </tr>\n  </tbody>\n</table>\n</div>"
     },
     "execution_count": 59,
     "metadata": {},
     "output_type": "execute_result"
    }
   ],
   "source": [
    "timestamp = 14 * 4200 * 2 + 14 * 8 * 2000 + 14 * 4 * 20000\n",
    "\n",
    "v3.distribute_autocompounding_program(\n",
    "                                     tkn_name='TKN',\n",
    "                                     timestamp= timestamp)\n",
    "v3.export_test_scenarios()\n",
    "v3.describe()"
   ],
   "metadata": {
    "collapsed": false,
    "pycharm": {
     "name": "#%%\n"
    }
   }
  },
  {
   "cell_type": "code",
   "execution_count": 60,
   "outputs": [
    {
     "name": "stdout",
     "output_type": "stream",
     "text": [
      " staked_amt = 1020383.874543277119967086\n",
      " erc20contracts_bntkn = -941855085.093233584527282326\n",
      " program_wallet_bntkn = 55117531.032223138352750588\n",
      " total_rewards = 360000.000000000000000000\n",
      " prev_token_amt_distributed = 359992.519078020642752107\n",
      " token_amt_to_distribute = 360000.0000000000000000000000\n",
      " pool_token_amt_to_burn = -6523.391971396827864776961796\n",
      " remaining_rewards = 0E-22\n",
      "Saved to test_scenarios.json\n"
     ]
    },
    {
     "data": {
      "text/plain": "                     Trading Liquidity               Vault  \\\n0            bnt=0.000000 dai=0.000000        bnt=0.000000   \n1            bnt=0.000000 eth=0.000000        dai=0.000000   \n2           bnt=0.000000 link=0.000000        eth=0.000000   \n3  bnt=320000.000000 tkn=320000.000000       link=0.000000   \n4           bnt=0.000000 wbtc=0.000000  tkn=1020383.874543   \n5                                            wbtc=0.000000   \n\n              Staking          ERC20 Contracts        Vortex  \\\n0        bnt=0.000000           bnbnt=0.000000  bnt=0.000000   \n1        dai=0.000000           bndai=0.000000                 \n2        eth=0.000000           bneth=0.000000                 \n3       link=0.000000          bnlink=0.000000                 \n4  tkn=1020383.874543  bntkn=-941848561.701262                 \n5       wbtc=0.000000          bnwbtc=0.000000                 \n\n  External Protection Protocol WalletState  \n0        dai=0.000000  bnbnt=160000.000000  \n1        eth=0.000000                       \n2       link=0.000000                       \n3        bnt=0.000000                       \n4        tkn=0.000000                       \n5       wbtc=0.000000                       ",
      "text/html": "<div>\n<style scoped>\n    .dataframe tbody tr th:only-of-type {\n        vertical-align: middle;\n    }\n\n    .dataframe tbody tr th {\n        vertical-align: top;\n    }\n\n    .dataframe thead th {\n        text-align: right;\n    }\n</style>\n<table border=\"1\" class=\"dataframe\">\n  <thead>\n    <tr style=\"text-align: right;\">\n      <th></th>\n      <th>Trading Liquidity</th>\n      <th>Vault</th>\n      <th>Staking</th>\n      <th>ERC20 Contracts</th>\n      <th>Vortex</th>\n      <th>External Protection</th>\n      <th>Protocol WalletState</th>\n    </tr>\n  </thead>\n  <tbody>\n    <tr>\n      <th>0</th>\n      <td>bnt=0.000000 dai=0.000000</td>\n      <td>bnt=0.000000</td>\n      <td>bnt=0.000000</td>\n      <td>bnbnt=0.000000</td>\n      <td>bnt=0.000000</td>\n      <td>dai=0.000000</td>\n      <td>bnbnt=160000.000000</td>\n    </tr>\n    <tr>\n      <th>1</th>\n      <td>bnt=0.000000 eth=0.000000</td>\n      <td>dai=0.000000</td>\n      <td>dai=0.000000</td>\n      <td>bndai=0.000000</td>\n      <td></td>\n      <td>eth=0.000000</td>\n      <td></td>\n    </tr>\n    <tr>\n      <th>2</th>\n      <td>bnt=0.000000 link=0.000000</td>\n      <td>eth=0.000000</td>\n      <td>eth=0.000000</td>\n      <td>bneth=0.000000</td>\n      <td></td>\n      <td>link=0.000000</td>\n      <td></td>\n    </tr>\n    <tr>\n      <th>3</th>\n      <td>bnt=320000.000000 tkn=320000.000000</td>\n      <td>link=0.000000</td>\n      <td>link=0.000000</td>\n      <td>bnlink=0.000000</td>\n      <td></td>\n      <td>bnt=0.000000</td>\n      <td></td>\n    </tr>\n    <tr>\n      <th>4</th>\n      <td>bnt=0.000000 wbtc=0.000000</td>\n      <td>tkn=1020383.874543</td>\n      <td>tkn=1020383.874543</td>\n      <td>bntkn=-941848561.701262</td>\n      <td></td>\n      <td>tkn=0.000000</td>\n      <td></td>\n    </tr>\n    <tr>\n      <th>5</th>\n      <td></td>\n      <td>wbtc=0.000000</td>\n      <td>wbtc=0.000000</td>\n      <td>bnwbtc=0.000000</td>\n      <td></td>\n      <td>wbtc=0.000000</td>\n      <td></td>\n    </tr>\n  </tbody>\n</table>\n</div>"
     },
     "execution_count": 60,
     "metadata": {},
     "output_type": "execute_result"
    }
   ],
   "source": [
    "timestamp = 14 * 4200 * 2 + 14 * 8 * 2000 + 14 * 4 * 200000\n",
    "\n",
    "v3.distribute_autocompounding_program(\n",
    "                                     tkn_name='TKN',\n",
    "                                     timestamp= timestamp)\n",
    "v3.export_test_scenarios()\n",
    "v3.describe()"
   ],
   "metadata": {
    "collapsed": false,
    "pycharm": {
     "name": "#%%\n"
    }
   }
  },
  {
   "cell_type": "code",
   "execution_count": 61,
   "outputs": [
    {
     "name": "stdout",
     "output_type": "stream",
     "text": [
      "Saved to test_scenarios.json\n"
     ]
    },
    {
     "data": {
      "text/plain": "                     Trading Liquidity               Vault  \\\n0            bnt=0.000000 dai=0.000000        bnt=0.000000   \n1            bnt=0.000000 eth=0.000000        dai=0.000000   \n2           bnt=0.000000 link=0.000000        eth=0.000000   \n3  bnt=160000.000000 tkn=160000.000000       link=0.000000   \n4           bnt=0.000000 wbtc=0.000000  tkn=2010938.419362   \n5                                            wbtc=0.000000   \n\n              Staking       ERC20 Contracts        Vortex External Protection  \\\n0        bnt=0.000000        bnbnt=0.000000  bnt=0.000000        dai=0.000000   \n1        dai=0.000000        bndai=0.000000                      eth=0.000000   \n2        eth=0.000000        bneth=0.000000                     link=0.000000   \n3       link=0.000000       bnlink=0.000000                      bnt=0.000000   \n4  tkn=2010938.419362  bntkn=1988938.419362                      tkn=0.000000   \n5       wbtc=0.000000       bnwbtc=0.000000                     wbtc=0.000000   \n\n  Protocol WalletState  \n0   bnbnt=80000.000000  \n1                       \n2                       \n3                       \n4                       \n5                       ",
      "text/html": "<div>\n<style scoped>\n    .dataframe tbody tr th:only-of-type {\n        vertical-align: middle;\n    }\n\n    .dataframe tbody tr th {\n        vertical-align: top;\n    }\n\n    .dataframe thead th {\n        text-align: right;\n    }\n</style>\n<table border=\"1\" class=\"dataframe\">\n  <thead>\n    <tr style=\"text-align: right;\">\n      <th></th>\n      <th>Trading Liquidity</th>\n      <th>Vault</th>\n      <th>Staking</th>\n      <th>ERC20 Contracts</th>\n      <th>Vortex</th>\n      <th>External Protection</th>\n      <th>Protocol WalletState</th>\n    </tr>\n  </thead>\n  <tbody>\n    <tr>\n      <th>0</th>\n      <td>bnt=0.000000 dai=0.000000</td>\n      <td>bnt=0.000000</td>\n      <td>bnt=0.000000</td>\n      <td>bnbnt=0.000000</td>\n      <td>bnt=0.000000</td>\n      <td>dai=0.000000</td>\n      <td>bnbnt=80000.000000</td>\n    </tr>\n    <tr>\n      <th>1</th>\n      <td>bnt=0.000000 eth=0.000000</td>\n      <td>dai=0.000000</td>\n      <td>dai=0.000000</td>\n      <td>bndai=0.000000</td>\n      <td></td>\n      <td>eth=0.000000</td>\n      <td></td>\n    </tr>\n    <tr>\n      <th>2</th>\n      <td>bnt=0.000000 link=0.000000</td>\n      <td>eth=0.000000</td>\n      <td>eth=0.000000</td>\n      <td>bneth=0.000000</td>\n      <td></td>\n      <td>link=0.000000</td>\n      <td></td>\n    </tr>\n    <tr>\n      <th>3</th>\n      <td>bnt=160000.000000 tkn=160000.000000</td>\n      <td>link=0.000000</td>\n      <td>link=0.000000</td>\n      <td>bnlink=0.000000</td>\n      <td></td>\n      <td>bnt=0.000000</td>\n      <td></td>\n    </tr>\n    <tr>\n      <th>4</th>\n      <td>bnt=0.000000 wbtc=0.000000</td>\n      <td>tkn=2010938.419362</td>\n      <td>tkn=2010938.419362</td>\n      <td>bntkn=1988938.419362</td>\n      <td></td>\n      <td>tkn=0.000000</td>\n      <td></td>\n    </tr>\n    <tr>\n      <th>5</th>\n      <td></td>\n      <td>wbtc=0.000000</td>\n      <td>wbtc=0.000000</td>\n      <td>bnwbtc=0.000000</td>\n      <td></td>\n      <td>wbtc=0.000000</td>\n      <td></td>\n    </tr>\n  </tbody>\n</table>\n</div>"
     },
     "execution_count": 61,
     "metadata": {},
     "output_type": "execute_result"
    }
   ],
   "source": [
    "from bancor_research.bancor_simulator.v3.spec.actions import begin_withdrawal_cooldown\n",
    "\n",
    "timestamp = 14 * 4200 * 2 + 14 * 8 * 2000 + 14 * 4 * 200000 + 14\n",
    "\n",
    "state.timestamp = timestamp\n",
    "\n",
    "withdraw_value = Decimal('1000')\n",
    "\n",
    "state, id_number = begin_withdrawal_cooldown(state, withdraw_value, 'TKN', user_name)\n",
    "\n",
    "v3.global_state = state\n",
    "\n",
    "v3.withdraw(user_name=user_name, id_number=id_number, timestamp=timestamp)\n",
    "v3.export_test_scenarios()\n",
    "v3.describe()"
   ],
   "metadata": {
    "collapsed": false,
    "pycharm": {
     "name": "#%%\n"
    }
   }
  },
  {
   "cell_type": "code",
   "execution_count": 62,
   "outputs": [
    {
     "data": {
      "text/plain": "0"
     },
     "execution_count": 62,
     "metadata": {},
     "output_type": "execute_result"
    }
   ],
   "source": [
    "id_number"
   ],
   "metadata": {
    "collapsed": false,
    "pycharm": {
     "name": "#%%\n"
    }
   }
  },
  {
   "cell_type": "code",
   "execution_count": 62,
   "outputs": [],
   "source": [],
   "metadata": {
    "collapsed": false,
    "pycharm": {
     "name": "#%%\n"
    }
   }
  }
 ],
 "metadata": {
  "kernelspec": {
   "name": "v3simulator",
   "language": "python",
   "display_name": "v3simulator"
  },
  "language_info": {
   "codemirror_mode": {
    "name": "ipython",
    "version": 2
   },
   "file_extension": ".py",
   "mimetype": "text/x-python",
   "name": "python",
   "nbconvert_exporter": "python",
   "pygments_lexer": "ipython2",
   "version": "2.7.6"
  }
 },
 "nbformat": 4,
 "nbformat_minor": 0
}