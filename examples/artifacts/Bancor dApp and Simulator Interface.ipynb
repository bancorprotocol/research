{
 "cells": [
  {
   "cell_type": "code",
   "execution_count": 2,
   "metadata": {},
   "outputs": [],
   "source": [
    "from bancor_research.bancor_simulator.v3.spec.state import *\n",
    "from bancor_research.bancor_simulator.v3.spec.network import BancorDapp"
   ]
  },
  {
   "cell_type": "code",
   "execution_count": 3,
   "metadata": {},
   "outputs": [
    {
     "data": {
      "text/plain": "                                   bnt eth link tkn wbtc bnbnt bneth bnlink  \\\n2 Pool    a: TKN Staked Balance      0   0    0   0    0     0     0      0   \n          b: TKN Trading Liquidity   0   0    0   0    0     0     0      0   \n          c: BNT Trading Liquidity   0   0    0   0    0     0     0      0   \n          d: BNT Current Funding     0   0    0   0    0     0     0      0   \n          e: Spot Rate               0   0    0   0    0     0     0      0   \n          f: Average Rate            0   0    0   0    0     0     0      0   \n          g: Average Inverse Rate    0   0    0   0    0     0     0      0   \n3 Network BNT Staked Balance         0   0    0   0    0     0     0      0   \n          Master Vault               0   0    0   0    0     0     0      0   \n          Protection Vault           0   0    0   0    0     0     0      0   \n          Protocol Equity            0   0    0   0    0     0     0      0   \n          Rewards Vault              0   0    0   0    0     0     0      0   \n\n                                   bntkn bnwbtc  vbnt  \n2 Pool    a: TKN Staked Balance        0      0     0  \n          b: TKN Trading Liquidity     0      0     0  \n          c: BNT Trading Liquidity     0      0     0  \n          d: BNT Current Funding       0      0     0  \n          e: Spot Rate                 0      0     0  \n          f: Average Rate              0      0     0  \n          g: Average Inverse Rate      0      0     0  \n3 Network BNT Staked Balance           0      0     0  \n          Master Vault                 0      0     0  \n          Protection Vault             0      0     0  \n          Protocol Equity              0      0     0  \n          Rewards Vault                0      0     0  ",
      "text/html": "<div>\n<style scoped>\n    .dataframe tbody tr th:only-of-type {\n        vertical-align: middle;\n    }\n\n    .dataframe tbody tr th {\n        vertical-align: top;\n    }\n\n    .dataframe thead th {\n        text-align: right;\n    }\n</style>\n<table border=\"1\" class=\"dataframe\">\n  <thead>\n    <tr style=\"text-align: right;\">\n      <th></th>\n      <th></th>\n      <th></th>\n      <th>bnt</th>\n      <th>eth</th>\n      <th>link</th>\n      <th>tkn</th>\n      <th>wbtc</th>\n      <th>bnbnt</th>\n      <th>bneth</th>\n      <th>bnlink</th>\n      <th>bntkn</th>\n      <th>bnwbtc</th>\n      <th>vbnt</th>\n    </tr>\n  </thead>\n  <tbody>\n    <tr>\n      <th rowspan=\"7\" valign=\"top\">2</th>\n      <th rowspan=\"7\" valign=\"top\">Pool</th>\n      <th>a: TKN Staked Balance</th>\n      <td>0</td>\n      <td>0</td>\n      <td>0</td>\n      <td>0</td>\n      <td>0</td>\n      <td>0</td>\n      <td>0</td>\n      <td>0</td>\n      <td>0</td>\n      <td>0</td>\n      <td>0</td>\n    </tr>\n    <tr>\n      <th>b: TKN Trading Liquidity</th>\n      <td>0</td>\n      <td>0</td>\n      <td>0</td>\n      <td>0</td>\n      <td>0</td>\n      <td>0</td>\n      <td>0</td>\n      <td>0</td>\n      <td>0</td>\n      <td>0</td>\n      <td>0</td>\n    </tr>\n    <tr>\n      <th>c: BNT Trading Liquidity</th>\n      <td>0</td>\n      <td>0</td>\n      <td>0</td>\n      <td>0</td>\n      <td>0</td>\n      <td>0</td>\n      <td>0</td>\n      <td>0</td>\n      <td>0</td>\n      <td>0</td>\n      <td>0</td>\n    </tr>\n    <tr>\n      <th>d: BNT Current Funding</th>\n      <td>0</td>\n      <td>0</td>\n      <td>0</td>\n      <td>0</td>\n      <td>0</td>\n      <td>0</td>\n      <td>0</td>\n      <td>0</td>\n      <td>0</td>\n      <td>0</td>\n      <td>0</td>\n    </tr>\n    <tr>\n      <th>e: Spot Rate</th>\n      <td>0</td>\n      <td>0</td>\n      <td>0</td>\n      <td>0</td>\n      <td>0</td>\n      <td>0</td>\n      <td>0</td>\n      <td>0</td>\n      <td>0</td>\n      <td>0</td>\n      <td>0</td>\n    </tr>\n    <tr>\n      <th>f: Average Rate</th>\n      <td>0</td>\n      <td>0</td>\n      <td>0</td>\n      <td>0</td>\n      <td>0</td>\n      <td>0</td>\n      <td>0</td>\n      <td>0</td>\n      <td>0</td>\n      <td>0</td>\n      <td>0</td>\n    </tr>\n    <tr>\n      <th>g: Average Inverse Rate</th>\n      <td>0</td>\n      <td>0</td>\n      <td>0</td>\n      <td>0</td>\n      <td>0</td>\n      <td>0</td>\n      <td>0</td>\n      <td>0</td>\n      <td>0</td>\n      <td>0</td>\n      <td>0</td>\n    </tr>\n    <tr>\n      <th rowspan=\"5\" valign=\"top\">3</th>\n      <th rowspan=\"5\" valign=\"top\">Network</th>\n      <th>BNT Staked Balance</th>\n      <td>0</td>\n      <td>0</td>\n      <td>0</td>\n      <td>0</td>\n      <td>0</td>\n      <td>0</td>\n      <td>0</td>\n      <td>0</td>\n      <td>0</td>\n      <td>0</td>\n      <td>0</td>\n    </tr>\n    <tr>\n      <th>Master Vault</th>\n      <td>0</td>\n      <td>0</td>\n      <td>0</td>\n      <td>0</td>\n      <td>0</td>\n      <td>0</td>\n      <td>0</td>\n      <td>0</td>\n      <td>0</td>\n      <td>0</td>\n      <td>0</td>\n    </tr>\n    <tr>\n      <th>Protection Vault</th>\n      <td>0</td>\n      <td>0</td>\n      <td>0</td>\n      <td>0</td>\n      <td>0</td>\n      <td>0</td>\n      <td>0</td>\n      <td>0</td>\n      <td>0</td>\n      <td>0</td>\n      <td>0</td>\n    </tr>\n    <tr>\n      <th>Protocol Equity</th>\n      <td>0</td>\n      <td>0</td>\n      <td>0</td>\n      <td>0</td>\n      <td>0</td>\n      <td>0</td>\n      <td>0</td>\n      <td>0</td>\n      <td>0</td>\n      <td>0</td>\n      <td>0</td>\n    </tr>\n    <tr>\n      <th>Rewards Vault</th>\n      <td>0</td>\n      <td>0</td>\n      <td>0</td>\n      <td>0</td>\n      <td>0</td>\n      <td>0</td>\n      <td>0</td>\n      <td>0</td>\n      <td>0</td>\n      <td>0</td>\n      <td>0</td>\n    </tr>\n  </tbody>\n</table>\n</div>"
     },
     "execution_count": 3,
     "metadata": {},
     "output_type": "execute_result"
    }
   ],
   "source": [
    "v3 = BancorDapp()\n",
    "v3.describe()"
   ]
  },
  {
   "cell_type": "code",
   "execution_count": 6,
   "metadata": {},
   "outputs": [],
   "source": [
    "v3.whitelist_token('usdc')"
   ]
  },
  {
   "cell_type": "code",
   "execution_count": 7,
   "metadata": {
    "pycharm": {
     "name": "#%%\n"
    }
   },
   "outputs": [
    {
     "data": {
      "text/plain": "{'eth': {'decimals': 18,\n  'trading_fee': Decimal('0.01'),\n  'bnt_funding_limit': Decimal('1000000'),\n  'ep_vault_balance': Decimal('0')},\n 'link': {'decimals': 18,\n  'trading_fee': Decimal('0.01'),\n  'bnt_funding_limit': Decimal('1000000'),\n  'ep_vault_balance': Decimal('0')},\n 'tkn': {'decimals': 18,\n  'trading_fee': Decimal('0.01'),\n  'bnt_funding_limit': Decimal('1000000'),\n  'ep_vault_balance': Decimal('0')},\n 'wbtc': {'decimals': 18,\n  'trading_fee': Decimal('0.01'),\n  'bnt_funding_limit': Decimal('1000000'),\n  'ep_vault_balance': Decimal('0')},\n 'usdc': {'decimals': 18,\n  'trading_fee': Decimal('0.01'),\n  'bnt_funding_limit': Decimal('1000000'),\n  'ep_vault_balance': '0'}}"
     },
     "execution_count": 7,
     "metadata": {},
     "output_type": "execute_result"
    }
   ],
   "source": [
    "state = v3.get_state()\n",
    "state.whitelisted_tokens"
   ]
  },
  {
   "cell_type": "code",
   "execution_count": 8,
   "metadata": {
    "pycharm": {
     "name": "#%%\n"
    }
   },
   "outputs": [
    {
     "data": {
      "text/plain": "{}"
     },
     "execution_count": 8,
     "metadata": {},
     "output_type": "execute_result"
    }
   ],
   "source": [
    "state.users"
   ]
  },
  {
   "cell_type": "code",
   "execution_count": 9,
   "outputs": [],
   "source": [
    "# Create the users\n",
    "v3.create_user('Alice')\n",
    "\n",
    "# Set the initial starting balances\n",
    "v3.set_user_balance(user_name='Alice', tkn_name='eth',tkn_amt=10,timestamp=0)\n",
    "v3.set_user_balance(user_name='Alice', tkn_name='link',tkn_amt=10,timestamp=0)\n",
    "v3.set_user_balance(user_name='Alice', tkn_name='bnt',tkn_amt=10,timestamp=0)\n",
    "v3.set_user_balance(user_name='Alice', tkn_name='usdc',tkn_amt=10,timestamp=0)\n",
    "\n",
    "v3.create_user('Bob')\n",
    "\n",
    "# Set the initial starting balances\n",
    "v3.set_user_balance(user_name='Bob', tkn_name='eth',tkn_amt=10,timestamp=0)\n",
    "v3.set_user_balance(user_name='Bob', tkn_name='link',tkn_amt=10,timestamp=0)\n",
    "v3.set_user_balance(user_name='Bob', tkn_name='bnt',tkn_amt=10,timestamp=0)\n",
    "v3.set_user_balance(user_name='Bob', tkn_name='usdc',tkn_amt=10,timestamp=0)"
   ],
   "metadata": {
    "collapsed": false,
    "pycharm": {
     "name": "#%%\n"
    }
   }
  },
  {
   "cell_type": "code",
   "execution_count": 45,
   "metadata": {
    "pycharm": {
     "name": "#%%\n"
    }
   },
   "outputs": [
    {
     "data": {
      "text/plain": [
       "{'Alice': User(user_name='Alice', pending_withdrawals={}, pending_standard_rewards={}, wallet={'eth': <bancor_research.bancor_simulator.v3.spec.state.Token object at 0x11c8a1e20>, 'bneth': <bancor_research.bancor_simulator.v3.spec.state.Token object at 0x11c8a11c0>, 'link': <bancor_research.bancor_simulator.v3.spec.state.Token object at 0x11c8a1be0>, 'bnlink': <bancor_research.bancor_simulator.v3.spec.state.Token object at 0x11c8a1c70>, 'tkn': <bancor_research.bancor_simulator.v3.spec.state.Token object at 0x11c8a1c10>, 'bntkn': <bancor_research.bancor_simulator.v3.spec.state.Token object at 0x11c8a1c40>, 'wbtc': <bancor_research.bancor_simulator.v3.spec.state.Token object at 0x11c8a1e50>, 'bnwbtc': <bancor_research.bancor_simulator.v3.spec.state.Token object at 0x11c8a1d90>, 'bnt': <bancor_research.bancor_simulator.v3.spec.state.Token object at 0x11c8a1e80>, 'vbnt': <bancor_research.bancor_simulator.v3.spec.state.Token object at 0x11c8a1d60>, 'bnbnt': <bancor_research.bancor_simulator.v3.spec.state.Token object at 0x11c8a1520>}),\n",
       " 'Bob': User(user_name='Bob', pending_withdrawals={}, pending_standard_rewards={}, wallet={'eth': <bancor_research.bancor_simulator.v3.spec.state.Token object at 0x11c8a1250>, 'bneth': <bancor_research.bancor_simulator.v3.spec.state.Token object at 0x11c8a1f10>, 'link': <bancor_research.bancor_simulator.v3.spec.state.Token object at 0x11c8a1730>, 'bnlink': <bancor_research.bancor_simulator.v3.spec.state.Token object at 0x11c8a1ac0>, 'tkn': <bancor_research.bancor_simulator.v3.spec.state.Token object at 0x11c8a1130>, 'bntkn': <bancor_research.bancor_simulator.v3.spec.state.Token object at 0x11c8a1340>, 'wbtc': <bancor_research.bancor_simulator.v3.spec.state.Token object at 0x11c8a1370>, 'bnwbtc': <bancor_research.bancor_simulator.v3.spec.state.Token object at 0x11c8a1160>, 'bnt': <bancor_research.bancor_simulator.v3.spec.state.Token object at 0x11c8a18b0>, 'vbnt': <bancor_research.bancor_simulator.v3.spec.state.Token object at 0x11c8a1b50>, 'bnbnt': <bancor_research.bancor_simulator.v3.spec.state.Token object at 0x11c8a1970>})}"
      ]
     },
     "execution_count": 45,
     "metadata": {},
     "output_type": "execute_result"
    }
   ],
   "source": [
    "state = v3.get_state()\n",
    "state.users"
   ]
  },
  {
   "cell_type": "code",
   "execution_count": 8,
   "metadata": {
    "pycharm": {
     "name": "#%%\n"
    }
   },
   "outputs": [],
   "source": [
    "state.bnt_min_liquidity = 1000\n",
    "v3.set_state(state)"
   ]
  },
  {
   "cell_type": "code",
   "execution_count": 9,
   "metadata": {
    "pycharm": {
     "name": "#%%\n"
    }
   },
   "outputs": [
    {
     "data": {
      "text/plain": [
       "Decimal('1000')"
      ]
     },
     "execution_count": 9,
     "metadata": {},
     "output_type": "execute_result"
    }
   ],
   "source": [
    "state = v3.get_state()\n",
    "state.bnt_min_liquidity"
   ]
  },
  {
   "cell_type": "code",
   "execution_count": 10,
   "metadata": {
    "pycharm": {
     "name": "#%%\n"
    }
   },
   "outputs": [
    {
     "data": {
      "text/plain": [
       "Decimal('1000000')"
      ]
     },
     "execution_count": 10,
     "metadata": {},
     "output_type": "execute_result"
    }
   ],
   "source": [
    "bnt_funding_limit = get_bnt_funding_limit(state, 'eth')\n",
    "bnt_funding_limit"
   ]
  },
  {
   "cell_type": "code",
   "execution_count": 12,
   "metadata": {
    "pycharm": {
     "name": "#%%\n"
    }
   },
   "outputs": [
    {
     "data": {
      "text/plain": [
       "Decimal('20000')"
      ]
     },
     "execution_count": 12,
     "metadata": {},
     "output_type": "execute_result"
    }
   ],
   "source": [
    "state.tokens['eth'].bnt_funding_limit = 20000\n",
    "v3.set_state(state)\n",
    "bnt_funding_limit = get_bnt_funding_limit(state, 'eth')\n",
    "bnt_funding_limit"
   ]
  },
  {
   "cell_type": "code",
   "execution_count": 11,
   "metadata": {
    "pycharm": {
     "name": "#%%\n"
    }
   },
   "outputs": [],
   "source": []
  }
 ],
 "metadata": {
  "kernelspec": {
   "display_name": "Python 3 (ipykernel)",
   "language": "python",
   "name": "python3"
  },
  "language_info": {
   "codemirror_mode": {
    "name": "ipython",
    "version": 3
   },
   "file_extension": ".py",
   "mimetype": "text/x-python",
   "name": "python",
   "nbconvert_exporter": "python",
   "pygments_lexer": "ipython3",
   "version": "3.8.13"
  }
 },
 "nbformat": 4,
 "nbformat_minor": 1
}