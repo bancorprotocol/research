{
 "cells": [
  {
   "cell_type": "code",
   "execution_count": 1,
   "metadata": {
    "tags": [
     "remove-input"
    ]
   },
   "outputs": [],
   "source": [
    "from datascience import *\n",
    "from datascience.predicates import are\n",
    "path_data = '../../../../data/'\n",
    "import numpy as np\n",
    "import matplotlib\n",
    "matplotlib.use('Agg')\n",
    "%matplotlib inline\n",
    "import matplotlib.pyplot as plots\n",
    "plots.style.use('fivethirtyeight')\n",
    "import warnings\n",
    "warnings.simplefilter(action=\"ignore\", category=FutureWarning)\n",
    "\n",
    "from urllib.request import urlopen\n",
    "import re\n",
    "from bancor3_simulator.protocol import BancorV3\n",
    "from bancor3_simulator.core.settings import GlobalSettings\n",
    "from decimal import Decimal\n",
    "from fractions import Fraction\n",
    "import pandas as pd\n",
    "\n",
    "# Recall from an earlier chapter that we already defined the cooldown period and the exit fees as follows.\n",
    "cooldown_time: int = 7\n",
    "withdrawal_fee: Decimal = Decimal('0.0025')\n",
    "whitelisted_tokens: list = ['bnt', 'eth', 'wbtc', 'link']\n",
    "bnt_funding_limit: Decimal = Decimal('40000')\n",
    "bnt_min_liquidity: Decimal = Decimal('10000')\n",
    "price_feeds = pd.DataFrame({'INDX':[0],\n",
    "                            'bnt':[2.5],\n",
    "                            'link':[15.00],\n",
    "                            'eth':[2500.00],\n",
    "                            'wbtc':[40000.00]})\n",
    "\n",
    "network_fee: Decimal = Decimal('0.2')\n",
    "trading_fee: Decimal = Decimal('0.01')\n",
    "\n",
    "# There are other possible configuration settings available, however for the present purpose we will use the defaults.\n",
    "v3 = BancorV3(whitelisted_tokens=whitelisted_tokens,\n",
    "              network_fee=network_fee,\n",
    "              trading_fee=trading_fee,\n",
    "              cooldown_time=cooldown_time,\n",
    "              withdrawal_fee=withdrawal_fee,\n",
    "              bnt_min_liquidity=bnt_min_liquidity,\n",
    "              bnt_funding_limit=bnt_funding_limit,\n",
    "              price_feeds=price_feeds)\n",
    "\n",
    "v3.create_user('Alice')\n",
    "v3.create_user('Bob')\n",
    "v3.create_user('Charlie')\n",
    "\n",
    "# The actual deposits.\n",
    "v3.stake(tkn_amt=100, tkn_name='eth', user_name='Alice')\n",
    "\n",
    "v3.stake(tkn_amt=10000, tkn_name='link', user_name='Charlie')\n",
    "\n",
    "v3.stake(tkn_amt=100, tkn_name='wbtc', user_name='Bob')\n",
    "\n",
    "v3.stake(tkn_amt=1, tkn_name='eth', user_name='Alice')\n",
    "\n",
    "v3.stake(tkn_amt=1, tkn_name='link', user_name='Charlie')\n",
    "\n",
    "v3.stake(tkn_amt=1, tkn_name='wbtc', user_name='Bob')\n",
    "\n",
    "v3.dao_msig_init_pools(whitelisted_tokens)\n",
    "\n",
    "v3.create_user('Trader')\n",
    "\n",
    "v3.trade(swap_amount=2000, source_token='bnt',  target_token='link', user_name='Trader', timestep=0)\n",
    "\n",
    "v3.trade(swap_amount=302.9981, source_token='link',  target_token='bnt', user_name='Trader', timestep=0)\n",
    "\n",
    "v3.trade(swap_amount=1, source_token='eth',  target_token='wbtc', user_name='Trader', timestep=0)\n",
    "\n",
    "\n",
    "def read_url(url): \n",
    "    return re.sub('\\\\s+', ' ', urlopen(url).read().decode())"
   ]
  },
  {
   "cell_type": "markdown",
   "metadata": {
    "pycharm": {
     "name": "#%% md\n"
    }
   },
   "source": [
    "# PoolState Shutdown"
   ]
  },
  {
   "cell_type": "markdown",
   "source": [
    "The system becomes exposed to potential issues when the trading liquidity on any asset is low. An arbitrary threshold of 1,000 BNT trading liquidity determines if the protocol will continue to allow trading on the affected asset; however, the trigger for this process is determined by liquidity addition and removal operations, not by trading. Therefore, it is possible (and healthy) for a liquidity pool to continue trading during intermittent volatility events, even if the BNT liquidity is traded beyond this threshold.\n",
    "\n",
    "To examine this process, consider the following scenario. A trading pool has 1,000 each of BNT and TKN in available liquidity, then a trader performs a swap, removing BNT from the pool. Under this circumstance, although the pool has dropped below its minimum liquidity requirement, the protocol takes no action and trading can continue as normal.\n",
    "\n",
    "![](https://lh4.googleusercontent.com/0BU20GKKNv8iPqyHcr3vLqEITTsj5Hch6JPcjRLasCORv9E-6ya-YTeQQIIIMIerGRujt4_90dmcyvhLMG1k4F6JVyIAMhpyLfg-MMh2nWYXDcfuh7ozd8jlUpoIZZ05o_5Au50n)\n",
    "\n",
    "However, the trading liquidity is now supercritical; add/remove liquidity actions can cause it to cease functioning. For example, suppose that a TKN liquidity provider executes a withdrawal at this state. After the algorithm has completed its work, the protocol will check that the minimum liquidity threshold is observed. In most cases, a withdrawal performed from this state will result in the pool becoming illiquid, and will trigger the shutdown. However, if there is an add liquidity event during this period that raises the BNT trading liquidity above the threshold, the pool is rescued. If the add liquidity fails to raise the BNT reserve above its threshold, the pool will also enter shutdown. These checks are always performed after the add/remove liquidity event.\n",
    "\n",
    "![](https://lh3.googleusercontent.com/s4ooCq2zRgJItD2kd9zOLuxkHTkCHuWhhKvU1qs1KNKf_p_NLvi2ainxcfpRtU_4u4i-bTpZVgauZrn8glwcpWOm0_xHzdr-csu2n91RDm2ly0ZkrIu9hcy6LqJvpTdOLRT2d_R9)\n",
    "\n",
    "During a shutdown, the pool effectively returns to its bootstrapping phase. The protocol withdraws and destroys all of the BNT trading liquidity, and the pool will remain in shutdown until the BancorDAO msig signers approve new BNT liquidity. However, the vault retains all TKN, which are available for withdrawal with modified logic.\n",
    "\n",
    "When the pool has returned to the bootstrapping phase, the protocol cannot know the value of TKN relative to BNT. However, the value of the bnTKN pool tokens (denominated in TKN) are still known. Therefore, in a TKN surplus, users can withdraw as normal and are essentially unaffected by the state change. In a TKN deficit, the protocol is unable to evaluate the BNT reimbursement, and so a generic pro-rata ownership model must be used until the pool is re-established.\n",
    "\n",
    "As defined previously, a TKN is in surplus when the total vault balance is greater than the staked amount, after accounting for the exit fee. In this case, the trading liquidity is zero, and all TKN in the vault are non-trading. Therefore, only the c component is required to evaluate the surplus condition:\n",
    "\n",
    "![](https://lh3.googleusercontent.com/GsYrQI02eW6dsVIqHzavKfl9owGbOVPC_OXXPA7s_dUTSm-JSn8b8EeVizyyZLB49piE57QtgmpjEhQQUqT0A0hbz2J1R-ZqUNWUfHLHka0GXkPT2qpy3pluTzMdCDMDjFAgZCXL)\n",
    "\n",
    "where e is the TKN balance of the staking ledger, and n is the withdrawal fee (e.g. 0.0025, or 0.25%). So long as the above expression evaluates as True, the protocol is in an effective surplus (i.e. the quantity of TKN exceeds that of the combined user stakes). Therefore, even in shutdown, it is guaranteed that any user withdrawing will receive the full value of their stake in TKN.\n",
    "\n",
    "![](https://lh6.googleusercontent.com/ralLp6Qeruqf85KXPoKnFrpP1MjZyymOFP6JYntRFiP-5SUAwJSIYHPbIg43qksKIXaYDah4DdNUXZZAb9RjeylGFzACyNDQGOA6EYjxYpFWPvkLrlQx3trH1ecPSawjyq6ZP0W6)\n",
    "\n",
    "If the above inequality is False, then there is a technical deficit, and the user is entitled to receive their pro rata share of the remaining illiquid TKN:\n",
    "\n",
    "![](https://lh6.googleusercontent.com/Zjtl-NWU8SQ8366mP4Z8dYn1WMn_ZUJNKC3EQ2CUKY6RV5A0wqyKIOR2yY0mJUDbnyVT7LrjGbpWsXntg-xpWqZoPpegw3Hk7GbRcGZfi3FvPjMOYE1Dqf2B2u_Q2BF8znFlygx2)\n",
    "\n",
    "In the case of a deficit, the external protection wallet continues to reimburse users as normal. Therefore, provided there is an external protection contract in place, users can continue to withdraw the full value of their stake in TKN, regardless of the deficit, provided there are sufficient funds to support it."
   ],
   "metadata": {
    "collapsed": false
   }
  },
  {
   "cell_type": "code",
   "execution_count": 2,
   "outputs": [
    {
     "data": {
      "text/plain": "['bnt=False', 'eth=True', 'wbtc=True', 'link=True']"
     },
     "execution_count": 2,
     "metadata": {},
     "output_type": "execute_result"
    }
   ],
   "source": [
    "#view enabled pools\n",
    "\n",
    "[f'{tkn_name}={v3.global_state.tokens[tkn_name].trading_enabled}' for tkn_name in v3.list_tokens]"
   ],
   "metadata": {
    "collapsed": false,
    "pycharm": {
     "name": "#%%\n"
    }
   }
  },
  {
   "cell_type": "code",
   "execution_count": 3,
   "outputs": [
    {
     "data": {
      "text/plain": "Decimal('19055.238095238095238095238095238095238095238095238095238095238095238095238095238095238095238095238095238095238095238095238095238095238095238095238095238095')"
     },
     "execution_count": 3,
     "metadata": {},
     "output_type": "execute_result"
    }
   ],
   "source": [
    "v3.global_state.tokens['eth'].bnt_trading_liquidity"
   ],
   "metadata": {
    "collapsed": false,
    "pycharm": {
     "name": "#%%\n"
    }
   }
  },
  {
   "cell_type": "code",
   "execution_count": 4,
   "outputs": [
    {
     "data": {
      "text/plain": "Decimal('21.000')"
     },
     "execution_count": 4,
     "metadata": {},
     "output_type": "execute_result"
    }
   ],
   "source": [
    "v3.global_state.tokens['eth'].tkn_trading_liquidity"
   ],
   "metadata": {
    "collapsed": false,
    "pycharm": {
     "name": "#%%\n"
    }
   }
  },
  {
   "cell_type": "code",
   "execution_count": 5,
   "outputs": [
    {
     "data": {
      "text/plain": "Decimal('55.238095238095238095238095238095238095238095238095238095238095238095238095238095238095238095238095238095238095238095238095238095238095238095238095238095')"
     },
     "execution_count": 5,
     "metadata": {},
     "output_type": "execute_result"
    }
   ],
   "source": [
    "# remove liquidity\n",
    "\n",
    "v3.global_state.tokens['eth'].bnt_trading_liquidity -= 19000\n",
    "v3.global_state.tokens['eth'].bnt_trading_liquidity"
   ],
   "metadata": {
    "collapsed": false,
    "pycharm": {
     "name": "#%%\n"
    }
   }
  },
  {
   "cell_type": "code",
   "execution_count": 6,
   "outputs": [
    {
     "data": {
      "text/plain": "State(latest_tkn='eth->wbtc', latest_amt=Decimal('1'), latest_user_name='Trader', latest_action='trade', withdrawal_ids=[], created_at=datetime.datetime(2022, 5, 10, 22, 38, 55, 578783), timestep=0, network_fee=Decimal('0.2'), trading_fee=Decimal('0.01'), bnt_min_liquidity=Decimal('10000'), cooldown_time=7, bnt_funding_limit=Decimal('40000'), alpha=Decimal('0.200000000000000000'), whitelisted_tokens=['bnt', 'eth', 'wbtc', 'link'], staked_bnt=Decimal('59968.361682049793808499768909739681291106465387810134134186909775133735714159405887599394157275316581483433596005595841544599153913437661371902628615843555'), vault_bnt=Decimal('59967.146608242778102915502181619202130336813020400662799131820089104967277535426171479734941941477803329854399069419370760616607973994167131811613551264869'), erc20contracts_bnbnt=Decimal('59944.783622998569393256953286892666727474059109895393364702725471720003094745756509178333303371901469628715333284220890033285725173707435547859254901693671'), protocol_wallet_bnbnt=Decimal('59944.783622998569393256953286892666727474059109895393364702725471720003094745756509178333303371901469628715333284220890033285725173707435547859254901693671'), vortex_bnt=Decimal('12.269230512485587940925158349383514880349338552673478038620302874613811346538785034122392111094685912211771448684277318633056831860373473179999858125105552'), vortex_vbnt_burned=Decimal('0'), tokens=defaultdict(<class 'bancor3_simulator.core.dataclasses.Transaction'>, {'bnt': Transaction(timestep=0, vault_tkn=Decimal('0'), erc20contracts_bntkn=Decimal('0'), staked_tkn=Decimal('0'), trading_enabled=False, bnt_trading_liquidity=Decimal('0'), tkn_trading_liquidity=Decimal('0'), trading_fee=Decimal('0.01'), bnt_funding_limit=Decimal('40000'), bnt_remaining_funding=Decimal('0'), bnt_funding_amount=Decimal('0'), external_protection_vault=Decimal('0'), spot_rate=Decimal('0'), ema_rate=Decimal('0'), ema_last_updated=Decimal('0')), 'eth': Transaction(timestep=0, vault_tkn=Decimal('102'), erc20contracts_bntkn=Decimal('101'), staked_tkn=Decimal('101'), trading_enabled=False, bnt_trading_liquidity=Decimal('0'), tkn_trading_liquidity=Decimal('21.000'), trading_fee=Decimal('0.01'), bnt_funding_limit=Decimal('40000'), bnt_remaining_funding=Decimal('20047.619047619047619047619047619047619047619047619047619047619047619047619047619047619047619047619047619047619047619047619047619047619047619047619047619047'), bnt_funding_amount=Decimal('19952.380952380952380952380952380952380952380952380952380952380952380952380952380952380952380952380952380952380952380952380952380952380952380952380952380953'), external_protection_vault=Decimal('0'), spot_rate=Decimal('907.39229024943310657596371882086167800453514739229024943310657596371882086167800453514739229024943310657596371882086167800453514739229024943310657596371881'), ema_rate=Decimal('1E+3'), ema_last_updated=Decimal('0')), 'wbtc': Transaction(timestep=0, vault_tkn=Decimal('100.94428717598908594815825375170532060027285129604365620736698499317871759890859481582537517053206002728512960436562073669849931787175989085948158253751705'), erc20contracts_bntkn=Decimal('101'), staked_tkn=Decimal('101.00045020463847203274215552523874488403819918144611186903137789904502046384720327421555252387448840381991814461118690313778990450204638472032742155525239'), trading_enabled=True, bnt_trading_liquidity=Decimal('20940.883461062233926455079340147807870167329279462131117779169411971091179464374957927997209478796730520917689823776954129787793917561312932066719566898055'), tkn_trading_liquidity=Decimal('1.1942871759890859481582537517053206002728512960436562073669849931787175989085948158253751705320600272851296043656207366984993178717598908594815825375170532'), trading_fee=Decimal('0.01'), bnt_funding_limit=Decimal('40000'), bnt_remaining_funding=Decimal('20000'), bnt_funding_amount=Decimal('20000'), external_protection_vault=Decimal('0'), spot_rate=Decimal('17534.211102718566924840087565951300865400770907253143071788592439535430250935858060241568351546223070234698118476522219384729430915793917015355510051017405'), ema_rate=Decimal('1.6E+4'), ema_last_updated=Decimal('0')), 'link': Transaction(timestep=0, vault_tkn=Decimal('10003.998100000000022191670723259449005126953125000000000000000000000000000000000000000000000000000000000000000000000000000000000000000000000000000000000000'), erc20contracts_bntkn=Decimal('10001'), staked_tkn=Decimal('10003.424242424242424242424242424242424242424242424242424242424242424242424242424242424242424242424242424242424242424242424242424242424242424242424242424242'), trading_enabled=True, bnt_trading_liquidity=Decimal('20013.993916668058588519497683122010745289134402385858203314030374259262286724512428517615340351586386896724937796958139312195757224572480726564894126241710'), tkn_trading_liquidity=Decimal('3336.3314333333333555250040565927823384602864583333333333333333333333333333333333333333333333333333333333333333333333333333333333333333333333333333333333333'), trading_fee=Decimal('0.01'), bnt_funding_limit=Decimal('40000'), bnt_remaining_funding=Decimal('19984.019270331158572452612042641271089845915564570818246765471177247216666792975064781558223677064370897518784946785110836353227038943291009049752336537398'), bnt_funding_amount=Decimal('20015.980729668841427547387957358728910154084435429181753234528822752783333207024935218441776322935629102481215053214889163646772961056708990950247663462602'), external_protection_vault=Decimal('0'), spot_rate=Decimal('5.9988026719132186303860850597791465672444132461655216785954515737527075316882281808560186955193618290373313942254039747432219784690800387249272894628761430'), ema_rate=Decimal('6.0000000000000000000000000000000000000000000000000000000000000000000000000000000000000000000000000000000000000000000000000000000000000000000000000000000000'), ema_last_updated=Decimal('0'))}), transactions=[], users=UserState(usernames=['Alice', 'Bob', 'Charlie', 'Trader'], users=defaultdict(<class 'bancor3_simulator.core.dataclasses.User'>, {'Alice': User(user_name='Alice', wallet=defaultdict(<class 'bancor3_simulator.core.dataclasses.WalletState'>, {'dai': WalletState(tkn_name='dai', tkn_amt=Decimal('0'), bntkn_amt=Decimal('0'), pending_withdrawals=defaultdict(<class 'bancor3_simulator.core.dataclasses.CooldownState'>, {}), vbnt_amt=Decimal('0')), 'eth': WalletState(tkn_name='eth', tkn_amt=Decimal('-101'), bntkn_amt=Decimal('101'), pending_withdrawals=defaultdict(<class 'bancor3_simulator.core.dataclasses.CooldownState'>, {}), vbnt_amt=Decimal('0')), 'link': WalletState(tkn_name='link', tkn_amt=Decimal('0'), bntkn_amt=Decimal('0'), pending_withdrawals=defaultdict(<class 'bancor3_simulator.core.dataclasses.CooldownState'>, {}), vbnt_amt=Decimal('0')), 'bnt': WalletState(tkn_name='bnt', tkn_amt=Decimal('0'), bntkn_amt=Decimal('0'), pending_withdrawals=defaultdict(<class 'bancor3_simulator.core.dataclasses.CooldownState'>, {}), vbnt_amt=Decimal('0')), 'tkn': WalletState(tkn_name='tkn', tkn_amt=Decimal('0'), bntkn_amt=Decimal('0'), pending_withdrawals=defaultdict(<class 'bancor3_simulator.core.dataclasses.CooldownState'>, {}), vbnt_amt=Decimal('0')), 'wbtc': WalletState(tkn_name='wbtc', tkn_amt=Decimal('0'), bntkn_amt=Decimal('0'), pending_withdrawals=defaultdict(<class 'bancor3_simulator.core.dataclasses.CooldownState'>, {}), vbnt_amt=Decimal('0'))})), 'Bob': User(user_name='Bob', wallet=defaultdict(<class 'bancor3_simulator.core.dataclasses.WalletState'>, {'dai': WalletState(tkn_name='dai', tkn_amt=Decimal('0'), bntkn_amt=Decimal('0'), pending_withdrawals=defaultdict(<class 'bancor3_simulator.core.dataclasses.CooldownState'>, {}), vbnt_amt=Decimal('0')), 'eth': WalletState(tkn_name='eth', tkn_amt=Decimal('0'), bntkn_amt=Decimal('0'), pending_withdrawals=defaultdict(<class 'bancor3_simulator.core.dataclasses.CooldownState'>, {}), vbnt_amt=Decimal('0')), 'link': WalletState(tkn_name='link', tkn_amt=Decimal('0'), bntkn_amt=Decimal('0'), pending_withdrawals=defaultdict(<class 'bancor3_simulator.core.dataclasses.CooldownState'>, {}), vbnt_amt=Decimal('0')), 'bnt': WalletState(tkn_name='bnt', tkn_amt=Decimal('0'), bntkn_amt=Decimal('0'), pending_withdrawals=defaultdict(<class 'bancor3_simulator.core.dataclasses.CooldownState'>, {}), vbnt_amt=Decimal('0')), 'tkn': WalletState(tkn_name='tkn', tkn_amt=Decimal('0'), bntkn_amt=Decimal('0'), pending_withdrawals=defaultdict(<class 'bancor3_simulator.core.dataclasses.CooldownState'>, {}), vbnt_amt=Decimal('0')), 'wbtc': WalletState(tkn_name='wbtc', tkn_amt=Decimal('-101'), bntkn_amt=Decimal('101'), pending_withdrawals=defaultdict(<class 'bancor3_simulator.core.dataclasses.CooldownState'>, {}), vbnt_amt=Decimal('0'))})), 'Charlie': User(user_name='Charlie', wallet=defaultdict(<class 'bancor3_simulator.core.dataclasses.WalletState'>, {'dai': WalletState(tkn_name='dai', tkn_amt=Decimal('0'), bntkn_amt=Decimal('0'), pending_withdrawals=defaultdict(<class 'bancor3_simulator.core.dataclasses.CooldownState'>, {}), vbnt_amt=Decimal('0')), 'eth': WalletState(tkn_name='eth', tkn_amt=Decimal('0'), bntkn_amt=Decimal('0'), pending_withdrawals=defaultdict(<class 'bancor3_simulator.core.dataclasses.CooldownState'>, {}), vbnt_amt=Decimal('0')), 'link': WalletState(tkn_name='link', tkn_amt=Decimal('-10001'), bntkn_amt=Decimal('10001'), pending_withdrawals=defaultdict(<class 'bancor3_simulator.core.dataclasses.CooldownState'>, {}), vbnt_amt=Decimal('0')), 'bnt': WalletState(tkn_name='bnt', tkn_amt=Decimal('0'), bntkn_amt=Decimal('0'), pending_withdrawals=defaultdict(<class 'bancor3_simulator.core.dataclasses.CooldownState'>, {}), vbnt_amt=Decimal('0')), 'tkn': WalletState(tkn_name='tkn', tkn_amt=Decimal('0'), bntkn_amt=Decimal('0'), pending_withdrawals=defaultdict(<class 'bancor3_simulator.core.dataclasses.CooldownState'>, {}), vbnt_amt=Decimal('0')), 'wbtc': WalletState(tkn_name='wbtc', tkn_amt=Decimal('0'), bntkn_amt=Decimal('0'), pending_withdrawals=defaultdict(<class 'bancor3_simulator.core.dataclasses.CooldownState'>, {}), vbnt_amt=Decimal('0'))})), 'Trader': User(user_name='Trader', wallet=defaultdict(<class 'bancor3_simulator.core.dataclasses.WalletState'>, {'dai': WalletState(tkn_name='dai', tkn_amt=Decimal('0'), bntkn_amt=Decimal('0'), pending_withdrawals=defaultdict(<class 'bancor3_simulator.core.dataclasses.CooldownState'>, {}), vbnt_amt=Decimal('0')), 'eth': WalletState(tkn_name='eth', tkn_amt=Decimal('-0.94428717598908594815825375170532060027285129604365620736698499317871759890859481582537517053206002728512960436562073669849931787175989085948158253751705321'), bntkn_amt=Decimal('0'), pending_withdrawals=defaultdict(<class 'bancor3_simulator.core.dataclasses.CooldownState'>, {}), vbnt_amt=Decimal('0')), 'link': WalletState(tkn_name='link', tkn_amt=Decimal('1674.6171965191266367975889998832536264409957593612419627729418156569374843693357332821698199632841014320503628353425340012881539307677376300931483534970356'), bntkn_amt=Decimal('0'), pending_withdrawals=defaultdict(<class 'bancor3_simulator.core.dataclasses.CooldownState'>, {}), vbnt_amt=Decimal('0')), 'bnt': WalletState(tkn_name='bnt', tkn_amt=Decimal('-1700.0000000000000000000000000000000000000000000000000000000000000000000000000000000000000000000000000000000000000000000000000000000000000000000000000000000'), bntkn_amt=Decimal('0'), pending_withdrawals=defaultdict(<class 'bancor3_simulator.core.dataclasses.CooldownState'>, {}), vbnt_amt=Decimal('0')), 'tkn': WalletState(tkn_name='tkn', tkn_amt=Decimal('0'), bntkn_amt=Decimal('0'), pending_withdrawals=defaultdict(<class 'bancor3_simulator.core.dataclasses.CooldownState'>, {}), vbnt_amt=Decimal('0')), 'wbtc': WalletState(tkn_name='wbtc', tkn_amt=Decimal('0'), bntkn_amt=Decimal('0'), pending_withdrawals=defaultdict(<class 'bancor3_simulator.core.dataclasses.CooldownState'>, {}), vbnt_amt=Decimal('0'))}))}), history=[]), history=[   timestep latest_action latest_amt latest_user_name latest_tkn tkn_name  \\\n0         0     stake_tkn        100            Alice        eth      bnt   \n\n  vault_tkn erc20contracts_bntkn staked_tkn  trading_enabled  ...  \\\n0         0                    0          0            False  ...   \n\n         withdrawal_fee bnt_min_liquidity cooldown_time protocol_wallet_bnbnt  \\\n0  1.002500000000000000             10000             7                     0   \n\n  vortex_bnt vortex_vbnt_burned erc20contracts_bnbnt vault_bnt staked_bnt  \\\n0          0                  0                    0         0          0   \n\n   bnbnt_rate  \n0           1  \n\n[1 rows x 35 columns],    timestep latest_action latest_amt latest_user_name latest_tkn tkn_name  \\\n0         0     stake_tkn        100            Alice        eth      eth   \n\n  vault_tkn erc20contracts_bntkn staked_tkn  trading_enabled  ...  \\\n0       100                  100        100            False  ...   \n\n         withdrawal_fee bnt_min_liquidity cooldown_time protocol_wallet_bnbnt  \\\n0  1.002500000000000000             10000             7                     0   \n\n  vortex_bnt vortex_vbnt_burned erc20contracts_bnbnt vault_bnt staked_bnt  \\\n0          0                  0                    0         0          0   \n\n   bnbnt_rate  \n0           1  \n\n[1 rows x 35 columns],    timestep latest_action latest_amt latest_user_name latest_tkn tkn_name  \\\n0         0     stake_tkn        100            Alice        eth     wbtc   \n\n  vault_tkn erc20contracts_bntkn staked_tkn  trading_enabled  ...  \\\n0         0                    0          0            False  ...   \n\n         withdrawal_fee bnt_min_liquidity cooldown_time protocol_wallet_bnbnt  \\\n0  1.002500000000000000             10000             7                     0   \n\n  vortex_bnt vortex_vbnt_burned erc20contracts_bnbnt vault_bnt staked_bnt  \\\n0          0                  0                    0         0          0   \n\n   bnbnt_rate  \n0           1  \n\n[1 rows x 35 columns],    timestep latest_action latest_amt latest_user_name latest_tkn tkn_name  \\\n0         0     stake_tkn        100            Alice        eth     link   \n\n  vault_tkn erc20contracts_bntkn staked_tkn  trading_enabled  ...  \\\n0         0                    0          0            False  ...   \n\n         withdrawal_fee bnt_min_liquidity cooldown_time protocol_wallet_bnbnt  \\\n0  1.002500000000000000             10000             7                     0   \n\n  vortex_bnt vortex_vbnt_burned erc20contracts_bnbnt vault_bnt staked_bnt  \\\n0          0                  0                    0         0          0   \n\n   bnbnt_rate  \n0           1  \n\n[1 rows x 35 columns],    timestep latest_action latest_amt latest_user_name latest_tkn tkn_name  \\\n0         0     stake_tkn      10000          Charlie       link      bnt   \n\n  vault_tkn erc20contracts_bntkn staked_tkn  trading_enabled  ...  \\\n0         0                    0          0            False  ...   \n\n         withdrawal_fee bnt_min_liquidity cooldown_time protocol_wallet_bnbnt  \\\n0  1.002500000000000000             10000             7                     0   \n\n  vortex_bnt vortex_vbnt_burned erc20contracts_bnbnt vault_bnt staked_bnt  \\\n0          0                  0                    0         0          0   \n\n   bnbnt_rate  \n0           1  \n\n[1 rows x 35 columns],    timestep latest_action latest_amt latest_user_name latest_tkn tkn_name  \\\n0         0     stake_tkn      10000          Charlie       link      eth   \n\n  vault_tkn erc20contracts_bntkn staked_tkn  trading_enabled  ...  \\\n0       100                  100        100            False  ...   \n\n         withdrawal_fee bnt_min_liquidity cooldown_time protocol_wallet_bnbnt  \\\n0  1.002500000000000000             10000             7                     0   \n\n  vortex_bnt vortex_vbnt_burned erc20contracts_bnbnt vault_bnt staked_bnt  \\\n0          0                  0                    0         0          0   \n\n   bnbnt_rate  \n0           1  \n\n[1 rows x 35 columns],    timestep latest_action latest_amt latest_user_name latest_tkn tkn_name  \\\n0         0     stake_tkn      10000          Charlie       link     wbtc   \n\n  vault_tkn erc20contracts_bntkn staked_tkn  trading_enabled  ...  \\\n0         0                    0          0            False  ...   \n\n         withdrawal_fee bnt_min_liquidity cooldown_time protocol_wallet_bnbnt  \\\n0  1.002500000000000000             10000             7                     0   \n\n  vortex_bnt vortex_vbnt_burned erc20contracts_bnbnt vault_bnt staked_bnt  \\\n0          0                  0                    0         0          0   \n\n   bnbnt_rate  \n0           1  \n\n[1 rows x 35 columns],    timestep latest_action latest_amt latest_user_name latest_tkn tkn_name  \\\n0         0     stake_tkn      10000          Charlie       link     link   \n\n  vault_tkn erc20contracts_bntkn staked_tkn  trading_enabled  ...  \\\n0     10000                10000      10000            False  ...   \n\n         withdrawal_fee bnt_min_liquidity cooldown_time protocol_wallet_bnbnt  \\\n0  1.002500000000000000             10000             7                     0   \n\n  vortex_bnt vortex_vbnt_burned erc20contracts_bnbnt vault_bnt staked_bnt  \\\n0          0                  0                    0         0          0   \n\n   bnbnt_rate  \n0           1  \n\n[1 rows x 35 columns],    timestep latest_action latest_amt latest_user_name latest_tkn tkn_name  \\\n0         0     stake_tkn        100              Bob       wbtc      bnt   \n\n  vault_tkn erc20contracts_bntkn staked_tkn  trading_enabled  ...  \\\n0         0                    0          0            False  ...   \n\n         withdrawal_fee bnt_min_liquidity cooldown_time protocol_wallet_bnbnt  \\\n0  1.002500000000000000             10000             7                     0   \n\n  vortex_bnt vortex_vbnt_burned erc20contracts_bnbnt vault_bnt staked_bnt  \\\n0          0                  0                    0         0          0   \n\n   bnbnt_rate  \n0           1  \n\n[1 rows x 35 columns],    timestep latest_action latest_amt latest_user_name latest_tkn tkn_name  \\\n0         0     stake_tkn        100              Bob       wbtc      eth   \n\n  vault_tkn erc20contracts_bntkn staked_tkn  trading_enabled  ...  \\\n0       100                  100        100            False  ...   \n\n         withdrawal_fee bnt_min_liquidity cooldown_time protocol_wallet_bnbnt  \\\n0  1.002500000000000000             10000             7                     0   \n\n  vortex_bnt vortex_vbnt_burned erc20contracts_bnbnt vault_bnt staked_bnt  \\\n0          0                  0                    0         0          0   \n\n   bnbnt_rate  \n0           1  \n\n[1 rows x 35 columns],    timestep latest_action latest_amt latest_user_name latest_tkn tkn_name  \\\n0         0     stake_tkn        100              Bob       wbtc     wbtc   \n\n  vault_tkn erc20contracts_bntkn staked_tkn  trading_enabled  ...  \\\n0       100                  100        100            False  ...   \n\n         withdrawal_fee bnt_min_liquidity cooldown_time protocol_wallet_bnbnt  \\\n0  1.002500000000000000             10000             7                     0   \n\n  vortex_bnt vortex_vbnt_burned erc20contracts_bnbnt vault_bnt staked_bnt  \\\n0          0                  0                    0         0          0   \n\n   bnbnt_rate  \n0           1  \n\n[1 rows x 35 columns],    timestep latest_action latest_amt latest_user_name latest_tkn tkn_name  \\\n0         0     stake_tkn        100              Bob       wbtc     link   \n\n  vault_tkn erc20contracts_bntkn staked_tkn  trading_enabled  ...  \\\n0     10000                10000      10000            False  ...   \n\n         withdrawal_fee bnt_min_liquidity cooldown_time protocol_wallet_bnbnt  \\\n0  1.002500000000000000             10000             7                     0   \n\n  vortex_bnt vortex_vbnt_burned erc20contracts_bnbnt vault_bnt staked_bnt  \\\n0          0                  0                    0         0          0   \n\n   bnbnt_rate  \n0           1  \n\n[1 rows x 35 columns],    timestep latest_action latest_amt latest_user_name latest_tkn tkn_name  \\\n0         0     stake_tkn          1            Alice        eth      bnt   \n\n  vault_tkn erc20contracts_bntkn staked_tkn  trading_enabled  ...  \\\n0         0                    0          0            False  ...   \n\n         withdrawal_fee bnt_min_liquidity cooldown_time protocol_wallet_bnbnt  \\\n0  1.002500000000000000             10000             7                     0   \n\n  vortex_bnt vortex_vbnt_burned erc20contracts_bnbnt vault_bnt staked_bnt  \\\n0          0                  0                    0         0          0   \n\n   bnbnt_rate  \n0           1  \n\n[1 rows x 35 columns],    timestep latest_action latest_amt latest_user_name latest_tkn tkn_name  \\\n0         0     stake_tkn          1            Alice        eth      eth   \n\n  vault_tkn erc20contracts_bntkn staked_tkn  trading_enabled  ...  \\\n0       101                  101        101            False  ...   \n\n         withdrawal_fee bnt_min_liquidity cooldown_time protocol_wallet_bnbnt  \\\n0  1.002500000000000000             10000             7                     0   \n\n  vortex_bnt vortex_vbnt_burned erc20contracts_bnbnt vault_bnt staked_bnt  \\\n0          0                  0                    0         0          0   \n\n   bnbnt_rate  \n0           1  \n\n[1 rows x 35 columns],    timestep latest_action latest_amt latest_user_name latest_tkn tkn_name  \\\n0         0     stake_tkn          1            Alice        eth     wbtc   \n\n  vault_tkn erc20contracts_bntkn staked_tkn  trading_enabled  ...  \\\n0       100                  100        100            False  ...   \n\n         withdrawal_fee bnt_min_liquidity cooldown_time protocol_wallet_bnbnt  \\\n0  1.002500000000000000             10000             7                     0   \n\n  vortex_bnt vortex_vbnt_burned erc20contracts_bnbnt vault_bnt staked_bnt  \\\n0          0                  0                    0         0          0   \n\n   bnbnt_rate  \n0           1  \n\n[1 rows x 35 columns],    timestep latest_action latest_amt latest_user_name latest_tkn tkn_name  \\\n0         0     stake_tkn          1            Alice        eth     link   \n\n  vault_tkn erc20contracts_bntkn staked_tkn  trading_enabled  ...  \\\n0     10000                10000      10000            False  ...   \n\n         withdrawal_fee bnt_min_liquidity cooldown_time protocol_wallet_bnbnt  \\\n0  1.002500000000000000             10000             7                     0   \n\n  vortex_bnt vortex_vbnt_burned erc20contracts_bnbnt vault_bnt staked_bnt  \\\n0          0                  0                    0         0          0   \n\n   bnbnt_rate  \n0           1  \n\n[1 rows x 35 columns],    timestep latest_action latest_amt latest_user_name latest_tkn tkn_name  \\\n0         0     stake_tkn          1          Charlie       link      bnt   \n\n  vault_tkn erc20contracts_bntkn staked_tkn  trading_enabled  ...  \\\n0         0                    0          0            False  ...   \n\n         withdrawal_fee bnt_min_liquidity cooldown_time protocol_wallet_bnbnt  \\\n0  1.002500000000000000             10000             7                     0   \n\n  vortex_bnt vortex_vbnt_burned erc20contracts_bnbnt vault_bnt staked_bnt  \\\n0          0                  0                    0         0          0   \n\n   bnbnt_rate  \n0           1  \n\n[1 rows x 35 columns],    timestep latest_action latest_amt latest_user_name latest_tkn tkn_name  \\\n0         0     stake_tkn          1          Charlie       link      eth   \n\n  vault_tkn erc20contracts_bntkn staked_tkn  trading_enabled  ...  \\\n0       101                  101        101            False  ...   \n\n         withdrawal_fee bnt_min_liquidity cooldown_time protocol_wallet_bnbnt  \\\n0  1.002500000000000000             10000             7                     0   \n\n  vortex_bnt vortex_vbnt_burned erc20contracts_bnbnt vault_bnt staked_bnt  \\\n0          0                  0                    0         0          0   \n\n   bnbnt_rate  \n0           1  \n\n[1 rows x 35 columns],    timestep latest_action latest_amt latest_user_name latest_tkn tkn_name  \\\n0         0     stake_tkn          1          Charlie       link     wbtc   \n\n  vault_tkn erc20contracts_bntkn staked_tkn  trading_enabled  ...  \\\n0       100                  100        100            False  ...   \n\n         withdrawal_fee bnt_min_liquidity cooldown_time protocol_wallet_bnbnt  \\\n0  1.002500000000000000             10000             7                     0   \n\n  vortex_bnt vortex_vbnt_burned erc20contracts_bnbnt vault_bnt staked_bnt  \\\n0          0                  0                    0         0          0   \n\n   bnbnt_rate  \n0           1  \n\n[1 rows x 35 columns],    timestep latest_action latest_amt latest_user_name latest_tkn tkn_name  \\\n0         0     stake_tkn          1          Charlie       link     link   \n\n  vault_tkn erc20contracts_bntkn staked_tkn  trading_enabled  ...  \\\n0     10001                10001      10001            False  ...   \n\n         withdrawal_fee bnt_min_liquidity cooldown_time protocol_wallet_bnbnt  \\\n0  1.002500000000000000             10000             7                     0   \n\n  vortex_bnt vortex_vbnt_burned erc20contracts_bnbnt vault_bnt staked_bnt  \\\n0          0                  0                    0         0          0   \n\n   bnbnt_rate  \n0           1  \n\n[1 rows x 35 columns],    timestep latest_action latest_amt latest_user_name latest_tkn tkn_name  \\\n0         0     stake_tkn          1              Bob       wbtc      bnt   \n\n  vault_tkn erc20contracts_bntkn staked_tkn  trading_enabled  ...  \\\n0         0                    0          0            False  ...   \n\n         withdrawal_fee bnt_min_liquidity cooldown_time protocol_wallet_bnbnt  \\\n0  1.002500000000000000             10000             7                     0   \n\n  vortex_bnt vortex_vbnt_burned erc20contracts_bnbnt vault_bnt staked_bnt  \\\n0          0                  0                    0         0          0   \n\n   bnbnt_rate  \n0           1  \n\n[1 rows x 35 columns],    timestep latest_action latest_amt latest_user_name latest_tkn tkn_name  \\\n0         0     stake_tkn          1              Bob       wbtc      eth   \n\n  vault_tkn erc20contracts_bntkn staked_tkn  trading_enabled  ...  \\\n0       101                  101        101            False  ...   \n\n         withdrawal_fee bnt_min_liquidity cooldown_time protocol_wallet_bnbnt  \\\n0  1.002500000000000000             10000             7                     0   \n\n  vortex_bnt vortex_vbnt_burned erc20contracts_bnbnt vault_bnt staked_bnt  \\\n0          0                  0                    0         0          0   \n\n   bnbnt_rate  \n0           1  \n\n[1 rows x 35 columns],    timestep latest_action latest_amt latest_user_name latest_tkn tkn_name  \\\n0         0     stake_tkn          1              Bob       wbtc     wbtc   \n\n  vault_tkn erc20contracts_bntkn staked_tkn  trading_enabled  ...  \\\n0       101                  101        101            False  ...   \n\n         withdrawal_fee bnt_min_liquidity cooldown_time protocol_wallet_bnbnt  \\\n0  1.002500000000000000             10000             7                     0   \n\n  vortex_bnt vortex_vbnt_burned erc20contracts_bnbnt vault_bnt staked_bnt  \\\n0          0                  0                    0         0          0   \n\n   bnbnt_rate  \n0           1  \n\n[1 rows x 35 columns],    timestep latest_action latest_amt latest_user_name latest_tkn tkn_name  \\\n0         0     stake_tkn          1              Bob       wbtc     link   \n\n  vault_tkn erc20contracts_bntkn staked_tkn  trading_enabled  ...  \\\n0     10001                10001      10001            False  ...   \n\n         withdrawal_fee bnt_min_liquidity cooldown_time protocol_wallet_bnbnt  \\\n0  1.002500000000000000             10000             7                     0   \n\n  vortex_bnt vortex_vbnt_burned erc20contracts_bnbnt vault_bnt staked_bnt  \\\n0          0                  0                    0         0          0   \n\n   bnbnt_rate  \n0           1  \n\n[1 rows x 35 columns],    timestep latest_action latest_amt latest_user_name latest_tkn tkn_name  \\\n0         0         trade       2000           Trader  bnt->link      bnt   \n\n  vault_tkn erc20contracts_bntkn staked_tkn  trading_enabled  ...  \\\n0         0                    0          0            False  ...   \n\n         withdrawal_fee bnt_min_liquidity cooldown_time protocol_wallet_bnbnt  \\\n0  1.002500000000000000             10000             7                 60000   \n\n                                          vortex_bnt vortex_vbnt_burned  \\\n0  4.39560439560439560439560439560439560439560439...                  0   \n\n  erc20contracts_bnbnt vault_bnt staked_bnt  bnbnt_rate  \n0                60000     62000      60000           1  \n\n[1 rows x 35 columns],    timestep latest_action latest_amt latest_user_name latest_tkn tkn_name  \\\n0         0         trade       2000           Trader  bnt->link      eth   \n\n  vault_tkn erc20contracts_bntkn staked_tkn  trading_enabled  ...  \\\n0       101                  101        101             True  ...   \n\n         withdrawal_fee bnt_min_liquidity cooldown_time protocol_wallet_bnbnt  \\\n0  1.002500000000000000             10000             7                 60000   \n\n                                          vortex_bnt vortex_vbnt_burned  \\\n0  4.39560439560439560439560439560439560439560439...                  0   \n\n  erc20contracts_bnbnt vault_bnt staked_bnt  bnbnt_rate  \n0                60000     62000      60000           1  \n\n[1 rows x 35 columns],    timestep latest_action latest_amt latest_user_name latest_tkn tkn_name  \\\n0         0         trade       2000           Trader  bnt->link     wbtc   \n\n  vault_tkn erc20contracts_bntkn staked_tkn  trading_enabled  ...  \\\n0       101                  101        101             True  ...   \n\n         withdrawal_fee bnt_min_liquidity cooldown_time protocol_wallet_bnbnt  \\\n0  1.002500000000000000             10000             7                 60000   \n\n                                          vortex_bnt vortex_vbnt_burned  \\\n0  4.39560439560439560439560439560439560439560439...                  0   \n\n  erc20contracts_bnbnt vault_bnt staked_bnt  bnbnt_rate  \n0                60000     62000      60000           1  \n\n[1 rows x 35 columns],    timestep latest_action latest_amt latest_user_name latest_tkn tkn_name  \\\n0         0         trade       2000           Trader  bnt->link     link   \n\n                                           vault_tkn erc20contracts_bntkn  \\\n0  9701.00000000000000000000000000000000000000000...                10001   \n\n                                          staked_tkn  trading_enabled  ...  \\\n0  10003.4242424242424242424242424242424242424242...             True  ...   \n\n         withdrawal_fee bnt_min_liquidity cooldown_time protocol_wallet_bnbnt  \\\n0  1.002500000000000000             10000             7                 60000   \n\n                                          vortex_bnt vortex_vbnt_burned  \\\n0  4.39560439560439560439560439560439560439560439...                  0   \n\n  erc20contracts_bnbnt vault_bnt staked_bnt  bnbnt_rate  \n0                60000     62000      60000           1  \n\n[1 rows x 35 columns],    timestep latest_action                                      latest_amt  \\\n0         0         trade  302.998100000000022191670723259449005126953125   \n\n  latest_user_name latest_tkn tkn_name vault_tkn erc20contracts_bntkn  \\\n0           Trader  link->bnt      bnt         0                    0   \n\n  staked_tkn  trading_enabled  ...        withdrawal_fee bnt_min_liquidity  \\\n0          0            False  ...  1.002500000000000000             10000   \n\n  cooldown_time protocol_wallet_bnbnt  \\\n0             7                 60000   \n\n                                          vortex_bnt vortex_vbnt_burned  \\\n0  8.39078681281475249124259373528662314291671325...                  0   \n\n  erc20contracts_bnbnt                                          vault_bnt  \\\n0                60000  60022.3847034808733410107402768572973684320511...   \n\n                                          staked_bnt  \\\n0  60015.9807296688414275473879573587289101540844...   \n\n                                          bnbnt_rate  \n0  0.99973372542655224211887987013065288250963352...  \n\n[1 rows x 35 columns],    timestep latest_action                                      latest_amt  \\\n0         0         trade  302.998100000000022191670723259449005126953125   \n\n  latest_user_name latest_tkn tkn_name vault_tkn erc20contracts_bntkn  \\\n0           Trader  link->bnt      eth       101                  101   \n\n  staked_tkn  trading_enabled  ...        withdrawal_fee bnt_min_liquidity  \\\n0        101             True  ...  1.002500000000000000             10000   \n\n  cooldown_time protocol_wallet_bnbnt  \\\n0             7                 60000   \n\n                                          vortex_bnt vortex_vbnt_burned  \\\n0  8.39078681281475249124259373528662314291671325...                  0   \n\n  erc20contracts_bnbnt                                          vault_bnt  \\\n0                60000  60022.3847034808733410107402768572973684320511...   \n\n                                          staked_bnt  \\\n0  60015.9807296688414275473879573587289101540844...   \n\n                                          bnbnt_rate  \n0  0.99973372542655224211887987013065288250963352...  \n\n[1 rows x 35 columns],    timestep latest_action                                      latest_amt  \\\n0         0         trade  302.998100000000022191670723259449005126953125   \n\n  latest_user_name latest_tkn tkn_name vault_tkn erc20contracts_bntkn  \\\n0           Trader  link->bnt     wbtc       101                  101   \n\n  staked_tkn  trading_enabled  ...        withdrawal_fee bnt_min_liquidity  \\\n0        101             True  ...  1.002500000000000000             10000   \n\n  cooldown_time protocol_wallet_bnbnt  \\\n0             7                 60000   \n\n                                          vortex_bnt vortex_vbnt_burned  \\\n0  8.39078681281475249124259373528662314291671325...                  0   \n\n  erc20contracts_bnbnt                                          vault_bnt  \\\n0                60000  60022.3847034808733410107402768572973684320511...   \n\n                                          staked_bnt  \\\n0  60015.9807296688414275473879573587289101540844...   \n\n                                          bnbnt_rate  \n0  0.99973372542655224211887987013065288250963352...  \n\n[1 rows x 35 columns],    timestep latest_action                                      latest_amt  \\\n0         0         trade  302.998100000000022191670723259449005126953125   \n\n  latest_user_name latest_tkn tkn_name  \\\n0           Trader  link->bnt     link   \n\n                                           vault_tkn erc20contracts_bntkn  \\\n0  10003.9981000000000221916707232594490051269531...                10001   \n\n                                          staked_tkn  trading_enabled  ...  \\\n0  10003.4242424242424242424242424242424242424242...             True  ...   \n\n         withdrawal_fee bnt_min_liquidity cooldown_time protocol_wallet_bnbnt  \\\n0  1.002500000000000000             10000             7                 60000   \n\n                                          vortex_bnt vortex_vbnt_burned  \\\n0  8.39078681281475249124259373528662314291671325...                  0   \n\n  erc20contracts_bnbnt                                          vault_bnt  \\\n0                60000  60022.3847034808733410107402768572973684320511...   \n\n                                          staked_bnt  \\\n0  60015.9807296688414275473879573587289101540844...   \n\n                                          bnbnt_rate  \n0  0.99973372542655224211887987013065288250963352...  \n\n[1 rows x 35 columns],    timestep latest_action latest_amt latest_user_name latest_tkn tkn_name  \\\n0         0         trade          1           Trader  eth->wbtc      bnt   \n\n  vault_tkn erc20contracts_bntkn staked_tkn  trading_enabled  ...  \\\n0         0                    0          0            False  ...   \n\n         withdrawal_fee bnt_min_liquidity cooldown_time protocol_wallet_bnbnt  \\\n0  1.002500000000000000             10000             7                 60000   \n\n                                          vortex_bnt vortex_vbnt_burned  \\\n0  12.2692305124855879409251583493835148803493385...                  0   \n\n  erc20contracts_bnbnt                                          vault_bnt  \\\n0                60000  60022.3847034808733410107402768572973684320511...   \n\n                                          staked_bnt  \\\n0  60023.5997772878890465950070049777765292017034...   \n\n                                          bnbnt_rate  \n0  0.99960682502589891517584566832241269227996438...  \n\n[1 rows x 35 columns],    timestep latest_action latest_amt latest_user_name latest_tkn tkn_name  \\\n0         0         trade          1           Trader  eth->wbtc      eth   \n\n  vault_tkn erc20contracts_bntkn staked_tkn  trading_enabled  ...  \\\n0       102                  101        101             True  ...   \n\n         withdrawal_fee bnt_min_liquidity cooldown_time protocol_wallet_bnbnt  \\\n0  1.002500000000000000             10000             7                 60000   \n\n                                          vortex_bnt vortex_vbnt_burned  \\\n0  12.2692305124855879409251583493835148803493385...                  0   \n\n  erc20contracts_bnbnt                                          vault_bnt  \\\n0                60000  60022.3847034808733410107402768572973684320511...   \n\n                                          staked_bnt  \\\n0  60023.5997772878890465950070049777765292017034...   \n\n                                          bnbnt_rate  \n0  0.99960682502589891517584566832241269227996438...  \n\n[1 rows x 35 columns],    timestep latest_action latest_amt latest_user_name latest_tkn tkn_name  \\\n0         0         trade          1           Trader  eth->wbtc     wbtc   \n\n                                           vault_tkn erc20contracts_bntkn  \\\n0  100.944287175989085948158253751705320600272851...                  101   \n\n                                          staked_tkn  trading_enabled  ...  \\\n0  101.000450204638472032742155525238744884038199...             True  ...   \n\n         withdrawal_fee bnt_min_liquidity cooldown_time protocol_wallet_bnbnt  \\\n0  1.002500000000000000             10000             7                 60000   \n\n                                          vortex_bnt vortex_vbnt_burned  \\\n0  12.2692305124855879409251583493835148803493385...                  0   \n\n  erc20contracts_bnbnt                                          vault_bnt  \\\n0                60000  60022.3847034808733410107402768572973684320511...   \n\n                                          staked_bnt  \\\n0  60023.5997772878890465950070049777765292017034...   \n\n                                          bnbnt_rate  \n0  0.99960682502589891517584566832241269227996438...  \n\n[1 rows x 35 columns],    timestep latest_action latest_amt latest_user_name latest_tkn tkn_name  \\\n0         0         trade          1           Trader  eth->wbtc     link   \n\n                                           vault_tkn erc20contracts_bntkn  \\\n0  10003.9981000000000221916707232594490051269531...                10001   \n\n                                          staked_tkn  trading_enabled  ...  \\\n0  10003.4242424242424242424242424242424242424242...             True  ...   \n\n         withdrawal_fee bnt_min_liquidity cooldown_time protocol_wallet_bnbnt  \\\n0  1.002500000000000000             10000             7                 60000   \n\n                                          vortex_bnt vortex_vbnt_burned  \\\n0  12.2692305124855879409251583493835148803493385...                  0   \n\n  erc20contracts_bnbnt                                          vault_bnt  \\\n0                60000  60022.3847034808733410107402768572973684320511...   \n\n                                          staked_bnt  \\\n0  60023.5997772878890465950070049777765292017034...   \n\n                                          bnbnt_rate  \n0  0.99960682502589891517584566832241269227996438...  \n\n[1 rows x 35 columns]])"
     },
     "execution_count": 6,
     "metadata": {},
     "output_type": "execute_result"
    }
   ],
   "source": [
    "# now trigger the automated shutdown based on liquidity\n",
    "\n",
    "v3.global_state.check_pool_shutdown('eth')"
   ],
   "metadata": {
    "collapsed": false,
    "pycharm": {
     "name": "#%%\n"
    }
   }
  },
  {
   "cell_type": "code",
   "execution_count": 7,
   "outputs": [
    {
     "data": {
      "text/plain": "['bnt=False', 'eth=False', 'wbtc=True', 'link=True']"
     },
     "execution_count": 7,
     "metadata": {},
     "output_type": "execute_result"
    }
   ],
   "source": [
    "#confirm that pool was disabled as expected\n",
    "\n",
    "[f'{tkn_name}={v3.global_state.tokens[tkn_name].trading_enabled}' for tkn_name in v3.list_tokens]"
   ],
   "metadata": {
    "collapsed": false,
    "pycharm": {
     "name": "#%%\n"
    }
   }
  },
  {
   "cell_type": "code",
   "execution_count": null,
   "outputs": [],
   "source": [],
   "metadata": {
    "collapsed": false,
    "pycharm": {
     "name": "#%%\n"
    }
   }
  }
 ],
 "metadata": {
  "kernelspec": {
   "name": "pycharm-c19c9c8d",
   "language": "python",
   "display_name": "PyCharm (simulator-v3)"
  },
  "language_info": {
   "codemirror_mode": {
    "name": "ipython",
    "version": 3
   },
   "file_extension": ".py",
   "mimetype": "text/x-python",
   "name": "python",
   "nbconvert_exporter": "python",
   "pygments_lexer": "ipython3",
   "version": "3.8.5"
  }
 },
 "nbformat": 4,
 "nbformat_minor": 2
}