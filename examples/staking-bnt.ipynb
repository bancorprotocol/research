{
 "cells": [
  {
   "cell_type": "code",
   "execution_count": 1,
   "metadata": {
    "tags": [
     "remove-input"
    ]
   },
   "outputs": [
    {
     "name": "stdout",
     "output_type": "stream",
     "text": [
      "Bootstrap requirements met for eth\n",
      "Bootstrap requirements met for link\n",
      "Bootstrap requirements met for wbtc\n"
     ]
    }
   ],
   "source": [
    "from datascience import *\n",
    "from datascience.predicates import are\n",
    "path_data = '../../../../data/'\n",
    "import numpy as np\n",
    "import matplotlib\n",
    "matplotlib.use('Agg')\n",
    "%matplotlib inline\n",
    "import matplotlib.pyplot as plots\n",
    "plots.style.use('fivethirtyeight')\n",
    "import warnings\n",
    "warnings.simplefilter(action=\"ignore\", category=FutureWarning)\n",
    "\n",
    "from urllib.request import urlopen\n",
    "import re\n",
    "from bancor_research.bancor_simulator.v3.spec.network import BancorDapp\n",
    "\n",
    "# Recall from an earlier chapter that we already defined the whitelisted_tokens as follows.\n",
    "whitelisted_tokens = {\n",
    "    \"eth\": {\n",
    "        \"trading_fee\": \"1%\",\n",
    "        \"bnt_funding_limit\": \"1000000\"\n",
    "    },\n",
    "    \"link\": {\n",
    "        \"trading_fee\": \"1%\",\n",
    "        \"bnt_funding_limit\": \"1000000\"\n",
    "    },\n",
    "    \"wbtc\": {\n",
    "        \"trading_fee\": \"1%\",\n",
    "        \"bnt_funding_limit\": \"1000000\"\n",
    "    }\n",
    "}\n",
    "# There are other possible configuration settings available, however for the present purpose we will use the defaults.\n",
    "v3 = BancorDapp(whitelisted_tokens=whitelisted_tokens)\n",
    "\n",
    "v3.create_user('Trader')\n",
    "v3.create_user('David')\n",
    "\n",
    "v3.set_user_balance(tkn_amt='101', tkn_name='eth', user_name='Alice')\n",
    "v3.set_user_balance(tkn_amt='101', tkn_name='wbtc', user_name='Bob')\n",
    "v3.set_user_balance(tkn_amt='10001', tkn_name='link', user_name='Charlie')\n",
    "v3.set_user_balance(tkn_amt='2000', tkn_name='bnt', user_name='Trader')\n",
    "v3.set_user_balance(tkn_amt='1', tkn_name='eth', user_name='Trader')\n",
    "v3.set_user_balance(tkn_amt='3', tkn_name='link', user_name='Trader')\n",
    "v3.set_user_balance(tkn_amt='1000', tkn_name='bnt', user_name='David')\n",
    "\n",
    "# The actual deposits.\n",
    "v3.deposit(tkn_amt='100', tkn_name='eth', user_name='Alice')\n",
    "\n",
    "v3.deposit(tkn_amt='10000', tkn_name='link', user_name='Charlie')\n",
    "\n",
    "v3.deposit(tkn_amt='100', tkn_name='wbtc', user_name='Bob')\n",
    "\n",
    "v3.deposit(tkn_amt='1', tkn_name='eth', user_name='Alice')\n",
    "\n",
    "v3.deposit(tkn_amt='1', tkn_name='link', user_name='Charlie')\n",
    "\n",
    "v3.deposit(tkn_amt='1', tkn_name='wbtc', user_name='Bob')\n",
    "\n",
    "for tkn_name in whitelisted_tokens:\n",
    "    v3.enable_trading(tkn_name)\n",
    "\n",
    "v3.trade(tkn_amt='2000', source_token='bnt',  target_token='link', user_name='Trader', timestamp=0)\n",
    "\n",
    "v3.trade(tkn_amt='302.9981', source_token='link',  target_token='bnt', user_name='Trader', timestamp=0)\n",
    "\n",
    "v3.trade(tkn_amt='1', source_token='eth',  target_token='wbtc', user_name='Trader', timestamp=0)\n",
    "\n",
    "def read_url(url): \n",
    "    return re.sub('\\\\s+', ' ', urlopen(url).read().decode())"
   ]
  },
  {
   "cell_type": "markdown",
   "metadata": {},
   "source": [
    "# Staking BNT\n",
    "\n",
    "In Bancor 3, assume that BNT liquidity providers are receiving protocol bnBNT tokens in return for destroying BNT. The calculation is essentially identical to the standard pool token method, and its outcome is relatively easy to understand. However, there are some nuances to the process that should be highlighted.\n",
    "\n",
    "For this section, we can consider the state of the system after the initial bootstrapping and first trading activity described earlier. The system snapshot is as follows:\n"
   ]
  },
  {
   "cell_type": "code",
   "execution_count": 2,
   "outputs": [
    {
     "data": {
      "text/plain": "                                           eth        link        wbtc  \\\n1 Account Alice                         0.0000         NaN         NaN   \n          Bob                              NaN         NaN      0.0000   \n          Charlie                          NaN      0.0000         NaN   \n          David                            NaN         NaN         NaN   \n          Trader                        0.0000      0.0019      0.0557   \n2 Pool    a: TKN Staked Balance       101.0000  10003.4242    101.0005   \n          b: TKN Trading Liquidity     21.0000   3336.3314      1.1943   \n          c: BNT Trading Liquidity  19055.2381  20013.9939  20940.8835   \n          d: BNT Current Funding    20007.6190  20015.9807  20000.0000   \n          e: Spot Rate                907.3923      5.9988  17534.2111   \n          f: Average Rate            1000.0000      6.0000  16000.0000   \n          g: Average Inverse Rate       0.0000      0.0000      0.0000   \n3 Network Master Vault                102.0000  10003.9981    100.9443   \n          Protection Vault              0.0000      0.0000      0.0000   \n          Protocol Equity                  NaN         NaN         NaN   \n          Rewards Vault                    NaN         NaN         NaN   \n\n                                          bnt     bneth      bnlink    bnwbtc  \n1 Account Alice                           NaN  101.0000         NaN       NaN  \n          Bob                             NaN       NaN         NaN  101.0000  \n          Charlie                         NaN       NaN  10001.0000       NaN  \n          David                     1000.0000       NaN         NaN       NaN  \n          Trader                    1977.6153       NaN         NaN       NaN  \n2 Pool    a: TKN Staked Balance           NaN    0.0000      0.0000    0.0000  \n          b: TKN Trading Liquidity        NaN    0.0000      0.0000    0.0000  \n          c: BNT Trading Liquidity        NaN    0.0000      0.0000    0.0000  \n          d: BNT Current Funding          NaN    0.0000      0.0000    0.0000  \n          e: Spot Rate                    NaN    0.0000      0.0000    0.0000  \n          f: Average Rate                 NaN    0.0000      0.0000    0.0000  \n          g: Average Inverse Rate         NaN    0.0000      0.0000    0.0000  \n3 Network Master Vault                    NaN       NaN         NaN       NaN  \n          Protection Vault                NaN       NaN         NaN       NaN  \n          Protocol Equity                 NaN    0.0000      0.0000    0.0000  \n          Rewards Vault                   NaN    0.0000      0.0000    0.0000  ",
      "text/html": "<div>\n<style scoped>\n    .dataframe tbody tr th:only-of-type {\n        vertical-align: middle;\n    }\n\n    .dataframe tbody tr th {\n        vertical-align: top;\n    }\n\n    .dataframe thead th {\n        text-align: right;\n    }\n</style>\n<table border=\"1\" class=\"dataframe\">\n  <thead>\n    <tr style=\"text-align: right;\">\n      <th></th>\n      <th></th>\n      <th></th>\n      <th>eth</th>\n      <th>link</th>\n      <th>wbtc</th>\n      <th>bnt</th>\n      <th>bneth</th>\n      <th>bnlink</th>\n      <th>bnwbtc</th>\n    </tr>\n  </thead>\n  <tbody>\n    <tr>\n      <th rowspan=\"5\" valign=\"top\">1</th>\n      <th rowspan=\"5\" valign=\"top\">Account</th>\n      <th>Alice</th>\n      <td>0.0000</td>\n      <td>NaN</td>\n      <td>NaN</td>\n      <td>NaN</td>\n      <td>101.0000</td>\n      <td>NaN</td>\n      <td>NaN</td>\n    </tr>\n    <tr>\n      <th>Bob</th>\n      <td>NaN</td>\n      <td>NaN</td>\n      <td>0.0000</td>\n      <td>NaN</td>\n      <td>NaN</td>\n      <td>NaN</td>\n      <td>101.0000</td>\n    </tr>\n    <tr>\n      <th>Charlie</th>\n      <td>NaN</td>\n      <td>0.0000</td>\n      <td>NaN</td>\n      <td>NaN</td>\n      <td>NaN</td>\n      <td>10001.0000</td>\n      <td>NaN</td>\n    </tr>\n    <tr>\n      <th>David</th>\n      <td>NaN</td>\n      <td>NaN</td>\n      <td>NaN</td>\n      <td>1000.0000</td>\n      <td>NaN</td>\n      <td>NaN</td>\n      <td>NaN</td>\n    </tr>\n    <tr>\n      <th>Trader</th>\n      <td>0.0000</td>\n      <td>0.0019</td>\n      <td>0.0557</td>\n      <td>1977.6153</td>\n      <td>NaN</td>\n      <td>NaN</td>\n      <td>NaN</td>\n    </tr>\n    <tr>\n      <th rowspan=\"7\" valign=\"top\">2</th>\n      <th rowspan=\"7\" valign=\"top\">Pool</th>\n      <th>a: TKN Staked Balance</th>\n      <td>101.0000</td>\n      <td>10003.4242</td>\n      <td>101.0005</td>\n      <td>NaN</td>\n      <td>0.0000</td>\n      <td>0.0000</td>\n      <td>0.0000</td>\n    </tr>\n    <tr>\n      <th>b: TKN Trading Liquidity</th>\n      <td>21.0000</td>\n      <td>3336.3314</td>\n      <td>1.1943</td>\n      <td>NaN</td>\n      <td>0.0000</td>\n      <td>0.0000</td>\n      <td>0.0000</td>\n    </tr>\n    <tr>\n      <th>c: BNT Trading Liquidity</th>\n      <td>19055.2381</td>\n      <td>20013.9939</td>\n      <td>20940.8835</td>\n      <td>NaN</td>\n      <td>0.0000</td>\n      <td>0.0000</td>\n      <td>0.0000</td>\n    </tr>\n    <tr>\n      <th>d: BNT Current Funding</th>\n      <td>20007.6190</td>\n      <td>20015.9807</td>\n      <td>20000.0000</td>\n      <td>NaN</td>\n      <td>0.0000</td>\n      <td>0.0000</td>\n      <td>0.0000</td>\n    </tr>\n    <tr>\n      <th>e: Spot Rate</th>\n      <td>907.3923</td>\n      <td>5.9988</td>\n      <td>17534.2111</td>\n      <td>NaN</td>\n      <td>0.0000</td>\n      <td>0.0000</td>\n      <td>0.0000</td>\n    </tr>\n    <tr>\n      <th>f: Average Rate</th>\n      <td>1000.0000</td>\n      <td>6.0000</td>\n      <td>16000.0000</td>\n      <td>NaN</td>\n      <td>0.0000</td>\n      <td>0.0000</td>\n      <td>0.0000</td>\n    </tr>\n    <tr>\n      <th>g: Average Inverse Rate</th>\n      <td>0.0000</td>\n      <td>0.0000</td>\n      <td>0.0000</td>\n      <td>NaN</td>\n      <td>0.0000</td>\n      <td>0.0000</td>\n      <td>0.0000</td>\n    </tr>\n    <tr>\n      <th rowspan=\"4\" valign=\"top\">3</th>\n      <th rowspan=\"4\" valign=\"top\">Network</th>\n      <th>Master Vault</th>\n      <td>102.0000</td>\n      <td>10003.9981</td>\n      <td>100.9443</td>\n      <td>NaN</td>\n      <td>NaN</td>\n      <td>NaN</td>\n      <td>NaN</td>\n    </tr>\n    <tr>\n      <th>Protection Vault</th>\n      <td>0.0000</td>\n      <td>0.0000</td>\n      <td>0.0000</td>\n      <td>NaN</td>\n      <td>NaN</td>\n      <td>NaN</td>\n      <td>NaN</td>\n    </tr>\n    <tr>\n      <th>Protocol Equity</th>\n      <td>NaN</td>\n      <td>NaN</td>\n      <td>NaN</td>\n      <td>NaN</td>\n      <td>0.0000</td>\n      <td>0.0000</td>\n      <td>0.0000</td>\n    </tr>\n    <tr>\n      <th>Rewards Vault</th>\n      <td>NaN</td>\n      <td>NaN</td>\n      <td>NaN</td>\n      <td>NaN</td>\n      <td>0.0000</td>\n      <td>0.0000</td>\n      <td>0.0000</td>\n    </tr>\n  </tbody>\n</table>\n</div>"
     },
     "execution_count": 2,
     "metadata": {},
     "output_type": "execute_result"
    }
   ],
   "source": [
    "v3.describe(decimals=4)"
   ],
   "metadata": {
    "collapsed": false,
    "pycharm": {
     "name": "#%%\n"
    }
   }
  },
  {
   "cell_type": "code",
   "execution_count": 3,
   "outputs": [
    {
     "data": {
      "text/plain": "                                           eth        link        wbtc  \\\n1 Account Alice                         0.0000         NaN         NaN   \n          Bob                              NaN         NaN      0.0000   \n          Charlie                          NaN      0.0000         NaN   \n          David                            NaN         NaN         NaN   \n          Trader                        0.0000      0.0019      0.0557   \n2 Pool    a: TKN Staked Balance       101.0000  10003.4242    101.0005   \n          b: TKN Trading Liquidity     21.0000   3336.3314      1.1943   \n          c: BNT Trading Liquidity  19055.2381  20013.9939  20940.8835   \n          d: BNT Current Funding    20007.6190  20015.9807  20000.0000   \n          e: Spot Rate                907.3923      5.9988  17534.2111   \n          f: Average Rate            1000.0000      6.0000  16000.0000   \n          g: Average Inverse Rate       0.0000      0.0000      0.0000   \n3 Network Master Vault                102.0000  10003.9981    100.9443   \n          Protection Vault              0.0000      0.0000      0.0000   \n          Protocol Equity                  NaN         NaN         NaN   \n          Rewards Vault                    NaN         NaN         NaN   \n\n                                          bnt     bneth      bnlink    bnwbtc  \n1 Account Alice                           NaN  101.0000         NaN       NaN  \n          Bob                             NaN       NaN         NaN  101.0000  \n          Charlie                         NaN       NaN  10001.0000       NaN  \n          David                        0.0000       NaN         NaN       NaN  \n          Trader                    1977.6153       NaN         NaN       NaN  \n2 Pool    a: TKN Staked Balance           NaN    0.0000      0.0000    0.0000  \n          b: TKN Trading Liquidity        NaN    0.0000      0.0000    0.0000  \n          c: BNT Trading Liquidity        NaN    0.0000      0.0000    0.0000  \n          d: BNT Current Funding          NaN    0.0000      0.0000    0.0000  \n          e: Spot Rate                    NaN    0.0000      0.0000    0.0000  \n          f: Average Rate                 NaN    0.0000      0.0000    0.0000  \n          g: Average Inverse Rate         NaN    0.0000      0.0000    0.0000  \n3 Network Master Vault                    NaN       NaN         NaN       NaN  \n          Protection Vault                NaN       NaN         NaN       NaN  \n          Protocol Equity                 NaN    0.0000      0.0000    0.0000  \n          Rewards Vault                   NaN    0.0000      0.0000    0.0000  ",
      "text/html": "<div>\n<style scoped>\n    .dataframe tbody tr th:only-of-type {\n        vertical-align: middle;\n    }\n\n    .dataframe tbody tr th {\n        vertical-align: top;\n    }\n\n    .dataframe thead th {\n        text-align: right;\n    }\n</style>\n<table border=\"1\" class=\"dataframe\">\n  <thead>\n    <tr style=\"text-align: right;\">\n      <th></th>\n      <th></th>\n      <th></th>\n      <th>eth</th>\n      <th>link</th>\n      <th>wbtc</th>\n      <th>bnt</th>\n      <th>bneth</th>\n      <th>bnlink</th>\n      <th>bnwbtc</th>\n    </tr>\n  </thead>\n  <tbody>\n    <tr>\n      <th rowspan=\"5\" valign=\"top\">1</th>\n      <th rowspan=\"5\" valign=\"top\">Account</th>\n      <th>Alice</th>\n      <td>0.0000</td>\n      <td>NaN</td>\n      <td>NaN</td>\n      <td>NaN</td>\n      <td>101.0000</td>\n      <td>NaN</td>\n      <td>NaN</td>\n    </tr>\n    <tr>\n      <th>Bob</th>\n      <td>NaN</td>\n      <td>NaN</td>\n      <td>0.0000</td>\n      <td>NaN</td>\n      <td>NaN</td>\n      <td>NaN</td>\n      <td>101.0000</td>\n    </tr>\n    <tr>\n      <th>Charlie</th>\n      <td>NaN</td>\n      <td>0.0000</td>\n      <td>NaN</td>\n      <td>NaN</td>\n      <td>NaN</td>\n      <td>10001.0000</td>\n      <td>NaN</td>\n    </tr>\n    <tr>\n      <th>David</th>\n      <td>NaN</td>\n      <td>NaN</td>\n      <td>NaN</td>\n      <td>0.0000</td>\n      <td>NaN</td>\n      <td>NaN</td>\n      <td>NaN</td>\n    </tr>\n    <tr>\n      <th>Trader</th>\n      <td>0.0000</td>\n      <td>0.0019</td>\n      <td>0.0557</td>\n      <td>1977.6153</td>\n      <td>NaN</td>\n      <td>NaN</td>\n      <td>NaN</td>\n    </tr>\n    <tr>\n      <th rowspan=\"7\" valign=\"top\">2</th>\n      <th rowspan=\"7\" valign=\"top\">Pool</th>\n      <th>a: TKN Staked Balance</th>\n      <td>101.0000</td>\n      <td>10003.4242</td>\n      <td>101.0005</td>\n      <td>NaN</td>\n      <td>0.0000</td>\n      <td>0.0000</td>\n      <td>0.0000</td>\n    </tr>\n    <tr>\n      <th>b: TKN Trading Liquidity</th>\n      <td>21.0000</td>\n      <td>3336.3314</td>\n      <td>1.1943</td>\n      <td>NaN</td>\n      <td>0.0000</td>\n      <td>0.0000</td>\n      <td>0.0000</td>\n    </tr>\n    <tr>\n      <th>c: BNT Trading Liquidity</th>\n      <td>19055.2381</td>\n      <td>20013.9939</td>\n      <td>20940.8835</td>\n      <td>NaN</td>\n      <td>0.0000</td>\n      <td>0.0000</td>\n      <td>0.0000</td>\n    </tr>\n    <tr>\n      <th>d: BNT Current Funding</th>\n      <td>20007.6190</td>\n      <td>20015.9807</td>\n      <td>20000.0000</td>\n      <td>NaN</td>\n      <td>0.0000</td>\n      <td>0.0000</td>\n      <td>0.0000</td>\n    </tr>\n    <tr>\n      <th>e: Spot Rate</th>\n      <td>907.3923</td>\n      <td>5.9988</td>\n      <td>17534.2111</td>\n      <td>NaN</td>\n      <td>0.0000</td>\n      <td>0.0000</td>\n      <td>0.0000</td>\n    </tr>\n    <tr>\n      <th>f: Average Rate</th>\n      <td>1000.0000</td>\n      <td>6.0000</td>\n      <td>16000.0000</td>\n      <td>NaN</td>\n      <td>0.0000</td>\n      <td>0.0000</td>\n      <td>0.0000</td>\n    </tr>\n    <tr>\n      <th>g: Average Inverse Rate</th>\n      <td>0.0000</td>\n      <td>0.0000</td>\n      <td>0.0000</td>\n      <td>NaN</td>\n      <td>0.0000</td>\n      <td>0.0000</td>\n      <td>0.0000</td>\n    </tr>\n    <tr>\n      <th rowspan=\"4\" valign=\"top\">3</th>\n      <th rowspan=\"4\" valign=\"top\">Network</th>\n      <th>Master Vault</th>\n      <td>102.0000</td>\n      <td>10003.9981</td>\n      <td>100.9443</td>\n      <td>NaN</td>\n      <td>NaN</td>\n      <td>NaN</td>\n      <td>NaN</td>\n    </tr>\n    <tr>\n      <th>Protection Vault</th>\n      <td>0.0000</td>\n      <td>0.0000</td>\n      <td>0.0000</td>\n      <td>NaN</td>\n      <td>NaN</td>\n      <td>NaN</td>\n      <td>NaN</td>\n    </tr>\n    <tr>\n      <th>Protocol Equity</th>\n      <td>NaN</td>\n      <td>NaN</td>\n      <td>NaN</td>\n      <td>NaN</td>\n      <td>0.0000</td>\n      <td>0.0000</td>\n      <td>0.0000</td>\n    </tr>\n    <tr>\n      <th>Rewards Vault</th>\n      <td>NaN</td>\n      <td>NaN</td>\n      <td>NaN</td>\n      <td>NaN</td>\n      <td>0.0000</td>\n      <td>0.0000</td>\n      <td>0.0000</td>\n    </tr>\n  </tbody>\n</table>\n</div>"
     },
     "execution_count": 3,
     "metadata": {},
     "output_type": "execute_result"
    }
   ],
   "source": [
    "timestamp = 0\n",
    "v3.deposit(tkn_amt='1000', tkn_name='bnt',  user_name='David', timestamp=timestamp)\n",
    "\n",
    "v3.describe(decimals=4)"
   ],
   "metadata": {
    "collapsed": false,
    "pycharm": {
     "name": "#%%\n"
    }
   }
  },
  {
   "cell_type": "markdown",
   "source": [
    "The most important nuance to be aware of is that BNT liquidity providers are supporting the BNT liquidity of the whole protocol, rather than any specific pool. As a result, there is no spot price or moving average. Further, bnBNT pool tokens are not created when a BNT liquidity provider adds their tokens to the protocol; there is no change in the vault balance of BNT, or its staked balance (save for one extreme edge case). The provision of BNT by users is best thought of as a private exchange of BNT directly for protocol-owned bnBNT.\n",
    "\n",
    "To demonstrate, assume a fourth participant, David, wishes to provide 1,000 BNT liquidity to the protocol. The only calculations the protocol must perform are to value the BNT David is providing. The staking ledger is reporting a total of 6,002.3599 BNT, and the bnBNT pool token supply is 6,000 bnBNT. Therefore, the bnBNT/BNT exchange rate is 0.9996068, and David’s 1,000 BNT is worth 999.60683797 bnBNT. When David confirms this transaction, the protocol simply transfers this amount of bnBNT to him, from its own balance; the BNT that David provided is burned immediately.\n",
    "\n",
    "Note that the only observable change in the system is that the protocol owns less of the total BNT; outside of the system, the ERC20 contract supply of BNT will have diminished slightly. David also receives vBNT, the Bancor governance token, at a 1:1 rate with respect to the bnBNT pool tokens (see the following section). vBNT is staked in the governance contract to take part in Bancor’s decision making process; however, it must also be returned when a user exits from the protocol."
   ],
   "metadata": {
    "collapsed": false,
    "pycharm": {
     "name": "#%% md\n"
    }
   }
  },
  {
   "cell_type": "code",
   "execution_count": 4,
   "outputs": [
    {
     "data": {
      "text/plain": "                                           eth        link        wbtc  \\\n1 Account Alice                         0.0000         NaN         NaN   \n          Bob                              NaN         NaN      0.0000   \n          Charlie                          NaN      0.0000         NaN   \n          David                            NaN         NaN         NaN   \n          Trader                        0.0000      0.0019      0.0557   \n2 Pool    a: TKN Staked Balance       101.0000  10003.4242    101.0005   \n          b: TKN Trading Liquidity     21.0000   3336.3314      1.1943   \n          c: BNT Trading Liquidity  19055.2381  20013.9939  20940.8835   \n          d: BNT Current Funding    20007.6190  20015.9807  20000.0000   \n          e: Spot Rate                907.3923      5.9988  17534.2111   \n          f: Average Rate            1000.0000      6.0000  16000.0000   \n          g: Average Inverse Rate       0.0000      0.0000      0.0000   \n3 Network Master Vault                102.0000  10003.9981    100.9443   \n          Protection Vault              0.0000      0.0000      0.0000   \n          Protocol Equity                  NaN         NaN         NaN   \n          Rewards Vault                    NaN         NaN         NaN   \n\n                                          bnt     bneth      bnlink    bnwbtc  \n1 Account Alice                           NaN  101.0000         NaN       NaN  \n          Bob                             NaN       NaN         NaN  101.0000  \n          Charlie                         NaN       NaN  10001.0000       NaN  \n          David                        0.0000       NaN         NaN       NaN  \n          Trader                    1977.6153       NaN         NaN       NaN  \n2 Pool    a: TKN Staked Balance           NaN    0.0000      0.0000    0.0000  \n          b: TKN Trading Liquidity        NaN    0.0000      0.0000    0.0000  \n          c: BNT Trading Liquidity        NaN    0.0000      0.0000    0.0000  \n          d: BNT Current Funding          NaN    0.0000      0.0000    0.0000  \n          e: Spot Rate                    NaN    0.0000      0.0000    0.0000  \n          f: Average Rate                 NaN    0.0000      0.0000    0.0000  \n          g: Average Inverse Rate         NaN    0.0000      0.0000    0.0000  \n3 Network Master Vault                    NaN       NaN         NaN       NaN  \n          Protection Vault                NaN       NaN         NaN       NaN  \n          Protocol Equity                 NaN    0.0000      0.0000    0.0000  \n          Rewards Vault                   NaN    0.0000      0.0000    0.0000  ",
      "text/html": "<div>\n<style scoped>\n    .dataframe tbody tr th:only-of-type {\n        vertical-align: middle;\n    }\n\n    .dataframe tbody tr th {\n        vertical-align: top;\n    }\n\n    .dataframe thead th {\n        text-align: right;\n    }\n</style>\n<table border=\"1\" class=\"dataframe\">\n  <thead>\n    <tr style=\"text-align: right;\">\n      <th></th>\n      <th></th>\n      <th></th>\n      <th>eth</th>\n      <th>link</th>\n      <th>wbtc</th>\n      <th>bnt</th>\n      <th>bneth</th>\n      <th>bnlink</th>\n      <th>bnwbtc</th>\n    </tr>\n  </thead>\n  <tbody>\n    <tr>\n      <th rowspan=\"5\" valign=\"top\">1</th>\n      <th rowspan=\"5\" valign=\"top\">Account</th>\n      <th>Alice</th>\n      <td>0.0000</td>\n      <td>NaN</td>\n      <td>NaN</td>\n      <td>NaN</td>\n      <td>101.0000</td>\n      <td>NaN</td>\n      <td>NaN</td>\n    </tr>\n    <tr>\n      <th>Bob</th>\n      <td>NaN</td>\n      <td>NaN</td>\n      <td>0.0000</td>\n      <td>NaN</td>\n      <td>NaN</td>\n      <td>NaN</td>\n      <td>101.0000</td>\n    </tr>\n    <tr>\n      <th>Charlie</th>\n      <td>NaN</td>\n      <td>0.0000</td>\n      <td>NaN</td>\n      <td>NaN</td>\n      <td>NaN</td>\n      <td>10001.0000</td>\n      <td>NaN</td>\n    </tr>\n    <tr>\n      <th>David</th>\n      <td>NaN</td>\n      <td>NaN</td>\n      <td>NaN</td>\n      <td>0.0000</td>\n      <td>NaN</td>\n      <td>NaN</td>\n      <td>NaN</td>\n    </tr>\n    <tr>\n      <th>Trader</th>\n      <td>0.0000</td>\n      <td>0.0019</td>\n      <td>0.0557</td>\n      <td>1977.6153</td>\n      <td>NaN</td>\n      <td>NaN</td>\n      <td>NaN</td>\n    </tr>\n    <tr>\n      <th rowspan=\"7\" valign=\"top\">2</th>\n      <th rowspan=\"7\" valign=\"top\">Pool</th>\n      <th>a: TKN Staked Balance</th>\n      <td>101.0000</td>\n      <td>10003.4242</td>\n      <td>101.0005</td>\n      <td>NaN</td>\n      <td>0.0000</td>\n      <td>0.0000</td>\n      <td>0.0000</td>\n    </tr>\n    <tr>\n      <th>b: TKN Trading Liquidity</th>\n      <td>21.0000</td>\n      <td>3336.3314</td>\n      <td>1.1943</td>\n      <td>NaN</td>\n      <td>0.0000</td>\n      <td>0.0000</td>\n      <td>0.0000</td>\n    </tr>\n    <tr>\n      <th>c: BNT Trading Liquidity</th>\n      <td>19055.2381</td>\n      <td>20013.9939</td>\n      <td>20940.8835</td>\n      <td>NaN</td>\n      <td>0.0000</td>\n      <td>0.0000</td>\n      <td>0.0000</td>\n    </tr>\n    <tr>\n      <th>d: BNT Current Funding</th>\n      <td>20007.6190</td>\n      <td>20015.9807</td>\n      <td>20000.0000</td>\n      <td>NaN</td>\n      <td>0.0000</td>\n      <td>0.0000</td>\n      <td>0.0000</td>\n    </tr>\n    <tr>\n      <th>e: Spot Rate</th>\n      <td>907.3923</td>\n      <td>5.9988</td>\n      <td>17534.2111</td>\n      <td>NaN</td>\n      <td>0.0000</td>\n      <td>0.0000</td>\n      <td>0.0000</td>\n    </tr>\n    <tr>\n      <th>f: Average Rate</th>\n      <td>1000.0000</td>\n      <td>6.0000</td>\n      <td>16000.0000</td>\n      <td>NaN</td>\n      <td>0.0000</td>\n      <td>0.0000</td>\n      <td>0.0000</td>\n    </tr>\n    <tr>\n      <th>g: Average Inverse Rate</th>\n      <td>0.0000</td>\n      <td>0.0000</td>\n      <td>0.0000</td>\n      <td>NaN</td>\n      <td>0.0000</td>\n      <td>0.0000</td>\n      <td>0.0000</td>\n    </tr>\n    <tr>\n      <th rowspan=\"4\" valign=\"top\">3</th>\n      <th rowspan=\"4\" valign=\"top\">Network</th>\n      <th>Master Vault</th>\n      <td>102.0000</td>\n      <td>10003.9981</td>\n      <td>100.9443</td>\n      <td>NaN</td>\n      <td>NaN</td>\n      <td>NaN</td>\n      <td>NaN</td>\n    </tr>\n    <tr>\n      <th>Protection Vault</th>\n      <td>0.0000</td>\n      <td>0.0000</td>\n      <td>0.0000</td>\n      <td>NaN</td>\n      <td>NaN</td>\n      <td>NaN</td>\n      <td>NaN</td>\n    </tr>\n    <tr>\n      <th>Protocol Equity</th>\n      <td>NaN</td>\n      <td>NaN</td>\n      <td>NaN</td>\n      <td>NaN</td>\n      <td>0.0000</td>\n      <td>0.0000</td>\n      <td>0.0000</td>\n    </tr>\n    <tr>\n      <th>Rewards Vault</th>\n      <td>NaN</td>\n      <td>NaN</td>\n      <td>NaN</td>\n      <td>NaN</td>\n      <td>0.0000</td>\n      <td>0.0000</td>\n      <td>0.0000</td>\n    </tr>\n  </tbody>\n</table>\n</div>"
     },
     "execution_count": 4,
     "metadata": {},
     "output_type": "execute_result"
    }
   ],
   "source": [
    "v3.describe(decimals=4)"
   ],
   "metadata": {
    "collapsed": false,
    "pycharm": {
     "name": "#%%\n"
    }
   }
  },
  {
   "cell_type": "code",
   "execution_count": 4,
   "outputs": [],
   "source": [],
   "metadata": {
    "collapsed": false,
    "pycharm": {
     "name": "#%%\n"
    }
   }
  }
 ],
 "metadata": {
  "kernelspec": {
   "name": "python3",
   "language": "python",
   "display_name": "Python 3 (ipykernel)"
  },
  "language_info": {
   "codemirror_mode": {
    "name": "ipython",
    "version": 3
   },
   "file_extension": ".py",
   "mimetype": "text/x-python",
   "name": "python",
   "nbconvert_exporter": "python",
   "pygments_lexer": "ipython3",
   "version": "3.8.5"
  }
 },
 "nbformat": 4,
 "nbformat_minor": 2
}