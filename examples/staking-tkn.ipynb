{
 "cells": [
  {
   "cell_type": "code",
   "execution_count": 10,
   "metadata": {
    "tags": [
     "remove-input"
    ]
   },
   "outputs": [
    {
     "name": "stdout",
     "output_type": "stream",
     "text": [
      "Bootstrap requirements met for eth\n",
      "Bootstrap requirements met for wbtc\n",
      "Bootstrap requirements met for link\n"
     ]
    }
   ],
   "source": [
    "from datascience import *\n",
    "from datascience.predicates import are\n",
    "path_data = '../../../../data/'\n",
    "import numpy as np\n",
    "import matplotlib\n",
    "matplotlib.use('Agg')\n",
    "%matplotlib inline\n",
    "import matplotlib.pyplot as plots\n",
    "plots.style.use('fivethirtyeight')\n",
    "import warnings\n",
    "warnings.simplefilter(action=\"ignore\", category=FutureWarning)\n",
    "\n",
    "from urllib.request import urlopen\n",
    "import re\n",
    "from bancor_research.bancor_simulator.v3.spec.network import BancorDapp\n",
    "\n",
    "# Recall from an earlier chapter that we already defined the whitelisted_tokens as follows.\n",
    "whitelisted_tokens: list = ['bnt', 'eth', 'wbtc', 'link']\n",
    "\n",
    "# There are other possible configuration settings available, however for the present purpose we will use the defaults.\n",
    "v3 = BancorDapp(whitelisted_tokens=whitelisted_tokens)\n",
    "\n",
    "v3.create_user('Trader')\n",
    "\n",
    "v3.set_user_balance(tkn_amt=102, tkn_name='eth', user_name='Alice')\n",
    "v3.set_user_balance(tkn_amt=102, tkn_name='wbtc', user_name='Bob')\n",
    "v3.set_user_balance(tkn_amt=10002, tkn_name='link', user_name='Charlie')\n",
    "v3.set_user_balance(tkn_amt=2000, tkn_name='bnt', user_name='Trader')\n",
    "v3.set_user_balance(tkn_amt=3, tkn_name='link', user_name='Trader')\n",
    "\n",
    "# The actual deposits.\n",
    "v3.deposit(tkn_amt=100, tkn_name='eth', user_name='Alice')\n",
    "\n",
    "v3.deposit(tkn_amt=10000, tkn_name='link', user_name='Charlie')\n",
    "\n",
    "v3.deposit(tkn_amt=100, tkn_name='wbtc', user_name='Bob')\n",
    "\n",
    "v3.deposit(tkn_amt=1, tkn_name='eth', user_name='Alice')\n",
    "\n",
    "v3.deposit(tkn_amt=1, tkn_name='link', user_name='Charlie')\n",
    "\n",
    "v3.deposit(tkn_amt=1, tkn_name='wbtc', user_name='Bob')\n",
    "\n",
    "v3.dao_msig_init_pools(whitelisted_tokens, 'bnt')\n",
    "\n",
    "v3.trade(tkn_amt=2000, source_token='bnt',  target_token='link', user_name='Trader', timestamp=0)\n",
    "\n",
    "v3.trade(tkn_amt=302.9981, source_token='link',  target_token='bnt', user_name='Trader', timestamp=0)\n",
    "\n",
    "def read_url(url): \n",
    "    return re.sub('\\\\s+', ' ', urlopen(url).read().decode())"
   ]
  },
  {
   "cell_type": "code",
   "execution_count": 11,
   "outputs": [
    {
     "data": {
      "text/plain": "                   Trading Liquidity              Vault            Staking  \\\n0     bnt=20000.000000 eth=20.000000      bnt=22.384703      bnt=15.980730   \n1     bnt=20000.000000 wbtc=1.250000     eth=101.000000     eth=101.000000   \n2  bnt=20013.993917 link=3336.331433    wbtc=101.000000    wbtc=101.000000   \n3                                     link=10003.998100  link=10003.424242   \n\n       ERC20 Contracts        Vortex External Protection Protocol WalletState  \n0       bnbnt=0.000000  bnt=8.390787        bnt=0.000000   bnbnt=20000.000000  \n1     bneth=101.000000                      eth=0.000000                       \n2    bnwbtc=101.000000                     wbtc=0.000000                       \n3  bnlink=10001.000000                     link=0.000000                       ",
      "text/html": "<div>\n<style scoped>\n    .dataframe tbody tr th:only-of-type {\n        vertical-align: middle;\n    }\n\n    .dataframe tbody tr th {\n        vertical-align: top;\n    }\n\n    .dataframe thead th {\n        text-align: right;\n    }\n</style>\n<table border=\"1\" class=\"dataframe\">\n  <thead>\n    <tr style=\"text-align: right;\">\n      <th></th>\n      <th>Trading Liquidity</th>\n      <th>Vault</th>\n      <th>Staking</th>\n      <th>ERC20 Contracts</th>\n      <th>Vortex</th>\n      <th>External Protection</th>\n      <th>Protocol WalletState</th>\n    </tr>\n  </thead>\n  <tbody>\n    <tr>\n      <th>0</th>\n      <td>bnt=20000.000000 eth=20.000000</td>\n      <td>bnt=22.384703</td>\n      <td>bnt=15.980730</td>\n      <td>bnbnt=0.000000</td>\n      <td>bnt=8.390787</td>\n      <td>bnt=0.000000</td>\n      <td>bnbnt=20000.000000</td>\n    </tr>\n    <tr>\n      <th>1</th>\n      <td>bnt=20000.000000 wbtc=1.250000</td>\n      <td>eth=101.000000</td>\n      <td>eth=101.000000</td>\n      <td>bneth=101.000000</td>\n      <td></td>\n      <td>eth=0.000000</td>\n      <td></td>\n    </tr>\n    <tr>\n      <th>2</th>\n      <td>bnt=20013.993917 link=3336.331433</td>\n      <td>wbtc=101.000000</td>\n      <td>wbtc=101.000000</td>\n      <td>bnwbtc=101.000000</td>\n      <td></td>\n      <td>wbtc=0.000000</td>\n      <td></td>\n    </tr>\n    <tr>\n      <th>3</th>\n      <td></td>\n      <td>link=10003.998100</td>\n      <td>link=10003.424242</td>\n      <td>bnlink=10001.000000</td>\n      <td></td>\n      <td>link=0.000000</td>\n      <td></td>\n    </tr>\n  </tbody>\n</table>\n</div>"
     },
     "execution_count": 11,
     "metadata": {},
     "output_type": "execute_result"
    }
   ],
   "source": [
    "v3.describe()"
   ],
   "metadata": {
    "collapsed": false,
    "pycharm": {
     "name": "#%%\n"
    }
   }
  },
  {
   "cell_type": "code",
   "execution_count": 12,
   "outputs": [
    {
     "data": {
      "text/plain": "  index                                              0\n0   bnt          Spot Rate=0.000000, EMA Rate=0.000000\n1   eth    Spot Rate=1000.000000, EMA Rate=1000.000000\n2  wbtc  Spot Rate=16000.000000, EMA Rate=16000.000000\n3  link          Spot Rate=5.998803, EMA Rate=6.000000",
      "text/html": "<div>\n<style scoped>\n    .dataframe tbody tr th:only-of-type {\n        vertical-align: middle;\n    }\n\n    .dataframe tbody tr th {\n        vertical-align: top;\n    }\n\n    .dataframe thead th {\n        text-align: right;\n    }\n</style>\n<table border=\"1\" class=\"dataframe\">\n  <thead>\n    <tr style=\"text-align: right;\">\n      <th></th>\n      <th>index</th>\n      <th>0</th>\n    </tr>\n  </thead>\n  <tbody>\n    <tr>\n      <th>0</th>\n      <td>bnt</td>\n      <td>Spot Rate=0.000000, EMA Rate=0.000000</td>\n    </tr>\n    <tr>\n      <th>1</th>\n      <td>eth</td>\n      <td>Spot Rate=1000.000000, EMA Rate=1000.000000</td>\n    </tr>\n    <tr>\n      <th>2</th>\n      <td>wbtc</td>\n      <td>Spot Rate=16000.000000, EMA Rate=16000.000000</td>\n    </tr>\n    <tr>\n      <th>3</th>\n      <td>link</td>\n      <td>Spot Rate=5.998803, EMA Rate=6.000000</td>\n    </tr>\n  </tbody>\n</table>\n</div>"
     },
     "execution_count": 12,
     "metadata": {},
     "output_type": "execute_result"
    }
   ],
   "source": [
    "v3.describe(rates=True)"
   ],
   "metadata": {
    "collapsed": false,
    "pycharm": {
     "name": "#%%\n"
    }
   }
  },
  {
   "cell_type": "markdown",
   "metadata": {},
   "source": [
    "# Staking TKN\n",
    "\n",
    "The ema serves as a detection mechanism for unusual spikes in the price of an asset against BNT, and prevents changes to the depth of the trading pools to protect the system from harm. To illustrate the effects of the ema, the current state of the system in the present narrative will be carried forward, with each of Alice, Bob, and Charlie providing one additional TKN to the system. Unlike the prior examples where liquidity is added, both the ema, and the pool token valuation need to be taken under consideration.\n",
    "\n",
    "Before the demonstration continues, recall that each of the pools have a preset 4,000 BNT funding limit at this point in the narrative, and up to this point in time all three have only exhausted half of that amount. Further, recall that the ability to increase the available trading liquidity is determined by the vault balance of the TKN in question, and the current depth of the pool, rather than the amount being contributed by a user during any deposit event."
   ]
  },
  {
   "cell_type": "code",
   "execution_count": 13,
   "outputs": [
    {
     "name": "stdout",
     "output_type": "stream",
     "text": [
      "timestep 0\n"
     ]
    },
    {
     "data": {
      "text/plain": "               Trading Liquidity            Vault          Staking  \\\n0     bnt=40000.0000 eth=40.0000      bnt=22.3847      bnt=15.9807   \n1     bnt=20000.0000 wbtc=1.2500     eth=102.0000     eth=102.0000   \n2  bnt=20013.9939 link=3336.3314    wbtc=101.0000    wbtc=101.0000   \n3                                 link=10003.9981  link=10003.4242   \n\n     ERC20 Contracts      Vortex External Protection Protocol WalletState  \n0       bnbnt=0.0000  bnt=8.3908          bnt=0.0000     bnbnt=20000.0000  \n1     bneth=102.0000                      eth=0.0000                       \n2    bnwbtc=101.0000                     wbtc=0.0000                       \n3  bnlink=10001.0000                     link=0.0000                       ",
      "text/html": "<div>\n<style scoped>\n    .dataframe tbody tr th:only-of-type {\n        vertical-align: middle;\n    }\n\n    .dataframe tbody tr th {\n        vertical-align: top;\n    }\n\n    .dataframe thead th {\n        text-align: right;\n    }\n</style>\n<table border=\"1\" class=\"dataframe\">\n  <thead>\n    <tr style=\"text-align: right;\">\n      <th></th>\n      <th>Trading Liquidity</th>\n      <th>Vault</th>\n      <th>Staking</th>\n      <th>ERC20 Contracts</th>\n      <th>Vortex</th>\n      <th>External Protection</th>\n      <th>Protocol WalletState</th>\n    </tr>\n  </thead>\n  <tbody>\n    <tr>\n      <th>0</th>\n      <td>bnt=40000.0000 eth=40.0000</td>\n      <td>bnt=22.3847</td>\n      <td>bnt=15.9807</td>\n      <td>bnbnt=0.0000</td>\n      <td>bnt=8.3908</td>\n      <td>bnt=0.0000</td>\n      <td>bnbnt=20000.0000</td>\n    </tr>\n    <tr>\n      <th>1</th>\n      <td>bnt=20000.0000 wbtc=1.2500</td>\n      <td>eth=102.0000</td>\n      <td>eth=102.0000</td>\n      <td>bneth=102.0000</td>\n      <td></td>\n      <td>eth=0.0000</td>\n      <td></td>\n    </tr>\n    <tr>\n      <th>2</th>\n      <td>bnt=20013.9939 link=3336.3314</td>\n      <td>wbtc=101.0000</td>\n      <td>wbtc=101.0000</td>\n      <td>bnwbtc=101.0000</td>\n      <td></td>\n      <td>wbtc=0.0000</td>\n      <td></td>\n    </tr>\n    <tr>\n      <th>3</th>\n      <td></td>\n      <td>link=10003.9981</td>\n      <td>link=10003.4242</td>\n      <td>bnlink=10001.0000</td>\n      <td></td>\n      <td>link=0.0000</td>\n      <td></td>\n    </tr>\n  </tbody>\n</table>\n</div>"
     },
     "execution_count": 13,
     "metadata": {},
     "output_type": "execute_result"
    }
   ],
   "source": [
    "timestep = v3.global_state.tokens['wbtc'].timestamp\n",
    "print('timestep', timestep)\n",
    "v3.deposit(tkn_amt=1, tkn_name='eth',  user_name='Alice', timestamp=timestep)\n",
    "\n",
    "v3.describe(decimals=4)"
   ],
   "metadata": {
    "collapsed": false,
    "pycharm": {
     "name": "#%%\n"
    }
   }
  },
  {
   "cell_type": "code",
   "execution_count": 14,
   "outputs": [
    {
     "data": {
      "text/plain": "  index                                          0\n0   bnt          Spot Rate=0.0000, EMA Rate=0.0000\n1   eth    Spot Rate=1000.0000, EMA Rate=1000.0000\n2  wbtc  Spot Rate=16000.0000, EMA Rate=16000.0000\n3  link          Spot Rate=5.9988, EMA Rate=6.0000",
      "text/html": "<div>\n<style scoped>\n    .dataframe tbody tr th:only-of-type {\n        vertical-align: middle;\n    }\n\n    .dataframe tbody tr th {\n        vertical-align: top;\n    }\n\n    .dataframe thead th {\n        text-align: right;\n    }\n</style>\n<table border=\"1\" class=\"dataframe\">\n  <thead>\n    <tr style=\"text-align: right;\">\n      <th></th>\n      <th>index</th>\n      <th>0</th>\n    </tr>\n  </thead>\n  <tbody>\n    <tr>\n      <th>0</th>\n      <td>bnt</td>\n      <td>Spot Rate=0.0000, EMA Rate=0.0000</td>\n    </tr>\n    <tr>\n      <th>1</th>\n      <td>eth</td>\n      <td>Spot Rate=1000.0000, EMA Rate=1000.0000</td>\n    </tr>\n    <tr>\n      <th>2</th>\n      <td>wbtc</td>\n      <td>Spot Rate=16000.0000, EMA Rate=16000.0000</td>\n    </tr>\n    <tr>\n      <th>3</th>\n      <td>link</td>\n      <td>Spot Rate=5.9988, EMA Rate=6.0000</td>\n    </tr>\n  </tbody>\n</table>\n</div>"
     },
     "execution_count": 14,
     "metadata": {},
     "output_type": "execute_result"
    }
   ],
   "source": [
    "v3.describe(rates=True, decimals=4)"
   ],
   "metadata": {
    "collapsed": false,
    "pycharm": {
     "name": "#%%\n"
    }
   }
  },
  {
   "cell_type": "markdown",
   "source": [
    "Alice now deposits 1 ETH. Since no fees have yet accrued to the bnETH pool tokens (i.e. ETH has not yet been the target of any particular trade), the value of the bnETH pool token remains unchanged. Her 1 ETH is added to the vault, the staking ledger is updated, and a new pool token is created for Alice.\n",
    "\n",
    "Assume that this deposit is occurring on a block wherein no actions have taken place on the ETH pool. Therefore, the ema has not been updated in this block, and it remains where it was. This allows for the effective price quoted by the pool to be evaluated with a view to detecting artificial price manipulation. The protocol's confidence is determined by the relative deviation between the ema and spot prices; the protocol will only allow the pool's trading liquidity to be changed if the difference between these values is small.\n",
    "\n",
    "In this instance, the addition of Alice's 1 ETH occurs when the ema on ETH remains at 1,000, whereas its spot rate is 907.26. The deviation between the spot rate and the ema is measured relative to the ema, as follows:"
   ],
   "metadata": {
    "collapsed": false
   }
  },
  {
   "cell_type": "markdown",
   "source": [
    "Since Δ is fixed at 0.01, the equation above can be expressed as the following boolean:\n",
    "\n",
    "![](https://lh5.googleusercontent.com/blsejE9xJDrmvWZPTX9pyIZnAHe6_FiCmwoKm-IryJ0w678oabuREMMxDo5PrZRbSg68QLAFxG1COySwZTquiD0rfdRxK63u4yGw8In-kcsQFYFuwJWP4JKXebJloN_mkTZ5deQ7YCEaTO5esA)\\\n",
    "where r is the spot rate. In this case, Δ is 0.0927; the tolerance of the protocol is 0.01. Therefore, the protocol will not allow the trading liquidity to be changed on this block. However, Alice's 1 ETH is still accepted into the vault, and she is issued bnETH pool tokens as normal. Since there is no change to the trading liquidity, the protocol will not mint BNT, and will not issue itself bnBNT."
   ],
   "metadata": {
    "collapsed": false
   }
  },
  {
   "cell_type": "markdown",
   "source": [
    "Bob now deposits 1 wBTC. In contrast to Alice’s situation, fees have accumulated on the wBTC pool token. Therefore, the rate of pool token issuance is affected. The staking ledger is reporting a staked amount of wBTC of 101.00045, and the supply of bnwBTC is 101. Therefore, the rate of bnwBTC to wBTC is 0.999995543, and this quotient determines the number of bnwBTC pool tokens Bob will receive.\n",
    "\n",
    "Assume that this deposit is occurring on the same block as Alice’s deposit, where the trade between ETH and wBTC had been executed on the prior block. Therefore, the wBTC ema has not been updated in this block, and also remains at the genesis rate.\n",
    "\n",
    "In this instance, the addition of Bob’s 1 wBTC coccurs when the ema on wBTC remains at 16,000, whereas its spot rate is at 17,534. The deviation (Δ) between the spot rate and the ema is 0.0959, and as before, the protocol will not allow the trading liquidity to be changed on this block. Regardless, the vault still accepts Bob’s wBTC, and issues him bnwBTC as normal.\n"
   ],
   "metadata": {
    "collapsed": false
   }
  },
  {
   "cell_type": "code",
   "execution_count": 15,
   "outputs": [
    {
     "name": "stdout",
     "output_type": "stream",
     "text": [
      "timestep 0\n"
     ]
    },
    {
     "data": {
      "text/plain": "               Trading Liquidity            Vault          Staking  \\\n0     bnt=40000.0000 eth=40.0000      bnt=22.3847      bnt=15.9807   \n1     bnt=40000.0000 wbtc=2.5000     eth=102.0000     eth=102.0000   \n2  bnt=20013.9939 link=3336.3314    wbtc=102.0000    wbtc=102.0000   \n3                                 link=10003.9981  link=10003.4242   \n\n     ERC20 Contracts      Vortex External Protection Protocol WalletState  \n0       bnbnt=0.0000  bnt=8.3908          bnt=0.0000     bnbnt=20000.0000  \n1     bneth=102.0000                      eth=0.0000                       \n2    bnwbtc=102.0000                     wbtc=0.0000                       \n3  bnlink=10001.0000                     link=0.0000                       ",
      "text/html": "<div>\n<style scoped>\n    .dataframe tbody tr th:only-of-type {\n        vertical-align: middle;\n    }\n\n    .dataframe tbody tr th {\n        vertical-align: top;\n    }\n\n    .dataframe thead th {\n        text-align: right;\n    }\n</style>\n<table border=\"1\" class=\"dataframe\">\n  <thead>\n    <tr style=\"text-align: right;\">\n      <th></th>\n      <th>Trading Liquidity</th>\n      <th>Vault</th>\n      <th>Staking</th>\n      <th>ERC20 Contracts</th>\n      <th>Vortex</th>\n      <th>External Protection</th>\n      <th>Protocol WalletState</th>\n    </tr>\n  </thead>\n  <tbody>\n    <tr>\n      <th>0</th>\n      <td>bnt=40000.0000 eth=40.0000</td>\n      <td>bnt=22.3847</td>\n      <td>bnt=15.9807</td>\n      <td>bnbnt=0.0000</td>\n      <td>bnt=8.3908</td>\n      <td>bnt=0.0000</td>\n      <td>bnbnt=20000.0000</td>\n    </tr>\n    <tr>\n      <th>1</th>\n      <td>bnt=40000.0000 wbtc=2.5000</td>\n      <td>eth=102.0000</td>\n      <td>eth=102.0000</td>\n      <td>bneth=102.0000</td>\n      <td></td>\n      <td>eth=0.0000</td>\n      <td></td>\n    </tr>\n    <tr>\n      <th>2</th>\n      <td>bnt=20013.9939 link=3336.3314</td>\n      <td>wbtc=102.0000</td>\n      <td>wbtc=102.0000</td>\n      <td>bnwbtc=102.0000</td>\n      <td></td>\n      <td>wbtc=0.0000</td>\n      <td></td>\n    </tr>\n    <tr>\n      <th>3</th>\n      <td></td>\n      <td>link=10003.9981</td>\n      <td>link=10003.4242</td>\n      <td>bnlink=10001.0000</td>\n      <td></td>\n      <td>link=0.0000</td>\n      <td></td>\n    </tr>\n  </tbody>\n</table>\n</div>"
     },
     "execution_count": 15,
     "metadata": {},
     "output_type": "execute_result"
    }
   ],
   "source": [
    "timestep = v3.global_state.tokens['wbtc'].timestamp\n",
    "print('timestep', timestep)\n",
    "v3.deposit(tkn_amt=1, tkn_name='wbtc', user_name='Bob', timestamp=timestep)\n",
    "v3.describe(decimals=4)"
   ],
   "metadata": {
    "collapsed": false,
    "pycharm": {
     "name": "#%%\n"
    }
   }
  },
  {
   "cell_type": "code",
   "execution_count": 16,
   "outputs": [
    {
     "data": {
      "text/plain": "  index                                          0\n0   bnt          Spot Rate=0.0000, EMA Rate=0.0000\n1   eth    Spot Rate=1000.0000, EMA Rate=1000.0000\n2  wbtc  Spot Rate=16000.0000, EMA Rate=16000.0000\n3  link          Spot Rate=5.9988, EMA Rate=6.0000",
      "text/html": "<div>\n<style scoped>\n    .dataframe tbody tr th:only-of-type {\n        vertical-align: middle;\n    }\n\n    .dataframe tbody tr th {\n        vertical-align: top;\n    }\n\n    .dataframe thead th {\n        text-align: right;\n    }\n</style>\n<table border=\"1\" class=\"dataframe\">\n  <thead>\n    <tr style=\"text-align: right;\">\n      <th></th>\n      <th>index</th>\n      <th>0</th>\n    </tr>\n  </thead>\n  <tbody>\n    <tr>\n      <th>0</th>\n      <td>bnt</td>\n      <td>Spot Rate=0.0000, EMA Rate=0.0000</td>\n    </tr>\n    <tr>\n      <th>1</th>\n      <td>eth</td>\n      <td>Spot Rate=1000.0000, EMA Rate=1000.0000</td>\n    </tr>\n    <tr>\n      <th>2</th>\n      <td>wbtc</td>\n      <td>Spot Rate=16000.0000, EMA Rate=16000.0000</td>\n    </tr>\n    <tr>\n      <th>3</th>\n      <td>link</td>\n      <td>Spot Rate=5.9988, EMA Rate=6.0000</td>\n    </tr>\n  </tbody>\n</table>\n</div>"
     },
     "execution_count": 16,
     "metadata": {},
     "output_type": "execute_result"
    }
   ],
   "source": [
    "v3.describe(rates=True, decimals=4)"
   ],
   "metadata": {
    "collapsed": false,
    "pycharm": {
     "name": "#%%\n"
    }
   }
  },
  {
   "cell_type": "markdown",
   "source": [
    "Charlie now deposits 1 LINK. As was the case for Bob, the fee accrual on bnLINK will affect the issuance of pool tokens. The staking ledger is reporting a staked amount of LINK of 10,003.42, and the supply of bnLINK is 10,001. Therefore, the rate of bnLINK to LINK is 0.999758, and the issuance of bnLINK to Charlie is determined by this number.\n",
    "\n",
    "Assume that this deposit occurs on the block following the two LINK trades previously discussed. In this instance, the addition of Charlie’s 1 LINK occurs when the ema on LINK is 5.9998, whereas its spot rate is at 5.9988. The deviation (Δ) between the spot rate and the ema is 0.00017, which is inside the tolerance levels of the protocol, and the protocol will allow the trading liquidity to update.\n",
    "\n",
    "Trading liquidity always updates according to a strict set of criteria. In simple terms, the protocol will always try to increase the liquidity by as much as possible, up to a maximum BNT liquidity increase of 2× relative to the current depth, and without exceeding the preset funding limit. In this example, the current BNT depth on the LINK pool is 20,013.993668. Therefore, with a sufficient funding limit, the pool could double in size, up to a maximum BNT depth of 40,027.98734 BNT. However, the protocol has previously contributed 20,000 BNT of its 40,000 BNT funding limit - it can only increase the trading liquidity by a maximum of 20,000 BNT. The protocol will always default to the smallest of these two values.\n",
    "\n",
    "By convention, the protocol trusts the ema rate over the spot price. Therefore, in this example, the BNT/LINK quotient is treated as 5.9998. The maximum allowed increase is the BNT funding limit, 20,000 BNT. Therefore, 3333.998732 LINK and 20,000 BNT are added to the trading liquidity. As the protocol is minting BNT, it is simultaneously issuing new bnBNT pool tokens for itself. Since the bnBNT pool token has appreciated in value, this will need to be taken into account."
   ],
   "metadata": {
    "collapsed": false,
    "pycharm": {
     "name": "#%% md\n"
    }
   }
  },
  {
   "cell_type": "code",
   "execution_count": 17,
   "outputs": [
    {
     "name": "stdout",
     "output_type": "stream",
     "text": [
      "timestep 1\n"
     ]
    },
    {
     "data": {
      "text/plain": "               Trading Liquidity            Vault          Staking  \\\n0     bnt=40000.0000 eth=40.0000      bnt=22.3847      bnt=15.9807   \n1     bnt=40000.0000 wbtc=2.5000     eth=102.0000     eth=102.0000   \n2  bnt=40027.9878 link=6671.9971    wbtc=102.0000    wbtc=102.0000   \n3                                 link=10004.9979  link=10004.4240   \n\n     ERC20 Contracts      Vortex External Protection Protocol WalletState  \n0       bnbnt=0.0000  bnt=8.3908          bnt=0.0000     bnbnt=20013.9939  \n1     bneth=102.0000                      eth=0.0000                       \n2    bnwbtc=102.0000                     wbtc=0.0000                       \n3  bnlink=10001.9998                     link=0.0000                       ",
      "text/html": "<div>\n<style scoped>\n    .dataframe tbody tr th:only-of-type {\n        vertical-align: middle;\n    }\n\n    .dataframe tbody tr th {\n        vertical-align: top;\n    }\n\n    .dataframe thead th {\n        text-align: right;\n    }\n</style>\n<table border=\"1\" class=\"dataframe\">\n  <thead>\n    <tr style=\"text-align: right;\">\n      <th></th>\n      <th>Trading Liquidity</th>\n      <th>Vault</th>\n      <th>Staking</th>\n      <th>ERC20 Contracts</th>\n      <th>Vortex</th>\n      <th>External Protection</th>\n      <th>Protocol WalletState</th>\n    </tr>\n  </thead>\n  <tbody>\n    <tr>\n      <th>0</th>\n      <td>bnt=40000.0000 eth=40.0000</td>\n      <td>bnt=22.3847</td>\n      <td>bnt=15.9807</td>\n      <td>bnbnt=0.0000</td>\n      <td>bnt=8.3908</td>\n      <td>bnt=0.0000</td>\n      <td>bnbnt=20013.9939</td>\n    </tr>\n    <tr>\n      <th>1</th>\n      <td>bnt=40000.0000 wbtc=2.5000</td>\n      <td>eth=102.0000</td>\n      <td>eth=102.0000</td>\n      <td>bneth=102.0000</td>\n      <td></td>\n      <td>eth=0.0000</td>\n      <td></td>\n    </tr>\n    <tr>\n      <th>2</th>\n      <td>bnt=40027.9878 link=6671.9971</td>\n      <td>wbtc=102.0000</td>\n      <td>wbtc=102.0000</td>\n      <td>bnwbtc=102.0000</td>\n      <td></td>\n      <td>wbtc=0.0000</td>\n      <td></td>\n    </tr>\n    <tr>\n      <th>3</th>\n      <td></td>\n      <td>link=10004.9979</td>\n      <td>link=10004.4240</td>\n      <td>bnlink=10001.9998</td>\n      <td></td>\n      <td>link=0.0000</td>\n      <td></td>\n    </tr>\n  </tbody>\n</table>\n</div>"
     },
     "execution_count": 17,
     "metadata": {},
     "output_type": "execute_result"
    }
   ],
   "source": [
    "timestep = v3.global_state.tokens['wbtc'].timestamp + 1\n",
    "print('timestep', timestep)\n",
    "v3.deposit(tkn_amt=1, tkn_name='link', user_name='Charlie', timestamp=timestep)\n",
    "v3.describe(decimals=4)"
   ],
   "metadata": {
    "collapsed": false,
    "pycharm": {
     "name": "#%%\n"
    }
   }
  },
  {
   "cell_type": "markdown",
   "source": [
    "The staking ledger is reporting a staked amount of BNT of 60,022.384, and the supply of bnBNT is 60,000. Therefore, the rate of bnBNT to BNT is 0.999627065. As the protocol mints 20,000 BNT to increase the trading liquidity, this amount is added to the BNT staking ledger, and the protocol issues itself 19,992.5413 bnBNT pool tokens."
   ],
   "metadata": {
    "collapsed": false
   }
  },
  {
   "cell_type": "code",
   "execution_count": 18,
   "outputs": [
    {
     "data": {
      "text/plain": "               Trading Liquidity            Vault          Staking  \\\n0     bnt=40000.0000 eth=40.0000      bnt=22.3847      bnt=15.9807   \n1     bnt=40000.0000 wbtc=2.5000     eth=102.0000     eth=102.0000   \n2  bnt=40027.9878 link=6671.9971    wbtc=102.0000    wbtc=102.0000   \n3                                 link=10004.9979  link=10004.4240   \n\n     ERC20 Contracts      Vortex External Protection Protocol WalletState  \n0       bnbnt=0.0000  bnt=8.3908          bnt=0.0000     bnbnt=20013.9939  \n1     bneth=102.0000                      eth=0.0000                       \n2    bnwbtc=102.0000                     wbtc=0.0000                       \n3  bnlink=10001.9998                     link=0.0000                       ",
      "text/html": "<div>\n<style scoped>\n    .dataframe tbody tr th:only-of-type {\n        vertical-align: middle;\n    }\n\n    .dataframe tbody tr th {\n        vertical-align: top;\n    }\n\n    .dataframe thead th {\n        text-align: right;\n    }\n</style>\n<table border=\"1\" class=\"dataframe\">\n  <thead>\n    <tr style=\"text-align: right;\">\n      <th></th>\n      <th>Trading Liquidity</th>\n      <th>Vault</th>\n      <th>Staking</th>\n      <th>ERC20 Contracts</th>\n      <th>Vortex</th>\n      <th>External Protection</th>\n      <th>Protocol WalletState</th>\n    </tr>\n  </thead>\n  <tbody>\n    <tr>\n      <th>0</th>\n      <td>bnt=40000.0000 eth=40.0000</td>\n      <td>bnt=22.3847</td>\n      <td>bnt=15.9807</td>\n      <td>bnbnt=0.0000</td>\n      <td>bnt=8.3908</td>\n      <td>bnt=0.0000</td>\n      <td>bnbnt=20013.9939</td>\n    </tr>\n    <tr>\n      <th>1</th>\n      <td>bnt=40000.0000 wbtc=2.5000</td>\n      <td>eth=102.0000</td>\n      <td>eth=102.0000</td>\n      <td>bneth=102.0000</td>\n      <td></td>\n      <td>eth=0.0000</td>\n      <td></td>\n    </tr>\n    <tr>\n      <th>2</th>\n      <td>bnt=40027.9878 link=6671.9971</td>\n      <td>wbtc=102.0000</td>\n      <td>wbtc=102.0000</td>\n      <td>bnwbtc=102.0000</td>\n      <td></td>\n      <td>wbtc=0.0000</td>\n      <td></td>\n    </tr>\n    <tr>\n      <th>3</th>\n      <td></td>\n      <td>link=10004.9979</td>\n      <td>link=10004.4240</td>\n      <td>bnlink=10001.9998</td>\n      <td></td>\n      <td>link=0.0000</td>\n      <td></td>\n    </tr>\n  </tbody>\n</table>\n</div>"
     },
     "execution_count": 18,
     "metadata": {},
     "output_type": "execute_result"
    }
   ],
   "source": [
    "v3.describe(decimals=4)"
   ],
   "metadata": {
    "collapsed": false,
    "pycharm": {
     "name": "#%%\n"
    }
   }
  },
  {
   "cell_type": "code",
   "execution_count": 18,
   "outputs": [],
   "source": [],
   "metadata": {
    "collapsed": false,
    "pycharm": {
     "name": "#%%\n"
    }
   }
  }
 ],
 "metadata": {
  "kernelspec": {
   "name": "pycharm-c19c9c8d",
   "language": "python",
   "display_name": "PyCharm (simulator-v3)"
  },
  "language_info": {
   "codemirror_mode": {
    "name": "ipython",
    "version": 3
   },
   "file_extension": ".py",
   "mimetype": "text/x-python",
   "name": "python",
   "nbconvert_exporter": "python",
   "pygments_lexer": "ipython3",
   "version": "3.8.5"
  }
 },
 "nbformat": 4,
 "nbformat_minor": 2
}
