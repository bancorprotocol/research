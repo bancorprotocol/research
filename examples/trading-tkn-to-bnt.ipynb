{
 "cells": [
  {
   "cell_type": "code",
   "execution_count": 1,
   "metadata": {
    "tags": [
     "remove-input"
    ]
   },
   "outputs": [
    {
     "name": "stdout",
     "output_type": "stream",
     "text": [
      "Bootstrap requirements met for eth\n",
      "Bootstrap requirements met for link\n",
      "Bootstrap requirements met for wbtc\n"
     ]
    }
   ],
   "source": [
    "from datascience import *\n",
    "from datascience.predicates import are\n",
    "path_data = '../../../../data/'\n",
    "import numpy as np\n",
    "import matplotlib\n",
    "matplotlib.use('Agg')\n",
    "%matplotlib inline\n",
    "import matplotlib.pyplot as plots\n",
    "plots.style.use('fivethirtyeight')\n",
    "import warnings\n",
    "warnings.simplefilter(action=\"ignore\", category=FutureWarning)\n",
    "\n",
    "from urllib.request import urlopen \n",
    "import re\n",
    "from bancor_research.bancor_simulator.v3.spec.network import BancorDapp\n",
    "\n",
    "# Recall from an earlier chapter that we already defined the whitelisted_tokens as follows.\n",
    "whitelisted_tokens = {\n",
    "    \"eth\": {\n",
    "        \"trading_fee\": 0.01,\n",
    "        \"bnt_funding_limit\": 1000000\n",
    "    },\n",
    "    \"link\": {\n",
    "        \"trading_fee\": 0.01,\n",
    "        \"bnt_funding_limit\": 1000000\n",
    "    },\n",
    "    \"wbtc\": {\n",
    "        \"trading_fee\": 0.01,\n",
    "        \"bnt_funding_limit\": 1000000\n",
    "    }\n",
    "}\n",
    "\n",
    "# There are other possible configuration settings available, however for the present purpose we will use the defaults.\n",
    "v3 = BancorDapp(whitelisted_tokens=whitelisted_tokens)\n",
    "\n",
    "v3.create_user('Trader')\n",
    "\n",
    "v3.set_user_balance(tkn_amt=101, tkn_name='eth', user_name='Alice')\n",
    "v3.set_user_balance(tkn_amt=101, tkn_name='wbtc', user_name='Bob')\n",
    "v3.set_user_balance(tkn_amt=10001, tkn_name='link', user_name='Charlie')\n",
    "v3.set_user_balance(tkn_amt=2000, tkn_name='bnt', user_name='Trader')\n",
    "v3.set_user_balance(tkn_amt=3, tkn_name='link', user_name='Trader')\n",
    "\n",
    "# The actual deposits.\n",
    "\n",
    "v3.deposit(tkn_amt=100, tkn_name='eth', user_name='Alice')\n",
    "\n",
    "v3.deposit(tkn_amt=10000, tkn_name='link', user_name='Charlie')\n",
    "\n",
    "v3.deposit(tkn_amt=100, tkn_name='wbtc', user_name='Bob')\n",
    "\n",
    "v3.deposit(tkn_amt=1, tkn_name='eth', user_name='Alice')\n",
    "\n",
    "v3.deposit(tkn_amt=1, tkn_name='link', user_name='Charlie')\n",
    "\n",
    "v3.deposit(tkn_amt=1, tkn_name='wbtc', user_name='Bob')\n",
    "\n",
    "for tkn_name in whitelisted_tokens:\n",
    "    v3.enable_trading(tkn_name)\n",
    "\n",
    "v3.trade(tkn_amt=2000, source_token='bnt',  target_token='link', user_name='Trader', timestamp=0)\n",
    "\n",
    "def read_url(url): \n",
    "    return re.sub('\\\\s+', ' ', urlopen(url).read().decode())"
   ]
  },
  {
   "cell_type": "code",
   "execution_count": 2,
   "outputs": [
    {
     "data": {
      "text/plain": "                                             eth          link          wbtc  \\\n1 Account Alice                         0.000000           NaN           NaN   \n          Bob                                NaN           NaN      0.000000   \n          Charlie                            NaN      0.000000           NaN   \n          Trader                             NaN    303.000000           NaN   \n2 Pool    a: TKN Staked Balance       101.000000  10003.424242    101.000000   \n          b: TKN Trading Liquidity     20.000000   3033.333333      1.250000   \n          c: BNT Trading Liquidity  20000.000000  21995.604396  20000.000000   \n          d: BNT Current Funding    20000.000000  20000.000000  20000.000000   \n          e: Spot Rate               1000.000000      7.251298  16000.000000   \n          f: Average Rate            1000.000000      6.000000  16000.000000   \n          g: Average Inverse Rate       0.000000      0.000000      0.000000   \n3 Network Master Vault                101.000000   9701.000000    101.000000   \n          Protection Vault              0.000000      0.000000      0.000000   \n          Protocol Equity                    NaN           NaN           NaN   \n          Rewards Vault                      NaN           NaN           NaN   \n\n                                         bnt       bneth        bnlink  \\\n1 Account Alice                          NaN  101.000000           NaN   \n          Bob                            NaN         NaN           NaN   \n          Charlie                        NaN         NaN  10001.000000   \n          Trader                    0.000000         NaN           NaN   \n2 Pool    a: TKN Staked Balance          NaN    0.000000      0.000000   \n          b: TKN Trading Liquidity       NaN    0.000000      0.000000   \n          c: BNT Trading Liquidity       NaN    0.000000      0.000000   \n          d: BNT Current Funding         NaN    0.000000      0.000000   \n          e: Spot Rate                   NaN    0.000000      0.000000   \n          f: Average Rate                NaN    0.000000      0.000000   \n          g: Average Inverse Rate        NaN    0.000000      0.000000   \n3 Network Master Vault                   NaN         NaN           NaN   \n          Protection Vault               NaN         NaN           NaN   \n          Protocol Equity                NaN    0.000000      0.000000   \n          Rewards Vault                  NaN    0.000000      0.000000   \n\n                                        bnwbtc  \n1 Account Alice                            NaN  \n          Bob                       101.000000  \n          Charlie                          NaN  \n          Trader                           NaN  \n2 Pool    a: TKN Staked Balance       0.000000  \n          b: TKN Trading Liquidity    0.000000  \n          c: BNT Trading Liquidity    0.000000  \n          d: BNT Current Funding      0.000000  \n          e: Spot Rate                0.000000  \n          f: Average Rate             0.000000  \n          g: Average Inverse Rate     0.000000  \n3 Network Master Vault                     NaN  \n          Protection Vault                 NaN  \n          Protocol Equity             0.000000  \n          Rewards Vault               0.000000  ",
      "text/html": "<div>\n<style scoped>\n    .dataframe tbody tr th:only-of-type {\n        vertical-align: middle;\n    }\n\n    .dataframe tbody tr th {\n        vertical-align: top;\n    }\n\n    .dataframe thead th {\n        text-align: right;\n    }\n</style>\n<table border=\"1\" class=\"dataframe\">\n  <thead>\n    <tr style=\"text-align: right;\">\n      <th></th>\n      <th></th>\n      <th></th>\n      <th>eth</th>\n      <th>link</th>\n      <th>wbtc</th>\n      <th>bnt</th>\n      <th>bneth</th>\n      <th>bnlink</th>\n      <th>bnwbtc</th>\n    </tr>\n  </thead>\n  <tbody>\n    <tr>\n      <th rowspan=\"4\" valign=\"top\">1</th>\n      <th rowspan=\"4\" valign=\"top\">Account</th>\n      <th>Alice</th>\n      <td>0.000000</td>\n      <td>NaN</td>\n      <td>NaN</td>\n      <td>NaN</td>\n      <td>101.000000</td>\n      <td>NaN</td>\n      <td>NaN</td>\n    </tr>\n    <tr>\n      <th>Bob</th>\n      <td>NaN</td>\n      <td>NaN</td>\n      <td>0.000000</td>\n      <td>NaN</td>\n      <td>NaN</td>\n      <td>NaN</td>\n      <td>101.000000</td>\n    </tr>\n    <tr>\n      <th>Charlie</th>\n      <td>NaN</td>\n      <td>0.000000</td>\n      <td>NaN</td>\n      <td>NaN</td>\n      <td>NaN</td>\n      <td>10001.000000</td>\n      <td>NaN</td>\n    </tr>\n    <tr>\n      <th>Trader</th>\n      <td>NaN</td>\n      <td>303.000000</td>\n      <td>NaN</td>\n      <td>0.000000</td>\n      <td>NaN</td>\n      <td>NaN</td>\n      <td>NaN</td>\n    </tr>\n    <tr>\n      <th rowspan=\"7\" valign=\"top\">2</th>\n      <th rowspan=\"7\" valign=\"top\">Pool</th>\n      <th>a: TKN Staked Balance</th>\n      <td>101.000000</td>\n      <td>10003.424242</td>\n      <td>101.000000</td>\n      <td>NaN</td>\n      <td>0.000000</td>\n      <td>0.000000</td>\n      <td>0.000000</td>\n    </tr>\n    <tr>\n      <th>b: TKN Trading Liquidity</th>\n      <td>20.000000</td>\n      <td>3033.333333</td>\n      <td>1.250000</td>\n      <td>NaN</td>\n      <td>0.000000</td>\n      <td>0.000000</td>\n      <td>0.000000</td>\n    </tr>\n    <tr>\n      <th>c: BNT Trading Liquidity</th>\n      <td>20000.000000</td>\n      <td>21995.604396</td>\n      <td>20000.000000</td>\n      <td>NaN</td>\n      <td>0.000000</td>\n      <td>0.000000</td>\n      <td>0.000000</td>\n    </tr>\n    <tr>\n      <th>d: BNT Current Funding</th>\n      <td>20000.000000</td>\n      <td>20000.000000</td>\n      <td>20000.000000</td>\n      <td>NaN</td>\n      <td>0.000000</td>\n      <td>0.000000</td>\n      <td>0.000000</td>\n    </tr>\n    <tr>\n      <th>e: Spot Rate</th>\n      <td>1000.000000</td>\n      <td>7.251298</td>\n      <td>16000.000000</td>\n      <td>NaN</td>\n      <td>0.000000</td>\n      <td>0.000000</td>\n      <td>0.000000</td>\n    </tr>\n    <tr>\n      <th>f: Average Rate</th>\n      <td>1000.000000</td>\n      <td>6.000000</td>\n      <td>16000.000000</td>\n      <td>NaN</td>\n      <td>0.000000</td>\n      <td>0.000000</td>\n      <td>0.000000</td>\n    </tr>\n    <tr>\n      <th>g: Average Inverse Rate</th>\n      <td>0.000000</td>\n      <td>0.000000</td>\n      <td>0.000000</td>\n      <td>NaN</td>\n      <td>0.000000</td>\n      <td>0.000000</td>\n      <td>0.000000</td>\n    </tr>\n    <tr>\n      <th rowspan=\"4\" valign=\"top\">3</th>\n      <th rowspan=\"4\" valign=\"top\">Network</th>\n      <th>Master Vault</th>\n      <td>101.000000</td>\n      <td>9701.000000</td>\n      <td>101.000000</td>\n      <td>NaN</td>\n      <td>NaN</td>\n      <td>NaN</td>\n      <td>NaN</td>\n    </tr>\n    <tr>\n      <th>Protection Vault</th>\n      <td>0.000000</td>\n      <td>0.000000</td>\n      <td>0.000000</td>\n      <td>NaN</td>\n      <td>NaN</td>\n      <td>NaN</td>\n      <td>NaN</td>\n    </tr>\n    <tr>\n      <th>Protocol Equity</th>\n      <td>NaN</td>\n      <td>NaN</td>\n      <td>NaN</td>\n      <td>NaN</td>\n      <td>0.000000</td>\n      <td>0.000000</td>\n      <td>0.000000</td>\n    </tr>\n    <tr>\n      <th>Rewards Vault</th>\n      <td>NaN</td>\n      <td>NaN</td>\n      <td>NaN</td>\n      <td>NaN</td>\n      <td>0.000000</td>\n      <td>0.000000</td>\n      <td>0.000000</td>\n    </tr>\n  </tbody>\n</table>\n</div>"
     },
     "execution_count": 2,
     "metadata": {},
     "output_type": "execute_result"
    }
   ],
   "source": [
    "v3.describe(decimals=6)"
   ],
   "metadata": {
    "collapsed": false,
    "pycharm": {
     "name": "#%%\n"
    }
   }
  },
  {
   "cell_type": "markdown",
   "metadata": {},
   "source": [
    "# Trading and Fees - TKN to BNT\n",
    "\n",
    "Assume now that a trader wants to perform the opposite action, perhaps to close an arbitrage opportunity left open by the previous swap. The trader sends 302.9981 LINK into the vault, and the vault sends 1977.6155 BNT to the trader. As before, the trader’s intuition agrees with the changing state of the vault balances; however, the changes in the trading liquidity and staked balances require closer examination."
   ]
  },
  {
   "cell_type": "code",
   "execution_count": 3,
   "outputs": [
    {
     "data": {
      "text/plain": "                                           eth        link        wbtc  \\\n1 Account Alice                         0.0000         NaN         NaN   \n          Bob                              NaN         NaN      0.0000   \n          Charlie                          NaN      0.0000         NaN   \n          Trader                           NaN      0.0019         NaN   \n2 Pool    a: TKN Staked Balance       101.0000  10003.4242    101.0000   \n          b: TKN Trading Liquidity     20.0000   3336.3314      1.2500   \n          c: BNT Trading Liquidity  20000.0000  20013.9939  20000.0000   \n          d: BNT Current Funding    20000.0000  20015.9807  20000.0000   \n          e: Spot Rate               1000.0000      5.9988  16000.0000   \n          f: Average Rate            1000.0000      6.0000  16000.0000   \n          g: Average Inverse Rate       0.0000      0.0000      0.0000   \n3 Network Master Vault                101.0000  10003.9981    101.0000   \n          Protection Vault              0.0000      0.0000      0.0000   \n          Protocol Equity                  NaN         NaN         NaN   \n          Rewards Vault                    NaN         NaN         NaN   \n\n                                          bnt     bneth      bnlink    bnwbtc  \n1 Account Alice                           NaN  101.0000         NaN       NaN  \n          Bob                             NaN       NaN         NaN  101.0000  \n          Charlie                         NaN       NaN  10001.0000       NaN  \n          Trader                    1977.6153       NaN         NaN       NaN  \n2 Pool    a: TKN Staked Balance           NaN    0.0000      0.0000    0.0000  \n          b: TKN Trading Liquidity        NaN    0.0000      0.0000    0.0000  \n          c: BNT Trading Liquidity        NaN    0.0000      0.0000    0.0000  \n          d: BNT Current Funding          NaN    0.0000      0.0000    0.0000  \n          e: Spot Rate                    NaN    0.0000      0.0000    0.0000  \n          f: Average Rate                 NaN    0.0000      0.0000    0.0000  \n          g: Average Inverse Rate         NaN    0.0000      0.0000    0.0000  \n3 Network Master Vault                    NaN       NaN         NaN       NaN  \n          Protection Vault                NaN       NaN         NaN       NaN  \n          Protocol Equity                 NaN    0.0000      0.0000    0.0000  \n          Rewards Vault                   NaN    0.0000      0.0000    0.0000  ",
      "text/html": "<div>\n<style scoped>\n    .dataframe tbody tr th:only-of-type {\n        vertical-align: middle;\n    }\n\n    .dataframe tbody tr th {\n        vertical-align: top;\n    }\n\n    .dataframe thead th {\n        text-align: right;\n    }\n</style>\n<table border=\"1\" class=\"dataframe\">\n  <thead>\n    <tr style=\"text-align: right;\">\n      <th></th>\n      <th></th>\n      <th></th>\n      <th>eth</th>\n      <th>link</th>\n      <th>wbtc</th>\n      <th>bnt</th>\n      <th>bneth</th>\n      <th>bnlink</th>\n      <th>bnwbtc</th>\n    </tr>\n  </thead>\n  <tbody>\n    <tr>\n      <th rowspan=\"4\" valign=\"top\">1</th>\n      <th rowspan=\"4\" valign=\"top\">Account</th>\n      <th>Alice</th>\n      <td>0.0000</td>\n      <td>NaN</td>\n      <td>NaN</td>\n      <td>NaN</td>\n      <td>101.0000</td>\n      <td>NaN</td>\n      <td>NaN</td>\n    </tr>\n    <tr>\n      <th>Bob</th>\n      <td>NaN</td>\n      <td>NaN</td>\n      <td>0.0000</td>\n      <td>NaN</td>\n      <td>NaN</td>\n      <td>NaN</td>\n      <td>101.0000</td>\n    </tr>\n    <tr>\n      <th>Charlie</th>\n      <td>NaN</td>\n      <td>0.0000</td>\n      <td>NaN</td>\n      <td>NaN</td>\n      <td>NaN</td>\n      <td>10001.0000</td>\n      <td>NaN</td>\n    </tr>\n    <tr>\n      <th>Trader</th>\n      <td>NaN</td>\n      <td>0.0019</td>\n      <td>NaN</td>\n      <td>1977.6153</td>\n      <td>NaN</td>\n      <td>NaN</td>\n      <td>NaN</td>\n    </tr>\n    <tr>\n      <th rowspan=\"7\" valign=\"top\">2</th>\n      <th rowspan=\"7\" valign=\"top\">Pool</th>\n      <th>a: TKN Staked Balance</th>\n      <td>101.0000</td>\n      <td>10003.4242</td>\n      <td>101.0000</td>\n      <td>NaN</td>\n      <td>0.0000</td>\n      <td>0.0000</td>\n      <td>0.0000</td>\n    </tr>\n    <tr>\n      <th>b: TKN Trading Liquidity</th>\n      <td>20.0000</td>\n      <td>3336.3314</td>\n      <td>1.2500</td>\n      <td>NaN</td>\n      <td>0.0000</td>\n      <td>0.0000</td>\n      <td>0.0000</td>\n    </tr>\n    <tr>\n      <th>c: BNT Trading Liquidity</th>\n      <td>20000.0000</td>\n      <td>20013.9939</td>\n      <td>20000.0000</td>\n      <td>NaN</td>\n      <td>0.0000</td>\n      <td>0.0000</td>\n      <td>0.0000</td>\n    </tr>\n    <tr>\n      <th>d: BNT Current Funding</th>\n      <td>20000.0000</td>\n      <td>20015.9807</td>\n      <td>20000.0000</td>\n      <td>NaN</td>\n      <td>0.0000</td>\n      <td>0.0000</td>\n      <td>0.0000</td>\n    </tr>\n    <tr>\n      <th>e: Spot Rate</th>\n      <td>1000.0000</td>\n      <td>5.9988</td>\n      <td>16000.0000</td>\n      <td>NaN</td>\n      <td>0.0000</td>\n      <td>0.0000</td>\n      <td>0.0000</td>\n    </tr>\n    <tr>\n      <th>f: Average Rate</th>\n      <td>1000.0000</td>\n      <td>6.0000</td>\n      <td>16000.0000</td>\n      <td>NaN</td>\n      <td>0.0000</td>\n      <td>0.0000</td>\n      <td>0.0000</td>\n    </tr>\n    <tr>\n      <th>g: Average Inverse Rate</th>\n      <td>0.0000</td>\n      <td>0.0000</td>\n      <td>0.0000</td>\n      <td>NaN</td>\n      <td>0.0000</td>\n      <td>0.0000</td>\n      <td>0.0000</td>\n    </tr>\n    <tr>\n      <th rowspan=\"4\" valign=\"top\">3</th>\n      <th rowspan=\"4\" valign=\"top\">Network</th>\n      <th>Master Vault</th>\n      <td>101.0000</td>\n      <td>10003.9981</td>\n      <td>101.0000</td>\n      <td>NaN</td>\n      <td>NaN</td>\n      <td>NaN</td>\n      <td>NaN</td>\n    </tr>\n    <tr>\n      <th>Protection Vault</th>\n      <td>0.0000</td>\n      <td>0.0000</td>\n      <td>0.0000</td>\n      <td>NaN</td>\n      <td>NaN</td>\n      <td>NaN</td>\n      <td>NaN</td>\n    </tr>\n    <tr>\n      <th>Protocol Equity</th>\n      <td>NaN</td>\n      <td>NaN</td>\n      <td>NaN</td>\n      <td>NaN</td>\n      <td>0.0000</td>\n      <td>0.0000</td>\n      <td>0.0000</td>\n    </tr>\n    <tr>\n      <th>Rewards Vault</th>\n      <td>NaN</td>\n      <td>NaN</td>\n      <td>NaN</td>\n      <td>NaN</td>\n      <td>0.0000</td>\n      <td>0.0000</td>\n      <td>0.0000</td>\n    </tr>\n  </tbody>\n</table>\n</div>"
     },
     "execution_count": 3,
     "metadata": {},
     "output_type": "execute_result"
    }
   ],
   "source": [
    "v3.trade(tkn_amt=302.9981, source_token='link',  target_token='bnt', user_name='Trader', timestamp=0)\n",
    "\n",
    "v3.describe(decimals=4)"
   ],
   "metadata": {
    "collapsed": false,
    "pycharm": {
     "name": "#%%\n"
    }
   }
  },
  {
   "cell_type": "markdown",
   "source": [
    "In this trade, the target asset is BNT. Therefore, there is no need to perform a second, virtual swap at the end of the trade. Instead, the vortex fee is taken directly from the effective fee. Importantly, this results in a slightly reduced change in the growth of the BNT trading liquidity as judged from the trader's perspective. The trader's fee totals 19.9759 BNT, of which 3.9952 BNT becomes the property of the Bancor Vortex. The difference (15.9807 BNT) is added to the BNT staking ledger, and causes the value of the bnBNT pool token to appreciate.\n",
    "\n",
    "Therefore, during the trade the following components of the system were changed:\n",
    "\n",
    "1. The vault balances. The change in the vault is always in agreement with the trader's intuition. In this case, the trader sent 302.99814 LINK into the vault, and received 1977.615545 BNT from it. Therefore, the vault balance of LINK necessarily increased by 302.99814 LINK, and decreased by 1977.615545 BNT.\n",
    "\n",
    "2. The staking ledger. Trading fees are always taken from the target asset. Therefore, the value of the bnBNT pool token must be appreciated by 80% of the fee apparent to the trader (i.e. the total fee - vortex rate). A total of 15.980731 BNT tokens are added to the staked amount, which becomes the property of the bnBNT pool token holders (at this point in the narrative, is the protocol only).\n",
    "\n",
    "3. The vortex ledger. A portion of the fee paid by the trader is effectively collected, and added to the vortex ledger.\n",
    "\n",
    "4. The trading liquidity. The apparent disagreement between the intuitive result, and the one obtained, is accounted for by the effect of the BNT collection by the vortex.\n",
    "\n",
    "The change in the BNT and LINK trading liquidity can be expressed as follows:\n",
    "\n",
    "![](https://lh3.googleusercontent.com/fdNz0QqFKQ0CaabnT7t8pfphTCylaW4ox8YEPNF_i662Xgt3CECetm3GRt34YJ5orHz2zXPPRNX6uIPOlLX1PwSjCXaWmCCcAYrpaeTS0gip1FGZTjOlcOqOACtUJAm-dtXGtsVH)\n",
    "\n",
    "![](https://lh6.googleusercontent.com/femAV9RrDUJnonpzPV4mevFeQYL1F5RkUXktaroDl78ixkfTwxssW0mglLr0eS_KvC6l0ZewOMX0oQKmi-cnXRpe69q9wg3xich5UXF46qbXEPP9pRzN1xZ94I_dmXnoPRVX2vS1)\n",
    "\n",
    "![](https://lh6.googleusercontent.com/Y5Isbbj4UjPyamIcti-mUZNAjYiopquxluK2rM0AXAkpqP6ZYhpTU9Ad447Z334-q5b_a2yXXp5oSCBf7e_a3ZqmpG_O9xU3SPfSOtAK8vwOW9cOWBe4VL0bWDFOFzN9k-sd7Veh)\n",
    "\n",
    "where a1† and a1 are the BNT trading liquidity balances of the pool after and before the trade, respectively, b1† and b1 are the LINK trading liquidity balances of the pool after and before the trade, respectively, d1 is the pool fee (e.g. 0.01, or 1%) and e is the Vortex rate (e.g. 0.2, or 20%). The number of LINK tokens being sent into the vault is x, and the number of BNT tokens sent back to the trader is bntOut. The change in the TKN trading liquidity (and therefore the update to the available LINK trading liquidity) is unchanged from the standard case. The calculation of the fee awarded to liquidity providers, denominated in BNT and added to the staking ledger is:\n",
    "\n",
    "![](https://lh4.googleusercontent.com/L37q1CVjSJ4-I_j8q_cdhXbxgP9oZ7PXkJ3UVzH67xmPyj9fHUucHYQVBt6wkDnYidSawiK4BIFDbLf1exJc_p7PEDPBgim4XAHRLtBk9IaGCvblhyAXfxnYAk0EcAsJ_CGx_ai_)\n",
    "\n",
    "And the calculation for the fee given to the Bancor Vortex, denominated exclusively in BNT and added to the vortex ledger is:\n",
    "\n",
    "![](https://lh3.googleusercontent.com/0sr_cE39asE2B1XQGhuD3whJwUP_yhjwv3QswhtG-nPmfTLQGFBgScf8HAtEyWnGiapYkaTkc5qhdCW0DlZzHDJTRWaTFtYB3Ynn2uij2Tga0czOs-gHFMii521VkSNlLk7KsPDf)"
   ],
   "metadata": {
    "collapsed": false,
    "pycharm": {
     "name": "#%% md\n"
    }
   }
  },
  {
   "cell_type": "code",
   "execution_count": 3,
   "outputs": [],
   "source": [],
   "metadata": {
    "collapsed": false,
    "pycharm": {
     "name": "#%%\n"
    }
   }
  },
  {
   "cell_type": "code",
   "execution_count": 3,
   "outputs": [],
   "source": [],
   "metadata": {
    "collapsed": false,
    "pycharm": {
     "name": "#%%\n"
    }
   }
  }
 ],
 "metadata": {
  "kernelspec": {
   "name": "python3",
   "language": "python",
   "display_name": "Python 3 (ipykernel)"
  },
  "language_info": {
   "codemirror_mode": {
    "name": "ipython",
    "version": 3
   },
   "file_extension": ".py",
   "mimetype": "text/x-python",
   "name": "python",
   "nbconvert_exporter": "python",
   "pygments_lexer": "ipython3",
   "version": "3.8.5"
  }
 },
 "nbformat": 4,
 "nbformat_minor": 2
}