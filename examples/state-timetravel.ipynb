{
 "cells": [
  {
   "cell_type": "code",
   "execution_count": 1,
   "metadata": {
    "collapsed": true
   },
   "outputs": [],
   "source": [
    "from bancor_research.bancor_simulator.v3.spec.network import *\n",
    "\n",
    "v3 = BancorDapp()"
   ]
  },
  {
   "cell_type": "code",
   "execution_count": 2,
   "outputs": [],
   "source": [
    "user_name = 'alice'\n",
    "\n",
    "tkn_name = 'tkn'\n",
    "bnt_name = 'bnt'\n",
    "\n",
    "tkn_amt = 1000000000\n",
    "bnt_amt = 1000000\n",
    "\n",
    "v3.set_user_balance(user_name, tkn_name, tkn_amt)\n",
    "v3.set_user_balance(user_name, bnt_name, bnt_amt)"
   ],
   "metadata": {
    "collapsed": false,
    "pycharm": {
     "name": "#%%\n"
    }
   }
  },
  {
   "cell_type": "code",
   "execution_count": 3,
   "outputs": [
    {
     "data": {
      "text/plain": "            Trading Liquidity            Vault          Staking  \\\n0   bnt=0.000000 dai=0.000000     bnt=0.000000     bnt=0.000000   \n1   bnt=0.000000 eth=0.000000     dai=0.000000     dai=0.000000   \n2  bnt=0.000000 link=0.000000     eth=0.000000     eth=0.000000   \n3   bnt=0.000000 tkn=0.000000    link=0.000000    link=0.000000   \n4  bnt=0.000000 wbtc=0.000000  tkn=1000.000000  tkn=1000.000000   \n5                                wbtc=0.000000    wbtc=0.000000   \n\n     ERC20 Contracts        Vortex External Protection Protocol WalletState  \n0     bnbnt=0.000000  bnt=0.000000        dai=0.000000       bnbnt=0.000000  \n1     bndai=0.000000                      eth=0.000000                       \n2     bneth=0.000000                     link=0.000000                       \n3    bnlink=0.000000                      bnt=0.000000                       \n4  bntkn=1000.000000                      tkn=0.000000                       \n5    bnwbtc=0.000000                     wbtc=0.000000                       ",
      "text/html": "<div>\n<style scoped>\n    .dataframe tbody tr th:only-of-type {\n        vertical-align: middle;\n    }\n\n    .dataframe tbody tr th {\n        vertical-align: top;\n    }\n\n    .dataframe thead th {\n        text-align: right;\n    }\n</style>\n<table border=\"1\" class=\"dataframe\">\n  <thead>\n    <tr style=\"text-align: right;\">\n      <th></th>\n      <th>Trading Liquidity</th>\n      <th>Vault</th>\n      <th>Staking</th>\n      <th>ERC20 Contracts</th>\n      <th>Vortex</th>\n      <th>External Protection</th>\n      <th>Protocol WalletState</th>\n    </tr>\n  </thead>\n  <tbody>\n    <tr>\n      <th>0</th>\n      <td>bnt=0.000000 dai=0.000000</td>\n      <td>bnt=0.000000</td>\n      <td>bnt=0.000000</td>\n      <td>bnbnt=0.000000</td>\n      <td>bnt=0.000000</td>\n      <td>dai=0.000000</td>\n      <td>bnbnt=0.000000</td>\n    </tr>\n    <tr>\n      <th>1</th>\n      <td>bnt=0.000000 eth=0.000000</td>\n      <td>dai=0.000000</td>\n      <td>dai=0.000000</td>\n      <td>bndai=0.000000</td>\n      <td></td>\n      <td>eth=0.000000</td>\n      <td></td>\n    </tr>\n    <tr>\n      <th>2</th>\n      <td>bnt=0.000000 link=0.000000</td>\n      <td>eth=0.000000</td>\n      <td>eth=0.000000</td>\n      <td>bneth=0.000000</td>\n      <td></td>\n      <td>link=0.000000</td>\n      <td></td>\n    </tr>\n    <tr>\n      <th>3</th>\n      <td>bnt=0.000000 tkn=0.000000</td>\n      <td>link=0.000000</td>\n      <td>link=0.000000</td>\n      <td>bnlink=0.000000</td>\n      <td></td>\n      <td>bnt=0.000000</td>\n      <td></td>\n    </tr>\n    <tr>\n      <th>4</th>\n      <td>bnt=0.000000 wbtc=0.000000</td>\n      <td>tkn=1000.000000</td>\n      <td>tkn=1000.000000</td>\n      <td>bntkn=1000.000000</td>\n      <td></td>\n      <td>tkn=0.000000</td>\n      <td></td>\n    </tr>\n    <tr>\n      <th>5</th>\n      <td></td>\n      <td>wbtc=0.000000</td>\n      <td>wbtc=0.000000</td>\n      <td>bnwbtc=0.000000</td>\n      <td></td>\n      <td>wbtc=0.000000</td>\n      <td></td>\n    </tr>\n  </tbody>\n</table>\n</div>"
     },
     "execution_count": 3,
     "metadata": {},
     "output_type": "execute_result"
    }
   ],
   "source": [
    "timestamp = 14\n",
    "v3.deposit(tkn_name=tkn_name, tkn_amt=1000, user_name=user_name, timestamp=timestamp)\n",
    "v3.describe()"
   ],
   "metadata": {
    "collapsed": false,
    "pycharm": {
     "name": "#%%\n"
    }
   }
  },
  {
   "cell_type": "code",
   "execution_count": 4,
   "outputs": [
    {
     "data": {
      "text/plain": "            Trading Liquidity            Vault          Staking  \\\n0   bnt=0.000000 dai=0.000000     bnt=0.000000     bnt=0.000000   \n1   bnt=0.000000 eth=0.000000     dai=0.000000     dai=0.000000   \n2  bnt=0.000000 link=0.000000     eth=0.000000     eth=0.000000   \n3   bnt=0.000000 tkn=0.000000    link=0.000000    link=0.000000   \n4  bnt=0.000000 wbtc=0.000000  tkn=2000.000000  tkn=2000.000000   \n5                                wbtc=0.000000    wbtc=0.000000   \n\n     ERC20 Contracts        Vortex External Protection Protocol WalletState  \n0     bnbnt=0.000000  bnt=0.000000        dai=0.000000       bnbnt=0.000000  \n1     bndai=0.000000                      eth=0.000000                       \n2     bneth=0.000000                     link=0.000000                       \n3    bnlink=0.000000                      bnt=0.000000                       \n4  bntkn=2000.000000                      tkn=0.000000                       \n5    bnwbtc=0.000000                     wbtc=0.000000                       ",
      "text/html": "<div>\n<style scoped>\n    .dataframe tbody tr th:only-of-type {\n        vertical-align: middle;\n    }\n\n    .dataframe tbody tr th {\n        vertical-align: top;\n    }\n\n    .dataframe thead th {\n        text-align: right;\n    }\n</style>\n<table border=\"1\" class=\"dataframe\">\n  <thead>\n    <tr style=\"text-align: right;\">\n      <th></th>\n      <th>Trading Liquidity</th>\n      <th>Vault</th>\n      <th>Staking</th>\n      <th>ERC20 Contracts</th>\n      <th>Vortex</th>\n      <th>External Protection</th>\n      <th>Protocol WalletState</th>\n    </tr>\n  </thead>\n  <tbody>\n    <tr>\n      <th>0</th>\n      <td>bnt=0.000000 dai=0.000000</td>\n      <td>bnt=0.000000</td>\n      <td>bnt=0.000000</td>\n      <td>bnbnt=0.000000</td>\n      <td>bnt=0.000000</td>\n      <td>dai=0.000000</td>\n      <td>bnbnt=0.000000</td>\n    </tr>\n    <tr>\n      <th>1</th>\n      <td>bnt=0.000000 eth=0.000000</td>\n      <td>dai=0.000000</td>\n      <td>dai=0.000000</td>\n      <td>bndai=0.000000</td>\n      <td></td>\n      <td>eth=0.000000</td>\n      <td></td>\n    </tr>\n    <tr>\n      <th>2</th>\n      <td>bnt=0.000000 link=0.000000</td>\n      <td>eth=0.000000</td>\n      <td>eth=0.000000</td>\n      <td>bneth=0.000000</td>\n      <td></td>\n      <td>link=0.000000</td>\n      <td></td>\n    </tr>\n    <tr>\n      <th>3</th>\n      <td>bnt=0.000000 tkn=0.000000</td>\n      <td>link=0.000000</td>\n      <td>link=0.000000</td>\n      <td>bnlink=0.000000</td>\n      <td></td>\n      <td>bnt=0.000000</td>\n      <td></td>\n    </tr>\n    <tr>\n      <th>4</th>\n      <td>bnt=0.000000 wbtc=0.000000</td>\n      <td>tkn=2000.000000</td>\n      <td>tkn=2000.000000</td>\n      <td>bntkn=2000.000000</td>\n      <td></td>\n      <td>tkn=0.000000</td>\n      <td></td>\n    </tr>\n    <tr>\n      <th>5</th>\n      <td></td>\n      <td>wbtc=0.000000</td>\n      <td>wbtc=0.000000</td>\n      <td>bnwbtc=0.000000</td>\n      <td></td>\n      <td>wbtc=0.000000</td>\n      <td></td>\n    </tr>\n  </tbody>\n</table>\n</div>"
     },
     "execution_count": 4,
     "metadata": {},
     "output_type": "execute_result"
    }
   ],
   "source": [
    "timestamp = 14 * 2\n",
    "v3.deposit(tkn_name=tkn_name, tkn_amt=1000, user_name=user_name, timestamp=timestamp)\n",
    "v3.describe()"
   ],
   "metadata": {
    "collapsed": false,
    "pycharm": {
     "name": "#%%\n"
    }
   }
  },
  {
   "cell_type": "markdown",
   "source": [
    "### List the state history available for timetravel."
   ],
   "metadata": {
    "collapsed": false
   }
  },
  {
   "cell_type": "code",
   "execution_count": 5,
   "outputs": [
    {
     "data": {
      "text/plain": "['initial_0', 'end_0', 'initial_14', 'end_14', 'initial_28', 'end_28']"
     },
     "execution_count": 5,
     "metadata": {},
     "output_type": "execute_result"
    }
   ],
   "source": [
    "v3.backup_states"
   ],
   "metadata": {
    "collapsed": false,
    "pycharm": {
     "name": "#%%\n"
    }
   }
  },
  {
   "cell_type": "markdown",
   "source": [
    "### Revert to a historical state."
   ],
   "metadata": {
    "collapsed": false
   }
  },
  {
   "cell_type": "code",
   "execution_count": 6,
   "outputs": [
    {
     "data": {
      "text/plain": "            Trading Liquidity            Vault          Staking  \\\n0   bnt=0.000000 dai=0.000000     bnt=0.000000     bnt=0.000000   \n1   bnt=0.000000 eth=0.000000     dai=0.000000     dai=0.000000   \n2  bnt=0.000000 link=0.000000     eth=0.000000     eth=0.000000   \n3   bnt=0.000000 tkn=0.000000    link=0.000000    link=0.000000   \n4  bnt=0.000000 wbtc=0.000000  tkn=1000.000000  tkn=1000.000000   \n5                                wbtc=0.000000    wbtc=0.000000   \n\n     ERC20 Contracts        Vortex External Protection Protocol WalletState  \n0     bnbnt=0.000000  bnt=0.000000        dai=0.000000       bnbnt=0.000000  \n1     bndai=0.000000                      eth=0.000000                       \n2     bneth=0.000000                     link=0.000000                       \n3    bnlink=0.000000                      bnt=0.000000                       \n4  bntkn=1000.000000                      tkn=0.000000                       \n5    bnwbtc=0.000000                     wbtc=0.000000                       ",
      "text/html": "<div>\n<style scoped>\n    .dataframe tbody tr th:only-of-type {\n        vertical-align: middle;\n    }\n\n    .dataframe tbody tr th {\n        vertical-align: top;\n    }\n\n    .dataframe thead th {\n        text-align: right;\n    }\n</style>\n<table border=\"1\" class=\"dataframe\">\n  <thead>\n    <tr style=\"text-align: right;\">\n      <th></th>\n      <th>Trading Liquidity</th>\n      <th>Vault</th>\n      <th>Staking</th>\n      <th>ERC20 Contracts</th>\n      <th>Vortex</th>\n      <th>External Protection</th>\n      <th>Protocol WalletState</th>\n    </tr>\n  </thead>\n  <tbody>\n    <tr>\n      <th>0</th>\n      <td>bnt=0.000000 dai=0.000000</td>\n      <td>bnt=0.000000</td>\n      <td>bnt=0.000000</td>\n      <td>bnbnt=0.000000</td>\n      <td>bnt=0.000000</td>\n      <td>dai=0.000000</td>\n      <td>bnbnt=0.000000</td>\n    </tr>\n    <tr>\n      <th>1</th>\n      <td>bnt=0.000000 eth=0.000000</td>\n      <td>dai=0.000000</td>\n      <td>dai=0.000000</td>\n      <td>bndai=0.000000</td>\n      <td></td>\n      <td>eth=0.000000</td>\n      <td></td>\n    </tr>\n    <tr>\n      <th>2</th>\n      <td>bnt=0.000000 link=0.000000</td>\n      <td>eth=0.000000</td>\n      <td>eth=0.000000</td>\n      <td>bneth=0.000000</td>\n      <td></td>\n      <td>link=0.000000</td>\n      <td></td>\n    </tr>\n    <tr>\n      <th>3</th>\n      <td>bnt=0.000000 tkn=0.000000</td>\n      <td>link=0.000000</td>\n      <td>link=0.000000</td>\n      <td>bnlink=0.000000</td>\n      <td></td>\n      <td>bnt=0.000000</td>\n      <td></td>\n    </tr>\n    <tr>\n      <th>4</th>\n      <td>bnt=0.000000 wbtc=0.000000</td>\n      <td>tkn=1000.000000</td>\n      <td>tkn=1000.000000</td>\n      <td>bntkn=1000.000000</td>\n      <td></td>\n      <td>tkn=0.000000</td>\n      <td></td>\n    </tr>\n    <tr>\n      <th>5</th>\n      <td></td>\n      <td>wbtc=0.000000</td>\n      <td>wbtc=0.000000</td>\n      <td>bnwbtc=0.000000</td>\n      <td></td>\n      <td>wbtc=0.000000</td>\n      <td></td>\n    </tr>\n  </tbody>\n</table>\n</div>"
     },
     "execution_count": 6,
     "metadata": {},
     "output_type": "execute_result"
    }
   ],
   "source": [
    "v3.revert_state('end_14')\n",
    "v3.describe()"
   ],
   "metadata": {
    "collapsed": false,
    "pycharm": {
     "name": "#%%\n"
    }
   }
  },
  {
   "cell_type": "markdown",
   "source": [
    "### Note that the state timetravel history is still available, this time into a future state."
   ],
   "metadata": {
    "collapsed": false
   }
  },
  {
   "cell_type": "code",
   "execution_count": 7,
   "outputs": [
    {
     "data": {
      "text/plain": "['initial_0', 'end_0', 'initial_14', 'end_14', 'initial_28', 'end_28']"
     },
     "execution_count": 7,
     "metadata": {},
     "output_type": "execute_result"
    }
   ],
   "source": [
    "v3.backup_states"
   ],
   "metadata": {
    "collapsed": false,
    "pycharm": {
     "name": "#%%\n"
    }
   }
  },
  {
   "cell_type": "markdown",
   "source": [
    "### Go back to the future."
   ],
   "metadata": {
    "collapsed": false
   }
  },
  {
   "cell_type": "code",
   "execution_count": 8,
   "outputs": [
    {
     "data": {
      "text/plain": "            Trading Liquidity            Vault          Staking  \\\n0   bnt=0.000000 dai=0.000000     bnt=0.000000     bnt=0.000000   \n1   bnt=0.000000 eth=0.000000     dai=0.000000     dai=0.000000   \n2  bnt=0.000000 link=0.000000     eth=0.000000     eth=0.000000   \n3   bnt=0.000000 tkn=0.000000    link=0.000000    link=0.000000   \n4  bnt=0.000000 wbtc=0.000000  tkn=2000.000000  tkn=2000.000000   \n5                                wbtc=0.000000    wbtc=0.000000   \n\n     ERC20 Contracts        Vortex External Protection Protocol WalletState  \n0     bnbnt=0.000000  bnt=0.000000        dai=0.000000       bnbnt=0.000000  \n1     bndai=0.000000                      eth=0.000000                       \n2     bneth=0.000000                     link=0.000000                       \n3    bnlink=0.000000                      bnt=0.000000                       \n4  bntkn=2000.000000                      tkn=0.000000                       \n5    bnwbtc=0.000000                     wbtc=0.000000                       ",
      "text/html": "<div>\n<style scoped>\n    .dataframe tbody tr th:only-of-type {\n        vertical-align: middle;\n    }\n\n    .dataframe tbody tr th {\n        vertical-align: top;\n    }\n\n    .dataframe thead th {\n        text-align: right;\n    }\n</style>\n<table border=\"1\" class=\"dataframe\">\n  <thead>\n    <tr style=\"text-align: right;\">\n      <th></th>\n      <th>Trading Liquidity</th>\n      <th>Vault</th>\n      <th>Staking</th>\n      <th>ERC20 Contracts</th>\n      <th>Vortex</th>\n      <th>External Protection</th>\n      <th>Protocol WalletState</th>\n    </tr>\n  </thead>\n  <tbody>\n    <tr>\n      <th>0</th>\n      <td>bnt=0.000000 dai=0.000000</td>\n      <td>bnt=0.000000</td>\n      <td>bnt=0.000000</td>\n      <td>bnbnt=0.000000</td>\n      <td>bnt=0.000000</td>\n      <td>dai=0.000000</td>\n      <td>bnbnt=0.000000</td>\n    </tr>\n    <tr>\n      <th>1</th>\n      <td>bnt=0.000000 eth=0.000000</td>\n      <td>dai=0.000000</td>\n      <td>dai=0.000000</td>\n      <td>bndai=0.000000</td>\n      <td></td>\n      <td>eth=0.000000</td>\n      <td></td>\n    </tr>\n    <tr>\n      <th>2</th>\n      <td>bnt=0.000000 link=0.000000</td>\n      <td>eth=0.000000</td>\n      <td>eth=0.000000</td>\n      <td>bneth=0.000000</td>\n      <td></td>\n      <td>link=0.000000</td>\n      <td></td>\n    </tr>\n    <tr>\n      <th>3</th>\n      <td>bnt=0.000000 tkn=0.000000</td>\n      <td>link=0.000000</td>\n      <td>link=0.000000</td>\n      <td>bnlink=0.000000</td>\n      <td></td>\n      <td>bnt=0.000000</td>\n      <td></td>\n    </tr>\n    <tr>\n      <th>4</th>\n      <td>bnt=0.000000 wbtc=0.000000</td>\n      <td>tkn=2000.000000</td>\n      <td>tkn=2000.000000</td>\n      <td>bntkn=2000.000000</td>\n      <td></td>\n      <td>tkn=0.000000</td>\n      <td></td>\n    </tr>\n    <tr>\n      <th>5</th>\n      <td></td>\n      <td>wbtc=0.000000</td>\n      <td>wbtc=0.000000</td>\n      <td>bnwbtc=0.000000</td>\n      <td></td>\n      <td>wbtc=0.000000</td>\n      <td></td>\n    </tr>\n  </tbody>\n</table>\n</div>"
     },
     "execution_count": 8,
     "metadata": {},
     "output_type": "execute_result"
    }
   ],
   "source": [
    "v3.revert_state('end_28')\n",
    "v3.describe()"
   ],
   "metadata": {
    "collapsed": false,
    "pycharm": {
     "name": "#%%\n"
    }
   }
  },
  {
   "cell_type": "code",
   "execution_count": 8,
   "outputs": [],
   "source": [],
   "metadata": {
    "collapsed": false,
    "pycharm": {
     "name": "#%%\n"
    }
   }
  }
 ],
 "metadata": {
  "kernelspec": {
   "display_name": "Python 3",
   "language": "python",
   "name": "python3"
  },
  "language_info": {
   "codemirror_mode": {
    "name": "ipython",
    "version": 2
   },
   "file_extension": ".py",
   "mimetype": "text/x-python",
   "name": "python",
   "nbconvert_exporter": "python",
   "pygments_lexer": "ipython2",
   "version": "2.7.6"
  }
 },
 "nbformat": 4,
 "nbformat_minor": 0
}