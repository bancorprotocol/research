{
 "cells": [
  {
   "cell_type": "code",
   "execution_count": 1,
   "metadata": {
    "tags": [
     "remove-input"
    ]
   },
   "outputs": [],
   "source": [
    "from datascience import *\n",
    "from datascience.predicates import are\n",
    "path_data = '../../../../data/'\n",
    "import numpy as np\n",
    "import matplotlib\n",
    "matplotlib.use('Agg')\n",
    "%matplotlib inline\n",
    "import matplotlib.pyplot as plots\n",
    "plots.style.use('fivethirtyeight')\n",
    "import warnings\n",
    "warnings.simplefilter(action=\"ignore\", category=FutureWarning)\n",
    "\n",
    "from urllib.request import urlopen \n",
    "import re\n",
    "from bancor3_simulator.protocol import BancorV3\n",
    "from bancor3_simulator.core.settings import GlobalSettings\n",
    "from decimal import Decimal\n",
    "from fractions import Fraction\n",
    "import pandas as pd\n",
    "\n",
    "def read_url(url): \n",
    "    return re.sub('\\\\s+', ' ', urlopen(url).read().decode())"
   ]
  },
  {
   "cell_type": "markdown",
   "metadata": {},
   "source": [
    "# Single-Sided Pool Tokens\n",
    "\n",
    "The proposed upgrade fundamentally changes the meaning of pool tokens in AMMs. The AMM pool token concept, or “smart token”, was introduced by Bancor with its initial whitepaper and persists essentially unaltered to the present day. The concept was built around the assumption that liquidity providers would participate in both sides of the pool; however, with the introduction of single-sided staking by Bancor, a revision of the pool token idea is overdue. Bancor v2.1 still makes use of traditional pool tokens, although their role in the system is permanently obscured from view. A plethora of auxiliary mechanisms are required to support single sided staking, which can largely be replaced by a purpose-built system that assumes the contribution of only one token, rather than two or more."
   ]
  },
  {
   "cell_type": "markdown",
   "source": [
    "**Single-Sided Pool Tokens** express themselves in the simulator code via the `Transaction` class definition.\n",
    "\n",
    "Note that the `Transaction` itself can only track one `tkn_name` balance at a time.\n",
    "\n",
    "Even so, notice that the ledger automatically pairs the single-sided token with BNT, providing a true ***utility*** behavior as a global medium of exchange between all other pool tokens."
   ],
   "metadata": {
    "collapsed": false
   }
  },
  {
   "cell_type": "code",
   "execution_count": 2,
   "metadata": {},
   "outputs": [],
   "source": [
    "from dataclasses import dataclass\n",
    "\n",
    "\n",
    "@dataclass\n",
    "class Transaction(GlobalSettings):\n",
    "    timestep: int = 0\n",
    "    vault_tkn: Decimal = Decimal(\"0\")\n",
    "    erc20contracts_bntkn: Decimal = Decimal(\"0\")\n",
    "    staked_tkn: Decimal = Decimal(\"0\")\n",
    "    trading_enabled: bool = False\n",
    "    bnt_trading_liquidity: Decimal = Decimal(\"0\")\n",
    "    tkn_trading_liquidity: Decimal = Decimal(\"0\")\n",
    "    trading_fee: Decimal = Decimal(\"0.005\")\n",
    "    bnt_funding_limit: Decimal = Decimal(\"0\")\n",
    "    bnt_remaining_funding: Decimal = Decimal(\"0\")\n",
    "    bnt_funding_amount: Decimal = Decimal(\"0\")\n",
    "    external_protection_vault: Decimal = Decimal(\"0\")\n",
    "    spot_rate: Decimal = Decimal(\"0\")\n",
    "    ema_rate: Decimal = Decimal(\"0\")\n",
    "    ema_last_updated: Decimal = Decimal(\"0\")\n",
    "\n",
    "    @property\n",
    "    def is_price_stable(self):\n",
    "        \"\"\"Computes the deviation between the spot and ema bnt/tkn rates. True if the deviation is less than 1%.\"\"\"\n",
    "        return Decimal(\"0.99\") * self.ema_rate <= self.spot_rate <= Decimal(\"1.01\") * self.ema_rate\n",
    "\n",
    "    @property\n",
    "    def avg_tkn_trading_liquidity(self):\n",
    "        \"\"\"Computes the tkn trading liquidity, adjusted by the ema.\"\"\"\n",
    "        return self.bnt_trading_liquidity / self.ema_rate\n",
    "\n",
    "    @property\n",
    "    def tkn_excess(self):\n",
    "        \"\"\"Computes the difference between the masterVault tknBalance and the average averageTknTradingLiquidity.\"\"\"\n",
    "        return self.vault_tkn - self.avg_tkn_trading_liquidity\n",
    "\n",
    "    @property\n",
    "    def tkn_excess_bnt_equivalence(self):\n",
    "        \"\"\"Computes the equivalent bnt value of the non-trading tkn balance of the masterVault.\"\"\"\n",
    "        return self.tkn_excess * self.ema_rate\n",
    "\n",
    "    @property\n",
    "    def bnt_bootstrap_liquidity(self):\n",
    "        \"\"\"Computes the bntMinLiquidity multiplied by 2.\"\"\"\n",
    "        return 2 * self.bnt_min_liquidity\n",
    "\n",
    "    @property\n",
    "    def ema(self) -> Fraction:\n",
    "        \"\"\"Returns a fraction as two separate outputs\"\"\"\n",
    "        return Fraction(self.ema_rate)\n",
    "\n",
    "    @property\n",
    "    def scaled_ema(self) -> int:\n",
    "        \"\"\"Ensures that the ema can be stored as a maximum 112-bit number.\"\"\"\n",
    "        return ceil((max(self.ema.numerator, self.ema.denominator) / (2 ** 112 - 1)))\n",
    "\n",
    "    @property\n",
    "    def ema_compressed_numerator(self) -> int:\n",
    "        \"\"\"Used to measure the deviation of solidity fixed point math on protocol calclulations.\"\"\"\n",
    "        if self.scaled_ema > 0:\n",
    "            return int(self.ema.numerator / self.scaled_ema)\n",
    "        else:\n",
    "            return 0\n",
    "\n",
    "    @property\n",
    "    def ema_compressed_denominator(self) -> int:\n",
    "        \"\"\"Used to measure the deviation of solidity fixed point math on protocol calclulations.\"\"\"\n",
    "        if self.scaled_ema > 0:\n",
    "            return int(self.ema.denominator / self.scaled_ema)\n",
    "        else:\n",
    "            return 0\n",
    "\n",
    "    @property\n",
    "    def is_ema_update_allowed(self) -> bool:\n",
    "        \"\"\"Returns True if the moving average has not been updated on the existing block.\"\"\"\n",
    "        return int(self.timestep) != int(self.ema_last_updated)\n",
    "\n",
    "    @property\n",
    "    def ema_deviation(self) -> Decimal:\n",
    "        \"\"\"Returns the deviation between these values as emaRate/emaCompressedRate.\"\"\"\n",
    "        if self.ema_compressed_numerator > 0:\n",
    "            return self.ema_rate * Decimal(self.ema_compressed_denominator / self.ema_compressed_numerator)\n",
    "        else:\n",
    "            return Decimal('0')\n"
   ]
  },
  {
   "cell_type": "markdown",
   "metadata": {
    "pycharm": {
     "name": "#%% md\n"
    }
   },
   "source": [
    "In a later chapter we will discuss the other `Ledger` classes of the protocol."
   ]
  }
 ],
 "metadata": {
  "kernelspec": {
   "name": "pycharm-c19c9c8d",
   "language": "python",
   "display_name": "PyCharm (simulator-v3)"
  },
  "language_info": {
   "codemirror_mode": {
    "name": "ipython",
    "version": 3
   },
   "file_extension": ".py",
   "mimetype": "text/x-python",
   "name": "python",
   "nbconvert_exporter": "python",
   "pygments_lexer": "ipython3",
   "version": "3.8.5"
  }
 },
 "nbformat": 4,
 "nbformat_minor": 2
}