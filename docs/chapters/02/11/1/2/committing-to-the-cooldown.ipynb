{
 "cells": [
  {
   "cell_type": "code",
   "execution_count": 1,
   "metadata": {
    "tags": [
     "remove-input"
    ]
   },
   "outputs": [],
   "source": [
    "from datascience import *\n",
    "from datascience.predicates import are\n",
    "path_data = '../../../../data/'\n",
    "import numpy as np\n",
    "import matplotlib\n",
    "matplotlib.use('Agg')\n",
    "%matplotlib inline\n",
    "import matplotlib.pyplot as plots\n",
    "plots.style.use('fivethirtyeight')\n",
    "import warnings\n",
    "warnings.simplefilter(action=\"ignore\", category=FutureWarning)\n",
    "\n",
    "from urllib.request import urlopen\n",
    "import re\n",
    "from bancor_research.bancor_simulator.protocol import BancorDapp\n",
    "from bancor_research.bancor_simulator.core.settings import GlobalSettings\n",
    "from decimal import Decimal\n",
    "from fractions import Fraction\n",
    "import pandas as pd\n",
    "\n",
    "# Recall from an earlier chapter that we already defined the cooldown period and the exit fees as follows.\n",
    "cooldown_time: int = 7\n",
    "withdrawal_fee: Decimal = Decimal('0.0025')\n",
    "whitelisted_tokens: list = ['bnt', 'eth', 'wbtc', 'link']\n",
    "bnt_funding_limit: Decimal = Decimal('40000')\n",
    "bnt_min_liquidity: Decimal = Decimal('10000')\n",
    "price_feeds = pd.DataFrame({'INDX':[0],\n",
    "                            'bnt':[2.5],\n",
    "                            'link':[15.00],\n",
    "                            'eth':[2500.00],\n",
    "                            'wbtc':[40000.00]})\n",
    "\n",
    "network_fee: Decimal = Decimal('0.2')\n",
    "trading_fee: Decimal = Decimal('0.01')\n",
    "\n",
    "# There are other possible configuration settings available, however for the present purpose we will use the defaults.\n",
    "v3 = BancorDapp(whitelisted_tokens=whitelisted_tokens,\n",
    "              network_fee=network_fee,\n",
    "              trading_fee=trading_fee,\n",
    "              cooldown_time=cooldown_time,\n",
    "              withdrawal_fee=withdrawal_fee,\n",
    "              bnt_min_liquidity=bnt_min_liquidity,\n",
    "              bnt_funding_limit=bnt_funding_limit,\n",
    "              price_feeds=price_feeds)\n",
    "\n",
    "v3.create_user('Alice')\n",
    "v3.create_user('Bob')\n",
    "v3.create_user('Charlie')\n",
    "\n",
    "# The actual deposits.\n",
    "v3.stake(tkn_amt=100, tkn_name='eth', user_name='Alice')\n",
    "\n",
    "v3.stake(tkn_amt=10000, tkn_name='link', user_name='Charlie')\n",
    "\n",
    "v3.stake(tkn_amt=100, tkn_name='wbtc', user_name='Bob')\n",
    "\n",
    "v3.stake(tkn_amt=1, tkn_name='eth', user_name='Alice')\n",
    "\n",
    "v3.stake(tkn_amt=1, tkn_name='link', user_name='Charlie')\n",
    "\n",
    "v3.stake(tkn_amt=1, tkn_name='wbtc', user_name='Bob')\n",
    "\n",
    "v3.dao_msig_init_pools(whitelisted_tokens)\n",
    "\n",
    "v3.create_user('Trader')\n",
    "\n",
    "v3.trade(swap_amount=2000, source_token='bnt',  target_token='link', user_name='Trader', timestep=0)\n",
    "\n",
    "v3.trade(swap_amount=302.9981, source_token='link',  target_token='bnt', user_name='Trader', timestep=0)\n",
    "\n",
    "v3.trade(swap_amount=1, source_token='eth',  target_token='wbtc', user_name='Trader', timestep=0)\n",
    "\n",
    "\n",
    "def read_url(url):\n",
    "    return re.sub('\\\\s+', ' ', urlopen(url).read().decode())"
   ]
  },
  {
   "cell_type": "markdown",
   "metadata": {
    "pycharm": {
     "name": "#%% md\n"
    }
   },
   "source": [
    "# Committing to the Cooldown\n",
    "\n",
    "As described above, users commit to a 7-day cooldown period before their withdrawal is processed. Importantly, the total number of TKN that can be redeemed for the pool tokens relinquished by the user is determined at the commencement of the cooldown period. Therefore, any value appreciation on the pool token (i.e. additional trading fees and/or auto-compounding rewards) during the cooldown period is effectively forfeited. However, the user may elect to cancel their withdrawal at any time, at which point the forfeited value appreciation is returned.\n",
    "\n",
    "Consider the following situation. A user has 1,000 bnTKN tokens, valued at 2,000 TKN. After deciding to withdraw, they commit their bnTKN to the cooldown contract, and their value is recorded (x).\n",
    "\n",
    "![](https://lh4.googleusercontent.com/KnsmWLD34_HSXk9jbPHONlDV_bPUwQWXR08oouK34pIleWM0QiRxIZ_4Jx3BMG3UHuaPIOTXJV_i_jOJ68QTmCyjm3UYxoZ-EATaWnbSqt5VHhDpeYnCe5nwo8mPi4xQGPYOpuAk)\n",
    "\n",
    "After 7 days have passed, the user will be entitled to receive the value associated with their stake, at the time the cooldown process was started. Imagine that during this time, the accumulation of rewards and/or trading revenue caused the bnTKN valuation to appreciate.\n",
    "\n",
    "![](https://lh3.googleusercontent.com/boZpmn4jRpc0dPKjl6_unb2uymvSHqO9TQjzy6kOPE5CMbooAh_P0ueBqNnxD_pVXNYsQuiXkopzFzielmR0EXjO5BYnYFV92BlKhxx3szo3YD_Bypr0nGHRp5FO2m-KT4oEAB90)\\\n",
    "At any point during, or after the cooldown, the user may elect to cancel the withdrawal process. Moreover, once the cooldown process has completed, the user has unlimited time to make a decision. However, the value of their withdrawal (x), will persist; if the user commits to the cooldown and then waits a century before confirming the withdrawal following the cooldown, the value of their withdrawal remains the same as it was when they started the process. However, the moment they cancel the withdrawal, the x value is erased, and the bnTKN tokens are returned to their wallet. The action of re-committing to the cooldown then generates a new x value, and thus the user can easily retrieve any lost fees and rewards, assuming their cooldown period was poorly timed. In the example above, the user can improve their withdrawal valuation by 4.095% if they cancel, and then begin the cooldown again."
   ]
  }
 ],
 "metadata": {
  "kernelspec": {
   "name": "pycharm-c19c9c8d",
   "language": "python",
   "display_name": "PyCharm (simulator-v3)"
  },
  "language_info": {
   "codemirror_mode": {
    "name": "ipython",
    "version": 3
   },
   "file_extension": ".py",
   "mimetype": "text/x-python",
   "name": "python",
   "nbconvert_exporter": "python",
   "pygments_lexer": "ipython3",
   "version": "3.7.8"
  }
 },
 "nbformat": 4,
 "nbformat_minor": 1
}