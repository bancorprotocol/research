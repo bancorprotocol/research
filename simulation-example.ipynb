{
 "cells": [
  {
   "cell_type": "code",
   "execution_count": 1,
   "metadata": {
    "tags": [
     "remove-input"
    ]
   },
   "outputs": [],
   "source": [
    "from datascience import *\n",
    "from datascience.predicates import are\n",
    "path_data = '../../../../data/'\n",
    "import numpy as np\n",
    "import matplotlib\n",
    "matplotlib.use('Agg')\n",
    "%matplotlib inline\n",
    "import matplotlib.pyplot as plots\n",
    "plots.style.use('fivethirtyeight')\n",
    "import warnings\n",
    "warnings.simplefilter(action=\"ignore\", category=FutureWarning)\n",
    "\n",
    "from urllib.request import urlopen\n",
    "import re\n",
    "from bancor3_simulator.protocol import BancorV3\n",
    "from bancor3_simulator.core.settings import GlobalSettings\n",
    "from decimal import Decimal\n",
    "from fractions import Fraction\n",
    "import pandas as pd\n",
    "\n",
    "cooldown_time: int = 7\n",
    "withdrawal_fee: Decimal = Decimal('0.0025')\n",
    "whitelisted_tokens: list = ['bnt', 'eth', 'wbtc', 'link']\n",
    "bnt_funding_limit: Decimal = Decimal('40000')\n",
    "bnt_min_liquidity: Decimal = Decimal('10000')\n",
    "price_feeds = pd.DataFrame({'INDX':[0],\n",
    "                            'bnt':[1.0],\n",
    "                            'tkn':[3.0],\n",
    "                            # 'link':[15.00],\n",
    "                            # 'eth':[2500.00],\n",
    "                            # 'wbtc':[40000.00],\n",
    "                            })\n",
    "\n",
    "network_fee: Decimal = Decimal('0.2')\n",
    "trading_fee: Decimal = Decimal('0.01')\n",
    "\n",
    "# There are other possible configuration settings available, however for the present purpose we will use the defaults.\n",
    "# v3 = BancorV3(whitelisted_tokens=whitelisted_tokens,\n",
    "#               network_fee=network_fee,\n",
    "#               trading_fee=trading_fee,\n",
    "#               cooldown_time=cooldown_time,\n",
    "#               withdrawal_fee=withdrawal_fee,\n",
    "#               bnt_min_liquidity=bnt_min_liquidity,\n",
    "#               bnt_funding_limit=bnt_funding_limit,\n",
    "#               price_feeds=price_feeds)\n",
    "\n",
    "# v3.create_user('Alice')\n",
    "# v3.create_user('Bob')\n",
    "# v3.create_user('Charlie')\n",
    "#\n",
    "# # The actual deposits.\n",
    "#\n",
    "# v3.stake(tkn_amt=100, tkn_name='eth', user_name='Alice')\n",
    "#\n",
    "# v3.stake(tkn_amt=10000, tkn_name='link', user_name='Charlie')\n",
    "#\n",
    "# v3.stake(tkn_amt=100, tkn_name='wbtc', user_name='Bob')\n",
    "#\n",
    "# v3.stake(tkn_amt=1, tkn_name='eth', user_name='Alice')\n",
    "#\n",
    "# v3.stake(tkn_amt=1, tkn_name='link', user_name='Charlie')\n",
    "#\n",
    "# v3.stake(tkn_amt=1, tkn_name='wbtc', user_name='Bob')\n",
    "#\n",
    "# v3.dao_msig_init_pools(whitelisted_tokens)\n",
    "#\n",
    "# v3.create_user('Trader')\n",
    "#\n",
    "# v3.trade(swap_amount=2000, source_token='bnt',  target_token='link', user_name='Trader', timestep=0)\n",
    "#\n",
    "# v3.trade(swap_amount=302.9981, source_token='link',  target_token='bnt', user_name='Trader', timestep=0)\n",
    "#\n",
    "# v3.trade(swap_amount=1, source_token='eth',  target_token='wbtc', user_name='Trader', timestep=0)\n",
    "\n",
    "def read_url(url):\n",
    "    return re.sub('\\\\s+', ' ', urlopen(url).read().decode())"
   ]
  },
  {
   "cell_type": "code",
   "execution_count": 2,
   "outputs": [],
   "source": [
    "# <p align=\"center\">\n",
    "# <img width=\"100%\" src=\"https://d9hhrg4mnvzow.cloudfront.net/try.bancor.network/5edb37d6-open-graph-bancor3_1000000000000000000028.png\" alt=\"bancor3\" />\n",
    "# </p>\n",
    "#\n",
    "# * * * * * * * * * * * * * * * * * * * * * * * * * * * * * * * * * * * * * * * * * * * * * * * * * * * * * * * *\n",
    "#\n",
    "# # Simulation Example"
   ],
   "metadata": {
    "collapsed": false,
    "pycharm": {
     "name": "#%%\n"
    }
   }
  },
  {
   "cell_type": "code",
   "execution_count": 3,
   "outputs": [
    {
     "data": {
      "text/plain": "(['tkn', 'bnt'], ['dayTrader', 'tknProvider', 'bntProvider'])"
     },
     "execution_count": 3,
     "metadata": {},
     "output_type": "execute_result"
    }
   ],
   "source": [
    "v3 = BancorV3(active_users=['dayTrader', 'tknProvider', 'bntProvider'],\n",
    "              whitelisted_tokens=['tkn','bnt'])\n",
    "\n",
    "v3.list_tokens, v3.list_users"
   ],
   "metadata": {
    "collapsed": false,
    "pycharm": {
     "name": "#%%\n"
    }
   }
  },
  {
   "cell_type": "code",
   "execution_count": 4,
   "outputs": [
    {
     "data": {
      "text/plain": "(['tkn', 'bnt'], ['dayTrader', 'tknProvider', 'bntProvider'])"
     },
     "execution_count": 4,
     "metadata": {},
     "output_type": "execute_result"
    }
   ],
   "source": [
    "v3.upload_json_simulation(path='/Users/mikewcasale/Local/projects/bancor/simulator-v3/bancor3_simulator/tests/data/scenarios_2.json')\n",
    "v3.list_tokens, v3.list_users"
   ],
   "metadata": {
    "collapsed": false,
    "pycharm": {
     "name": "#%%\n"
    }
   }
  },
  {
   "cell_type": "code",
   "execution_count": 5,
   "outputs": [
    {
     "data": {
      "text/plain": "           Trading Liquidity         Vault       Staking ERC20 Contracts  \\\n0                             bnt=0.000000  bnt=0.000000  bnbnt=0.000000   \n1  bnt=0.000000 tkn=0.000000  tkn=0.000000  tkn=0.000000  bntkn=0.000000   \n2                                                                          \n\n         Vortex External Protection Protocol Wallet  \n0  bnt=0.000000        tkn=0.000000  bnbnt=0.000000  \n1                      bnt=0.000000                  \n2                                                    ",
      "text/html": "<div>\n<style scoped>\n    .dataframe tbody tr th:only-of-type {\n        vertical-align: middle;\n    }\n\n    .dataframe tbody tr th {\n        vertical-align: top;\n    }\n\n    .dataframe thead th {\n        text-align: right;\n    }\n</style>\n<table border=\"1\" class=\"dataframe\">\n  <thead>\n    <tr style=\"text-align: right;\">\n      <th></th>\n      <th>Trading Liquidity</th>\n      <th>Vault</th>\n      <th>Staking</th>\n      <th>ERC20 Contracts</th>\n      <th>Vortex</th>\n      <th>External Protection</th>\n      <th>Protocol Wallet</th>\n    </tr>\n  </thead>\n  <tbody>\n    <tr>\n      <th>0</th>\n      <td></td>\n      <td>bnt=0.000000</td>\n      <td>bnt=0.000000</td>\n      <td>bnbnt=0.000000</td>\n      <td>bnt=0.000000</td>\n      <td>tkn=0.000000</td>\n      <td>bnbnt=0.000000</td>\n    </tr>\n    <tr>\n      <th>1</th>\n      <td>bnt=0.000000 tkn=0.000000</td>\n      <td>tkn=0.000000</td>\n      <td>tkn=0.000000</td>\n      <td>bntkn=0.000000</td>\n      <td></td>\n      <td>bnt=0.000000</td>\n      <td></td>\n    </tr>\n    <tr>\n      <th>2</th>\n      <td></td>\n      <td></td>\n      <td></td>\n      <td></td>\n      <td></td>\n      <td></td>\n      <td></td>\n    </tr>\n  </tbody>\n</table>\n</div>"
     },
     "execution_count": 5,
     "metadata": {},
     "output_type": "execute_result"
    }
   ],
   "source": [
    "v3.describe()"
   ],
   "metadata": {
    "collapsed": false,
    "pycharm": {
     "name": "#%%\n"
    }
   }
  },
  {
   "cell_type": "code",
   "execution_count": 6,
   "outputs": [],
   "source": [
    "timestep = 0\n",
    "simulation = []\n",
    "validation = []\n",
    "# QDECIMALS = Decimal(10) ** -18\n",
    "indx = 0\n",
    "operations_count = len(v3.json_data['operations'])"
   ],
   "metadata": {
    "collapsed": false,
    "pycharm": {
     "name": "#%%\n"
    }
   }
  },
  {
   "cell_type": "code",
   "execution_count": 7,
   "outputs": [
    {
     "name": "stdout",
     "output_type": "stream",
     "text": [
      "case1\n",
      "trade2  3 0.0025 0.20 2000\n",
      "trade1  4 0.0025 0.20 5332\n",
      "case1\n",
      "trade1  7 0.0025 0.20 213\n",
      "trade2  8 0.0025 0.20 613\n",
      "trade1  10 0.0025 0.20 191\n",
      "case2\n",
      "trade1  16 0.0025 0.20 210\n",
      "trade2  18 0.0025 0.20 803\n",
      "trade2  21 0.0025 0.20 583\n",
      "trade2  22 0.0025 0.20 142\n",
      "trade2  28 0.0025 0.20 848\n",
      "trade2  28 0.0025 0.20 886\n",
      "trade1  31 0.0025 0.20 42\n",
      "trade2  33 0.0025 0.20 746\n",
      "trade2  35 0.0025 0.20 360\n",
      "trade2  37 0.0025 0.20 604\n",
      "trade2  38 0.0025 0.20 121\n",
      "trade1  47 0.0025 0.20 158\n",
      "trade1  55 0.0025 0.20 25\n",
      "trade1  66 0.0025 0.20 185\n",
      "trade2  71 0.0025 0.20 424\n",
      "trade2  73 0.0025 0.20 582\n",
      "trade2  77 0.0025 0.20 161\n",
      "trade2  78 0.0025 0.20 541\n",
      "trade1  91 0.0025 0.20 196\n",
      "trade1  97 0.0025 0.20 316\n",
      "trade2  98 0.0025 0.20 210\n",
      "trade1  101 0.0025 0.20 139\n",
      "trade2  102 0.0025 0.20 425\n",
      "trade1  108 0.0025 0.20 38\n",
      "trade1  109 0.0025 0.20 126\n",
      "trade2  110 0.0025 0.20 149\n",
      "trade1  114 0.0025 0.20 130\n",
      "trade2  115 0.0025 0.20 409\n",
      "trade2  119 0.0025 0.20 359\n",
      "trade1  124 0.0025 0.20 248\n",
      "trade1  125 0.0025 0.20 42\n",
      "trade1  129 0.0025 0.20 279\n",
      "trade2  131 0.0025 0.20 44\n",
      "trade2  133 0.0025 0.20 44\n",
      "trade1  136 0.0025 0.20 250\n",
      "trade2  138 0.0025 0.20 486\n",
      "trade2  139 0.0025 0.20 181\n",
      "trade2  143 0.0025 0.20 134\n",
      "trade1  151 0.0025 0.20 105\n",
      "trade1  154 0.0025 0.20 103\n",
      "trade1  160 0.0025 0.20 135\n",
      "trade1  161 0.0025 0.20 142\n",
      "trade1  163 0.0025 0.20 101\n",
      "trade1  173 0.0025 0.20 31\n",
      "trade2  174 0.0025 0.20 798\n",
      "trade2  175 0.0025 0.20 421\n",
      "trade1  177 0.0025 0.20 101\n",
      "trade1  185 0.0025 0.20 33\n",
      "trade2  186 0.0025 0.20 561\n",
      "trade2  189 0.0025 0.20 205\n",
      "trade2  191 0.0025 0.20 452\n",
      "trade1  194 0.0025 0.20 159\n",
      "trade1  195 0.0025 0.20 103\n",
      "trade2  196 0.0025 0.20 1032\n",
      "trade2  199 0.0025 0.20 591\n",
      "trade1  200 0.0025 0.20 240\n",
      "trade2  201 0.0025 0.20 506\n",
      "trade2  209 0.0025 0.20 344\n",
      "trade2  217 0.0025 0.20 635\n",
      "trade2  223 0.0025 0.20 924\n",
      "trade1  224 0.0025 0.20 309\n",
      "trade2  228 0.0025 0.20 308\n",
      "trade1  229 0.0025 0.20 124\n",
      "trade1  231 0.0025 0.20 57\n",
      "trade2  232 0.0025 0.20 353\n",
      "trade1  234 0.0025 0.20 168\n",
      "trade2  236 0.0025 0.20 1025\n",
      "trade1  238 0.0025 0.20 53\n",
      "trade1  240 0.0025 0.20 191\n",
      "trade2  242 0.0025 0.20 722\n",
      "trade2  243 0.0025 0.20 398\n",
      "trade2  245 0.0025 0.20 780\n",
      "trade1  248 0.0025 0.20 323\n",
      "trade1  249 0.0025 0.20 46\n",
      "trade1  250 0.0025 0.20 26\n",
      "trade2  257 0.0025 0.20 338\n",
      "trade2  263 0.0025 0.20 665\n",
      "trade1  265 0.0025 0.20 97\n",
      "trade1  269 0.0025 0.20 144\n",
      "trade2  272 0.0025 0.20 824\n",
      "trade2  273 0.0025 0.20 131\n",
      "trade1  279 0.0025 0.20 7\n",
      "trade2  283 0.0025 0.20 879\n",
      "trade2  293 0.0025 0.20 570\n",
      "trade2  295 0.0025 0.20 776\n",
      "trade2  298 0.0025 0.20 642\n",
      "trade2  301 0.0025 0.20 570\n",
      "trade1  302 0.0025 0.20 114\n",
      "trade2  303 0.0025 0.20 702\n",
      "trade1  307 0.0025 0.20 215\n",
      "trade2  308 0.0025 0.20 404\n",
      "trade2  314 0.0025 0.20 60\n",
      "trade2  322 0.0025 0.20 528\n",
      "trade2  335 0.0025 0.20 378\n",
      "trade1  338 0.0025 0.20 76\n",
      "trade2  341 0.0025 0.20 648\n",
      "trade2  344 0.0025 0.20 13\n",
      "trade1  346 0.0025 0.20 416\n",
      "trade1  347 0.0025 0.20 264\n",
      "trade2  349 0.0025 0.20 268\n",
      "trade1  354 0.0025 0.20 89\n",
      "trade2  355 0.0025 0.20 394\n",
      "trade1  356 0.0025 0.20 268\n",
      "trade1  359 0.0025 0.20 55\n",
      "trade2  362 0.0025 0.20 32\n",
      "trade1  364 0.0025 0.20 78\n",
      "trade1  367 0.0025 0.20 162\n",
      "trade1  371 0.0025 0.20 113\n",
      "trade1  373 0.0025 0.20 74\n",
      "trade1  382 0.0025 0.20 243\n",
      "trade2  383 0.0025 0.20 568\n",
      "trade1  387 0.0025 0.20 36\n",
      "trade2  388 0.0025 0.20 750\n"
     ]
    }
   ],
   "source": [
    "from bancor3_simulator.core.constants import QDECIMALS\n",
    "\n",
    "for transaction in v3.json_data['operations']:\n",
    "\n",
    "    # setup\n",
    "    indx += 1\n",
    "    transaction_type = transaction['type']\n",
    "    user_name = transaction['userId']\n",
    "    mined = transaction['mined']\n",
    "    amt = transaction['amount']\n",
    "    if type(amt) == dict:\n",
    "        v3.price_feeds = pd.DataFrame({'INDX':[i for i in range(operations_count)],\n",
    "                            'tkn':[Decimal(amt['bntVirtualBalance']) for i in range(operations_count)],\n",
    "                            'bnt':[Decimal(amt['baseTokenVirtualBalance']) for i in range(operations_count)],\n",
    "        })\n",
    "        amt = Decimal(0)\n",
    "    else:\n",
    "        amt = Decimal(amt)\n",
    "\n",
    "    tkn_name = 'bnt' if 'BNT' in transaction_type else 'tkn'\n",
    "    target_tkn = 'tkn' if tkn_name == 'bnt' else 'bnt'\n",
    "    if mined:\n",
    "        v3.global_state.timestep += 1\n",
    "        timestep = v3.global_state.timestep\n",
    "    if 'enable' in transaction_type:\n",
    "        v3.dao_msig_init_pools(['bnt','tkn'])\n",
    "\n",
    "    # action\n",
    "    elif 'deposit' in transaction_type:\n",
    "        v3.stake(tkn_name=tkn_name, tkn_amt=amt, user_name=user_name, timestep=timestep)\n",
    "    elif 'trade' in transaction_type:\n",
    "        v3.trade(source_token=tkn_name, target_token=target_tkn, swap_amount=amt, user_name=user_name, timestep=timestep)\n",
    "    elif 'withdraw' in transaction_type:\n",
    "        id_number = v3.begin_cooldown(tkn_name=tkn_name,\n",
    "                                      withdraw_value=amt,\n",
    "                                      user_name=user_name,\n",
    "                                      timestep=timestep)\n",
    "        v3.withdraw(user_name=user_name, id_number=id_number, timestep=timestep)\n",
    "\n",
    "    # logging\n",
    "    expected = transaction['expected']\n",
    "    collect = {\n",
    "          \"indx\": [indx],\n",
    "          \"action\": [transaction_type],\n",
    "          \"amount\": [amt],\n",
    "          \"tkn_dayTrader\": [Decimal(expected['tknBalances']['dayTrader']).quantize(QDECIMALS)],\n",
    "          \"tkn_tknProvider\": [Decimal(expected['tknBalances']['tknProvider']).quantize(QDECIMALS)],\n",
    "          \"tkn_bntProvider\": [Decimal(expected['tknBalances']['bntProvider']).quantize(QDECIMALS)],\n",
    "          \"tkn_masterVault\": [Decimal(expected['tknBalances']['masterVault']).quantize(QDECIMALS)],\n",
    "          \"tkn_epVault\": [Decimal(expected['tknBalances']['epVault']).quantize(QDECIMALS)],\n",
    "          \"bnt_dayTrader\": [Decimal(expected['bntBalances']['dayTrader']).quantize(QDECIMALS)],\n",
    "          \"bnt_tknProvider\": [Decimal(expected['bntBalances']['tknProvider']).quantize(QDECIMALS)],\n",
    "          \"bnt_bntProvider\": [Decimal(expected['bntBalances']['bntProvider']).quantize(QDECIMALS)],\n",
    "          \"bnt_masterVault\": [Decimal(expected['bntBalances']['masterVault']).quantize(QDECIMALS)],\n",
    "          \"bntkn_dayTrader\": [Decimal(expected['bntknBalances']['dayTrader']).quantize(QDECIMALS)],\n",
    "          \"bntkn_tknProvider\": [Decimal(expected['bntknBalances']['tknProvider']).quantize(QDECIMALS)],\n",
    "          \"bntkn_bntProvider\": [Decimal(expected['bntknBalances']['bntProvider']).quantize(QDECIMALS)],\n",
    "          \"bnbnt_dayTrader\": [Decimal(expected['bnbntBalances']['dayTrader']).quantize(QDECIMALS)],\n",
    "          \"bnbnt_tknProvider\": [Decimal(expected['bnbntBalances']['tknProvider']).quantize(QDECIMALS)],\n",
    "          \"bnbnt_bntProvider\": [Decimal(expected['bnbntBalances']['bntProvider']).quantize(QDECIMALS)],\n",
    "          \"bnbnt_bntPool\": [Decimal(expected['bnbntBalances']['bntPool']).quantize(QDECIMALS)],\n",
    "          \"bntCurrentPoolFunding\": [Decimal(expected['bntCurrentPoolFunding']).quantize(QDECIMALS)],\n",
    "          \"tknStakedBalance\": [Decimal(expected['tknStakedBalance']).quantize(QDECIMALS)],\n",
    "          \"bntStakedBalance\": [Decimal(expected['bntStakedBalance']).quantize(QDECIMALS)],\n",
    "          \"tknTradingLiquidity\": [Decimal(expected['tknTradingLiquidity']).quantize(QDECIMALS)],\n",
    "          \"bntTradingLiquidity\": [Decimal(expected['bntTradingLiquidity']).quantize(QDECIMALS)],\n",
    "    }\n",
    "    validation.append(pd.DataFrame(collect))\n",
    "\n",
    "    collect = {\n",
    "          \"indx\": [indx],\n",
    "          \"action\": [transaction_type],\n",
    "          \"amount\": [amt],\n",
    "          \"tkn_dayTrader\": [v3.global_state.users['dayTrader'].wallet['tkn'].tkn_amt.quantize(QDECIMALS)],\n",
    "          \"tkn_tknProvider\": [v3.global_state.users['tknProvider'].wallet['tkn'].tkn_amt.quantize(QDECIMALS)],\n",
    "          \"tkn_bntProvider\": [v3.global_state.users['bntProvider'].wallet['tkn'].tkn_amt.quantize(QDECIMALS)],\n",
    "          \"tkn_masterVault\": [v3.global_state.tokens['tkn'].vault_tkn.quantize(QDECIMALS)],\n",
    "          \"tkn_epVault\": [v3.global_state.tokens['tkn'].external_protection_vault.quantize(QDECIMALS)],\n",
    "          \"bnt_dayTrader\": [v3.global_state.users['dayTrader'].wallet['bnt'].tkn_amt.quantize(QDECIMALS)],\n",
    "          \"bnt_tknProvider\": [v3.global_state.users['tknProvider'].wallet['bnt'].tkn_amt.quantize(QDECIMALS)],\n",
    "          \"bnt_bntProvider\": [v3.global_state.users['bntProvider'].wallet['bnt'].tkn_amt.quantize(QDECIMALS)],\n",
    "          \"bnt_masterVault\": [v3.global_state.vault_bnt.quantize(QDECIMALS)],\n",
    "          \"bntkn_dayTrader\": [v3.global_state.users['dayTrader'].wallet['tkn'].bntkn_amt.quantize(QDECIMALS)],\n",
    "          \"bntkn_tknProvider\": [v3.global_state.users['tknProvider'].wallet['tkn'].bntkn_amt.quantize(QDECIMALS)],\n",
    "          \"bntkn_bntProvider\": [v3.global_state.users['bntProvider'].wallet['tkn'].bntkn_amt.quantize(QDECIMALS)],\n",
    "          \"bnbnt_dayTrader\": [v3.global_state.users['dayTrader'].wallet['bnt'].bntkn_amt.quantize(QDECIMALS)],\n",
    "          \"bnbnt_tknProvider\": [v3.global_state.users['tknProvider'].wallet['bnt'].bntkn_amt.quantize(QDECIMALS)],\n",
    "          \"bnbnt_bntProvider\": [v3.global_state.users['bntProvider'].wallet['bnt'].bntkn_amt.quantize(QDECIMALS)],\n",
    "          \"bnbnt_bntPool\": [v3.global_state.protocol_wallet_bnbnt.quantize(QDECIMALS)],\n",
    "          \"bntCurrentPoolFunding\": [v3.global_state.tokens['tkn'].bnt_funding_amount.quantize(QDECIMALS)],\n",
    "          \"tknStakedBalance\": [v3.global_state.tokens['tkn'].staked_tkn.quantize(QDECIMALS)],\n",
    "          \"bntStakedBalance\": [v3.global_state.staked_bnt.quantize(QDECIMALS)],\n",
    "          \"tknTradingLiquidity\": [v3.global_state.tokens['tkn'].tkn_trading_liquidity.quantize(QDECIMALS)],\n",
    "          \"bntTradingLiquidity\": [v3.global_state.tokens['tkn'].bnt_trading_liquidity.quantize(QDECIMALS)],\n",
    "    }\n",
    "    simulation.append(pd.DataFrame(collect))\n"
   ],
   "metadata": {
    "collapsed": false,
    "pycharm": {
     "name": "#%%\n"
    }
   }
  },
  {
   "cell_type": "code",
   "execution_count": 8,
   "outputs": [
    {
     "data": {
      "text/plain": "(Decimal('0.0025'), Decimal('0.0025'), Decimal('0.0025'))"
     },
     "execution_count": 8,
     "metadata": {},
     "output_type": "execute_result"
    }
   ],
   "source": [
    "v3.global_state.trading_fee, v3.trading_fee, v3.global_state.tokens['tkn'].trading_fee"
   ],
   "metadata": {
    "collapsed": false,
    "pycharm": {
     "name": "#%%\n"
    }
   }
  },
  {
   "cell_type": "code",
   "execution_count": 9,
   "outputs": [
    {
     "data": {
      "text/plain": "(Decimal('1000000'), Decimal('10000000'))"
     },
     "execution_count": 9,
     "metadata": {},
     "output_type": "execute_result"
    }
   ],
   "source": [
    "v3.global_state.bnt_min_liquidity, v3.global_state.bnt_funding_limit"
   ],
   "metadata": {
    "collapsed": false,
    "pycharm": {
     "name": "#%%\n"
    }
   }
  },
  {
   "cell_type": "code",
   "execution_count": 10,
   "outputs": [],
   "source": [
    "simulation, validation = pd.concat(simulation), pd.concat(validation)"
   ],
   "metadata": {
    "collapsed": false,
    "pycharm": {
     "name": "#%%\n"
    }
   }
  },
  {
   "cell_type": "code",
   "execution_count": 11,
   "outputs": [
    {
     "data": {
      "text/plain": "            action    amount             tkn_dayTrader  \\\n0       depositTKN  30000000  10000.000000000000000000   \n1    enableTrading         0  10000.000000000000000000   \n2       depositTKN   1000000  10000.000000000000000000   \n3       depositBNT    100000  10000.000000000000000000   \n4         tradeTKN      2000   8000.000000000000000000   \n..             ...       ...                       ...   \n394     depositTKN     36883  17849.329770407740647656   \n395     depositBNT      3304  17849.329770407740647656   \n396    withdrawBNT     69534  17849.329770407740647656   \n397       tradeBNT        36  17957.114151895984338224   \n398       tradeTKN       750  17207.114151895984338224   \n\n                 tkn_tknProvider tkn_bntProvider              tkn_masterVault  \\\n0    70000000.000000000000000000           0E-18  30000000.000000000000000000   \n1    70000000.000000000000000000           0E-18  30000000.000000000000000000   \n2    69000000.000000000000000000           0E-18  31000000.000000000000000000   \n3    69000000.000000000000000000           0E-18  31000000.000000000000000000   \n4    69000000.000000000000000000           0E-18  31002000.000000000000000000   \n..                           ...             ...                          ...   \n394  62102442.000000000000000000           0E-18  37889708.670229592259352344   \n395  62102442.000000000000000000           0E-18  37889708.670229592259352344   \n396  62102442.000000000000000000           0E-18  37889708.670229592259352344   \n397  62102442.000000000000000000           0E-18  37889600.885848104015661776   \n398  62102442.000000000000000000           0E-18  37890350.885848104015661776   \n\n    tkn_epVault             bnt_dayTrader bnt_tknProvider  \\\n0         0E-18  10000.000000000000000000           0E-18   \n1         0E-18  10000.000000000000000000           0E-18   \n2         0E-18  10000.000000000000000000           0E-18   \n3         0E-18  10000.000000000000000000           0E-18   \n4         0E-18  10664.889185135810698217           0E-18   \n..          ...                       ...             ...   \n394       0E-18   7318.712463663813911981           0E-18   \n395       0E-18   7318.712463663813911981           0E-18   \n396       0E-18   7318.712463663813911981           0E-18   \n397       0E-18   7282.712463663813911981           0E-18   \n398       0E-18   7531.956312177440785060           0E-18   \n\n                 bnt_bntProvider  ... bntkn_bntProvider bnbnt_dayTrader  \\\n0    10000000.000000000000000000  ...             0E-18           0E-18   \n1    10000000.000000000000000000  ...             0E-18           0E-18   \n2    10000000.000000000000000000  ...             0E-18           0E-18   \n3     9900000.000000000000000000  ...             0E-18           0E-18   \n4     9900000.000000000000000000  ...             0E-18           0E-18   \n..                           ...  ...               ...             ...   \n394   6783426.000000000000000000  ...             0E-18           0E-18   \n395   6780122.000000000000000000  ...             0E-18           0E-18   \n396   6780122.000000000000000000  ...             0E-18           0E-18   \n397   6780122.000000000000000000  ...             0E-18           0E-18   \n398   6780122.000000000000000000  ...             0E-18           0E-18   \n\n    bnbnt_tknProvider           bnbnt_bntProvider               bnbnt_bntPool  \\\n0               0E-18                       0E-18                       0E-18   \n1               0E-18                       0E-18  2000000.000000000000000000   \n2               0E-18                       0E-18  4000000.000000000000000000   \n3               0E-18   100000.000000000000000000  3900000.000000000000000000   \n4               0E-18   100000.000000000000000000  3900000.000000000000000000   \n..                ...                         ...                         ...   \n394             0E-18  1735099.055019285427254587  6783422.156707742187958060   \n395             0E-18  1738403.047432951090417753  6780118.156707742187958060   \n396             0E-18  1668869.207090388069114012  6780118.156707742187958060   \n397             0E-18  1668869.207090388069114012  6780118.156707742187958060   \n398             0E-18  1668869.207090388069114012  6780118.156707742187958060   \n\n           bntCurrentPoolFunding             tknStakedBalance  \\\n0                          0E-18  30000000.000000000000000000   \n1     2000000.000000000000000000  30000000.000000000000000000   \n2     4000000.000000000000000000  31000000.000000000000000000   \n3     4000000.000000000000000000  31000000.000000000000000000   \n4     4000001.333111148141976337  31000000.000000000000000000   \n..                           ...                          ...   \n394  10000019.117811980227248122  37897636.494896782772412326   \n395  10000019.117811980227248122  37897636.494896782772412326   \n396  10000019.117811980227248122  37897636.494896782772412326   \n397  10000019.117811980227248122  37897636.711005818337813209   \n398  10000019.617549019853567667  37897636.711005818337813209   \n\n                bntStakedBalance          tknTradingLiquidity  \\\n0                          0E-18                        0E-18   \n1     2000000.000000000000000000   6000000.000000000000000000   \n2     4000000.000000000000000000  12000000.000000000000000000   \n3     4000000.000000000000000000  12000000.000000000000000000   \n4     4000001.333111148141976337  12002000.000000000000000000   \n..                           ...                          ...   \n394  10000019.117811980227248122  30023259.277360642248949420   \n395  10000019.117811980227248122  30023259.277360642248949420   \n396  10000019.117811980227248122  30023259.277360642248949420   \n397  10000019.117811980227248122  30023151.492979154005258852   \n398  10000019.617549019853567667  30023901.492979154005258852   \n\n             bntTradingLiquidity  \n0                          0E-18  \n1     2000000.000000000000000000  \n2     4000000.000000000000000000  \n3     4000000.000000000000000000  \n4     3999334.777537077153807699  \n..                           ...  \n394  10002667.784755823310177166  \n395  10002667.784755823310177166  \n396  10002667.784755823310177166  \n397  10002703.766755758689417176  \n398  10002454.397972985155964211  \n\n[399 rows x 23 columns]",
      "text/html": "<div>\n<style scoped>\n    .dataframe tbody tr th:only-of-type {\n        vertical-align: middle;\n    }\n\n    .dataframe tbody tr th {\n        vertical-align: top;\n    }\n\n    .dataframe thead th {\n        text-align: right;\n    }\n</style>\n<table border=\"1\" class=\"dataframe\">\n  <thead>\n    <tr style=\"text-align: right;\">\n      <th></th>\n      <th>action</th>\n      <th>amount</th>\n      <th>tkn_dayTrader</th>\n      <th>tkn_tknProvider</th>\n      <th>tkn_bntProvider</th>\n      <th>tkn_masterVault</th>\n      <th>tkn_epVault</th>\n      <th>bnt_dayTrader</th>\n      <th>bnt_tknProvider</th>\n      <th>bnt_bntProvider</th>\n      <th>...</th>\n      <th>bntkn_bntProvider</th>\n      <th>bnbnt_dayTrader</th>\n      <th>bnbnt_tknProvider</th>\n      <th>bnbnt_bntProvider</th>\n      <th>bnbnt_bntPool</th>\n      <th>bntCurrentPoolFunding</th>\n      <th>tknStakedBalance</th>\n      <th>bntStakedBalance</th>\n      <th>tknTradingLiquidity</th>\n      <th>bntTradingLiquidity</th>\n    </tr>\n  </thead>\n  <tbody>\n    <tr>\n      <th>0</th>\n      <td>depositTKN</td>\n      <td>30000000</td>\n      <td>10000.000000000000000000</td>\n      <td>70000000.000000000000000000</td>\n      <td>0E-18</td>\n      <td>30000000.000000000000000000</td>\n      <td>0E-18</td>\n      <td>10000.000000000000000000</td>\n      <td>0E-18</td>\n      <td>10000000.000000000000000000</td>\n      <td>...</td>\n      <td>0E-18</td>\n      <td>0E-18</td>\n      <td>0E-18</td>\n      <td>0E-18</td>\n      <td>0E-18</td>\n      <td>0E-18</td>\n      <td>30000000.000000000000000000</td>\n      <td>0E-18</td>\n      <td>0E-18</td>\n      <td>0E-18</td>\n    </tr>\n    <tr>\n      <th>1</th>\n      <td>enableTrading</td>\n      <td>0</td>\n      <td>10000.000000000000000000</td>\n      <td>70000000.000000000000000000</td>\n      <td>0E-18</td>\n      <td>30000000.000000000000000000</td>\n      <td>0E-18</td>\n      <td>10000.000000000000000000</td>\n      <td>0E-18</td>\n      <td>10000000.000000000000000000</td>\n      <td>...</td>\n      <td>0E-18</td>\n      <td>0E-18</td>\n      <td>0E-18</td>\n      <td>0E-18</td>\n      <td>2000000.000000000000000000</td>\n      <td>2000000.000000000000000000</td>\n      <td>30000000.000000000000000000</td>\n      <td>2000000.000000000000000000</td>\n      <td>6000000.000000000000000000</td>\n      <td>2000000.000000000000000000</td>\n    </tr>\n    <tr>\n      <th>2</th>\n      <td>depositTKN</td>\n      <td>1000000</td>\n      <td>10000.000000000000000000</td>\n      <td>69000000.000000000000000000</td>\n      <td>0E-18</td>\n      <td>31000000.000000000000000000</td>\n      <td>0E-18</td>\n      <td>10000.000000000000000000</td>\n      <td>0E-18</td>\n      <td>10000000.000000000000000000</td>\n      <td>...</td>\n      <td>0E-18</td>\n      <td>0E-18</td>\n      <td>0E-18</td>\n      <td>0E-18</td>\n      <td>4000000.000000000000000000</td>\n      <td>4000000.000000000000000000</td>\n      <td>31000000.000000000000000000</td>\n      <td>4000000.000000000000000000</td>\n      <td>12000000.000000000000000000</td>\n      <td>4000000.000000000000000000</td>\n    </tr>\n    <tr>\n      <th>3</th>\n      <td>depositBNT</td>\n      <td>100000</td>\n      <td>10000.000000000000000000</td>\n      <td>69000000.000000000000000000</td>\n      <td>0E-18</td>\n      <td>31000000.000000000000000000</td>\n      <td>0E-18</td>\n      <td>10000.000000000000000000</td>\n      <td>0E-18</td>\n      <td>9900000.000000000000000000</td>\n      <td>...</td>\n      <td>0E-18</td>\n      <td>0E-18</td>\n      <td>0E-18</td>\n      <td>100000.000000000000000000</td>\n      <td>3900000.000000000000000000</td>\n      <td>4000000.000000000000000000</td>\n      <td>31000000.000000000000000000</td>\n      <td>4000000.000000000000000000</td>\n      <td>12000000.000000000000000000</td>\n      <td>4000000.000000000000000000</td>\n    </tr>\n    <tr>\n      <th>4</th>\n      <td>tradeTKN</td>\n      <td>2000</td>\n      <td>8000.000000000000000000</td>\n      <td>69000000.000000000000000000</td>\n      <td>0E-18</td>\n      <td>31002000.000000000000000000</td>\n      <td>0E-18</td>\n      <td>10664.889185135810698217</td>\n      <td>0E-18</td>\n      <td>9900000.000000000000000000</td>\n      <td>...</td>\n      <td>0E-18</td>\n      <td>0E-18</td>\n      <td>0E-18</td>\n      <td>100000.000000000000000000</td>\n      <td>3900000.000000000000000000</td>\n      <td>4000001.333111148141976337</td>\n      <td>31000000.000000000000000000</td>\n      <td>4000001.333111148141976337</td>\n      <td>12002000.000000000000000000</td>\n      <td>3999334.777537077153807699</td>\n    </tr>\n    <tr>\n      <th>...</th>\n      <td>...</td>\n      <td>...</td>\n      <td>...</td>\n      <td>...</td>\n      <td>...</td>\n      <td>...</td>\n      <td>...</td>\n      <td>...</td>\n      <td>...</td>\n      <td>...</td>\n      <td>...</td>\n      <td>...</td>\n      <td>...</td>\n      <td>...</td>\n      <td>...</td>\n      <td>...</td>\n      <td>...</td>\n      <td>...</td>\n      <td>...</td>\n      <td>...</td>\n      <td>...</td>\n    </tr>\n    <tr>\n      <th>394</th>\n      <td>depositTKN</td>\n      <td>36883</td>\n      <td>17849.329770407740647656</td>\n      <td>62102442.000000000000000000</td>\n      <td>0E-18</td>\n      <td>37889708.670229592259352344</td>\n      <td>0E-18</td>\n      <td>7318.712463663813911981</td>\n      <td>0E-18</td>\n      <td>6783426.000000000000000000</td>\n      <td>...</td>\n      <td>0E-18</td>\n      <td>0E-18</td>\n      <td>0E-18</td>\n      <td>1735099.055019285427254587</td>\n      <td>6783422.156707742187958060</td>\n      <td>10000019.117811980227248122</td>\n      <td>37897636.494896782772412326</td>\n      <td>10000019.117811980227248122</td>\n      <td>30023259.277360642248949420</td>\n      <td>10002667.784755823310177166</td>\n    </tr>\n    <tr>\n      <th>395</th>\n      <td>depositBNT</td>\n      <td>3304</td>\n      <td>17849.329770407740647656</td>\n      <td>62102442.000000000000000000</td>\n      <td>0E-18</td>\n      <td>37889708.670229592259352344</td>\n      <td>0E-18</td>\n      <td>7318.712463663813911981</td>\n      <td>0E-18</td>\n      <td>6780122.000000000000000000</td>\n      <td>...</td>\n      <td>0E-18</td>\n      <td>0E-18</td>\n      <td>0E-18</td>\n      <td>1738403.047432951090417753</td>\n      <td>6780118.156707742187958060</td>\n      <td>10000019.117811980227248122</td>\n      <td>37897636.494896782772412326</td>\n      <td>10000019.117811980227248122</td>\n      <td>30023259.277360642248949420</td>\n      <td>10002667.784755823310177166</td>\n    </tr>\n    <tr>\n      <th>396</th>\n      <td>withdrawBNT</td>\n      <td>69534</td>\n      <td>17849.329770407740647656</td>\n      <td>62102442.000000000000000000</td>\n      <td>0E-18</td>\n      <td>37889708.670229592259352344</td>\n      <td>0E-18</td>\n      <td>7318.712463663813911981</td>\n      <td>0E-18</td>\n      <td>6780122.000000000000000000</td>\n      <td>...</td>\n      <td>0E-18</td>\n      <td>0E-18</td>\n      <td>0E-18</td>\n      <td>1668869.207090388069114012</td>\n      <td>6780118.156707742187958060</td>\n      <td>10000019.117811980227248122</td>\n      <td>37897636.494896782772412326</td>\n      <td>10000019.117811980227248122</td>\n      <td>30023259.277360642248949420</td>\n      <td>10002667.784755823310177166</td>\n    </tr>\n    <tr>\n      <th>397</th>\n      <td>tradeBNT</td>\n      <td>36</td>\n      <td>17957.114151895984338224</td>\n      <td>62102442.000000000000000000</td>\n      <td>0E-18</td>\n      <td>37889600.885848104015661776</td>\n      <td>0E-18</td>\n      <td>7282.712463663813911981</td>\n      <td>0E-18</td>\n      <td>6780122.000000000000000000</td>\n      <td>...</td>\n      <td>0E-18</td>\n      <td>0E-18</td>\n      <td>0E-18</td>\n      <td>1668869.207090388069114012</td>\n      <td>6780118.156707742187958060</td>\n      <td>10000019.117811980227248122</td>\n      <td>37897636.711005818337813209</td>\n      <td>10000019.117811980227248122</td>\n      <td>30023151.492979154005258852</td>\n      <td>10002703.766755758689417176</td>\n    </tr>\n    <tr>\n      <th>398</th>\n      <td>tradeTKN</td>\n      <td>750</td>\n      <td>17207.114151895984338224</td>\n      <td>62102442.000000000000000000</td>\n      <td>0E-18</td>\n      <td>37890350.885848104015661776</td>\n      <td>0E-18</td>\n      <td>7531.956312177440785060</td>\n      <td>0E-18</td>\n      <td>6780122.000000000000000000</td>\n      <td>...</td>\n      <td>0E-18</td>\n      <td>0E-18</td>\n      <td>0E-18</td>\n      <td>1668869.207090388069114012</td>\n      <td>6780118.156707742187958060</td>\n      <td>10000019.617549019853567667</td>\n      <td>37897636.711005818337813209</td>\n      <td>10000019.617549019853567667</td>\n      <td>30023901.492979154005258852</td>\n      <td>10002454.397972985155964211</td>\n    </tr>\n  </tbody>\n</table>\n<p>399 rows × 23 columns</p>\n</div>"
     },
     "execution_count": 11,
     "metadata": {},
     "output_type": "execute_result"
    }
   ],
   "source": [
    "simulation = simulation.drop('indx', axis=1).reset_index().drop('index', axis=1)\n",
    "simulation"
   ],
   "metadata": {
    "collapsed": false,
    "pycharm": {
     "name": "#%%\n"
    }
   }
  },
  {
   "cell_type": "code",
   "execution_count": 12,
   "outputs": [
    {
     "data": {
      "text/plain": "            action    amount             tkn_dayTrader  \\\n0       depositTKN  30000000  10000.000000000000000000   \n1    enableTrading         0  10000.000000000000000000   \n2       depositTKN   1000000  10000.000000000000000000   \n3       depositBNT    100000  10000.000000000000000000   \n4         tradeTKN      2000   8000.000000000000000000   \n..             ...       ...                       ...   \n394     depositTKN     36883  17843.180340779883503492   \n395     depositBNT      3304  17843.180340779883503492   \n396    withdrawBNT     69534  17843.180340779883503492   \n397       tradeBNT        36  17950.919729559836167046   \n398       tradeTKN       750  17200.919729559836167046   \n\n                 tkn_tknProvider tkn_bntProvider              tkn_masterVault  \\\n0    70000000.000000000000000000           0E-18  30000000.000000000000000000   \n1    70000000.000000000000000000           0E-18  30000000.000000000000000000   \n2    69000000.000000000000000000           0E-18  31000000.000000000000000000   \n3    69000000.000000000000000000           0E-18  31000000.000000000000000000   \n4    69000000.000000000000000000           0E-18  31002000.000000000000000000   \n..                           ...             ...                          ...   \n394  64004314.664415812819109221           0E-18  35987842.155243407297387287   \n395  64004314.664415812819109221           0E-18  35987842.155243407297387287   \n396  64004314.664415812819109221           0E-18  35987842.155243407297387287   \n397  64004314.664415812819109221           0E-18  35987734.415854627344723733   \n398  64004314.664415812819109221           0E-18  35988484.415854627344723733   \n\n    tkn_epVault             bnt_dayTrader bnt_tknProvider  \\\n0         0E-18  10000.000000000000000000           0E-18   \n1         0E-18  10000.000000000000000000           0E-18   \n2         0E-18  10000.000000000000000000           0E-18   \n3         0E-18  10000.000000000000000000           0E-18   \n4         0E-18  10664.889185135810698217           0E-18   \n..          ...                       ...             ...   \n394       0E-18   7320.922988706987401096           0E-18   \n395       0E-18   7320.922988706987401096           0E-18   \n396       0E-18   7320.922988706987401096           0E-18   \n397       0E-18   7284.922988706987401096           0E-18   \n398       0E-18   7534.270919137736320237           0E-18   \n\n                 bnt_bntProvider  ... bntkn_bntProvider bnbnt_dayTrader  \\\n0    10000000.000000000000000000  ...             0E-18           0E-18   \n1    10000000.000000000000000000  ...             0E-18           0E-18   \n2    10000000.000000000000000000  ...             0E-18           0E-18   \n3     9900000.000000000000000000  ...             0E-18           0E-18   \n4     9900000.000000000000000000  ...             0E-18           0E-18   \n..                           ...  ...               ...             ...   \n394   8261197.623349625732944047  ...             0E-18           0E-18   \n395   8257893.623349625732944047  ...             0E-18           0E-18   \n396   8327253.947685884787087112  ...             0E-18           0E-18   \n397   8327253.947685884787087112  ...             0E-18           0E-18   \n398   8327253.947685884787087112  ...             0E-18           0E-18   \n\n    bnbnt_tknProvider           bnbnt_bntProvider               bnbnt_bntPool  \\\n0               0E-18                       0E-18                       0E-18   \n1               0E-18                       0E-18  2000000.000000000000000000   \n2               0E-18                       0E-18  4000000.000000000000000000   \n3               0E-18   100000.000000000000000000  3900000.000000000000000000   \n4               0E-18   100000.000000000000000000  3900000.000000000000000000   \n..                ...                         ...                         ...   \n394             0E-18  1735096.742662854896616032  8262253.649874946739798897   \n395             0E-18  1738400.735072824069155190  8258949.657464977567259739   \n396             0E-18  1668866.735072824069155190  8328483.657464977567259739   \n397             0E-18  1668866.735072824069155190  8328483.657464977567259739   \n398             0E-18  1668866.735072824069155190  8328483.657464977567259739   \n\n          bntCurrentPoolFunding             tknStakedBalance  \\\n0                         0E-18  30000000.000000000000000000   \n1    2000000.000000000000000000  30000000.000000000000000000   \n2    4000000.000000000000000000  31000000.000000000000000000   \n3    4000000.000000000000000000  31000000.000000000000000000   \n4    4000001.333111148141976337  31000000.000000000000000000   \n..                          ...                          ...   \n394  9997373.358752083284130504  35990997.219994855880358585   \n395  9997373.358752083284130504  35990997.219994855880358585   \n396  9997373.358752083284130504  35990997.219994855880358585   \n397  9997373.358752083284130504  35990997.436013680501817560   \n398  9997373.858697808458564427  35990997.436013680501817560   \n\n               bntStakedBalance          tknTradingLiquidity  \\\n0                         0E-18                        0E-18   \n1    2000000.000000000000000000   6000000.000000000000000000   \n2    4000000.000000000000000000  12000000.000000000000000000   \n3    4000000.000000000000000000  12000000.000000000000000000   \n4    4000001.333111148141976337  12002000.000000000000000000   \n..                          ...                          ...   \n394  9997373.358752083284130504  30002722.540170501638457541   \n395  9997373.358752083284130504  30002722.540170501638457541   \n396  9997373.358752083284130504  30002722.540170501638457541   \n397  9997373.358752083284130504  30002614.800781721685793987   \n398  9997373.858697808458564427  30003364.800781721685793987   \n\n             bntTradingLiquidity  \n0                          0E-18  \n1     2000000.000000000000000000  \n2     4000000.000000000000000000  \n3     4000000.000000000000000000  \n4     3999334.777537077153807699  \n..                           ...  \n394  10000000.000000000000000000  \n395  10000000.000000000000000000  \n396  10000000.000000000000000000  \n397  10000035.981999935362000582  \n398   9999786.509083073319472961  \n\n[399 rows x 23 columns]",
      "text/html": "<div>\n<style scoped>\n    .dataframe tbody tr th:only-of-type {\n        vertical-align: middle;\n    }\n\n    .dataframe tbody tr th {\n        vertical-align: top;\n    }\n\n    .dataframe thead th {\n        text-align: right;\n    }\n</style>\n<table border=\"1\" class=\"dataframe\">\n  <thead>\n    <tr style=\"text-align: right;\">\n      <th></th>\n      <th>action</th>\n      <th>amount</th>\n      <th>tkn_dayTrader</th>\n      <th>tkn_tknProvider</th>\n      <th>tkn_bntProvider</th>\n      <th>tkn_masterVault</th>\n      <th>tkn_epVault</th>\n      <th>bnt_dayTrader</th>\n      <th>bnt_tknProvider</th>\n      <th>bnt_bntProvider</th>\n      <th>...</th>\n      <th>bntkn_bntProvider</th>\n      <th>bnbnt_dayTrader</th>\n      <th>bnbnt_tknProvider</th>\n      <th>bnbnt_bntProvider</th>\n      <th>bnbnt_bntPool</th>\n      <th>bntCurrentPoolFunding</th>\n      <th>tknStakedBalance</th>\n      <th>bntStakedBalance</th>\n      <th>tknTradingLiquidity</th>\n      <th>bntTradingLiquidity</th>\n    </tr>\n  </thead>\n  <tbody>\n    <tr>\n      <th>0</th>\n      <td>depositTKN</td>\n      <td>30000000</td>\n      <td>10000.000000000000000000</td>\n      <td>70000000.000000000000000000</td>\n      <td>0E-18</td>\n      <td>30000000.000000000000000000</td>\n      <td>0E-18</td>\n      <td>10000.000000000000000000</td>\n      <td>0E-18</td>\n      <td>10000000.000000000000000000</td>\n      <td>...</td>\n      <td>0E-18</td>\n      <td>0E-18</td>\n      <td>0E-18</td>\n      <td>0E-18</td>\n      <td>0E-18</td>\n      <td>0E-18</td>\n      <td>30000000.000000000000000000</td>\n      <td>0E-18</td>\n      <td>0E-18</td>\n      <td>0E-18</td>\n    </tr>\n    <tr>\n      <th>1</th>\n      <td>enableTrading</td>\n      <td>0</td>\n      <td>10000.000000000000000000</td>\n      <td>70000000.000000000000000000</td>\n      <td>0E-18</td>\n      <td>30000000.000000000000000000</td>\n      <td>0E-18</td>\n      <td>10000.000000000000000000</td>\n      <td>0E-18</td>\n      <td>10000000.000000000000000000</td>\n      <td>...</td>\n      <td>0E-18</td>\n      <td>0E-18</td>\n      <td>0E-18</td>\n      <td>0E-18</td>\n      <td>2000000.000000000000000000</td>\n      <td>2000000.000000000000000000</td>\n      <td>30000000.000000000000000000</td>\n      <td>2000000.000000000000000000</td>\n      <td>6000000.000000000000000000</td>\n      <td>2000000.000000000000000000</td>\n    </tr>\n    <tr>\n      <th>2</th>\n      <td>depositTKN</td>\n      <td>1000000</td>\n      <td>10000.000000000000000000</td>\n      <td>69000000.000000000000000000</td>\n      <td>0E-18</td>\n      <td>31000000.000000000000000000</td>\n      <td>0E-18</td>\n      <td>10000.000000000000000000</td>\n      <td>0E-18</td>\n      <td>10000000.000000000000000000</td>\n      <td>...</td>\n      <td>0E-18</td>\n      <td>0E-18</td>\n      <td>0E-18</td>\n      <td>0E-18</td>\n      <td>4000000.000000000000000000</td>\n      <td>4000000.000000000000000000</td>\n      <td>31000000.000000000000000000</td>\n      <td>4000000.000000000000000000</td>\n      <td>12000000.000000000000000000</td>\n      <td>4000000.000000000000000000</td>\n    </tr>\n    <tr>\n      <th>3</th>\n      <td>depositBNT</td>\n      <td>100000</td>\n      <td>10000.000000000000000000</td>\n      <td>69000000.000000000000000000</td>\n      <td>0E-18</td>\n      <td>31000000.000000000000000000</td>\n      <td>0E-18</td>\n      <td>10000.000000000000000000</td>\n      <td>0E-18</td>\n      <td>9900000.000000000000000000</td>\n      <td>...</td>\n      <td>0E-18</td>\n      <td>0E-18</td>\n      <td>0E-18</td>\n      <td>100000.000000000000000000</td>\n      <td>3900000.000000000000000000</td>\n      <td>4000000.000000000000000000</td>\n      <td>31000000.000000000000000000</td>\n      <td>4000000.000000000000000000</td>\n      <td>12000000.000000000000000000</td>\n      <td>4000000.000000000000000000</td>\n    </tr>\n    <tr>\n      <th>4</th>\n      <td>tradeTKN</td>\n      <td>2000</td>\n      <td>8000.000000000000000000</td>\n      <td>69000000.000000000000000000</td>\n      <td>0E-18</td>\n      <td>31002000.000000000000000000</td>\n      <td>0E-18</td>\n      <td>10664.889185135810698217</td>\n      <td>0E-18</td>\n      <td>9900000.000000000000000000</td>\n      <td>...</td>\n      <td>0E-18</td>\n      <td>0E-18</td>\n      <td>0E-18</td>\n      <td>100000.000000000000000000</td>\n      <td>3900000.000000000000000000</td>\n      <td>4000001.333111148141976337</td>\n      <td>31000000.000000000000000000</td>\n      <td>4000001.333111148141976337</td>\n      <td>12002000.000000000000000000</td>\n      <td>3999334.777537077153807699</td>\n    </tr>\n    <tr>\n      <th>...</th>\n      <td>...</td>\n      <td>...</td>\n      <td>...</td>\n      <td>...</td>\n      <td>...</td>\n      <td>...</td>\n      <td>...</td>\n      <td>...</td>\n      <td>...</td>\n      <td>...</td>\n      <td>...</td>\n      <td>...</td>\n      <td>...</td>\n      <td>...</td>\n      <td>...</td>\n      <td>...</td>\n      <td>...</td>\n      <td>...</td>\n      <td>...</td>\n      <td>...</td>\n      <td>...</td>\n    </tr>\n    <tr>\n      <th>394</th>\n      <td>depositTKN</td>\n      <td>36883</td>\n      <td>17843.180340779883503492</td>\n      <td>64004314.664415812819109221</td>\n      <td>0E-18</td>\n      <td>35987842.155243407297387287</td>\n      <td>0E-18</td>\n      <td>7320.922988706987401096</td>\n      <td>0E-18</td>\n      <td>8261197.623349625732944047</td>\n      <td>...</td>\n      <td>0E-18</td>\n      <td>0E-18</td>\n      <td>0E-18</td>\n      <td>1735096.742662854896616032</td>\n      <td>8262253.649874946739798897</td>\n      <td>9997373.358752083284130504</td>\n      <td>35990997.219994855880358585</td>\n      <td>9997373.358752083284130504</td>\n      <td>30002722.540170501638457541</td>\n      <td>10000000.000000000000000000</td>\n    </tr>\n    <tr>\n      <th>395</th>\n      <td>depositBNT</td>\n      <td>3304</td>\n      <td>17843.180340779883503492</td>\n      <td>64004314.664415812819109221</td>\n      <td>0E-18</td>\n      <td>35987842.155243407297387287</td>\n      <td>0E-18</td>\n      <td>7320.922988706987401096</td>\n      <td>0E-18</td>\n      <td>8257893.623349625732944047</td>\n      <td>...</td>\n      <td>0E-18</td>\n      <td>0E-18</td>\n      <td>0E-18</td>\n      <td>1738400.735072824069155190</td>\n      <td>8258949.657464977567259739</td>\n      <td>9997373.358752083284130504</td>\n      <td>35990997.219994855880358585</td>\n      <td>9997373.358752083284130504</td>\n      <td>30002722.540170501638457541</td>\n      <td>10000000.000000000000000000</td>\n    </tr>\n    <tr>\n      <th>396</th>\n      <td>withdrawBNT</td>\n      <td>69534</td>\n      <td>17843.180340779883503492</td>\n      <td>64004314.664415812819109221</td>\n      <td>0E-18</td>\n      <td>35987842.155243407297387287</td>\n      <td>0E-18</td>\n      <td>7320.922988706987401096</td>\n      <td>0E-18</td>\n      <td>8327253.947685884787087112</td>\n      <td>...</td>\n      <td>0E-18</td>\n      <td>0E-18</td>\n      <td>0E-18</td>\n      <td>1668866.735072824069155190</td>\n      <td>8328483.657464977567259739</td>\n      <td>9997373.358752083284130504</td>\n      <td>35990997.219994855880358585</td>\n      <td>9997373.358752083284130504</td>\n      <td>30002722.540170501638457541</td>\n      <td>10000000.000000000000000000</td>\n    </tr>\n    <tr>\n      <th>397</th>\n      <td>tradeBNT</td>\n      <td>36</td>\n      <td>17950.919729559836167046</td>\n      <td>64004314.664415812819109221</td>\n      <td>0E-18</td>\n      <td>35987734.415854627344723733</td>\n      <td>0E-18</td>\n      <td>7284.922988706987401096</td>\n      <td>0E-18</td>\n      <td>8327253.947685884787087112</td>\n      <td>...</td>\n      <td>0E-18</td>\n      <td>0E-18</td>\n      <td>0E-18</td>\n      <td>1668866.735072824069155190</td>\n      <td>8328483.657464977567259739</td>\n      <td>9997373.358752083284130504</td>\n      <td>35990997.436013680501817560</td>\n      <td>9997373.358752083284130504</td>\n      <td>30002614.800781721685793987</td>\n      <td>10000035.981999935362000582</td>\n    </tr>\n    <tr>\n      <th>398</th>\n      <td>tradeTKN</td>\n      <td>750</td>\n      <td>17200.919729559836167046</td>\n      <td>64004314.664415812819109221</td>\n      <td>0E-18</td>\n      <td>35988484.415854627344723733</td>\n      <td>0E-18</td>\n      <td>7534.270919137736320237</td>\n      <td>0E-18</td>\n      <td>8327253.947685884787087112</td>\n      <td>...</td>\n      <td>0E-18</td>\n      <td>0E-18</td>\n      <td>0E-18</td>\n      <td>1668866.735072824069155190</td>\n      <td>8328483.657464977567259739</td>\n      <td>9997373.858697808458564427</td>\n      <td>35990997.436013680501817560</td>\n      <td>9997373.858697808458564427</td>\n      <td>30003364.800781721685793987</td>\n      <td>9999786.509083073319472961</td>\n    </tr>\n  </tbody>\n</table>\n<p>399 rows × 23 columns</p>\n</div>"
     },
     "execution_count": 12,
     "metadata": {},
     "output_type": "execute_result"
    }
   ],
   "source": [
    "validation = validation.drop('indx', axis=1).reset_index().drop('index', axis=1)\n",
    "validation"
   ],
   "metadata": {
    "collapsed": false,
    "pycharm": {
     "name": "#%%\n"
    }
   }
  },
  {
   "cell_type": "code",
   "execution_count": 13,
   "outputs": [
    {
     "data": {
      "text/plain": "    amount                                      tkn_dayTrader  \\\n0        0                                                  0   \n1        0                                                  0   \n2        0                                                  0   \n3        0                                                  0   \n4        0                                                  0   \n..     ...                                                ...   \n394      0  -0.0344637531561728700123130868669120095120571...   \n395      0  -0.0344637531561728700123130868669120095120571...   \n396      0  -0.0344637531561728700123130868669120095120571...   \n397      0  -0.0345075485238107124344033077417973852324460...   \n398      0  -0.0360121576842372932321821684018257636918417...   \n\n                                       tkn_tknProvider tkn_bntProvider  \\\n0                                                    0               0   \n1                                                    0               0   \n2                                                    0               0   \n3                                                    0               0   \n4                                                    0               0   \n..                                                 ...             ...   \n394  2.97147571126667855447104963287414241595398149...               0   \n395  2.97147571126667855447104963287414241595398149...               0   \n396  2.97147571126667855447104963287414241595398149...               0   \n397  2.97147571126667855447104963287414241595398149...               0   \n398  2.97147571126667855447104963287414241595398149...               0   \n\n                                       tkn_masterVault tkn_epVault  \\\n0                                                    0           0   \n1                                                    0           0   \n2                                                    0           0   \n3                                                    0           0   \n4                                                    0           0   \n..                                                 ...         ...   \n394  -5.2847472954392852827034983202625549623520755...           0   \n395  -5.2847472954392852827034983202625549623520755...           0   \n396  -5.2847472954392852827034983202625549623520755...           0   \n397  -5.2847629917919956432087850726305941588700157...           0   \n398  -5.2846528573334826346438878550725887340473248...           0   \n\n                                         bnt_dayTrader bnt_tknProvider  \\\n0                                                    0               0   \n1                                                    0               0   \n2                                                    0               0   \n3                                                    0               0   \n4                                                    0               0   \n..                                                 ...             ...   \n394  0.03019462227076246550098502996151354051636253...               0   \n395  0.03019462227076246550098502996151354051636253...               0   \n396  0.03019462227076246550098502996151354051636253...               0   \n397  0.03034383543381614704138332978760821048679014...               0   \n398  0.03072104766522560371455184528889660309550507...               0   \n\n                                       bnt_bntProvider  \\\n0                                                    0   \n1                                                    0   \n2                                                    0   \n3                                                    0   \n4                                                    0   \n..                                                 ...   \n394  17.8881040101597424065003817785701926819477162...   \n395  17.8952610768822360166862944367843482243809836...   \n396  18.5791373411378601072489481352240255850858527...   \n397  18.5791373411378601072489481352240255850858527...   \n398  18.5791373411378601072489481352240255850858527...   \n\n                                       bnt_masterVault  ... bntkn_bntProvider  \\\n0                                                    0  ...                 0   \n1                                                    0  ...                 0   \n2                                                    0  ...                 0   \n3                                                    0  ...                 0   \n4                                                    0  ...                 0   \n..                                                 ...  ...               ...   \n394  -0.0266778050989036959874511547432680575062618...  ...                 0   \n395  -0.0266778050989036959874511547432680575062618...  ...                 0   \n396  -0.0266778050989036959874511547432680575062618...  ...                 0   \n397  -0.0266777090592640456777391416099062166871191...  ...                 0   \n398  -0.0266794151159812037076063367298650720924752...  ...                 0   \n\n    bnbnt_dayTrader bnbnt_tknProvider  \\\n0                 0                 0   \n1                 0                 0   \n2                 0                 0   \n3                 0                 0   \n4                 0                 0   \n..              ...               ...   \n394               0                 0   \n395               0                 0   \n396               0                 0   \n397               0                 0   \n398               0                 0   \n\n                                     bnbnt_bntProvider  \\\n0                                                    0   \n1                                                    0   \n2                                                    0   \n3                                                    0   \n4                                                    0   \n..                                                 ...   \n394  -0.0001332695966555653014918836024714682139787...   \n395  -0.0001330165180196149952691759422200306458653...   \n396  -0.0001481255220712448192797341871606324658083...   \n397  -0.0001481255220712448192797341871606324658083...   \n398  -0.0001481255220712448192797341871606324658083...   \n\n                                         bnbnt_bntPool  \\\n0                                                    0   \n1                                                    0   \n2                                                    0   \n3                                                    0   \n4                                                    0   \n..                                                 ...   \n394  17.8986455249965291443416771366246198796277476...   \n395  17.9058059691715275254882946659543100870729381...   \n396  18.5912053674909485970509309406542386228855103...   \n397  18.5912053674909485970509309406542386228855103...   \n398  18.5912053674909485970509309406542386228855103...   \n\n                                 bntCurrentPoolFunding  \\\n0                                                    0   \n1                                                    0   \n2                                                    0   \n3                                                    0   \n4                                                    0   \n..                                                 ...   \n394  -0.0264645418847015888538894709068269564166039...   \n395  -0.0264645418847015888538894709068269564166039...   \n396  -0.0264645418847015888538894709068269564166039...   \n397  -0.0264645418847015888538894709068269564166039...   \n398  -0.0264645384738669159335275459934710616951060...   \n\n                                      tknStakedBalance  \\\n0                                                    0   \n1                                                    0   \n2                                                    0   \n3                                                    0   \n4                                                    0   \n..                                                 ...   \n394  -5.2975450034007126744091191785832445151625598...   \n395  -5.2975450034007126744091191785832445151625598...   \n396  -5.2975450034007126744091191785832445151625598...   \n397  -5.2975449718553699081191762160121793596955803...   \n398  -5.2975449718553699081191762160121793596955803...   \n\n                                      bntStakedBalance  \\\n0                                                    0   \n1                                                    0   \n2                                                    0   \n3                                                    0   \n4                                                    0   \n..                                                 ...   \n394  -0.0264645418847015888538894709068269564166039...   \n395  -0.0264645418847015888538894709068269564166039...   \n396  -0.0264645418847015888538894709068269564166039...   \n397  -0.0264645418847015888538894709068269564166039...   \n398  -0.0264645384738669159335275459934710616951060...   \n\n                                   tknTradingLiquidity  \\\n0                                                    0   \n1                                                    0   \n2                                                    0   \n3                                                    0   \n4                                                    0   \n..                                                 ...   \n394  -0.0684495787428759884755615639682029138856437...   \n395  -0.0684495787428759884755615639682029138856437...   \n396  -0.0684495787428759884755615639682029138856437...   \n397  -0.0684496745826874846748247994664351719366407...   \n398  -0.0684479635327343248196124181952822215140653...   \n\n                                   bntTradingLiquidity  \n0                                                    0  \n1                                                    0  \n2                                                    0  \n3                                                    0  \n4                                                    0  \n..                                                 ...  \n394                       -0.0266778475582331017716600  \n395                       -0.0266778475582331017716600  \n396                       -0.0266778475582331017716600  \n397  -0.0266777515663477605730769278681117757751894...  \n398  -0.0266794584813237934245197383747234744779635...  \n\n[399 rows x 22 columns]",
      "text/html": "<div>\n<style scoped>\n    .dataframe tbody tr th:only-of-type {\n        vertical-align: middle;\n    }\n\n    .dataframe tbody tr th {\n        vertical-align: top;\n    }\n\n    .dataframe thead th {\n        text-align: right;\n    }\n</style>\n<table border=\"1\" class=\"dataframe\">\n  <thead>\n    <tr style=\"text-align: right;\">\n      <th></th>\n      <th>amount</th>\n      <th>tkn_dayTrader</th>\n      <th>tkn_tknProvider</th>\n      <th>tkn_bntProvider</th>\n      <th>tkn_masterVault</th>\n      <th>tkn_epVault</th>\n      <th>bnt_dayTrader</th>\n      <th>bnt_tknProvider</th>\n      <th>bnt_bntProvider</th>\n      <th>bnt_masterVault</th>\n      <th>...</th>\n      <th>bntkn_bntProvider</th>\n      <th>bnbnt_dayTrader</th>\n      <th>bnbnt_tknProvider</th>\n      <th>bnbnt_bntProvider</th>\n      <th>bnbnt_bntPool</th>\n      <th>bntCurrentPoolFunding</th>\n      <th>tknStakedBalance</th>\n      <th>bntStakedBalance</th>\n      <th>tknTradingLiquidity</th>\n      <th>bntTradingLiquidity</th>\n    </tr>\n  </thead>\n  <tbody>\n    <tr>\n      <th>0</th>\n      <td>0</td>\n      <td>0</td>\n      <td>0</td>\n      <td>0</td>\n      <td>0</td>\n      <td>0</td>\n      <td>0</td>\n      <td>0</td>\n      <td>0</td>\n      <td>0</td>\n      <td>...</td>\n      <td>0</td>\n      <td>0</td>\n      <td>0</td>\n      <td>0</td>\n      <td>0</td>\n      <td>0</td>\n      <td>0</td>\n      <td>0</td>\n      <td>0</td>\n      <td>0</td>\n    </tr>\n    <tr>\n      <th>1</th>\n      <td>0</td>\n      <td>0</td>\n      <td>0</td>\n      <td>0</td>\n      <td>0</td>\n      <td>0</td>\n      <td>0</td>\n      <td>0</td>\n      <td>0</td>\n      <td>0</td>\n      <td>...</td>\n      <td>0</td>\n      <td>0</td>\n      <td>0</td>\n      <td>0</td>\n      <td>0</td>\n      <td>0</td>\n      <td>0</td>\n      <td>0</td>\n      <td>0</td>\n      <td>0</td>\n    </tr>\n    <tr>\n      <th>2</th>\n      <td>0</td>\n      <td>0</td>\n      <td>0</td>\n      <td>0</td>\n      <td>0</td>\n      <td>0</td>\n      <td>0</td>\n      <td>0</td>\n      <td>0</td>\n      <td>0</td>\n      <td>...</td>\n      <td>0</td>\n      <td>0</td>\n      <td>0</td>\n      <td>0</td>\n      <td>0</td>\n      <td>0</td>\n      <td>0</td>\n      <td>0</td>\n      <td>0</td>\n      <td>0</td>\n    </tr>\n    <tr>\n      <th>3</th>\n      <td>0</td>\n      <td>0</td>\n      <td>0</td>\n      <td>0</td>\n      <td>0</td>\n      <td>0</td>\n      <td>0</td>\n      <td>0</td>\n      <td>0</td>\n      <td>0</td>\n      <td>...</td>\n      <td>0</td>\n      <td>0</td>\n      <td>0</td>\n      <td>0</td>\n      <td>0</td>\n      <td>0</td>\n      <td>0</td>\n      <td>0</td>\n      <td>0</td>\n      <td>0</td>\n    </tr>\n    <tr>\n      <th>4</th>\n      <td>0</td>\n      <td>0</td>\n      <td>0</td>\n      <td>0</td>\n      <td>0</td>\n      <td>0</td>\n      <td>0</td>\n      <td>0</td>\n      <td>0</td>\n      <td>0</td>\n      <td>...</td>\n      <td>0</td>\n      <td>0</td>\n      <td>0</td>\n      <td>0</td>\n      <td>0</td>\n      <td>0</td>\n      <td>0</td>\n      <td>0</td>\n      <td>0</td>\n      <td>0</td>\n    </tr>\n    <tr>\n      <th>...</th>\n      <td>...</td>\n      <td>...</td>\n      <td>...</td>\n      <td>...</td>\n      <td>...</td>\n      <td>...</td>\n      <td>...</td>\n      <td>...</td>\n      <td>...</td>\n      <td>...</td>\n      <td>...</td>\n      <td>...</td>\n      <td>...</td>\n      <td>...</td>\n      <td>...</td>\n      <td>...</td>\n      <td>...</td>\n      <td>...</td>\n      <td>...</td>\n      <td>...</td>\n      <td>...</td>\n    </tr>\n    <tr>\n      <th>394</th>\n      <td>0</td>\n      <td>-0.0344637531561728700123130868669120095120571...</td>\n      <td>2.97147571126667855447104963287414241595398149...</td>\n      <td>0</td>\n      <td>-5.2847472954392852827034983202625549623520755...</td>\n      <td>0</td>\n      <td>0.03019462227076246550098502996151354051636253...</td>\n      <td>0</td>\n      <td>17.8881040101597424065003817785701926819477162...</td>\n      <td>-0.0266778050989036959874511547432680575062618...</td>\n      <td>...</td>\n      <td>0</td>\n      <td>0</td>\n      <td>0</td>\n      <td>-0.0001332695966555653014918836024714682139787...</td>\n      <td>17.8986455249965291443416771366246198796277476...</td>\n      <td>-0.0264645418847015888538894709068269564166039...</td>\n      <td>-5.2975450034007126744091191785832445151625598...</td>\n      <td>-0.0264645418847015888538894709068269564166039...</td>\n      <td>-0.0684495787428759884755615639682029138856437...</td>\n      <td>-0.0266778475582331017716600</td>\n    </tr>\n    <tr>\n      <th>395</th>\n      <td>0</td>\n      <td>-0.0344637531561728700123130868669120095120571...</td>\n      <td>2.97147571126667855447104963287414241595398149...</td>\n      <td>0</td>\n      <td>-5.2847472954392852827034983202625549623520755...</td>\n      <td>0</td>\n      <td>0.03019462227076246550098502996151354051636253...</td>\n      <td>0</td>\n      <td>17.8952610768822360166862944367843482243809836...</td>\n      <td>-0.0266778050989036959874511547432680575062618...</td>\n      <td>...</td>\n      <td>0</td>\n      <td>0</td>\n      <td>0</td>\n      <td>-0.0001330165180196149952691759422200306458653...</td>\n      <td>17.9058059691715275254882946659543100870729381...</td>\n      <td>-0.0264645418847015888538894709068269564166039...</td>\n      <td>-5.2975450034007126744091191785832445151625598...</td>\n      <td>-0.0264645418847015888538894709068269564166039...</td>\n      <td>-0.0684495787428759884755615639682029138856437...</td>\n      <td>-0.0266778475582331017716600</td>\n    </tr>\n    <tr>\n      <th>396</th>\n      <td>0</td>\n      <td>-0.0344637531561728700123130868669120095120571...</td>\n      <td>2.97147571126667855447104963287414241595398149...</td>\n      <td>0</td>\n      <td>-5.2847472954392852827034983202625549623520755...</td>\n      <td>0</td>\n      <td>0.03019462227076246550098502996151354051636253...</td>\n      <td>0</td>\n      <td>18.5791373411378601072489481352240255850858527...</td>\n      <td>-0.0266778050989036959874511547432680575062618...</td>\n      <td>...</td>\n      <td>0</td>\n      <td>0</td>\n      <td>0</td>\n      <td>-0.0001481255220712448192797341871606324658083...</td>\n      <td>18.5912053674909485970509309406542386228855103...</td>\n      <td>-0.0264645418847015888538894709068269564166039...</td>\n      <td>-5.2975450034007126744091191785832445151625598...</td>\n      <td>-0.0264645418847015888538894709068269564166039...</td>\n      <td>-0.0684495787428759884755615639682029138856437...</td>\n      <td>-0.0266778475582331017716600</td>\n    </tr>\n    <tr>\n      <th>397</th>\n      <td>0</td>\n      <td>-0.0345075485238107124344033077417973852324460...</td>\n      <td>2.97147571126667855447104963287414241595398149...</td>\n      <td>0</td>\n      <td>-5.2847629917919956432087850726305941588700157...</td>\n      <td>0</td>\n      <td>0.03034383543381614704138332978760821048679014...</td>\n      <td>0</td>\n      <td>18.5791373411378601072489481352240255850858527...</td>\n      <td>-0.0266777090592640456777391416099062166871191...</td>\n      <td>...</td>\n      <td>0</td>\n      <td>0</td>\n      <td>0</td>\n      <td>-0.0001481255220712448192797341871606324658083...</td>\n      <td>18.5912053674909485970509309406542386228855103...</td>\n      <td>-0.0264645418847015888538894709068269564166039...</td>\n      <td>-5.2975449718553699081191762160121793596955803...</td>\n      <td>-0.0264645418847015888538894709068269564166039...</td>\n      <td>-0.0684496745826874846748247994664351719366407...</td>\n      <td>-0.0266777515663477605730769278681117757751894...</td>\n    </tr>\n    <tr>\n      <th>398</th>\n      <td>0</td>\n      <td>-0.0360121576842372932321821684018257636918417...</td>\n      <td>2.97147571126667855447104963287414241595398149...</td>\n      <td>0</td>\n      <td>-5.2846528573334826346438878550725887340473248...</td>\n      <td>0</td>\n      <td>0.03072104766522560371455184528889660309550507...</td>\n      <td>0</td>\n      <td>18.5791373411378601072489481352240255850858527...</td>\n      <td>-0.0266794151159812037076063367298650720924752...</td>\n      <td>...</td>\n      <td>0</td>\n      <td>0</td>\n      <td>0</td>\n      <td>-0.0001481255220712448192797341871606324658083...</td>\n      <td>18.5912053674909485970509309406542386228855103...</td>\n      <td>-0.0264645384738669159335275459934710616951060...</td>\n      <td>-5.2975449718553699081191762160121793596955803...</td>\n      <td>-0.0264645384738669159335275459934710616951060...</td>\n      <td>-0.0684479635327343248196124181952822215140653...</td>\n      <td>-0.0266794584813237934245197383747234744779635...</td>\n    </tr>\n  </tbody>\n</table>\n<p>399 rows × 22 columns</p>\n</div>"
     },
     "execution_count": 13,
     "metadata": {},
     "output_type": "execute_result"
    }
   ],
   "source": [
    "result_df = (1 - simulation.drop('action', axis=1).replace(0,Decimal(0.0000000000000000001)) / validation.drop('action', axis=1).replace(0,Decimal(0.0000000000000000001))) * 100\n",
    "result_df"
   ],
   "metadata": {
    "collapsed": false,
    "pycharm": {
     "name": "#%%\n"
    }
   }
  },
  {
   "cell_type": "code",
   "execution_count": 14,
   "outputs": [],
   "source": [
    "# comparison = simulation.compare(validation)\n",
    "# comparison"
   ],
   "metadata": {
    "collapsed": false,
    "pycharm": {
     "name": "#%%\n"
    }
   }
  },
  {
   "cell_type": "code",
   "execution_count": 15,
   "outputs": [],
   "source": [
    "# comparison = comparison.reset_index()\n",
    "# comparison"
   ],
   "metadata": {
    "collapsed": false,
    "pycharm": {
     "name": "#%%\n"
    }
   }
  },
  {
   "cell_type": "code",
   "execution_count": 16,
   "outputs": [],
   "source": [
    "# import seaborn as sns\n",
    "# import matplotlib.pyplot as plt\n",
    "#\n",
    "# for col in result_df.columns:\n",
    "#     try:\n",
    "#         fig = plt.figure()\n",
    "#         fig.set_size_inches(6,6)\n",
    "#         print('\\n\\n')\n",
    "#         print(f\"Compare {col}:\")\n",
    "#         sns.lineplot(data = result_df, x = 'index', y = col, color='r')\n",
    "#         plt.show()\n",
    "#     except:\n",
    "#         pass"
   ],
   "metadata": {
    "collapsed": false,
    "pycharm": {
     "name": "#%%\n"
    }
   }
  },
  {
   "cell_type": "code",
   "execution_count": 16,
   "outputs": [],
   "source": [],
   "metadata": {
    "collapsed": false,
    "pycharm": {
     "name": "#%%\n"
    }
   }
  }
 ],
 "metadata": {
  "kernelspec": {
   "name": "pycharm-c19c9c8d",
   "language": "python",
   "display_name": "PyCharm (simulator-v3)"
  },
  "language_info": {
   "codemirror_mode": {
    "name": "ipython",
    "version": 3
   },
   "file_extension": ".py",
   "mimetype": "text/x-python",
   "name": "python",
   "nbconvert_exporter": "python",
   "pygments_lexer": "ipython3",
   "version": "3.8.5"
  }
 },
 "nbformat": 4,
 "nbformat_minor": 2
}