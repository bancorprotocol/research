{
 "cells": [
  {
   "cell_type": "code",
   "execution_count": 1,
   "metadata": {
    "tags": [
     "remove-input"
    ]
   },
   "outputs": [],
   "source": [
    "from datascience import *\n",
    "path_data = '../../../assets/data/'\n",
    "import matplotlib\n",
    "matplotlib.use('Agg')\n",
    "%matplotlib inline\n",
    "import matplotlib.pyplot as plots\n",
    "plots.style.use('fivethirtyeight')\n",
    "import numpy as np"
   ]
  },
  {
   "cell_type": "markdown",
   "metadata": {
    "pycharm": {
     "name": "#%% md\n"
    }
   },
   "source": [
    "# vBNT\n",
    "\n",
    "The Bancor Governance Token, vBNT, is imperfectly distributed in Bancor v2.1. The argument that vBNT generated at a 1:1 rate with BNT deposits results in a fair governance structure is flawed, because BNT stakes grow over time. For example, consider an extreme situation where two different users deposit 100 BNT each, but several years apart. Further, assume that the first user has not withdrawn their BNT stake, and has happily watched it accrue additional BNT value over time, culminating in a net 100% ROI.Therefore, the first user's stake is worth 200 BNT by the time the second user decides to participate. As the second user stakes 100 BNT, and receives 100 vBNT, he gains a voting right on-par with a stakeholder twice his mass. In short, the size of a user's stake becomes decoupled from the power of their voice in government over time.\n",
    "\n",
    "The effect on governance is probably quite minor, and it is forgivable to waive the observations made above as hyperbole. However, vBNT has garnered an important, additional use case since the deployment of Bancor v2.1. With the introduction of the Bancor Vortex, vBNT is akin to a credit rating; users with more vBNT can effectively borrow larger amounts than users with less vBNT. In the example above, the first user's ability to access credit is diminishing over time, and his risk profile for exercising this right is twice as steep as the second user. Therefore, governance aside, the 1:1 BNT:vBNT issuance at the time of deposit remains an issue, albeit an obscure one.\n",
    "\n",
    "There are only awkward solutions to this apparent disagreement in Bancor v2.1. For example, a user may be encouraged to unstake/restake regularly, which would allow his vBNT balance to update to reflect his status as a stakeholder. Alternatively, additional vBNT issuance could be supported via a rebase mechanism, or via a method on the insurance contract that allows the initial stake amount to be updated. In reality, none of these solutions are very practical.\n",
    "\n",
    "Single sided pool tokens provide a perfect mechanism to address all of these issues simultaneously. Consider that the bnBNT token is a literal representation of a stakeholders relative status; if you hold 1% of the bnBNT, you are effectively holding 1% of the underlying BNT. Therefore, the fairness of issuing vBNT at a 1:1 rate with pool tokens is demonstrable. Moreover, this change does not introduce any new problems, whatsoever.\n",
    "\n",
    "-   vBNT issuance is always proportional to the stakeholder status. \n",
    "\n",
    "-   Access to credit via the Vortex is always commensurate with your staked amount. \n",
    "\n",
    "-   The amount of vBNT required to withdraw BNT from the system is identical for all users."
   ]
  }
 ],
 "metadata": {
  "kernelspec": {
   "name": "pycharm-c19c9c8d",
   "language": "python",
   "display_name": "PyCharm (simulator-v3)"
  },
  "language_info": {
   "codemirror_mode": {
    "name": "ipython",
    "version": 3
   },
   "file_extension": ".py",
   "mimetype": "text/x-python",
   "name": "python",
   "nbconvert_exporter": "python",
   "pygments_lexer": "ipython3",
   "version": "3.7.8"
  }
 },
 "nbformat": 4,
 "nbformat_minor": 1
}