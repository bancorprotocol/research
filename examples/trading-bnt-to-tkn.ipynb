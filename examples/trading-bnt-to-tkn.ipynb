{
 "cells": [
  {
   "cell_type": "code",
   "execution_count": 1,
   "metadata": {
    "tags": [
     "remove-input"
    ]
   },
   "outputs": [],
   "source": [
    "from datascience import *\n",
    "from datascience.predicates import are\n",
    "path_data = '../../../../data/'\n",
    "import numpy as np\n",
    "import matplotlib\n",
    "matplotlib.use('Agg')\n",
    "%matplotlib inline\n",
    "import matplotlib.pyplot as plots\n",
    "plots.style.use('fivethirtyeight')\n",
    "import warnings\n",
    "warnings.simplefilter(action=\"ignore\", category=FutureWarning)\n",
    "\n",
    "from urllib.request import urlopen \n",
    "import re\n",
    "from bancor3_simulator.protocol import BancorV3\n",
    "from bancor3_simulator.core.settings import GlobalSettings\n",
    "from decimal import Decimal\n",
    "from fractions import Fraction\n",
    "import pandas as pd\n",
    "\n",
    "# Recall from an earlier chapter that we already defined the cooldown period and the exit fees as follows.\n",
    "cooldown_time: int = 7\n",
    "withdrawal_fee: Decimal = Decimal('0.0025')\n",
    "whitelisted_tokens: list = ['bnt', 'eth', 'wbtc', 'link']\n",
    "bnt_funding_limit: Decimal = Decimal('40000')\n",
    "bnt_min_liquidity: Decimal = Decimal('10000')\n",
    "price_feeds = pd.DataFrame({'INDX':[0],\n",
    "                            'bnt':[2.5],\n",
    "                            'link':[15.00],\n",
    "                            'eth':[2500.00],\n",
    "                            'wbtc':[40000.00]})\n",
    "\n",
    "network_fee: Decimal = Decimal('0.2')\n",
    "trading_fee: Decimal = Decimal('0.01')\n",
    "\n",
    "# There are other possible configuration settings available, however for the present purpose we will use the defaults.\n",
    "v3 = BancorV3(whitelisted_tokens=whitelisted_tokens,\n",
    "              network_fee=network_fee,\n",
    "              trading_fee=trading_fee,\n",
    "              cooldown_time=cooldown_time,\n",
    "              withdrawal_fee=withdrawal_fee,\n",
    "              bnt_min_liquidity=bnt_min_liquidity,\n",
    "              bnt_funding_limit=bnt_funding_limit,\n",
    "              price_feeds=price_feeds)\n",
    "\n",
    "v3.create_user('Alice')\n",
    "v3.create_user('Bob')\n",
    "v3.create_user('Charlie')\n",
    "\n",
    "# The actual deposits.\n",
    "\n",
    "v3.stake(tkn_amt=100, tkn_name='eth', user_name='Alice')\n",
    "\n",
    "v3.stake(tkn_amt=10000, tkn_name='link', user_name='Charlie')\n",
    "\n",
    "v3.stake(tkn_amt=100, tkn_name='wbtc', user_name='Bob')\n",
    "\n",
    "v3.stake(tkn_amt=1, tkn_name='eth', user_name='Alice')\n",
    "\n",
    "v3.stake(tkn_amt=1, tkn_name='link', user_name='Charlie')\n",
    "\n",
    "v3.stake(tkn_amt=1, tkn_name='wbtc', user_name='Bob')\n",
    "\n",
    "v3.dao_msig_init_pools(whitelisted_tokens)\n",
    "\n",
    "# v3.describe()\n",
    "\n",
    "def read_url(url): \n",
    "    return re.sub('\\\\s+', ' ', urlopen(url).read().decode())"
   ]
  },
  {
   "cell_type": "markdown",
   "metadata": {},
   "source": [
    "# Trading and Fees - BNT to TKN\n",
    "\n",
    "Continuing from the system state described above, the details of how the trading pools are used as a price oracle, the\n",
    "behavior and purpose of the price EMA, and the response of the staking ledger to the accumulation of swap revenue will\n",
    "now be discussed in detail. For the purpose of demonstration, let each of these pools have a 1% swap fee, and a Vortex\n",
    "rate of 20%."
   ]
  },
  {
   "cell_type": "code",
   "execution_count": 2,
   "outputs": [
    {
     "data": {
      "text/plain": "                   Trading Liquidity              Vault            Staking  \\\n0                                      bnt=60000.000000   bnt=60000.000000   \n1     bnt=20000.000000 eth=20.000000     eth=101.000000     eth=101.000000   \n2     bnt=20000.000000 wbtc=1.250000    wbtc=101.000000    wbtc=101.000000   \n3  bnt=20000.000000 link=3333.333333  link=10001.000000  link=10001.000000   \n4                                                                            \n\n       ERC20 Contracts        Vortex External Protection     Protocol WalletState  \n0   bnbnt=60000.000000  bnt=0.000000        bnt=0.000000  bnbnt=60000.000000  \n1     bneth=101.000000                      eth=0.000000                      \n2    bnwbtc=101.000000                     wbtc=0.000000                      \n3  bnlink=10001.000000                     link=0.000000                      \n4                                                                             ",
      "text/html": "<div>\n<style scoped>\n    .dataframe tbody tr th:only-of-type {\n        vertical-align: middle;\n    }\n\n    .dataframe tbody tr th {\n        vertical-align: top;\n    }\n\n    .dataframe thead th {\n        text-align: right;\n    }\n</style>\n<table border=\"1\" class=\"dataframe\">\n  <thead>\n    <tr style=\"text-align: right;\">\n      <th></th>\n      <th>Trading Liquidity</th>\n      <th>Vault</th>\n      <th>Staking</th>\n      <th>ERC20 Contracts</th>\n      <th>Vortex</th>\n      <th>External Protection</th>\n      <th>Protocol WalletState</th>\n    </tr>\n  </thead>\n  <tbody>\n    <tr>\n      <th>0</th>\n      <td></td>\n      <td>bnt=60000.000000</td>\n      <td>bnt=60000.000000</td>\n      <td>bnbnt=60000.000000</td>\n      <td>bnt=0.000000</td>\n      <td>bnt=0.000000</td>\n      <td>bnbnt=60000.000000</td>\n    </tr>\n    <tr>\n      <th>1</th>\n      <td>bnt=20000.000000 eth=20.000000</td>\n      <td>eth=101.000000</td>\n      <td>eth=101.000000</td>\n      <td>bneth=101.000000</td>\n      <td></td>\n      <td>eth=0.000000</td>\n      <td></td>\n    </tr>\n    <tr>\n      <th>2</th>\n      <td>bnt=20000.000000 wbtc=1.250000</td>\n      <td>wbtc=101.000000</td>\n      <td>wbtc=101.000000</td>\n      <td>bnwbtc=101.000000</td>\n      <td></td>\n      <td>wbtc=0.000000</td>\n      <td></td>\n    </tr>\n    <tr>\n      <th>3</th>\n      <td>bnt=20000.000000 link=3333.333333</td>\n      <td>link=10001.000000</td>\n      <td>link=10001.000000</td>\n      <td>bnlink=10001.000000</td>\n      <td></td>\n      <td>link=0.000000</td>\n      <td></td>\n    </tr>\n    <tr>\n      <th>4</th>\n      <td></td>\n      <td></td>\n      <td></td>\n      <td></td>\n      <td></td>\n      <td></td>\n      <td></td>\n    </tr>\n  </tbody>\n</table>\n</div>"
     },
     "execution_count": 2,
     "metadata": {},
     "output_type": "execute_result"
    }
   ],
   "source": [
    "v3.describe()"
   ],
   "metadata": {
    "collapsed": false,
    "pycharm": {
     "name": "#%%\n"
    }
   }
  },
  {
   "cell_type": "markdown",
   "source": [
    "Assume a trader swaps 2,000 BNT for LINK; from the perspective of the trader, 2,000 BNT are sent into the vault, and 300\n",
    "LINK are removed from the vault and sent back to him. The change to the system state is much more involved. The change\n",
    "in the vault balances agrees with the trader; 2,000 BNT is received, and 300 LINK was emitted. However, the change in\n",
    "the available trading liquidity presents the first evidence of a consequence of the new design."
   ],
   "metadata": {
    "collapsed": false
   }
  },
  {
   "cell_type": "code",
   "execution_count": 3,
   "outputs": [
    {
     "data": {
      "text/plain": "               Trading Liquidity           Vault          Staking  \\\n0                                 bnt=62000.0000   bnt=60000.0000   \n1     bnt=20000.0000 eth=20.0000    eth=101.0000     eth=101.0000   \n2     bnt=20000.0000 wbtc=1.2500   wbtc=101.0000    wbtc=101.0000   \n3  bnt=21995.6044 link=3033.3333  link=9701.0000  link=10003.4242   \n4                                                                   \n\n     ERC20 Contracts      Vortex External Protection   Protocol WalletState  \n0   bnbnt=60000.0000  bnt=4.3956          bnt=0.0000  bnbnt=60000.0000  \n1     bneth=101.0000                      eth=0.0000                    \n2    bnwbtc=101.0000                     wbtc=0.0000                    \n3  bnlink=10001.0000                     link=0.0000                    \n4                                                                       ",
      "text/html": "<div>\n<style scoped>\n    .dataframe tbody tr th:only-of-type {\n        vertical-align: middle;\n    }\n\n    .dataframe tbody tr th {\n        vertical-align: top;\n    }\n\n    .dataframe thead th {\n        text-align: right;\n    }\n</style>\n<table border=\"1\" class=\"dataframe\">\n  <thead>\n    <tr style=\"text-align: right;\">\n      <th></th>\n      <th>Trading Liquidity</th>\n      <th>Vault</th>\n      <th>Staking</th>\n      <th>ERC20 Contracts</th>\n      <th>Vortex</th>\n      <th>External Protection</th>\n      <th>Protocol WalletState</th>\n    </tr>\n  </thead>\n  <tbody>\n    <tr>\n      <th>0</th>\n      <td></td>\n      <td>bnt=62000.0000</td>\n      <td>bnt=60000.0000</td>\n      <td>bnbnt=60000.0000</td>\n      <td>bnt=4.3956</td>\n      <td>bnt=0.0000</td>\n      <td>bnbnt=60000.0000</td>\n    </tr>\n    <tr>\n      <th>1</th>\n      <td>bnt=20000.0000 eth=20.0000</td>\n      <td>eth=101.0000</td>\n      <td>eth=101.0000</td>\n      <td>bneth=101.0000</td>\n      <td></td>\n      <td>eth=0.0000</td>\n      <td></td>\n    </tr>\n    <tr>\n      <th>2</th>\n      <td>bnt=20000.0000 wbtc=1.2500</td>\n      <td>wbtc=101.0000</td>\n      <td>wbtc=101.0000</td>\n      <td>bnwbtc=101.0000</td>\n      <td></td>\n      <td>wbtc=0.0000</td>\n      <td></td>\n    </tr>\n    <tr>\n      <th>3</th>\n      <td>bnt=21995.6044 link=3033.3333</td>\n      <td>link=9701.0000</td>\n      <td>link=10003.4242</td>\n      <td>bnlink=10001.0000</td>\n      <td></td>\n      <td>link=0.0000</td>\n      <td></td>\n    </tr>\n    <tr>\n      <th>4</th>\n      <td></td>\n      <td></td>\n      <td></td>\n      <td></td>\n      <td></td>\n      <td></td>\n      <td></td>\n    </tr>\n  </tbody>\n</table>\n</div>"
     },
     "execution_count": 3,
     "metadata": {},
     "output_type": "execute_result"
    }
   ],
   "source": [
    "v3.create_user('Trader')\n",
    "\n",
    "v3.trade(swap_amount=2000, source_token='bnt',  target_token='link', user_name='Trader')\n",
    "v3.describe(decimals=4)"
   ],
   "metadata": {
    "collapsed": false,
    "pycharm": {
     "name": "#%%\n"
    }
   }
  },
  {
   "cell_type": "markdown",
   "source": [
    "While the vault balance of BNT was increased by the expected amount, the change in the available trading liquidity is less than this amount. The difference is due to the effect of the Bancor Vortex, which confiscates a portion of trade revenue as a form of insurance premium, that helps to stabilise the BNT economy. In this case, the fee apparent to the trader is 0.303 LINK; the Bancor protocol awards 80% of this amount to LINK liquidity providers (i.e. 0.2424 LINK) by simply iterating the staking ledger. The remaining 0.0606 LINK are used to perform a reverse swap, and purchase BNT atomically at the tail end of the trade. This BNT is removed from the trading liquidity, but it continues to reside in the vault. The fraction of the BNT tokens belonging to the vortex is recorded on the Vortex Ledger; the fate of these BNT tokens is discussed in detail in a later section.\n",
    "\n",
    "Therefore, during the trade the following components of the system were changed:\n",
    "\n",
    "1. The vault balances. The change in the vault is always in agreement with the trader's intuition. In this case, the trader sent 2,000 BNT into the vault, and received 300 LINK from it. Therefore, the vault balance of BNT must have increased by 2,000 BNT, and decreased by 300 LINK.\n",
    "\n",
    "2. The staking ledger. Trading fees are always taken from the target asset. Therefore, the value of the bnLINK pool token must be appreciated by 80% of the fee apparent to the trader (i.e. the total fee - vortex rate). A total of 2.42424 LINK tokens are added to the staked amount, which becomes the property of the bnLINK pool token holders.\n",
    "\n",
    "3. The vortex ledger. One fifth of the fee paid by the trader is collected, and swapped back to BNT. The BNT purchased during this step is left where it is inside the vault, and the amount is added to the vortex ledger.\n",
    "\n",
    "The trading liquidity. After accounting for the effect of the collection by the vortex, and the swap back to BNT, the reason for the changes in the trading liquidity to appear as they do, become apparent.\n",
    "\n",
    "The change in the BNT and LINK trading liquidity can be expressed as follows:\n",
    "\n",
    "<p align=\"center\">\n",
    "  <img style=\"filter: invert(1) hue-rotate(180deg);\" src=\"https://lh3.googleusercontent.com/kk9N2rYg_vT85LUHgA_RNrg04kHac4We8KvNBtV3_dw0K1q6LcAfJ7_NF3R5h1JEsuT5pn5S0Azi5vQ5PaFoHxMw3StkoADFpyKN6EQiXt1vON1gbbhfi5ayDraD2U8vE5FNbgCw\" alt=\"\">\n",
    "</p>\n",
    "\n",
    "<p align=\"center\">\n",
    "  <img style=\"filter: invert(1) hue-rotate(180deg);\" src=\"https://lh3.googleusercontent.com/sg_YY1cyR6IsWBKfiUbj5v9rREz9A7PO8FmpK8uPov7SmyoYrK4H6FroNDZ7EOJ9LcC0IOVggaLW4J3rVx1rwrEzl0Aqd55Ec_5d_cXQwNhjWlWNO73Dr3XJq_wBAoXvdC_i3gTf\" alt=\"\">\n",
    "</p>\n",
    "\n",
    "<p align=\"center\">\n",
    "  <img style=\"filter: invert(1) hue-rotate(180deg);\" src=\"https://lh4.googleusercontent.com/SvZOi1YaY_Bw_oNVmqje8I5GK2qfhh_e-ZYJpFrFAuMv94vB56IfTqE_cQT5ZXH5V-zAMV0ZSoVGFBK6UQL13xmF_RGha6aWDGHtxtyain_XDaYcmqHOdOrp-JW04h2pJ6-IUzk0\" alt=\"\">\n",
    "</p>\n",
    "\n",
    "where a1† and a1 are the BNT trading liquidity balances of the pool after and before the trade, respectively, b1† and b1 are the LINK trading liquidity balances of the pool after and before the trade, respectively, d1 is the pool fee (e.g. 0.01, or 1%) and e is the Vortex rate (e.g. 0.2, or 20%). The number of BNT tokens being sent into the vault is x, and the number of LINK tokens sent back to the trader is tknOut. The change in the TKN trading liquidity (and therefore the amount of TKN received by the trader) is unchanged from the standard case. The calculation of the fee awarded to liquidity providers, denominated in its own TKN and added to the staking ledger is:\n",
    "\n",
    "<p align=\"center\">\n",
    "  <img style=\"filter: invert(1) hue-rotate(180deg);\" src=\"https://lh5.googleusercontent.com/NUQMFTb0HxIOqjiTTDtdH6idb2J9MZ5yRQgWM-M-m64TXOkOfEnRRAHOeHVTGrqjC4N0eumSVWGuYOz_uDhJ81QpyHN_-u-IzQwxPf7PKdfp_oG6fOzz0_X7tejwut7RSn5Jb9oV\" alt=\"\">\n",
    "</p>\n",
    "\n",
    "And the calculation for the fee given to the Bancor Vortex, denominated exclusively in BNT and added to the vortex ledger is:\n",
    "\n",
    "<p align=\"center\">\n",
    "  <img style=\"filter: invert(1) hue-rotate(180deg);\" src=\"https://lh3.googleusercontent.com/ouesDSiw2euSrnst3f32ojpU4-XeZeZ6DcYdSOClV9YUiqbp9MAH8lWnz75j2v53GqjViQexkkDiOfQ_gWBEtkiyMztrFCvFVMdxqYRhnK0Vynew01aos3O3_GXzR8IYYjRLZKL6\" alt=\"\">\n",
    "</p>"
   ],
   "metadata": {
    "collapsed": false,
    "pycharm": {
     "name": "#%% md\n"
    }
   }
  }
 ],
 "metadata": {
  "kernelspec": {
   "name": "pycharm-c19c9c8d",
   "language": "python",
   "display_name": "PyCharm (simulator-v3)"
  },
  "language_info": {
   "codemirror_mode": {
    "name": "ipython",
    "version": 3
   },
   "file_extension": ".py",
   "mimetype": "text/x-python",
   "name": "python",
   "nbconvert_exporter": "python",
   "pygments_lexer": "ipython3",
   "version": "3.8.5"
  }
 },
 "nbformat": 4,
 "nbformat_minor": 2
}