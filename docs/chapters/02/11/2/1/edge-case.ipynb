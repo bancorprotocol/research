{
 "cells": [
  {
   "cell_type": "code",
   "execution_count": 1,
   "metadata": {
    "tags": [
     "remove-input"
    ]
   },
   "outputs": [],
   "source": [
    "from datascience import *\n",
    "import matplotlib\n",
    "path_data = '../../../assets/data/'\n",
    "matplotlib.use('Agg')\n",
    "%matplotlib inline\n",
    "import matplotlib.pyplot as plots\n",
    "plots.style.use('fivethirtyeight')\n",
    "import numpy as np"
   ]
  },
  {
   "cell_type": "markdown",
   "metadata": {},
   "source": [
    "# Edge Case: Lack of Protocol bnBNT\n",
    "\n",
    "If the situation ever arises where the protocol has no bnBNT to issue, then a slightly modified process is adopted. The calculations are performed the same way; however, David's BNT is instead accepted directly into the vault, and the bnBNT pool tokens are minted for him at face-value. To examine this situation, assume that a fifth participant, Erin, a BNT whale, wishes to provide 11,000,000 BNT to the protocol following David's withdrawal. Such a deposit has a fair evaluation of 10,112,410.16 bnBNT - more than the totality of the protocol's bnBNT holdings.\n",
    "\n",
    "To handle this edge case, the protocol first calculates what proportion of the BNT supplied by Erin can be burned. This example is easy, as the entirety of the bnBNT supply is currently owned by the protocol. Therefore, the balance of the staking ledger, 9,789,951 BNT is sufficient to deplete its existing bnBNT supply. Therefore, this amount of Erin's BNT is destroyed. The remaining balance of Erin's deposit, 1,210,049 BNT, is added directly to the vault, and to the staking ledger. Erin receives bnBNT tokens, and vBNT, as normal.\n",
    "\n",
    "![](https://lh3.googleusercontent.com/qVIZ2C8-kKgYdo9qHcv89twLEhT150ykgYyQgVW0xM259bQgZ4w0elhtNFwP_2TvU56bjGyInjliwu7yKOl2zpgvJfucRZ9QV7OTdbC5sfKyBMpJSwRv5jwYYqmG8sZH51xEnrIv)\n"
   ]
  },
  {
   "cell_type": "code",
   "execution_count": null,
   "metadata": {},
   "outputs": [],
   "source": []
  }
 ],
 "metadata": {
  "anaconda-cloud": {},
  "kernelspec": {
   "name": "pycharm-c19c9c8d",
   "language": "python",
   "display_name": "PyCharm (simulator-v3)"
  },
  "language_info": {
   "codemirror_mode": {
    "name": "ipython",
    "version": 3
   },
   "file_extension": ".py",
   "mimetype": "text/x-python",
   "name": "python",
   "nbconvert_exporter": "python",
   "pygments_lexer": "ipython3",
   "version": "3.9.7"
  }
 },
 "nbformat": 4,
 "nbformat_minor": 1
}