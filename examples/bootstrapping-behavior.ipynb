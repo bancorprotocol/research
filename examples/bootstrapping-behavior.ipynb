{
 "cells": [
  {
   "cell_type": "code",
   "execution_count": 1,
   "metadata": {
    "tags": [
     "remove-input"
    ]
   },
   "outputs": [],
   "source": [
    "from datascience import *\n",
    "from datascience.predicates import are\n",
    "path_data = '../../../../data/'\n",
    "import matplotlib\n",
    "matplotlib.use('Agg')\n",
    "%matplotlib inline\n",
    "import matplotlib.pyplot as plots\n",
    "plots.style.use('fivethirtyeight')\n",
    "import warnings\n",
    "warnings.simplefilter(action=\"ignore\", category=FutureWarning)\n",
    "\n",
    "from urllib.request import urlopen \n",
    "import re\n",
    "from bancor_research.bancor_simulator.v3.spec.network import BancorDapp\n",
    "\n",
    "def read_url(url): \n",
    "    return re.sub('\\\\s+', ' ', urlopen(url).read().decode())"
   ]
  },
  {
   "cell_type": "markdown",
   "metadata": {},
   "source": [
    "# Bootstrapping Behavior\n",
    "\n",
    "To illustrate how the system works, we will constrain the system to an oversimplified case with only three pools: ETH, wBTC and LINK, in addition to the BNT omnipool. Assume that these pools have just recently earned whitelist status, they each have a BNT funding limit of 40,000 BNT, and all are completely empty."
   ]
  },
  {
   "cell_type": "code",
   "execution_count": 2,
   "outputs": [],
   "source": [
    "import pandas as pd\n",
    "from decimal import Decimal"
   ],
   "metadata": {
    "collapsed": false,
    "pycharm": {
     "name": "#%%\n"
    }
   }
  },
  {
   "cell_type": "code",
   "execution_count": 3,
   "outputs": [],
   "source": [
    "whitelisted_tokens = {\n",
    "    \"eth\": {\n",
    "        \"trading_fee\": \"1%\",\n",
    "        \"bnt_funding_limit\": \"1000000\"\n",
    "    },\n",
    "    \"link\": {\n",
    "        \"trading_fee\": \"1%\",\n",
    "        \"bnt_funding_limit\": \"1000000\"\n",
    "    },\n",
    "    \"wbtc\": {\n",
    "        \"trading_fee\": \"1%\",\n",
    "        \"bnt_funding_limit\": \"1000000\"\n",
    "    }\n",
    "}"
   ],
   "metadata": {
    "collapsed": false,
    "pycharm": {
     "name": "#%%\n"
    }
   }
  },
  {
   "cell_type": "code",
   "execution_count": 4,
   "outputs": [],
   "source": [
    "bnt_funding_limit: Decimal = Decimal('40000')"
   ],
   "metadata": {
    "collapsed": false,
    "pycharm": {
     "name": "#%%\n"
    }
   }
  },
  {
   "cell_type": "markdown",
   "source": [
    "The protocol is in the 'bootstrapping phase' for all three assets. UserState can still interact with the system and deposit liquidity - which is essential for the process. The system needs to attract sufficient quantities of each token to overcome the minimum liquidity threshold prior to the activation of each liquidity pool, respectively. The default minimum liquidity threshold is 10,000 BNT (previously 1,000 BNT in an earlier draft of this proposal), meaning that the pool must mint 10,000 BNT during its activation, and therefore there must be at least a commensurate value of TKN available in the vault."
   ],
   "metadata": {
    "collapsed": false
   }
  },
  {
   "cell_type": "code",
   "execution_count": 5,
   "outputs": [],
   "source": [
    "bnt_min_liquidity: Decimal = Decimal('10000')"
   ],
   "metadata": {
    "collapsed": false,
    "pycharm": {
     "name": "#%%\n"
    }
   }
  },
  {
   "cell_type": "markdown",
   "source": [
    "Assume that the prices of each asset are as follows: BNT = 2.50, LINK = 15.00, ETH = 2,500.00, wBTC = 40,000.00. Therefore, to bootstrap each pool, at least $25,000 of each asset must be available in the vault."
   ],
   "metadata": {
    "collapsed": false
   }
  },
  {
   "cell_type": "code",
   "execution_count": 6,
   "outputs": [],
   "source": [
    "# Recall from an earlier chapter that we already defined the cooldown period and the exit fees as follows.\n",
    "cooldown_time: int = 7\n",
    "iter_limit = 10000\n",
    "withdrawal_fee: Decimal = Decimal('0.0025')\n",
    "price_feeds = pd.DataFrame({'INDX':[0 for i in range(iter_limit + 1)],\n",
    "                            'bnt':[2.5 for i in range(iter_limit + 1)],\n",
    "                            'link':[15.00 for i in range(iter_limit + 1)],\n",
    "                            'eth':[2500.00 for i in range(iter_limit + 1)],\n",
    "                            'wbtc':[40000.00 for i in range(iter_limit + 1)]})\n",
    "\n",
    "network_fee: Decimal = Decimal('0.2')\n",
    "\n",
    "# There are other possible configuration settings available, however for the present purpose we will use the defaults.\n",
    "v3 = BancorDapp(whitelisted_tokens=whitelisted_tokens,\n",
    "              network_fee=network_fee,\n",
    "              cooldown_time=cooldown_time,\n",
    "              withdrawal_fee=withdrawal_fee,\n",
    "              bnt_min_liquidity=bnt_min_liquidity,\n",
    "              price_feeds=price_feeds)\n"
   ],
   "metadata": {
    "collapsed": false,
    "pycharm": {
     "name": "#%%\n"
    }
   }
  },
  {
   "cell_type": "markdown",
   "source": [
    "During the bootstrap phase, Alice deposits 100 ETH, Bob deposits 100 bnwBTC, and Charlie deposits 10,000 LINK. By default, the initial pool token value is 1:1 with the underlying asset, and only changes after revenue begins accumulating. Therefore, each of these characters receive 100 bnETH, 100 bnwBTC and 1,000 bnLINK pool tokens for their contribution, respectively,"
   ],
   "metadata": {
    "collapsed": false
   }
  },
  {
   "cell_type": "code",
   "execution_count": 7,
   "metadata": {},
   "outputs": [],
   "source": [
    "v3.create_user('Alice')\n",
    "v3.create_user('Bob')\n",
    "v3.create_user('Charlie')\n",
    "\n",
    "v3.set_user_balance(tkn_amt='101', tkn_name='eth', user_name='Alice')\n",
    "v3.set_user_balance(tkn_amt='101', tkn_name='wbtc', user_name='Bob')\n",
    "v3.set_user_balance(tkn_amt='10001', tkn_name='link', user_name='Charlie')"
   ]
  },
  {
   "cell_type": "markdown",
   "source": [
    "However, note that the trading liquidity available on the pools remains unchanged until the BancorDAO msig signers initialize each pool.\n",
    "\n",
    "The condition to initialize a pool is that there must be at least 10,000 BNT ($25,000 at the quoted price) worth of each token - in this case all three satisfy the criteria. The BancorDAO msig signers then sign a transaction with the rate of BNT/TKN for each of the bootstrapping assets. In this case, BNT/ETH = 1,000, BNT/wBTC = 16,000, BNT/LINK =  6. The trading liquidity on each pool begins with exactly 10,000 BNT and the commensurate amount of TKN as determined by the rates supplied by the msig signers.\n",
    "\n",
    "It is important to note here that each of these pools have been stated to have a 100,000 BNT funding limit, 10× higher than the bootstrapping depth. This is because the pools should equilibrate with the rest of the market and grow in a controlled manner. Therefore, only a fraction of the available ETH, wBTC and LINK has been committed to trading at this stage. The other important change is that the BNT that was created by the protocol causes its own pool token to be issued, bnBNT,\n",
    "\n",
    "Fortunately, the rate at which the pool can grow is independent of the new liquidity additions, and is determined entirely by the token balances available in the vault. To demonstrate, suppose that each user deposits just 1 more TKN each to their respective pools; Alice deposits 1 ETH, Bob deposits 1 wBTC, and Charlie deposits 1 LINK. Each of these tokens is accepted directly to the vault. Assume that no trading has yet occurred on the pool, therefore the valuation of each pool token remains at 1:1 for the time being. Therefore, each user is issued one additional bnTKN."
   ],
   "metadata": {
    "collapsed": false
   }
  },
  {
   "cell_type": "code",
   "execution_count": 7,
   "outputs": [],
   "source": [],
   "metadata": {
    "collapsed": false,
    "pycharm": {
     "name": "#%%\n"
    }
   }
  },
  {
   "cell_type": "code",
   "execution_count": 8,
   "outputs": [
    {
     "data": {
      "text/plain": "                                           eth          link        wbtc  bnt  \\\n1 Account Alice                       1.000000           NaN         NaN  NaN   \n          Bob                              NaN           NaN    1.000000  NaN   \n          Charlie                          NaN      1.000000         NaN  NaN   \n2 Pool    a: TKN Staked Balance     100.000000  10000.000000  100.000000  NaN   \n          b: TKN Trading Liquidity    0.000000      0.000000    0.000000  NaN   \n          c: BNT Trading Liquidity    0.000000      0.000000    0.000000  NaN   \n          d: BNT Current Funding      0.000000      0.000000    0.000000  NaN   \n          e: Spot Rate                0.000000      0.000000    0.000000  NaN   \n          f: Average Rate             0.000000      0.000000    0.000000  NaN   \n          g: Average Inverse Rate     0.000000      0.000000    0.000000  NaN   \n3 Network Master Vault              100.000000  10000.000000  100.000000  NaN   \n          Protection Vault            0.000000      0.000000    0.000000  NaN   \n          Protocol Equity                  NaN           NaN         NaN  NaN   \n          Rewards Vault                    NaN           NaN         NaN  NaN   \n\n                                         bneth        bnlink      bnwbtc  \n1 Account Alice                     100.000000           NaN         NaN  \n          Bob                              NaN           NaN  100.000000  \n          Charlie                          NaN  10000.000000         NaN  \n2 Pool    a: TKN Staked Balance       0.000000      0.000000    0.000000  \n          b: TKN Trading Liquidity    0.000000      0.000000    0.000000  \n          c: BNT Trading Liquidity    0.000000      0.000000    0.000000  \n          d: BNT Current Funding      0.000000      0.000000    0.000000  \n          e: Spot Rate                0.000000      0.000000    0.000000  \n          f: Average Rate             0.000000      0.000000    0.000000  \n          g: Average Inverse Rate     0.000000      0.000000    0.000000  \n3 Network Master Vault                     NaN           NaN         NaN  \n          Protection Vault                 NaN           NaN         NaN  \n          Protocol Equity             0.000000      0.000000    0.000000  \n          Rewards Vault               0.000000      0.000000    0.000000  ",
      "text/html": "<div>\n<style scoped>\n    .dataframe tbody tr th:only-of-type {\n        vertical-align: middle;\n    }\n\n    .dataframe tbody tr th {\n        vertical-align: top;\n    }\n\n    .dataframe thead th {\n        text-align: right;\n    }\n</style>\n<table border=\"1\" class=\"dataframe\">\n  <thead>\n    <tr style=\"text-align: right;\">\n      <th></th>\n      <th></th>\n      <th></th>\n      <th>eth</th>\n      <th>link</th>\n      <th>wbtc</th>\n      <th>bnt</th>\n      <th>bneth</th>\n      <th>bnlink</th>\n      <th>bnwbtc</th>\n    </tr>\n  </thead>\n  <tbody>\n    <tr>\n      <th rowspan=\"3\" valign=\"top\">1</th>\n      <th rowspan=\"3\" valign=\"top\">Account</th>\n      <th>Alice</th>\n      <td>1.000000</td>\n      <td>NaN</td>\n      <td>NaN</td>\n      <td>NaN</td>\n      <td>100.000000</td>\n      <td>NaN</td>\n      <td>NaN</td>\n    </tr>\n    <tr>\n      <th>Bob</th>\n      <td>NaN</td>\n      <td>NaN</td>\n      <td>1.000000</td>\n      <td>NaN</td>\n      <td>NaN</td>\n      <td>NaN</td>\n      <td>100.000000</td>\n    </tr>\n    <tr>\n      <th>Charlie</th>\n      <td>NaN</td>\n      <td>1.000000</td>\n      <td>NaN</td>\n      <td>NaN</td>\n      <td>NaN</td>\n      <td>10000.000000</td>\n      <td>NaN</td>\n    </tr>\n    <tr>\n      <th rowspan=\"7\" valign=\"top\">2</th>\n      <th rowspan=\"7\" valign=\"top\">Pool</th>\n      <th>a: TKN Staked Balance</th>\n      <td>100.000000</td>\n      <td>10000.000000</td>\n      <td>100.000000</td>\n      <td>NaN</td>\n      <td>0.000000</td>\n      <td>0.000000</td>\n      <td>0.000000</td>\n    </tr>\n    <tr>\n      <th>b: TKN Trading Liquidity</th>\n      <td>0.000000</td>\n      <td>0.000000</td>\n      <td>0.000000</td>\n      <td>NaN</td>\n      <td>0.000000</td>\n      <td>0.000000</td>\n      <td>0.000000</td>\n    </tr>\n    <tr>\n      <th>c: BNT Trading Liquidity</th>\n      <td>0.000000</td>\n      <td>0.000000</td>\n      <td>0.000000</td>\n      <td>NaN</td>\n      <td>0.000000</td>\n      <td>0.000000</td>\n      <td>0.000000</td>\n    </tr>\n    <tr>\n      <th>d: BNT Current Funding</th>\n      <td>0.000000</td>\n      <td>0.000000</td>\n      <td>0.000000</td>\n      <td>NaN</td>\n      <td>0.000000</td>\n      <td>0.000000</td>\n      <td>0.000000</td>\n    </tr>\n    <tr>\n      <th>e: Spot Rate</th>\n      <td>0.000000</td>\n      <td>0.000000</td>\n      <td>0.000000</td>\n      <td>NaN</td>\n      <td>0.000000</td>\n      <td>0.000000</td>\n      <td>0.000000</td>\n    </tr>\n    <tr>\n      <th>f: Average Rate</th>\n      <td>0.000000</td>\n      <td>0.000000</td>\n      <td>0.000000</td>\n      <td>NaN</td>\n      <td>0.000000</td>\n      <td>0.000000</td>\n      <td>0.000000</td>\n    </tr>\n    <tr>\n      <th>g: Average Inverse Rate</th>\n      <td>0.000000</td>\n      <td>0.000000</td>\n      <td>0.000000</td>\n      <td>NaN</td>\n      <td>0.000000</td>\n      <td>0.000000</td>\n      <td>0.000000</td>\n    </tr>\n    <tr>\n      <th rowspan=\"4\" valign=\"top\">3</th>\n      <th rowspan=\"4\" valign=\"top\">Network</th>\n      <th>Master Vault</th>\n      <td>100.000000</td>\n      <td>10000.000000</td>\n      <td>100.000000</td>\n      <td>NaN</td>\n      <td>NaN</td>\n      <td>NaN</td>\n      <td>NaN</td>\n    </tr>\n    <tr>\n      <th>Protection Vault</th>\n      <td>0.000000</td>\n      <td>0.000000</td>\n      <td>0.000000</td>\n      <td>NaN</td>\n      <td>NaN</td>\n      <td>NaN</td>\n      <td>NaN</td>\n    </tr>\n    <tr>\n      <th>Protocol Equity</th>\n      <td>NaN</td>\n      <td>NaN</td>\n      <td>NaN</td>\n      <td>NaN</td>\n      <td>0.000000</td>\n      <td>0.000000</td>\n      <td>0.000000</td>\n    </tr>\n    <tr>\n      <th>Rewards Vault</th>\n      <td>NaN</td>\n      <td>NaN</td>\n      <td>NaN</td>\n      <td>NaN</td>\n      <td>0.000000</td>\n      <td>0.000000</td>\n      <td>0.000000</td>\n    </tr>\n  </tbody>\n</table>\n</div>"
     },
     "execution_count": 8,
     "metadata": {},
     "output_type": "execute_result"
    }
   ],
   "source": [
    "# The actual deposits.\n",
    "\n",
    "v3.deposit(tkn_amt='100', tkn_name='eth', user_name='Alice')\n",
    "\n",
    "v3.deposit(tkn_amt='10000', tkn_name='link', user_name='Charlie')\n",
    "\n",
    "v3.deposit(tkn_amt='100', tkn_name='wbtc', user_name='Bob')\n",
    "\n",
    "v3.describe(decimals=6)"
   ],
   "metadata": {
    "collapsed": false,
    "pycharm": {
     "name": "#%%\n"
    }
   }
  },
  {
   "cell_type": "code",
   "execution_count": 13,
   "outputs": [
    {
     "name": "stdout",
     "output_type": "stream",
     "text": [
      "Bootstrap requirements met for eth\n",
      "Bootstrap requirements met for link\n",
      "Bootstrap requirements met for wbtc\n"
     ]
    },
    {
     "data": {
      "text/plain": "                                             eth          link          wbtc  \\\n1 Account Alice                         0.000000           NaN           NaN   \n          Bob                                NaN           NaN      0.000000   \n          Charlie                            NaN      0.000000           NaN   \n2 Pool    a: TKN Staked Balance       101.000000  10001.000000    101.000000   \n          b: TKN Trading Liquidity     20.000000   3333.333333      1.250000   \n          c: BNT Trading Liquidity  20000.000000  20000.000000  20000.000000   \n          d: BNT Current Funding    20000.000000  20000.000000  20000.000000   \n          e: Spot Rate               1000.000000      6.000000  16000.000000   \n          f: Average Rate            1000.000000      6.000000  16000.000000   \n          g: Average Inverse Rate       0.000000      0.000000      0.000000   \n3 Network Master Vault                101.000000  10001.000000    101.000000   \n          Protection Vault              0.000000      0.000000      0.000000   \n          Protocol Equity                    NaN           NaN           NaN   \n          Rewards Vault                      NaN           NaN           NaN   \n\n                                    bnt       bneth        bnlink      bnwbtc  \n1 Account Alice                     NaN  101.000000           NaN         NaN  \n          Bob                       NaN         NaN           NaN  101.000000  \n          Charlie                   NaN         NaN  10001.000000         NaN  \n2 Pool    a: TKN Staked Balance     NaN    0.000000      0.000000    0.000000  \n          b: TKN Trading Liquidity  NaN    0.000000      0.000000    0.000000  \n          c: BNT Trading Liquidity  NaN    0.000000      0.000000    0.000000  \n          d: BNT Current Funding    NaN    0.000000      0.000000    0.000000  \n          e: Spot Rate              NaN    0.000000      0.000000    0.000000  \n          f: Average Rate           NaN    0.000000      0.000000    0.000000  \n          g: Average Inverse Rate   NaN    0.000000      0.000000    0.000000  \n3 Network Master Vault              NaN         NaN           NaN         NaN  \n          Protection Vault          NaN         NaN           NaN         NaN  \n          Protocol Equity           NaN    0.000000      0.000000    0.000000  \n          Rewards Vault             NaN    0.000000      0.000000    0.000000  ",
      "text/html": "<div>\n<style scoped>\n    .dataframe tbody tr th:only-of-type {\n        vertical-align: middle;\n    }\n\n    .dataframe tbody tr th {\n        vertical-align: top;\n    }\n\n    .dataframe thead th {\n        text-align: right;\n    }\n</style>\n<table border=\"1\" class=\"dataframe\">\n  <thead>\n    <tr style=\"text-align: right;\">\n      <th></th>\n      <th></th>\n      <th></th>\n      <th>eth</th>\n      <th>link</th>\n      <th>wbtc</th>\n      <th>bnt</th>\n      <th>bneth</th>\n      <th>bnlink</th>\n      <th>bnwbtc</th>\n    </tr>\n  </thead>\n  <tbody>\n    <tr>\n      <th rowspan=\"3\" valign=\"top\">1</th>\n      <th rowspan=\"3\" valign=\"top\">Account</th>\n      <th>Alice</th>\n      <td>0.000000</td>\n      <td>NaN</td>\n      <td>NaN</td>\n      <td>NaN</td>\n      <td>101.000000</td>\n      <td>NaN</td>\n      <td>NaN</td>\n    </tr>\n    <tr>\n      <th>Bob</th>\n      <td>NaN</td>\n      <td>NaN</td>\n      <td>0.000000</td>\n      <td>NaN</td>\n      <td>NaN</td>\n      <td>NaN</td>\n      <td>101.000000</td>\n    </tr>\n    <tr>\n      <th>Charlie</th>\n      <td>NaN</td>\n      <td>0.000000</td>\n      <td>NaN</td>\n      <td>NaN</td>\n      <td>NaN</td>\n      <td>10001.000000</td>\n      <td>NaN</td>\n    </tr>\n    <tr>\n      <th rowspan=\"7\" valign=\"top\">2</th>\n      <th rowspan=\"7\" valign=\"top\">Pool</th>\n      <th>a: TKN Staked Balance</th>\n      <td>101.000000</td>\n      <td>10001.000000</td>\n      <td>101.000000</td>\n      <td>NaN</td>\n      <td>0.000000</td>\n      <td>0.000000</td>\n      <td>0.000000</td>\n    </tr>\n    <tr>\n      <th>b: TKN Trading Liquidity</th>\n      <td>20.000000</td>\n      <td>3333.333333</td>\n      <td>1.250000</td>\n      <td>NaN</td>\n      <td>0.000000</td>\n      <td>0.000000</td>\n      <td>0.000000</td>\n    </tr>\n    <tr>\n      <th>c: BNT Trading Liquidity</th>\n      <td>20000.000000</td>\n      <td>20000.000000</td>\n      <td>20000.000000</td>\n      <td>NaN</td>\n      <td>0.000000</td>\n      <td>0.000000</td>\n      <td>0.000000</td>\n    </tr>\n    <tr>\n      <th>d: BNT Current Funding</th>\n      <td>20000.000000</td>\n      <td>20000.000000</td>\n      <td>20000.000000</td>\n      <td>NaN</td>\n      <td>0.000000</td>\n      <td>0.000000</td>\n      <td>0.000000</td>\n    </tr>\n    <tr>\n      <th>e: Spot Rate</th>\n      <td>1000.000000</td>\n      <td>6.000000</td>\n      <td>16000.000000</td>\n      <td>NaN</td>\n      <td>0.000000</td>\n      <td>0.000000</td>\n      <td>0.000000</td>\n    </tr>\n    <tr>\n      <th>f: Average Rate</th>\n      <td>1000.000000</td>\n      <td>6.000000</td>\n      <td>16000.000000</td>\n      <td>NaN</td>\n      <td>0.000000</td>\n      <td>0.000000</td>\n      <td>0.000000</td>\n    </tr>\n    <tr>\n      <th>g: Average Inverse Rate</th>\n      <td>0.000000</td>\n      <td>0.000000</td>\n      <td>0.000000</td>\n      <td>NaN</td>\n      <td>0.000000</td>\n      <td>0.000000</td>\n      <td>0.000000</td>\n    </tr>\n    <tr>\n      <th rowspan=\"4\" valign=\"top\">3</th>\n      <th rowspan=\"4\" valign=\"top\">Network</th>\n      <th>Master Vault</th>\n      <td>101.000000</td>\n      <td>10001.000000</td>\n      <td>101.000000</td>\n      <td>NaN</td>\n      <td>NaN</td>\n      <td>NaN</td>\n      <td>NaN</td>\n    </tr>\n    <tr>\n      <th>Protection Vault</th>\n      <td>0.000000</td>\n      <td>0.000000</td>\n      <td>0.000000</td>\n      <td>NaN</td>\n      <td>NaN</td>\n      <td>NaN</td>\n      <td>NaN</td>\n    </tr>\n    <tr>\n      <th>Protocol Equity</th>\n      <td>NaN</td>\n      <td>NaN</td>\n      <td>NaN</td>\n      <td>NaN</td>\n      <td>0.000000</td>\n      <td>0.000000</td>\n      <td>0.000000</td>\n    </tr>\n    <tr>\n      <th>Rewards Vault</th>\n      <td>NaN</td>\n      <td>NaN</td>\n      <td>NaN</td>\n      <td>NaN</td>\n      <td>0.000000</td>\n      <td>0.000000</td>\n      <td>0.000000</td>\n    </tr>\n  </tbody>\n</table>\n</div>"
     },
     "execution_count": 13,
     "metadata": {},
     "output_type": "execute_result"
    }
   ],
   "source": [
    "v3.deposit(tkn_amt='1', tkn_name='eth', user_name='Alice')\n",
    "\n",
    "v3.deposit(tkn_amt='1', tkn_name='link', user_name='Charlie')\n",
    "\n",
    "v3.deposit(tkn_amt='1', tkn_name='wbtc', user_name='Bob')\n",
    "\n",
    "for tkn_name in whitelisted_tokens:\n",
    "    v3.enable_trading(tkn_name)\n",
    "\n",
    "v3.describe(decimals=6)"
   ],
   "metadata": {
    "collapsed": false,
    "pycharm": {
     "name": "#%%\n"
    }
   }
  },
  {
   "cell_type": "markdown",
   "source": [
    "and the balances of the staking ledger are updated accordingly."
   ],
   "metadata": {
    "collapsed": false,
    "pycharm": {
     "name": "#%% md\n"
    }
   }
  },
  {
   "cell_type": "code",
   "execution_count": 13,
   "outputs": [],
   "source": [],
   "metadata": {
    "collapsed": false,
    "pycharm": {
     "name": "#%%\n"
    }
   }
  },
  {
   "cell_type": "code",
   "execution_count": null,
   "outputs": [],
   "source": [],
   "metadata": {
    "collapsed": false,
    "pycharm": {
     "name": "#%%\n"
    }
   }
  }
 ],
 "metadata": {
  "kernelspec": {
   "name": "python3",
   "language": "python",
   "display_name": "Python 3 (ipykernel)"
  },
  "language_info": {
   "codemirror_mode": {
    "name": "ipython",
    "version": 3
   },
   "file_extension": ".py",
   "mimetype": "text/x-python",
   "name": "python",
   "nbconvert_exporter": "python",
   "pygments_lexer": "ipython3",
   "version": "3.8.5"
  }
 },
 "nbformat": 4,
 "nbformat_minor": 2
}