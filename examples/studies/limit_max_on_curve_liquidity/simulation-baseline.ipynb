{
 "cells": [
  {
   "cell_type": "code",
   "execution_count": 2,
   "outputs": [],
   "source": [
    "from bancor_research import DEFAULT\n",
    "import pandas as pd\n",
    "from bancor_research.bancor_simulator.v3.spec import BancorDapp\n",
    "\n"
   ],
   "metadata": {
    "collapsed": false,
    "pycharm": {
     "name": "#%%\n"
    }
   }
  },
  {
   "cell_type": "code",
   "execution_count": 3,
   "outputs": [],
   "source": [
    "DEFAULT_TRADING_FEE = DEFAULT.TRADING_FEE\n",
    "DEFAULT_BNT_FUNDING_LIMIT = DEFAULT.BNT_FUNDING_LIMIT\n",
    "PRICE_FEEDS_PATH = DEFAULT.PRICE_FEEDS_PATH"
   ],
   "metadata": {
    "collapsed": false,
    "pycharm": {
     "name": "#%%\n"
    }
   }
  },
  {
   "cell_type": "code",
   "execution_count": 4,
   "outputs": [
    {
     "data": {
      "text/plain": "            indx       bat       bnt       dai       enj   link      mana  \\\n0              0  0.182214  0.372701  1.008796  0.063398   2.20  0.034675   \n1              1  0.182214  0.372701  1.008796  0.063398   2.20  0.034675   \n2              2  0.182214  0.372701  1.008796  0.063398   2.20  0.034675   \n3              3  0.182195  0.385374  1.010015  0.063418   2.20  0.034666   \n4              4  0.182195  0.385374  1.010015  0.063418   2.20  0.034666   \n...          ...       ...       ...       ...       ...    ...       ...   \n1052506  1052506  0.786363  4.260000  0.999664  1.860000  28.01  0.890839   \n1052507  1052507  0.786363  4.260000  0.999664  1.860000  28.01  0.890839   \n1052508  1052508  0.786363  4.260000  0.999664  1.860000  28.01  0.890839   \n1052509  1052509  0.785455  4.260000  0.999836  1.870000  27.99  0.887993   \n1052510  1052510  0.785455  4.260000  0.999836  1.870000  27.99  0.887993   \n\n            matic      mkr    mln     ocean       omg       ren       rsr  \\\n0        0.015172   492.57   4.02  0.018389  1.176558  0.081889  0.002620   \n1        0.015172   492.57   4.02  0.018389  1.176558  0.081889  0.002620   \n2        0.015172   492.57   4.02  0.018389  1.176558  0.081889  0.002620   \n3        0.015118   493.42   4.02  0.018423  1.176224  0.082005  0.002614   \n4        0.015118   493.42   4.02  0.018423  1.176224  0.082005  0.002614   \n...           ...      ...    ...       ...       ...       ...       ...   \n1052506  1.630000  3825.03  93.38  0.971470  6.210000  0.611442  0.048066   \n1052507  1.630000  3825.03  93.38  0.971470  6.210000  0.611442  0.048066   \n1052508  1.630000  3825.03  93.38  0.971470  6.210000  0.611442  0.048066   \n1052509  1.630000  3817.94  93.13  0.974647  6.220000  0.611192  0.048178   \n1052510  1.630000  3817.94  93.13  0.974647  6.220000  0.611192  0.048178   \n\n             usdc      usdt      wbtc      eth  \n0        1.002780  1.002638   9956.32   185.65  \n1        1.002780  1.002638   9956.32   185.65  \n2        1.002780  1.002638   9956.32   185.65  \n3        1.002988  1.002065   9972.69   185.78  \n4        1.002988  1.002065   9972.69   185.78  \n...           ...       ...       ...      ...  \n1052506  1.000561  1.001124  48694.03  3231.03  \n1052507  1.000561  1.001124  48694.03  3231.03  \n1052508  1.000561  1.001124  48694.03  3231.03  \n1052509  0.999534  1.000742  48696.27  3228.71  \n1052510  0.999534  1.000742  48696.27  3228.71  \n\n[1052511 rows x 18 columns]",
      "text/html": "<div>\n<style scoped>\n    .dataframe tbody tr th:only-of-type {\n        vertical-align: middle;\n    }\n\n    .dataframe tbody tr th {\n        vertical-align: top;\n    }\n\n    .dataframe thead th {\n        text-align: right;\n    }\n</style>\n<table border=\"1\" class=\"dataframe\">\n  <thead>\n    <tr style=\"text-align: right;\">\n      <th></th>\n      <th>indx</th>\n      <th>bat</th>\n      <th>bnt</th>\n      <th>dai</th>\n      <th>enj</th>\n      <th>link</th>\n      <th>mana</th>\n      <th>matic</th>\n      <th>mkr</th>\n      <th>mln</th>\n      <th>ocean</th>\n      <th>omg</th>\n      <th>ren</th>\n      <th>rsr</th>\n      <th>usdc</th>\n      <th>usdt</th>\n      <th>wbtc</th>\n      <th>eth</th>\n    </tr>\n  </thead>\n  <tbody>\n    <tr>\n      <th>0</th>\n      <td>0</td>\n      <td>0.182214</td>\n      <td>0.372701</td>\n      <td>1.008796</td>\n      <td>0.063398</td>\n      <td>2.20</td>\n      <td>0.034675</td>\n      <td>0.015172</td>\n      <td>492.57</td>\n      <td>4.02</td>\n      <td>0.018389</td>\n      <td>1.176558</td>\n      <td>0.081889</td>\n      <td>0.002620</td>\n      <td>1.002780</td>\n      <td>1.002638</td>\n      <td>9956.32</td>\n      <td>185.65</td>\n    </tr>\n    <tr>\n      <th>1</th>\n      <td>1</td>\n      <td>0.182214</td>\n      <td>0.372701</td>\n      <td>1.008796</td>\n      <td>0.063398</td>\n      <td>2.20</td>\n      <td>0.034675</td>\n      <td>0.015172</td>\n      <td>492.57</td>\n      <td>4.02</td>\n      <td>0.018389</td>\n      <td>1.176558</td>\n      <td>0.081889</td>\n      <td>0.002620</td>\n      <td>1.002780</td>\n      <td>1.002638</td>\n      <td>9956.32</td>\n      <td>185.65</td>\n    </tr>\n    <tr>\n      <th>2</th>\n      <td>2</td>\n      <td>0.182214</td>\n      <td>0.372701</td>\n      <td>1.008796</td>\n      <td>0.063398</td>\n      <td>2.20</td>\n      <td>0.034675</td>\n      <td>0.015172</td>\n      <td>492.57</td>\n      <td>4.02</td>\n      <td>0.018389</td>\n      <td>1.176558</td>\n      <td>0.081889</td>\n      <td>0.002620</td>\n      <td>1.002780</td>\n      <td>1.002638</td>\n      <td>9956.32</td>\n      <td>185.65</td>\n    </tr>\n    <tr>\n      <th>3</th>\n      <td>3</td>\n      <td>0.182195</td>\n      <td>0.385374</td>\n      <td>1.010015</td>\n      <td>0.063418</td>\n      <td>2.20</td>\n      <td>0.034666</td>\n      <td>0.015118</td>\n      <td>493.42</td>\n      <td>4.02</td>\n      <td>0.018423</td>\n      <td>1.176224</td>\n      <td>0.082005</td>\n      <td>0.002614</td>\n      <td>1.002988</td>\n      <td>1.002065</td>\n      <td>9972.69</td>\n      <td>185.78</td>\n    </tr>\n    <tr>\n      <th>4</th>\n      <td>4</td>\n      <td>0.182195</td>\n      <td>0.385374</td>\n      <td>1.010015</td>\n      <td>0.063418</td>\n      <td>2.20</td>\n      <td>0.034666</td>\n      <td>0.015118</td>\n      <td>493.42</td>\n      <td>4.02</td>\n      <td>0.018423</td>\n      <td>1.176224</td>\n      <td>0.082005</td>\n      <td>0.002614</td>\n      <td>1.002988</td>\n      <td>1.002065</td>\n      <td>9972.69</td>\n      <td>185.78</td>\n    </tr>\n    <tr>\n      <th>...</th>\n      <td>...</td>\n      <td>...</td>\n      <td>...</td>\n      <td>...</td>\n      <td>...</td>\n      <td>...</td>\n      <td>...</td>\n      <td>...</td>\n      <td>...</td>\n      <td>...</td>\n      <td>...</td>\n      <td>...</td>\n      <td>...</td>\n      <td>...</td>\n      <td>...</td>\n      <td>...</td>\n      <td>...</td>\n      <td>...</td>\n    </tr>\n    <tr>\n      <th>1052506</th>\n      <td>1052506</td>\n      <td>0.786363</td>\n      <td>4.260000</td>\n      <td>0.999664</td>\n      <td>1.860000</td>\n      <td>28.01</td>\n      <td>0.890839</td>\n      <td>1.630000</td>\n      <td>3825.03</td>\n      <td>93.38</td>\n      <td>0.971470</td>\n      <td>6.210000</td>\n      <td>0.611442</td>\n      <td>0.048066</td>\n      <td>1.000561</td>\n      <td>1.001124</td>\n      <td>48694.03</td>\n      <td>3231.03</td>\n    </tr>\n    <tr>\n      <th>1052507</th>\n      <td>1052507</td>\n      <td>0.786363</td>\n      <td>4.260000</td>\n      <td>0.999664</td>\n      <td>1.860000</td>\n      <td>28.01</td>\n      <td>0.890839</td>\n      <td>1.630000</td>\n      <td>3825.03</td>\n      <td>93.38</td>\n      <td>0.971470</td>\n      <td>6.210000</td>\n      <td>0.611442</td>\n      <td>0.048066</td>\n      <td>1.000561</td>\n      <td>1.001124</td>\n      <td>48694.03</td>\n      <td>3231.03</td>\n    </tr>\n    <tr>\n      <th>1052508</th>\n      <td>1052508</td>\n      <td>0.786363</td>\n      <td>4.260000</td>\n      <td>0.999664</td>\n      <td>1.860000</td>\n      <td>28.01</td>\n      <td>0.890839</td>\n      <td>1.630000</td>\n      <td>3825.03</td>\n      <td>93.38</td>\n      <td>0.971470</td>\n      <td>6.210000</td>\n      <td>0.611442</td>\n      <td>0.048066</td>\n      <td>1.000561</td>\n      <td>1.001124</td>\n      <td>48694.03</td>\n      <td>3231.03</td>\n    </tr>\n    <tr>\n      <th>1052509</th>\n      <td>1052509</td>\n      <td>0.785455</td>\n      <td>4.260000</td>\n      <td>0.999836</td>\n      <td>1.870000</td>\n      <td>27.99</td>\n      <td>0.887993</td>\n      <td>1.630000</td>\n      <td>3817.94</td>\n      <td>93.13</td>\n      <td>0.974647</td>\n      <td>6.220000</td>\n      <td>0.611192</td>\n      <td>0.048178</td>\n      <td>0.999534</td>\n      <td>1.000742</td>\n      <td>48696.27</td>\n      <td>3228.71</td>\n    </tr>\n    <tr>\n      <th>1052510</th>\n      <td>1052510</td>\n      <td>0.785455</td>\n      <td>4.260000</td>\n      <td>0.999836</td>\n      <td>1.870000</td>\n      <td>27.99</td>\n      <td>0.887993</td>\n      <td>1.630000</td>\n      <td>3817.94</td>\n      <td>93.13</td>\n      <td>0.974647</td>\n      <td>6.220000</td>\n      <td>0.611192</td>\n      <td>0.048178</td>\n      <td>0.999534</td>\n      <td>1.000742</td>\n      <td>48696.27</td>\n      <td>3228.71</td>\n    </tr>\n  </tbody>\n</table>\n<p>1052511 rows × 18 columns</p>\n</div>"
     },
     "execution_count": 4,
     "metadata": {},
     "output_type": "execute_result"
    }
   ],
   "source": [
    "price_feed = pd.read_parquet(PRICE_FEEDS_PATH)\n",
    "price_feed"
   ],
   "metadata": {
    "collapsed": false,
    "pycharm": {
     "name": "#%%\n"
    }
   }
  },
  {
   "cell_type": "code",
   "execution_count": 5,
   "outputs": [],
   "source": [
    "price_feed_tokens = price_feed.T\n",
    "price_feed_tokens = price_feed_tokens.reset_index().rename({'index':'tkn_name'}, axis=1)\n",
    "price_feed_tokens = price_feed_tokens['tkn_name'].unique()"
   ],
   "metadata": {
    "collapsed": false,
    "pycharm": {
     "name": "#%%\n"
    }
   }
  },
  {
   "cell_type": "code",
   "execution_count": 6,
   "metadata": {
    "collapsed": true
   },
   "outputs": [
    {
     "data": {
      "text/plain": "                                          user_id  blocknumber  \\\n0      0xb0B958398ABB0b5DB4ce4d7598Fb868f5A00f372     14611842   \n1      0xb0B958398ABB0b5DB4ce4d7598Fb868f5A00f372     14611854   \n2      0xb0B958398ABB0b5DB4ce4d7598Fb868f5A00f372     14611870   \n3      0xb0B958398ABB0b5DB4ce4d7598Fb868f5A00f372     14611880   \n4      0xb0B958398ABB0b5DB4ce4d7598Fb868f5A00f372     14611897   \n...                                           ...          ...   \n39855  0x7e84638EfcF13bb710D591048532AB09990B7c4a     15304180   \n39856  0x7e84638EfcF13bb710D591048532AB09990B7c4a     15304199   \n39857  0x7e84638EfcF13bb710D591048532AB09990B7c4a     15304206   \n39858  0xf3Db3e79cD7dd756d4BABAC4B7D64003fe4B33fA     15304602   \n39859  0xf3Db3e79cD7dd756d4BABAC4B7D64003fe4B33fA     15304607   \n\n                            time   timestamp poolSymbol  tokenAmount_real  \\\n0      2022-04-18 22:38:30+00:00  1650321510        eth               NaN   \n1      2022-04-18 22:40:44+00:00  1650321644        eth               NaN   \n2      2022-04-18 22:43:01+00:00  1650321781        dai               NaN   \n3      2022-04-18 22:45:09+00:00  1650321909        dai               NaN   \n4      2022-04-18 22:49:18+00:00  1650322158        eth               NaN   \n...                          ...         ...        ...               ...   \n39855  2022-08-08 22:11:43+00:00  1659996703        psp       8007.191743   \n39856  2022-08-08 22:15:42+00:00  1659996942        psp       8007.191743   \n39857  2022-08-08 22:16:36+00:00  1659996996        psp       8007.191743   \n39858  2022-08-08 23:40:06+00:00  1660002006       link        234.392076   \n39859  2022-08-08 23:40:53+00:00  1660002053       link        234.392076   \n\n       tokenAmount_real_usd targetSymbol          event_name  timestep  \n0                       NaN          NaN             deposit         0  \n1                       NaN          NaN             deposit         1  \n2                       NaN          NaN             deposit         2  \n3                       NaN          NaN             deposit         3  \n4                       NaN          NaN             deposit         4  \n...                     ...          ...                 ...       ...  \n39855              0.000000          NaN             deposit     39855  \n39856              0.000000          NaN  withdraw_initiated     39856  \n39857              0.000000          NaN  withdraw_completed     39857  \n39858           1945.021066          NaN  withdraw_initiated     39858  \n39859           1945.021066          NaN  withdraw_completed     39859  \n\n[39860 rows x 10 columns]",
      "text/html": "<div>\n<style scoped>\n    .dataframe tbody tr th:only-of-type {\n        vertical-align: middle;\n    }\n\n    .dataframe tbody tr th {\n        vertical-align: top;\n    }\n\n    .dataframe thead th {\n        text-align: right;\n    }\n</style>\n<table border=\"1\" class=\"dataframe\">\n  <thead>\n    <tr style=\"text-align: right;\">\n      <th></th>\n      <th>user_id</th>\n      <th>blocknumber</th>\n      <th>time</th>\n      <th>timestamp</th>\n      <th>poolSymbol</th>\n      <th>tokenAmount_real</th>\n      <th>tokenAmount_real_usd</th>\n      <th>targetSymbol</th>\n      <th>event_name</th>\n      <th>timestep</th>\n    </tr>\n  </thead>\n  <tbody>\n    <tr>\n      <th>0</th>\n      <td>0xb0B958398ABB0b5DB4ce4d7598Fb868f5A00f372</td>\n      <td>14611842</td>\n      <td>2022-04-18 22:38:30+00:00</td>\n      <td>1650321510</td>\n      <td>eth</td>\n      <td>NaN</td>\n      <td>NaN</td>\n      <td>NaN</td>\n      <td>deposit</td>\n      <td>0</td>\n    </tr>\n    <tr>\n      <th>1</th>\n      <td>0xb0B958398ABB0b5DB4ce4d7598Fb868f5A00f372</td>\n      <td>14611854</td>\n      <td>2022-04-18 22:40:44+00:00</td>\n      <td>1650321644</td>\n      <td>eth</td>\n      <td>NaN</td>\n      <td>NaN</td>\n      <td>NaN</td>\n      <td>deposit</td>\n      <td>1</td>\n    </tr>\n    <tr>\n      <th>2</th>\n      <td>0xb0B958398ABB0b5DB4ce4d7598Fb868f5A00f372</td>\n      <td>14611870</td>\n      <td>2022-04-18 22:43:01+00:00</td>\n      <td>1650321781</td>\n      <td>dai</td>\n      <td>NaN</td>\n      <td>NaN</td>\n      <td>NaN</td>\n      <td>deposit</td>\n      <td>2</td>\n    </tr>\n    <tr>\n      <th>3</th>\n      <td>0xb0B958398ABB0b5DB4ce4d7598Fb868f5A00f372</td>\n      <td>14611880</td>\n      <td>2022-04-18 22:45:09+00:00</td>\n      <td>1650321909</td>\n      <td>dai</td>\n      <td>NaN</td>\n      <td>NaN</td>\n      <td>NaN</td>\n      <td>deposit</td>\n      <td>3</td>\n    </tr>\n    <tr>\n      <th>4</th>\n      <td>0xb0B958398ABB0b5DB4ce4d7598Fb868f5A00f372</td>\n      <td>14611897</td>\n      <td>2022-04-18 22:49:18+00:00</td>\n      <td>1650322158</td>\n      <td>eth</td>\n      <td>NaN</td>\n      <td>NaN</td>\n      <td>NaN</td>\n      <td>deposit</td>\n      <td>4</td>\n    </tr>\n    <tr>\n      <th>...</th>\n      <td>...</td>\n      <td>...</td>\n      <td>...</td>\n      <td>...</td>\n      <td>...</td>\n      <td>...</td>\n      <td>...</td>\n      <td>...</td>\n      <td>...</td>\n      <td>...</td>\n    </tr>\n    <tr>\n      <th>39855</th>\n      <td>0x7e84638EfcF13bb710D591048532AB09990B7c4a</td>\n      <td>15304180</td>\n      <td>2022-08-08 22:11:43+00:00</td>\n      <td>1659996703</td>\n      <td>psp</td>\n      <td>8007.191743</td>\n      <td>0.000000</td>\n      <td>NaN</td>\n      <td>deposit</td>\n      <td>39855</td>\n    </tr>\n    <tr>\n      <th>39856</th>\n      <td>0x7e84638EfcF13bb710D591048532AB09990B7c4a</td>\n      <td>15304199</td>\n      <td>2022-08-08 22:15:42+00:00</td>\n      <td>1659996942</td>\n      <td>psp</td>\n      <td>8007.191743</td>\n      <td>0.000000</td>\n      <td>NaN</td>\n      <td>withdraw_initiated</td>\n      <td>39856</td>\n    </tr>\n    <tr>\n      <th>39857</th>\n      <td>0x7e84638EfcF13bb710D591048532AB09990B7c4a</td>\n      <td>15304206</td>\n      <td>2022-08-08 22:16:36+00:00</td>\n      <td>1659996996</td>\n      <td>psp</td>\n      <td>8007.191743</td>\n      <td>0.000000</td>\n      <td>NaN</td>\n      <td>withdraw_completed</td>\n      <td>39857</td>\n    </tr>\n    <tr>\n      <th>39858</th>\n      <td>0xf3Db3e79cD7dd756d4BABAC4B7D64003fe4B33fA</td>\n      <td>15304602</td>\n      <td>2022-08-08 23:40:06+00:00</td>\n      <td>1660002006</td>\n      <td>link</td>\n      <td>234.392076</td>\n      <td>1945.021066</td>\n      <td>NaN</td>\n      <td>withdraw_initiated</td>\n      <td>39858</td>\n    </tr>\n    <tr>\n      <th>39859</th>\n      <td>0xf3Db3e79cD7dd756d4BABAC4B7D64003fe4B33fA</td>\n      <td>15304607</td>\n      <td>2022-08-08 23:40:53+00:00</td>\n      <td>1660002053</td>\n      <td>link</td>\n      <td>234.392076</td>\n      <td>1945.021066</td>\n      <td>NaN</td>\n      <td>withdraw_completed</td>\n      <td>39859</td>\n    </tr>\n  </tbody>\n</table>\n<p>39860 rows × 10 columns</p>\n</div>"
     },
     "execution_count": 6,
     "metadata": {},
     "output_type": "execute_result"
    }
   ],
   "source": [
    "historical_actions = pd.read_csv('data/historical_actions.csv')\n",
    "historical_actions['timestep'] = [i for i in range(len(historical_actions))]\n",
    "\n",
    "simulation_tokens = historical_actions['poolSymbol'].unique()\n",
    "\n",
    "simulation_tokens = [tkn for tkn in simulation_tokens if tkn in price_feed_tokens]\n",
    "historical_actions"
   ]
  },
  {
   "cell_type": "code",
   "execution_count": 7,
   "outputs": [
    {
     "data": {
      "text/plain": "['trade',\n 'withdraw_pending',\n 'deposit',\n 'withdraw_canceled',\n 'withdraw_completed',\n 'withdraw_initiated']"
     },
     "execution_count": 7,
     "metadata": {},
     "output_type": "execute_result"
    }
   ],
   "source": [
    "event_names = list(set([i for i in historical_actions['event_name'].values]))\n",
    "event_names"
   ],
   "metadata": {
    "collapsed": false,
    "pycharm": {
     "name": "#%%\n"
    }
   }
  },
  {
   "cell_type": "code",
   "execution_count": 8,
   "outputs": [
    {
     "data": {
      "text/plain": "           date targetSymbol  trade_count  sourceAmount_real  \\\n0    2022-04-20          dai            3           0.003000   \n1    2022-04-22          dai            2           0.202159   \n2    2022-04-25          eth            1        1628.103621   \n3    2022-04-26          dai            3        7525.703648   \n4    2022-04-26          eth            1        2403.614895   \n..          ...          ...          ...                ...   \n572  2022-07-13          ren            3        1768.630143   \n573  2022-07-13         usdc           11       12820.582315   \n574  2022-07-13         vbnt           13       17417.396004   \n575  2022-07-13         wbtc            8       77132.736065   \n576  2022-07-13          zcn            3        2857.359303   \n\n     sourceAmount_real_usd  targetAmount_real  targetAmount_real_usd  \\\n0                 9.176236           9.205342               9.140794   \n1               601.632956         618.054738             601.526021   \n2              3614.390039           1.217790            3649.399144   \n3             15846.229453       16368.808603           15957.237984   \n4              5071.627429           1.801257            5103.502330   \n..                     ...                ...                    ...   \n572            1315.906537       11368.242105            1331.755493   \n573           39171.489157       40310.194464           40287.308795   \n574           17347.157459       49549.095840           17188.881593   \n575           40043.358891           2.075963           39984.699361   \n576            1643.043365        8442.390858            1667.280439   \n\n     trade_revenue_real  trade_revenue_usd  bntprice  ...   surplus_bnt  \\\n0              0.018448           0.018318  2.296663  ... -4.026950e+00   \n1              1.238587           1.205463  2.231059  ... -2.744009e+02   \n2              0.002440           7.313425  2.190786  ... -2.076344e+02   \n3             32.803224          31.978433  2.214641  ... -9.493450e+03   \n4              0.003610          10.227460  2.214641  ...  1.827579e+03   \n..                  ...                ...       ...  ...           ...   \n572           22.782048           2.668849  0.439336  ... -7.788998e+03   \n573          407.173676         406.942508  0.439336  ... -2.915052e+06   \n574          754.554759         261.759618  0.439336  ... -4.785695e+04   \n575            0.004160          80.128950  0.439336  ... -7.133886e+06   \n576           42.424075           8.378294  0.439336  ... -2.432456e+05   \n\n      surplus_usd  surplus_perc  tknTradingLiquidity_real  \\\n0   -9.248547e+00     -0.000054              9.161156e+04   \n1   -6.122045e+02     -0.001828              3.202751e+05   \n2   -4.548826e+02     -0.001337              1.039690e+02   \n3   -2.102459e+04     -0.030559              6.197640e+05   \n4    4.047433e+03      0.005718              2.187025e+02   \n..            ...           ...                       ...   \n572 -3.421986e+03     -0.074199              3.650763e+05   \n573 -1.280687e+06     -0.538241              9.223219e+05   \n574 -2.102528e+04     -0.015282              1.550398e+06   \n575 -3.134172e+06     -0.483749              1.746781e+02   \n576 -1.068665e+05     -0.655215              2.875819e+05   \n\n     bntTradingLiquidity_real      spotRate   price  liquidity_real  \\\n0                4.000805e+04      0.436714  2.2900    1.718604e+05   \n1                1.404095e+05      0.438403  2.2200    3.437408e+05   \n2                1.403459e+05   1349.882510  2.2200    1.169769e+02   \n3                2.918862e+05      0.470963  2.0700    6.828865e+05   \n4                2.888900e+05   1320.926933  2.0700    2.388591e+02   \n..                        ...           ...     ...             ...   \n572              9.888587e+04      0.270864  0.4518    3.654831e+05   \n573              2.044195e+06      2.216357  0.4518    1.112240e+06   \n574              1.250088e+06      0.806302  0.4518    3.851069e+06   \n575              7.624048e+06  43646.270867  0.4518    1.746781e+02   \n576              1.280001e+05      0.445091  0.4518    2.875819e+05   \n\n     stakedBalance_real  poolTokenSupply_real  \n0          1.718697e+05          1.718697e+05  \n1          3.437500e+05          3.437500e+05  \n2          1.159120e+02          1.159120e+02  \n3          6.875000e+05          6.874721e+05  \n4          2.390141e+02          2.390098e+02  \n..                  ...                   ...  \n572        3.943198e+05          3.938701e+05  \n573        2.450837e+06          2.447838e+06  \n574        3.906057e+06          3.889583e+06  \n575        3.378767e+02          3.378000e+02  \n576        8.340895e+05          8.329419e+05  \n\n[577 rows x 21 columns]",
      "text/html": "<div>\n<style scoped>\n    .dataframe tbody tr th:only-of-type {\n        vertical-align: middle;\n    }\n\n    .dataframe tbody tr th {\n        vertical-align: top;\n    }\n\n    .dataframe thead th {\n        text-align: right;\n    }\n</style>\n<table border=\"1\" class=\"dataframe\">\n  <thead>\n    <tr style=\"text-align: right;\">\n      <th></th>\n      <th>date</th>\n      <th>targetSymbol</th>\n      <th>trade_count</th>\n      <th>sourceAmount_real</th>\n      <th>sourceAmount_real_usd</th>\n      <th>targetAmount_real</th>\n      <th>targetAmount_real_usd</th>\n      <th>trade_revenue_real</th>\n      <th>trade_revenue_usd</th>\n      <th>bntprice</th>\n      <th>...</th>\n      <th>surplus_bnt</th>\n      <th>surplus_usd</th>\n      <th>surplus_perc</th>\n      <th>tknTradingLiquidity_real</th>\n      <th>bntTradingLiquidity_real</th>\n      <th>spotRate</th>\n      <th>price</th>\n      <th>liquidity_real</th>\n      <th>stakedBalance_real</th>\n      <th>poolTokenSupply_real</th>\n    </tr>\n  </thead>\n  <tbody>\n    <tr>\n      <th>0</th>\n      <td>2022-04-20</td>\n      <td>dai</td>\n      <td>3</td>\n      <td>0.003000</td>\n      <td>9.176236</td>\n      <td>9.205342</td>\n      <td>9.140794</td>\n      <td>0.018448</td>\n      <td>0.018318</td>\n      <td>2.296663</td>\n      <td>...</td>\n      <td>-4.026950e+00</td>\n      <td>-9.248547e+00</td>\n      <td>-0.000054</td>\n      <td>9.161156e+04</td>\n      <td>4.000805e+04</td>\n      <td>0.436714</td>\n      <td>2.2900</td>\n      <td>1.718604e+05</td>\n      <td>1.718697e+05</td>\n      <td>1.718697e+05</td>\n    </tr>\n    <tr>\n      <th>1</th>\n      <td>2022-04-22</td>\n      <td>dai</td>\n      <td>2</td>\n      <td>0.202159</td>\n      <td>601.632956</td>\n      <td>618.054738</td>\n      <td>601.526021</td>\n      <td>1.238587</td>\n      <td>1.205463</td>\n      <td>2.231059</td>\n      <td>...</td>\n      <td>-2.744009e+02</td>\n      <td>-6.122045e+02</td>\n      <td>-0.001828</td>\n      <td>3.202751e+05</td>\n      <td>1.404095e+05</td>\n      <td>0.438403</td>\n      <td>2.2200</td>\n      <td>3.437408e+05</td>\n      <td>3.437500e+05</td>\n      <td>3.437500e+05</td>\n    </tr>\n    <tr>\n      <th>2</th>\n      <td>2022-04-25</td>\n      <td>eth</td>\n      <td>1</td>\n      <td>1628.103621</td>\n      <td>3614.390039</td>\n      <td>1.217790</td>\n      <td>3649.399144</td>\n      <td>0.002440</td>\n      <td>7.313425</td>\n      <td>2.190786</td>\n      <td>...</td>\n      <td>-2.076344e+02</td>\n      <td>-4.548826e+02</td>\n      <td>-0.001337</td>\n      <td>1.039690e+02</td>\n      <td>1.403459e+05</td>\n      <td>1349.882510</td>\n      <td>2.2200</td>\n      <td>1.169769e+02</td>\n      <td>1.159120e+02</td>\n      <td>1.159120e+02</td>\n    </tr>\n    <tr>\n      <th>3</th>\n      <td>2022-04-26</td>\n      <td>dai</td>\n      <td>3</td>\n      <td>7525.703648</td>\n      <td>15846.229453</td>\n      <td>16368.808603</td>\n      <td>15957.237984</td>\n      <td>32.803224</td>\n      <td>31.978433</td>\n      <td>2.214641</td>\n      <td>...</td>\n      <td>-9.493450e+03</td>\n      <td>-2.102459e+04</td>\n      <td>-0.030559</td>\n      <td>6.197640e+05</td>\n      <td>2.918862e+05</td>\n      <td>0.470963</td>\n      <td>2.0700</td>\n      <td>6.828865e+05</td>\n      <td>6.875000e+05</td>\n      <td>6.874721e+05</td>\n    </tr>\n    <tr>\n      <th>4</th>\n      <td>2022-04-26</td>\n      <td>eth</td>\n      <td>1</td>\n      <td>2403.614895</td>\n      <td>5071.627429</td>\n      <td>1.801257</td>\n      <td>5103.502330</td>\n      <td>0.003610</td>\n      <td>10.227460</td>\n      <td>2.214641</td>\n      <td>...</td>\n      <td>1.827579e+03</td>\n      <td>4.047433e+03</td>\n      <td>0.005718</td>\n      <td>2.187025e+02</td>\n      <td>2.888900e+05</td>\n      <td>1320.926933</td>\n      <td>2.0700</td>\n      <td>2.388591e+02</td>\n      <td>2.390141e+02</td>\n      <td>2.390098e+02</td>\n    </tr>\n    <tr>\n      <th>...</th>\n      <td>...</td>\n      <td>...</td>\n      <td>...</td>\n      <td>...</td>\n      <td>...</td>\n      <td>...</td>\n      <td>...</td>\n      <td>...</td>\n      <td>...</td>\n      <td>...</td>\n      <td>...</td>\n      <td>...</td>\n      <td>...</td>\n      <td>...</td>\n      <td>...</td>\n      <td>...</td>\n      <td>...</td>\n      <td>...</td>\n      <td>...</td>\n      <td>...</td>\n      <td>...</td>\n    </tr>\n    <tr>\n      <th>572</th>\n      <td>2022-07-13</td>\n      <td>ren</td>\n      <td>3</td>\n      <td>1768.630143</td>\n      <td>1315.906537</td>\n      <td>11368.242105</td>\n      <td>1331.755493</td>\n      <td>22.782048</td>\n      <td>2.668849</td>\n      <td>0.439336</td>\n      <td>...</td>\n      <td>-7.788998e+03</td>\n      <td>-3.421986e+03</td>\n      <td>-0.074199</td>\n      <td>3.650763e+05</td>\n      <td>9.888587e+04</td>\n      <td>0.270864</td>\n      <td>0.4518</td>\n      <td>3.654831e+05</td>\n      <td>3.943198e+05</td>\n      <td>3.938701e+05</td>\n    </tr>\n    <tr>\n      <th>573</th>\n      <td>2022-07-13</td>\n      <td>usdc</td>\n      <td>11</td>\n      <td>12820.582315</td>\n      <td>39171.489157</td>\n      <td>40310.194464</td>\n      <td>40287.308795</td>\n      <td>407.173676</td>\n      <td>406.942508</td>\n      <td>0.439336</td>\n      <td>...</td>\n      <td>-2.915052e+06</td>\n      <td>-1.280687e+06</td>\n      <td>-0.538241</td>\n      <td>9.223219e+05</td>\n      <td>2.044195e+06</td>\n      <td>2.216357</td>\n      <td>0.4518</td>\n      <td>1.112240e+06</td>\n      <td>2.450837e+06</td>\n      <td>2.447838e+06</td>\n    </tr>\n    <tr>\n      <th>574</th>\n      <td>2022-07-13</td>\n      <td>vbnt</td>\n      <td>13</td>\n      <td>17417.396004</td>\n      <td>17347.157459</td>\n      <td>49549.095840</td>\n      <td>17188.881593</td>\n      <td>754.554759</td>\n      <td>261.759618</td>\n      <td>0.439336</td>\n      <td>...</td>\n      <td>-4.785695e+04</td>\n      <td>-2.102528e+04</td>\n      <td>-0.015282</td>\n      <td>1.550398e+06</td>\n      <td>1.250088e+06</td>\n      <td>0.806302</td>\n      <td>0.4518</td>\n      <td>3.851069e+06</td>\n      <td>3.906057e+06</td>\n      <td>3.889583e+06</td>\n    </tr>\n    <tr>\n      <th>575</th>\n      <td>2022-07-13</td>\n      <td>wbtc</td>\n      <td>8</td>\n      <td>77132.736065</td>\n      <td>40043.358891</td>\n      <td>2.075963</td>\n      <td>39984.699361</td>\n      <td>0.004160</td>\n      <td>80.128950</td>\n      <td>0.439336</td>\n      <td>...</td>\n      <td>-7.133886e+06</td>\n      <td>-3.134172e+06</td>\n      <td>-0.483749</td>\n      <td>1.746781e+02</td>\n      <td>7.624048e+06</td>\n      <td>43646.270867</td>\n      <td>0.4518</td>\n      <td>1.746781e+02</td>\n      <td>3.378767e+02</td>\n      <td>3.378000e+02</td>\n    </tr>\n    <tr>\n      <th>576</th>\n      <td>2022-07-13</td>\n      <td>zcn</td>\n      <td>3</td>\n      <td>2857.359303</td>\n      <td>1643.043365</td>\n      <td>8442.390858</td>\n      <td>1667.280439</td>\n      <td>42.424075</td>\n      <td>8.378294</td>\n      <td>0.439336</td>\n      <td>...</td>\n      <td>-2.432456e+05</td>\n      <td>-1.068665e+05</td>\n      <td>-0.655215</td>\n      <td>2.875819e+05</td>\n      <td>1.280001e+05</td>\n      <td>0.445091</td>\n      <td>0.4518</td>\n      <td>2.875819e+05</td>\n      <td>8.340895e+05</td>\n      <td>8.329419e+05</td>\n    </tr>\n  </tbody>\n</table>\n<p>577 rows × 21 columns</p>\n</div>"
     },
     "execution_count": 8,
     "metadata": {},
     "output_type": "execute_result"
    }
   ],
   "source": [
    "filepath = 'https://bancorml.s3.us-east-2.amazonaws.com/preprocessed_tradingliquidity_vs_deficit-3.csv'\n",
    "fees_vs_liquidity = pd.read_csv(filepath)\n",
    "\n",
    "# Limit tokens to only those where we have data available:\n",
    "fee_tokens = fees_vs_liquidity['targetSymbol'].unique()\n",
    "simulation_tokens = [tkn for tkn in simulation_tokens if tkn in fee_tokens]\n",
    "fees_vs_liquidity"
   ],
   "metadata": {
    "collapsed": false,
    "pycharm": {
     "name": "#%%\n"
    }
   }
  },
  {
   "cell_type": "code",
   "execution_count": 9,
   "outputs": [],
   "source": [
    "fees_vs_liquidity['tknTradingLiquidity_real_bnt'] = fees_vs_liquidity['tknTradingLiquidity_real'] * fees_vs_liquidity['price']"
   ],
   "metadata": {
    "collapsed": false,
    "pycharm": {
     "name": "#%%\n"
    }
   }
  },
  {
   "cell_type": "code",
   "execution_count": 10,
   "outputs": [],
   "source": [
    "# For 7 day rolling averages\n",
    "fees_vs_liquidity['trade_revenue_real_rolling_7day_avg'] =  fees_vs_liquidity.groupby(['date', 'targetSymbol'])['trade_revenue_real'].rolling(7, min_periods=1).mean().reset_index(drop=True)\n",
    "fees_vs_liquidity['trade_revenue_usd_rolling_7day_avg'] = fees_vs_liquidity.groupby(['date', 'targetSymbol'])['trade_revenue_usd'].rolling(7, min_periods=1).mean().reset_index(drop=True)\n",
    "\n",
    "# For 30 day rolling averages\n",
    "fees_vs_liquidity['trade_revenue_real_rolling_30day_avg'] = fees_vs_liquidity.groupby(['date', 'targetSymbol'])['trade_revenue_real'].rolling(30, min_periods=1).mean().reset_index(drop=True)\n",
    "fees_vs_liquidity['trade_revenue_usd_rolling_30day_avg'] = fees_vs_liquidity.groupby(['date', 'targetSymbol'])['trade_revenue_usd'].rolling(30, min_periods=1).mean().reset_index(drop=True)\n"
   ],
   "metadata": {
    "collapsed": false,
    "pycharm": {
     "name": "#%%\n"
    }
   }
  },
  {
   "cell_type": "code",
   "execution_count": 11,
   "outputs": [
    {
     "data": {
      "text/plain": "11"
     },
     "execution_count": 11,
     "metadata": {},
     "output_type": "execute_result"
    }
   ],
   "source": [
    "simulation_tokens_count = len(simulation_tokens)\n",
    "simulation_tokens_count"
   ],
   "metadata": {
    "collapsed": false,
    "pycharm": {
     "name": "#%%\n"
    }
   }
  },
  {
   "cell_type": "code",
   "execution_count": 12,
   "outputs": [
    {
     "data": {
      "text/plain": "['eth',\n 'dai',\n 'link',\n 'bat',\n 'usdc',\n 'ren',\n 'wbtc',\n 'enj',\n 'mkr',\n 'matic',\n 'mana']"
     },
     "execution_count": 12,
     "metadata": {},
     "output_type": "execute_result"
    }
   ],
   "source": [
    "simulation_tokens"
   ],
   "metadata": {
    "collapsed": false,
    "pycharm": {
     "name": "#%%\n"
    }
   }
  },
  {
   "cell_type": "code",
   "execution_count": 13,
   "outputs": [],
   "source": [
    "\n",
    "l=[]\n",
    "SIMULATION_WHITELIST = {}\n",
    "\n",
    "for token_symbol in simulation_tokens:\n",
    "\n",
    "    tkn_stats = {}\n",
    "\n",
    "    fee_multiple = 550\n",
    "\n",
    "    tkn_stats['token_symbol'] = [token_symbol]\n",
    "    SIMULATION_WHITELIST[token_symbol] = {}\n",
    "    SIMULATION_WHITELIST[token_symbol]['trading_fee'] = DEFAULT_TRADING_FEE\n",
    "    SIMULATION_WHITELIST[token_symbol]['bnt_funding_limit'] = DEFAULT_BNT_FUNDING_LIMIT\n",
    "\n",
    "#     tkn_stats['fee_multiple'] = [fee_multiple]\n",
    "#\n",
    "#     latest_date = fees_vs_liquidity[fees_vs_liquidity['targetSymbol']==token_symbol].sort_values('date', ascending=False)['date'].values[0]\n",
    "#\n",
    "#     latest_price = fees_vs_liquidity[fees_vs_liquidity['targetSymbol']==token_symbol].sort_values('date', ascending=False)['price'].values[0]\n",
    "#\n",
    "#     tkn_stats['latest_date'] = [latest_date]\n",
    "#\n",
    "#     tkn_stats['oncurve_liquidity'] = [int(round(fees_vs_liquidity[(fees_vs_liquidity['date']==latest_date) & (fees_vs_liquidity['targetSymbol']==token_symbol)]['tknTradingLiquidity_real'].values[0]))]\n",
    "#\n",
    "#     tkn_stats['rolling_30day_real_avg'] = [fees_vs_liquidity[(fees_vs_liquidity['date']==latest_date) & (fees_vs_liquidity['targetSymbol']==token_symbol)]['trade_revenue_real_rolling_30day_avg'].values[0]]\n",
    "#\n",
    "#     tkn_stats['estimated_7day_fees_real'] = [tkn_stats['rolling_30day_real_avg'][0] * 7]\n",
    "#\n",
    "#     tkn_stats['proposed_liquidity_limit'] = [tkn_stats['estimated_7day_fees_real'][0] * fee_multiple]\n",
    "#\n",
    "#     tkn_stats['proposed_liquidity_limit_bnt'] = [tkn_stats['proposed_liquidity_limit'][0] * latest_price]\n",
    "#\n",
    "#     SIMULATION_WHITELIST[token_symbol]['bnt_funding_limit'] = tkn_stats['proposed_liquidity_limit_bnt'][0]\n",
    "#\n",
    "#     tkn_stats = pd.DataFrame(tkn_stats)\n",
    "#\n",
    "#     l.append(tkn_stats)\n",
    "#\n",
    "# all_tkn_stats = pd.concat(l)\n",
    "# all_tkn_stats\n",
    "\n"
   ],
   "metadata": {
    "collapsed": false,
    "pycharm": {
     "name": "#%%\n"
    }
   }
  },
  {
   "cell_type": "code",
   "execution_count": 14,
   "outputs": [
    {
     "data": {
      "text/plain": "{'eth': {'trading_fee': '1%', 'bnt_funding_limit': '1000000'},\n 'dai': {'trading_fee': '1%', 'bnt_funding_limit': '1000000'},\n 'link': {'trading_fee': '1%', 'bnt_funding_limit': '1000000'},\n 'bat': {'trading_fee': '1%', 'bnt_funding_limit': '1000000'},\n 'usdc': {'trading_fee': '1%', 'bnt_funding_limit': '1000000'},\n 'ren': {'trading_fee': '1%', 'bnt_funding_limit': '1000000'},\n 'wbtc': {'trading_fee': '1%', 'bnt_funding_limit': '1000000'},\n 'enj': {'trading_fee': '1%', 'bnt_funding_limit': '1000000'},\n 'mkr': {'trading_fee': '1%', 'bnt_funding_limit': '1000000'},\n 'matic': {'trading_fee': '1%', 'bnt_funding_limit': '1000000'},\n 'mana': {'trading_fee': '1%', 'bnt_funding_limit': '1000000'}}"
     },
     "execution_count": 14,
     "metadata": {},
     "output_type": "execute_result"
    }
   ],
   "source": [
    "SIMULATION_WHITELIST"
   ],
   "metadata": {
    "collapsed": false,
    "pycharm": {
     "name": "#%%\n"
    }
   }
  },
  {
   "cell_type": "code",
   "execution_count": 15,
   "outputs": [
    {
     "data": {
      "text/plain": "                                         user_id poolSymbol  \\\n0     0x00000000C2Cf7648c169b25ef1C217864bFa38cC        bnt   \n1     0x00000000C2Cf7648c169b25ef1C217864bFa38cC        dai   \n2     0x00000000C2Cf7648c169b25ef1C217864bFa38cC        enj   \n3     0x00000000C2Cf7648c169b25ef1C217864bFa38cC        eth   \n4     0x00000000C2Cf7648c169b25ef1C217864bFa38cC       link   \n...                                          ...        ...   \n8073  0xfeBe1d1ec117c4F987E2212b892c8EB49f655bb2       usdc   \n8075  0xff52b9E2846388413D185373453cc88603aD86cD        bnt   \n8076  0xff52b9E2846388413D185373453cc88603aD86cD        eth   \n8078  0xff914CAeCc4B7e8113e4CA44D5735293205d01b9        bnt   \n8081  0xffC7150325e03b36C7d13f4af63885A7599f1b34        bnt   \n\n      tokenAmount_real_usd  \n0            315553.303525  \n1             45316.051077  \n2              5623.933164  \n3            945282.867953  \n4            462531.289358  \n...                    ...  \n8073            397.227950  \n8075             55.304482  \n8076          23694.444669  \n8078            482.438741  \n8081            479.412655  \n\n[6271 rows x 3 columns]",
      "text/html": "<div>\n<style scoped>\n    .dataframe tbody tr th:only-of-type {\n        vertical-align: middle;\n    }\n\n    .dataframe tbody tr th {\n        vertical-align: top;\n    }\n\n    .dataframe thead th {\n        text-align: right;\n    }\n</style>\n<table border=\"1\" class=\"dataframe\">\n  <thead>\n    <tr style=\"text-align: right;\">\n      <th></th>\n      <th>user_id</th>\n      <th>poolSymbol</th>\n      <th>tokenAmount_real_usd</th>\n    </tr>\n  </thead>\n  <tbody>\n    <tr>\n      <th>0</th>\n      <td>0x00000000C2Cf7648c169b25ef1C217864bFa38cC</td>\n      <td>bnt</td>\n      <td>315553.303525</td>\n    </tr>\n    <tr>\n      <th>1</th>\n      <td>0x00000000C2Cf7648c169b25ef1C217864bFa38cC</td>\n      <td>dai</td>\n      <td>45316.051077</td>\n    </tr>\n    <tr>\n      <th>2</th>\n      <td>0x00000000C2Cf7648c169b25ef1C217864bFa38cC</td>\n      <td>enj</td>\n      <td>5623.933164</td>\n    </tr>\n    <tr>\n      <th>3</th>\n      <td>0x00000000C2Cf7648c169b25ef1C217864bFa38cC</td>\n      <td>eth</td>\n      <td>945282.867953</td>\n    </tr>\n    <tr>\n      <th>4</th>\n      <td>0x00000000C2Cf7648c169b25ef1C217864bFa38cC</td>\n      <td>link</td>\n      <td>462531.289358</td>\n    </tr>\n    <tr>\n      <th>...</th>\n      <td>...</td>\n      <td>...</td>\n      <td>...</td>\n    </tr>\n    <tr>\n      <th>8073</th>\n      <td>0xfeBe1d1ec117c4F987E2212b892c8EB49f655bb2</td>\n      <td>usdc</td>\n      <td>397.227950</td>\n    </tr>\n    <tr>\n      <th>8075</th>\n      <td>0xff52b9E2846388413D185373453cc88603aD86cD</td>\n      <td>bnt</td>\n      <td>55.304482</td>\n    </tr>\n    <tr>\n      <th>8076</th>\n      <td>0xff52b9E2846388413D185373453cc88603aD86cD</td>\n      <td>eth</td>\n      <td>23694.444669</td>\n    </tr>\n    <tr>\n      <th>8078</th>\n      <td>0xff914CAeCc4B7e8113e4CA44D5735293205d01b9</td>\n      <td>bnt</td>\n      <td>482.438741</td>\n    </tr>\n    <tr>\n      <th>8081</th>\n      <td>0xffC7150325e03b36C7d13f4af63885A7599f1b34</td>\n      <td>bnt</td>\n      <td>479.412655</td>\n    </tr>\n  </tbody>\n</table>\n<p>6271 rows × 3 columns</p>\n</div>"
     },
     "execution_count": 15,
     "metadata": {},
     "output_type": "execute_result"
    }
   ],
   "source": [
    "all_tokens = simulation_tokens + ['bnt']\n",
    "user_initial_balances = historical_actions[\n",
    "    ['user_id','poolSymbol','tokenAmount_real_usd']].groupby(['user_id','poolSymbol']).sum()\n",
    "user_initial_balances = user_initial_balances.reset_index()\n",
    "user_initial_balances = user_initial_balances[user_initial_balances['poolSymbol'].isin(all_tokens)]\n",
    "user_initial_balances"
   ],
   "metadata": {
    "collapsed": false,
    "pycharm": {
     "name": "#%%\n"
    }
   }
  },
  {
   "cell_type": "code",
   "execution_count": 16,
   "outputs": [],
   "source": [
    "user_initial_balances.to_csv('data/user_initial_balances.csv')"
   ],
   "metadata": {
    "collapsed": false,
    "pycharm": {
     "name": "#%%\n"
    }
   }
  },
  {
   "cell_type": "code",
   "execution_count": 15,
   "outputs": [],
   "source": [
    "from decimal import Decimal\n",
    "from bancor_research.bancor_simulator.v3.spec import Token, get_pooltoken_name\n",
    "\n",
    "v3 = BancorDapp(whitelisted_tokens=SIMULATION_WHITELIST, price_feeds=price_feed)\n",
    "\n",
    "for user_id in user_initial_balances['user_id'].unique():\n",
    "    v3.create_user(user_id)\n",
    "\n",
    "    user_balances = user_initial_balances[user_initial_balances['user_id']==user_id]\n",
    "    for tkn_name in user_balances['poolSymbol'].unique():\n",
    "\n",
    "        user_balance = user_balances[user_balances['poolSymbol']==tkn_name]['tokenAmount_real_usd'].values[0]\n",
    "        if tkn_name not in v3.global_state.users[user_id].wallet:\n",
    "            v3.global_state.users[user_id].wallet[tkn_name] = Token(balance=user_balance)\n",
    "\n",
    "        pooltkn_name = get_pooltoken_name(tkn_name)\n",
    "        if pooltkn_name not in v3.global_state.users[user_id].wallet:\n",
    "            v3.global_state.users[user_id].wallet[pooltkn_name] = Token(\n",
    "                balance=Decimal('0')\n",
    "            )\n"
   ],
   "metadata": {
    "collapsed": false,
    "pycharm": {
     "name": "#%%\n"
    }
   }
  },
  {
   "cell_type": "code",
   "execution_count": 16,
   "outputs": [
    {
     "data": {
      "text/plain": "                                                         bnt     eth     dai  \\\n1 Account 0x00000000C2Cf7648c169b25ef1C217864bFa38cC     NaN     NaN     NaN   \n          0x0000000484f2217f1A64Eb6d24b5CEe446FaEAe5     NaN     NaN     NaN   \n          0x00008818c0EDb78F98184F01B4cB483F0044D990     NaN     NaN     NaN   \n          0x0000E0Ca771e21bD00057F54A68C30D400000000     NaN     NaN     NaN   \n          0x00257e9544A1a406C98c6115a5698da2c098e989     NaN     NaN     NaN   \n...                                                      ...     ...     ...   \n2 Pool    g: Average Inverse Rate                        NaN  0.0000  0.0000   \n3 Network Master Vault                                0.0000  0.0000  0.0000   \n          Protection Vault                            0.0000  0.0000  0.0000   \n          Protocol Equity                                NaN     NaN     NaN   \n          Rewards Vault                                  NaN     NaN     NaN   \n\n                                                        link     bat    usdc  \\\n1 Account 0x00000000C2Cf7648c169b25ef1C217864bFa38cC     NaN     NaN     NaN   \n          0x0000000484f2217f1A64Eb6d24b5CEe446FaEAe5     NaN     NaN     NaN   \n          0x00008818c0EDb78F98184F01B4cB483F0044D990     NaN     NaN     NaN   \n          0x0000E0Ca771e21bD00057F54A68C30D400000000     NaN     NaN     NaN   \n          0x00257e9544A1a406C98c6115a5698da2c098e989     NaN     NaN     NaN   \n...                                                      ...     ...     ...   \n2 Pool    g: Average Inverse Rate                     0.0000  0.0000  0.0000   \n3 Network Master Vault                                0.0000  0.0000  0.0000   \n          Protection Vault                            0.0000  0.0000  0.0000   \n          Protocol Equity                                NaN     NaN     NaN   \n          Rewards Vault                                  NaN     NaN     NaN   \n\n                                                         ren    wbtc     enj  \\\n1 Account 0x00000000C2Cf7648c169b25ef1C217864bFa38cC     NaN     NaN     NaN   \n          0x0000000484f2217f1A64Eb6d24b5CEe446FaEAe5     NaN     NaN     NaN   \n          0x00008818c0EDb78F98184F01B4cB483F0044D990     NaN     NaN     NaN   \n          0x0000E0Ca771e21bD00057F54A68C30D400000000     NaN     NaN     NaN   \n          0x00257e9544A1a406C98c6115a5698da2c098e989     NaN     NaN     NaN   \n...                                                      ...     ...     ...   \n2 Pool    g: Average Inverse Rate                     0.0000  0.0000  0.0000   \n3 Network Master Vault                                0.0000  0.0000  0.0000   \n          Protection Vault                            0.0000  0.0000  0.0000   \n          Protocol Equity                                NaN     NaN     NaN   \n          Rewards Vault                                  NaN     NaN     NaN   \n\n                                                         mkr  ...  bnlink  \\\n1 Account 0x00000000C2Cf7648c169b25ef1C217864bFa38cC     NaN  ...     NaN   \n          0x0000000484f2217f1A64Eb6d24b5CEe446FaEAe5     NaN  ...     NaN   \n          0x00008818c0EDb78F98184F01B4cB483F0044D990     NaN  ...     NaN   \n          0x0000E0Ca771e21bD00057F54A68C30D400000000     NaN  ...     NaN   \n          0x00257e9544A1a406C98c6115a5698da2c098e989     NaN  ...     NaN   \n...                                                      ...  ...     ...   \n2 Pool    g: Average Inverse Rate                     0.0000  ...     NaN   \n3 Network Master Vault                                0.0000  ...     NaN   \n          Protection Vault                            0.0000  ...     NaN   \n          Protocol Equity                                NaN  ...  0.0000   \n          Rewards Vault                                  NaN  ...  0.0000   \n\n                                                       bnbat  bnusdc   bnren  \\\n1 Account 0x00000000C2Cf7648c169b25ef1C217864bFa38cC     NaN     NaN     NaN   \n          0x0000000484f2217f1A64Eb6d24b5CEe446FaEAe5     NaN     NaN     NaN   \n          0x00008818c0EDb78F98184F01B4cB483F0044D990     NaN     NaN     NaN   \n          0x0000E0Ca771e21bD00057F54A68C30D400000000     NaN     NaN     NaN   \n          0x00257e9544A1a406C98c6115a5698da2c098e989     NaN     NaN     NaN   \n...                                                      ...     ...     ...   \n2 Pool    g: Average Inverse Rate                        NaN     NaN     NaN   \n3 Network Master Vault                                   NaN     NaN     NaN   \n          Protection Vault                               NaN     NaN     NaN   \n          Protocol Equity                             0.0000  0.0000  0.0000   \n          Rewards Vault                               0.0000  0.0000  0.0000   \n\n                                                      bnwbtc   bnenj   bnmkr  \\\n1 Account 0x00000000C2Cf7648c169b25ef1C217864bFa38cC     NaN     NaN     NaN   \n          0x0000000484f2217f1A64Eb6d24b5CEe446FaEAe5     NaN     NaN     NaN   \n          0x00008818c0EDb78F98184F01B4cB483F0044D990     NaN     NaN     NaN   \n          0x0000E0Ca771e21bD00057F54A68C30D400000000     NaN     NaN     NaN   \n          0x00257e9544A1a406C98c6115a5698da2c098e989     NaN     NaN     NaN   \n...                                                      ...     ...     ...   \n2 Pool    g: Average Inverse Rate                        NaN     NaN     NaN   \n3 Network Master Vault                                   NaN     NaN     NaN   \n          Protection Vault                               NaN     NaN     NaN   \n          Protocol Equity                             0.0000  0.0000  0.0000   \n          Rewards Vault                               0.0000  0.0000  0.0000   \n\n                                                     bnmatic  bnmana vbnt  \n1 Account 0x00000000C2Cf7648c169b25ef1C217864bFa38cC     NaN     NaN  NaN  \n          0x0000000484f2217f1A64Eb6d24b5CEe446FaEAe5     NaN     NaN  NaN  \n          0x00008818c0EDb78F98184F01B4cB483F0044D990     NaN     NaN  NaN  \n          0x0000E0Ca771e21bD00057F54A68C30D400000000     NaN     NaN  NaN  \n          0x00257e9544A1a406C98c6115a5698da2c098e989     NaN     NaN  NaN  \n...                                                      ...     ...  ...  \n2 Pool    g: Average Inverse Rate                        NaN     NaN  NaN  \n3 Network Master Vault                                   NaN     NaN  NaN  \n          Protection Vault                               NaN     NaN  NaN  \n          Protocol Equity                             0.0000  0.0000  NaN  \n          Rewards Vault                               0.0000  0.0000  NaN  \n\n[4202 rows x 25 columns]",
      "text/html": "<div>\n<style scoped>\n    .dataframe tbody tr th:only-of-type {\n        vertical-align: middle;\n    }\n\n    .dataframe tbody tr th {\n        vertical-align: top;\n    }\n\n    .dataframe thead th {\n        text-align: right;\n    }\n</style>\n<table border=\"1\" class=\"dataframe\">\n  <thead>\n    <tr style=\"text-align: right;\">\n      <th></th>\n      <th></th>\n      <th></th>\n      <th>bnt</th>\n      <th>eth</th>\n      <th>dai</th>\n      <th>link</th>\n      <th>bat</th>\n      <th>usdc</th>\n      <th>ren</th>\n      <th>wbtc</th>\n      <th>enj</th>\n      <th>mkr</th>\n      <th>...</th>\n      <th>bnlink</th>\n      <th>bnbat</th>\n      <th>bnusdc</th>\n      <th>bnren</th>\n      <th>bnwbtc</th>\n      <th>bnenj</th>\n      <th>bnmkr</th>\n      <th>bnmatic</th>\n      <th>bnmana</th>\n      <th>vbnt</th>\n    </tr>\n  </thead>\n  <tbody>\n    <tr>\n      <th rowspan=\"5\" valign=\"top\">1</th>\n      <th rowspan=\"5\" valign=\"top\">Account</th>\n      <th>0x00000000C2Cf7648c169b25ef1C217864bFa38cC</th>\n      <td>NaN</td>\n      <td>NaN</td>\n      <td>NaN</td>\n      <td>NaN</td>\n      <td>NaN</td>\n      <td>NaN</td>\n      <td>NaN</td>\n      <td>NaN</td>\n      <td>NaN</td>\n      <td>NaN</td>\n      <td>...</td>\n      <td>NaN</td>\n      <td>NaN</td>\n      <td>NaN</td>\n      <td>NaN</td>\n      <td>NaN</td>\n      <td>NaN</td>\n      <td>NaN</td>\n      <td>NaN</td>\n      <td>NaN</td>\n      <td>NaN</td>\n    </tr>\n    <tr>\n      <th>0x0000000484f2217f1A64Eb6d24b5CEe446FaEAe5</th>\n      <td>NaN</td>\n      <td>NaN</td>\n      <td>NaN</td>\n      <td>NaN</td>\n      <td>NaN</td>\n      <td>NaN</td>\n      <td>NaN</td>\n      <td>NaN</td>\n      <td>NaN</td>\n      <td>NaN</td>\n      <td>...</td>\n      <td>NaN</td>\n      <td>NaN</td>\n      <td>NaN</td>\n      <td>NaN</td>\n      <td>NaN</td>\n      <td>NaN</td>\n      <td>NaN</td>\n      <td>NaN</td>\n      <td>NaN</td>\n      <td>NaN</td>\n    </tr>\n    <tr>\n      <th>0x00008818c0EDb78F98184F01B4cB483F0044D990</th>\n      <td>NaN</td>\n      <td>NaN</td>\n      <td>NaN</td>\n      <td>NaN</td>\n      <td>NaN</td>\n      <td>NaN</td>\n      <td>NaN</td>\n      <td>NaN</td>\n      <td>NaN</td>\n      <td>NaN</td>\n      <td>...</td>\n      <td>NaN</td>\n      <td>NaN</td>\n      <td>NaN</td>\n      <td>NaN</td>\n      <td>NaN</td>\n      <td>NaN</td>\n      <td>NaN</td>\n      <td>NaN</td>\n      <td>NaN</td>\n      <td>NaN</td>\n    </tr>\n    <tr>\n      <th>0x0000E0Ca771e21bD00057F54A68C30D400000000</th>\n      <td>NaN</td>\n      <td>NaN</td>\n      <td>NaN</td>\n      <td>NaN</td>\n      <td>NaN</td>\n      <td>NaN</td>\n      <td>NaN</td>\n      <td>NaN</td>\n      <td>NaN</td>\n      <td>NaN</td>\n      <td>...</td>\n      <td>NaN</td>\n      <td>NaN</td>\n      <td>NaN</td>\n      <td>NaN</td>\n      <td>NaN</td>\n      <td>NaN</td>\n      <td>NaN</td>\n      <td>NaN</td>\n      <td>NaN</td>\n      <td>NaN</td>\n    </tr>\n    <tr>\n      <th>0x00257e9544A1a406C98c6115a5698da2c098e989</th>\n      <td>NaN</td>\n      <td>NaN</td>\n      <td>NaN</td>\n      <td>NaN</td>\n      <td>NaN</td>\n      <td>NaN</td>\n      <td>NaN</td>\n      <td>NaN</td>\n      <td>NaN</td>\n      <td>NaN</td>\n      <td>...</td>\n      <td>NaN</td>\n      <td>NaN</td>\n      <td>NaN</td>\n      <td>NaN</td>\n      <td>NaN</td>\n      <td>NaN</td>\n      <td>NaN</td>\n      <td>NaN</td>\n      <td>NaN</td>\n      <td>NaN</td>\n    </tr>\n    <tr>\n      <th>...</th>\n      <th>...</th>\n      <th>...</th>\n      <td>...</td>\n      <td>...</td>\n      <td>...</td>\n      <td>...</td>\n      <td>...</td>\n      <td>...</td>\n      <td>...</td>\n      <td>...</td>\n      <td>...</td>\n      <td>...</td>\n      <td>...</td>\n      <td>...</td>\n      <td>...</td>\n      <td>...</td>\n      <td>...</td>\n      <td>...</td>\n      <td>...</td>\n      <td>...</td>\n      <td>...</td>\n      <td>...</td>\n      <td>...</td>\n    </tr>\n    <tr>\n      <th>2</th>\n      <th>Pool</th>\n      <th>g: Average Inverse Rate</th>\n      <td>NaN</td>\n      <td>0.0000</td>\n      <td>0.0000</td>\n      <td>0.0000</td>\n      <td>0.0000</td>\n      <td>0.0000</td>\n      <td>0.0000</td>\n      <td>0.0000</td>\n      <td>0.0000</td>\n      <td>0.0000</td>\n      <td>...</td>\n      <td>NaN</td>\n      <td>NaN</td>\n      <td>NaN</td>\n      <td>NaN</td>\n      <td>NaN</td>\n      <td>NaN</td>\n      <td>NaN</td>\n      <td>NaN</td>\n      <td>NaN</td>\n      <td>NaN</td>\n    </tr>\n    <tr>\n      <th rowspan=\"4\" valign=\"top\">3</th>\n      <th rowspan=\"4\" valign=\"top\">Network</th>\n      <th>Master Vault</th>\n      <td>0.0000</td>\n      <td>0.0000</td>\n      <td>0.0000</td>\n      <td>0.0000</td>\n      <td>0.0000</td>\n      <td>0.0000</td>\n      <td>0.0000</td>\n      <td>0.0000</td>\n      <td>0.0000</td>\n      <td>0.0000</td>\n      <td>...</td>\n      <td>NaN</td>\n      <td>NaN</td>\n      <td>NaN</td>\n      <td>NaN</td>\n      <td>NaN</td>\n      <td>NaN</td>\n      <td>NaN</td>\n      <td>NaN</td>\n      <td>NaN</td>\n      <td>NaN</td>\n    </tr>\n    <tr>\n      <th>Protection Vault</th>\n      <td>0.0000</td>\n      <td>0.0000</td>\n      <td>0.0000</td>\n      <td>0.0000</td>\n      <td>0.0000</td>\n      <td>0.0000</td>\n      <td>0.0000</td>\n      <td>0.0000</td>\n      <td>0.0000</td>\n      <td>0.0000</td>\n      <td>...</td>\n      <td>NaN</td>\n      <td>NaN</td>\n      <td>NaN</td>\n      <td>NaN</td>\n      <td>NaN</td>\n      <td>NaN</td>\n      <td>NaN</td>\n      <td>NaN</td>\n      <td>NaN</td>\n      <td>NaN</td>\n    </tr>\n    <tr>\n      <th>Protocol Equity</th>\n      <td>NaN</td>\n      <td>NaN</td>\n      <td>NaN</td>\n      <td>NaN</td>\n      <td>NaN</td>\n      <td>NaN</td>\n      <td>NaN</td>\n      <td>NaN</td>\n      <td>NaN</td>\n      <td>NaN</td>\n      <td>...</td>\n      <td>0.0000</td>\n      <td>0.0000</td>\n      <td>0.0000</td>\n      <td>0.0000</td>\n      <td>0.0000</td>\n      <td>0.0000</td>\n      <td>0.0000</td>\n      <td>0.0000</td>\n      <td>0.0000</td>\n      <td>NaN</td>\n    </tr>\n    <tr>\n      <th>Rewards Vault</th>\n      <td>NaN</td>\n      <td>NaN</td>\n      <td>NaN</td>\n      <td>NaN</td>\n      <td>NaN</td>\n      <td>NaN</td>\n      <td>NaN</td>\n      <td>NaN</td>\n      <td>NaN</td>\n      <td>NaN</td>\n      <td>...</td>\n      <td>0.0000</td>\n      <td>0.0000</td>\n      <td>0.0000</td>\n      <td>0.0000</td>\n      <td>0.0000</td>\n      <td>0.0000</td>\n      <td>0.0000</td>\n      <td>0.0000</td>\n      <td>0.0000</td>\n      <td>NaN</td>\n    </tr>\n  </tbody>\n</table>\n<p>4202 rows × 25 columns</p>\n</div>"
     },
     "execution_count": 16,
     "metadata": {},
     "output_type": "execute_result"
    }
   ],
   "source": [
    "v3.describe(decimals=4)"
   ],
   "metadata": {
    "collapsed": false,
    "pycharm": {
     "name": "#%%\n"
    }
   }
  },
  {
   "cell_type": "code",
   "execution_count": 17,
   "outputs": [
    {
     "data": {
      "text/plain": "                                          user_id  blocknumber  \\\n0      0xb0B958398ABB0b5DB4ce4d7598Fb868f5A00f372     14611842   \n1      0xb0B958398ABB0b5DB4ce4d7598Fb868f5A00f372     14611854   \n2      0xb0B958398ABB0b5DB4ce4d7598Fb868f5A00f372     14611870   \n3      0xb0B958398ABB0b5DB4ce4d7598Fb868f5A00f372     14611880   \n4      0xb0B958398ABB0b5DB4ce4d7598Fb868f5A00f372     14611897   \n...                                           ...          ...   \n39849  0x0420249d936BDcc65c6304a38169bf4F3A248b04     15303540   \n39850  0x35A5B48D079B48fEBE6dA662b66f5d1C80ef0a45     15303596   \n39851  0x35A5B48D079B48fEBE6dA662b66f5d1C80ef0a45     15303596   \n39858  0xf3Db3e79cD7dd756d4BABAC4B7D64003fe4B33fA     15304602   \n39859  0xf3Db3e79cD7dd756d4BABAC4B7D64003fe4B33fA     15304607   \n\n                            time   timestamp poolSymbol  tokenAmount_real  \\\n0      2022-04-18 22:38:30+00:00  1650321510        eth               NaN   \n1      2022-04-18 22:40:44+00:00  1650321644        eth               NaN   \n2      2022-04-18 22:43:01+00:00  1650321781        dai               NaN   \n3      2022-04-18 22:45:09+00:00  1650321909        dai               NaN   \n4      2022-04-18 22:49:18+00:00  1650322158        eth               NaN   \n...                          ...         ...        ...               ...   \n39849  2022-08-08 19:50:12+00:00  1659988212        eth          1.520864   \n39850  2022-08-08 20:02:46+00:00  1659988966       link       1501.139614   \n39851  2022-08-08 20:02:46+00:00  1659988966       link       1501.139614   \n39858  2022-08-08 23:40:06+00:00  1660002006       link        234.392076   \n39859  2022-08-08 23:40:53+00:00  1660002053       link        234.392076   \n\n       tokenAmount_real_usd targetSymbol          event_name  timestep  \n0                       NaN          NaN             deposit         0  \n1                       NaN          NaN             deposit         1  \n2                       NaN          NaN             deposit         2  \n3                       NaN          NaN             deposit         3  \n4                       NaN          NaN             deposit         4  \n...                     ...          ...                 ...       ...  \n39849           2610.608677          NaN   withdraw_canceled     39849  \n39850          12456.684640          NaN  withdraw_initiated     39850  \n39851          12456.684640          NaN    withdraw_pending     39851  \n39858           1945.021066          NaN  withdraw_initiated     39858  \n39859           1945.021066          NaN  withdraw_completed     39859  \n\n[32958 rows x 10 columns]",
      "text/html": "<div>\n<style scoped>\n    .dataframe tbody tr th:only-of-type {\n        vertical-align: middle;\n    }\n\n    .dataframe tbody tr th {\n        vertical-align: top;\n    }\n\n    .dataframe thead th {\n        text-align: right;\n    }\n</style>\n<table border=\"1\" class=\"dataframe\">\n  <thead>\n    <tr style=\"text-align: right;\">\n      <th></th>\n      <th>user_id</th>\n      <th>blocknumber</th>\n      <th>time</th>\n      <th>timestamp</th>\n      <th>poolSymbol</th>\n      <th>tokenAmount_real</th>\n      <th>tokenAmount_real_usd</th>\n      <th>targetSymbol</th>\n      <th>event_name</th>\n      <th>timestep</th>\n    </tr>\n  </thead>\n  <tbody>\n    <tr>\n      <th>0</th>\n      <td>0xb0B958398ABB0b5DB4ce4d7598Fb868f5A00f372</td>\n      <td>14611842</td>\n      <td>2022-04-18 22:38:30+00:00</td>\n      <td>1650321510</td>\n      <td>eth</td>\n      <td>NaN</td>\n      <td>NaN</td>\n      <td>NaN</td>\n      <td>deposit</td>\n      <td>0</td>\n    </tr>\n    <tr>\n      <th>1</th>\n      <td>0xb0B958398ABB0b5DB4ce4d7598Fb868f5A00f372</td>\n      <td>14611854</td>\n      <td>2022-04-18 22:40:44+00:00</td>\n      <td>1650321644</td>\n      <td>eth</td>\n      <td>NaN</td>\n      <td>NaN</td>\n      <td>NaN</td>\n      <td>deposit</td>\n      <td>1</td>\n    </tr>\n    <tr>\n      <th>2</th>\n      <td>0xb0B958398ABB0b5DB4ce4d7598Fb868f5A00f372</td>\n      <td>14611870</td>\n      <td>2022-04-18 22:43:01+00:00</td>\n      <td>1650321781</td>\n      <td>dai</td>\n      <td>NaN</td>\n      <td>NaN</td>\n      <td>NaN</td>\n      <td>deposit</td>\n      <td>2</td>\n    </tr>\n    <tr>\n      <th>3</th>\n      <td>0xb0B958398ABB0b5DB4ce4d7598Fb868f5A00f372</td>\n      <td>14611880</td>\n      <td>2022-04-18 22:45:09+00:00</td>\n      <td>1650321909</td>\n      <td>dai</td>\n      <td>NaN</td>\n      <td>NaN</td>\n      <td>NaN</td>\n      <td>deposit</td>\n      <td>3</td>\n    </tr>\n    <tr>\n      <th>4</th>\n      <td>0xb0B958398ABB0b5DB4ce4d7598Fb868f5A00f372</td>\n      <td>14611897</td>\n      <td>2022-04-18 22:49:18+00:00</td>\n      <td>1650322158</td>\n      <td>eth</td>\n      <td>NaN</td>\n      <td>NaN</td>\n      <td>NaN</td>\n      <td>deposit</td>\n      <td>4</td>\n    </tr>\n    <tr>\n      <th>...</th>\n      <td>...</td>\n      <td>...</td>\n      <td>...</td>\n      <td>...</td>\n      <td>...</td>\n      <td>...</td>\n      <td>...</td>\n      <td>...</td>\n      <td>...</td>\n      <td>...</td>\n    </tr>\n    <tr>\n      <th>39849</th>\n      <td>0x0420249d936BDcc65c6304a38169bf4F3A248b04</td>\n      <td>15303540</td>\n      <td>2022-08-08 19:50:12+00:00</td>\n      <td>1659988212</td>\n      <td>eth</td>\n      <td>1.520864</td>\n      <td>2610.608677</td>\n      <td>NaN</td>\n      <td>withdraw_canceled</td>\n      <td>39849</td>\n    </tr>\n    <tr>\n      <th>39850</th>\n      <td>0x35A5B48D079B48fEBE6dA662b66f5d1C80ef0a45</td>\n      <td>15303596</td>\n      <td>2022-08-08 20:02:46+00:00</td>\n      <td>1659988966</td>\n      <td>link</td>\n      <td>1501.139614</td>\n      <td>12456.684640</td>\n      <td>NaN</td>\n      <td>withdraw_initiated</td>\n      <td>39850</td>\n    </tr>\n    <tr>\n      <th>39851</th>\n      <td>0x35A5B48D079B48fEBE6dA662b66f5d1C80ef0a45</td>\n      <td>15303596</td>\n      <td>2022-08-08 20:02:46+00:00</td>\n      <td>1659988966</td>\n      <td>link</td>\n      <td>1501.139614</td>\n      <td>12456.684640</td>\n      <td>NaN</td>\n      <td>withdraw_pending</td>\n      <td>39851</td>\n    </tr>\n    <tr>\n      <th>39858</th>\n      <td>0xf3Db3e79cD7dd756d4BABAC4B7D64003fe4B33fA</td>\n      <td>15304602</td>\n      <td>2022-08-08 23:40:06+00:00</td>\n      <td>1660002006</td>\n      <td>link</td>\n      <td>234.392076</td>\n      <td>1945.021066</td>\n      <td>NaN</td>\n      <td>withdraw_initiated</td>\n      <td>39858</td>\n    </tr>\n    <tr>\n      <th>39859</th>\n      <td>0xf3Db3e79cD7dd756d4BABAC4B7D64003fe4B33fA</td>\n      <td>15304607</td>\n      <td>2022-08-08 23:40:53+00:00</td>\n      <td>1660002053</td>\n      <td>link</td>\n      <td>234.392076</td>\n      <td>1945.021066</td>\n      <td>NaN</td>\n      <td>withdraw_completed</td>\n      <td>39859</td>\n    </tr>\n  </tbody>\n</table>\n<p>32958 rows × 10 columns</p>\n</div>"
     },
     "execution_count": 17,
     "metadata": {},
     "output_type": "execute_result"
    }
   ],
   "source": [
    "historical_actions = historical_actions[historical_actions['user_id'].isin(user_initial_balances['user_id'].unique())]\n",
    "historical_actions = historical_actions[historical_actions['poolSymbol'].isin(all_tokens)]\n",
    "historical_actions"
   ],
   "metadata": {
    "collapsed": false,
    "pycharm": {
     "name": "#%%\n"
    }
   }
  },
  {
   "cell_type": "code",
   "execution_count": 18,
   "outputs": [
    {
     "data": {
      "text/plain": "['deposit',\n 'withdraw_canceled',\n 'withdraw_completed',\n 'withdraw_initiated',\n 'withdraw_pending',\n 'trade']"
     },
     "execution_count": 18,
     "metadata": {},
     "output_type": "execute_result"
    }
   ],
   "source": [
    "event_names = list(set([i for i in historical_actions['event_name'].values]))\n",
    "event_names"
   ],
   "metadata": {
    "collapsed": false,
    "pycharm": {
     "name": "#%%\n"
    }
   }
  },
  {
   "cell_type": "code",
   "execution_count": 19,
   "outputs": [
    {
     "name": "stdout",
     "output_type": "stream",
     "text": [
      "Bootstrap requirements met for wbtc\n",
      "Bootstrap requirements met for usdc\n",
      "Bootstrap requirements met for bnt\n",
      "Bootstrap requirements met for link\n",
      "Bootstrap requirements met for dai\n",
      "Bootstrap requirements met for bat\n",
      "Bootstrap requirements met for link\n",
      "Bootstrap requirements met for link\n",
      "Bootstrap requirements met for eth\n",
      "Bootstrap requirements met for link\n",
      "Bootstrap requirements met for enj\n",
      "Bootstrap requirements met for link\n",
      "Bootstrap requirements met for eth\n",
      "Bootstrap requirements met for link\n",
      "Bootstrap requirements met for link\n",
      "Bootstrap requirements met for link\n",
      "Bootstrap requirements met for dai\n",
      "Bootstrap requirements met for ren\n",
      "Bootstrap requirements met for mkr\n",
      "Bootstrap requirements met for mana\n",
      "Bootstrap requirements met for matic\n"
     ]
    }
   ],
   "source": [
    "withdrawals_initiated = {}\n",
    "logger = []\n",
    "n = len(historical_actions)\n",
    "# n = 5\n",
    "\n",
    "for action_count in range(n):\n",
    "\n",
    "    user_id = historical_actions['user_id'].values[action_count]\n",
    "    timestamp = historical_actions['timestep'].values[action_count]\n",
    "    tkn_name = historical_actions['poolSymbol'].values[action_count]\n",
    "    tkn_amt = historical_actions['tokenAmount_real'].values[action_count]\n",
    "    event_name = historical_actions['event_name'].values[action_count]\n",
    "    target_name = historical_actions['targetSymbol'].values[action_count]\n",
    "\n",
    "    try:\n",
    "        if event_name == 'trade':\n",
    "            v3.trade(tkn_amt=tkn_amt,\n",
    "                     source_token=tkn_name,\n",
    "                     target_token=target_name,\n",
    "                     user_name=user_id,\n",
    "                     timestamp=timestamp)\n",
    "\n",
    "        elif event_name == 'deposit':\n",
    "            v3.deposit(tkn_amt=tkn_amt,\n",
    "                       tkn_name=tkn_name,\n",
    "                       user_name=user_id,\n",
    "                       timestamp=timestamp)\n",
    "\n",
    "        elif event_name == 'withdraw_initiated':\n",
    "            withdraw_id = v3.begin_cooldown(tkn_amt=tkn_amt,\n",
    "                                            tkn_name=tkn_name,\n",
    "                                            user_name=user_id,\n",
    "                                            timestamp=timestamp)\n",
    "\n",
    "            if user_id not in withdrawals_initiated:\n",
    "                withdrawals_initiated['user_id'] = []\n",
    "\n",
    "            withdrawals_initiated['user_id'].append({\n",
    "                'tkn_name':tkn_name,\n",
    "                'tkn_amt':tkn_amt,\n",
    "                'timestamp':timestamp,\n",
    "                'withdraw_id': withdraw_id\n",
    "            })\n",
    "\n",
    "        elif event_name == 'withdraw_completed':\n",
    "            withdraw_id = None\n",
    "            user_withdrawals = withdrawals_initiated[user_id]\n",
    "\n",
    "            for cooldown in user_withdrawals:\n",
    "                if cooldown['tkn_name']==tkn_name:\n",
    "                    withdraw_id = cooldown['withdraw_id']\n",
    "\n",
    "            if withdraw_id is not None:\n",
    "                v3.withdraw(user_name=user_id,\n",
    "                            id_number=withdraw_id,\n",
    "                            timestamp=timestamp)\n",
    "\n",
    "        elif event_name == 'withdraw_canceled':\n",
    "            withdraw_id = None\n",
    "            user_withdrawals = withdrawals_initiated[user_id]\n",
    "            updated_user_withdrawals = []\n",
    "\n",
    "            for cooldown in user_withdrawals:\n",
    "                if cooldown['tkn_name']==tkn_name: withdraw_id = cooldown['withdraw_id']\n",
    "                else: updated_user_withdrawals.append(cooldown)\n",
    "\n",
    "            withdrawals_initiated[user_id] = updated_user_withdrawals\n",
    "\n",
    "        if not v3.global_state.tokens[tkn_name].is_trading_enabled:\n",
    "            v3.enable_trading(tkn_name=tkn_name, timestamp=timestamp)\n",
    "\n",
    "        df = v3.describe(decimals=4, users = False)\n",
    "        df['timestamp'] = [timestamp for _ in range(len(df))]\n",
    "        df = df.reset_index()\n",
    "        df = df[df['level_0'] > 1]\n",
    "        logger.append(df)\n",
    "\n",
    "    except:\n",
    "        pass\n",
    "    "
   ],
   "metadata": {
    "collapsed": false,
    "pycharm": {
     "name": "#%%\n"
    }
   }
  },
  {
   "cell_type": "code",
   "execution_count": 20,
   "outputs": [
    {
     "data": {
      "text/plain": "    level_0  level_1                   level_2           bnt        eth  \\\n0         2     Pool     a: TKN Staked Balance           NaN     0.0000   \n1         2     Pool  b: TKN Trading Liquidity           NaN     0.0000   \n2         2     Pool  c: BNT Trading Liquidity           NaN     0.0000   \n3         2     Pool    d: BNT Current Funding           NaN     0.0000   \n4         2     Pool              e: Spot Rate           NaN     0.0000   \n..      ...      ...                       ...           ...        ...   \n6         2     Pool   g: Average Inverse Rate           NaN     0.0000   \n7         3  Network              Master Vault  -507645.1931  6835.5312   \n8         3  Network          Protection Vault        0.0000     0.0000   \n9         3  Network           Protocol Equity           NaN        NaN   \n10        3  Network             Rewards Vault           NaN        NaN   \n\n             dai         link           bat          usdc          ren  ...  \\\n0         0.0000       0.0000        0.0000        0.0000       0.0000  ...   \n1         0.0000       0.0000        0.0000        0.0000       0.0000  ...   \n2         0.0000       0.0000        0.0000        0.0000       0.0000  ...   \n3         0.0000       0.0000        0.0000        0.0000       0.0000  ...   \n4         0.0000       0.0000        0.0000        0.0000       0.0000  ...   \n..           ...          ...           ...           ...          ...  ...   \n6         0.0000       0.0000        0.0000        0.0000       0.0000  ...   \n7   4756744.9549  942902.2285  2356012.1221  5071693.6223  840464.6489  ...   \n8         0.0000       0.0000        0.0000        0.0000       0.0000  ...   \n9            NaN          NaN           NaN           NaN          NaN  ...   \n10           NaN          NaN           NaN           NaN          NaN  ...   \n\n     bnbat  bnusdc   bnren  bnwbtc   bnenj   bnmkr bnmatic  bnmana vbnt  \\\n0      NaN     NaN     NaN     NaN     NaN     NaN     NaN     NaN  NaN   \n1      NaN     NaN     NaN     NaN     NaN     NaN     NaN     NaN  NaN   \n2      NaN     NaN     NaN     NaN     NaN     NaN     NaN     NaN  NaN   \n3      NaN     NaN     NaN     NaN     NaN     NaN     NaN     NaN  NaN   \n4      NaN     NaN     NaN     NaN     NaN     NaN     NaN     NaN  NaN   \n..     ...     ...     ...     ...     ...     ...     ...     ...  ...   \n6      NaN     NaN     NaN     NaN     NaN     NaN     NaN     NaN  NaN   \n7      NaN     NaN     NaN     NaN     NaN     NaN     NaN     NaN  NaN   \n8      NaN     NaN     NaN     NaN     NaN     NaN     NaN     NaN  NaN   \n9   0.0000  0.0000  0.0000  0.0000  0.0000  0.0000  0.0000  0.0000  NaN   \n10  0.0000  0.0000  0.0000  0.0000  0.0000  0.0000  0.0000  0.0000  NaN   \n\n   timestamp  \n0          0  \n1          0  \n2          0  \n3          0  \n4          0  \n..       ...  \n6      39858  \n7      39858  \n8      39858  \n9      39858  \n10     39858  \n\n[294206 rows x 29 columns]",
      "text/html": "<div>\n<style scoped>\n    .dataframe tbody tr th:only-of-type {\n        vertical-align: middle;\n    }\n\n    .dataframe tbody tr th {\n        vertical-align: top;\n    }\n\n    .dataframe thead th {\n        text-align: right;\n    }\n</style>\n<table border=\"1\" class=\"dataframe\">\n  <thead>\n    <tr style=\"text-align: right;\">\n      <th></th>\n      <th>level_0</th>\n      <th>level_1</th>\n      <th>level_2</th>\n      <th>bnt</th>\n      <th>eth</th>\n      <th>dai</th>\n      <th>link</th>\n      <th>bat</th>\n      <th>usdc</th>\n      <th>ren</th>\n      <th>...</th>\n      <th>bnbat</th>\n      <th>bnusdc</th>\n      <th>bnren</th>\n      <th>bnwbtc</th>\n      <th>bnenj</th>\n      <th>bnmkr</th>\n      <th>bnmatic</th>\n      <th>bnmana</th>\n      <th>vbnt</th>\n      <th>timestamp</th>\n    </tr>\n  </thead>\n  <tbody>\n    <tr>\n      <th>0</th>\n      <td>2</td>\n      <td>Pool</td>\n      <td>a: TKN Staked Balance</td>\n      <td>NaN</td>\n      <td>0.0000</td>\n      <td>0.0000</td>\n      <td>0.0000</td>\n      <td>0.0000</td>\n      <td>0.0000</td>\n      <td>0.0000</td>\n      <td>...</td>\n      <td>NaN</td>\n      <td>NaN</td>\n      <td>NaN</td>\n      <td>NaN</td>\n      <td>NaN</td>\n      <td>NaN</td>\n      <td>NaN</td>\n      <td>NaN</td>\n      <td>NaN</td>\n      <td>0</td>\n    </tr>\n    <tr>\n      <th>1</th>\n      <td>2</td>\n      <td>Pool</td>\n      <td>b: TKN Trading Liquidity</td>\n      <td>NaN</td>\n      <td>0.0000</td>\n      <td>0.0000</td>\n      <td>0.0000</td>\n      <td>0.0000</td>\n      <td>0.0000</td>\n      <td>0.0000</td>\n      <td>...</td>\n      <td>NaN</td>\n      <td>NaN</td>\n      <td>NaN</td>\n      <td>NaN</td>\n      <td>NaN</td>\n      <td>NaN</td>\n      <td>NaN</td>\n      <td>NaN</td>\n      <td>NaN</td>\n      <td>0</td>\n    </tr>\n    <tr>\n      <th>2</th>\n      <td>2</td>\n      <td>Pool</td>\n      <td>c: BNT Trading Liquidity</td>\n      <td>NaN</td>\n      <td>0.0000</td>\n      <td>0.0000</td>\n      <td>0.0000</td>\n      <td>0.0000</td>\n      <td>0.0000</td>\n      <td>0.0000</td>\n      <td>...</td>\n      <td>NaN</td>\n      <td>NaN</td>\n      <td>NaN</td>\n      <td>NaN</td>\n      <td>NaN</td>\n      <td>NaN</td>\n      <td>NaN</td>\n      <td>NaN</td>\n      <td>NaN</td>\n      <td>0</td>\n    </tr>\n    <tr>\n      <th>3</th>\n      <td>2</td>\n      <td>Pool</td>\n      <td>d: BNT Current Funding</td>\n      <td>NaN</td>\n      <td>0.0000</td>\n      <td>0.0000</td>\n      <td>0.0000</td>\n      <td>0.0000</td>\n      <td>0.0000</td>\n      <td>0.0000</td>\n      <td>...</td>\n      <td>NaN</td>\n      <td>NaN</td>\n      <td>NaN</td>\n      <td>NaN</td>\n      <td>NaN</td>\n      <td>NaN</td>\n      <td>NaN</td>\n      <td>NaN</td>\n      <td>NaN</td>\n      <td>0</td>\n    </tr>\n    <tr>\n      <th>4</th>\n      <td>2</td>\n      <td>Pool</td>\n      <td>e: Spot Rate</td>\n      <td>NaN</td>\n      <td>0.0000</td>\n      <td>0.0000</td>\n      <td>0.0000</td>\n      <td>0.0000</td>\n      <td>0.0000</td>\n      <td>0.0000</td>\n      <td>...</td>\n      <td>NaN</td>\n      <td>NaN</td>\n      <td>NaN</td>\n      <td>NaN</td>\n      <td>NaN</td>\n      <td>NaN</td>\n      <td>NaN</td>\n      <td>NaN</td>\n      <td>NaN</td>\n      <td>0</td>\n    </tr>\n    <tr>\n      <th>...</th>\n      <td>...</td>\n      <td>...</td>\n      <td>...</td>\n      <td>...</td>\n      <td>...</td>\n      <td>...</td>\n      <td>...</td>\n      <td>...</td>\n      <td>...</td>\n      <td>...</td>\n      <td>...</td>\n      <td>...</td>\n      <td>...</td>\n      <td>...</td>\n      <td>...</td>\n      <td>...</td>\n      <td>...</td>\n      <td>...</td>\n      <td>...</td>\n      <td>...</td>\n      <td>...</td>\n    </tr>\n    <tr>\n      <th>6</th>\n      <td>2</td>\n      <td>Pool</td>\n      <td>g: Average Inverse Rate</td>\n      <td>NaN</td>\n      <td>0.0000</td>\n      <td>0.0000</td>\n      <td>0.0000</td>\n      <td>0.0000</td>\n      <td>0.0000</td>\n      <td>0.0000</td>\n      <td>...</td>\n      <td>NaN</td>\n      <td>NaN</td>\n      <td>NaN</td>\n      <td>NaN</td>\n      <td>NaN</td>\n      <td>NaN</td>\n      <td>NaN</td>\n      <td>NaN</td>\n      <td>NaN</td>\n      <td>39858</td>\n    </tr>\n    <tr>\n      <th>7</th>\n      <td>3</td>\n      <td>Network</td>\n      <td>Master Vault</td>\n      <td>-507645.1931</td>\n      <td>6835.5312</td>\n      <td>4756744.9549</td>\n      <td>942902.2285</td>\n      <td>2356012.1221</td>\n      <td>5071693.6223</td>\n      <td>840464.6489</td>\n      <td>...</td>\n      <td>NaN</td>\n      <td>NaN</td>\n      <td>NaN</td>\n      <td>NaN</td>\n      <td>NaN</td>\n      <td>NaN</td>\n      <td>NaN</td>\n      <td>NaN</td>\n      <td>NaN</td>\n      <td>39858</td>\n    </tr>\n    <tr>\n      <th>8</th>\n      <td>3</td>\n      <td>Network</td>\n      <td>Protection Vault</td>\n      <td>0.0000</td>\n      <td>0.0000</td>\n      <td>0.0000</td>\n      <td>0.0000</td>\n      <td>0.0000</td>\n      <td>0.0000</td>\n      <td>0.0000</td>\n      <td>...</td>\n      <td>NaN</td>\n      <td>NaN</td>\n      <td>NaN</td>\n      <td>NaN</td>\n      <td>NaN</td>\n      <td>NaN</td>\n      <td>NaN</td>\n      <td>NaN</td>\n      <td>NaN</td>\n      <td>39858</td>\n    </tr>\n    <tr>\n      <th>9</th>\n      <td>3</td>\n      <td>Network</td>\n      <td>Protocol Equity</td>\n      <td>NaN</td>\n      <td>NaN</td>\n      <td>NaN</td>\n      <td>NaN</td>\n      <td>NaN</td>\n      <td>NaN</td>\n      <td>NaN</td>\n      <td>...</td>\n      <td>0.0000</td>\n      <td>0.0000</td>\n      <td>0.0000</td>\n      <td>0.0000</td>\n      <td>0.0000</td>\n      <td>0.0000</td>\n      <td>0.0000</td>\n      <td>0.0000</td>\n      <td>NaN</td>\n      <td>39858</td>\n    </tr>\n    <tr>\n      <th>10</th>\n      <td>3</td>\n      <td>Network</td>\n      <td>Rewards Vault</td>\n      <td>NaN</td>\n      <td>NaN</td>\n      <td>NaN</td>\n      <td>NaN</td>\n      <td>NaN</td>\n      <td>NaN</td>\n      <td>NaN</td>\n      <td>...</td>\n      <td>0.0000</td>\n      <td>0.0000</td>\n      <td>0.0000</td>\n      <td>0.0000</td>\n      <td>0.0000</td>\n      <td>0.0000</td>\n      <td>0.0000</td>\n      <td>0.0000</td>\n      <td>NaN</td>\n      <td>39858</td>\n    </tr>\n  </tbody>\n</table>\n<p>294206 rows × 29 columns</p>\n</div>"
     },
     "execution_count": 20,
     "metadata": {},
     "output_type": "execute_result"
    }
   ],
   "source": [
    "log_df = pd.concat(logger)\n",
    "log_df"
   ],
   "metadata": {
    "collapsed": false,
    "pycharm": {
     "name": "#%%\n"
    }
   }
  },
  {
   "cell_type": "code",
   "execution_count": 21,
   "outputs": [],
   "source": [
    "log_df.to_parquet('data/logging_baseline.parquet', compression='gzip')"
   ],
   "metadata": {
    "collapsed": false,
    "pycharm": {
     "name": "#%%\n"
    }
   }
  },
  {
   "cell_type": "code",
   "execution_count": 22,
   "outputs": [
    {
     "name": "stderr",
     "output_type": "stream",
     "text": [
      "/Users/mikewcasale/miniforge3/envs/bancor_research_env/lib/python3.8/site-packages/pandas/core/frame.py:3607: SettingWithCopyWarning: \n",
      "A value is trying to be set on a copy of a slice from a DataFrame.\n",
      "Try using .loc[row_indexer,col_indexer] = value instead\n",
      "\n",
      "See the caveats in the documentation: https://pandas.pydata.org/pandas-docs/stable/user_guide/indexing.html#returning-a-view-versus-a-copy\n",
      "  self._set_item(key, value)\n"
     ]
    },
    {
     "data": {
      "text/plain": "    timestamp tkn_name                      name      amount\n7           0      eth              Master Vault      0.0000\n8           0      eth          Protection Vault      0.0000\n9           0      eth           Protocol Equity         NaN\n10          0      eth             Rewards Vault         NaN\n0           0      eth     a: TKN Staked Balance      0.0000\n..        ...      ...                       ...         ...\n2       39858     mana  c: BNT Trading Liquidity  66271.8109\n3       39858     mana    d: BNT Current Funding  20279.4316\n4       39858     mana              e: Spot Rate      1.0027\n5       39858     mana           f: Average Rate      1.1219\n6       39858     mana   g: Average Inverse Rate      0.0000\n\n[3236266 rows x 4 columns]",
      "text/html": "<div>\n<style scoped>\n    .dataframe tbody tr th:only-of-type {\n        vertical-align: middle;\n    }\n\n    .dataframe tbody tr th {\n        vertical-align: top;\n    }\n\n    .dataframe thead th {\n        text-align: right;\n    }\n</style>\n<table border=\"1\" class=\"dataframe\">\n  <thead>\n    <tr style=\"text-align: right;\">\n      <th></th>\n      <th>timestamp</th>\n      <th>tkn_name</th>\n      <th>name</th>\n      <th>amount</th>\n    </tr>\n  </thead>\n  <tbody>\n    <tr>\n      <th>7</th>\n      <td>0</td>\n      <td>eth</td>\n      <td>Master Vault</td>\n      <td>0.0000</td>\n    </tr>\n    <tr>\n      <th>8</th>\n      <td>0</td>\n      <td>eth</td>\n      <td>Protection Vault</td>\n      <td>0.0000</td>\n    </tr>\n    <tr>\n      <th>9</th>\n      <td>0</td>\n      <td>eth</td>\n      <td>Protocol Equity</td>\n      <td>NaN</td>\n    </tr>\n    <tr>\n      <th>10</th>\n      <td>0</td>\n      <td>eth</td>\n      <td>Rewards Vault</td>\n      <td>NaN</td>\n    </tr>\n    <tr>\n      <th>0</th>\n      <td>0</td>\n      <td>eth</td>\n      <td>a: TKN Staked Balance</td>\n      <td>0.0000</td>\n    </tr>\n    <tr>\n      <th>...</th>\n      <td>...</td>\n      <td>...</td>\n      <td>...</td>\n      <td>...</td>\n    </tr>\n    <tr>\n      <th>2</th>\n      <td>39858</td>\n      <td>mana</td>\n      <td>c: BNT Trading Liquidity</td>\n      <td>66271.8109</td>\n    </tr>\n    <tr>\n      <th>3</th>\n      <td>39858</td>\n      <td>mana</td>\n      <td>d: BNT Current Funding</td>\n      <td>20279.4316</td>\n    </tr>\n    <tr>\n      <th>4</th>\n      <td>39858</td>\n      <td>mana</td>\n      <td>e: Spot Rate</td>\n      <td>1.0027</td>\n    </tr>\n    <tr>\n      <th>5</th>\n      <td>39858</td>\n      <td>mana</td>\n      <td>f: Average Rate</td>\n      <td>1.1219</td>\n    </tr>\n    <tr>\n      <th>6</th>\n      <td>39858</td>\n      <td>mana</td>\n      <td>g: Average Inverse Rate</td>\n      <td>0.0000</td>\n    </tr>\n  </tbody>\n</table>\n<p>3236266 rows × 4 columns</p>\n</div>"
     },
     "execution_count": 22,
     "metadata": {},
     "output_type": "execute_result"
    }
   ],
   "source": [
    "nl=[]\n",
    "l = [log_df[['level_2','timestamp',tkn]] for tkn in simulation_tokens]\n",
    "for dfx in l:\n",
    "    tkn_name = dfx.columns[-1]\n",
    "    dfx['tkn_name'] = [tkn_name for _ in range(len(dfx))]\n",
    "    dfx = dfx.rename({tkn_name:'amount', 'level_2':'name'}, axis=1)\n",
    "    dfx = dfx.sort_values(['tkn_name', 'timestamp', 'name'])\n",
    "    dfx = dfx[['timestamp', 'tkn_name', 'name', 'amount']]\n",
    "    nl.append(dfx)\n",
    "\n",
    "output = pd.concat(nl)\n",
    "output"
   ],
   "metadata": {
    "collapsed": false,
    "pycharm": {
     "name": "#%%\n"
    }
   }
  },
  {
   "cell_type": "code",
   "execution_count": 23,
   "outputs": [],
   "source": [
    "output.to_parquet('data/baseline.parquet', compression='gzip')"
   ],
   "metadata": {
    "collapsed": false,
    "pycharm": {
     "name": "#%%\n"
    }
   }
  },
  {
   "cell_type": "code",
   "execution_count": 1,
   "outputs": [
    {
     "ename": "NameError",
     "evalue": "name 'output' is not defined",
     "output_type": "error",
     "traceback": [
      "\u001B[0;31m---------------------------------------------------------------------------\u001B[0m",
      "\u001B[0;31mNameError\u001B[0m                                 Traceback (most recent call last)",
      "\u001B[0;32m/var/folders/rt/qnj8r6yd6131ccxkw_k9d9gc0000gn/T/ipykernel_60886/2415424161.py\u001B[0m in \u001B[0;36m<cell line: 1>\u001B[0;34m()\u001B[0m\n\u001B[0;32m----> 1\u001B[0;31m \u001B[0moutput\u001B[0m\u001B[0;34m\u001B[0m\u001B[0;34m\u001B[0m\u001B[0m\n\u001B[0m",
      "\u001B[0;31mNameError\u001B[0m: name 'output' is not defined"
     ]
    }
   ],
   "source": [
    "output"
   ],
   "metadata": {
    "collapsed": false,
    "pycharm": {
     "name": "#%%\n"
    }
   }
  },
  {
   "cell_type": "code",
   "execution_count": null,
   "outputs": [],
   "source": [],
   "metadata": {
    "collapsed": false,
    "pycharm": {
     "name": "#%%\n"
    }
   }
  }
 ],
 "metadata": {
  "kernelspec": {
   "name": "bancor_research_env",
   "language": "python",
   "display_name": "bancor_research_env"
  },
  "language_info": {
   "codemirror_mode": {
    "name": "ipython",
    "version": 2
   },
   "file_extension": ".py",
   "mimetype": "text/x-python",
   "name": "python",
   "nbconvert_exporter": "python",
   "pygments_lexer": "ipython2",
   "version": "2.7.6"
  }
 },
 "nbformat": 4,
 "nbformat_minor": 0
}