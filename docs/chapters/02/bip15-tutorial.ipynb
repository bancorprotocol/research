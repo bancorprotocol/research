{
 "cells": [
  {
   "cell_type": "markdown",
   "metadata": {},
   "source": [
    "# BIP15 Tutorial\n",
    "\n",
    "Below are examples of how to apply BancorSimulation library to a variety of problems:"
   ]
  },
  {
   "cell_type": "markdown",
   "metadata": {
    "nbsphinx-toctree": {
     "maxdepth": 1
    }
   },
   "source": [
    "[Insurance Vesting Time](2/re-evaluating-the-insurance-vesting-time)"
   ]
  },
  {
   "cell_type": "markdown",
   "metadata": {
    "nbsphinx-toctree": {
     "maxdepth": 1
    }
   },
   "source": [
    "[A 7-day Cool-Off Period](3/a-7-day-cool-off-period)"
   ]
  },
  {
   "cell_type": "markdown",
   "metadata": {
    "nbsphinx-toctree": {
     "maxdepth": 1
    }
   },
   "source": [
    "[Exit Fees](4/exit-fees)"
   ]
  },
  {
   "cell_type": "markdown",
   "metadata": {
    "nbsphinx-toctree": {
     "maxdepth": 1
    }
   },
   "source": [
    "[Single-Sided Pools](5/single-sided-pool-tokens)"
   ]
  },
  {
   "cell_type": "markdown",
   "source": [
    "[Single-Sided Stakers](6/single-sided-stakers-as-first-class-citizens)"
   ],
   "metadata": {
    "collapsed": false,
    "pycharm": {
     "name": "#%% md\n"
    }
   }
  },
  {
   "cell_type": "markdown",
   "source": [
    "[Bootstrapping Behavior](7/bootstrapping-behavior)"
   ],
   "metadata": {
    "collapsed": false
   }
  },
  {
   "cell_type": "markdown",
   "source": [
    "[Trading](8/trading)"
   ],
   "metadata": {
    "collapsed": false
   }
  },
  {
   "cell_type": "markdown",
   "source": [
    "[The Moving Average](9/the-moving-average)"
   ],
   "metadata": {
    "collapsed": false
   }
  },
  {
   "cell_type": "markdown",
   "source": [
    "[Staking](10/staking)\n"
   ],
   "metadata": {
    "collapsed": false
   }
  }
 ],
 "metadata": {
  "kernelspec": {
   "display_name": "Python 3",
   "language": "python",
   "name": "python3"
  },
  "language_info": {
   "codemirror_mode": {
    "name": "ipython",
    "version": 3
   },
   "file_extension": ".py",
   "mimetype": "text/x-python",
   "name": "python",
   "nbconvert_exporter": "python",
   "pygments_lexer": "ipython3",
   "version": "3.8.6"
  }
 },
 "nbformat": 4,
 "nbformat_minor": 4
}