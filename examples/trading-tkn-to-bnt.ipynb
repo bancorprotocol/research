{
 "cells": [
  {
   "cell_type": "code",
   "execution_count": 4,
   "metadata": {
    "tags": [
     "remove-input"
    ]
   },
   "outputs": [
    {
     "name": "stdout",
     "output_type": "stream",
     "text": [
      "Bootstrap requirements met for eth\n",
      "Bootstrap requirements met for wbtc\n",
      "Bootstrap requirements met for link\n"
     ]
    }
   ],
   "source": [
    "from datascience import *\n",
    "from datascience.predicates import are\n",
    "path_data = '../../../../data/'\n",
    "import numpy as np\n",
    "import matplotlib\n",
    "matplotlib.use('Agg')\n",
    "%matplotlib inline\n",
    "import matplotlib.pyplot as plots\n",
    "plots.style.use('fivethirtyeight')\n",
    "import warnings\n",
    "warnings.simplefilter(action=\"ignore\", category=FutureWarning)\n",
    "\n",
    "from urllib.request import urlopen \n",
    "import re\n",
    "from bancor_research.bancor_simulator.v3.spec.network import BancorDapp\n",
    "\n",
    "# Recall from an earlier chapter that we already defined the whitelisted_tokens as follows.\n",
    "whitelisted_tokens: list = ['bnt', 'eth', 'wbtc', 'link']\n",
    "\n",
    "# There are other possible configuration settings available, however for the present purpose we will use the defaults.\n",
    "v3 = BancorDapp(whitelisted_tokens=whitelisted_tokens)\n",
    "\n",
    "v3.create_user('Trader')\n",
    "\n",
    "v3.set_user_balance(tkn_amt=101, tkn_name='eth', user_name='Alice')\n",
    "v3.set_user_balance(tkn_amt=101, tkn_name='wbtc', user_name='Bob')\n",
    "v3.set_user_balance(tkn_amt=10001, tkn_name='link', user_name='Charlie')\n",
    "v3.set_user_balance(tkn_amt=2000, tkn_name='bnt', user_name='Trader')\n",
    "v3.set_user_balance(tkn_amt=3, tkn_name='link', user_name='Trader')\n",
    "\n",
    "# The actual deposits.\n",
    "\n",
    "v3.deposit(tkn_amt=100, tkn_name='eth', user_name='Alice')\n",
    "\n",
    "v3.deposit(tkn_amt=10000, tkn_name='link', user_name='Charlie')\n",
    "\n",
    "v3.deposit(tkn_amt=100, tkn_name='wbtc', user_name='Bob')\n",
    "\n",
    "v3.deposit(tkn_amt=1, tkn_name='eth', user_name='Alice')\n",
    "\n",
    "v3.deposit(tkn_amt=1, tkn_name='link', user_name='Charlie')\n",
    "\n",
    "v3.deposit(tkn_amt=1, tkn_name='wbtc', user_name='Bob')\n",
    "\n",
    "v3.dao_msig_init_pools(whitelisted_tokens, 'bnt')\n",
    "\n",
    "v3.trade(tkn_amt=2000, source_token='bnt',  target_token='link', user_name='Trader', timestamp=0)\n",
    "\n",
    "def read_url(url): \n",
    "    return re.sub('\\\\s+', ' ', urlopen(url).read().decode())"
   ]
  },
  {
   "cell_type": "code",
   "execution_count": 5,
   "outputs": [
    {
     "data": {
      "text/plain": "                   Trading Liquidity             Vault            Staking  \\\n0     bnt=20000.000000 eth=20.000000   bnt=2000.000000       bnt=0.000000   \n1     bnt=20000.000000 wbtc=1.250000    eth=101.000000     eth=101.000000   \n2  bnt=21995.604396 link=3033.333333   wbtc=101.000000    wbtc=101.000000   \n3                                     link=9701.000000  link=10003.424242   \n\n       ERC20 Contracts        Vortex External Protection Protocol WalletState  \n0       bnbnt=0.000000  bnt=4.395604        bnt=0.000000   bnbnt=20000.000000  \n1     bneth=101.000000                      eth=0.000000                       \n2    bnwbtc=101.000000                     wbtc=0.000000                       \n3  bnlink=10001.000000                     link=0.000000                       ",
      "text/html": "<div>\n<style scoped>\n    .dataframe tbody tr th:only-of-type {\n        vertical-align: middle;\n    }\n\n    .dataframe tbody tr th {\n        vertical-align: top;\n    }\n\n    .dataframe thead th {\n        text-align: right;\n    }\n</style>\n<table border=\"1\" class=\"dataframe\">\n  <thead>\n    <tr style=\"text-align: right;\">\n      <th></th>\n      <th>Trading Liquidity</th>\n      <th>Vault</th>\n      <th>Staking</th>\n      <th>ERC20 Contracts</th>\n      <th>Vortex</th>\n      <th>External Protection</th>\n      <th>Protocol WalletState</th>\n    </tr>\n  </thead>\n  <tbody>\n    <tr>\n      <th>0</th>\n      <td>bnt=20000.000000 eth=20.000000</td>\n      <td>bnt=2000.000000</td>\n      <td>bnt=0.000000</td>\n      <td>bnbnt=0.000000</td>\n      <td>bnt=4.395604</td>\n      <td>bnt=0.000000</td>\n      <td>bnbnt=20000.000000</td>\n    </tr>\n    <tr>\n      <th>1</th>\n      <td>bnt=20000.000000 wbtc=1.250000</td>\n      <td>eth=101.000000</td>\n      <td>eth=101.000000</td>\n      <td>bneth=101.000000</td>\n      <td></td>\n      <td>eth=0.000000</td>\n      <td></td>\n    </tr>\n    <tr>\n      <th>2</th>\n      <td>bnt=21995.604396 link=3033.333333</td>\n      <td>wbtc=101.000000</td>\n      <td>wbtc=101.000000</td>\n      <td>bnwbtc=101.000000</td>\n      <td></td>\n      <td>wbtc=0.000000</td>\n      <td></td>\n    </tr>\n    <tr>\n      <th>3</th>\n      <td></td>\n      <td>link=9701.000000</td>\n      <td>link=10003.424242</td>\n      <td>bnlink=10001.000000</td>\n      <td></td>\n      <td>link=0.000000</td>\n      <td></td>\n    </tr>\n  </tbody>\n</table>\n</div>"
     },
     "execution_count": 5,
     "metadata": {},
     "output_type": "execute_result"
    }
   ],
   "source": [
    "v3.describe(decimals=6)"
   ],
   "metadata": {
    "collapsed": false,
    "pycharm": {
     "name": "#%%\n"
    }
   }
  },
  {
   "cell_type": "markdown",
   "metadata": {},
   "source": [
    "# Trading and Fees - TKN to BNT\n",
    "\n",
    "Assume now that a trader wants to perform the opposite action, perhaps to close an arbitrage opportunity left open by the previous swap. The trader sends 302.9981 LINK into the vault, and the vault sends 1977.6155 BNT to the trader. As before, the trader’s intuition agrees with the changing state of the vault balances; however, the changes in the trading liquidity and staked balances require closer examination."
   ]
  },
  {
   "cell_type": "code",
   "execution_count": 6,
   "outputs": [
    {
     "data": {
      "text/plain": "               Trading Liquidity            Vault          Staking  \\\n0     bnt=20000.0000 eth=20.0000      bnt=22.3847      bnt=15.9807   \n1     bnt=20000.0000 wbtc=1.2500     eth=101.0000     eth=101.0000   \n2  bnt=20013.9939 link=3336.3314    wbtc=101.0000    wbtc=101.0000   \n3                                 link=10003.9981  link=10003.4242   \n\n     ERC20 Contracts      Vortex External Protection Protocol WalletState  \n0       bnbnt=0.0000  bnt=8.3908          bnt=0.0000     bnbnt=20000.0000  \n1     bneth=101.0000                      eth=0.0000                       \n2    bnwbtc=101.0000                     wbtc=0.0000                       \n3  bnlink=10001.0000                     link=0.0000                       ",
      "text/html": "<div>\n<style scoped>\n    .dataframe tbody tr th:only-of-type {\n        vertical-align: middle;\n    }\n\n    .dataframe tbody tr th {\n        vertical-align: top;\n    }\n\n    .dataframe thead th {\n        text-align: right;\n    }\n</style>\n<table border=\"1\" class=\"dataframe\">\n  <thead>\n    <tr style=\"text-align: right;\">\n      <th></th>\n      <th>Trading Liquidity</th>\n      <th>Vault</th>\n      <th>Staking</th>\n      <th>ERC20 Contracts</th>\n      <th>Vortex</th>\n      <th>External Protection</th>\n      <th>Protocol WalletState</th>\n    </tr>\n  </thead>\n  <tbody>\n    <tr>\n      <th>0</th>\n      <td>bnt=20000.0000 eth=20.0000</td>\n      <td>bnt=22.3847</td>\n      <td>bnt=15.9807</td>\n      <td>bnbnt=0.0000</td>\n      <td>bnt=8.3908</td>\n      <td>bnt=0.0000</td>\n      <td>bnbnt=20000.0000</td>\n    </tr>\n    <tr>\n      <th>1</th>\n      <td>bnt=20000.0000 wbtc=1.2500</td>\n      <td>eth=101.0000</td>\n      <td>eth=101.0000</td>\n      <td>bneth=101.0000</td>\n      <td></td>\n      <td>eth=0.0000</td>\n      <td></td>\n    </tr>\n    <tr>\n      <th>2</th>\n      <td>bnt=20013.9939 link=3336.3314</td>\n      <td>wbtc=101.0000</td>\n      <td>wbtc=101.0000</td>\n      <td>bnwbtc=101.0000</td>\n      <td></td>\n      <td>wbtc=0.0000</td>\n      <td></td>\n    </tr>\n    <tr>\n      <th>3</th>\n      <td></td>\n      <td>link=10003.9981</td>\n      <td>link=10003.4242</td>\n      <td>bnlink=10001.0000</td>\n      <td></td>\n      <td>link=0.0000</td>\n      <td></td>\n    </tr>\n  </tbody>\n</table>\n</div>"
     },
     "execution_count": 6,
     "metadata": {},
     "output_type": "execute_result"
    }
   ],
   "source": [
    "v3.trade(tkn_amt=302.9981, source_token='link',  target_token='bnt', user_name='Trader', timestamp=0)\n",
    "\n",
    "v3.describe(decimals=4)"
   ],
   "metadata": {
    "collapsed": false,
    "pycharm": {
     "name": "#%%\n"
    }
   }
  },
  {
   "cell_type": "markdown",
   "source": [
    "In this trade, the target asset is BNT. Therefore, there is no need to perform a second, virtual swap at the end of the trade. Instead, the vortex fee is taken directly from the effective fee. Importantly, this results in a slightly reduced change in the growth of the BNT trading liquidity as judged from the trader's perspective. The trader's fee totals 19.9759 BNT, of which 3.9952 BNT becomes the property of the Bancor Vortex. The difference (15.9807 BNT) is added to the BNT staking ledger, and causes the value of the bnBNT pool token to appreciate.\n",
    "\n",
    "Therefore, during the trade the following components of the system were changed:\n",
    "\n",
    "1. The vault balances. The change in the vault is always in agreement with the trader's intuition. In this case, the trader sent 302.99814 LINK into the vault, and received 1977.615545 BNT from it. Therefore, the vault balance of LINK necessarily increased by 302.99814 LINK, and decreased by 1977.615545 BNT.\n",
    "\n",
    "2. The staking ledger. Trading fees are always taken from the target asset. Therefore, the value of the bnBNT pool token must be appreciated by 80% of the fee apparent to the trader (i.e. the total fee - vortex rate). A total of 15.980731 BNT tokens are added to the staked amount, which becomes the property of the bnBNT pool token holders (at this point in the narrative, is the protocol only).\n",
    "\n",
    "3. The vortex ledger. A portion of the fee paid by the trader is effectively collected, and added to the vortex ledger.\n",
    "\n",
    "4. The trading liquidity. The apparent disagreement between the intuitive result, and the one obtained, is accounted for by the effect of the BNT collection by the vortex.\n",
    "\n",
    "The change in the BNT and LINK trading liquidity can be expressed as follows:\n",
    "\n",
    "![](https://lh3.googleusercontent.com/fdNz0QqFKQ0CaabnT7t8pfphTCylaW4ox8YEPNF_i662Xgt3CECetm3GRt34YJ5orHz2zXPPRNX6uIPOlLX1PwSjCXaWmCCcAYrpaeTS0gip1FGZTjOlcOqOACtUJAm-dtXGtsVH)\n",
    "\n",
    "![](https://lh6.googleusercontent.com/femAV9RrDUJnonpzPV4mevFeQYL1F5RkUXktaroDl78ixkfTwxssW0mglLr0eS_KvC6l0ZewOMX0oQKmi-cnXRpe69q9wg3xich5UXF46qbXEPP9pRzN1xZ94I_dmXnoPRVX2vS1)\n",
    "\n",
    "![](https://lh6.googleusercontent.com/Y5Isbbj4UjPyamIcti-mUZNAjYiopquxluK2rM0AXAkpqP6ZYhpTU9Ad447Z334-q5b_a2yXXp5oSCBf7e_a3ZqmpG_O9xU3SPfSOtAK8vwOW9cOWBe4VL0bWDFOFzN9k-sd7Veh)\n",
    "\n",
    "where a1† and a1 are the BNT trading liquidity balances of the pool after and before the trade, respectively, b1† and b1 are the LINK trading liquidity balances of the pool after and before the trade, respectively, d1 is the pool fee (e.g. 0.01, or 1%) and e is the Vortex rate (e.g. 0.2, or 20%). The number of LINK tokens being sent into the vault is x, and the number of BNT tokens sent back to the trader is bntOut. The change in the TKN trading liquidity (and therefore the update to the available LINK trading liquidity) is unchanged from the standard case. The calculation of the fee awarded to liquidity providers, denominated in BNT and added to the staking ledger is:\n",
    "\n",
    "![](https://lh4.googleusercontent.com/L37q1CVjSJ4-I_j8q_cdhXbxgP9oZ7PXkJ3UVzH67xmPyj9fHUucHYQVBt6wkDnYidSawiK4BIFDbLf1exJc_p7PEDPBgim4XAHRLtBk9IaGCvblhyAXfxnYAk0EcAsJ_CGx_ai_)\n",
    "\n",
    "And the calculation for the fee given to the Bancor Vortex, denominated exclusively in BNT and added to the vortex ledger is:\n",
    "\n",
    "![](https://lh3.googleusercontent.com/0sr_cE39asE2B1XQGhuD3whJwUP_yhjwv3QswhtG-nPmfTLQGFBgScf8HAtEyWnGiapYkaTkc5qhdCW0DlZzHDJTRWaTFtYB3Ynn2uij2Tga0czOs-gHFMii521VkSNlLk7KsPDf)"
   ],
   "metadata": {
    "collapsed": false,
    "pycharm": {
     "name": "#%% md\n"
    }
   }
  },
  {
   "cell_type": "code",
   "execution_count": 6,
   "outputs": [],
   "source": [],
   "metadata": {
    "collapsed": false,
    "pycharm": {
     "name": "#%%\n"
    }
   }
  },
  {
   "cell_type": "code",
   "execution_count": 6,
   "outputs": [],
   "source": [],
   "metadata": {
    "collapsed": false,
    "pycharm": {
     "name": "#%%\n"
    }
   }
  }
 ],
 "metadata": {
  "kernelspec": {
   "name": "pycharm-c19c9c8d",
   "language": "python",
   "display_name": "PyCharm (simulator-v3)"
  },
  "language_info": {
   "codemirror_mode": {
    "name": "ipython",
    "version": 3
   },
   "file_extension": ".py",
   "mimetype": "text/x-python",
   "name": "python",
   "nbconvert_exporter": "python",
   "pygments_lexer": "ipython3",
   "version": "3.8.5"
  }
 },
 "nbformat": 4,
 "nbformat_minor": 2
}