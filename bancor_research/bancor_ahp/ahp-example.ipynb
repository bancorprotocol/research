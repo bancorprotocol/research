{
 "cells": [
  {
   "cell_type": "markdown",
   "source": [
    "# AHPy\n",
    "\n",
    "**AHPy** is an implementation of the Analytic Hierarchy Process ([AHP](https://en.wikipedia.org/wiki/Analytic_hierarchy_process)), a method used to structure, synthesize and evaluate the elements of a decision problem. Developed by [Thomas Saaty](http://www.creativedecisions.org/about/ThomasLSaaty.php) in the 1970s, AHP's broad use in fields well beyond that of operational research is a testament to its simple yet powerful combination of psychology and mathematics.\n",
    "\n",
    "<p align=\"center\">\n",
    "<img width=\"680\" src=\"Analytical Hierarchy Process.png\" alt=\"bancor3\" />\n",
    "</p>"
   ],
   "metadata": {
    "collapsed": false
   }
  },
  {
   "cell_type": "code",
   "execution_count": 994,
   "outputs": [],
   "source": [
    "from fractions import Fraction\n",
    "import itertools\n",
    "import random\n",
    "import pandas as pd\n",
    "import ahpy"
   ],
   "metadata": {
    "collapsed": false,
    "pycharm": {
     "name": "#%%\n"
    }
   }
  },
  {
   "cell_type": "markdown",
   "source": [],
   "metadata": {
    "collapsed": false
   }
  },
  {
   "cell_type": "markdown",
   "source": [
    "### The following code demonstrates how to arrive at a decision matrix such as that shown below."
   ],
   "metadata": {
    "collapsed": false
   }
  },
  {
   "cell_type": "code",
   "execution_count": 1029,
   "outputs": [
    {
     "data": {
      "text/plain": "                       Unnamed: 0   Fees  Resources  Deficit  Alignment  \\\n0  Remove BNT from pools Proposal  0.346       0.45    0.318      0.222   \n1                Airswap Proposal  0.269       0.40    0.273      0.259   \n2         USDT liquidity Proposal  0.192       0.05    0.227      0.259   \n3        Enable deposits Proposal  0.192       0.10    0.182      0.259   \n\n    Risk  Total  \n0  0.222  1.558  \n1  0.185  1.386  \n2  0.259  0.987  \n3  0.333  1.066  ",
      "text/html": "<div>\n<style scoped>\n    .dataframe tbody tr th:only-of-type {\n        vertical-align: middle;\n    }\n\n    .dataframe tbody tr th {\n        vertical-align: top;\n    }\n\n    .dataframe thead th {\n        text-align: right;\n    }\n</style>\n<table border=\"1\" class=\"dataframe\">\n  <thead>\n    <tr style=\"text-align: right;\">\n      <th></th>\n      <th>Unnamed: 0</th>\n      <th>Fees</th>\n      <th>Resources</th>\n      <th>Deficit</th>\n      <th>Alignment</th>\n      <th>Risk</th>\n      <th>Total</th>\n    </tr>\n  </thead>\n  <tbody>\n    <tr>\n      <th>0</th>\n      <td>Remove BNT from pools Proposal</td>\n      <td>0.346</td>\n      <td>0.45</td>\n      <td>0.318</td>\n      <td>0.222</td>\n      <td>0.222</td>\n      <td>1.558</td>\n    </tr>\n    <tr>\n      <th>1</th>\n      <td>Airswap Proposal</td>\n      <td>0.269</td>\n      <td>0.40</td>\n      <td>0.273</td>\n      <td>0.259</td>\n      <td>0.185</td>\n      <td>1.386</td>\n    </tr>\n    <tr>\n      <th>2</th>\n      <td>USDT liquidity Proposal</td>\n      <td>0.192</td>\n      <td>0.05</td>\n      <td>0.227</td>\n      <td>0.259</td>\n      <td>0.259</td>\n      <td>0.987</td>\n    </tr>\n    <tr>\n      <th>3</th>\n      <td>Enable deposits Proposal</td>\n      <td>0.192</td>\n      <td>0.10</td>\n      <td>0.182</td>\n      <td>0.259</td>\n      <td>0.333</td>\n      <td>1.066</td>\n    </tr>\n  </tbody>\n</table>\n</div>"
     },
     "execution_count": 1029,
     "metadata": {},
     "output_type": "execute_result"
    }
   ],
   "source": [
    "pd.read_csv('ahp_example.csv')"
   ],
   "metadata": {
    "collapsed": false,
    "pycharm": {
     "name": "#%%\n"
    }
   }
  },
  {
   "cell_type": "code",
   "execution_count": 995,
   "metadata": {
    "collapsed": true
   },
   "outputs": [],
   "source": [
    "# Simulated survey takers (could be only the task force or volunteers or the entire dao survey respondents)\n",
    "dao_survey_respondents = {\n",
    "    'Mark': [],\n",
    "    'Rick': [],\n",
    "    'Stefan': [],\n",
    "    'Tyler': []\n",
    "}"
   ]
  },
  {
   "cell_type": "markdown",
   "source": [
    "### "
   ],
   "metadata": {
    "collapsed": false
   }
  },
  {
   "cell_type": "code",
   "execution_count": 996,
   "outputs": [
    {
     "data": {
      "text/plain": "[('Airswap Proposal', 'USDT liquidity Proposal'),\n ('Airswap Proposal', 'Remove BNT from pools Proposal'),\n ('Airswap Proposal', 'Enable deposits Proposal'),\n ('USDT liquidity Proposal', 'Remove BNT from pools Proposal'),\n ('USDT liquidity Proposal', 'Enable deposits Proposal'),\n ('Remove BNT from pools Proposal', 'Enable deposits Proposal')]"
     },
     "execution_count": 996,
     "metadata": {},
     "output_type": "execute_result"
    }
   ],
   "source": [
    "# Alternative recovery proposals\n",
    "alternatives = (\n",
    "    'Airswap Proposal',\n",
    "    'USDT liquidity Proposal',\n",
    "    'Remove BNT from pools Proposal',\n",
    "    'Enable deposits Proposal'\n",
    ")\n",
    "alternatives_pairs = list(itertools.combinations(alternatives, 2))\n",
    "alternatives_pairs"
   ],
   "metadata": {
    "collapsed": false,
    "pycharm": {
     "name": "#%%\n"
    }
   }
  },
  {
   "cell_type": "code",
   "execution_count": 997,
   "outputs": [],
   "source": [
    "# Simulated survey takers with randomized responses for demonstration\n",
    "def simulate_dao_survey(alternatives_pairs, survey, results={}, response={}):\n",
    "    for alternative in alternatives_pairs:\n",
    "        for comparison in survey:\n",
    "            importance = random.randint(1, 9)\n",
    "            results[comparison] = importance\n",
    "    return [float(Fraction(results[alternatives_pairs[i][0]], results[alternatives_pairs[i][1]])) for i in range(len(alternatives_pairs))]"
   ],
   "metadata": {
    "collapsed": false,
    "pycharm": {
     "name": "#%%\n"
    }
   }
  },
  {
   "cell_type": "markdown",
   "source": [
    "### Pairwise survey questions using a standardized ranking system such the [fundamental scale](https://en.wikipedia.org/wiki/Analytic_hierarchy_process_–_car_example)"
   ],
   "metadata": {
    "collapsed": false
   }
  },
  {
   "cell_type": "code",
   "execution_count": 998,
   "outputs": [
    {
     "data": {
      "text/plain": "{('Airswap Proposal', 'USDT liquidity Proposal'): 1.4,\n ('Airswap Proposal', 'Remove BNT from pools Proposal'): 0.7777777777777778,\n ('Airswap Proposal', 'Enable deposits Proposal'): 1.4,\n ('USDT liquidity Proposal',\n  'Remove BNT from pools Proposal'): 0.5555555555555556,\n ('USDT liquidity Proposal', 'Enable deposits Proposal'): 1.0,\n ('Remove BNT from pools Proposal', 'Enable deposits Proposal'): 1.8}"
     },
     "execution_count": 998,
     "metadata": {},
     "output_type": "execute_result"
    }
   ],
   "source": [
    "fees_values = simulate_dao_survey(alternatives_pairs, alternatives)\n",
    "fees_comparisons = dict(zip(alternatives_pairs, fees_values))\n",
    "fees_comparisons"
   ],
   "metadata": {
    "collapsed": false,
    "pycharm": {
     "name": "#%%\n"
    }
   }
  },
  {
   "cell_type": "code",
   "execution_count": 999,
   "outputs": [
    {
     "data": {
      "text/plain": "{('Airswap Proposal', 'USDT liquidity Proposal'): 8.0,\n ('Airswap Proposal', 'Remove BNT from pools Proposal'): 0.8888888888888888,\n ('Airswap Proposal', 'Enable deposits Proposal'): 4.0,\n ('USDT liquidity Proposal',\n  'Remove BNT from pools Proposal'): 0.1111111111111111,\n ('USDT liquidity Proposal', 'Enable deposits Proposal'): 0.5,\n ('Remove BNT from pools Proposal', 'Enable deposits Proposal'): 4.5}"
     },
     "execution_count": 999,
     "metadata": {},
     "output_type": "execute_result"
    }
   ],
   "source": [
    "resources_values = simulate_dao_survey(alternatives_pairs, alternatives)\n",
    "resources_comparisons = dict(zip(alternatives_pairs, resources_values))\n",
    "resources_comparisons"
   ],
   "metadata": {
    "collapsed": false,
    "pycharm": {
     "name": "#%%\n"
    }
   }
  },
  {
   "cell_type": "code",
   "execution_count": 1000,
   "outputs": [
    {
     "data": {
      "text/plain": "{('Airswap Proposal', 'USDT liquidity Proposal'): 1.2,\n ('Airswap Proposal', 'Remove BNT from pools Proposal'): 0.8571428571428571,\n ('Airswap Proposal', 'Enable deposits Proposal'): 1.5,\n ('USDT liquidity Proposal',\n  'Remove BNT from pools Proposal'): 0.7142857142857143,\n ('USDT liquidity Proposal', 'Enable deposits Proposal'): 1.25,\n ('Remove BNT from pools Proposal', 'Enable deposits Proposal'): 1.75}"
     },
     "execution_count": 1000,
     "metadata": {},
     "output_type": "execute_result"
    }
   ],
   "source": [
    "deficit_values = simulate_dao_survey(alternatives_pairs, alternatives)\n",
    "deficit_comparisons = dict(zip(alternatives_pairs, deficit_values))\n",
    "deficit_comparisons"
   ],
   "metadata": {
    "collapsed": false,
    "pycharm": {
     "name": "#%%\n"
    }
   }
  },
  {
   "cell_type": "code",
   "execution_count": 1001,
   "outputs": [
    {
     "data": {
      "text/plain": "{('Airswap Proposal', 'USDT liquidity Proposal'): 1.0,\n ('Airswap Proposal', 'Remove BNT from pools Proposal'): 1.1666666666666667,\n ('Airswap Proposal', 'Enable deposits Proposal'): 1.0,\n ('USDT liquidity Proposal',\n  'Remove BNT from pools Proposal'): 1.1666666666666667,\n ('USDT liquidity Proposal', 'Enable deposits Proposal'): 1.0,\n ('Remove BNT from pools Proposal',\n  'Enable deposits Proposal'): 0.8571428571428571}"
     },
     "execution_count": 1001,
     "metadata": {},
     "output_type": "execute_result"
    }
   ],
   "source": [
    "alignment_values = simulate_dao_survey(alternatives_pairs, alternatives)\n",
    "alignment_comparisons = dict(zip(alternatives_pairs, alignment_values))\n",
    "alignment_comparisons"
   ],
   "metadata": {
    "collapsed": false,
    "pycharm": {
     "name": "#%%\n"
    }
   }
  },
  {
   "cell_type": "code",
   "execution_count": 1002,
   "outputs": [
    {
     "data": {
      "text/plain": "{('Airswap Proposal', 'USDT liquidity Proposal'): 0.8,\n ('Airswap Proposal', 'Remove BNT from pools Proposal'): 0.4444444444444444,\n ('Airswap Proposal', 'Enable deposits Proposal'): 0.5,\n ('USDT liquidity Proposal',\n  'Remove BNT from pools Proposal'): 0.5555555555555556,\n ('USDT liquidity Proposal', 'Enable deposits Proposal'): 0.625,\n ('Remove BNT from pools Proposal', 'Enable deposits Proposal'): 1.125}"
     },
     "execution_count": 1002,
     "metadata": {},
     "output_type": "execute_result"
    }
   ],
   "source": [
    "legal_risk_values = simulate_dao_survey(alternatives_pairs, alternatives)\n",
    "legal_risk_comparisons = dict(zip(alternatives_pairs, legal_risk_values))\n",
    "legal_risk_comparisons\n"
   ],
   "metadata": {
    "collapsed": false,
    "pycharm": {
     "name": "#%%\n"
    }
   }
  },
  {
   "cell_type": "code",
   "execution_count": 1003,
   "outputs": [
    {
     "data": {
      "text/plain": "{('Airswap Proposal', 'USDT liquidity Proposal'): 0.3333333333333333,\n ('Airswap Proposal', 'Remove BNT from pools Proposal'): 3.0,\n ('Airswap Proposal', 'Enable deposits Proposal'): 1.0,\n ('USDT liquidity Proposal', 'Remove BNT from pools Proposal'): 9.0,\n ('USDT liquidity Proposal', 'Enable deposits Proposal'): 3.0,\n ('Remove BNT from pools Proposal',\n  'Enable deposits Proposal'): 0.3333333333333333}"
     },
     "execution_count": 1003,
     "metadata": {},
     "output_type": "execute_result"
    }
   ],
   "source": [
    "lp_alienation_risk_values = simulate_dao_survey(alternatives_pairs, alternatives)\n",
    "lp_alienation_risk_comparisons = dict(zip(alternatives_pairs, lp_alienation_risk_values))\n",
    "lp_alienation_risk_comparisons\n"
   ],
   "metadata": {
    "collapsed": false,
    "pycharm": {
     "name": "#%%\n"
    }
   }
  },
  {
   "cell_type": "code",
   "execution_count": 1004,
   "outputs": [
    {
     "data": {
      "text/plain": "{('Airswap Proposal', 'USDT liquidity Proposal'): 8.0,\n ('Airswap Proposal', 'Remove BNT from pools Proposal'): 4.0,\n ('Airswap Proposal', 'Enable deposits Proposal'): 2.0,\n ('USDT liquidity Proposal', 'Remove BNT from pools Proposal'): 0.5,\n ('USDT liquidity Proposal', 'Enable deposits Proposal'): 0.25,\n ('Remove BNT from pools Proposal', 'Enable deposits Proposal'): 0.5}"
     },
     "execution_count": 1004,
     "metadata": {},
     "output_type": "execute_result"
    }
   ],
   "source": [
    "reputational_risk_values = simulate_dao_survey(alternatives_pairs, alternatives)\n",
    "reputational_risk_comparisons = dict(zip(alternatives_pairs, reputational_risk_values))\n",
    "reputational_risk_comparisons\n"
   ],
   "metadata": {
    "collapsed": false,
    "pycharm": {
     "name": "#%%\n"
    }
   }
  },
  {
   "cell_type": "code",
   "execution_count": 1005,
   "outputs": [
    {
     "data": {
      "text/plain": "{('Airswap Proposal', 'USDT liquidity Proposal'): 3.0,\n ('Airswap Proposal', 'Remove BNT from pools Proposal'): 3.0,\n ('Airswap Proposal', 'Enable deposits Proposal'): 1.5,\n ('USDT liquidity Proposal', 'Remove BNT from pools Proposal'): 1.0,\n ('USDT liquidity Proposal', 'Enable deposits Proposal'): 0.5,\n ('Remove BNT from pools Proposal', 'Enable deposits Proposal'): 0.5}"
     },
     "execution_count": 1005,
     "metadata": {},
     "output_type": "execute_result"
    }
   ],
   "source": [
    "security_risk_values = simulate_dao_survey(alternatives_pairs, alternatives)\n",
    "security_risk_comparisons = dict(zip(alternatives_pairs, security_risk_values))\n",
    "security_risk_comparisons\n"
   ],
   "metadata": {
    "collapsed": false,
    "pycharm": {
     "name": "#%%\n"
    }
   }
  },
  {
   "cell_type": "code",
   "execution_count": 1006,
   "outputs": [
    {
     "data": {
      "text/plain": "{('Airswap Proposal', 'USDT liquidity Proposal'): 0.7142857142857143,\n ('Airswap Proposal', 'Remove BNT from pools Proposal'): 0.8333333333333334,\n ('Airswap Proposal', 'Enable deposits Proposal'): 0.5555555555555556,\n ('USDT liquidity Proposal',\n  'Remove BNT from pools Proposal'): 1.1666666666666667,\n ('USDT liquidity Proposal', 'Enable deposits Proposal'): 0.7777777777777778,\n ('Remove BNT from pools Proposal',\n  'Enable deposits Proposal'): 0.6666666666666666}"
     },
     "execution_count": 1006,
     "metadata": {},
     "output_type": "execute_result"
    }
   ],
   "source": [
    "risk_values = simulate_dao_survey(alternatives_pairs, alternatives)\n",
    "risk_comparisons = dict(zip(alternatives_pairs, risk_values))\n",
    "risk_comparisons"
   ],
   "metadata": {
    "collapsed": false,
    "pycharm": {
     "name": "#%%\n"
    }
   }
  },
  {
   "cell_type": "markdown",
   "source": [
    "### Use the AHPy library to calculate comparison values."
   ],
   "metadata": {
    "collapsed": false
   }
  },
  {
   "cell_type": "code",
   "execution_count": 1007,
   "outputs": [],
   "source": [
    "comparisons=[]"
   ],
   "metadata": {
    "collapsed": false,
    "pycharm": {
     "name": "#%%\n"
    }
   }
  },
  {
   "cell_type": "code",
   "execution_count": 1008,
   "outputs": [
    {
     "name": "stdout",
     "output_type": "stream",
     "text": [
      "{\n",
      "    \"name\": \"Fees\",\n",
      "    \"global_weight\": 1.0,\n",
      "    \"local_weight\": 1.0,\n",
      "    \"target_weights\": {\n",
      "        \"Remove BNT from pools Proposal\": 0.346,\n",
      "        \"Airswap Proposal\": 0.269,\n",
      "        \"USDT liquidity Proposal\": 0.192,\n",
      "        \"Enable deposits Proposal\": 0.192\n",
      "    },\n",
      "    \"elements\": {\n",
      "        \"global_weights\": {\n",
      "            \"Remove BNT from pools Proposal\": 0.346,\n",
      "            \"Airswap Proposal\": 0.269,\n",
      "            \"USDT liquidity Proposal\": 0.192,\n",
      "            \"Enable deposits Proposal\": 0.192\n",
      "        },\n",
      "        \"local_weights\": {\n",
      "            \"Remove BNT from pools Proposal\": 0.346,\n",
      "            \"Airswap Proposal\": 0.269,\n",
      "            \"USDT liquidity Proposal\": 0.192,\n",
      "            \"Enable deposits Proposal\": 0.192\n",
      "        },\n",
      "        \"consistency_ratio\": 0.0\n",
      "    }\n",
      "}\n"
     ]
    },
    {
     "data": {
      "text/plain": "      Remove BNT from pools Proposal  Airswap Proposal  \\\nFees                           0.346             0.269   \n\n      USDT liquidity Proposal  Enable deposits Proposal  \nFees                    0.192                     0.192  ",
      "text/html": "<div>\n<style scoped>\n    .dataframe tbody tr th:only-of-type {\n        vertical-align: middle;\n    }\n\n    .dataframe tbody tr th {\n        vertical-align: top;\n    }\n\n    .dataframe thead th {\n        text-align: right;\n    }\n</style>\n<table border=\"1\" class=\"dataframe\">\n  <thead>\n    <tr style=\"text-align: right;\">\n      <th></th>\n      <th>Remove BNT from pools Proposal</th>\n      <th>Airswap Proposal</th>\n      <th>USDT liquidity Proposal</th>\n      <th>Enable deposits Proposal</th>\n    </tr>\n  </thead>\n  <tbody>\n    <tr>\n      <th>Fees</th>\n      <td>0.346</td>\n      <td>0.269</td>\n      <td>0.192</td>\n      <td>0.192</td>\n    </tr>\n  </tbody>\n</table>\n</div>"
     },
     "execution_count": 1008,
     "metadata": {},
     "output_type": "execute_result"
    }
   ],
   "source": [
    "fees = ahpy.Compare('Fees', fees_comparisons, precision=3)\n",
    "report = fees.report(show=True)\n",
    "fees_df = pd.DataFrame(fees.target_weights, index=['Fees'])\n",
    "comparisons.append(fees_df)\n",
    "fees_df"
   ],
   "metadata": {
    "collapsed": false,
    "pycharm": {
     "name": "#%%\n"
    }
   }
  },
  {
   "cell_type": "code",
   "execution_count": 1009,
   "outputs": [
    {
     "name": "stdout",
     "output_type": "stream",
     "text": [
      "{\n",
      "    \"name\": \"Resources\",\n",
      "    \"global_weight\": 1.0,\n",
      "    \"local_weight\": 1.0,\n",
      "    \"target_weights\": {\n",
      "        \"Remove BNT from pools Proposal\": 0.45,\n",
      "        \"Airswap Proposal\": 0.4,\n",
      "        \"Enable deposits Proposal\": 0.1,\n",
      "        \"USDT liquidity Proposal\": 0.05\n",
      "    },\n",
      "    \"elements\": {\n",
      "        \"global_weights\": {\n",
      "            \"Remove BNT from pools Proposal\": 0.45,\n",
      "            \"Airswap Proposal\": 0.4,\n",
      "            \"Enable deposits Proposal\": 0.1,\n",
      "            \"USDT liquidity Proposal\": 0.05\n",
      "        },\n",
      "        \"local_weights\": {\n",
      "            \"Remove BNT from pools Proposal\": 0.45,\n",
      "            \"Airswap Proposal\": 0.4,\n",
      "            \"Enable deposits Proposal\": 0.1,\n",
      "            \"USDT liquidity Proposal\": 0.05\n",
      "        },\n",
      "        \"consistency_ratio\": 0.0\n",
      "    }\n",
      "}\n"
     ]
    },
    {
     "data": {
      "text/plain": "           Remove BNT from pools Proposal  Airswap Proposal  \\\nResources                            0.45               0.4   \n\n           Enable deposits Proposal  USDT liquidity Proposal  \nResources                       0.1                     0.05  ",
      "text/html": "<div>\n<style scoped>\n    .dataframe tbody tr th:only-of-type {\n        vertical-align: middle;\n    }\n\n    .dataframe tbody tr th {\n        vertical-align: top;\n    }\n\n    .dataframe thead th {\n        text-align: right;\n    }\n</style>\n<table border=\"1\" class=\"dataframe\">\n  <thead>\n    <tr style=\"text-align: right;\">\n      <th></th>\n      <th>Remove BNT from pools Proposal</th>\n      <th>Airswap Proposal</th>\n      <th>Enable deposits Proposal</th>\n      <th>USDT liquidity Proposal</th>\n    </tr>\n  </thead>\n  <tbody>\n    <tr>\n      <th>Resources</th>\n      <td>0.45</td>\n      <td>0.4</td>\n      <td>0.1</td>\n      <td>0.05</td>\n    </tr>\n  </tbody>\n</table>\n</div>"
     },
     "execution_count": 1009,
     "metadata": {},
     "output_type": "execute_result"
    }
   ],
   "source": [
    "resources = ahpy.Compare('Resources', resources_comparisons, precision=3)\n",
    "report = resources.report(show=True)\n",
    "resources_df = pd.DataFrame(resources.target_weights, index=['Resources'])\n",
    "comparisons.append(resources_df)\n",
    "resources_df"
   ],
   "metadata": {
    "collapsed": false,
    "pycharm": {
     "name": "#%%\n"
    }
   }
  },
  {
   "cell_type": "code",
   "execution_count": 1010,
   "outputs": [
    {
     "name": "stdout",
     "output_type": "stream",
     "text": [
      "{\n",
      "    \"name\": \"Deficit\",\n",
      "    \"global_weight\": 1.0,\n",
      "    \"local_weight\": 1.0,\n",
      "    \"target_weights\": {\n",
      "        \"Remove BNT from pools Proposal\": 0.318,\n",
      "        \"Airswap Proposal\": 0.273,\n",
      "        \"USDT liquidity Proposal\": 0.227,\n",
      "        \"Enable deposits Proposal\": 0.182\n",
      "    },\n",
      "    \"elements\": {\n",
      "        \"global_weights\": {\n",
      "            \"Remove BNT from pools Proposal\": 0.318,\n",
      "            \"Airswap Proposal\": 0.273,\n",
      "            \"USDT liquidity Proposal\": 0.227,\n",
      "            \"Enable deposits Proposal\": 0.182\n",
      "        },\n",
      "        \"local_weights\": {\n",
      "            \"Remove BNT from pools Proposal\": 0.318,\n",
      "            \"Airswap Proposal\": 0.273,\n",
      "            \"USDT liquidity Proposal\": 0.227,\n",
      "            \"Enable deposits Proposal\": 0.182\n",
      "        },\n",
      "        \"consistency_ratio\": 0.0\n",
      "    }\n",
      "}\n"
     ]
    },
    {
     "data": {
      "text/plain": "         Remove BNT from pools Proposal  Airswap Proposal  \\\nDeficit                           0.318             0.273   \n\n         USDT liquidity Proposal  Enable deposits Proposal  \nDeficit                    0.227                     0.182  ",
      "text/html": "<div>\n<style scoped>\n    .dataframe tbody tr th:only-of-type {\n        vertical-align: middle;\n    }\n\n    .dataframe tbody tr th {\n        vertical-align: top;\n    }\n\n    .dataframe thead th {\n        text-align: right;\n    }\n</style>\n<table border=\"1\" class=\"dataframe\">\n  <thead>\n    <tr style=\"text-align: right;\">\n      <th></th>\n      <th>Remove BNT from pools Proposal</th>\n      <th>Airswap Proposal</th>\n      <th>USDT liquidity Proposal</th>\n      <th>Enable deposits Proposal</th>\n    </tr>\n  </thead>\n  <tbody>\n    <tr>\n      <th>Deficit</th>\n      <td>0.318</td>\n      <td>0.273</td>\n      <td>0.227</td>\n      <td>0.182</td>\n    </tr>\n  </tbody>\n</table>\n</div>"
     },
     "execution_count": 1010,
     "metadata": {},
     "output_type": "execute_result"
    }
   ],
   "source": [
    "\n",
    "deficit = ahpy.Compare('Deficit', deficit_comparisons, precision=3)\n",
    "report = deficit.report(show=True)\n",
    "deficit_df = pd.DataFrame(deficit.target_weights, index=['Deficit'])\n",
    "comparisons.append(deficit_df)\n",
    "deficit_df"
   ],
   "metadata": {
    "collapsed": false,
    "pycharm": {
     "name": "#%%\n"
    }
   }
  },
  {
   "cell_type": "code",
   "execution_count": 1011,
   "outputs": [
    {
     "name": "stdout",
     "output_type": "stream",
     "text": [
      "{\n",
      "    \"name\": \"Alignment\",\n",
      "    \"global_weight\": 1.0,\n",
      "    \"local_weight\": 1.0,\n",
      "    \"target_weights\": {\n",
      "        \"Airswap Proposal\": 0.259,\n",
      "        \"USDT liquidity Proposal\": 0.259,\n",
      "        \"Enable deposits Proposal\": 0.259,\n",
      "        \"Remove BNT from pools Proposal\": 0.222\n",
      "    },\n",
      "    \"elements\": {\n",
      "        \"global_weights\": {\n",
      "            \"Airswap Proposal\": 0.259,\n",
      "            \"USDT liquidity Proposal\": 0.259,\n",
      "            \"Enable deposits Proposal\": 0.259,\n",
      "            \"Remove BNT from pools Proposal\": 0.222\n",
      "        },\n",
      "        \"local_weights\": {\n",
      "            \"Airswap Proposal\": 0.259,\n",
      "            \"USDT liquidity Proposal\": 0.259,\n",
      "            \"Enable deposits Proposal\": 0.259,\n",
      "            \"Remove BNT from pools Proposal\": 0.222\n",
      "        },\n",
      "        \"consistency_ratio\": 0.0\n",
      "    }\n",
      "}\n"
     ]
    },
    {
     "data": {
      "text/plain": "           Airswap Proposal  USDT liquidity Proposal  \\\nAlignment             0.259                    0.259   \n\n           Enable deposits Proposal  Remove BNT from pools Proposal  \nAlignment                     0.259                           0.222  ",
      "text/html": "<div>\n<style scoped>\n    .dataframe tbody tr th:only-of-type {\n        vertical-align: middle;\n    }\n\n    .dataframe tbody tr th {\n        vertical-align: top;\n    }\n\n    .dataframe thead th {\n        text-align: right;\n    }\n</style>\n<table border=\"1\" class=\"dataframe\">\n  <thead>\n    <tr style=\"text-align: right;\">\n      <th></th>\n      <th>Airswap Proposal</th>\n      <th>USDT liquidity Proposal</th>\n      <th>Enable deposits Proposal</th>\n      <th>Remove BNT from pools Proposal</th>\n    </tr>\n  </thead>\n  <tbody>\n    <tr>\n      <th>Alignment</th>\n      <td>0.259</td>\n      <td>0.259</td>\n      <td>0.259</td>\n      <td>0.222</td>\n    </tr>\n  </tbody>\n</table>\n</div>"
     },
     "execution_count": 1011,
     "metadata": {},
     "output_type": "execute_result"
    }
   ],
   "source": [
    "\n",
    "alignment = ahpy.Compare('Alignment', alignment_comparisons, precision=3)\n",
    "report = alignment.report(show=True)\n",
    "alignment_df = pd.DataFrame(alignment.target_weights, index=['Alignment'])\n",
    "comparisons.append(alignment_df)\n",
    "alignment_df"
   ],
   "metadata": {
    "collapsed": false,
    "pycharm": {
     "name": "#%%\n"
    }
   }
  },
  {
   "cell_type": "code",
   "execution_count": 1012,
   "outputs": [
    {
     "name": "stdout",
     "output_type": "stream",
     "text": [
      "{\n",
      "    \"name\": \"Legal Risk\",\n",
      "    \"global_weight\": 1.0,\n",
      "    \"local_weight\": 1.0,\n",
      "    \"target_weights\": {\n",
      "        \"Remove BNT from pools Proposal\": 0.346,\n",
      "        \"Enable deposits Proposal\": 0.308,\n",
      "        \"USDT liquidity Proposal\": 0.192,\n",
      "        \"Airswap Proposal\": 0.154\n",
      "    },\n",
      "    \"elements\": {\n",
      "        \"global_weights\": {\n",
      "            \"Remove BNT from pools Proposal\": 0.346,\n",
      "            \"Enable deposits Proposal\": 0.308,\n",
      "            \"USDT liquidity Proposal\": 0.192,\n",
      "            \"Airswap Proposal\": 0.154\n",
      "        },\n",
      "        \"local_weights\": {\n",
      "            \"Remove BNT from pools Proposal\": 0.346,\n",
      "            \"Enable deposits Proposal\": 0.308,\n",
      "            \"USDT liquidity Proposal\": 0.192,\n",
      "            \"Airswap Proposal\": 0.154\n",
      "        },\n",
      "        \"consistency_ratio\": 0.0,\n",
      "        \"random_index\": \"Donegan & Dodd\",\n",
      "        \"count\": 4,\n",
      "        \"names\": [\n",
      "            \"Airswap Proposal\",\n",
      "            \"USDT liquidity Proposal\",\n",
      "            \"Remove BNT from pools Proposal\",\n",
      "            \"Enable deposits Proposal\"\n",
      "        ]\n",
      "    },\n",
      "    \"children\": null,\n",
      "    \"comparisons\": {\n",
      "        \"count\": 6,\n",
      "        \"input\": {\n",
      "            \"Airswap Proposal, USDT liquidity Proposal\": 0.8,\n",
      "            \"Airswap Proposal, Remove BNT from pools Proposal\": 0.4444444444444444,\n",
      "            \"Airswap Proposal, Enable deposits Proposal\": 0.5,\n",
      "            \"USDT liquidity Proposal, Remove BNT from pools Proposal\": 0.5555555555555556,\n",
      "            \"USDT liquidity Proposal, Enable deposits Proposal\": 0.625,\n",
      "            \"Remove BNT from pools Proposal, Enable deposits Proposal\": 1.125\n",
      "        },\n",
      "        \"computed\": null\n",
      "    }\n",
      "}\n"
     ]
    },
    {
     "data": {
      "text/plain": "            Remove BNT from pools Proposal  Enable deposits Proposal  \\\nLegal Risk                           0.346                     0.308   \n\n            USDT liquidity Proposal  Airswap Proposal  \nLegal Risk                    0.192             0.154  ",
      "text/html": "<div>\n<style scoped>\n    .dataframe tbody tr th:only-of-type {\n        vertical-align: middle;\n    }\n\n    .dataframe tbody tr th {\n        vertical-align: top;\n    }\n\n    .dataframe thead th {\n        text-align: right;\n    }\n</style>\n<table border=\"1\" class=\"dataframe\">\n  <thead>\n    <tr style=\"text-align: right;\">\n      <th></th>\n      <th>Remove BNT from pools Proposal</th>\n      <th>Enable deposits Proposal</th>\n      <th>USDT liquidity Proposal</th>\n      <th>Airswap Proposal</th>\n    </tr>\n  </thead>\n  <tbody>\n    <tr>\n      <th>Legal Risk</th>\n      <td>0.346</td>\n      <td>0.308</td>\n      <td>0.192</td>\n      <td>0.154</td>\n    </tr>\n  </tbody>\n</table>\n</div>"
     },
     "execution_count": 1012,
     "metadata": {},
     "output_type": "execute_result"
    }
   ],
   "source": [
    "legal_risk = ahpy.Compare('Legal Risk', legal_risk_comparisons, precision=3)\n",
    "report = legal_risk.report(show=True, verbose=True)\n",
    "legal_risk_df = pd.DataFrame(legal_risk.target_weights, index=['Legal Risk'])\n",
    "# comparisons.append(legal_risk_df)\n",
    "legal_risk_df\n"
   ],
   "metadata": {
    "collapsed": false,
    "pycharm": {
     "name": "#%%\n"
    }
   }
  },
  {
   "cell_type": "code",
   "execution_count": 1013,
   "outputs": [
    {
     "name": "stdout",
     "output_type": "stream",
     "text": [
      "{\n",
      "    \"name\": \"Reputational Risk\",\n",
      "    \"global_weight\": 1.0,\n",
      "    \"local_weight\": 1.0,\n",
      "    \"target_weights\": {\n",
      "        \"Airswap Proposal\": 0.533,\n",
      "        \"Enable deposits Proposal\": 0.267,\n",
      "        \"Remove BNT from pools Proposal\": 0.133,\n",
      "        \"USDT liquidity Proposal\": 0.067\n",
      "    },\n",
      "    \"elements\": {\n",
      "        \"global_weights\": {\n",
      "            \"Airswap Proposal\": 0.533,\n",
      "            \"Enable deposits Proposal\": 0.267,\n",
      "            \"Remove BNT from pools Proposal\": 0.133,\n",
      "            \"USDT liquidity Proposal\": 0.067\n",
      "        },\n",
      "        \"local_weights\": {\n",
      "            \"Airswap Proposal\": 0.533,\n",
      "            \"Enable deposits Proposal\": 0.267,\n",
      "            \"Remove BNT from pools Proposal\": 0.133,\n",
      "            \"USDT liquidity Proposal\": 0.067\n",
      "        },\n",
      "        \"consistency_ratio\": 0.0,\n",
      "        \"random_index\": \"Donegan & Dodd\",\n",
      "        \"count\": 4,\n",
      "        \"names\": [\n",
      "            \"Airswap Proposal\",\n",
      "            \"USDT liquidity Proposal\",\n",
      "            \"Remove BNT from pools Proposal\",\n",
      "            \"Enable deposits Proposal\"\n",
      "        ]\n",
      "    },\n",
      "    \"children\": null,\n",
      "    \"comparisons\": {\n",
      "        \"count\": 6,\n",
      "        \"input\": {\n",
      "            \"Airswap Proposal, USDT liquidity Proposal\": 8.0,\n",
      "            \"Airswap Proposal, Remove BNT from pools Proposal\": 4.0,\n",
      "            \"Airswap Proposal, Enable deposits Proposal\": 2.0,\n",
      "            \"USDT liquidity Proposal, Remove BNT from pools Proposal\": 0.5,\n",
      "            \"USDT liquidity Proposal, Enable deposits Proposal\": 0.25,\n",
      "            \"Remove BNT from pools Proposal, Enable deposits Proposal\": 0.5\n",
      "        },\n",
      "        \"computed\": null\n",
      "    }\n",
      "}\n"
     ]
    },
    {
     "data": {
      "text/plain": "                   Airswap Proposal  Enable deposits Proposal  \\\nReputational Risk             0.533                     0.267   \n\n                   Remove BNT from pools Proposal  USDT liquidity Proposal  \nReputational Risk                           0.133                    0.067  ",
      "text/html": "<div>\n<style scoped>\n    .dataframe tbody tr th:only-of-type {\n        vertical-align: middle;\n    }\n\n    .dataframe tbody tr th {\n        vertical-align: top;\n    }\n\n    .dataframe thead th {\n        text-align: right;\n    }\n</style>\n<table border=\"1\" class=\"dataframe\">\n  <thead>\n    <tr style=\"text-align: right;\">\n      <th></th>\n      <th>Airswap Proposal</th>\n      <th>Enable deposits Proposal</th>\n      <th>Remove BNT from pools Proposal</th>\n      <th>USDT liquidity Proposal</th>\n    </tr>\n  </thead>\n  <tbody>\n    <tr>\n      <th>Reputational Risk</th>\n      <td>0.533</td>\n      <td>0.267</td>\n      <td>0.133</td>\n      <td>0.067</td>\n    </tr>\n  </tbody>\n</table>\n</div>"
     },
     "execution_count": 1013,
     "metadata": {},
     "output_type": "execute_result"
    }
   ],
   "source": [
    "reputational_risk = ahpy.Compare('Reputational Risk', reputational_risk_comparisons, precision=3)\n",
    "report = reputational_risk.report(show=True, verbose=True)\n",
    "reputational_risk_df = pd.DataFrame(reputational_risk.target_weights, index=['Reputational Risk'])\n",
    "# comparisons.append(reputational_risk_df)\n",
    "reputational_risk_df\n"
   ],
   "metadata": {
    "collapsed": false,
    "pycharm": {
     "name": "#%%\n"
    }
   }
  },
  {
   "cell_type": "code",
   "execution_count": 1014,
   "outputs": [
    {
     "name": "stdout",
     "output_type": "stream",
     "text": [
      "{\n",
      "    \"name\": \"LP Alienation Risk\",\n",
      "    \"global_weight\": 1.0,\n",
      "    \"local_weight\": 1.0,\n",
      "    \"target_weights\": {\n",
      "        \"USDT liquidity Proposal\": 0.562,\n",
      "        \"Airswap Proposal\": 0.188,\n",
      "        \"Enable deposits Proposal\": 0.188,\n",
      "        \"Remove BNT from pools Proposal\": 0.062\n",
      "    },\n",
      "    \"elements\": {\n",
      "        \"global_weights\": {\n",
      "            \"USDT liquidity Proposal\": 0.562,\n",
      "            \"Airswap Proposal\": 0.188,\n",
      "            \"Enable deposits Proposal\": 0.188,\n",
      "            \"Remove BNT from pools Proposal\": 0.062\n",
      "        },\n",
      "        \"local_weights\": {\n",
      "            \"USDT liquidity Proposal\": 0.562,\n",
      "            \"Airswap Proposal\": 0.188,\n",
      "            \"Enable deposits Proposal\": 0.188,\n",
      "            \"Remove BNT from pools Proposal\": 0.062\n",
      "        },\n",
      "        \"consistency_ratio\": 0.0,\n",
      "        \"random_index\": \"Donegan & Dodd\",\n",
      "        \"count\": 4,\n",
      "        \"names\": [\n",
      "            \"Airswap Proposal\",\n",
      "            \"USDT liquidity Proposal\",\n",
      "            \"Remove BNT from pools Proposal\",\n",
      "            \"Enable deposits Proposal\"\n",
      "        ]\n",
      "    },\n",
      "    \"children\": null,\n",
      "    \"comparisons\": {\n",
      "        \"count\": 6,\n",
      "        \"input\": {\n",
      "            \"Airswap Proposal, USDT liquidity Proposal\": 0.3333333333333333,\n",
      "            \"Airswap Proposal, Remove BNT from pools Proposal\": 3.0,\n",
      "            \"Airswap Proposal, Enable deposits Proposal\": 1.0,\n",
      "            \"USDT liquidity Proposal, Remove BNT from pools Proposal\": 9.0,\n",
      "            \"USDT liquidity Proposal, Enable deposits Proposal\": 3.0,\n",
      "            \"Remove BNT from pools Proposal, Enable deposits Proposal\": 0.3333333333333333\n",
      "        },\n",
      "        \"computed\": null\n",
      "    }\n",
      "}\n"
     ]
    },
    {
     "data": {
      "text/plain": "                    USDT liquidity Proposal  Airswap Proposal  \\\nLP Alienation Risk                    0.562             0.188   \n\n                    Enable deposits Proposal  Remove BNT from pools Proposal  \nLP Alienation Risk                     0.188                           0.062  ",
      "text/html": "<div>\n<style scoped>\n    .dataframe tbody tr th:only-of-type {\n        vertical-align: middle;\n    }\n\n    .dataframe tbody tr th {\n        vertical-align: top;\n    }\n\n    .dataframe thead th {\n        text-align: right;\n    }\n</style>\n<table border=\"1\" class=\"dataframe\">\n  <thead>\n    <tr style=\"text-align: right;\">\n      <th></th>\n      <th>USDT liquidity Proposal</th>\n      <th>Airswap Proposal</th>\n      <th>Enable deposits Proposal</th>\n      <th>Remove BNT from pools Proposal</th>\n    </tr>\n  </thead>\n  <tbody>\n    <tr>\n      <th>LP Alienation Risk</th>\n      <td>0.562</td>\n      <td>0.188</td>\n      <td>0.188</td>\n      <td>0.062</td>\n    </tr>\n  </tbody>\n</table>\n</div>"
     },
     "execution_count": 1014,
     "metadata": {},
     "output_type": "execute_result"
    }
   ],
   "source": [
    "\n",
    "lp_alienation_risk = ahpy.Compare('LP Alienation Risk', lp_alienation_risk_comparisons, precision=3)\n",
    "report = lp_alienation_risk.report(show=True, verbose=True)\n",
    "lp_alienation_risk_df = pd.DataFrame(lp_alienation_risk.target_weights, index=['LP Alienation Risk'])\n",
    "# comparisons.append(lp_alienation_risk_df)\n",
    "lp_alienation_risk_df\n"
   ],
   "metadata": {
    "collapsed": false,
    "pycharm": {
     "name": "#%%\n"
    }
   }
  },
  {
   "cell_type": "code",
   "execution_count": 1015,
   "outputs": [
    {
     "name": "stdout",
     "output_type": "stream",
     "text": [
      "{\n",
      "    \"name\": \"Security Risk\",\n",
      "    \"global_weight\": 1.0,\n",
      "    \"local_weight\": 1.0,\n",
      "    \"target_weights\": {\n",
      "        \"Airswap Proposal\": 0.429,\n",
      "        \"Enable deposits Proposal\": 0.286,\n",
      "        \"USDT liquidity Proposal\": 0.143,\n",
      "        \"Remove BNT from pools Proposal\": 0.143\n",
      "    },\n",
      "    \"elements\": {\n",
      "        \"global_weights\": {\n",
      "            \"Airswap Proposal\": 0.429,\n",
      "            \"Enable deposits Proposal\": 0.286,\n",
      "            \"USDT liquidity Proposal\": 0.143,\n",
      "            \"Remove BNT from pools Proposal\": 0.143\n",
      "        },\n",
      "        \"local_weights\": {\n",
      "            \"Airswap Proposal\": 0.429,\n",
      "            \"Enable deposits Proposal\": 0.286,\n",
      "            \"USDT liquidity Proposal\": 0.143,\n",
      "            \"Remove BNT from pools Proposal\": 0.143\n",
      "        },\n",
      "        \"consistency_ratio\": 0.0,\n",
      "        \"random_index\": \"Donegan & Dodd\",\n",
      "        \"count\": 4,\n",
      "        \"names\": [\n",
      "            \"Airswap Proposal\",\n",
      "            \"USDT liquidity Proposal\",\n",
      "            \"Remove BNT from pools Proposal\",\n",
      "            \"Enable deposits Proposal\"\n",
      "        ]\n",
      "    },\n",
      "    \"children\": null,\n",
      "    \"comparisons\": {\n",
      "        \"count\": 6,\n",
      "        \"input\": {\n",
      "            \"Airswap Proposal, USDT liquidity Proposal\": 3.0,\n",
      "            \"Airswap Proposal, Remove BNT from pools Proposal\": 3.0,\n",
      "            \"Airswap Proposal, Enable deposits Proposal\": 1.5,\n",
      "            \"USDT liquidity Proposal, Remove BNT from pools Proposal\": 1.0,\n",
      "            \"USDT liquidity Proposal, Enable deposits Proposal\": 0.5,\n",
      "            \"Remove BNT from pools Proposal, Enable deposits Proposal\": 0.5\n",
      "        },\n",
      "        \"computed\": null\n",
      "    }\n",
      "}\n"
     ]
    },
    {
     "data": {
      "text/plain": "               Airswap Proposal  Enable deposits Proposal  \\\nSecurity Risk             0.429                     0.286   \n\n               USDT liquidity Proposal  Remove BNT from pools Proposal  \nSecurity Risk                    0.143                           0.143  ",
      "text/html": "<div>\n<style scoped>\n    .dataframe tbody tr th:only-of-type {\n        vertical-align: middle;\n    }\n\n    .dataframe tbody tr th {\n        vertical-align: top;\n    }\n\n    .dataframe thead th {\n        text-align: right;\n    }\n</style>\n<table border=\"1\" class=\"dataframe\">\n  <thead>\n    <tr style=\"text-align: right;\">\n      <th></th>\n      <th>Airswap Proposal</th>\n      <th>Enable deposits Proposal</th>\n      <th>USDT liquidity Proposal</th>\n      <th>Remove BNT from pools Proposal</th>\n    </tr>\n  </thead>\n  <tbody>\n    <tr>\n      <th>Security Risk</th>\n      <td>0.429</td>\n      <td>0.286</td>\n      <td>0.143</td>\n      <td>0.143</td>\n    </tr>\n  </tbody>\n</table>\n</div>"
     },
     "execution_count": 1015,
     "metadata": {},
     "output_type": "execute_result"
    }
   ],
   "source": [
    "\n",
    "security_risk = ahpy.Compare('Security Risk', security_risk_comparisons, precision=3)\n",
    "report = security_risk.report(show=True, verbose=True)\n",
    "security_risk_df = pd.DataFrame(security_risk.target_weights, index=['Security Risk'])\n",
    "# comparisons.append(security_risk_df)\n",
    "security_risk_df"
   ],
   "metadata": {
    "collapsed": false,
    "pycharm": {
     "name": "#%%\n"
    }
   }
  },
  {
   "cell_type": "code",
   "execution_count": 1016,
   "outputs": [
    {
     "name": "stdout",
     "output_type": "stream",
     "text": [
      "{\n",
      "    \"name\": \"Risk\",\n",
      "    \"global_weight\": 1.0,\n",
      "    \"local_weight\": 1.0,\n",
      "    \"target_weights\": {},\n",
      "    \"elements\": {\n",
      "        \"global_weights\": {\n",
      "            \"Enable deposits Proposal\": 0.333,\n",
      "            \"USDT liquidity Proposal\": 0.259,\n",
      "            \"Remove BNT from pools Proposal\": 0.222,\n",
      "            \"Airswap Proposal\": 0.185\n",
      "        },\n",
      "        \"local_weights\": {\n",
      "            \"Enable deposits Proposal\": 0.333,\n",
      "            \"USDT liquidity Proposal\": 0.259,\n",
      "            \"Remove BNT from pools Proposal\": 0.222,\n",
      "            \"Airswap Proposal\": 0.185\n",
      "        },\n",
      "        \"consistency_ratio\": 0.0,\n",
      "        \"random_index\": \"Donegan & Dodd\",\n",
      "        \"count\": 4,\n",
      "        \"names\": [\n",
      "            \"Airswap Proposal\",\n",
      "            \"USDT liquidity Proposal\",\n",
      "            \"Remove BNT from pools Proposal\",\n",
      "            \"Enable deposits Proposal\"\n",
      "        ]\n",
      "    },\n",
      "    \"children\": {\n",
      "        \"count\": 4,\n",
      "        \"names\": [\n",
      "            \"Legal Risk\",\n",
      "            \"Reputational Risk\",\n",
      "            \"LP Alienation Risk\",\n",
      "            \"Security Risk\"\n",
      "        ]\n",
      "    },\n",
      "    \"comparisons\": {\n",
      "        \"count\": 6,\n",
      "        \"input\": {\n",
      "            \"Airswap Proposal, USDT liquidity Proposal\": 0.7142857142857143,\n",
      "            \"Airswap Proposal, Remove BNT from pools Proposal\": 0.8333333333333334,\n",
      "            \"Airswap Proposal, Enable deposits Proposal\": 0.5555555555555556,\n",
      "            \"USDT liquidity Proposal, Remove BNT from pools Proposal\": 1.1666666666666667,\n",
      "            \"USDT liquidity Proposal, Enable deposits Proposal\": 0.7777777777777778,\n",
      "            \"Remove BNT from pools Proposal, Enable deposits Proposal\": 0.6666666666666666\n",
      "        },\n",
      "        \"computed\": null\n",
      "    }\n",
      "}\n"
     ]
    },
    {
     "data": {
      "text/plain": "      Enable deposits Proposal  USDT liquidity Proposal  \\\nRisk                     0.333                    0.259   \n\n      Remove BNT from pools Proposal  Airswap Proposal  \nRisk                           0.222             0.185  ",
      "text/html": "<div>\n<style scoped>\n    .dataframe tbody tr th:only-of-type {\n        vertical-align: middle;\n    }\n\n    .dataframe tbody tr th {\n        vertical-align: top;\n    }\n\n    .dataframe thead th {\n        text-align: right;\n    }\n</style>\n<table border=\"1\" class=\"dataframe\">\n  <thead>\n    <tr style=\"text-align: right;\">\n      <th></th>\n      <th>Enable deposits Proposal</th>\n      <th>USDT liquidity Proposal</th>\n      <th>Remove BNT from pools Proposal</th>\n      <th>Airswap Proposal</th>\n    </tr>\n  </thead>\n  <tbody>\n    <tr>\n      <th>Risk</th>\n      <td>0.333</td>\n      <td>0.259</td>\n      <td>0.222</td>\n      <td>0.185</td>\n    </tr>\n  </tbody>\n</table>\n</div>"
     },
     "execution_count": 1016,
     "metadata": {},
     "output_type": "execute_result"
    }
   ],
   "source": [
    "risk = ahpy.Compare('Risk', risk_comparisons, precision=3)\n",
    "risk.add_children([legal_risk, reputational_risk, lp_alienation_risk, security_risk])\n",
    "report = risk.report(show=True, verbose=True)\n",
    "risk_df = pd.DataFrame(report['elements']['global_weights'], index=['Risk'])\n",
    "comparisons.append(risk_df)\n",
    "risk_df"
   ],
   "metadata": {
    "collapsed": false,
    "pycharm": {
     "name": "#%%\n"
    }
   }
  },
  {
   "cell_type": "code",
   "execution_count": 1017,
   "outputs": [
    {
     "data": {
      "text/plain": "           Remove BNT from pools Proposal  Airswap Proposal  \\\nFees                                0.346             0.269   \nResources                           0.450             0.400   \nDeficit                             0.318             0.273   \nAlignment                           0.222             0.259   \nRisk                                0.222             0.185   \n\n           USDT liquidity Proposal  Enable deposits Proposal  \nFees                         0.192                     0.192  \nResources                    0.050                     0.100  \nDeficit                      0.227                     0.182  \nAlignment                    0.259                     0.259  \nRisk                         0.259                     0.333  ",
      "text/html": "<div>\n<style scoped>\n    .dataframe tbody tr th:only-of-type {\n        vertical-align: middle;\n    }\n\n    .dataframe tbody tr th {\n        vertical-align: top;\n    }\n\n    .dataframe thead th {\n        text-align: right;\n    }\n</style>\n<table border=\"1\" class=\"dataframe\">\n  <thead>\n    <tr style=\"text-align: right;\">\n      <th></th>\n      <th>Remove BNT from pools Proposal</th>\n      <th>Airswap Proposal</th>\n      <th>USDT liquidity Proposal</th>\n      <th>Enable deposits Proposal</th>\n    </tr>\n  </thead>\n  <tbody>\n    <tr>\n      <th>Fees</th>\n      <td>0.346</td>\n      <td>0.269</td>\n      <td>0.192</td>\n      <td>0.192</td>\n    </tr>\n    <tr>\n      <th>Resources</th>\n      <td>0.450</td>\n      <td>0.400</td>\n      <td>0.050</td>\n      <td>0.100</td>\n    </tr>\n    <tr>\n      <th>Deficit</th>\n      <td>0.318</td>\n      <td>0.273</td>\n      <td>0.227</td>\n      <td>0.182</td>\n    </tr>\n    <tr>\n      <th>Alignment</th>\n      <td>0.222</td>\n      <td>0.259</td>\n      <td>0.259</td>\n      <td>0.259</td>\n    </tr>\n    <tr>\n      <th>Risk</th>\n      <td>0.222</td>\n      <td>0.185</td>\n      <td>0.259</td>\n      <td>0.333</td>\n    </tr>\n  </tbody>\n</table>\n</div>"
     },
     "execution_count": 1017,
     "metadata": {},
     "output_type": "execute_result"
    }
   ],
   "source": [
    "comparisons_df = pd.concat(comparisons)\n",
    "comparisons_df"
   ],
   "metadata": {
    "collapsed": false,
    "pycharm": {
     "name": "#%%\n"
    }
   }
  },
  {
   "cell_type": "code",
   "execution_count": 1018,
   "outputs": [
    {
     "data": {
      "text/plain": "                                 Fees  Resources  Deficit  Alignment   Risk\nRemove BNT from pools Proposal  0.346       0.45    0.318      0.222  0.222\nAirswap Proposal                0.269       0.40    0.273      0.259  0.185\nUSDT liquidity Proposal         0.192       0.05    0.227      0.259  0.259\nEnable deposits Proposal        0.192       0.10    0.182      0.259  0.333",
      "text/html": "<div>\n<style scoped>\n    .dataframe tbody tr th:only-of-type {\n        vertical-align: middle;\n    }\n\n    .dataframe tbody tr th {\n        vertical-align: top;\n    }\n\n    .dataframe thead th {\n        text-align: right;\n    }\n</style>\n<table border=\"1\" class=\"dataframe\">\n  <thead>\n    <tr style=\"text-align: right;\">\n      <th></th>\n      <th>Fees</th>\n      <th>Resources</th>\n      <th>Deficit</th>\n      <th>Alignment</th>\n      <th>Risk</th>\n    </tr>\n  </thead>\n  <tbody>\n    <tr>\n      <th>Remove BNT from pools Proposal</th>\n      <td>0.346</td>\n      <td>0.45</td>\n      <td>0.318</td>\n      <td>0.222</td>\n      <td>0.222</td>\n    </tr>\n    <tr>\n      <th>Airswap Proposal</th>\n      <td>0.269</td>\n      <td>0.40</td>\n      <td>0.273</td>\n      <td>0.259</td>\n      <td>0.185</td>\n    </tr>\n    <tr>\n      <th>USDT liquidity Proposal</th>\n      <td>0.192</td>\n      <td>0.05</td>\n      <td>0.227</td>\n      <td>0.259</td>\n      <td>0.259</td>\n    </tr>\n    <tr>\n      <th>Enable deposits Proposal</th>\n      <td>0.192</td>\n      <td>0.10</td>\n      <td>0.182</td>\n      <td>0.259</td>\n      <td>0.333</td>\n    </tr>\n  </tbody>\n</table>\n</div>"
     },
     "execution_count": 1018,
     "metadata": {},
     "output_type": "execute_result"
    }
   ],
   "source": [
    "comparisons_df.T"
   ],
   "metadata": {
    "collapsed": false,
    "pycharm": {
     "name": "#%%\n"
    }
   }
  },
  {
   "cell_type": "code",
   "execution_count": 1019,
   "outputs": [],
   "source": [
    "totals = [\n",
    "    comparisons_df.T.iloc[0].sum(),\n",
    "    comparisons_df.T.iloc[1].sum(),\n",
    "    comparisons_df.T.iloc[2].sum(),\n",
    "    comparisons_df.T.iloc[3].sum(),\n",
    "]\n"
   ],
   "metadata": {
    "collapsed": false,
    "pycharm": {
     "name": "#%%\n"
    }
   }
  },
  {
   "cell_type": "code",
   "execution_count": 1020,
   "outputs": [
    {
     "data": {
      "text/plain": "                                 Fees  Resources  Deficit  Alignment   Risk  \\\nRemove BNT from pools Proposal  0.346       0.45    0.318      0.222  0.222   \nAirswap Proposal                0.269       0.40    0.273      0.259  0.185   \nUSDT liquidity Proposal         0.192       0.05    0.227      0.259  0.259   \nEnable deposits Proposal        0.192       0.10    0.182      0.259  0.333   \n\n                                Total  \nRemove BNT from pools Proposal  1.558  \nAirswap Proposal                1.386  \nUSDT liquidity Proposal         0.987  \nEnable deposits Proposal        1.066  ",
      "text/html": "<div>\n<style scoped>\n    .dataframe tbody tr th:only-of-type {\n        vertical-align: middle;\n    }\n\n    .dataframe tbody tr th {\n        vertical-align: top;\n    }\n\n    .dataframe thead th {\n        text-align: right;\n    }\n</style>\n<table border=\"1\" class=\"dataframe\">\n  <thead>\n    <tr style=\"text-align: right;\">\n      <th></th>\n      <th>Fees</th>\n      <th>Resources</th>\n      <th>Deficit</th>\n      <th>Alignment</th>\n      <th>Risk</th>\n      <th>Total</th>\n    </tr>\n  </thead>\n  <tbody>\n    <tr>\n      <th>Remove BNT from pools Proposal</th>\n      <td>0.346</td>\n      <td>0.45</td>\n      <td>0.318</td>\n      <td>0.222</td>\n      <td>0.222</td>\n      <td>1.558</td>\n    </tr>\n    <tr>\n      <th>Airswap Proposal</th>\n      <td>0.269</td>\n      <td>0.40</td>\n      <td>0.273</td>\n      <td>0.259</td>\n      <td>0.185</td>\n      <td>1.386</td>\n    </tr>\n    <tr>\n      <th>USDT liquidity Proposal</th>\n      <td>0.192</td>\n      <td>0.05</td>\n      <td>0.227</td>\n      <td>0.259</td>\n      <td>0.259</td>\n      <td>0.987</td>\n    </tr>\n    <tr>\n      <th>Enable deposits Proposal</th>\n      <td>0.192</td>\n      <td>0.10</td>\n      <td>0.182</td>\n      <td>0.259</td>\n      <td>0.333</td>\n      <td>1.066</td>\n    </tr>\n  </tbody>\n</table>\n</div>"
     },
     "execution_count": 1020,
     "metadata": {},
     "output_type": "execute_result"
    }
   ],
   "source": [
    "comparisons_df=comparisons_df.T\n",
    "comparisons_df['Total']=totals\n",
    "comparisons_df"
   ],
   "metadata": {
    "collapsed": false,
    "pycharm": {
     "name": "#%%\n"
    }
   }
  },
  {
   "cell_type": "code",
   "execution_count": 1022,
   "outputs": [
    {
     "data": {
      "text/plain": "Index(['Remove BNT from pools Proposal', 'Airswap Proposal',\n       'USDT liquidity Proposal', 'Enable deposits Proposal'],\n      dtype='object')"
     },
     "execution_count": 1022,
     "metadata": {},
     "output_type": "execute_result"
    }
   ],
   "source": [
    "comparisons_df.index"
   ],
   "metadata": {
    "collapsed": false,
    "pycharm": {
     "name": "#%%\n"
    }
   }
  },
  {
   "cell_type": "code",
   "execution_count": 1025,
   "outputs": [
    {
     "data": {
      "text/plain": "(0.9989999999999999, 1.0000000000000002, 1.0)"
     },
     "execution_count": 1025,
     "metadata": {},
     "output_type": "execute_result"
    }
   ],
   "source": [
    "comparisons_df['Fees'].sum(),comparisons_df['Resources'].sum(),comparisons_df['Deficit'].sum()"
   ],
   "metadata": {
    "collapsed": false,
    "pycharm": {
     "name": "#%%\n"
    }
   }
  },
  {
   "cell_type": "code",
   "execution_count": 1028,
   "outputs": [],
   "source": [
    "comparisons_df.to_csv('ahp_example.csv')"
   ],
   "metadata": {
    "collapsed": false,
    "pycharm": {
     "name": "#%%\n"
    }
   }
  },
  {
   "cell_type": "code",
   "execution_count": null,
   "outputs": [],
   "source": [],
   "metadata": {
    "collapsed": false,
    "pycharm": {
     "name": "#%%\n"
    }
   }
  }
 ],
 "metadata": {
  "kernelspec": {
   "display_name": "Python 3",
   "language": "python",
   "name": "python3"
  },
  "language_info": {
   "codemirror_mode": {
    "name": "ipython",
    "version": 2
   },
   "file_extension": ".py",
   "mimetype": "text/x-python",
   "name": "python",
   "nbconvert_exporter": "python",
   "pygments_lexer": "ipython2",
   "version": "2.7.6"
  }
 },
 "nbformat": 4,
 "nbformat_minor": 0
}