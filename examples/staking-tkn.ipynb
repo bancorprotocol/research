{
 "cells": [
  {
   "cell_type": "code",
   "execution_count": 1,
   "metadata": {
    "tags": [
     "remove-input"
    ]
   },
   "outputs": [
    {
     "name": "stdout",
     "output_type": "stream",
     "text": [
      "Bootstrap requirements met for eth\n",
      "Bootstrap requirements met for link\n",
      "Bootstrap requirements met for wbtc\n"
     ]
    }
   ],
   "source": [
    "from datascience import *\n",
    "from datascience.predicates import are\n",
    "path_data = '../../../../data/'\n",
    "import numpy as np\n",
    "import matplotlib\n",
    "matplotlib.use('Agg')\n",
    "%matplotlib inline\n",
    "import matplotlib.pyplot as plots\n",
    "plots.style.use('fivethirtyeight')\n",
    "import warnings\n",
    "warnings.simplefilter(action=\"ignore\", category=FutureWarning)\n",
    "\n",
    "from urllib.request import urlopen\n",
    "import re\n",
    "from bancor_research.bancor_simulator.v3.spec.network import BancorDapp\n",
    "\n",
    "# Recall from an earlier chapter that we already defined the whitelisted_tokens as follows.\n",
    "whitelisted_tokens = {\n",
    "    \"eth\": {\n",
    "        \"trading_fee\": 0.01,\n",
    "        \"bnt_funding_limit\": 1000000\n",
    "    },\n",
    "    \"link\": {\n",
    "        \"trading_fee\": 0.01,\n",
    "        \"bnt_funding_limit\": 1000000\n",
    "    },\n",
    "    \"wbtc\": {\n",
    "        \"trading_fee\": 0.01,\n",
    "        \"bnt_funding_limit\": 1000000\n",
    "    }\n",
    "}\n",
    "\n",
    "# There are other possible configuration settings available, however for the present purpose we will use the defaults.\n",
    "v3 = BancorDapp(whitelisted_tokens=whitelisted_tokens)\n",
    "\n",
    "v3.create_user('Trader')\n",
    "\n",
    "v3.set_user_balance(tkn_amt=102, tkn_name='eth', user_name='Alice')\n",
    "v3.set_user_balance(tkn_amt=102, tkn_name='wbtc', user_name='Bob')\n",
    "v3.set_user_balance(tkn_amt=10002, tkn_name='link', user_name='Charlie')\n",
    "v3.set_user_balance(tkn_amt=2000, tkn_name='bnt', user_name='Trader')\n",
    "v3.set_user_balance(tkn_amt=3, tkn_name='link', user_name='Trader')\n",
    "\n",
    "# The actual deposits.\n",
    "v3.deposit(tkn_amt=100, tkn_name='eth', user_name='Alice')\n",
    "\n",
    "v3.deposit(tkn_amt=10000, tkn_name='link', user_name='Charlie')\n",
    "\n",
    "v3.deposit(tkn_amt=100, tkn_name='wbtc', user_name='Bob')\n",
    "\n",
    "v3.deposit(tkn_amt=1, tkn_name='eth', user_name='Alice')\n",
    "\n",
    "v3.deposit(tkn_amt=1, tkn_name='link', user_name='Charlie')\n",
    "\n",
    "v3.deposit(tkn_amt=1, tkn_name='wbtc', user_name='Bob')\n",
    "\n",
    "for tkn_name in whitelisted_tokens:\n",
    "    v3.enable_trading(tkn_name)\n",
    "\n",
    "v3.trade(tkn_amt=2000, source_token='bnt',  target_token='link', user_name='Trader', timestamp=0)\n",
    "\n",
    "v3.trade(tkn_amt=302.9981, source_token='link',  target_token='bnt', user_name='Trader', timestamp=0)\n",
    "\n",
    "def read_url(url): \n",
    "    return re.sub('\\\\s+', ' ', urlopen(url).read().decode())"
   ]
  },
  {
   "cell_type": "code",
   "execution_count": 2,
   "outputs": [
    {
     "data": {
      "text/plain": "                                             eth          link          wbtc  \\\n1 Account Alice                         1.000000           NaN           NaN   \n          Bob                                NaN           NaN      1.000000   \n          Charlie                            NaN      1.000000           NaN   \n          Trader                             NaN      0.001900           NaN   \n2 Pool    a: TKN Staked Balance       101.000000  10003.424242    101.000000   \n          b: TKN Trading Liquidity     20.000000   3336.331433      1.250000   \n          c: BNT Trading Liquidity  20000.000000  20013.993917  20000.000000   \n          d: BNT Current Funding    20000.000000  20015.980730  20000.000000   \n          e: Spot Rate               1000.000000      5.998803  16000.000000   \n          f: Average Rate            1000.000000      6.000000  16000.000000   \n          g: Average Inverse Rate       0.000000      0.000000      0.000000   \n3 Network Master Vault                101.000000  10003.998100    101.000000   \n          Protection Vault              0.000000      0.000000      0.000000   \n          Protocol Equity                    NaN           NaN           NaN   \n          Rewards Vault                      NaN           NaN           NaN   \n\n                                            bnt       bneth        bnlink  \\\n1 Account Alice                             NaN  101.000000           NaN   \n          Bob                               NaN         NaN           NaN   \n          Charlie                           NaN         NaN  10001.000000   \n          Trader                    1977.615297         NaN           NaN   \n2 Pool    a: TKN Staked Balance             NaN    0.000000      0.000000   \n          b: TKN Trading Liquidity          NaN    0.000000      0.000000   \n          c: BNT Trading Liquidity          NaN    0.000000      0.000000   \n          d: BNT Current Funding            NaN    0.000000      0.000000   \n          e: Spot Rate                      NaN    0.000000      0.000000   \n          f: Average Rate                   NaN    0.000000      0.000000   \n          g: Average Inverse Rate           NaN    0.000000      0.000000   \n3 Network Master Vault                      NaN         NaN           NaN   \n          Protection Vault                  NaN         NaN           NaN   \n          Protocol Equity                   NaN    0.000000      0.000000   \n          Rewards Vault                     NaN    0.000000      0.000000   \n\n                                        bnwbtc  \n1 Account Alice                            NaN  \n          Bob                       101.000000  \n          Charlie                          NaN  \n          Trader                           NaN  \n2 Pool    a: TKN Staked Balance       0.000000  \n          b: TKN Trading Liquidity    0.000000  \n          c: BNT Trading Liquidity    0.000000  \n          d: BNT Current Funding      0.000000  \n          e: Spot Rate                0.000000  \n          f: Average Rate             0.000000  \n          g: Average Inverse Rate     0.000000  \n3 Network Master Vault                     NaN  \n          Protection Vault                 NaN  \n          Protocol Equity             0.000000  \n          Rewards Vault               0.000000  ",
      "text/html": "<div>\n<style scoped>\n    .dataframe tbody tr th:only-of-type {\n        vertical-align: middle;\n    }\n\n    .dataframe tbody tr th {\n        vertical-align: top;\n    }\n\n    .dataframe thead th {\n        text-align: right;\n    }\n</style>\n<table border=\"1\" class=\"dataframe\">\n  <thead>\n    <tr style=\"text-align: right;\">\n      <th></th>\n      <th></th>\n      <th></th>\n      <th>eth</th>\n      <th>link</th>\n      <th>wbtc</th>\n      <th>bnt</th>\n      <th>bneth</th>\n      <th>bnlink</th>\n      <th>bnwbtc</th>\n    </tr>\n  </thead>\n  <tbody>\n    <tr>\n      <th rowspan=\"4\" valign=\"top\">1</th>\n      <th rowspan=\"4\" valign=\"top\">Account</th>\n      <th>Alice</th>\n      <td>1.000000</td>\n      <td>NaN</td>\n      <td>NaN</td>\n      <td>NaN</td>\n      <td>101.000000</td>\n      <td>NaN</td>\n      <td>NaN</td>\n    </tr>\n    <tr>\n      <th>Bob</th>\n      <td>NaN</td>\n      <td>NaN</td>\n      <td>1.000000</td>\n      <td>NaN</td>\n      <td>NaN</td>\n      <td>NaN</td>\n      <td>101.000000</td>\n    </tr>\n    <tr>\n      <th>Charlie</th>\n      <td>NaN</td>\n      <td>1.000000</td>\n      <td>NaN</td>\n      <td>NaN</td>\n      <td>NaN</td>\n      <td>10001.000000</td>\n      <td>NaN</td>\n    </tr>\n    <tr>\n      <th>Trader</th>\n      <td>NaN</td>\n      <td>0.001900</td>\n      <td>NaN</td>\n      <td>1977.615297</td>\n      <td>NaN</td>\n      <td>NaN</td>\n      <td>NaN</td>\n    </tr>\n    <tr>\n      <th rowspan=\"7\" valign=\"top\">2</th>\n      <th rowspan=\"7\" valign=\"top\">Pool</th>\n      <th>a: TKN Staked Balance</th>\n      <td>101.000000</td>\n      <td>10003.424242</td>\n      <td>101.000000</td>\n      <td>NaN</td>\n      <td>0.000000</td>\n      <td>0.000000</td>\n      <td>0.000000</td>\n    </tr>\n    <tr>\n      <th>b: TKN Trading Liquidity</th>\n      <td>20.000000</td>\n      <td>3336.331433</td>\n      <td>1.250000</td>\n      <td>NaN</td>\n      <td>0.000000</td>\n      <td>0.000000</td>\n      <td>0.000000</td>\n    </tr>\n    <tr>\n      <th>c: BNT Trading Liquidity</th>\n      <td>20000.000000</td>\n      <td>20013.993917</td>\n      <td>20000.000000</td>\n      <td>NaN</td>\n      <td>0.000000</td>\n      <td>0.000000</td>\n      <td>0.000000</td>\n    </tr>\n    <tr>\n      <th>d: BNT Current Funding</th>\n      <td>20000.000000</td>\n      <td>20015.980730</td>\n      <td>20000.000000</td>\n      <td>NaN</td>\n      <td>0.000000</td>\n      <td>0.000000</td>\n      <td>0.000000</td>\n    </tr>\n    <tr>\n      <th>e: Spot Rate</th>\n      <td>1000.000000</td>\n      <td>5.998803</td>\n      <td>16000.000000</td>\n      <td>NaN</td>\n      <td>0.000000</td>\n      <td>0.000000</td>\n      <td>0.000000</td>\n    </tr>\n    <tr>\n      <th>f: Average Rate</th>\n      <td>1000.000000</td>\n      <td>6.000000</td>\n      <td>16000.000000</td>\n      <td>NaN</td>\n      <td>0.000000</td>\n      <td>0.000000</td>\n      <td>0.000000</td>\n    </tr>\n    <tr>\n      <th>g: Average Inverse Rate</th>\n      <td>0.000000</td>\n      <td>0.000000</td>\n      <td>0.000000</td>\n      <td>NaN</td>\n      <td>0.000000</td>\n      <td>0.000000</td>\n      <td>0.000000</td>\n    </tr>\n    <tr>\n      <th rowspan=\"4\" valign=\"top\">3</th>\n      <th rowspan=\"4\" valign=\"top\">Network</th>\n      <th>Master Vault</th>\n      <td>101.000000</td>\n      <td>10003.998100</td>\n      <td>101.000000</td>\n      <td>NaN</td>\n      <td>NaN</td>\n      <td>NaN</td>\n      <td>NaN</td>\n    </tr>\n    <tr>\n      <th>Protection Vault</th>\n      <td>0.000000</td>\n      <td>0.000000</td>\n      <td>0.000000</td>\n      <td>NaN</td>\n      <td>NaN</td>\n      <td>NaN</td>\n      <td>NaN</td>\n    </tr>\n    <tr>\n      <th>Protocol Equity</th>\n      <td>NaN</td>\n      <td>NaN</td>\n      <td>NaN</td>\n      <td>NaN</td>\n      <td>0.000000</td>\n      <td>0.000000</td>\n      <td>0.000000</td>\n    </tr>\n    <tr>\n      <th>Rewards Vault</th>\n      <td>NaN</td>\n      <td>NaN</td>\n      <td>NaN</td>\n      <td>NaN</td>\n      <td>0.000000</td>\n      <td>0.000000</td>\n      <td>0.000000</td>\n    </tr>\n  </tbody>\n</table>\n</div>"
     },
     "execution_count": 2,
     "metadata": {},
     "output_type": "execute_result"
    }
   ],
   "source": [
    "v3.describe(decimals=6)"
   ],
   "metadata": {
    "collapsed": false,
    "pycharm": {
     "name": "#%%\n"
    }
   }
  },
  {
   "cell_type": "code",
   "execution_count": 3,
   "outputs": [
    {
     "data": {
      "text/plain": "                                             eth          link          wbtc  \\\n1 Account Alice                         1.000000           NaN           NaN   \n          Bob                                NaN           NaN      1.000000   \n          Charlie                            NaN      1.000000           NaN   \n          Trader                             NaN      0.001900           NaN   \n2 Pool    a: TKN Staked Balance       101.000000  10003.424242    101.000000   \n          b: TKN Trading Liquidity     20.000000   3336.331433      1.250000   \n          c: BNT Trading Liquidity  20000.000000  20013.993917  20000.000000   \n          d: BNT Current Funding    20000.000000  20015.980730  20000.000000   \n          e: Spot Rate               1000.000000      5.998803  16000.000000   \n          f: Average Rate            1000.000000      6.000000  16000.000000   \n          g: Average Inverse Rate       0.000000      0.000000      0.000000   \n3 Network Master Vault                101.000000  10003.998100    101.000000   \n          Protection Vault              0.000000      0.000000      0.000000   \n          Protocol Equity                    NaN           NaN           NaN   \n          Rewards Vault                      NaN           NaN           NaN   \n\n                                            bnt       bneth        bnlink  \\\n1 Account Alice                             NaN  101.000000           NaN   \n          Bob                               NaN         NaN           NaN   \n          Charlie                           NaN         NaN  10001.000000   \n          Trader                    1977.615297         NaN           NaN   \n2 Pool    a: TKN Staked Balance             NaN    0.000000      0.000000   \n          b: TKN Trading Liquidity          NaN    0.000000      0.000000   \n          c: BNT Trading Liquidity          NaN    0.000000      0.000000   \n          d: BNT Current Funding            NaN    0.000000      0.000000   \n          e: Spot Rate                      NaN    0.000000      0.000000   \n          f: Average Rate                   NaN    0.000000      0.000000   \n          g: Average Inverse Rate           NaN    0.000000      0.000000   \n3 Network Master Vault                      NaN         NaN           NaN   \n          Protection Vault                  NaN         NaN           NaN   \n          Protocol Equity                   NaN    0.000000      0.000000   \n          Rewards Vault                     NaN    0.000000      0.000000   \n\n                                        bnwbtc  \n1 Account Alice                            NaN  \n          Bob                       101.000000  \n          Charlie                          NaN  \n          Trader                           NaN  \n2 Pool    a: TKN Staked Balance       0.000000  \n          b: TKN Trading Liquidity    0.000000  \n          c: BNT Trading Liquidity    0.000000  \n          d: BNT Current Funding      0.000000  \n          e: Spot Rate                0.000000  \n          f: Average Rate             0.000000  \n          g: Average Inverse Rate     0.000000  \n3 Network Master Vault                     NaN  \n          Protection Vault                 NaN  \n          Protocol Equity             0.000000  \n          Rewards Vault               0.000000  ",
      "text/html": "<div>\n<style scoped>\n    .dataframe tbody tr th:only-of-type {\n        vertical-align: middle;\n    }\n\n    .dataframe tbody tr th {\n        vertical-align: top;\n    }\n\n    .dataframe thead th {\n        text-align: right;\n    }\n</style>\n<table border=\"1\" class=\"dataframe\">\n  <thead>\n    <tr style=\"text-align: right;\">\n      <th></th>\n      <th></th>\n      <th></th>\n      <th>eth</th>\n      <th>link</th>\n      <th>wbtc</th>\n      <th>bnt</th>\n      <th>bneth</th>\n      <th>bnlink</th>\n      <th>bnwbtc</th>\n    </tr>\n  </thead>\n  <tbody>\n    <tr>\n      <th rowspan=\"4\" valign=\"top\">1</th>\n      <th rowspan=\"4\" valign=\"top\">Account</th>\n      <th>Alice</th>\n      <td>1.000000</td>\n      <td>NaN</td>\n      <td>NaN</td>\n      <td>NaN</td>\n      <td>101.000000</td>\n      <td>NaN</td>\n      <td>NaN</td>\n    </tr>\n    <tr>\n      <th>Bob</th>\n      <td>NaN</td>\n      <td>NaN</td>\n      <td>1.000000</td>\n      <td>NaN</td>\n      <td>NaN</td>\n      <td>NaN</td>\n      <td>101.000000</td>\n    </tr>\n    <tr>\n      <th>Charlie</th>\n      <td>NaN</td>\n      <td>1.000000</td>\n      <td>NaN</td>\n      <td>NaN</td>\n      <td>NaN</td>\n      <td>10001.000000</td>\n      <td>NaN</td>\n    </tr>\n    <tr>\n      <th>Trader</th>\n      <td>NaN</td>\n      <td>0.001900</td>\n      <td>NaN</td>\n      <td>1977.615297</td>\n      <td>NaN</td>\n      <td>NaN</td>\n      <td>NaN</td>\n    </tr>\n    <tr>\n      <th rowspan=\"7\" valign=\"top\">2</th>\n      <th rowspan=\"7\" valign=\"top\">Pool</th>\n      <th>a: TKN Staked Balance</th>\n      <td>101.000000</td>\n      <td>10003.424242</td>\n      <td>101.000000</td>\n      <td>NaN</td>\n      <td>0.000000</td>\n      <td>0.000000</td>\n      <td>0.000000</td>\n    </tr>\n    <tr>\n      <th>b: TKN Trading Liquidity</th>\n      <td>20.000000</td>\n      <td>3336.331433</td>\n      <td>1.250000</td>\n      <td>NaN</td>\n      <td>0.000000</td>\n      <td>0.000000</td>\n      <td>0.000000</td>\n    </tr>\n    <tr>\n      <th>c: BNT Trading Liquidity</th>\n      <td>20000.000000</td>\n      <td>20013.993917</td>\n      <td>20000.000000</td>\n      <td>NaN</td>\n      <td>0.000000</td>\n      <td>0.000000</td>\n      <td>0.000000</td>\n    </tr>\n    <tr>\n      <th>d: BNT Current Funding</th>\n      <td>20000.000000</td>\n      <td>20015.980730</td>\n      <td>20000.000000</td>\n      <td>NaN</td>\n      <td>0.000000</td>\n      <td>0.000000</td>\n      <td>0.000000</td>\n    </tr>\n    <tr>\n      <th>e: Spot Rate</th>\n      <td>1000.000000</td>\n      <td>5.998803</td>\n      <td>16000.000000</td>\n      <td>NaN</td>\n      <td>0.000000</td>\n      <td>0.000000</td>\n      <td>0.000000</td>\n    </tr>\n    <tr>\n      <th>f: Average Rate</th>\n      <td>1000.000000</td>\n      <td>6.000000</td>\n      <td>16000.000000</td>\n      <td>NaN</td>\n      <td>0.000000</td>\n      <td>0.000000</td>\n      <td>0.000000</td>\n    </tr>\n    <tr>\n      <th>g: Average Inverse Rate</th>\n      <td>0.000000</td>\n      <td>0.000000</td>\n      <td>0.000000</td>\n      <td>NaN</td>\n      <td>0.000000</td>\n      <td>0.000000</td>\n      <td>0.000000</td>\n    </tr>\n    <tr>\n      <th rowspan=\"4\" valign=\"top\">3</th>\n      <th rowspan=\"4\" valign=\"top\">Network</th>\n      <th>Master Vault</th>\n      <td>101.000000</td>\n      <td>10003.998100</td>\n      <td>101.000000</td>\n      <td>NaN</td>\n      <td>NaN</td>\n      <td>NaN</td>\n      <td>NaN</td>\n    </tr>\n    <tr>\n      <th>Protection Vault</th>\n      <td>0.000000</td>\n      <td>0.000000</td>\n      <td>0.000000</td>\n      <td>NaN</td>\n      <td>NaN</td>\n      <td>NaN</td>\n      <td>NaN</td>\n    </tr>\n    <tr>\n      <th>Protocol Equity</th>\n      <td>NaN</td>\n      <td>NaN</td>\n      <td>NaN</td>\n      <td>NaN</td>\n      <td>0.000000</td>\n      <td>0.000000</td>\n      <td>0.000000</td>\n    </tr>\n    <tr>\n      <th>Rewards Vault</th>\n      <td>NaN</td>\n      <td>NaN</td>\n      <td>NaN</td>\n      <td>NaN</td>\n      <td>0.000000</td>\n      <td>0.000000</td>\n      <td>0.000000</td>\n    </tr>\n  </tbody>\n</table>\n</div>"
     },
     "execution_count": 3,
     "metadata": {},
     "output_type": "execute_result"
    }
   ],
   "source": [
    "v3.describe(decimals=6)"
   ],
   "metadata": {
    "collapsed": false,
    "pycharm": {
     "name": "#%%\n"
    }
   }
  },
  {
   "cell_type": "markdown",
   "metadata": {},
   "source": [
    "# Staking TKN\n",
    "\n",
    "The ema serves as a detection mechanism for unusual spikes in the price of an asset against BNT, and prevents changes to the depth of the trading pools to protect the system from harm. To illustrate the effects of the ema, the current state of the system in the present narrative will be carried forward, with each of Alice, Bob, and Charlie providing one additional TKN to the system. Unlike the prior examples where liquidity is added, both the ema, and the pool token valuation need to be taken under consideration.\n",
    "\n",
    "Before the demonstration continues, recall that each of the pools have a preset 4,000 BNT funding limit at this point in the narrative, and up to this point in time all three have only exhausted half of that amount. Further, recall that the ability to increase the available trading liquidity is determined by the vault balance of the TKN in question, and the current depth of the pool, rather than the amount being contributed by a user during any deposit event."
   ]
  },
  {
   "cell_type": "code",
   "execution_count": 4,
   "outputs": [
    {
     "name": "stdout",
     "output_type": "stream",
     "text": [
      "timestep 0\n"
     ]
    },
    {
     "data": {
      "text/plain": "                                           eth        link        wbtc  \\\n1 Account Alice                         0.0000         NaN         NaN   \n          Bob                              NaN         NaN      1.0000   \n          Charlie                          NaN      1.0000         NaN   \n          Trader                           NaN      0.0019         NaN   \n2 Pool    a: TKN Staked Balance       102.0000  10003.4242    101.0000   \n          b: TKN Trading Liquidity     20.0000   3336.3314      1.2500   \n          c: BNT Trading Liquidity  20000.0000  20013.9939  20000.0000   \n          d: BNT Current Funding    20000.0000  20015.9807  20000.0000   \n          e: Spot Rate               1000.0000      5.9988  16000.0000   \n          f: Average Rate            1000.0000      6.0000  16000.0000   \n          g: Average Inverse Rate       0.0000      0.0000      0.0000   \n3 Network Master Vault                102.0000  10003.9981    101.0000   \n          Protection Vault              0.0000      0.0000      0.0000   \n          Protocol Equity                  NaN         NaN         NaN   \n          Rewards Vault                    NaN         NaN         NaN   \n\n                                          bnt     bneth      bnlink    bnwbtc  \n1 Account Alice                           NaN  102.0000         NaN       NaN  \n          Bob                             NaN       NaN         NaN  101.0000  \n          Charlie                         NaN       NaN  10001.0000       NaN  \n          Trader                    1977.6153       NaN         NaN       NaN  \n2 Pool    a: TKN Staked Balance           NaN    0.0000      0.0000    0.0000  \n          b: TKN Trading Liquidity        NaN    0.0000      0.0000    0.0000  \n          c: BNT Trading Liquidity        NaN    0.0000      0.0000    0.0000  \n          d: BNT Current Funding          NaN    0.0000      0.0000    0.0000  \n          e: Spot Rate                    NaN    0.0000      0.0000    0.0000  \n          f: Average Rate                 NaN    0.0000      0.0000    0.0000  \n          g: Average Inverse Rate         NaN    0.0000      0.0000    0.0000  \n3 Network Master Vault                    NaN       NaN         NaN       NaN  \n          Protection Vault                NaN       NaN         NaN       NaN  \n          Protocol Equity                 NaN    0.0000      0.0000    0.0000  \n          Rewards Vault                   NaN    0.0000      0.0000    0.0000  ",
      "text/html": "<div>\n<style scoped>\n    .dataframe tbody tr th:only-of-type {\n        vertical-align: middle;\n    }\n\n    .dataframe tbody tr th {\n        vertical-align: top;\n    }\n\n    .dataframe thead th {\n        text-align: right;\n    }\n</style>\n<table border=\"1\" class=\"dataframe\">\n  <thead>\n    <tr style=\"text-align: right;\">\n      <th></th>\n      <th></th>\n      <th></th>\n      <th>eth</th>\n      <th>link</th>\n      <th>wbtc</th>\n      <th>bnt</th>\n      <th>bneth</th>\n      <th>bnlink</th>\n      <th>bnwbtc</th>\n    </tr>\n  </thead>\n  <tbody>\n    <tr>\n      <th rowspan=\"4\" valign=\"top\">1</th>\n      <th rowspan=\"4\" valign=\"top\">Account</th>\n      <th>Alice</th>\n      <td>0.0000</td>\n      <td>NaN</td>\n      <td>NaN</td>\n      <td>NaN</td>\n      <td>102.0000</td>\n      <td>NaN</td>\n      <td>NaN</td>\n    </tr>\n    <tr>\n      <th>Bob</th>\n      <td>NaN</td>\n      <td>NaN</td>\n      <td>1.0000</td>\n      <td>NaN</td>\n      <td>NaN</td>\n      <td>NaN</td>\n      <td>101.0000</td>\n    </tr>\n    <tr>\n      <th>Charlie</th>\n      <td>NaN</td>\n      <td>1.0000</td>\n      <td>NaN</td>\n      <td>NaN</td>\n      <td>NaN</td>\n      <td>10001.0000</td>\n      <td>NaN</td>\n    </tr>\n    <tr>\n      <th>Trader</th>\n      <td>NaN</td>\n      <td>0.0019</td>\n      <td>NaN</td>\n      <td>1977.6153</td>\n      <td>NaN</td>\n      <td>NaN</td>\n      <td>NaN</td>\n    </tr>\n    <tr>\n      <th rowspan=\"7\" valign=\"top\">2</th>\n      <th rowspan=\"7\" valign=\"top\">Pool</th>\n      <th>a: TKN Staked Balance</th>\n      <td>102.0000</td>\n      <td>10003.4242</td>\n      <td>101.0000</td>\n      <td>NaN</td>\n      <td>0.0000</td>\n      <td>0.0000</td>\n      <td>0.0000</td>\n    </tr>\n    <tr>\n      <th>b: TKN Trading Liquidity</th>\n      <td>20.0000</td>\n      <td>3336.3314</td>\n      <td>1.2500</td>\n      <td>NaN</td>\n      <td>0.0000</td>\n      <td>0.0000</td>\n      <td>0.0000</td>\n    </tr>\n    <tr>\n      <th>c: BNT Trading Liquidity</th>\n      <td>20000.0000</td>\n      <td>20013.9939</td>\n      <td>20000.0000</td>\n      <td>NaN</td>\n      <td>0.0000</td>\n      <td>0.0000</td>\n      <td>0.0000</td>\n    </tr>\n    <tr>\n      <th>d: BNT Current Funding</th>\n      <td>20000.0000</td>\n      <td>20015.9807</td>\n      <td>20000.0000</td>\n      <td>NaN</td>\n      <td>0.0000</td>\n      <td>0.0000</td>\n      <td>0.0000</td>\n    </tr>\n    <tr>\n      <th>e: Spot Rate</th>\n      <td>1000.0000</td>\n      <td>5.9988</td>\n      <td>16000.0000</td>\n      <td>NaN</td>\n      <td>0.0000</td>\n      <td>0.0000</td>\n      <td>0.0000</td>\n    </tr>\n    <tr>\n      <th>f: Average Rate</th>\n      <td>1000.0000</td>\n      <td>6.0000</td>\n      <td>16000.0000</td>\n      <td>NaN</td>\n      <td>0.0000</td>\n      <td>0.0000</td>\n      <td>0.0000</td>\n    </tr>\n    <tr>\n      <th>g: Average Inverse Rate</th>\n      <td>0.0000</td>\n      <td>0.0000</td>\n      <td>0.0000</td>\n      <td>NaN</td>\n      <td>0.0000</td>\n      <td>0.0000</td>\n      <td>0.0000</td>\n    </tr>\n    <tr>\n      <th rowspan=\"4\" valign=\"top\">3</th>\n      <th rowspan=\"4\" valign=\"top\">Network</th>\n      <th>Master Vault</th>\n      <td>102.0000</td>\n      <td>10003.9981</td>\n      <td>101.0000</td>\n      <td>NaN</td>\n      <td>NaN</td>\n      <td>NaN</td>\n      <td>NaN</td>\n    </tr>\n    <tr>\n      <th>Protection Vault</th>\n      <td>0.0000</td>\n      <td>0.0000</td>\n      <td>0.0000</td>\n      <td>NaN</td>\n      <td>NaN</td>\n      <td>NaN</td>\n      <td>NaN</td>\n    </tr>\n    <tr>\n      <th>Protocol Equity</th>\n      <td>NaN</td>\n      <td>NaN</td>\n      <td>NaN</td>\n      <td>NaN</td>\n      <td>0.0000</td>\n      <td>0.0000</td>\n      <td>0.0000</td>\n    </tr>\n    <tr>\n      <th>Rewards Vault</th>\n      <td>NaN</td>\n      <td>NaN</td>\n      <td>NaN</td>\n      <td>NaN</td>\n      <td>0.0000</td>\n      <td>0.0000</td>\n      <td>0.0000</td>\n    </tr>\n  </tbody>\n</table>\n</div>"
     },
     "execution_count": 4,
     "metadata": {},
     "output_type": "execute_result"
    }
   ],
   "source": [
    "timestep = v3.global_state.tokens['wbtc'].timestamp\n",
    "print('timestep', timestep)\n",
    "v3.deposit(tkn_amt=1, tkn_name='eth',  user_name='Alice', timestamp=timestep)\n",
    "\n",
    "v3.describe(decimals=4)"
   ],
   "metadata": {
    "collapsed": false,
    "pycharm": {
     "name": "#%%\n"
    }
   }
  },
  {
   "cell_type": "code",
   "execution_count": 5,
   "outputs": [
    {
     "data": {
      "text/plain": "                                           eth        link        wbtc  \\\n1 Account Alice                         0.0000         NaN         NaN   \n          Bob                              NaN         NaN      1.0000   \n          Charlie                          NaN      1.0000         NaN   \n          Trader                           NaN      0.0019         NaN   \n2 Pool    a: TKN Staked Balance       102.0000  10003.4242    101.0000   \n          b: TKN Trading Liquidity     20.0000   3336.3314      1.2500   \n          c: BNT Trading Liquidity  20000.0000  20013.9939  20000.0000   \n          d: BNT Current Funding    20000.0000  20015.9807  20000.0000   \n          e: Spot Rate               1000.0000      5.9988  16000.0000   \n          f: Average Rate            1000.0000      6.0000  16000.0000   \n          g: Average Inverse Rate       0.0000      0.0000      0.0000   \n3 Network Master Vault                102.0000  10003.9981    101.0000   \n          Protection Vault              0.0000      0.0000      0.0000   \n          Protocol Equity                  NaN         NaN         NaN   \n          Rewards Vault                    NaN         NaN         NaN   \n\n                                          bnt     bneth      bnlink    bnwbtc  \n1 Account Alice                           NaN  102.0000         NaN       NaN  \n          Bob                             NaN       NaN         NaN  101.0000  \n          Charlie                         NaN       NaN  10001.0000       NaN  \n          Trader                    1977.6153       NaN         NaN       NaN  \n2 Pool    a: TKN Staked Balance           NaN    0.0000      0.0000    0.0000  \n          b: TKN Trading Liquidity        NaN    0.0000      0.0000    0.0000  \n          c: BNT Trading Liquidity        NaN    0.0000      0.0000    0.0000  \n          d: BNT Current Funding          NaN    0.0000      0.0000    0.0000  \n          e: Spot Rate                    NaN    0.0000      0.0000    0.0000  \n          f: Average Rate                 NaN    0.0000      0.0000    0.0000  \n          g: Average Inverse Rate         NaN    0.0000      0.0000    0.0000  \n3 Network Master Vault                    NaN       NaN         NaN       NaN  \n          Protection Vault                NaN       NaN         NaN       NaN  \n          Protocol Equity                 NaN    0.0000      0.0000    0.0000  \n          Rewards Vault                   NaN    0.0000      0.0000    0.0000  ",
      "text/html": "<div>\n<style scoped>\n    .dataframe tbody tr th:only-of-type {\n        vertical-align: middle;\n    }\n\n    .dataframe tbody tr th {\n        vertical-align: top;\n    }\n\n    .dataframe thead th {\n        text-align: right;\n    }\n</style>\n<table border=\"1\" class=\"dataframe\">\n  <thead>\n    <tr style=\"text-align: right;\">\n      <th></th>\n      <th></th>\n      <th></th>\n      <th>eth</th>\n      <th>link</th>\n      <th>wbtc</th>\n      <th>bnt</th>\n      <th>bneth</th>\n      <th>bnlink</th>\n      <th>bnwbtc</th>\n    </tr>\n  </thead>\n  <tbody>\n    <tr>\n      <th rowspan=\"4\" valign=\"top\">1</th>\n      <th rowspan=\"4\" valign=\"top\">Account</th>\n      <th>Alice</th>\n      <td>0.0000</td>\n      <td>NaN</td>\n      <td>NaN</td>\n      <td>NaN</td>\n      <td>102.0000</td>\n      <td>NaN</td>\n      <td>NaN</td>\n    </tr>\n    <tr>\n      <th>Bob</th>\n      <td>NaN</td>\n      <td>NaN</td>\n      <td>1.0000</td>\n      <td>NaN</td>\n      <td>NaN</td>\n      <td>NaN</td>\n      <td>101.0000</td>\n    </tr>\n    <tr>\n      <th>Charlie</th>\n      <td>NaN</td>\n      <td>1.0000</td>\n      <td>NaN</td>\n      <td>NaN</td>\n      <td>NaN</td>\n      <td>10001.0000</td>\n      <td>NaN</td>\n    </tr>\n    <tr>\n      <th>Trader</th>\n      <td>NaN</td>\n      <td>0.0019</td>\n      <td>NaN</td>\n      <td>1977.6153</td>\n      <td>NaN</td>\n      <td>NaN</td>\n      <td>NaN</td>\n    </tr>\n    <tr>\n      <th rowspan=\"7\" valign=\"top\">2</th>\n      <th rowspan=\"7\" valign=\"top\">Pool</th>\n      <th>a: TKN Staked Balance</th>\n      <td>102.0000</td>\n      <td>10003.4242</td>\n      <td>101.0000</td>\n      <td>NaN</td>\n      <td>0.0000</td>\n      <td>0.0000</td>\n      <td>0.0000</td>\n    </tr>\n    <tr>\n      <th>b: TKN Trading Liquidity</th>\n      <td>20.0000</td>\n      <td>3336.3314</td>\n      <td>1.2500</td>\n      <td>NaN</td>\n      <td>0.0000</td>\n      <td>0.0000</td>\n      <td>0.0000</td>\n    </tr>\n    <tr>\n      <th>c: BNT Trading Liquidity</th>\n      <td>20000.0000</td>\n      <td>20013.9939</td>\n      <td>20000.0000</td>\n      <td>NaN</td>\n      <td>0.0000</td>\n      <td>0.0000</td>\n      <td>0.0000</td>\n    </tr>\n    <tr>\n      <th>d: BNT Current Funding</th>\n      <td>20000.0000</td>\n      <td>20015.9807</td>\n      <td>20000.0000</td>\n      <td>NaN</td>\n      <td>0.0000</td>\n      <td>0.0000</td>\n      <td>0.0000</td>\n    </tr>\n    <tr>\n      <th>e: Spot Rate</th>\n      <td>1000.0000</td>\n      <td>5.9988</td>\n      <td>16000.0000</td>\n      <td>NaN</td>\n      <td>0.0000</td>\n      <td>0.0000</td>\n      <td>0.0000</td>\n    </tr>\n    <tr>\n      <th>f: Average Rate</th>\n      <td>1000.0000</td>\n      <td>6.0000</td>\n      <td>16000.0000</td>\n      <td>NaN</td>\n      <td>0.0000</td>\n      <td>0.0000</td>\n      <td>0.0000</td>\n    </tr>\n    <tr>\n      <th>g: Average Inverse Rate</th>\n      <td>0.0000</td>\n      <td>0.0000</td>\n      <td>0.0000</td>\n      <td>NaN</td>\n      <td>0.0000</td>\n      <td>0.0000</td>\n      <td>0.0000</td>\n    </tr>\n    <tr>\n      <th rowspan=\"4\" valign=\"top\">3</th>\n      <th rowspan=\"4\" valign=\"top\">Network</th>\n      <th>Master Vault</th>\n      <td>102.0000</td>\n      <td>10003.9981</td>\n      <td>101.0000</td>\n      <td>NaN</td>\n      <td>NaN</td>\n      <td>NaN</td>\n      <td>NaN</td>\n    </tr>\n    <tr>\n      <th>Protection Vault</th>\n      <td>0.0000</td>\n      <td>0.0000</td>\n      <td>0.0000</td>\n      <td>NaN</td>\n      <td>NaN</td>\n      <td>NaN</td>\n      <td>NaN</td>\n    </tr>\n    <tr>\n      <th>Protocol Equity</th>\n      <td>NaN</td>\n      <td>NaN</td>\n      <td>NaN</td>\n      <td>NaN</td>\n      <td>0.0000</td>\n      <td>0.0000</td>\n      <td>0.0000</td>\n    </tr>\n    <tr>\n      <th>Rewards Vault</th>\n      <td>NaN</td>\n      <td>NaN</td>\n      <td>NaN</td>\n      <td>NaN</td>\n      <td>0.0000</td>\n      <td>0.0000</td>\n      <td>0.0000</td>\n    </tr>\n  </tbody>\n</table>\n</div>"
     },
     "execution_count": 5,
     "metadata": {},
     "output_type": "execute_result"
    }
   ],
   "source": [
    "v3.describe(decimals=4)"
   ],
   "metadata": {
    "collapsed": false,
    "pycharm": {
     "name": "#%%\n"
    }
   }
  },
  {
   "cell_type": "markdown",
   "source": [
    "Alice now deposits 1 ETH. Since no fees have yet accrued to the bnETH pool tokens (i.e. ETH has not yet been the target of any particular trade), the value of the bnETH pool token remains unchanged. Her 1 ETH is added to the vault, the staking ledger is updated, and a new pool token is created for Alice.\n",
    "\n",
    "Assume that this deposit is occurring on a block wherein no actions have taken place on the ETH pool. Therefore, the ema has not been updated in this block, and it remains where it was. This allows for the effective price quoted by the pool to be evaluated with a view to detecting artificial price manipulation. The protocol's confidence is determined by the relative deviation between the ema and spot prices; the protocol will only allow the pool's trading liquidity to be changed if the difference between these values is small.\n",
    "\n",
    "In this instance, the addition of Alice's 1 ETH occurs when the ema on ETH remains at 1,000, whereas its spot rate is 907.26. The deviation between the spot rate and the ema is measured relative to the ema, as follows:"
   ],
   "metadata": {
    "collapsed": false
   }
  },
  {
   "cell_type": "markdown",
   "source": [
    "Since Δ is fixed at 0.01, the equation above can be expressed as the following boolean:\n",
    "\n",
    "![](https://lh5.googleusercontent.com/blsejE9xJDrmvWZPTX9pyIZnAHe6_FiCmwoKm-IryJ0w678oabuREMMxDo5PrZRbSg68QLAFxG1COySwZTquiD0rfdRxK63u4yGw8In-kcsQFYFuwJWP4JKXebJloN_mkTZ5deQ7YCEaTO5esA)\\\n",
    "where r is the spot rate. In this case, Δ is 0.0927; the tolerance of the protocol is 0.01. Therefore, the protocol will not allow the trading liquidity to be changed on this block. However, Alice's 1 ETH is still accepted into the vault, and she is issued bnETH pool tokens as normal. Since there is no change to the trading liquidity, the protocol will not mint BNT, and will not issue itself bnBNT."
   ],
   "metadata": {
    "collapsed": false
   }
  },
  {
   "cell_type": "markdown",
   "source": [
    "Bob now deposits 1 wBTC. In contrast to Alice’s situation, fees have accumulated on the wBTC pool token. Therefore, the rate of pool token issuance is affected. The staking ledger is reporting a staked amount of wBTC of 101.00045, and the supply of bnwBTC is 101. Therefore, the rate of bnwBTC to wBTC is 0.999995543, and this quotient determines the number of bnwBTC pool tokens Bob will receive.\n",
    "\n",
    "Assume that this deposit is occurring on the same block as Alice’s deposit, where the trade between ETH and wBTC had been executed on the prior block. Therefore, the wBTC ema has not been updated in this block, and also remains at the genesis rate.\n",
    "\n",
    "In this instance, the addition of Bob’s 1 wBTC coccurs when the ema on wBTC remains at 16,000, whereas its spot rate is at 17,534. The deviation (Δ) between the spot rate and the ema is 0.0959, and as before, the protocol will not allow the trading liquidity to be changed on this block. Regardless, the vault still accepts Bob’s wBTC, and issues him bnwBTC as normal.\n"
   ],
   "metadata": {
    "collapsed": false
   }
  },
  {
   "cell_type": "code",
   "execution_count": 6,
   "outputs": [
    {
     "name": "stdout",
     "output_type": "stream",
     "text": [
      "timestep 0\n"
     ]
    },
    {
     "data": {
      "text/plain": "                                           eth        link        wbtc  \\\n1 Account Alice                         0.0000         NaN         NaN   \n          Bob                              NaN         NaN      0.0000   \n          Charlie                          NaN      1.0000         NaN   \n          Trader                           NaN      0.0019         NaN   \n2 Pool    a: TKN Staked Balance       102.0000  10003.4242    102.0000   \n          b: TKN Trading Liquidity     20.0000   3336.3314      1.2500   \n          c: BNT Trading Liquidity  20000.0000  20013.9939  20000.0000   \n          d: BNT Current Funding    20000.0000  20015.9807  20000.0000   \n          e: Spot Rate               1000.0000      5.9988  16000.0000   \n          f: Average Rate            1000.0000      6.0000  16000.0000   \n          g: Average Inverse Rate       0.0000      0.0000      0.0000   \n3 Network Master Vault                102.0000  10003.9981    102.0000   \n          Protection Vault              0.0000      0.0000      0.0000   \n          Protocol Equity                  NaN         NaN         NaN   \n          Rewards Vault                    NaN         NaN         NaN   \n\n                                          bnt     bneth      bnlink    bnwbtc  \n1 Account Alice                           NaN  102.0000         NaN       NaN  \n          Bob                             NaN       NaN         NaN  102.0000  \n          Charlie                         NaN       NaN  10001.0000       NaN  \n          Trader                    1977.6153       NaN         NaN       NaN  \n2 Pool    a: TKN Staked Balance           NaN    0.0000      0.0000    0.0000  \n          b: TKN Trading Liquidity        NaN    0.0000      0.0000    0.0000  \n          c: BNT Trading Liquidity        NaN    0.0000      0.0000    0.0000  \n          d: BNT Current Funding          NaN    0.0000      0.0000    0.0000  \n          e: Spot Rate                    NaN    0.0000      0.0000    0.0000  \n          f: Average Rate                 NaN    0.0000      0.0000    0.0000  \n          g: Average Inverse Rate         NaN    0.0000      0.0000    0.0000  \n3 Network Master Vault                    NaN       NaN         NaN       NaN  \n          Protection Vault                NaN       NaN         NaN       NaN  \n          Protocol Equity                 NaN    0.0000      0.0000    0.0000  \n          Rewards Vault                   NaN    0.0000      0.0000    0.0000  ",
      "text/html": "<div>\n<style scoped>\n    .dataframe tbody tr th:only-of-type {\n        vertical-align: middle;\n    }\n\n    .dataframe tbody tr th {\n        vertical-align: top;\n    }\n\n    .dataframe thead th {\n        text-align: right;\n    }\n</style>\n<table border=\"1\" class=\"dataframe\">\n  <thead>\n    <tr style=\"text-align: right;\">\n      <th></th>\n      <th></th>\n      <th></th>\n      <th>eth</th>\n      <th>link</th>\n      <th>wbtc</th>\n      <th>bnt</th>\n      <th>bneth</th>\n      <th>bnlink</th>\n      <th>bnwbtc</th>\n    </tr>\n  </thead>\n  <tbody>\n    <tr>\n      <th rowspan=\"4\" valign=\"top\">1</th>\n      <th rowspan=\"4\" valign=\"top\">Account</th>\n      <th>Alice</th>\n      <td>0.0000</td>\n      <td>NaN</td>\n      <td>NaN</td>\n      <td>NaN</td>\n      <td>102.0000</td>\n      <td>NaN</td>\n      <td>NaN</td>\n    </tr>\n    <tr>\n      <th>Bob</th>\n      <td>NaN</td>\n      <td>NaN</td>\n      <td>0.0000</td>\n      <td>NaN</td>\n      <td>NaN</td>\n      <td>NaN</td>\n      <td>102.0000</td>\n    </tr>\n    <tr>\n      <th>Charlie</th>\n      <td>NaN</td>\n      <td>1.0000</td>\n      <td>NaN</td>\n      <td>NaN</td>\n      <td>NaN</td>\n      <td>10001.0000</td>\n      <td>NaN</td>\n    </tr>\n    <tr>\n      <th>Trader</th>\n      <td>NaN</td>\n      <td>0.0019</td>\n      <td>NaN</td>\n      <td>1977.6153</td>\n      <td>NaN</td>\n      <td>NaN</td>\n      <td>NaN</td>\n    </tr>\n    <tr>\n      <th rowspan=\"7\" valign=\"top\">2</th>\n      <th rowspan=\"7\" valign=\"top\">Pool</th>\n      <th>a: TKN Staked Balance</th>\n      <td>102.0000</td>\n      <td>10003.4242</td>\n      <td>102.0000</td>\n      <td>NaN</td>\n      <td>0.0000</td>\n      <td>0.0000</td>\n      <td>0.0000</td>\n    </tr>\n    <tr>\n      <th>b: TKN Trading Liquidity</th>\n      <td>20.0000</td>\n      <td>3336.3314</td>\n      <td>1.2500</td>\n      <td>NaN</td>\n      <td>0.0000</td>\n      <td>0.0000</td>\n      <td>0.0000</td>\n    </tr>\n    <tr>\n      <th>c: BNT Trading Liquidity</th>\n      <td>20000.0000</td>\n      <td>20013.9939</td>\n      <td>20000.0000</td>\n      <td>NaN</td>\n      <td>0.0000</td>\n      <td>0.0000</td>\n      <td>0.0000</td>\n    </tr>\n    <tr>\n      <th>d: BNT Current Funding</th>\n      <td>20000.0000</td>\n      <td>20015.9807</td>\n      <td>20000.0000</td>\n      <td>NaN</td>\n      <td>0.0000</td>\n      <td>0.0000</td>\n      <td>0.0000</td>\n    </tr>\n    <tr>\n      <th>e: Spot Rate</th>\n      <td>1000.0000</td>\n      <td>5.9988</td>\n      <td>16000.0000</td>\n      <td>NaN</td>\n      <td>0.0000</td>\n      <td>0.0000</td>\n      <td>0.0000</td>\n    </tr>\n    <tr>\n      <th>f: Average Rate</th>\n      <td>1000.0000</td>\n      <td>6.0000</td>\n      <td>16000.0000</td>\n      <td>NaN</td>\n      <td>0.0000</td>\n      <td>0.0000</td>\n      <td>0.0000</td>\n    </tr>\n    <tr>\n      <th>g: Average Inverse Rate</th>\n      <td>0.0000</td>\n      <td>0.0000</td>\n      <td>0.0000</td>\n      <td>NaN</td>\n      <td>0.0000</td>\n      <td>0.0000</td>\n      <td>0.0000</td>\n    </tr>\n    <tr>\n      <th rowspan=\"4\" valign=\"top\">3</th>\n      <th rowspan=\"4\" valign=\"top\">Network</th>\n      <th>Master Vault</th>\n      <td>102.0000</td>\n      <td>10003.9981</td>\n      <td>102.0000</td>\n      <td>NaN</td>\n      <td>NaN</td>\n      <td>NaN</td>\n      <td>NaN</td>\n    </tr>\n    <tr>\n      <th>Protection Vault</th>\n      <td>0.0000</td>\n      <td>0.0000</td>\n      <td>0.0000</td>\n      <td>NaN</td>\n      <td>NaN</td>\n      <td>NaN</td>\n      <td>NaN</td>\n    </tr>\n    <tr>\n      <th>Protocol Equity</th>\n      <td>NaN</td>\n      <td>NaN</td>\n      <td>NaN</td>\n      <td>NaN</td>\n      <td>0.0000</td>\n      <td>0.0000</td>\n      <td>0.0000</td>\n    </tr>\n    <tr>\n      <th>Rewards Vault</th>\n      <td>NaN</td>\n      <td>NaN</td>\n      <td>NaN</td>\n      <td>NaN</td>\n      <td>0.0000</td>\n      <td>0.0000</td>\n      <td>0.0000</td>\n    </tr>\n  </tbody>\n</table>\n</div>"
     },
     "execution_count": 6,
     "metadata": {},
     "output_type": "execute_result"
    }
   ],
   "source": [
    "timestep = v3.global_state.tokens['wbtc'].timestamp\n",
    "print('timestep', timestep)\n",
    "v3.deposit(tkn_amt=1, tkn_name='wbtc', user_name='Bob', timestamp=timestep)\n",
    "v3.describe(decimals=4)"
   ],
   "metadata": {
    "collapsed": false,
    "pycharm": {
     "name": "#%%\n"
    }
   }
  },
  {
   "cell_type": "code",
   "execution_count": 7,
   "outputs": [
    {
     "data": {
      "text/plain": "                                           eth        link        wbtc  \\\n1 Account Alice                         0.0000         NaN         NaN   \n          Bob                              NaN         NaN      0.0000   \n          Charlie                          NaN      1.0000         NaN   \n          Trader                           NaN      0.0019         NaN   \n2 Pool    a: TKN Staked Balance       102.0000  10003.4242    102.0000   \n          b: TKN Trading Liquidity     20.0000   3336.3314      1.2500   \n          c: BNT Trading Liquidity  20000.0000  20013.9939  20000.0000   \n          d: BNT Current Funding    20000.0000  20015.9807  20000.0000   \n          e: Spot Rate               1000.0000      5.9988  16000.0000   \n          f: Average Rate            1000.0000      6.0000  16000.0000   \n          g: Average Inverse Rate       0.0000      0.0000      0.0000   \n3 Network Master Vault                102.0000  10003.9981    102.0000   \n          Protection Vault              0.0000      0.0000      0.0000   \n          Protocol Equity                  NaN         NaN         NaN   \n          Rewards Vault                    NaN         NaN         NaN   \n\n                                          bnt     bneth      bnlink    bnwbtc  \n1 Account Alice                           NaN  102.0000         NaN       NaN  \n          Bob                             NaN       NaN         NaN  102.0000  \n          Charlie                         NaN       NaN  10001.0000       NaN  \n          Trader                    1977.6153       NaN         NaN       NaN  \n2 Pool    a: TKN Staked Balance           NaN    0.0000      0.0000    0.0000  \n          b: TKN Trading Liquidity        NaN    0.0000      0.0000    0.0000  \n          c: BNT Trading Liquidity        NaN    0.0000      0.0000    0.0000  \n          d: BNT Current Funding          NaN    0.0000      0.0000    0.0000  \n          e: Spot Rate                    NaN    0.0000      0.0000    0.0000  \n          f: Average Rate                 NaN    0.0000      0.0000    0.0000  \n          g: Average Inverse Rate         NaN    0.0000      0.0000    0.0000  \n3 Network Master Vault                    NaN       NaN         NaN       NaN  \n          Protection Vault                NaN       NaN         NaN       NaN  \n          Protocol Equity                 NaN    0.0000      0.0000    0.0000  \n          Rewards Vault                   NaN    0.0000      0.0000    0.0000  ",
      "text/html": "<div>\n<style scoped>\n    .dataframe tbody tr th:only-of-type {\n        vertical-align: middle;\n    }\n\n    .dataframe tbody tr th {\n        vertical-align: top;\n    }\n\n    .dataframe thead th {\n        text-align: right;\n    }\n</style>\n<table border=\"1\" class=\"dataframe\">\n  <thead>\n    <tr style=\"text-align: right;\">\n      <th></th>\n      <th></th>\n      <th></th>\n      <th>eth</th>\n      <th>link</th>\n      <th>wbtc</th>\n      <th>bnt</th>\n      <th>bneth</th>\n      <th>bnlink</th>\n      <th>bnwbtc</th>\n    </tr>\n  </thead>\n  <tbody>\n    <tr>\n      <th rowspan=\"4\" valign=\"top\">1</th>\n      <th rowspan=\"4\" valign=\"top\">Account</th>\n      <th>Alice</th>\n      <td>0.0000</td>\n      <td>NaN</td>\n      <td>NaN</td>\n      <td>NaN</td>\n      <td>102.0000</td>\n      <td>NaN</td>\n      <td>NaN</td>\n    </tr>\n    <tr>\n      <th>Bob</th>\n      <td>NaN</td>\n      <td>NaN</td>\n      <td>0.0000</td>\n      <td>NaN</td>\n      <td>NaN</td>\n      <td>NaN</td>\n      <td>102.0000</td>\n    </tr>\n    <tr>\n      <th>Charlie</th>\n      <td>NaN</td>\n      <td>1.0000</td>\n      <td>NaN</td>\n      <td>NaN</td>\n      <td>NaN</td>\n      <td>10001.0000</td>\n      <td>NaN</td>\n    </tr>\n    <tr>\n      <th>Trader</th>\n      <td>NaN</td>\n      <td>0.0019</td>\n      <td>NaN</td>\n      <td>1977.6153</td>\n      <td>NaN</td>\n      <td>NaN</td>\n      <td>NaN</td>\n    </tr>\n    <tr>\n      <th rowspan=\"7\" valign=\"top\">2</th>\n      <th rowspan=\"7\" valign=\"top\">Pool</th>\n      <th>a: TKN Staked Balance</th>\n      <td>102.0000</td>\n      <td>10003.4242</td>\n      <td>102.0000</td>\n      <td>NaN</td>\n      <td>0.0000</td>\n      <td>0.0000</td>\n      <td>0.0000</td>\n    </tr>\n    <tr>\n      <th>b: TKN Trading Liquidity</th>\n      <td>20.0000</td>\n      <td>3336.3314</td>\n      <td>1.2500</td>\n      <td>NaN</td>\n      <td>0.0000</td>\n      <td>0.0000</td>\n      <td>0.0000</td>\n    </tr>\n    <tr>\n      <th>c: BNT Trading Liquidity</th>\n      <td>20000.0000</td>\n      <td>20013.9939</td>\n      <td>20000.0000</td>\n      <td>NaN</td>\n      <td>0.0000</td>\n      <td>0.0000</td>\n      <td>0.0000</td>\n    </tr>\n    <tr>\n      <th>d: BNT Current Funding</th>\n      <td>20000.0000</td>\n      <td>20015.9807</td>\n      <td>20000.0000</td>\n      <td>NaN</td>\n      <td>0.0000</td>\n      <td>0.0000</td>\n      <td>0.0000</td>\n    </tr>\n    <tr>\n      <th>e: Spot Rate</th>\n      <td>1000.0000</td>\n      <td>5.9988</td>\n      <td>16000.0000</td>\n      <td>NaN</td>\n      <td>0.0000</td>\n      <td>0.0000</td>\n      <td>0.0000</td>\n    </tr>\n    <tr>\n      <th>f: Average Rate</th>\n      <td>1000.0000</td>\n      <td>6.0000</td>\n      <td>16000.0000</td>\n      <td>NaN</td>\n      <td>0.0000</td>\n      <td>0.0000</td>\n      <td>0.0000</td>\n    </tr>\n    <tr>\n      <th>g: Average Inverse Rate</th>\n      <td>0.0000</td>\n      <td>0.0000</td>\n      <td>0.0000</td>\n      <td>NaN</td>\n      <td>0.0000</td>\n      <td>0.0000</td>\n      <td>0.0000</td>\n    </tr>\n    <tr>\n      <th rowspan=\"4\" valign=\"top\">3</th>\n      <th rowspan=\"4\" valign=\"top\">Network</th>\n      <th>Master Vault</th>\n      <td>102.0000</td>\n      <td>10003.9981</td>\n      <td>102.0000</td>\n      <td>NaN</td>\n      <td>NaN</td>\n      <td>NaN</td>\n      <td>NaN</td>\n    </tr>\n    <tr>\n      <th>Protection Vault</th>\n      <td>0.0000</td>\n      <td>0.0000</td>\n      <td>0.0000</td>\n      <td>NaN</td>\n      <td>NaN</td>\n      <td>NaN</td>\n      <td>NaN</td>\n    </tr>\n    <tr>\n      <th>Protocol Equity</th>\n      <td>NaN</td>\n      <td>NaN</td>\n      <td>NaN</td>\n      <td>NaN</td>\n      <td>0.0000</td>\n      <td>0.0000</td>\n      <td>0.0000</td>\n    </tr>\n    <tr>\n      <th>Rewards Vault</th>\n      <td>NaN</td>\n      <td>NaN</td>\n      <td>NaN</td>\n      <td>NaN</td>\n      <td>0.0000</td>\n      <td>0.0000</td>\n      <td>0.0000</td>\n    </tr>\n  </tbody>\n</table>\n</div>"
     },
     "execution_count": 7,
     "metadata": {},
     "output_type": "execute_result"
    }
   ],
   "source": [
    "v3.describe(decimals=4)"
   ],
   "metadata": {
    "collapsed": false,
    "pycharm": {
     "name": "#%%\n"
    }
   }
  },
  {
   "cell_type": "markdown",
   "source": [
    "Charlie now deposits 1 LINK. As was the case for Bob, the fee accrual on bnLINK will affect the issuance of pool tokens. The staking ledger is reporting a staked amount of LINK of 10,003.42, and the supply of bnLINK is 10,001. Therefore, the rate of bnLINK to LINK is 0.999758, and the issuance of bnLINK to Charlie is determined by this number.\n",
    "\n",
    "Assume that this deposit occurs on the block following the two LINK trades previously discussed. In this instance, the addition of Charlie’s 1 LINK occurs when the ema on LINK is 5.9998, whereas its spot rate is at 5.9988. The deviation (Δ) between the spot rate and the ema is 0.00017, which is inside the tolerance levels of the protocol, and the protocol will allow the trading liquidity to update.\n",
    "\n",
    "Trading liquidity always updates according to a strict set of criteria. In simple terms, the protocol will always try to increase the liquidity by as much as possible, up to a maximum BNT liquidity increase of 2× relative to the current depth, and without exceeding the preset funding limit. In this example, the current BNT depth on the LINK pool is 20,013.993668. Therefore, with a sufficient funding limit, the pool could double in size, up to a maximum BNT depth of 40,027.98734 BNT. However, the protocol has previously contributed 20,000 BNT of its 40,000 BNT funding limit - it can only increase the trading liquidity by a maximum of 20,000 BNT. The protocol will always default to the smallest of these two values.\n",
    "\n",
    "By convention, the protocol trusts the ema rate over the spot price. Therefore, in this example, the BNT/LINK quotient is treated as 5.9998. The maximum allowed increase is the BNT funding limit, 20,000 BNT. Therefore, 3333.998732 LINK and 20,000 BNT are added to the trading liquidity. As the protocol is minting BNT, it is simultaneously issuing new bnBNT pool tokens for itself. Since the bnBNT pool token has appreciated in value, this will need to be taken into account."
   ],
   "metadata": {
    "collapsed": false,
    "pycharm": {
     "name": "#%% md\n"
    }
   }
  },
  {
   "cell_type": "code",
   "execution_count": 8,
   "outputs": [
    {
     "name": "stdout",
     "output_type": "stream",
     "text": [
      "timestep 1\n"
     ]
    },
    {
     "data": {
      "text/plain": "                                           eth        link        wbtc  \\\n1 Account Alice                         0.0000         NaN         NaN   \n          Bob                              NaN         NaN      0.0000   \n          Charlie                          NaN      0.0000         NaN   \n          Trader                           NaN      0.0019         NaN   \n2 Pool    a: TKN Staked Balance       102.0000  10004.4240    102.0000   \n          b: TKN Trading Liquidity     20.0000   3336.3314      1.2500   \n          c: BNT Trading Liquidity  20000.0000  20013.9939  20000.0000   \n          d: BNT Current Funding    20000.0000  20015.9807  20000.0000   \n          e: Spot Rate               1000.0000      5.9988  16000.0000   \n          f: Average Rate            1000.0000      6.0000  16000.0000   \n          g: Average Inverse Rate       0.0000      0.0000      0.0000   \n3 Network Master Vault                102.0000  10004.9979    102.0000   \n          Protection Vault              0.0000      0.0000      0.0000   \n          Protocol Equity                  NaN         NaN         NaN   \n          Rewards Vault                    NaN         NaN         NaN   \n\n                                          bnt     bneth      bnlink    bnwbtc  \n1 Account Alice                           NaN  102.0000         NaN       NaN  \n          Bob                             NaN       NaN         NaN  102.0000  \n          Charlie                         NaN       NaN  10001.9998       NaN  \n          Trader                    1977.6153       NaN         NaN       NaN  \n2 Pool    a: TKN Staked Balance           NaN    0.0000      0.0000    0.0000  \n          b: TKN Trading Liquidity        NaN    0.0000      0.0000    0.0000  \n          c: BNT Trading Liquidity        NaN    0.0000      0.0000    0.0000  \n          d: BNT Current Funding          NaN    0.0000      0.0000    0.0000  \n          e: Spot Rate                    NaN    0.0000      0.0000    0.0000  \n          f: Average Rate                 NaN    0.0000      0.0000    0.0000  \n          g: Average Inverse Rate         NaN    0.0000      0.0000    0.0000  \n3 Network Master Vault                    NaN       NaN         NaN       NaN  \n          Protection Vault                NaN       NaN         NaN       NaN  \n          Protocol Equity                 NaN    0.0000      0.0000    0.0000  \n          Rewards Vault                   NaN    0.0000      0.0000    0.0000  ",
      "text/html": "<div>\n<style scoped>\n    .dataframe tbody tr th:only-of-type {\n        vertical-align: middle;\n    }\n\n    .dataframe tbody tr th {\n        vertical-align: top;\n    }\n\n    .dataframe thead th {\n        text-align: right;\n    }\n</style>\n<table border=\"1\" class=\"dataframe\">\n  <thead>\n    <tr style=\"text-align: right;\">\n      <th></th>\n      <th></th>\n      <th></th>\n      <th>eth</th>\n      <th>link</th>\n      <th>wbtc</th>\n      <th>bnt</th>\n      <th>bneth</th>\n      <th>bnlink</th>\n      <th>bnwbtc</th>\n    </tr>\n  </thead>\n  <tbody>\n    <tr>\n      <th rowspan=\"4\" valign=\"top\">1</th>\n      <th rowspan=\"4\" valign=\"top\">Account</th>\n      <th>Alice</th>\n      <td>0.0000</td>\n      <td>NaN</td>\n      <td>NaN</td>\n      <td>NaN</td>\n      <td>102.0000</td>\n      <td>NaN</td>\n      <td>NaN</td>\n    </tr>\n    <tr>\n      <th>Bob</th>\n      <td>NaN</td>\n      <td>NaN</td>\n      <td>0.0000</td>\n      <td>NaN</td>\n      <td>NaN</td>\n      <td>NaN</td>\n      <td>102.0000</td>\n    </tr>\n    <tr>\n      <th>Charlie</th>\n      <td>NaN</td>\n      <td>0.0000</td>\n      <td>NaN</td>\n      <td>NaN</td>\n      <td>NaN</td>\n      <td>10001.9998</td>\n      <td>NaN</td>\n    </tr>\n    <tr>\n      <th>Trader</th>\n      <td>NaN</td>\n      <td>0.0019</td>\n      <td>NaN</td>\n      <td>1977.6153</td>\n      <td>NaN</td>\n      <td>NaN</td>\n      <td>NaN</td>\n    </tr>\n    <tr>\n      <th rowspan=\"7\" valign=\"top\">2</th>\n      <th rowspan=\"7\" valign=\"top\">Pool</th>\n      <th>a: TKN Staked Balance</th>\n      <td>102.0000</td>\n      <td>10004.4240</td>\n      <td>102.0000</td>\n      <td>NaN</td>\n      <td>0.0000</td>\n      <td>0.0000</td>\n      <td>0.0000</td>\n    </tr>\n    <tr>\n      <th>b: TKN Trading Liquidity</th>\n      <td>20.0000</td>\n      <td>3336.3314</td>\n      <td>1.2500</td>\n      <td>NaN</td>\n      <td>0.0000</td>\n      <td>0.0000</td>\n      <td>0.0000</td>\n    </tr>\n    <tr>\n      <th>c: BNT Trading Liquidity</th>\n      <td>20000.0000</td>\n      <td>20013.9939</td>\n      <td>20000.0000</td>\n      <td>NaN</td>\n      <td>0.0000</td>\n      <td>0.0000</td>\n      <td>0.0000</td>\n    </tr>\n    <tr>\n      <th>d: BNT Current Funding</th>\n      <td>20000.0000</td>\n      <td>20015.9807</td>\n      <td>20000.0000</td>\n      <td>NaN</td>\n      <td>0.0000</td>\n      <td>0.0000</td>\n      <td>0.0000</td>\n    </tr>\n    <tr>\n      <th>e: Spot Rate</th>\n      <td>1000.0000</td>\n      <td>5.9988</td>\n      <td>16000.0000</td>\n      <td>NaN</td>\n      <td>0.0000</td>\n      <td>0.0000</td>\n      <td>0.0000</td>\n    </tr>\n    <tr>\n      <th>f: Average Rate</th>\n      <td>1000.0000</td>\n      <td>6.0000</td>\n      <td>16000.0000</td>\n      <td>NaN</td>\n      <td>0.0000</td>\n      <td>0.0000</td>\n      <td>0.0000</td>\n    </tr>\n    <tr>\n      <th>g: Average Inverse Rate</th>\n      <td>0.0000</td>\n      <td>0.0000</td>\n      <td>0.0000</td>\n      <td>NaN</td>\n      <td>0.0000</td>\n      <td>0.0000</td>\n      <td>0.0000</td>\n    </tr>\n    <tr>\n      <th rowspan=\"4\" valign=\"top\">3</th>\n      <th rowspan=\"4\" valign=\"top\">Network</th>\n      <th>Master Vault</th>\n      <td>102.0000</td>\n      <td>10004.9979</td>\n      <td>102.0000</td>\n      <td>NaN</td>\n      <td>NaN</td>\n      <td>NaN</td>\n      <td>NaN</td>\n    </tr>\n    <tr>\n      <th>Protection Vault</th>\n      <td>0.0000</td>\n      <td>0.0000</td>\n      <td>0.0000</td>\n      <td>NaN</td>\n      <td>NaN</td>\n      <td>NaN</td>\n      <td>NaN</td>\n    </tr>\n    <tr>\n      <th>Protocol Equity</th>\n      <td>NaN</td>\n      <td>NaN</td>\n      <td>NaN</td>\n      <td>NaN</td>\n      <td>0.0000</td>\n      <td>0.0000</td>\n      <td>0.0000</td>\n    </tr>\n    <tr>\n      <th>Rewards Vault</th>\n      <td>NaN</td>\n      <td>NaN</td>\n      <td>NaN</td>\n      <td>NaN</td>\n      <td>0.0000</td>\n      <td>0.0000</td>\n      <td>0.0000</td>\n    </tr>\n  </tbody>\n</table>\n</div>"
     },
     "execution_count": 8,
     "metadata": {},
     "output_type": "execute_result"
    }
   ],
   "source": [
    "timestep = v3.global_state.tokens['wbtc'].timestamp + 1\n",
    "print('timestep', timestep)\n",
    "v3.deposit(tkn_amt=1, tkn_name='link', user_name='Charlie', timestamp=timestep)\n",
    "v3.describe(decimals=4)"
   ],
   "metadata": {
    "collapsed": false,
    "pycharm": {
     "name": "#%%\n"
    }
   }
  },
  {
   "cell_type": "markdown",
   "source": [
    "The staking ledger is reporting a staked amount of BNT of 60,022.384, and the supply of bnBNT is 60,000. Therefore, the rate of bnBNT to BNT is 0.999627065. As the protocol mints 20,000 BNT to increase the trading liquidity, this amount is added to the BNT staking ledger, and the protocol issues itself 19,992.5413 bnBNT pool tokens."
   ],
   "metadata": {
    "collapsed": false
   }
  },
  {
   "cell_type": "code",
   "execution_count": 9,
   "outputs": [
    {
     "data": {
      "text/plain": "                                           eth        link        wbtc  \\\n1 Account Alice                         0.0000         NaN         NaN   \n          Bob                              NaN         NaN      0.0000   \n          Charlie                          NaN      0.0000         NaN   \n          Trader                           NaN      0.0019         NaN   \n2 Pool    a: TKN Staked Balance       102.0000  10004.4240    102.0000   \n          b: TKN Trading Liquidity     20.0000   3336.3314      1.2500   \n          c: BNT Trading Liquidity  20000.0000  20013.9939  20000.0000   \n          d: BNT Current Funding    20000.0000  20015.9807  20000.0000   \n          e: Spot Rate               1000.0000      5.9988  16000.0000   \n          f: Average Rate            1000.0000      6.0000  16000.0000   \n          g: Average Inverse Rate       0.0000      0.0000      0.0000   \n3 Network Master Vault                102.0000  10004.9979    102.0000   \n          Protection Vault              0.0000      0.0000      0.0000   \n          Protocol Equity                  NaN         NaN         NaN   \n          Rewards Vault                    NaN         NaN         NaN   \n\n                                          bnt     bneth      bnlink    bnwbtc  \n1 Account Alice                           NaN  102.0000         NaN       NaN  \n          Bob                             NaN       NaN         NaN  102.0000  \n          Charlie                         NaN       NaN  10001.9998       NaN  \n          Trader                    1977.6153       NaN         NaN       NaN  \n2 Pool    a: TKN Staked Balance           NaN    0.0000      0.0000    0.0000  \n          b: TKN Trading Liquidity        NaN    0.0000      0.0000    0.0000  \n          c: BNT Trading Liquidity        NaN    0.0000      0.0000    0.0000  \n          d: BNT Current Funding          NaN    0.0000      0.0000    0.0000  \n          e: Spot Rate                    NaN    0.0000      0.0000    0.0000  \n          f: Average Rate                 NaN    0.0000      0.0000    0.0000  \n          g: Average Inverse Rate         NaN    0.0000      0.0000    0.0000  \n3 Network Master Vault                    NaN       NaN         NaN       NaN  \n          Protection Vault                NaN       NaN         NaN       NaN  \n          Protocol Equity                 NaN    0.0000      0.0000    0.0000  \n          Rewards Vault                   NaN    0.0000      0.0000    0.0000  ",
      "text/html": "<div>\n<style scoped>\n    .dataframe tbody tr th:only-of-type {\n        vertical-align: middle;\n    }\n\n    .dataframe tbody tr th {\n        vertical-align: top;\n    }\n\n    .dataframe thead th {\n        text-align: right;\n    }\n</style>\n<table border=\"1\" class=\"dataframe\">\n  <thead>\n    <tr style=\"text-align: right;\">\n      <th></th>\n      <th></th>\n      <th></th>\n      <th>eth</th>\n      <th>link</th>\n      <th>wbtc</th>\n      <th>bnt</th>\n      <th>bneth</th>\n      <th>bnlink</th>\n      <th>bnwbtc</th>\n    </tr>\n  </thead>\n  <tbody>\n    <tr>\n      <th rowspan=\"4\" valign=\"top\">1</th>\n      <th rowspan=\"4\" valign=\"top\">Account</th>\n      <th>Alice</th>\n      <td>0.0000</td>\n      <td>NaN</td>\n      <td>NaN</td>\n      <td>NaN</td>\n      <td>102.0000</td>\n      <td>NaN</td>\n      <td>NaN</td>\n    </tr>\n    <tr>\n      <th>Bob</th>\n      <td>NaN</td>\n      <td>NaN</td>\n      <td>0.0000</td>\n      <td>NaN</td>\n      <td>NaN</td>\n      <td>NaN</td>\n      <td>102.0000</td>\n    </tr>\n    <tr>\n      <th>Charlie</th>\n      <td>NaN</td>\n      <td>0.0000</td>\n      <td>NaN</td>\n      <td>NaN</td>\n      <td>NaN</td>\n      <td>10001.9998</td>\n      <td>NaN</td>\n    </tr>\n    <tr>\n      <th>Trader</th>\n      <td>NaN</td>\n      <td>0.0019</td>\n      <td>NaN</td>\n      <td>1977.6153</td>\n      <td>NaN</td>\n      <td>NaN</td>\n      <td>NaN</td>\n    </tr>\n    <tr>\n      <th rowspan=\"7\" valign=\"top\">2</th>\n      <th rowspan=\"7\" valign=\"top\">Pool</th>\n      <th>a: TKN Staked Balance</th>\n      <td>102.0000</td>\n      <td>10004.4240</td>\n      <td>102.0000</td>\n      <td>NaN</td>\n      <td>0.0000</td>\n      <td>0.0000</td>\n      <td>0.0000</td>\n    </tr>\n    <tr>\n      <th>b: TKN Trading Liquidity</th>\n      <td>20.0000</td>\n      <td>3336.3314</td>\n      <td>1.2500</td>\n      <td>NaN</td>\n      <td>0.0000</td>\n      <td>0.0000</td>\n      <td>0.0000</td>\n    </tr>\n    <tr>\n      <th>c: BNT Trading Liquidity</th>\n      <td>20000.0000</td>\n      <td>20013.9939</td>\n      <td>20000.0000</td>\n      <td>NaN</td>\n      <td>0.0000</td>\n      <td>0.0000</td>\n      <td>0.0000</td>\n    </tr>\n    <tr>\n      <th>d: BNT Current Funding</th>\n      <td>20000.0000</td>\n      <td>20015.9807</td>\n      <td>20000.0000</td>\n      <td>NaN</td>\n      <td>0.0000</td>\n      <td>0.0000</td>\n      <td>0.0000</td>\n    </tr>\n    <tr>\n      <th>e: Spot Rate</th>\n      <td>1000.0000</td>\n      <td>5.9988</td>\n      <td>16000.0000</td>\n      <td>NaN</td>\n      <td>0.0000</td>\n      <td>0.0000</td>\n      <td>0.0000</td>\n    </tr>\n    <tr>\n      <th>f: Average Rate</th>\n      <td>1000.0000</td>\n      <td>6.0000</td>\n      <td>16000.0000</td>\n      <td>NaN</td>\n      <td>0.0000</td>\n      <td>0.0000</td>\n      <td>0.0000</td>\n    </tr>\n    <tr>\n      <th>g: Average Inverse Rate</th>\n      <td>0.0000</td>\n      <td>0.0000</td>\n      <td>0.0000</td>\n      <td>NaN</td>\n      <td>0.0000</td>\n      <td>0.0000</td>\n      <td>0.0000</td>\n    </tr>\n    <tr>\n      <th rowspan=\"4\" valign=\"top\">3</th>\n      <th rowspan=\"4\" valign=\"top\">Network</th>\n      <th>Master Vault</th>\n      <td>102.0000</td>\n      <td>10004.9979</td>\n      <td>102.0000</td>\n      <td>NaN</td>\n      <td>NaN</td>\n      <td>NaN</td>\n      <td>NaN</td>\n    </tr>\n    <tr>\n      <th>Protection Vault</th>\n      <td>0.0000</td>\n      <td>0.0000</td>\n      <td>0.0000</td>\n      <td>NaN</td>\n      <td>NaN</td>\n      <td>NaN</td>\n      <td>NaN</td>\n    </tr>\n    <tr>\n      <th>Protocol Equity</th>\n      <td>NaN</td>\n      <td>NaN</td>\n      <td>NaN</td>\n      <td>NaN</td>\n      <td>0.0000</td>\n      <td>0.0000</td>\n      <td>0.0000</td>\n    </tr>\n    <tr>\n      <th>Rewards Vault</th>\n      <td>NaN</td>\n      <td>NaN</td>\n      <td>NaN</td>\n      <td>NaN</td>\n      <td>0.0000</td>\n      <td>0.0000</td>\n      <td>0.0000</td>\n    </tr>\n  </tbody>\n</table>\n</div>"
     },
     "execution_count": 9,
     "metadata": {},
     "output_type": "execute_result"
    }
   ],
   "source": [
    "v3.describe(decimals=4)"
   ],
   "metadata": {
    "collapsed": false,
    "pycharm": {
     "name": "#%%\n"
    }
   }
  },
  {
   "cell_type": "code",
   "execution_count": 9,
   "outputs": [],
   "source": [],
   "metadata": {
    "collapsed": false,
    "pycharm": {
     "name": "#%%\n"
    }
   }
  }
 ],
 "metadata": {
  "kernelspec": {
   "name": "python3",
   "language": "python",
   "display_name": "Python 3 (ipykernel)"
  },
  "language_info": {
   "codemirror_mode": {
    "name": "ipython",
    "version": 3
   },
   "file_extension": ".py",
   "mimetype": "text/x-python",
   "name": "python",
   "nbconvert_exporter": "python",
   "pygments_lexer": "ipython3",
   "version": "3.8.5"
  }
 },
 "nbformat": 4,
 "nbformat_minor": 2
}