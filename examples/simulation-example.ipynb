{
 "cells": [
  {
   "cell_type": "markdown",
   "source": [
    "Building Bancor Simulations in Python --- A Step by Step Explainer\n",
    "================================================================\n",
    "\n",
    "Learn the fundamentals of Bancor protocol simulations.\n",
    "------------------------------------------------------\n",
    "\n",
    "![](https://miro.medium.com/max/1400/1*YGYDyx3QC29suZxcuZPwwg.png)"
   ],
   "metadata": {
    "collapsed": false
   }
  },
  {
   "cell_type": "markdown",
   "source": [
    "\n",
    "Table of Contents\n",
    "=================\n",
    "- [**Project Setup**](https://mike-w-casale.medium.com/e308858a5324#54d8)\n",
    "- [**Datasets**](https://mike-w-casale.medium.com/e308858a5324#79d6)\n",
    "- [**The Baseline Simulation**](https://mike-w-casale.medium.com/e308858a5324#f651)\n",
    "- [**The Proposal Simulation**](https://mike-w-casale.medium.com/e308858a5324#640e)\n",
    "- [**Summarizing the results**](https://mike-w-casale.medium.com/e308858a5324#5084)\n",
    "\n",
    "\n",
    "This notebook was created as supporting material for the blog post \"[Building Bancor Simulations in Python]()\""
   ],
   "metadata": {
    "collapsed": false
   }
  },
  {
   "cell_type": "markdown",
   "source": [
    "Project setup\n",
    "=============\n",
    "\n",
    "If you don't already have one, you should create a virtualenv (VM) using [these instructions](https://docs.python.org/3/library/venv.html). Note that an alternate environment such as Conda will also suffice.\n",
    "\n",
    "Install\n",
    "-------\n",
    "\n",
    "The **Bancor Research** python library is available for Python 3.6+.\n",
    "\n",
    "To install it in your VM using [pypi](https://pypi.org/project/bancor-research/), run this command in your terminal:\n",
    "\n",
    "````{tab} PyPI\n",
    "$ pip install --upgrade bancor-research\n",
    "````\n",
    "\n",
    "Note, if running this command inside a jupyter notebook, use this instead:\n",
    "\n",
    "````{tab} PyPI\n",
    "! pip install --upgrade bancor-research\n",
    "````\n",
    "\n",
    "\n",
    "Extra dependencies to access refreshed yahoo finance API data (optional):\n",
    "\n",
    "````{tab} PyPI\n",
    "pip install yfinance\n",
    "````\n"
   ],
   "metadata": {
    "collapsed": false
   }
  },
  {
   "cell_type": "markdown",
   "source": [
    "Datasets\n",
    "========\n",
    "\n",
    "The following datasets have been curated and preprocessed in order to derive realistic simulation assumptions based on real-world data whenever possible. You can download the data manually via the links below, or you can do this programmatically as demonstrated in the code section(s) that follows.\n",
    "\n",
    "**Raw Datasets:**\n",
    "- [**price_feeds.csv**](https://bancorml.s3.us-east-2.amazonaws.com/price_feeds.csv)--- consists of token price feeds at hourly resolution from the yahoo finance API.\n",
    "- [**historical_actions.csv**](https://bancorml.s3.us-east-2.amazonaws.com/historical_actions.csv)--- consists of Trade, Deposit, and Withdrawal actions performed on Bancor v3 since its launch in April.\n",
    "- [**fees_vs_liquidity.csv**](https://bancorml.s3.us-east-2.amazonaws.com/fees_vs_liquidity.csv)--- consists of historical trading fees per token joined with on-curve liquidity snapshots.\n",
    "- [**user_initial_balances.csv**](https://bancorml.s3.us-east-2.amazonaws.com/blog/user_initial_balances.csv)--- default balances for the global user wallet.\n",
    "\n",
    "In addition to the raw data, the following [Data Profiling Reports](https://pandas-profiling.ydata.ai/docs/master/index.html) are available for html download:\n",
    "\n",
    "**HTML Data Profiling Reports:**\n",
    "- [**price_feeds.html**](https://bancorml.s3.us-east-2.amazonaws.com/blog/price_feeds.html)\n",
    "- [**historical_actions.html**](https://bancorml.s3.us-east-2.amazonaws.com/blog/historical_actions.html)\n",
    "- [**fees_vs_liquidity.html**](https://bancorml.s3.us-east-2.amazonaws.com/blog/fees_vs_liquidity.html)"
   ],
   "metadata": {
    "collapsed": false
   }
  },
  {
   "cell_type": "markdown",
   "source": [
    "**Import Core Dependencies**"
   ],
   "metadata": {
    "collapsed": false
   }
  },
  {
   "cell_type": "code",
   "execution_count": 2,
   "outputs": [],
   "source": [
    "import pandas as pd\n",
    "import json\n",
    "from bancor_simulator.v3.spec import get_vault_balance\n",
    "from bancor_research.bancor_simulator.v3.spec.state import *"
   ],
   "metadata": {
    "collapsed": false,
    "pycharm": {
     "name": "#%%\n"
    }
   }
  },
  {
   "cell_type": "markdown",
   "source": [
    "**Default Parameters:**\n",
    "\n",
    "Referring to the original Bancor v3 specification in [BIP15](https://docs.google.com/document/d/11UeMYaI_1CWdf_Nu6veUO-vNB5uX-FcVRqTSU-ziDRk/edit), we define the following default parameters to be used throughout the baseline simulation and as the genesis state for the proposal simulation.\n",
    "\n",
    "- **default_trading_fee**= The fee charged by the protocol to perform trades\n",
    "\n",
    "- **default_bnt_funding_limit**= The BancorDAO determines the available liquidity for trading through adjustment of the \"BNT funding limit\" parameter.\n",
    "\n",
    "- **default_bnt_min_liquidity**= The BancorDAO prescribes a liquidity threshold, denominated in BNT, that represents the minimum available liquidity that must be present before the protocol bootstraps the pool with BNT. This parameter is adjustable, and is set to 20,000 BNT at the time of launch."
   ],
   "metadata": {
    "collapsed": false
   }
  },
  {
   "cell_type": "code",
   "execution_count": 3,
   "outputs": [],
   "source": [
    "default_trading_fee = '1%'\n",
    "default_bnt_funding_limit = 1000000\n",
    "default_bnt_min_liquidity = 10000 # Note that we set this slightly lower that actual to prevent automatic pool shutdown scenarios"
   ],
   "metadata": {
    "collapsed": false,
    "pycharm": {
     "name": "#%%\n"
    }
   }
  },
  {
   "cell_type": "markdown",
   "source": [
    "**Other Constants, Parameters, & Variables:**"
   ],
   "metadata": {
    "collapsed": false
   }
  },
  {
   "cell_type": "code",
   "execution_count": 4,
   "outputs": [],
   "source": [
    "# paths to data downloads\n",
    "price_feeds_path = 'https://bancorml.s3.us-east-2.amazonaws.com/price_feeds-2.csv'\n",
    "historical_actions_path = 'https://bancorml.s3.us-east-2.amazonaws.com/historical_actions.csv'\n",
    "fees_earned_vs_slippage_path = 'https://bancorml.s3.us-east-2.amazonaws.com/fees_earned_vs_slippage-2.csv'\n",
    "user_initial_balances_path = 'https://bancorml.s3.us-east-2.amazonaws.com/blog/user_initial_balances.csv'\n",
    "\n",
    "# derived data distributions used to specify realistic monte-carlo scenario generation.\n",
    "pool_freq_dist_path = 'https://bancorml.s3.us-east-2.amazonaws.com/blog/pool_freq_dist.json'\n",
    "whitelisted_tokens_path = 'https://bancorml.s3.us-east-2.amazonaws.com/blog/whitelisted_tokens.json'\n",
    "action_freq_dist_path = 'https://bancorml.s3.us-east-2.amazonaws.com/blog/action_freq_dist.json'\n",
    "\n",
    "# simulation parameters\n",
    "constant_multiplier = 5\n",
    "n_rolling_days = 7\n",
    "num_simulation_days = 60\n",
    "num_hours_per_day = 24\n",
    "arbitrage_percentage = .99\n",
    "global_username = 'global user'\n",
    "sample_date_cutoff = '01/08/22 00:00:00'\n",
    "\n",
    "# mean values based on the pandas profil reports\n",
    "deposit_mean = 15410.150585\n",
    "trade_mean = 18211.910227\n",
    "withdraw_mean = 74761.482476"
   ],
   "metadata": {
    "collapsed": false,
    "pycharm": {
     "name": "#%%\n"
    }
   }
  },
  {
   "cell_type": "markdown",
   "source": [
    "**Load the Raw Datasets**"
   ],
   "metadata": {
    "collapsed": false
   }
  },
  {
   "cell_type": "code",
   "execution_count": 5,
   "outputs": [],
   "source": [
    "price_feeds = pd.read_csv(price_feeds_path)\n",
    "historical_actions = pd.read_csv(historical_actions_path)\n",
    "fees_earned_vs_slippage = pd.read_csv(fees_earned_vs_slippage_path)\n",
    "user_initial_balances = pd.read_csv(user_initial_balances_path)"
   ],
   "metadata": {
    "collapsed": false,
    "pycharm": {
     "name": "#%%\n"
    }
   }
  },
  {
   "cell_type": "markdown",
   "source": [
    "**Load the Probability Distributions & Whitelist**"
   ],
   "metadata": {
    "collapsed": false
   }
  },
  {
   "cell_type": "code",
   "execution_count": 6,
   "metadata": {
    "collapsed": true
   },
   "outputs": [],
   "source": [
    "def load_json(json_file, indx=None):\n",
    "    report_file = pd.read_json(json_file, typ='series')\n",
    "    df = pd.DataFrame([report_file])\n",
    "    if indx is not None:\n",
    "        return json.loads(df.to_json(orient='records'))[indx]\n",
    "    else:\n",
    "        return df.to_json(orient='records')\n",
    "\n",
    "pool_freq_dist = load_json(pool_freq_dist_path, indx=0)\n",
    "action_freq_dist = load_json(action_freq_dist_path, indx=0)\n",
    "whitelisted_tokens = load_json(whitelisted_tokens_path, indx=0)"
   ]
  },
  {
   "cell_type": "markdown",
   "source": [
    "Note the `pool_freq_dist` dictionary structure for future reference."
   ],
   "metadata": {
    "collapsed": false
   }
  },
  {
   "cell_type": "code",
   "execution_count": 7,
   "outputs": [
    {
     "data": {
      "text/plain": "{'eth': 0.2770026543,\n 'link': 0.2014224461,\n 'bnt': 0.496052542,\n 'wbtc': 0.0255223576}"
     },
     "execution_count": 7,
     "metadata": {},
     "output_type": "execute_result"
    }
   ],
   "source": [
    "# Probability distribution for tokens involved in actions.\n",
    "pool_freq_dist"
   ],
   "metadata": {
    "collapsed": false,
    "pycharm": {
     "name": "#%%\n"
    }
   }
  },
  {
   "cell_type": "markdown",
   "source": [
    "Note the `action_freq_dist` dictionary structure for future reference."
   ],
   "metadata": {
    "collapsed": false
   }
  },
  {
   "cell_type": "code",
   "execution_count": 8,
   "outputs": [
    {
     "data": {
      "text/plain": "{'trade': 0.4209827809,\n 'deposit': 0.3453685428,\n 'withdraw_initiated': 0.1168243381,\n 'withdraw_completed': 0.07527394,\n 'withdraw_canceled': 0.02150684,\n 'withdraw_pending': 0.0200435582}"
     },
     "execution_count": 8,
     "metadata": {},
     "output_type": "execute_result"
    }
   ],
   "source": [
    "# Probability distribution for actions\n",
    "action_freq_dist"
   ],
   "metadata": {
    "collapsed": false,
    "pycharm": {
     "name": "#%%\n"
    }
   }
  },
  {
   "cell_type": "markdown",
   "source": [
    "Note the `whitelisted_tokens` dictionary structure for future reference."
   ],
   "metadata": {
    "collapsed": false
   }
  },
  {
   "cell_type": "code",
   "execution_count": 9,
   "outputs": [
    {
     "data": {
      "text/plain": "{'eth': {'trading_fee': '1%',\n  'bnt_funding_limit': 1000000,\n  'decimals': 18,\n  'ep_vault_balance': 0},\n 'link': {'trading_fee': '1%',\n  'bnt_funding_limit': 1000000,\n  'decimals': 18,\n  'ep_vault_balance': 0},\n 'bnt': {'trading_fee': '1%',\n  'bnt_funding_limit': 1000000,\n  'decimals': 18,\n  'ep_vault_balance': 0},\n 'wbtc': {'trading_fee': '1%',\n  'bnt_funding_limit': 1000000,\n  'decimals': 18,\n  'ep_vault_balance': 0}}"
     },
     "execution_count": 9,
     "metadata": {},
     "output_type": "execute_result"
    }
   ],
   "source": [
    "# Default whitelist structure\n",
    "whitelisted_tokens"
   ],
   "metadata": {
    "collapsed": false,
    "pycharm": {
     "name": "#%%\n"
    }
   }
  },
  {
   "cell_type": "code",
   "execution_count": 10,
   "outputs": [
    {
     "name": "stdout",
     "output_type": "stream",
     "text": [
      "mean_events_per_day=58.57142857142857\n",
      "mean_events_per_hour=2\n",
      "simulation_actions_count=3514\n",
      "num_timesteps=1440\n"
     ]
    }
   ],
   "source": [
    "from datetime import datetime\n",
    "\n",
    "date_time_obj = datetime.strptime(sample_date_cutoff, '%d/%m/%y %H:%M:%S')\n",
    "time = historical_actions.copy()\n",
    "time['date'] = [datetime.strptime(str(i), '%Y-%m-%d') for i in pd.to_datetime(time['time']).dt.date.values]\n",
    "time = time[time['date'] > date_time_obj]\n",
    "mean_events_per_day = time.groupby('date').count()['event_name'].mean()\n",
    "mean_events_per_hour = int(round(float(mean_events_per_day / num_hours_per_day)))\n",
    "\n",
    "num_timesteps = num_simulation_days * num_hours_per_day\n",
    "assert len(price_feeds) > num_timesteps, \"the number of timesteps must be less than the length of the price feeds table\"\n",
    "simulation_actions_count = int(round(mean_events_per_day * num_simulation_days, 0))\n",
    "\n",
    "print(f'mean_events_per_day={mean_events_per_day}')\n",
    "print(f'mean_events_per_hour={mean_events_per_hour}')\n",
    "print(f'simulation_actions_count={simulation_actions_count}')\n",
    "print(f'num_timesteps={num_timesteps}')"
   ],
   "metadata": {
    "collapsed": false,
    "pycharm": {
     "name": "#%%\n"
    }
   }
  },
  {
   "cell_type": "markdown",
   "source": [
    "The `transact(...)` function below is the main logic which specifies the Monte-Carlo transaction (deposit, trade, etc...) frequency distributions."
   ],
   "metadata": {
    "collapsed": false
   }
  },
  {
   "cell_type": "code",
   "execution_count": 11,
   "outputs": [],
   "source": [
    "def transact(self):\n",
    "    \"\"\"\n",
    "    Specifies the Monte-Carlo transaction behavior (i.e., deposits, trades, etc...)\n",
    "    in terms of their respective probability distributions.\n",
    "    \"\"\"\n",
    "\n",
    "    latest_action = 'None'\n",
    "    for _ in range(num_hours_per_day):\n",
    "        if self.timestamp == 1:\n",
    "\n",
    "            self.protocol.global_state.set_protocol_wallet_balance('bnt', '30000001')\n",
    "            self.protocol.global_state.set_protocol_wallet_balance('eth', '30000001')\n",
    "            self.protocol.global_state.set_protocol_wallet_balance('link', '30000001')\n",
    "            self.protocol.global_state.set_protocol_wallet_balance('wbtc', '30000001')\n",
    "\n",
    "            self.protocol.global_state.set_pooltoken_balance('bnt', '30000001')\n",
    "            self.protocol.global_state.set_pooltoken_balance('eth', '30000001')\n",
    "            self.protocol.global_state.set_pooltoken_balance('link', '30000001')\n",
    "            self.protocol.global_state.set_pooltoken_balance('wbtc', '30000001')\n",
    "\n",
    "            self.protocol.global_state.set_staked_balance('bnt', '30000001')\n",
    "            self.protocol.global_state.set_staked_balance('eth', '30000001')\n",
    "            self.protocol.global_state.set_staked_balance('link', '30000001')\n",
    "            self.protocol.global_state.set_staked_balance('wbtc', '30000001')\n",
    "\n",
    "            self.protocol.global_state.set_master_vault_balance('bnt', '3000001')\n",
    "            self.protocol.global_state.set_master_vault_balance('eth', '3000001')\n",
    "            self.protocol.global_state.set_master_vault_balance('link', '3000001')\n",
    "            self.protocol.global_state.set_master_vault_balance('wbtc', '3000001')\n",
    "\n",
    "            self.protocol.global_state.set_bnt_trading_liquidity('bnt', '10001')\n",
    "            self.protocol.global_state.set_bnt_trading_liquidity('eth', '10001')\n",
    "            self.protocol.global_state.set_bnt_trading_liquidity('link', '10001')\n",
    "            self.protocol.global_state.set_bnt_trading_liquidity('wbtc', '10001')\n",
    "\n",
    "            self.protocol.set_user_balance(f'user_{self.timestamp}', 'eth', '3000001', self.timestamp)\n",
    "            self.protocol.set_user_balance(f'user_{self.timestamp}', 'bnt', '3000001', self.timestamp)\n",
    "            self.protocol.set_user_balance(f'user_{self.timestamp}', 'wbtc', '3000001', self.timestamp)\n",
    "            self.protocol.set_user_balance(f'user_{self.timestamp}', 'link', '3000001', self.timestamp)\n",
    "\n",
    "            self.protocol.deposit('eth', '300000', f'user_{self.timestamp}', self.timestamp)\n",
    "            self.protocol.deposit('link', '300000', f'user_{self.timestamp}', self.timestamp)\n",
    "            self.protocol.deposit('bnt', '300000', f'user_{self.timestamp}', self.timestamp)\n",
    "            self.protocol.deposit('wbtc', '300000', f'user_{self.timestamp}', self.timestamp)\n",
    "\n",
    "        timestamp = self.timestamp\n",
    "\n",
    "        for _ in range(mean_events_per_hour):\n",
    "            self.timestamp += 1\n",
    "            beginning_state = self.protocol.global_state.copy()\n",
    "            try:\n",
    "                self.latest_amt = None\n",
    "                self.latest_tkn_name = None\n",
    "                self.user_name = global_username\n",
    "\n",
    "                i = self.random.randint(0, self.num_timesteps)\n",
    "\n",
    "                deposit_range = self.num_timesteps * self.action_freq_dist['deposit']\n",
    "                trade_range = deposit_range + self.num_timesteps * self.action_freq_dist['trade'] * (1 - arbitrage_percentage)\n",
    "                arb_range = trade_range + self.num_timesteps * self.action_freq_dist['trade'] * arbitrage_percentage\n",
    "                withdraw_completed = arb_range + self.num_timesteps * self.action_freq_dist['withdraw_completed']\n",
    "\n",
    "                if i < deposit_range:\n",
    "                    latest_action = \"deposit\"\n",
    "                    self.perform_random_deposit()\n",
    "\n",
    "                elif deposit_range <= i < trade_range:\n",
    "                    latest_action = \"trade\"\n",
    "                    self.perform_random_trade()\n",
    "\n",
    "                elif trade_range <= i < arb_range:\n",
    "                    latest_action = \"arbitrage_trade\"\n",
    "                    self.perform_random_arbitrage_trade()\n",
    "\n",
    "                elif arb_range <= i < withdraw_completed:\n",
    "                    latest_action = \"withdrawal\"\n",
    "                    self.perform_random_withdrawal()\n",
    "\n",
    "                state = self.protocol.global_state\n",
    "                state.timestamp = timestamp\n",
    "                for tkn_name in self.whitelisted_tokens:\n",
    "                    if not get_is_trading_enabled(state, tkn_name):\n",
    "                        self.protocol.enable_trading(tkn_name=tkn_name, timestamp=timestamp)\n",
    "\n",
    "                # The code below creates a new dataframe which collects the data we want to analyze\n",
    "                df = {'timestamp': [timestamp], 'latest_action': [latest_action], 'latest_amt': [self.latest_amt],\n",
    "                      'latest_tkn_name': [self.latest_tkn_name]}\n",
    "\n",
    "                for tkn in self.whitelisted_tokens:\n",
    "                    if tkn != 'bnt':\n",
    "                        df[f'{tkn}_bnt_funding_limit'] = [get_bnt_funding_limit(state, tkn)]\n",
    "                        df[f'{tkn}_vault_real'] = [get_master_vault_balance(state, tkn)]\n",
    "                        df[f'{tkn}_is_trading_enabled'] = [get_is_trading_enabled(state, tkn)]\n",
    "                        df[f'{tkn}_iloss'] = [self.iloss_realized[tkn][-1]]\n",
    "                        df[f'{tkn}_fees_earned'] = [self.total_fees_earned[tkn][-1]]\n",
    "                        df[f'{tkn}_staking'] = [get_staked_balance(state, tkn)]\n",
    "                        df[f'{tkn}_surplus_real'] = [df[f'{tkn}_vault_real'][0] - df[f'{tkn}_staking'][0]]\n",
    "                        df[f'{tkn}_tkn_trading_liquidity'] = [get_tkn_trading_liquidity(state, tkn)]\n",
    "                        df[f'{tkn}_bnt_trading_liquidity'] = [get_bnt_trading_liquidity(state, tkn)]\n",
    "\n",
    "                self.logger.append(pd.DataFrame(df))\n",
    "            except:\n",
    "                self.protocol.global_state = beginning_state\n"
   ],
   "metadata": {
    "collapsed": false,
    "pycharm": {
     "name": "#%%\n"
    }
   }
  },
  {
   "cell_type": "markdown",
   "source": [
    "Finally, we import the main logical class `MonteCarloGenerator` which we will use to run the simulations."
   ],
   "metadata": {
    "collapsed": false
   }
  },
  {
   "cell_type": "code",
   "execution_count": 12,
   "outputs": [],
   "source": [
    "from bancor_research.scenario_generator import MonteCarloGenerator"
   ],
   "metadata": {
    "collapsed": false,
    "pycharm": {
     "name": "#%%\n"
    }
   }
  },
  {
   "cell_type": "markdown",
   "source": [
    "Run the baseline simulation."
   ],
   "metadata": {
    "collapsed": false
   }
  },
  {
   "cell_type": "code",
   "execution_count": 13,
   "outputs": [
    {
     "data": {
      "text/plain": "    timestamp    latest_action                                  latest_amt  \\\n0           1       withdrawal                                        None   \n0           3          deposit    1190891.14616582007147371768951416015625   \n0           3       withdrawal                                        None   \n0           5          deposit  249479.45779123276588506996631622314453125   \n0           5          deposit                                        None   \n..        ...              ...                                         ...   \n0        2930          deposit                                        None   \n0        2932       withdrawal                                        None   \n0        2934       withdrawal                                        None   \n0        2936  arbitrage_trade                                        None   \n0        2936  arbitrage_trade                                        None   \n\n   latest_tkn_name eth_bnt_funding_limit  \\\n0             None               1000000   \n0             link               1000000   \n0             None               1000000   \n0              bnt               1000000   \n0             None               1000000   \n..             ...                   ...   \n0             None               1000000   \n0             None               1000000   \n0             None               1000000   \n0             None               1000000   \n0             None               1000000   \n\n                                       eth_vault_real  eth_is_trading_enabled  \\\n0                                             3300001                   False   \n0                                             3300001                    True   \n0                                             3300001                    True   \n0                                             3300001                    True   \n0                                             3300001                    True   \n..                                                ...                     ...   \n0   325792441.610165623943196234363268440338424670...                    True   \n0   325792441.610165623943196234363268440338424670...                    True   \n0   325792441.610165623943196234363268440338424670...                    True   \n0   325792441.610165623943196234363268440338424670...                    True   \n0   325792441.610165623943196234363268440338424670...                    True   \n\n       eth_iloss  eth_fees_earned  \\\n0       0.000000     0.000000e+00   \n0       0.000000     0.000000e+00   \n0       0.000000     0.000000e+00   \n0       0.000000     0.000000e+00   \n0       0.000000     0.000000e+00   \n..           ...              ...   \n0  -91035.392107     2.003109e+06   \n0  -91035.392107     2.003109e+06   \n0  -91035.392107     2.003109e+06   \n0  -91035.392107     2.003109e+06   \n0  -91035.392107     2.003109e+06   \n\n                                          eth_staking  ...  \\\n0                                            30300001  ...   \n0                                            30300001  ...   \n0                                            30300001  ...   \n0                                            30300001  ...   \n0                                            30300001  ...   \n..                                                ...  ...   \n0   254616109.023875636719120051025932512415388586...  ...   \n0   254616109.023875636719120051025932512415388586...  ...   \n0   254616109.023875636719120051025932512415388586...  ...   \n0   254616109.023875636719120051025932512415388586...  ...   \n0   254616109.023875636719120051025932512415388586...  ...   \n\n                           link_bnt_trading_liquidity wbtc_bnt_funding_limit  \\\n0                                                   0                1000000   \n0                                               40000                1000000   \n0                                               40000                1000000   \n0                                               40000                1000000   \n0                                               40000                1000000   \n..                                                ...                    ...   \n0   631560.398239814658270464632595433488429575091...                1000000   \n0   631560.398239814658270464632595433488429575091...                1000000   \n0   631560.398239814658270464632595433488429575091...                1000000   \n0   631560.398239814658270464632595433488429575091...                1000000   \n0   631560.398239814658270464632595433488429575091...                1000000   \n\n                                      wbtc_vault_real wbtc_is_trading_enabled  \\\n0                                             3300001                   False   \n0                                             3300001                    True   \n0                                             3300001                    True   \n0                                             3300001                    True   \n0                                             3300001                    True   \n..                                                ...                     ...   \n0   30022166.9064246188373576752303256055328997677...                    True   \n0   30022166.9064246188373576752303256055328997677...                    True   \n0   30022166.9064246188373576752303256055328997677...                    True   \n0   30022166.9064246188373576752303256055328997677...                    True   \n0   30022166.9064246188373576752303256055328997677...                    True   \n\n   wbtc_iloss  wbtc_fees_earned  \\\n0           0          0.000000   \n0           0          0.000000   \n0           0          0.000000   \n0           0          0.000000   \n0           0          0.000000   \n..        ...               ...   \n0           0      13727.052858   \n0           0      13727.052858   \n0           0      13727.052858   \n0           0      13727.052858   \n0           0      13727.052858   \n\n                                         wbtc_staking  \\\n0                                            30300001   \n0                                            30300001   \n0                                            30300001   \n0                                            30300001   \n0                                            30300001   \n..                                                ...   \n0   52120308.5324741419921863743853312249923941369...   \n0   52120308.5324741419921863743853312249923941369...   \n0   52120308.5324741419921863743853312249923941369...   \n0   52120308.5324741419921863743853312249923941369...   \n0   52120308.5324741419921863743853312249923941369...   \n\n                                    wbtc_surplus_real  \\\n0                                           -27000000   \n0                                           -27000000   \n0                                           -27000000   \n0                                           -27000000   \n0                                           -27000000   \n..                                                ...   \n0   -22098141.626049523154828699155005619459494369...   \n0   -22098141.626049523154828699155005619459494369...   \n0   -22098141.626049523154828699155005619459494369...   \n0   -22098141.626049523154828699155005619459494369...   \n0   -22098141.626049523154828699155005619459494369...   \n\n                           wbtc_tkn_trading_liquidity  \\\n0                                                   0   \n0   1.13063214690753087539338806419028157698517586...   \n0   1.13063214690753087539338806419028157698517586...   \n0   1.13063214690753087539338806419028157698517586...   \n0   1.13063214690753087539338806419028157698517586...   \n..                                                ...   \n0   4915425.69254200666935169233327978605618915725...   \n0   4915425.69254200666935169233327978605618915725...   \n0   4915425.69254200666935169233327978605618915725...   \n0   4915425.69254200666935169233327978605618915725...   \n0   4915425.69254200666935169233327978605618915725...   \n\n                           wbtc_bnt_trading_liquidity  \n0                                                   0  \n0                                               20000  \n0                                               20000  \n0                                               20000  \n0                                               20000  \n..                                                ...  \n0   118.570894051669753580554961796224658616733944...  \n0   118.570894051669753580554961796224658616733944...  \n0   118.570894051669753580554961796224658616733944...  \n0   118.570894051669753580554961796224658616733944...  \n0   118.570894051669753580554961796224658616733944...  \n\n[2683 rows x 31 columns]",
      "text/html": "<div>\n<style scoped>\n    .dataframe tbody tr th:only-of-type {\n        vertical-align: middle;\n    }\n\n    .dataframe tbody tr th {\n        vertical-align: top;\n    }\n\n    .dataframe thead th {\n        text-align: right;\n    }\n</style>\n<table border=\"1\" class=\"dataframe\">\n  <thead>\n    <tr style=\"text-align: right;\">\n      <th></th>\n      <th>timestamp</th>\n      <th>latest_action</th>\n      <th>latest_amt</th>\n      <th>latest_tkn_name</th>\n      <th>eth_bnt_funding_limit</th>\n      <th>eth_vault_real</th>\n      <th>eth_is_trading_enabled</th>\n      <th>eth_iloss</th>\n      <th>eth_fees_earned</th>\n      <th>eth_staking</th>\n      <th>...</th>\n      <th>link_bnt_trading_liquidity</th>\n      <th>wbtc_bnt_funding_limit</th>\n      <th>wbtc_vault_real</th>\n      <th>wbtc_is_trading_enabled</th>\n      <th>wbtc_iloss</th>\n      <th>wbtc_fees_earned</th>\n      <th>wbtc_staking</th>\n      <th>wbtc_surplus_real</th>\n      <th>wbtc_tkn_trading_liquidity</th>\n      <th>wbtc_bnt_trading_liquidity</th>\n    </tr>\n  </thead>\n  <tbody>\n    <tr>\n      <th>0</th>\n      <td>1</td>\n      <td>withdrawal</td>\n      <td>None</td>\n      <td>None</td>\n      <td>1000000</td>\n      <td>3300001</td>\n      <td>False</td>\n      <td>0.000000</td>\n      <td>0.000000e+00</td>\n      <td>30300001</td>\n      <td>...</td>\n      <td>0</td>\n      <td>1000000</td>\n      <td>3300001</td>\n      <td>False</td>\n      <td>0</td>\n      <td>0.000000</td>\n      <td>30300001</td>\n      <td>-27000000</td>\n      <td>0</td>\n      <td>0</td>\n    </tr>\n    <tr>\n      <th>0</th>\n      <td>3</td>\n      <td>deposit</td>\n      <td>1190891.14616582007147371768951416015625</td>\n      <td>link</td>\n      <td>1000000</td>\n      <td>3300001</td>\n      <td>True</td>\n      <td>0.000000</td>\n      <td>0.000000e+00</td>\n      <td>30300001</td>\n      <td>...</td>\n      <td>40000</td>\n      <td>1000000</td>\n      <td>3300001</td>\n      <td>True</td>\n      <td>0</td>\n      <td>0.000000</td>\n      <td>30300001</td>\n      <td>-27000000</td>\n      <td>1.13063214690753087539338806419028157698517586...</td>\n      <td>20000</td>\n    </tr>\n    <tr>\n      <th>0</th>\n      <td>3</td>\n      <td>withdrawal</td>\n      <td>None</td>\n      <td>None</td>\n      <td>1000000</td>\n      <td>3300001</td>\n      <td>True</td>\n      <td>0.000000</td>\n      <td>0.000000e+00</td>\n      <td>30300001</td>\n      <td>...</td>\n      <td>40000</td>\n      <td>1000000</td>\n      <td>3300001</td>\n      <td>True</td>\n      <td>0</td>\n      <td>0.000000</td>\n      <td>30300001</td>\n      <td>-27000000</td>\n      <td>1.13063214690753087539338806419028157698517586...</td>\n      <td>20000</td>\n    </tr>\n    <tr>\n      <th>0</th>\n      <td>5</td>\n      <td>deposit</td>\n      <td>249479.45779123276588506996631622314453125</td>\n      <td>bnt</td>\n      <td>1000000</td>\n      <td>3300001</td>\n      <td>True</td>\n      <td>0.000000</td>\n      <td>0.000000e+00</td>\n      <td>30300001</td>\n      <td>...</td>\n      <td>40000</td>\n      <td>1000000</td>\n      <td>3300001</td>\n      <td>True</td>\n      <td>0</td>\n      <td>0.000000</td>\n      <td>30300001</td>\n      <td>-27000000</td>\n      <td>1.13063214690753087539338806419028157698517586...</td>\n      <td>20000</td>\n    </tr>\n    <tr>\n      <th>0</th>\n      <td>5</td>\n      <td>deposit</td>\n      <td>None</td>\n      <td>None</td>\n      <td>1000000</td>\n      <td>3300001</td>\n      <td>True</td>\n      <td>0.000000</td>\n      <td>0.000000e+00</td>\n      <td>30300001</td>\n      <td>...</td>\n      <td>40000</td>\n      <td>1000000</td>\n      <td>3300001</td>\n      <td>True</td>\n      <td>0</td>\n      <td>0.000000</td>\n      <td>30300001</td>\n      <td>-27000000</td>\n      <td>1.13063214690753087539338806419028157698517586...</td>\n      <td>20000</td>\n    </tr>\n    <tr>\n      <th>...</th>\n      <td>...</td>\n      <td>...</td>\n      <td>...</td>\n      <td>...</td>\n      <td>...</td>\n      <td>...</td>\n      <td>...</td>\n      <td>...</td>\n      <td>...</td>\n      <td>...</td>\n      <td>...</td>\n      <td>...</td>\n      <td>...</td>\n      <td>...</td>\n      <td>...</td>\n      <td>...</td>\n      <td>...</td>\n      <td>...</td>\n      <td>...</td>\n      <td>...</td>\n      <td>...</td>\n    </tr>\n    <tr>\n      <th>0</th>\n      <td>2930</td>\n      <td>deposit</td>\n      <td>None</td>\n      <td>None</td>\n      <td>1000000</td>\n      <td>325792441.610165623943196234363268440338424670...</td>\n      <td>True</td>\n      <td>-91035.392107</td>\n      <td>2.003109e+06</td>\n      <td>254616109.023875636719120051025932512415388586...</td>\n      <td>...</td>\n      <td>631560.398239814658270464632595433488429575091...</td>\n      <td>1000000</td>\n      <td>30022166.9064246188373576752303256055328997677...</td>\n      <td>True</td>\n      <td>0</td>\n      <td>13727.052858</td>\n      <td>52120308.5324741419921863743853312249923941369...</td>\n      <td>-22098141.626049523154828699155005619459494369...</td>\n      <td>4915425.69254200666935169233327978605618915725...</td>\n      <td>118.570894051669753580554961796224658616733944...</td>\n    </tr>\n    <tr>\n      <th>0</th>\n      <td>2932</td>\n      <td>withdrawal</td>\n      <td>None</td>\n      <td>None</td>\n      <td>1000000</td>\n      <td>325792441.610165623943196234363268440338424670...</td>\n      <td>True</td>\n      <td>-91035.392107</td>\n      <td>2.003109e+06</td>\n      <td>254616109.023875636719120051025932512415388586...</td>\n      <td>...</td>\n      <td>631560.398239814658270464632595433488429575091...</td>\n      <td>1000000</td>\n      <td>30022166.9064246188373576752303256055328997677...</td>\n      <td>True</td>\n      <td>0</td>\n      <td>13727.052858</td>\n      <td>52120308.5324741419921863743853312249923941369...</td>\n      <td>-22098141.626049523154828699155005619459494369...</td>\n      <td>4915425.69254200666935169233327978605618915725...</td>\n      <td>118.570894051669753580554961796224658616733944...</td>\n    </tr>\n    <tr>\n      <th>0</th>\n      <td>2934</td>\n      <td>withdrawal</td>\n      <td>None</td>\n      <td>None</td>\n      <td>1000000</td>\n      <td>325792441.610165623943196234363268440338424670...</td>\n      <td>True</td>\n      <td>-91035.392107</td>\n      <td>2.003109e+06</td>\n      <td>254616109.023875636719120051025932512415388586...</td>\n      <td>...</td>\n      <td>631560.398239814658270464632595433488429575091...</td>\n      <td>1000000</td>\n      <td>30022166.9064246188373576752303256055328997677...</td>\n      <td>True</td>\n      <td>0</td>\n      <td>13727.052858</td>\n      <td>52120308.5324741419921863743853312249923941369...</td>\n      <td>-22098141.626049523154828699155005619459494369...</td>\n      <td>4915425.69254200666935169233327978605618915725...</td>\n      <td>118.570894051669753580554961796224658616733944...</td>\n    </tr>\n    <tr>\n      <th>0</th>\n      <td>2936</td>\n      <td>arbitrage_trade</td>\n      <td>None</td>\n      <td>None</td>\n      <td>1000000</td>\n      <td>325792441.610165623943196234363268440338424670...</td>\n      <td>True</td>\n      <td>-91035.392107</td>\n      <td>2.003109e+06</td>\n      <td>254616109.023875636719120051025932512415388586...</td>\n      <td>...</td>\n      <td>631560.398239814658270464632595433488429575091...</td>\n      <td>1000000</td>\n      <td>30022166.9064246188373576752303256055328997677...</td>\n      <td>True</td>\n      <td>0</td>\n      <td>13727.052858</td>\n      <td>52120308.5324741419921863743853312249923941369...</td>\n      <td>-22098141.626049523154828699155005619459494369...</td>\n      <td>4915425.69254200666935169233327978605618915725...</td>\n      <td>118.570894051669753580554961796224658616733944...</td>\n    </tr>\n    <tr>\n      <th>0</th>\n      <td>2936</td>\n      <td>arbitrage_trade</td>\n      <td>None</td>\n      <td>None</td>\n      <td>1000000</td>\n      <td>325792441.610165623943196234363268440338424670...</td>\n      <td>True</td>\n      <td>-91035.392107</td>\n      <td>2.003109e+06</td>\n      <td>254616109.023875636719120051025932512415388586...</td>\n      <td>...</td>\n      <td>631560.398239814658270464632595433488429575091...</td>\n      <td>1000000</td>\n      <td>30022166.9064246188373576752303256055328997677...</td>\n      <td>True</td>\n      <td>0</td>\n      <td>13727.052858</td>\n      <td>52120308.5324741419921863743853312249923941369...</td>\n      <td>-22098141.626049523154828699155005619459494369...</td>\n      <td>4915425.69254200666935169233327978605618915725...</td>\n      <td>118.570894051669753580554961796224658616733944...</td>\n    </tr>\n  </tbody>\n</table>\n<p>2683 rows × 31 columns</p>\n</div>"
     },
     "execution_count": 13,
     "metadata": {},
     "output_type": "execute_result"
    }
   ],
   "source": [
    "simulator = MonteCarloGenerator(\n",
    "    cooldown_time=0,\n",
    "    whitelisted_tokens= whitelisted_tokens,\n",
    "    price_feed=price_feeds,\n",
    "    user_initial_balances=user_initial_balances,\n",
    "    simulation_actions_count=simulation_actions_count,\n",
    "    num_timesteps=num_timesteps,\n",
    "    num_simulation_days=num_simulation_days,\n",
    "    pool_freq_dist=pool_freq_dist,\n",
    "    action_freq_dist=action_freq_dist,\n",
    "    bnt_min_liquidity=default_bnt_min_liquidity,\n",
    "    deposit_mean=deposit_mean,\n",
    "    trade_mean=trade_mean,\n",
    "    withdraw_mean=withdraw_mean\n",
    ")\n",
    "\n",
    "baseline_output = simulator.run(transact)\n",
    "baseline_output.to_csv('baseline_output.csv', index=False)\n",
    "baseline_output"
   ],
   "metadata": {
    "collapsed": false,
    "pycharm": {
     "name": "#%%\n"
    }
   }
  },
  {
   "cell_type": "markdown",
   "source": [
    "Now run the proposal simulation, taking care to include the special arguments which override the default behavior.\n"
   ],
   "metadata": {
    "collapsed": false
   }
  },
  {
   "cell_type": "code",
   "execution_count": null,
   "outputs": [],
   "source": [
    "simulator = MonteCarloGenerator(\n",
    "    cooldown_time=0,\n",
    "    whitelisted_tokens= whitelisted_tokens,\n",
    "    price_feed=price_feeds,\n",
    "    user_initial_balances=user_initial_balances,\n",
    "    simulation_actions_count=simulation_actions_count,\n",
    "    num_timesteps=num_timesteps,\n",
    "    num_simulation_days=num_simulation_days,\n",
    "    pool_freq_dist=pool_freq_dist,\n",
    "    action_freq_dist=action_freq_dist,\n",
    "    bnt_min_liquidity=default_bnt_min_liquidity,\n",
    "    deposit_mean=deposit_mean,\n",
    "    trade_mean=trade_mean,\n",
    "    withdraw_mean=withdraw_mean\n",
    ")\n",
    "\n",
    "proposal_output = simulator.run(transact,\n",
    "                                mean_events_per_day,\n",
    "                                num_hours_per_day,\n",
    "                                n_rolling_days,\n",
    "                                constant_multiplier,\n",
    "                                is_proposal=True)\n",
    "proposal_output.to_csv('proposal_output.csv', index=False)\n",
    "proposal_output"
   ],
   "metadata": {
    "collapsed": false,
    "pycharm": {
     "name": "#%%\n",
     "is_executing": true
    }
   }
  },
  {
   "cell_type": "markdown",
   "source": [
    "Combine the results to analyze."
   ],
   "metadata": {
    "collapsed": false
   }
  },
  {
   "cell_type": "code",
   "execution_count": null,
   "outputs": [],
   "source": [
    "# add a label for the baseline results\n",
    "proposal_output['type'] = ['proposal' for _ in range(len(proposal_output))]\n",
    "\n",
    "# add a label for the proposal results\n",
    "baseline_output['type'] = ['baseline' for _ in range(len(baseline_output))]\n",
    "\n",
    "# concatenate the results\n",
    "combined = pd.concat([proposal_output, baseline_output])\n",
    "\n",
    "# Add back the original human readable datetime for viusualizations.\n",
    "combined = combined.merge(price_feeds.rename({'index':'timestamp'}, axis=1)[['timestamp','time']], on=['timestamp'])\n",
    "\n",
    "# Sort by datetime to visualize properly.\n",
    "combined = combined.sort_values('time')\n",
    "\n",
    "combined"
   ],
   "metadata": {
    "collapsed": false,
    "pycharm": {
     "name": "#%%\n",
     "is_executing": true
    }
   }
  },
  {
   "cell_type": "markdown",
   "source": [
    "**Data Visualization**"
   ],
   "metadata": {
    "collapsed": false
   }
  },
  {
   "cell_type": "markdown",
   "source": [
    "Check the pattern for available trading to crosscheck the following charts."
   ],
   "metadata": {
    "collapsed": false
   }
  },
  {
   "cell_type": "code",
   "execution_count": null,
   "outputs": [],
   "source": [
    "import plotly.express as px\n",
    "\n",
    "fig = px.line(combined, x = \"time\", y = ['eth_is_trading_enabled'],\n",
    "              color = \"type\",\n",
    "              title='ETH Trading Enabled')\n",
    "fig.show()"
   ],
   "metadata": {
    "collapsed": false,
    "pycharm": {
     "name": "#%%\n",
     "is_executing": true
    }
   }
  },
  {
   "cell_type": "markdown",
   "source": [
    "Check the ETH fees earned."
   ],
   "metadata": {
    "collapsed": false
   }
  },
  {
   "cell_type": "code",
   "execution_count": null,
   "outputs": [],
   "source": [
    "fig = px.line(combined,\n",
    "              x = \"time\",\n",
    "              y = 'eth_fees_earned',\n",
    "              color = \"type\",\n",
    "              title='ETH Fees Earned')\n",
    "fig.show()"
   ],
   "metadata": {
    "collapsed": false,
    "pycharm": {
     "name": "#%%\n",
     "is_executing": true
    }
   }
  },
  {
   "cell_type": "markdown",
   "source": [
    "Check the ETH Imperminent Loss"
   ],
   "metadata": {
    "collapsed": false
   }
  },
  {
   "cell_type": "code",
   "execution_count": null,
   "outputs": [],
   "source": [
    "fig = px.line(combined, x = \"time\", y = ['eth_iloss'],\n",
    "              color = \"type\",\n",
    "              title='ETH IL')\n",
    "fig.show()"
   ],
   "metadata": {
    "collapsed": false,
    "pycharm": {
     "name": "#%%\n",
     "is_executing": true
    }
   }
  },
  {
   "cell_type": "markdown",
   "source": [
    "Check the ETH bnt funding limit. This is the main modification made to the system.\n",
    "The parameter should be static in the baseline and dynamic in the proposal simulation."
   ],
   "metadata": {
    "collapsed": false
   }
  },
  {
   "cell_type": "code",
   "execution_count": null,
   "outputs": [],
   "source": [
    "fig = px.line(combined, x = \"time\", y = ['eth_bnt_funding_limit'],\n",
    "              color = \"type\",\n",
    "              title='ETH bnt funding limit')\n",
    "fig.show()"
   ],
   "metadata": {
    "collapsed": false,
    "pycharm": {
     "name": "#%%\n",
     "is_executing": true
    }
   }
  },
  {
   "cell_type": "markdown",
   "source": [
    "Check the ETH off-curve trading liquidity."
   ],
   "metadata": {
    "collapsed": false
   }
  },
  {
   "cell_type": "code",
   "execution_count": null,
   "outputs": [],
   "source": [
    "fig = px.line(combined, x = \"time\", y = 'eth_tkn_trading_liquidity',\n",
    "              color = \"type\",\n",
    "              title='ETH off curve trading liquidity')\n",
    "fig.show()"
   ],
   "metadata": {
    "collapsed": false,
    "pycharm": {
     "name": "#%%\n",
     "is_executing": true
    }
   }
  },
  {
   "cell_type": "markdown",
   "source": [
    "Check the ETH on-curve trading liquidity."
   ],
   "metadata": {
    "collapsed": false
   }
  },
  {
   "cell_type": "code",
   "execution_count": null,
   "outputs": [],
   "source": [
    "fig = px.line(combined, x = \"time\", y = 'eth_bnt_trading_liquidity',\n",
    "              color = \"type\",\n",
    "              title='ETH on curve trading liquidity')\n",
    "fig.show()"
   ],
   "metadata": {
    "collapsed": false,
    "pycharm": {
     "name": "#%%\n",
     "is_executing": true
    }
   }
  },
  {
   "cell_type": "markdown",
   "source": [
    "Check the ETH surplus."
   ],
   "metadata": {
    "collapsed": false
   }
  },
  {
   "cell_type": "code",
   "execution_count": null,
   "outputs": [],
   "source": [
    "fig = px.line(combined, x = \"time\", y = 'eth_surplus_real',\n",
    "              color='type',\n",
    "               title='ETH surplus')\n",
    "fig.show()"
   ],
   "metadata": {
    "collapsed": false,
    "pycharm": {
     "name": "#%%\n",
     "is_executing": true
    }
   }
  },
  {
   "cell_type": "markdown",
   "source": [
    "Validate the surplus by checking the vault and staking balances."
   ],
   "metadata": {
    "collapsed": false
   }
  },
  {
   "cell_type": "code",
   "execution_count": null,
   "outputs": [],
   "source": [
    "fig = px.line(combined, x = \"time\", y = 'eth_staking',\n",
    "              color='type',\n",
    "               title='ETH staking')\n",
    "fig.show()"
   ],
   "metadata": {
    "collapsed": false,
    "pycharm": {
     "name": "#%%\n",
     "is_executing": true
    }
   }
  },
  {
   "cell_type": "code",
   "execution_count": null,
   "outputs": [],
   "source": [
    "fig = px.line(combined, x = \"time\", y = 'eth_vault_real',\n",
    "              color='type',\n",
    "               title='ETH vault')\n",
    "fig.show()"
   ],
   "metadata": {
    "collapsed": false,
    "pycharm": {
     "name": "#%%\n",
     "is_executing": true
    }
   }
  },
  {
   "cell_type": "code",
   "execution_count": null,
   "outputs": [],
   "source": [],
   "metadata": {
    "collapsed": false,
    "pycharm": {
     "name": "#%%\n",
     "is_executing": true
    }
   }
  }
 ],
 "metadata": {
  "kernelspec": {
   "display_name": "Python 3",
   "language": "python",
   "name": "python3"
  },
  "language_info": {
   "codemirror_mode": {
    "name": "ipython",
    "version": 2
   },
   "file_extension": ".py",
   "mimetype": "text/x-python",
   "name": "python",
   "nbconvert_exporter": "python",
   "pygments_lexer": "ipython2",
   "version": "2.7.6"
  }
 },
 "nbformat": 4,
 "nbformat_minor": 0
}