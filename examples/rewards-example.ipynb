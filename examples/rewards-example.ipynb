{
 "cells": [
  {
   "cell_type": "code",
   "execution_count": 1,
   "metadata": {
    "tags": [
     "remove-input"
    ],
    "pycharm": {
     "name": "#%%\n"
    }
   },
   "outputs": [],
   "source": [
    "from datascience import *\n",
    "from datascience.predicates import are\n",
    "path_data = '../../../../data/'\n",
    "import numpy as np\n",
    "import matplotlib\n",
    "matplotlib.use('Agg')\n",
    "%matplotlib inline\n",
    "import matplotlib.pyplot as plots\n",
    "plots.style.use('fivethirtyeight')\n",
    "import warnings\n",
    "warnings.simplefilter(action=\"ignore\", category=FutureWarning)\n",
    "\n",
    "from urllib.request import urlopen\n",
    "import re\n",
    "from bancor3_simulator.protocol import BancorV3\n",
    "\n",
    "def read_url(url):\n",
    "    return re.sub('\\\\s+', ' ', urlopen(url).read().decode())"
   ]
  },
  {
   "cell_type": "code",
   "execution_count": 2,
   "outputs": [
    {
     "data": {
      "text/plain": "(['tkn', 'bnt'], ['liquidityProvider'])"
     },
     "execution_count": 2,
     "metadata": {},
     "output_type": "execute_result"
    }
   ],
   "source": [
    "v3 = BancorV3(active_users=['liquidityProvider'],\n",
    "              whitelisted_tokens=['tkn','bnt'])\n",
    "\n",
    "v3.list_tokens, v3.list_users"
   ],
   "metadata": {
    "collapsed": false,
    "pycharm": {
     "name": "#%%\n"
    }
   }
  },
  {
   "cell_type": "code",
   "execution_count": null,
   "outputs": [],
   "source": [
    "from bancor3_simulator.protocol.modules.rewards import create_program, join_program, leave_program, claim_rewards, get_program\n",
    "\n",
    "state = v3.global_state\n",
    "providerId = 'liquidityProvider'\n",
    "\n",
    "for [reserveToken, poolToken, rewardsToken] in ['tkn', 'bntkn', 'tkn']:\n",
    "\n",
    "    state.users[providerId].wallet[\"tkn\"].tkn_amt = 1000\n",
    "    program = get_program(state, rewardsToken)\n",
    "    provider = get_program(state, providerId)\n",
    "    rewards_vault_tkn = program.rewards_vault_tkn\n",
    "\n",
    "    bgnTime = 5 * 24 * 60 * 60\n",
    "    endTime = 15 * 24 * 60 * 60\n",
    "    currTime = 1 * 24 * 60 * 60\n",
    "\n",
    "    programId = create_program(reserveToken, poolToken, rewardsToken, rewards_vault_tkn, bgnTime, endTime, currTime)\n",
    "\n",
    "    currTime = 10 * 24 * 60 * 60\n",
    "\n",
    "    join_program(providerId, programId, poolToken.balanceOf(providerId) // 2, currTime)\n",
    "\n",
    "    currTime = 20 * 24 * 60 * 60\n",
    "\n",
    "    leave_program(providerId, programId, provider.wallet[programId].stakedAmount // 2, currTime)\n",
    "\n",
    "for programId in [0, 1]:\n",
    "    state = claim_rewards(providerId, programId, currTime)\n",
    "\n",
    "state"
   ],
   "metadata": {
    "collapsed": false,
    "pycharm": {
     "name": "#%%\n"
    }
   }
  },
  {
   "cell_type": "code",
   "execution_count": 3,
   "outputs": [],
   "source": [
    "# BNT = Token('BNT')\n",
    "# TKN = Token('TKN')\n",
    "# bnBNT = Token('bnBNT')\n",
    "# bnTKN = Token('bnTKN')\n",
    "#\n",
    "# providerId        = 'liquidityProvider'\n",
    "# poolTokenVault    = 'poolTokenVault'\n",
    "# rewardsTokenVault = 'rewardsTokenVault'\n",
    "#\n",
    "# def printState(currTime):\n",
    "#     print('currTime:', currTime)\n",
    "#     cols = ['Wallet'] + [token.symbol for token in [BNT, TKN, bnBNT, bnTKN]]\n",
    "#     rows = [[wallet] + ['{:.2f}'.format(token.balanceOf(wallet)) for token in [BNT, TKN, bnBNT, bnTKN]] for wallet in [providerId, poolTokenVault, rewardsTokenVault]]\n",
    "#     row_format = '{:20}' * len(cols)\n",
    "#     print(row_format.format(*cols))\n",
    "#     for row in rows:\n",
    "#         print(row_format.format(*row))\n",
    "#     print()\n",
    "#\n",
    "# for [reserveToken, poolToken, rewardsToken] in [[TKN, bnTKN, TKN], [BNT, bnBNT, BNT]]:\n",
    "#     poolToken.mint(providerId, 1000)\n",
    "#     rewardsToken.mint(rewardsTokenVault, 1000000)\n",
    "#\n",
    "#     bgnTime = 5 * 24 * 60 * 60\n",
    "#     endTime = 15 * 24 * 60 * 60\n",
    "#     currTime = 1 * 24 * 60 * 60\n",
    "#\n",
    "#     programId = createProgram(reserveToken, poolToken, rewardsToken, rewardsToken.balanceOf(rewardsTokenVault), bgnTime, endTime, currTime)\n",
    "#     printState(currTime)\n",
    "#\n",
    "#     currTime = 10 * 24 * 60 * 60\n",
    "#\n",
    "#     joinProgram(providerId, programId, poolToken.balanceOf(providerId) // 2, currTime)\n",
    "#     printState(currTime)\n",
    "#     joinProgram(providerId, programId, poolToken.balanceOf(providerId) // 2, currTime)\n",
    "#     printState(currTime)\n",
    "#\n",
    "#     currTime = 20 * 24 * 60 * 60\n",
    "#\n",
    "#     leaveProgram(providerId, programId, programs[programId].providers[providerId].stakedAmount // 2, currTime)\n",
    "#     printState(currTime)\n",
    "#     leaveProgram(providerId, programId, programs[programId].providers[providerId].stakedAmount // 2, currTime)\n",
    "#     printState(currTime)\n",
    "#\n",
    "# for programId in [0, 1]:\n",
    "#     claimRewards(providerId, programId, currTime)\n",
    "#     printState(currTime)"
   ],
   "metadata": {
    "collapsed": false,
    "pycharm": {
     "name": "#%%\n"
    }
   }
  }
 ],
 "metadata": {
  "kernelspec": {
   "name": "pycharm-c19c9c8d",
   "language": "python",
   "display_name": "PyCharm (simulator-v3)"
  },
  "language_info": {
   "codemirror_mode": {
    "name": "ipython",
    "version": 3
   },
   "file_extension": ".py",
   "mimetype": "text/x-python",
   "name": "python",
   "nbconvert_exporter": "python",
   "pygments_lexer": "ipython3",
   "version": "3.8.5"
  }
 },
 "nbformat": 4,
 "nbformat_minor": 2
}