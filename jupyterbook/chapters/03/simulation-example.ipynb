{
 "cells": [
  {
   "cell_type": "code",
   "execution_count": 19,
   "metadata": {
    "tags": [
     "remove-input"
    ]
   },
   "outputs": [],
   "source": [
    "from datascience import *\n",
    "from datascience.predicates import are\n",
    "path_data = '../../../../data/'\n",
    "import numpy as np\n",
    "import matplotlib\n",
    "matplotlib.use('Agg')\n",
    "%matplotlib inline\n",
    "import matplotlib.pyplot as plots\n",
    "plots.style.use('fivethirtyeight')\n",
    "import warnings\n",
    "warnings.simplefilter(action=\"ignore\", category=FutureWarning)\n",
    "\n",
    "from urllib.request import urlopen\n",
    "import re\n",
    "from bancor3_simulator.protocol import BancorV3\n",
    "from bancor3_simulator.core.settings import GlobalSettings\n",
    "from decimal import Decimal\n",
    "from fractions import Fraction\n",
    "import pandas as pd\n",
    "\n",
    "cooldown_time: int = 7\n",
    "withdrawal_fee: Decimal = Decimal('0.0025')\n",
    "whitelisted_tokens: list = ['bnt', 'eth', 'wbtc', 'link']\n",
    "bnt_funding_limit: Decimal = Decimal('40000')\n",
    "bnt_min_liquidity: Decimal = Decimal('10000')\n",
    "price_feeds = pd.DataFrame({'INDX':[0],\n",
    "                            'bnt':[1.0],\n",
    "                            'tkn':[3.0],\n",
    "                            # 'link':[15.00],\n",
    "                            # 'eth':[2500.00],\n",
    "                            # 'wbtc':[40000.00],\n",
    "                            })\n",
    "\n",
    "network_fee: Decimal = Decimal('0.2')\n",
    "trading_fee: Decimal = Decimal('0.01')\n",
    "\n",
    "# There are other possible configuration settings available, however for the present purpose we will use the defaults.\n",
    "# v3 = BancorV3(whitelisted_tokens=whitelisted_tokens,\n",
    "#               network_fee=network_fee,\n",
    "#               trading_fee=trading_fee,\n",
    "#               cooldown_time=cooldown_time,\n",
    "#               withdrawal_fee=withdrawal_fee,\n",
    "#               bnt_min_liquidity=bnt_min_liquidity,\n",
    "#               bnt_funding_limit=bnt_funding_limit,\n",
    "#               price_feeds=price_feeds)\n",
    "\n",
    "# v3.create_user('Alice')\n",
    "# v3.create_user('Bob')\n",
    "# v3.create_user('Charlie')\n",
    "#\n",
    "# # The actual deposits.\n",
    "#\n",
    "# v3.stake(tkn_amt=100, tkn_name='eth', user_name='Alice')\n",
    "#\n",
    "# v3.stake(tkn_amt=10000, tkn_name='link', user_name='Charlie')\n",
    "#\n",
    "# v3.stake(tkn_amt=100, tkn_name='wbtc', user_name='Bob')\n",
    "#\n",
    "# v3.stake(tkn_amt=1, tkn_name='eth', user_name='Alice')\n",
    "#\n",
    "# v3.stake(tkn_amt=1, tkn_name='link', user_name='Charlie')\n",
    "#\n",
    "# v3.stake(tkn_amt=1, tkn_name='wbtc', user_name='Bob')\n",
    "#\n",
    "# v3.dao_msig_init_pools(whitelisted_tokens)\n",
    "#\n",
    "# v3.create_user('Trader')\n",
    "#\n",
    "# v3.trade(swap_amount=2000, source_token='bnt',  target_token='link', user_name='Trader', timestep=0)\n",
    "#\n",
    "# v3.trade(swap_amount=302.9981, source_token='link',  target_token='bnt', user_name='Trader', timestep=0)\n",
    "#\n",
    "# v3.trade(swap_amount=1, source_token='eth',  target_token='wbtc', user_name='Trader', timestep=0)\n",
    "\n",
    "def read_url(url):\n",
    "    return re.sub('\\\\s+', ' ', urlopen(url).read().decode())"
   ]
  },
  {
   "cell_type": "code",
   "execution_count": 20,
   "outputs": [],
   "source": [
    "# <p align=\"center\">\n",
    "# <img width=\"100%\" src=\"https://d9hhrg4mnvzow.cloudfront.net/try.bancor.network/5edb37d6-open-graph-bancor3_1000000000000000000028.png\" alt=\"bancor3\" />\n",
    "# </p>\n",
    "#\n",
    "# * * * * * * * * * * * * * * * * * * * * * * * * * * * * * * * * * * * * * * * * * * * * * * * * * * * * * * * *\n",
    "#\n",
    "# # Simulation Example"
   ],
   "metadata": {
    "collapsed": false,
    "pycharm": {
     "name": "#%%\n"
    }
   }
  },
  {
   "cell_type": "code",
   "execution_count": 21,
   "outputs": [
    {
     "data": {
      "text/plain": "(['tkn', 'bnt'], ['dayTrader', 'tknProvider', 'bntProvider'])"
     },
     "execution_count": 21,
     "metadata": {},
     "output_type": "execute_result"
    }
   ],
   "source": [
    "v3 = BancorV3(active_users=['dayTrader', 'tknProvider', 'bntProvider'],\n",
    "              whitelisted_tokens=['tkn','bnt'])\n",
    "\n",
    "v3.list_tokens, v3.list_users"
   ],
   "metadata": {
    "collapsed": false,
    "pycharm": {
     "name": "#%%\n"
    }
   }
  },
  {
   "cell_type": "code",
   "execution_count": 22,
   "outputs": [
    {
     "data": {
      "text/plain": "(['tkn', 'bnt'], ['dayTrader', 'tknProvider', 'bntProvider'])"
     },
     "execution_count": 22,
     "metadata": {},
     "output_type": "execute_result"
    }
   ],
   "source": [
    "v3.upload_json_simulation(path='/UserState/mikewcasale/Local/projects/bancor/simulator-v3/bancor3_simulator/tests/data/scenarios_2.json')\n",
    "v3.list_tokens, v3.list_users"
   ],
   "metadata": {
    "collapsed": false,
    "pycharm": {
     "name": "#%%\n"
    }
   }
  },
  {
   "cell_type": "code",
   "execution_count": 23,
   "outputs": [
    {
     "data": {
      "text/plain": "           Trading Liquidity         Vault       Staking ERC20 Contracts  \\\n0                             bnt=0.000000  bnt=0.000000  bnbnt=0.000000   \n1  bnt=0.000000 tkn=0.000000  tkn=0.000000  tkn=0.000000  bntkn=0.000000   \n2                                                                          \n\n         Vortex External Protection Protocol WalletState  \n0  bnt=0.000000        tkn=0.000000  bnbnt=0.000000  \n1                      bnt=0.000000                  \n2                                                    ",
      "text/html": "<div>\n<style scoped>\n    .dataframe tbody tr th:only-of-type {\n        vertical-align: middle;\n    }\n\n    .dataframe tbody tr th {\n        vertical-align: top;\n    }\n\n    .dataframe thead th {\n        text-align: right;\n    }\n</style>\n<table border=\"1\" class=\"dataframe\">\n  <thead>\n    <tr style=\"text-align: right;\">\n      <th></th>\n      <th>Trading Liquidity</th>\n      <th>Vault</th>\n      <th>Staking</th>\n      <th>ERC20 Contracts</th>\n      <th>Vortex</th>\n      <th>External Protection</th>\n      <th>Protocol WalletState</th>\n    </tr>\n  </thead>\n  <tbody>\n    <tr>\n      <th>0</th>\n      <td></td>\n      <td>bnt=0.000000</td>\n      <td>bnt=0.000000</td>\n      <td>bnbnt=0.000000</td>\n      <td>bnt=0.000000</td>\n      <td>tkn=0.000000</td>\n      <td>bnbnt=0.000000</td>\n    </tr>\n    <tr>\n      <th>1</th>\n      <td>bnt=0.000000 tkn=0.000000</td>\n      <td>tkn=0.000000</td>\n      <td>tkn=0.000000</td>\n      <td>bntkn=0.000000</td>\n      <td></td>\n      <td>bnt=0.000000</td>\n      <td></td>\n    </tr>\n    <tr>\n      <th>2</th>\n      <td></td>\n      <td></td>\n      <td></td>\n      <td></td>\n      <td></td>\n      <td></td>\n      <td></td>\n    </tr>\n  </tbody>\n</table>\n</div>"
     },
     "execution_count": 23,
     "metadata": {},
     "output_type": "execute_result"
    }
   ],
   "source": [
    "v3.describe()"
   ],
   "metadata": {
    "collapsed": false,
    "pycharm": {
     "name": "#%%\n"
    }
   }
  },
  {
   "cell_type": "code",
   "execution_count": 24,
   "outputs": [],
   "source": [
    "timestep = 0\n",
    "simulation = []\n",
    "validation = []\n",
    "# QDECIMALS = Decimal(10) ** -18\n",
    "indx = 0"
   ],
   "metadata": {
    "collapsed": false,
    "pycharm": {
     "name": "#%%\n"
    }
   }
  },
  {
   "cell_type": "code",
   "execution_count": 25,
   "outputs": [
    {
     "ename": "KeyError",
     "evalue": "'bnt'",
     "output_type": "error",
     "traceback": [
      "\u001B[0;31m---------------------------------------------------------------------------\u001B[0m",
      "\u001B[0;31mKeyError\u001B[0m                                  Traceback (most recent call last)",
      "File \u001B[0;32m~/miniforge3/envs/v3simulator/lib/python3.8/site-packages/pandas/core/indexes/base.py:3621\u001B[0m, in \u001B[0;36mIndex.get_loc\u001B[0;34m(self, key, method, tolerance)\u001B[0m\n\u001B[1;32m   3620\u001B[0m \u001B[38;5;28;01mtry\u001B[39;00m:\n\u001B[0;32m-> 3621\u001B[0m     \u001B[38;5;28;01mreturn\u001B[39;00m \u001B[38;5;28;43mself\u001B[39;49m\u001B[38;5;241;43m.\u001B[39;49m\u001B[43m_engine\u001B[49m\u001B[38;5;241;43m.\u001B[39;49m\u001B[43mget_loc\u001B[49m\u001B[43m(\u001B[49m\u001B[43mcasted_key\u001B[49m\u001B[43m)\u001B[49m\n\u001B[1;32m   3622\u001B[0m \u001B[38;5;28;01mexcept\u001B[39;00m \u001B[38;5;167;01mKeyError\u001B[39;00m \u001B[38;5;28;01mas\u001B[39;00m err:\n",
      "File \u001B[0;32m~/miniforge3/envs/v3simulator/lib/python3.8/site-packages/pandas/_libs/index.pyx:136\u001B[0m, in \u001B[0;36mpandas._libs.index.IndexEngine.get_loc\u001B[0;34m()\u001B[0m\n",
      "File \u001B[0;32m~/miniforge3/envs/v3simulator/lib/python3.8/site-packages/pandas/_libs/index.pyx:163\u001B[0m, in \u001B[0;36mpandas._libs.index.IndexEngine.get_loc\u001B[0;34m()\u001B[0m\n",
      "File \u001B[0;32mpandas/_libs/hashtable_class_helper.pxi:5198\u001B[0m, in \u001B[0;36mpandas._libs.hashtable.PyObjectHashTable.get_item\u001B[0;34m()\u001B[0m\n",
      "File \u001B[0;32mpandas/_libs/hashtable_class_helper.pxi:5206\u001B[0m, in \u001B[0;36mpandas._libs.hashtable.PyObjectHashTable.get_item\u001B[0;34m()\u001B[0m\n",
      "\u001B[0;31mKeyError\u001B[0m: 'bnt'",
      "\nThe above exception was the direct cause of the following exception:\n",
      "\u001B[0;31mKeyError\u001B[0m                                  Traceback (most recent call last)",
      "Input \u001B[0;32mIn [25]\u001B[0m, in \u001B[0;36m<cell line: 1>\u001B[0;34m()\u001B[0m\n\u001B[1;32m     18\u001B[0m     timestep \u001B[38;5;241m=\u001B[39m v3\u001B[38;5;241m.\u001B[39mglobal_state\u001B[38;5;241m.\u001B[39mtimestep\n\u001B[1;32m     19\u001B[0m \u001B[38;5;28;01mif\u001B[39;00m \u001B[38;5;124m'\u001B[39m\u001B[38;5;124menable\u001B[39m\u001B[38;5;124m'\u001B[39m \u001B[38;5;129;01min\u001B[39;00m transaction_type:\n\u001B[0;32m---> 20\u001B[0m     \u001B[43mv3\u001B[49m\u001B[38;5;241;43m.\u001B[39;49m\u001B[43mdao_msig_init_pools\u001B[49m\u001B[43m(\u001B[49m\u001B[43m[\u001B[49m\u001B[38;5;124;43m'\u001B[39;49m\u001B[38;5;124;43mbnt\u001B[39;49m\u001B[38;5;124;43m'\u001B[39;49m\u001B[43m,\u001B[49m\u001B[38;5;124;43m'\u001B[39;49m\u001B[38;5;124;43mtkn\u001B[39;49m\u001B[38;5;124;43m'\u001B[39;49m\u001B[43m]\u001B[49m\u001B[43m)\u001B[49m\n\u001B[1;32m     21\u001B[0m \u001B[38;5;28;01melif\u001B[39;00m \u001B[38;5;124m'\u001B[39m\u001B[38;5;124mdeposit\u001B[39m\u001B[38;5;124m'\u001B[39m \u001B[38;5;129;01min\u001B[39;00m transaction_type:\n\u001B[1;32m     22\u001B[0m     v3\u001B[38;5;241m.\u001B[39mstake(tkn_name\u001B[38;5;241m=\u001B[39mtkn_name, tkn_amt\u001B[38;5;241m=\u001B[39mamt, user_name\u001B[38;5;241m=\u001B[39muser_name, timestep\u001B[38;5;241m=\u001B[39mtimestep)\n",
      "File \u001B[0;32m~/Local/projects/bancor/simulator-v3/bancor3_simulator/protocol/model.py:653\u001B[0m, in \u001B[0;36mBancorV3.dao_msig_init_pools\u001B[0;34m(self, pools)\u001B[0m\n\u001B[1;32m    651\u001B[0m \u001B[38;5;28;01mdef\u001B[39;00m \u001B[38;5;21mdao_msig_init_pools\u001B[39m(\u001B[38;5;28mself\u001B[39m, pools: \u001B[38;5;28mlist\u001B[39m) \u001B[38;5;241m-\u001B[39m\u001B[38;5;241m>\u001B[39m \u001B[38;5;28;01mNone\u001B[39;00m:\n\u001B[1;32m    652\u001B[0m     \u001B[38;5;124;03m\"\"\"DAO msig initilizes new pools to allow trading once specified conditions are met.\"\"\"\u001B[39;00m\n\u001B[0;32m--> 653\u001B[0m     [\u001B[38;5;28mself\u001B[39m\u001B[38;5;241m.\u001B[39menable_trading(token_name) \u001B[38;5;28;01mfor\u001B[39;00m token_name \u001B[38;5;129;01min\u001B[39;00m pools \u001B[38;5;28;01mif\u001B[39;00m token_name \u001B[38;5;241m!=\u001B[39m \u001B[38;5;124m\"\u001B[39m\u001B[38;5;124mbnt\u001B[39m\u001B[38;5;124m\"\u001B[39m]\n\u001B[1;32m    654\u001B[0m     \u001B[38;5;28;01mpass\u001B[39;00m\n",
      "File \u001B[0;32m~/Local/projects/bancor/simulator-v3/bancor3_simulator/protocol/model.py:653\u001B[0m, in \u001B[0;36m<listcomp>\u001B[0;34m(.0)\u001B[0m\n\u001B[1;32m    651\u001B[0m \u001B[38;5;28;01mdef\u001B[39;00m \u001B[38;5;21mdao_msig_init_pools\u001B[39m(\u001B[38;5;28mself\u001B[39m, pools: \u001B[38;5;28mlist\u001B[39m) \u001B[38;5;241m-\u001B[39m\u001B[38;5;241m>\u001B[39m \u001B[38;5;28;01mNone\u001B[39;00m:\n\u001B[1;32m    652\u001B[0m     \u001B[38;5;124;03m\"\"\"DAO msig initilizes new pools to allow trading once specified conditions are met.\"\"\"\u001B[39;00m\n\u001B[0;32m--> 653\u001B[0m     [\u001B[38;5;28;43mself\u001B[39;49m\u001B[38;5;241;43m.\u001B[39;49m\u001B[43menable_trading\u001B[49m\u001B[43m(\u001B[49m\u001B[43mtoken_name\u001B[49m\u001B[43m)\u001B[49m \u001B[38;5;28;01mfor\u001B[39;00m token_name \u001B[38;5;129;01min\u001B[39;00m pools \u001B[38;5;28;01mif\u001B[39;00m token_name \u001B[38;5;241m!=\u001B[39m \u001B[38;5;124m\"\u001B[39m\u001B[38;5;124mbnt\u001B[39m\u001B[38;5;124m\"\u001B[39m]\n\u001B[1;32m    654\u001B[0m     \u001B[38;5;28;01mpass\u001B[39;00m\n",
      "File \u001B[0;32m~/Local/projects/bancor/simulator-v3/bancor3_simulator/protocol/model.py:668\u001B[0m, in \u001B[0;36mBancorV3.enable_trading\u001B[0;34m(self, tkn_name)\u001B[0m\n\u001B[1;32m    657\u001B[0m \u001B[38;5;124;03m\"\"\"Checks if the masterVault has the minimum bnt equivalent of tkn to justify bootstrapping.\u001B[39;00m\n\u001B[1;32m    658\u001B[0m \u001B[38;5;124;03mIf the requirements are met, the trading liquidities are increased to twice the minimum threshold.\u001B[39;00m\n\u001B[1;32m    659\u001B[0m \u001B[38;5;124;03mSince bnt is minted to the pool, the bnt_funding_amount and bnt_remaining_funding are adjusted accordingly.\u001B[39;00m\n\u001B[0;32m   (...)\u001B[0m\n\u001B[1;32m    665\u001B[0m \n\u001B[1;32m    666\u001B[0m \u001B[38;5;124;03m\"\"\"\u001B[39;00m\n\u001B[1;32m    667\u001B[0m state \u001B[38;5;241m=\u001B[39m \u001B[38;5;28mself\u001B[39m\u001B[38;5;241m.\u001B[39mglobal_state\n\u001B[0;32m--> 668\u001B[0m state, tkn_price, bnt_price \u001B[38;5;241m=\u001B[39m \u001B[43mstate\u001B[49m\u001B[38;5;241;43m.\u001B[39;49m\u001B[43mget_prices\u001B[49m\u001B[43m(\u001B[49m\u001B[43mtkn_name\u001B[49m\u001B[43m,\u001B[49m\u001B[43m \u001B[49m\u001B[38;5;28;43mself\u001B[39;49m\u001B[38;5;241;43m.\u001B[39;49m\u001B[43mprice_feeds\u001B[49m\u001B[43m)\u001B[49m\n\u001B[1;32m    669\u001B[0m bnt_min_liquidity \u001B[38;5;241m=\u001B[39m state\u001B[38;5;241m.\u001B[39mbnt_min_liquidity\n\u001B[1;32m    670\u001B[0m vault_tkn \u001B[38;5;241m=\u001B[39m state\u001B[38;5;241m.\u001B[39mtokens[tkn_name]\u001B[38;5;241m.\u001B[39mvault_tkn\n",
      "File \u001B[0;32m~/Local/projects/bancor/simulator-v3/bancor3_simulator/core/dataclasses.py:257\u001B[0m, in \u001B[0;36mState.get_prices\u001B[0;34m(self, tkn_name, price_feeds)\u001B[0m\n\u001B[1;32m    244\u001B[0m \u001B[38;5;124;03m\"\"\"Takes tokenName and timestamp as inputs.\u001B[39;00m\n\u001B[1;32m    245\u001B[0m \u001B[38;5;124;03mTakes an optional third argument, priceFeeds, which is a csv file.\u001B[39;00m\n\u001B[1;32m    246\u001B[0m \u001B[38;5;124;03mThe priceFeed argument uses the default priceFeed set at system creation if none is passed.\u001B[39;00m\n\u001B[0;32m   (...)\u001B[0m\n\u001B[1;32m    254\u001B[0m \n\u001B[1;32m    255\u001B[0m \u001B[38;5;124;03m\"\"\"\u001B[39;00m\n\u001B[1;32m    256\u001B[0m _timestep \u001B[38;5;241m=\u001B[39m \u001B[38;5;28mself\u001B[39m\u001B[38;5;241m.\u001B[39mtimestep\n\u001B[0;32m--> 257\u001B[0m bnt_price \u001B[38;5;241m=\u001B[39m Decimal(\u001B[43mprice_feeds\u001B[49m\u001B[38;5;241;43m.\u001B[39;49m\u001B[43mat\u001B[49m\u001B[43m[\u001B[49m\u001B[43m_timestep\u001B[49m\u001B[43m,\u001B[49m\u001B[43m \u001B[49m\u001B[38;5;124;43m\"\u001B[39;49m\u001B[38;5;124;43mbnt\u001B[39;49m\u001B[38;5;124;43m\"\u001B[39;49m\u001B[43m]\u001B[49m)\n\u001B[1;32m    258\u001B[0m \u001B[38;5;28;01mif\u001B[39;00m tkn_name \u001B[38;5;241m==\u001B[39m \u001B[38;5;124m\"\u001B[39m\u001B[38;5;124mvbnt\u001B[39m\u001B[38;5;124m\"\u001B[39m:\n\u001B[1;32m    260\u001B[0m     bnbnt_rate \u001B[38;5;241m=\u001B[39m \u001B[38;5;28mself\u001B[39m\u001B[38;5;241m.\u001B[39mbnbnt_rate\n",
      "File \u001B[0;32m~/miniforge3/envs/v3simulator/lib/python3.8/site-packages/pandas/core/indexing.py:2263\u001B[0m, in \u001B[0;36m_AtIndexer.__getitem__\u001B[0;34m(self, key)\u001B[0m\n\u001B[1;32m   2260\u001B[0m         \u001B[38;5;28;01mraise\u001B[39;00m \u001B[38;5;167;01mValueError\u001B[39;00m(\u001B[38;5;124m\"\u001B[39m\u001B[38;5;124mInvalid call for scalar access (getting)!\u001B[39m\u001B[38;5;124m\"\u001B[39m)\n\u001B[1;32m   2261\u001B[0m     \u001B[38;5;28;01mreturn\u001B[39;00m \u001B[38;5;28mself\u001B[39m\u001B[38;5;241m.\u001B[39mobj\u001B[38;5;241m.\u001B[39mloc[key]\n\u001B[0;32m-> 2263\u001B[0m \u001B[38;5;28;01mreturn\u001B[39;00m \u001B[38;5;28;43msuper\u001B[39;49m\u001B[43m(\u001B[49m\u001B[43m)\u001B[49m\u001B[38;5;241;43m.\u001B[39;49m\u001B[38;5;21;43m__getitem__\u001B[39;49m\u001B[43m(\u001B[49m\u001B[43mkey\u001B[49m\u001B[43m)\u001B[49m\n",
      "File \u001B[0;32m~/miniforge3/envs/v3simulator/lib/python3.8/site-packages/pandas/core/indexing.py:2214\u001B[0m, in \u001B[0;36m_ScalarAccessIndexer.__getitem__\u001B[0;34m(self, key)\u001B[0m\n\u001B[1;32m   2211\u001B[0m         \u001B[38;5;28;01mraise\u001B[39;00m \u001B[38;5;167;01mValueError\u001B[39;00m(\u001B[38;5;124m\"\u001B[39m\u001B[38;5;124mInvalid call for scalar access (getting)!\u001B[39m\u001B[38;5;124m\"\u001B[39m)\n\u001B[1;32m   2213\u001B[0m key \u001B[38;5;241m=\u001B[39m \u001B[38;5;28mself\u001B[39m\u001B[38;5;241m.\u001B[39m_convert_key(key)\n\u001B[0;32m-> 2214\u001B[0m \u001B[38;5;28;01mreturn\u001B[39;00m \u001B[38;5;28;43mself\u001B[39;49m\u001B[38;5;241;43m.\u001B[39;49m\u001B[43mobj\u001B[49m\u001B[38;5;241;43m.\u001B[39;49m\u001B[43m_get_value\u001B[49m\u001B[43m(\u001B[49m\u001B[38;5;241;43m*\u001B[39;49m\u001B[43mkey\u001B[49m\u001B[43m,\u001B[49m\u001B[43m \u001B[49m\u001B[43mtakeable\u001B[49m\u001B[38;5;241;43m=\u001B[39;49m\u001B[38;5;28;43mself\u001B[39;49m\u001B[38;5;241;43m.\u001B[39;49m\u001B[43m_takeable\u001B[49m\u001B[43m)\u001B[49m\n",
      "File \u001B[0;32m~/miniforge3/envs/v3simulator/lib/python3.8/site-packages/pandas/core/frame.py:3615\u001B[0m, in \u001B[0;36mDataFrame._get_value\u001B[0;34m(self, index, col, takeable)\u001B[0m\n\u001B[1;32m   3612\u001B[0m     series \u001B[38;5;241m=\u001B[39m \u001B[38;5;28mself\u001B[39m\u001B[38;5;241m.\u001B[39m_ixs(col, axis\u001B[38;5;241m=\u001B[39m\u001B[38;5;241m1\u001B[39m)\n\u001B[1;32m   3613\u001B[0m     \u001B[38;5;28;01mreturn\u001B[39;00m series\u001B[38;5;241m.\u001B[39m_values[index]\n\u001B[0;32m-> 3615\u001B[0m series \u001B[38;5;241m=\u001B[39m \u001B[38;5;28;43mself\u001B[39;49m\u001B[38;5;241;43m.\u001B[39;49m\u001B[43m_get_item_cache\u001B[49m\u001B[43m(\u001B[49m\u001B[43mcol\u001B[49m\u001B[43m)\u001B[49m\n\u001B[1;32m   3616\u001B[0m engine \u001B[38;5;241m=\u001B[39m \u001B[38;5;28mself\u001B[39m\u001B[38;5;241m.\u001B[39mindex\u001B[38;5;241m.\u001B[39m_engine\n\u001B[1;32m   3618\u001B[0m \u001B[38;5;28;01mif\u001B[39;00m \u001B[38;5;129;01mnot\u001B[39;00m \u001B[38;5;28misinstance\u001B[39m(\u001B[38;5;28mself\u001B[39m\u001B[38;5;241m.\u001B[39mindex, MultiIndex):\n\u001B[1;32m   3619\u001B[0m     \u001B[38;5;66;03m# CategoricalIndex: Trying to use the engine fastpath may give incorrect\u001B[39;00m\n\u001B[1;32m   3620\u001B[0m     \u001B[38;5;66;03m#  results if our categories are integers that dont match our codes\u001B[39;00m\n\u001B[1;32m   3621\u001B[0m     \u001B[38;5;66;03m# IntervalIndex: IntervalTree has no get_loc\u001B[39;00m\n",
      "File \u001B[0;32m~/miniforge3/envs/v3simulator/lib/python3.8/site-packages/pandas/core/frame.py:3931\u001B[0m, in \u001B[0;36mDataFrame._get_item_cache\u001B[0;34m(self, item)\u001B[0m\n\u001B[1;32m   3926\u001B[0m res \u001B[38;5;241m=\u001B[39m cache\u001B[38;5;241m.\u001B[39mget(item)\n\u001B[1;32m   3927\u001B[0m \u001B[38;5;28;01mif\u001B[39;00m res \u001B[38;5;129;01mis\u001B[39;00m \u001B[38;5;28;01mNone\u001B[39;00m:\n\u001B[1;32m   3928\u001B[0m     \u001B[38;5;66;03m# All places that call _get_item_cache have unique columns,\u001B[39;00m\n\u001B[1;32m   3929\u001B[0m     \u001B[38;5;66;03m#  pending resolution of GH#33047\u001B[39;00m\n\u001B[0;32m-> 3931\u001B[0m     loc \u001B[38;5;241m=\u001B[39m \u001B[38;5;28;43mself\u001B[39;49m\u001B[38;5;241;43m.\u001B[39;49m\u001B[43mcolumns\u001B[49m\u001B[38;5;241;43m.\u001B[39;49m\u001B[43mget_loc\u001B[49m\u001B[43m(\u001B[49m\u001B[43mitem\u001B[49m\u001B[43m)\u001B[49m\n\u001B[1;32m   3932\u001B[0m     res \u001B[38;5;241m=\u001B[39m \u001B[38;5;28mself\u001B[39m\u001B[38;5;241m.\u001B[39m_ixs(loc, axis\u001B[38;5;241m=\u001B[39m\u001B[38;5;241m1\u001B[39m)\n\u001B[1;32m   3934\u001B[0m     cache[item] \u001B[38;5;241m=\u001B[39m res\n",
      "File \u001B[0;32m~/miniforge3/envs/v3simulator/lib/python3.8/site-packages/pandas/core/indexes/base.py:3623\u001B[0m, in \u001B[0;36mIndex.get_loc\u001B[0;34m(self, key, method, tolerance)\u001B[0m\n\u001B[1;32m   3621\u001B[0m     \u001B[38;5;28;01mreturn\u001B[39;00m \u001B[38;5;28mself\u001B[39m\u001B[38;5;241m.\u001B[39m_engine\u001B[38;5;241m.\u001B[39mget_loc(casted_key)\n\u001B[1;32m   3622\u001B[0m \u001B[38;5;28;01mexcept\u001B[39;00m \u001B[38;5;167;01mKeyError\u001B[39;00m \u001B[38;5;28;01mas\u001B[39;00m err:\n\u001B[0;32m-> 3623\u001B[0m     \u001B[38;5;28;01mraise\u001B[39;00m \u001B[38;5;167;01mKeyError\u001B[39;00m(key) \u001B[38;5;28;01mfrom\u001B[39;00m \u001B[38;5;21;01merr\u001B[39;00m\n\u001B[1;32m   3624\u001B[0m \u001B[38;5;28;01mexcept\u001B[39;00m \u001B[38;5;167;01mTypeError\u001B[39;00m:\n\u001B[1;32m   3625\u001B[0m     \u001B[38;5;66;03m# If we have a listlike key, _check_indexing_error will raise\u001B[39;00m\n\u001B[1;32m   3626\u001B[0m     \u001B[38;5;66;03m#  InvalidIndexError. Otherwise we fall through and re-raise\u001B[39;00m\n\u001B[1;32m   3627\u001B[0m     \u001B[38;5;66;03m#  the TypeError.\u001B[39;00m\n\u001B[1;32m   3628\u001B[0m     \u001B[38;5;28mself\u001B[39m\u001B[38;5;241m.\u001B[39m_check_indexing_error(key)\n",
      "\u001B[0;31mKeyError\u001B[0m: 'bnt'"
     ]
    }
   ],
   "source": [
    "for transaction in v3.json_data['operations']:\n",
    "    indx += 1\n",
    "    transaction_type = transaction['type']\n",
    "    user_name = transaction['userId']\n",
    "    mined = transaction['mined']\n",
    "    amt = transaction['amount'] if 'enable' not in transaction_type else Decimal(0)\n",
    "    if '{' in str(amt):\n",
    "        v3.price_feeds = pd.DataFrame({'INDX':[0],\n",
    "                            'bnt':[Decimal(amt['bntVirtualBalance'])],\n",
    "                            'tkn':[Decimal(amt['baseTokenVirtualBalance'])],\n",
    "        })\n",
    "    else:\n",
    "        amt = Decimal(amt)\n",
    "    tkn_name = 'bnt' if 'BNT' in transaction_type else 'tkn'\n",
    "    target_tkn = 'tkn' if tkn_name == 'bnt' else 'bnt'\n",
    "    if mined:\n",
    "        v3.global_state.timestep += 1\n",
    "        timestep = v3.global_state.timestep\n",
    "    if 'enable' in transaction_type:\n",
    "        v3.dao_msig_init_pools(['bnt','tkn'])\n",
    "    elif 'deposit' in transaction_type:\n",
    "        v3.stake(tkn_name=tkn_name, tkn_amt=amt, user_name=user_name, timestep=timestep)\n",
    "    elif 'trade' in transaction_type:\n",
    "        v3.trade(source_token=tkn_name, target_token=target_tkn, swap_amount=amt, user_name=user_name, timestep=timestep)\n",
    "    elif 'withdraw' in transaction_type:\n",
    "        id_number = v3.begin_cooldown(tkn_name=tkn_name,\n",
    "                                      withdraw_value=amt,\n",
    "                                      user_name=user_name,\n",
    "                                      timestep=timestep)\n",
    "        v3.withdraw(user_name=user_name, id_number=id_number, timestep=timestep)\n",
    "\n",
    "\n",
    "\n",
    "\n",
    "\n",
    "\n"
   ],
   "metadata": {
    "collapsed": false,
    "pycharm": {
     "name": "#%%\n"
    }
   }
  },
  {
   "cell_type": "code",
   "execution_count": null,
   "outputs": [],
   "source": [
    "# expected = transaction['expected']\n",
    "# collect = {\n",
    "#       \"indx\": [indx],\n",
    "#       \"action\": [transaction_type],\n",
    "#       \"amount\": [amt],\n",
    "#       \"tkn_dayTrader\": [Decimal(expected['tknBalances']['dayTrader']).quantize(QDECIMALS)],\n",
    "#       \"tkn_tknProvider\": [Decimal(expected['tknBalances']['tknProvider']).quantize(QDECIMALS)],\n",
    "#       \"tkn_bntProvider\": [Decimal(expected['tknBalances']['bntProvider']).quantize(QDECIMALS)],\n",
    "#       \"tkn_masterVault\": [Decimal(expected['tknBalances']['masterVault']).quantize(QDECIMALS)],\n",
    "#       \"tkn_epVault\": [Decimal(expected['tknBalances']['epVault']).quantize(QDECIMALS)],\n",
    "#       \"bnt_dayTrader\": [Decimal(expected['bntBalances']['dayTrader']).quantize(QDECIMALS)],\n",
    "#       \"bnt_tknProvider\": [Decimal(expected['bntBalances']['tknProvider']).quantize(QDECIMALS)],\n",
    "#       \"bnt_bntProvider\": [Decimal(expected['bntBalances']['bntProvider']).quantize(QDECIMALS)],\n",
    "#       \"bnt_masterVault\": [Decimal(expected['bntBalances']['masterVault']).quantize(QDECIMALS)],\n",
    "#       \"bntkn_dayTrader\": [Decimal(expected['bntknBalances']['dayTrader']).quantize(QDECIMALS)],\n",
    "#       \"bntkn_tknProvider\": [Decimal(expected['bntknBalances']['tknProvider']).quantize(QDECIMALS)],\n",
    "#       \"bntkn_bntProvider\": [Decimal(expected['bntknBalances']['bntProvider']).quantize(QDECIMALS)],\n",
    "#       \"bnbnt_dayTrader\": [Decimal(expected['bnbntBalances']['dayTrader']).quantize(QDECIMALS)],\n",
    "#       \"bnbnt_tknProvider\": [Decimal(expected['bnbntBalances']['tknProvider']).quantize(QDECIMALS)],\n",
    "#       \"bnbnt_bntProvider\": [Decimal(expected['bnbntBalances']['bntProvider']).quantize(QDECIMALS)],\n",
    "#       \"bnbnt_bntPool\": [Decimal(expected['bnbntBalances']['bntPool']).quantize(QDECIMALS)],\n",
    "#       \"bntCurrentPoolFunding\": [Decimal(expected['bntCurrentPoolFunding']).quantize(QDECIMALS)],\n",
    "#         \"tknStakedBalance\": [Decimal(expected['tknStakedBalance']).quantize(QDECIMALS)],\n",
    "#         \"bntStakedBalance\": [Decimal(expected['bntStakedBalance']).quantize(QDECIMALS)],\n",
    "#         \"tknTradingLiquidity\": [Decimal(expected['tknTradingLiquidity']).quantize(QDECIMALS)],\n",
    "#         \"bntTradingLiquidity\": [Decimal(expected['bntTradingLiquidity']).quantize(QDECIMALS)],\n",
    "# }\n",
    "# validation.append(pd.DataFrame(collect))\n",
    "#\n",
    "# collect = {\n",
    "#       \"indx\": [indx],\n",
    "#       \"action\": [transaction_type],\n",
    "#       \"amount\": [amt],\n",
    "#       \"tkn_dayTrader\": [v3.global_state.users.users['dayTrader'].wallet['tkn'].tkn_amt.quantize(QDECIMALS)],\n",
    "#       \"tkn_tknProvider\": [v3.global_state.users.users['tknProvider'].wallet['tkn'].tkn_amt.quantize(QDECIMALS)],\n",
    "#       \"tkn_bntProvider\": [v3.global_state.users.users['bntProvider'].wallet['tkn'].tkn_amt.quantize(QDECIMALS)],\n",
    "#       \"tkn_masterVault\": [v3.global_state.tokens['tkn'].vault_tkn.quantize(QDECIMALS)],\n",
    "#       \"tkn_epVault\": [v3.global_state.tokens['tkn'].external_protection_vault.quantize(QDECIMALS)],\n",
    "#       \"bnt_dayTrader\": [v3.global_state.users.users['dayTrader'].wallet['bnt'].tkn_amt.quantize(QDECIMALS)],\n",
    "#       \"bnt_tknProvider\": [v3.global_state.users.users['tknProvider'].wallet['bnt'].tkn_amt.quantize(QDECIMALS)],\n",
    "#       \"bnt_bntProvider\": [v3.global_state.users.users['bntProvider'].wallet['bnt'].tkn_amt.quantize(QDECIMALS)],\n",
    "#       \"bnt_masterVault\": [v3.global_state.vault_bnt.quantize(QDECIMALS)],\n",
    "#       \"bntkn_dayTrader\": [v3.global_state.users.users['dayTrader'].wallet['tkn'].bntkn_amt.quantize(QDECIMALS)],\n",
    "#       \"bntkn_tknProvider\": [v3.global_state.users.users['tknProvider'].wallet['tkn'].bntkn_amt.quantize(QDECIMALS)],\n",
    "#       \"bntkn_bntProvider\": [v3.global_state.users.users['bntProvider'].wallet['tkn'].bntkn_amt.quantize(QDECIMALS)],\n",
    "#       \"bnbnt_dayTrader\": [v3.global_state.users.users['dayTrader'].wallet['bnt'].bntkn_amt.quantize(QDECIMALS)],\n",
    "#       \"bnbnt_tknProvider\": [v3.global_state.users.users['tknProvider'].wallet['bnt'].bntkn_amt.quantize(QDECIMALS)],\n",
    "#       \"bnbnt_bntProvider\": [v3.global_state.users.users['bntProvider'].wallet['bnt'].bntkn_amt.quantize(QDECIMALS)],\n",
    "#       \"bnbnt_bntPool\": [v3.global_state.pr.quantize(QDECIMALS)],\n",
    "#         \"bntCurrentPoolFunding\": [v3.global_state.tokens['tkn'].bnt_funding_amount.quantize(QDECIMALS)],\n",
    "#         \"tknStakedBalance\": [v3.global_state.tokens['tkn'].staked_tkn.quantize(QDECIMALS)],\n",
    "#         \"bntStakedBalance\": [v3.global_state.staked_bnt.quantize(QDECIMALS)],\n",
    "#         \"tknTradingLiquidity\": [v3.global_state.tokens['tkn'].tkn_trading_liquidity.quantize(QDECIMALS)],\n",
    "#         \"bntTradingLiquidity\": [v3.global_state.tokens['tkn'].bnt_trading_liquidity.quantize(QDECIMALS)],\n",
    "# }\n",
    "# simulation.append(pd.DataFrame(collect))"
   ],
   "metadata": {
    "collapsed": false,
    "pycharm": {
     "name": "#%%\n"
    }
   }
  },
  {
   "cell_type": "code",
   "execution_count": null,
   "outputs": [],
   "source": [
    "# simulation, validation = pd.concat(simulation), pd.concat(validation)\n",
    "# simulation"
   ],
   "metadata": {
    "collapsed": false,
    "pycharm": {
     "name": "#%%\n"
    }
   }
  },
  {
   "cell_type": "code",
   "execution_count": null,
   "outputs": [],
   "source": [
    "# validation"
   ],
   "metadata": {
    "collapsed": false,
    "pycharm": {
     "name": "#%%\n"
    }
   }
  },
  {
   "cell_type": "code",
   "execution_count": null,
   "outputs": [],
   "source": [
    "# comparison = simulation.compare(validation)\n",
    "# comparison"
   ],
   "metadata": {
    "collapsed": false,
    "pycharm": {
     "name": "#%%\n"
    }
   }
  },
  {
   "cell_type": "code",
   "execution_count": null,
   "outputs": [],
   "source": [
    "# comparison = comparison.reset_index()\n",
    "# comparison"
   ],
   "metadata": {
    "collapsed": false,
    "pycharm": {
     "name": "#%%\n"
    }
   }
  },
  {
   "cell_type": "code",
   "execution_count": null,
   "outputs": [],
   "source": [],
   "metadata": {
    "collapsed": false,
    "pycharm": {
     "name": "#%%\n"
    }
   }
  }
 ],
 "metadata": {
  "kernelspec": {
   "name": "pycharm-c19c9c8d",
   "language": "python",
   "display_name": "PyCharm (simulator-v3)"
  },
  "language_info": {
   "codemirror_mode": {
    "name": "ipython",
    "version": 3
   },
   "file_extension": ".py",
   "mimetype": "text/x-python",
   "name": "python",
   "nbconvert_exporter": "python",
   "pygments_lexer": "ipython3",
   "version": "3.8.5"
  }
 },
 "nbformat": 4,
 "nbformat_minor": 2
}