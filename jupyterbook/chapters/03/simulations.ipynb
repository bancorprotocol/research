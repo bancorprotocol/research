{
 "cells": [
  {
   "cell_type": "code",
   "execution_count": 1,
   "metadata": {
    "tags": [
     "remove-input"
    ]
   },
   "outputs": [],
   "source": [
    "from datascience import *\n",
    "from datascience.predicates import are\n",
    "path_data = '../../../../data/'\n",
    "import numpy as np\n",
    "import matplotlib\n",
    "matplotlib.use('Agg')\n",
    "%matplotlib inline\n",
    "import matplotlib.pyplot as plots\n",
    "plots.style.use('fivethirtyeight')\n",
    "import warnings\n",
    "warnings.simplefilter(action=\"ignore\", category=FutureWarning)\n",
    "\n",
    "from urllib.request import urlopen\n",
    "import re\n",
    "from bancor3_simulator.protocol import BancorV3\n",
    "from bancor3_simulator.core.settings import GlobalSettings\n",
    "from decimal import Decimal\n",
    "from fractions import Fraction\n",
    "import pandas as pd\n",
    "\n",
    "cooldown_time: int = 7\n",
    "withdrawal_fee: Decimal = Decimal('0.0025')\n",
    "whitelisted_tokens: list = ['bnt', 'eth', 'wbtc', 'link']\n",
    "bnt_funding_limit: Decimal = Decimal('40000')\n",
    "bnt_min_liquidity: Decimal = Decimal('10000')\n",
    "price_feeds = pd.DataFrame({'INDX':[0],\n",
    "                            'bnt':[1.0],\n",
    "                            'tkn':[3.0],\n",
    "                            # 'link':[15.00],\n",
    "                            # 'eth':[2500.00],\n",
    "                            # 'wbtc':[40000.00],\n",
    "                            })\n",
    "\n",
    "network_fee: Decimal = Decimal('0.2')\n",
    "trading_fee: Decimal = Decimal('0.01')\n",
    "\n",
    "# There are other possible configuration settings available, however for the present purpose we will use the defaults.\n",
    "# v3 = BancorV3(whitelisted_tokens=whitelisted_tokens,\n",
    "#               network_fee=network_fee,\n",
    "#               trading_fee=trading_fee,\n",
    "#               cooldown_time=cooldown_time,\n",
    "#               withdrawal_fee=withdrawal_fee,\n",
    "#               bnt_min_liquidity=bnt_min_liquidity,\n",
    "#               bnt_funding_limit=bnt_funding_limit,\n",
    "#               price_feeds=price_feeds)\n",
    "\n",
    "# v3.create_user('Alice')\n",
    "# v3.create_user('Bob')\n",
    "# v3.create_user('Charlie')\n",
    "#\n",
    "# # The actual deposits.\n",
    "#\n",
    "# v3.stake(tkn_amt=100, tkn_name='eth', user_name='Alice')\n",
    "#\n",
    "# v3.stake(tkn_amt=10000, tkn_name='link', user_name='Charlie')\n",
    "#\n",
    "# v3.stake(tkn_amt=100, tkn_name='wbtc', user_name='Bob')\n",
    "#\n",
    "# v3.stake(tkn_amt=1, tkn_name='eth', user_name='Alice')\n",
    "#\n",
    "# v3.stake(tkn_amt=1, tkn_name='link', user_name='Charlie')\n",
    "#\n",
    "# v3.stake(tkn_amt=1, tkn_name='wbtc', user_name='Bob')\n",
    "#\n",
    "# v3.dao_msig_init_pools(whitelisted_tokens)\n",
    "#\n",
    "# v3.create_user('Trader')\n",
    "#\n",
    "# v3.trade(swap_amount=2000, source_token='bnt',  target_token='link', user_name='Trader', timestep=0)\n",
    "#\n",
    "# v3.trade(swap_amount=302.9981, source_token='link',  target_token='bnt', user_name='Trader', timestep=0)\n",
    "#\n",
    "# v3.trade(swap_amount=1, source_token='eth',  target_token='wbtc', user_name='Trader', timestep=0)\n",
    "\n",
    "def read_url(url):\n",
    "    return re.sub('\\\\s+', ' ', urlopen(url).read().decode())"
   ]
  },
  {
   "cell_type": "markdown",
   "metadata": {
    "pycharm": {
     "name": "#%% md\n"
    }
   },
   "source": [
    "<p align=\"center\">\n",
    "<img width=\"100%\" src=\"https://d9hhrg4mnvzow.cloudfront.net/try.bancor.network/5edb37d6-open-graph-bancor3_1000000000000000000028.png\" alt=\"bancor3\" />\n",
    "</p>\n",
    "\n",
    "* * * * * * * * * * * * * * * * * * * * * * * * * * * * * * * * * * * * * * * * * * * * * * * * * * * * * * * *\n",
    "\n",
    "# Simulation Example"
   ]
  },
  {
   "cell_type": "code",
   "execution_count": 2,
   "outputs": [
    {
     "data": {
      "text/plain": "(['tkn', 'bnt'], ['dayTrader', 'tknProvider', 'bntProvider'])"
     },
     "execution_count": 2,
     "metadata": {},
     "output_type": "execute_result"
    }
   ],
   "source": [
    "v3 = BancorV3(active_users=['dayTrader', 'tknProvider', 'bntProvider'],\n",
    "              whitelisted_tokens=['tkn','bnt'])\n",
    "\n",
    "v3.list_tokens, v3.list_users"
   ],
   "metadata": {
    "collapsed": false,
    "pycharm": {
     "name": "#%%\n"
    }
   }
  },
  {
   "cell_type": "code",
   "execution_count": 3,
   "outputs": [
    {
     "data": {
      "text/plain": "(['tkn', 'bnt'], ['dayTrader', 'tknProvider', 'bntProvider'])"
     },
     "execution_count": 3,
     "metadata": {},
     "output_type": "execute_result"
    }
   ],
   "source": [
    "v3.upload_json_simulation(path='/Users/mikewcasale/Local/projects/bancor/simulator-v3/bancor3_simulator/tests/data/BancorNetworkComplexFinancialScenario2.json')\n",
    "v3.list_tokens, v3.list_users"
   ],
   "metadata": {
    "collapsed": false,
    "pycharm": {
     "name": "#%%\n"
    }
   }
  },
  {
   "cell_type": "code",
   "execution_count": 4,
   "outputs": [
    {
     "data": {
      "text/plain": "           Trading Liquidity         Vault       Staking ERC20 Contracts  \\\n0                             bnt=0.000000  bnt=0.000000  bnbnt=0.000000   \n1  bnt=0.000000 tkn=0.000000  tkn=0.000000  tkn=0.000000  bntkn=0.000000   \n2                                                                          \n\n         Vortex External Protection Protocol Wallet  \n0  bnt=0.000000        tkn=0.000000  bnbnt=0.000000  \n1                      bnt=0.000000                  \n2                                                    ",
      "text/html": "<div>\n<style scoped>\n    .dataframe tbody tr th:only-of-type {\n        vertical-align: middle;\n    }\n\n    .dataframe tbody tr th {\n        vertical-align: top;\n    }\n\n    .dataframe thead th {\n        text-align: right;\n    }\n</style>\n<table border=\"1\" class=\"dataframe\">\n  <thead>\n    <tr style=\"text-align: right;\">\n      <th></th>\n      <th>Trading Liquidity</th>\n      <th>Vault</th>\n      <th>Staking</th>\n      <th>ERC20 Contracts</th>\n      <th>Vortex</th>\n      <th>External Protection</th>\n      <th>Protocol Wallet</th>\n    </tr>\n  </thead>\n  <tbody>\n    <tr>\n      <th>0</th>\n      <td></td>\n      <td>bnt=0.000000</td>\n      <td>bnt=0.000000</td>\n      <td>bnbnt=0.000000</td>\n      <td>bnt=0.000000</td>\n      <td>tkn=0.000000</td>\n      <td>bnbnt=0.000000</td>\n    </tr>\n    <tr>\n      <th>1</th>\n      <td>bnt=0.000000 tkn=0.000000</td>\n      <td>tkn=0.000000</td>\n      <td>tkn=0.000000</td>\n      <td>bntkn=0.000000</td>\n      <td></td>\n      <td>bnt=0.000000</td>\n      <td></td>\n    </tr>\n    <tr>\n      <th>2</th>\n      <td></td>\n      <td></td>\n      <td></td>\n      <td></td>\n      <td></td>\n      <td></td>\n      <td></td>\n    </tr>\n  </tbody>\n</table>\n</div>"
     },
     "execution_count": 4,
     "metadata": {},
     "output_type": "execute_result"
    }
   ],
   "source": [
    "# v3.json_data[0] 'dayTrader', 'tknProvider', 'bntProvider'\n",
    "v3.describe()"
   ],
   "metadata": {
    "collapsed": false,
    "pycharm": {
     "name": "#%%\n"
    }
   }
  },
  {
   "cell_type": "code",
   "execution_count": 5,
   "outputs": [
    {
     "data": {
      "text/plain": "      INDX  bnt  tkn  INDEX\n0        0  1.0  3.0      0\n1        0  1.0  3.0      1\n2        0  1.0  3.0      2\n3        0  1.0  3.0      3\n4        0  1.0  3.0      4\n...    ...  ...  ...    ...\n4995     0  1.0  3.0   4995\n4996     0  1.0  3.0   4996\n4997     0  1.0  3.0   4997\n4998     0  1.0  3.0   4998\n4999     0  1.0  3.0   4999\n\n[5000 rows x 4 columns]",
      "text/html": "<div>\n<style scoped>\n    .dataframe tbody tr th:only-of-type {\n        vertical-align: middle;\n    }\n\n    .dataframe tbody tr th {\n        vertical-align: top;\n    }\n\n    .dataframe thead th {\n        text-align: right;\n    }\n</style>\n<table border=\"1\" class=\"dataframe\">\n  <thead>\n    <tr style=\"text-align: right;\">\n      <th></th>\n      <th>INDX</th>\n      <th>bnt</th>\n      <th>tkn</th>\n      <th>INDEX</th>\n    </tr>\n  </thead>\n  <tbody>\n    <tr>\n      <th>0</th>\n      <td>0</td>\n      <td>1.0</td>\n      <td>3.0</td>\n      <td>0</td>\n    </tr>\n    <tr>\n      <th>1</th>\n      <td>0</td>\n      <td>1.0</td>\n      <td>3.0</td>\n      <td>1</td>\n    </tr>\n    <tr>\n      <th>2</th>\n      <td>0</td>\n      <td>1.0</td>\n      <td>3.0</td>\n      <td>2</td>\n    </tr>\n    <tr>\n      <th>3</th>\n      <td>0</td>\n      <td>1.0</td>\n      <td>3.0</td>\n      <td>3</td>\n    </tr>\n    <tr>\n      <th>4</th>\n      <td>0</td>\n      <td>1.0</td>\n      <td>3.0</td>\n      <td>4</td>\n    </tr>\n    <tr>\n      <th>...</th>\n      <td>...</td>\n      <td>...</td>\n      <td>...</td>\n      <td>...</td>\n    </tr>\n    <tr>\n      <th>4995</th>\n      <td>0</td>\n      <td>1.0</td>\n      <td>3.0</td>\n      <td>4995</td>\n    </tr>\n    <tr>\n      <th>4996</th>\n      <td>0</td>\n      <td>1.0</td>\n      <td>3.0</td>\n      <td>4996</td>\n    </tr>\n    <tr>\n      <th>4997</th>\n      <td>0</td>\n      <td>1.0</td>\n      <td>3.0</td>\n      <td>4997</td>\n    </tr>\n    <tr>\n      <th>4998</th>\n      <td>0</td>\n      <td>1.0</td>\n      <td>3.0</td>\n      <td>4998</td>\n    </tr>\n    <tr>\n      <th>4999</th>\n      <td>0</td>\n      <td>1.0</td>\n      <td>3.0</td>\n      <td>4999</td>\n    </tr>\n  </tbody>\n</table>\n<p>5000 rows × 4 columns</p>\n</div>"
     },
     "execution_count": 5,
     "metadata": {},
     "output_type": "execute_result"
    }
   ],
   "source": [
    "v3.price_feeds = pd.concat([price_feeds for x in range(5000)]).reset_index().drop('index', axis=1)\n",
    "v3.price_feeds['INDEX'] = v3.price_feeds.index\n",
    "v3.price_feeds"
   ],
   "metadata": {
    "collapsed": false,
    "pycharm": {
     "name": "#%%\n"
    }
   }
  },
  {
   "cell_type": "code",
   "execution_count": 6,
   "outputs": [],
   "source": [
    "# v3.global_state.users.users['dayTrader'].wallet['tkn'].tkn_amt = Decimal(10000)\n",
    "# v3.global_state.users.users['tknProvider'].wallet['tkn'].tkn_amt = Decimal(70000000)\n",
    "# v3.global_state.users.users['bntProvider'].wallet['tkn'].tkn_amt = Decimal(0)\n",
    "# v3.global_state.tokens['tkn'].vault_tkn = Decimal(30000000)\n",
    "# v3.global_state.tokens['tkn'].external_protection_vault = Decimal(0)\n",
    "# v3.global_state.users.users['dayTrader'].wallet['bnt'].tkn_amt = Decimal(1000)\n",
    "# v3.global_state.users.users['tknProvider'].wallet['bnt'].tkn_amt= Decimal(0)\n",
    "# v3.global_state.users.users['dayTrader'].wallet['bnt'].tkn_amt= Decimal(10000000)\n",
    "# v3.global_state.vault_bnt= Decimal(2000000)\n",
    "# v3.global_state.users.users['dayTrader'].wallet['tkn'].bntkn_amt= Decimal(0)\n",
    "# v3.global_state.users.users['tknProvider'].wallet['tkn'].bntkn_amt= Decimal(30000000)\n",
    "# v3.global_state.users.users['bntProvider'].wallet['tkn'].bntkn_amt= Decimal(0)\n",
    "# v3.global_state.users.users['dayTrader'].wallet['bnt'].bntkn_amt= Decimal(0)\n",
    "# v3.global_state.users.users['tknProvider'].wallet['bnt'].bntkn_amt= Decimal(0)\n",
    "# v3.global_state.users.users['bntProvider'].wallet['bnt'].bntkn_amt= Decimal(0)\n",
    "# v3.global_state.erc20contracts_bnbnt= Decimal(2000000)\n",
    "# v3.global_state.tokens['tkn'].bnt_funding_amount=Decimal(2000000)\n",
    "# v3.global_state.tokens['tkn'].staked_tkn=Decimal(30000000)\n",
    "# v3.global_state.staked_bnt=Decimal(2000000)\n",
    "# v3.global_state.tokens['tkn'].tkn_trading_liquidity=Decimal(6000000)\n",
    "# v3.global_state.tokens['tkn'].bnt_trading_liquidity=Decimal(2000000)"
   ],
   "metadata": {
    "collapsed": false,
    "pycharm": {
     "name": "#%%\n"
    }
   }
  },
  {
   "cell_type": "code",
   "execution_count": 7,
   "outputs": [],
   "source": [
    "timestep = 0\n",
    "simulation = []\n",
    "validation = []\n",
    "QDECIMALS = Decimal(10) ** -18\n",
    "indx = 0\n",
    "for transaction in v3.json_data['operations']:\n",
    "    indx += 1\n",
    "    transaction_type = transaction['type']\n",
    "    user_name = transaction['userId']\n",
    "    mined = transaction['mined']\n",
    "    amt = Decimal(transaction['amount']) if 'enable' not in transaction_type else Decimal(0)\n",
    "    tkn_name = 'bnt' if 'BNT' in transaction_type else 'tkn'\n",
    "    target_tkn = 'tkn' if tkn_name == 'bnt' else 'bnt'\n",
    "    if mined:\n",
    "        v3.global_state.timestep += 1\n",
    "        timestep = v3.global_state.timestep\n",
    "    if 'enable' in transaction_type:\n",
    "        # v3.enable_trading('tkn')\n",
    "        # v3.enable_trading('bnt')\n",
    "        v3.dao_msig_init_pools(['bnt','tkn'])\n",
    "        # v3.global_state.users.users['dayTrader'].wallet['tkn'].tkn_amt = Decimal(10000)\n",
    "        # v3.global_state.users.users['tknProvider'].wallet['tkn'].tkn_amt = Decimal(70000000)\n",
    "        # v3.global_state.users.users['bntProvider'].wallet['tkn'].tkn_amt = Decimal(0)\n",
    "        # v3.global_state.tokens['tkn'].vault_tkn = Decimal(30000000)\n",
    "        # v3.global_state.tokens['tkn'].external_protection_vault = Decimal(0)\n",
    "        # v3.global_state.users.users['dayTrader'].wallet['bnt'].tkn_amt = Decimal(10000)\n",
    "        # v3.global_state.users.users['tknProvider'].wallet['bnt'].tkn_amt= Decimal(0)\n",
    "        # v3.global_state.users.users['bntProvider'].wallet['bnt'].tkn_amt= Decimal(10000000)\n",
    "        # v3.global_state.vault_bnt= Decimal(2000000)\n",
    "        # v3.global_state.users.users['dayTrader'].wallet['tkn'].bntkn_amt= Decimal(0)\n",
    "        # v3.global_state.users.users['tknProvider'].wallet['tkn'].bntkn_amt= Decimal(30000000)\n",
    "        # v3.global_state.users.users['bntProvider'].wallet['tkn'].bntkn_amt= Decimal(0)\n",
    "        # v3.global_state.users.users['dayTrader'].wallet['bnt'].bntkn_amt= Decimal(0)\n",
    "        # v3.global_state.users.users['tknProvider'].wallet['bnt'].bntkn_amt= Decimal(0)\n",
    "        # v3.global_state.users.users['bntProvider'].wallet['bnt'].bntkn_amt= Decimal(0)\n",
    "        # v3.global_state.tokens[tkn_name].erc20contracts_bntkn = Decimal(2000000)\n",
    "        # v3.global_state.tokens['tkn'].bnt_funding_amount=Decimal(2000000)\n",
    "        # v3.global_state.tokens['tkn'].staked_tkn=Decimal(30000000)\n",
    "        # v3.global_state.staked_bnt=Decimal(2000000)\n",
    "        # v3.global_state.tokens['tkn'].tkn_trading_liquidity=Decimal(6000000)\n",
    "        # v3.global_state.tokens['tkn'].bnt_trading_liquidity=Decimal(2000000)\n",
    "\n",
    "    elif 'deposit' in transaction_type:\n",
    "        v3.stake(tkn_name=tkn_name, tkn_amt=amt, user_name=user_name, timestep=timestep)\n",
    "    elif 'trade' in transaction_type:\n",
    "        v3.trade(source_token=tkn_name, target_token=target_tkn, swap_amount=amt, user_name=user_name, timestep=timestep)\n",
    "    elif 'withdraw' in transaction_type:\n",
    "        id_number = v3.begin_cooldown(tkn_name=tkn_name,\n",
    "                                      withdraw_value=amt,\n",
    "                                      user_name=user_name,\n",
    "                                      timestep=timestep)\n",
    "        v3.withdraw(user_name=user_name, id_number=id_number, timestep=timestep)\n",
    "\n",
    "    # expected = {\n",
    "    #     \"tknBalances\": {\n",
    "    #       \"dayTrader\": \"10000\",\n",
    "    #       \"tknProvider\": \"70000000\",\n",
    "    #       \"bntProvider\": \"0\",\n",
    "    #       \"masterVault\": \"30000000\",\n",
    "    #       \"epVault\": \"0\"\n",
    "    #     },\n",
    "    #     \"bntBalances\": {\n",
    "    #       \"dayTrader\": \"10000\",\n",
    "    #       \"tknProvider\": \"0\",\n",
    "    #       \"bntProvider\": \"10000000\",\n",
    "    #       \"masterVault\": \"2000000\"\n",
    "    #     },\n",
    "    #     \"bntknBalances\": {\n",
    "    #       \"dayTrader\": \"0\",\n",
    "    #       \"tknProvider\": \"30000000\",\n",
    "    #       \"bntProvider\": \"0\"\n",
    "    #     },\n",
    "    #     \"bnbntBalances\": {\n",
    "    #       \"dayTrader\": \"0\",\n",
    "    #       \"tknProvider\": \"0\",\n",
    "    #       \"bntProvider\": \"0\",\n",
    "    #       \"bntPool\": \"2000000\"\n",
    "    #     },\n",
    "    #     \"bntCurrentPoolFunding\": \"2000000\",\n",
    "    #     \"tknStakedBalance\": \"30000000\",\n",
    "    #     \"bntStakedBalance\": \"2000000\",\n",
    "    #     \"tknTradingLiquidity\": \"6000000\",\n",
    "    #     \"bntTradingLiquidity\": \"2000000\"\n",
    "    #   }\n",
    "    # }\n",
    "\n",
    "    expected = transaction['expected']\n",
    "    collect = {\n",
    "          \"indx\": [indx],\n",
    "          \"action\": [transaction_type],\n",
    "          \"amount\": [amt],\n",
    "          \"tkn_dayTrader\": [Decimal(expected['tknBalances']['dayTrader']).quantize(QDECIMALS)],\n",
    "          \"tkn_tknProvider\": [Decimal(expected['tknBalances']['tknProvider']).quantize(QDECIMALS)],\n",
    "          \"tkn_bntProvider\": [Decimal(expected['tknBalances']['bntProvider']).quantize(QDECIMALS)],\n",
    "          \"tkn_masterVault\": [Decimal(expected['tknBalances']['masterVault']).quantize(QDECIMALS)],\n",
    "          \"tkn_epVault\": [Decimal(expected['tknBalances']['epVault']).quantize(QDECIMALS)],\n",
    "          \"bnt_dayTrader\": [Decimal(expected['bntBalances']['dayTrader']).quantize(QDECIMALS)],\n",
    "          \"bnt_tknProvider\": [Decimal(expected['bntBalances']['tknProvider']).quantize(QDECIMALS)],\n",
    "          \"bnt_bntProvider\": [Decimal(expected['bntBalances']['bntProvider']).quantize(QDECIMALS)],\n",
    "          \"bnt_masterVault\": [Decimal(expected['bntBalances']['masterVault']).quantize(QDECIMALS)],\n",
    "          \"bntkn_dayTrader\": [Decimal(expected['bntknBalances']['dayTrader']).quantize(QDECIMALS)],\n",
    "          \"bntkn_tknProvider\": [Decimal(expected['bntknBalances']['tknProvider']).quantize(QDECIMALS)],\n",
    "          \"bntkn_bntProvider\": [Decimal(expected['bntknBalances']['bntProvider']).quantize(QDECIMALS)],\n",
    "          \"bnbnt_dayTrader\": [Decimal(expected['bnbntBalances']['dayTrader']).quantize(QDECIMALS)],\n",
    "          \"bnbnt_tknProvider\": [Decimal(expected['bnbntBalances']['tknProvider']).quantize(QDECIMALS)],\n",
    "          \"bnbnt_bntProvider\": [Decimal(expected['bnbntBalances']['bntProvider']).quantize(QDECIMALS)],\n",
    "          \"bnbnt_bntPool\": [Decimal(expected['bnbntBalances']['bntPool']).quantize(QDECIMALS)],\n",
    "          \"bntCurrentPoolFunding\": [Decimal(expected['bntCurrentPoolFunding']).quantize(QDECIMALS)],\n",
    "            \"tknStakedBalance\": [Decimal(expected['tknStakedBalance']).quantize(QDECIMALS)],\n",
    "            \"bntStakedBalance\": [Decimal(expected['bntStakedBalance']).quantize(QDECIMALS)],\n",
    "            \"tknTradingLiquidity\": [Decimal(expected['tknTradingLiquidity']).quantize(QDECIMALS)],\n",
    "            \"bntTradingLiquidity\": [Decimal(expected['bntTradingLiquidity']).quantize(QDECIMALS)],\n",
    "    }\n",
    "    validation.append(pd.DataFrame(collect))\n",
    "\n",
    "    collect = {\n",
    "          \"indx\": [indx],\n",
    "          \"action\": [transaction_type],\n",
    "          \"amount\": [amt],\n",
    "          \"tkn_dayTrader\": [v3.global_state.users.users['dayTrader'].wallet['tkn'].tkn_amt.quantize(QDECIMALS)],\n",
    "          \"tkn_tknProvider\": [v3.global_state.users.users['tknProvider'].wallet['tkn'].tkn_amt.quantize(QDECIMALS)],\n",
    "          \"tkn_bntProvider\": [v3.global_state.users.users['bntProvider'].wallet['tkn'].tkn_amt.quantize(QDECIMALS)],\n",
    "          \"tkn_masterVault\": [v3.global_state.tokens['tkn'].vault_tkn.quantize(QDECIMALS)],\n",
    "          \"tkn_epVault\": [v3.global_state.tokens['tkn'].external_protection_vault.quantize(QDECIMALS)],\n",
    "          \"bnt_dayTrader\": [v3.global_state.users.users['dayTrader'].wallet['bnt'].tkn_amt.quantize(QDECIMALS)],\n",
    "          \"bnt_tknProvider\": [v3.global_state.users.users['tknProvider'].wallet['bnt'].tkn_amt.quantize(QDECIMALS)],\n",
    "          \"bnt_bntProvider\": [v3.global_state.users.users['bntProvider'].wallet['bnt'].tkn_amt.quantize(QDECIMALS)],\n",
    "          \"bnt_masterVault\": [v3.global_state.vault_bnt.quantize(QDECIMALS)],\n",
    "          \"bntkn_dayTrader\": [v3.global_state.users.users['dayTrader'].wallet['tkn'].bntkn_amt.quantize(QDECIMALS)],\n",
    "          \"bntkn_tknProvider\": [v3.global_state.users.users['tknProvider'].wallet['tkn'].bntkn_amt.quantize(QDECIMALS)],\n",
    "          \"bntkn_bntProvider\": [v3.global_state.users.users['bntProvider'].wallet['tkn'].bntkn_amt.quantize(QDECIMALS)],\n",
    "          \"bnbnt_dayTrader\": [v3.global_state.users.users['dayTrader'].wallet['bnt'].bntkn_amt.quantize(QDECIMALS)],\n",
    "          \"bnbnt_tknProvider\": [v3.global_state.users.users['tknProvider'].wallet['bnt'].bntkn_amt.quantize(QDECIMALS)],\n",
    "          \"bnbnt_bntProvider\": [v3.global_state.users.users['bntProvider'].wallet['bnt'].bntkn_amt.quantize(QDECIMALS)],\n",
    "          \"bnbnt_bntPool\": [v3.global_state.pr.quantize(QDECIMALS)],\n",
    "            \"bntCurrentPoolFunding\": [v3.global_state.tokens['tkn'].bnt_funding_amount.quantize(QDECIMALS)],\n",
    "            \"tknStakedBalance\": [v3.global_state.tokens['tkn'].staked_tkn.quantize(QDECIMALS)],\n",
    "            \"bntStakedBalance\": [v3.global_state.staked_bnt.quantize(QDECIMALS)],\n",
    "            \"tknTradingLiquidity\": [v3.global_state.tokens['tkn'].tkn_trading_liquidity.quantize(QDECIMALS)],\n",
    "            \"bntTradingLiquidity\": [v3.global_state.tokens['tkn'].bnt_trading_liquidity.quantize(QDECIMALS)],\n",
    "    }\n",
    "    simulation.append(pd.DataFrame(collect))\n",
    "\n",
    "\n",
    "\n",
    "\n"
   ],
   "metadata": {
    "collapsed": false,
    "pycharm": {
     "name": "#%%\n"
    }
   }
  },
  {
   "cell_type": "code",
   "execution_count": 8,
   "outputs": [
    {
     "data": {
      "text/plain": "    indx         action    amount              tkn_dayTrader  \\\n0      1     depositTKN  30000000   10000.000000000000000000   \n0      2  enableTrading         0   10000.000000000000000000   \n0      3     depositTKN   1000000   10000.000000000000000000   \n0      4     depositBNT    100000   10000.000000000000000000   \n0      5       tradeTKN      2000   13967.098703888334995015   \n..   ...            ...       ...                        ...   \n0    997       tradeBNT       379  146809.816577734424333131   \n0    998     depositTKN     41257  146809.816577734424333131   \n0    999     depositTKN     26844  146809.816577734424333131   \n0   1000     depositBNT     54905  146809.816577734424333131   \n0   1001       tradeBNT        72  146809.816577734424333131   \n\n                tkn_tknProvider tkn_bntProvider              tkn_masterVault  \\\n0   70000000.000000000000000000           0E-18  30000000.000000000000000000   \n0   70000000.000000000000000000           0E-18  30000000.000000000000000000   \n0   69000000.000000000000000000           0E-18  31000000.000000000000000000   \n0   69000000.000000000000000000           0E-18  31000000.000000000000000000   \n0   69000000.000000000000000000           0E-18  31002000.000000000000000000   \n..                          ...             ...                          ...   \n0   57176803.000000000000000000           0E-18  42892337.947613935853009618   \n0   57135546.000000000000000000           0E-18  42933594.947613935853009618   \n0   57108702.000000000000000000           0E-18  42960438.947613935853009618   \n0   57108702.000000000000000000           0E-18  42960438.947613935853009618   \n0   57108702.000000000000000000           0E-18  42960409.793115981456115812   \n\n   tkn_epVault             bnt_dayTrader bnt_tknProvider  ...  \\\n0        0E-18  10000.000000000000000000           0E-18  ...   \n0        0E-18  10000.000000000000000000           0E-18  ...   \n0        0E-18  10000.000000000000000000           0E-18  ...   \n0        0E-18  10000.000000000000000000           0E-18  ...   \n0        0E-18  10000.000000000000000000           0E-18  ...   \n..         ...                       ...             ...  ...   \n0        0E-18  -8610.947613935853009618           0E-18  ...   \n0        0E-18  -8610.947613935853009618           0E-18  ...   \n0        0E-18  -8610.947613935853009618           0E-18  ...   \n0        0E-18  -8610.947613935853009618           0E-18  ...   \n0        0E-18  -8653.793115981456115812           0E-18  ...   \n\n   bntkn_bntProvider bnbnt_dayTrader bnbnt_tknProvider  \\\n0              0E-18           0E-18             0E-18   \n0              0E-18           0E-18             0E-18   \n0              0E-18           0E-18             0E-18   \n0              0E-18           0E-18             0E-18   \n0              0E-18           0E-18             0E-18   \n..               ...             ...               ...   \n0              0E-18           0E-18             0E-18   \n0              0E-18           0E-18             0E-18   \n0              0E-18           0E-18             0E-18   \n0              0E-18           0E-18             0E-18   \n0              0E-18           0E-18             0E-18   \n\n             bnbnt_bntProvider               bnbnt_bntPool  \\\n0                        0E-18                       0E-18   \n0                        0E-18  2000000.000000000000000000   \n0                        0E-18  2000000.000000000000000000   \n0    100000.000000000000000000  2000000.000000000000000000   \n0    100000.000000000000000000  2000000.000000000000000000   \n..                         ...                         ...   \n0   1666968.141863953253151932  2000000.000000000000000000   \n0   1666968.141863953253151932  2000000.000000000000000000   \n0   1666968.141863953253151932  2000000.000000000000000000   \n0   1721861.218932615825710712  2000000.000000000000000000   \n0   1721861.218932615825710712  2000000.000000000000000000   \n\n         bntCurrentPoolFunding             tknStakedBalance  \\\n0                        0E-18  30000000.000000000000000000   \n0   2000000.000000000000000000  30000000.000000000000000000   \n0   2000000.000000000000000000  31000000.000000000000000000   \n0   2000000.000000000000000000  31000000.000000000000000000   \n0   2000011.964107676969092722  31000000.000000000000000000   \n..                         ...                          ...   \n0   2000434.405647273652981119  42823218.471784232710069154   \n0   2000434.405647273652981119  42864475.471784232710069154   \n0   2000434.405647273652981119  42891319.471784232710069154   \n0   2000434.405647273652981119  42891319.471784232710069154   \n0   2000434.405647273652981119  42891319.530239366453220820   \n\n              bntStakedBalance        tknTradingLiquidity  \\\n0                        0E-18                      0E-18   \n0   2000000.000000000000000000  666666.666666666666666667   \n0   2000000.000000000000000000  666666.666666666666666667   \n0   2000000.000000000000000000  666666.666666666666666667   \n0   2000011.964107676969092722  668666.666666666666666667   \n..                         ...                        ...   \n0   2000434.405647273652981119  735807.614280602519676284   \n0   2000434.405647273652981119  735807.614280602519676284   \n0   2000434.405647273652981119  735807.614280602519676284   \n0   2000434.405647273652981119  735807.614280602519676284   \n0   2000434.405647273652981119  735778.459782648122782478   \n\n           bntTradingLiquidity  \n0                        0E-18  \n0   2000000.000000000000000000  \n0   2000000.000000000000000000  \n0   2000000.000000000000000000  \n0   1994029.910269192422731805  \n..                         ...  \n0   1812536.913392831175784838  \n0   1812536.913392831175784838  \n0   1812536.913392831175784838  \n0   1812536.913392831175784838  \n0   1812608.877391404711184789  \n\n[1001 rows x 24 columns]",
      "text/html": "<div>\n<style scoped>\n    .dataframe tbody tr th:only-of-type {\n        vertical-align: middle;\n    }\n\n    .dataframe tbody tr th {\n        vertical-align: top;\n    }\n\n    .dataframe thead th {\n        text-align: right;\n    }\n</style>\n<table border=\"1\" class=\"dataframe\">\n  <thead>\n    <tr style=\"text-align: right;\">\n      <th></th>\n      <th>indx</th>\n      <th>action</th>\n      <th>amount</th>\n      <th>tkn_dayTrader</th>\n      <th>tkn_tknProvider</th>\n      <th>tkn_bntProvider</th>\n      <th>tkn_masterVault</th>\n      <th>tkn_epVault</th>\n      <th>bnt_dayTrader</th>\n      <th>bnt_tknProvider</th>\n      <th>...</th>\n      <th>bntkn_bntProvider</th>\n      <th>bnbnt_dayTrader</th>\n      <th>bnbnt_tknProvider</th>\n      <th>bnbnt_bntProvider</th>\n      <th>bnbnt_bntPool</th>\n      <th>bntCurrentPoolFunding</th>\n      <th>tknStakedBalance</th>\n      <th>bntStakedBalance</th>\n      <th>tknTradingLiquidity</th>\n      <th>bntTradingLiquidity</th>\n    </tr>\n  </thead>\n  <tbody>\n    <tr>\n      <th>0</th>\n      <td>1</td>\n      <td>depositTKN</td>\n      <td>30000000</td>\n      <td>10000.000000000000000000</td>\n      <td>70000000.000000000000000000</td>\n      <td>0E-18</td>\n      <td>30000000.000000000000000000</td>\n      <td>0E-18</td>\n      <td>10000.000000000000000000</td>\n      <td>0E-18</td>\n      <td>...</td>\n      <td>0E-18</td>\n      <td>0E-18</td>\n      <td>0E-18</td>\n      <td>0E-18</td>\n      <td>0E-18</td>\n      <td>0E-18</td>\n      <td>30000000.000000000000000000</td>\n      <td>0E-18</td>\n      <td>0E-18</td>\n      <td>0E-18</td>\n    </tr>\n    <tr>\n      <th>0</th>\n      <td>2</td>\n      <td>enableTrading</td>\n      <td>0</td>\n      <td>10000.000000000000000000</td>\n      <td>70000000.000000000000000000</td>\n      <td>0E-18</td>\n      <td>30000000.000000000000000000</td>\n      <td>0E-18</td>\n      <td>10000.000000000000000000</td>\n      <td>0E-18</td>\n      <td>...</td>\n      <td>0E-18</td>\n      <td>0E-18</td>\n      <td>0E-18</td>\n      <td>0E-18</td>\n      <td>2000000.000000000000000000</td>\n      <td>2000000.000000000000000000</td>\n      <td>30000000.000000000000000000</td>\n      <td>2000000.000000000000000000</td>\n      <td>666666.666666666666666667</td>\n      <td>2000000.000000000000000000</td>\n    </tr>\n    <tr>\n      <th>0</th>\n      <td>3</td>\n      <td>depositTKN</td>\n      <td>1000000</td>\n      <td>10000.000000000000000000</td>\n      <td>69000000.000000000000000000</td>\n      <td>0E-18</td>\n      <td>31000000.000000000000000000</td>\n      <td>0E-18</td>\n      <td>10000.000000000000000000</td>\n      <td>0E-18</td>\n      <td>...</td>\n      <td>0E-18</td>\n      <td>0E-18</td>\n      <td>0E-18</td>\n      <td>0E-18</td>\n      <td>2000000.000000000000000000</td>\n      <td>2000000.000000000000000000</td>\n      <td>31000000.000000000000000000</td>\n      <td>2000000.000000000000000000</td>\n      <td>666666.666666666666666667</td>\n      <td>2000000.000000000000000000</td>\n    </tr>\n    <tr>\n      <th>0</th>\n      <td>4</td>\n      <td>depositBNT</td>\n      <td>100000</td>\n      <td>10000.000000000000000000</td>\n      <td>69000000.000000000000000000</td>\n      <td>0E-18</td>\n      <td>31000000.000000000000000000</td>\n      <td>0E-18</td>\n      <td>10000.000000000000000000</td>\n      <td>0E-18</td>\n      <td>...</td>\n      <td>0E-18</td>\n      <td>0E-18</td>\n      <td>0E-18</td>\n      <td>100000.000000000000000000</td>\n      <td>2000000.000000000000000000</td>\n      <td>2000000.000000000000000000</td>\n      <td>31000000.000000000000000000</td>\n      <td>2000000.000000000000000000</td>\n      <td>666666.666666666666666667</td>\n      <td>2000000.000000000000000000</td>\n    </tr>\n    <tr>\n      <th>0</th>\n      <td>5</td>\n      <td>tradeTKN</td>\n      <td>2000</td>\n      <td>13967.098703888334995015</td>\n      <td>69000000.000000000000000000</td>\n      <td>0E-18</td>\n      <td>31002000.000000000000000000</td>\n      <td>0E-18</td>\n      <td>10000.000000000000000000</td>\n      <td>0E-18</td>\n      <td>...</td>\n      <td>0E-18</td>\n      <td>0E-18</td>\n      <td>0E-18</td>\n      <td>100000.000000000000000000</td>\n      <td>2000000.000000000000000000</td>\n      <td>2000011.964107676969092722</td>\n      <td>31000000.000000000000000000</td>\n      <td>2000011.964107676969092722</td>\n      <td>668666.666666666666666667</td>\n      <td>1994029.910269192422731805</td>\n    </tr>\n    <tr>\n      <th>...</th>\n      <td>...</td>\n      <td>...</td>\n      <td>...</td>\n      <td>...</td>\n      <td>...</td>\n      <td>...</td>\n      <td>...</td>\n      <td>...</td>\n      <td>...</td>\n      <td>...</td>\n      <td>...</td>\n      <td>...</td>\n      <td>...</td>\n      <td>...</td>\n      <td>...</td>\n      <td>...</td>\n      <td>...</td>\n      <td>...</td>\n      <td>...</td>\n      <td>...</td>\n      <td>...</td>\n    </tr>\n    <tr>\n      <th>0</th>\n      <td>997</td>\n      <td>tradeBNT</td>\n      <td>379</td>\n      <td>146809.816577734424333131</td>\n      <td>57176803.000000000000000000</td>\n      <td>0E-18</td>\n      <td>42892337.947613935853009618</td>\n      <td>0E-18</td>\n      <td>-8610.947613935853009618</td>\n      <td>0E-18</td>\n      <td>...</td>\n      <td>0E-18</td>\n      <td>0E-18</td>\n      <td>0E-18</td>\n      <td>1666968.141863953253151932</td>\n      <td>2000000.000000000000000000</td>\n      <td>2000434.405647273652981119</td>\n      <td>42823218.471784232710069154</td>\n      <td>2000434.405647273652981119</td>\n      <td>735807.614280602519676284</td>\n      <td>1812536.913392831175784838</td>\n    </tr>\n    <tr>\n      <th>0</th>\n      <td>998</td>\n      <td>depositTKN</td>\n      <td>41257</td>\n      <td>146809.816577734424333131</td>\n      <td>57135546.000000000000000000</td>\n      <td>0E-18</td>\n      <td>42933594.947613935853009618</td>\n      <td>0E-18</td>\n      <td>-8610.947613935853009618</td>\n      <td>0E-18</td>\n      <td>...</td>\n      <td>0E-18</td>\n      <td>0E-18</td>\n      <td>0E-18</td>\n      <td>1666968.141863953253151932</td>\n      <td>2000000.000000000000000000</td>\n      <td>2000434.405647273652981119</td>\n      <td>42864475.471784232710069154</td>\n      <td>2000434.405647273652981119</td>\n      <td>735807.614280602519676284</td>\n      <td>1812536.913392831175784838</td>\n    </tr>\n    <tr>\n      <th>0</th>\n      <td>999</td>\n      <td>depositTKN</td>\n      <td>26844</td>\n      <td>146809.816577734424333131</td>\n      <td>57108702.000000000000000000</td>\n      <td>0E-18</td>\n      <td>42960438.947613935853009618</td>\n      <td>0E-18</td>\n      <td>-8610.947613935853009618</td>\n      <td>0E-18</td>\n      <td>...</td>\n      <td>0E-18</td>\n      <td>0E-18</td>\n      <td>0E-18</td>\n      <td>1666968.141863953253151932</td>\n      <td>2000000.000000000000000000</td>\n      <td>2000434.405647273652981119</td>\n      <td>42891319.471784232710069154</td>\n      <td>2000434.405647273652981119</td>\n      <td>735807.614280602519676284</td>\n      <td>1812536.913392831175784838</td>\n    </tr>\n    <tr>\n      <th>0</th>\n      <td>1000</td>\n      <td>depositBNT</td>\n      <td>54905</td>\n      <td>146809.816577734424333131</td>\n      <td>57108702.000000000000000000</td>\n      <td>0E-18</td>\n      <td>42960438.947613935853009618</td>\n      <td>0E-18</td>\n      <td>-8610.947613935853009618</td>\n      <td>0E-18</td>\n      <td>...</td>\n      <td>0E-18</td>\n      <td>0E-18</td>\n      <td>0E-18</td>\n      <td>1721861.218932615825710712</td>\n      <td>2000000.000000000000000000</td>\n      <td>2000434.405647273652981119</td>\n      <td>42891319.471784232710069154</td>\n      <td>2000434.405647273652981119</td>\n      <td>735807.614280602519676284</td>\n      <td>1812536.913392831175784838</td>\n    </tr>\n    <tr>\n      <th>0</th>\n      <td>1001</td>\n      <td>tradeBNT</td>\n      <td>72</td>\n      <td>146809.816577734424333131</td>\n      <td>57108702.000000000000000000</td>\n      <td>0E-18</td>\n      <td>42960409.793115981456115812</td>\n      <td>0E-18</td>\n      <td>-8653.793115981456115812</td>\n      <td>0E-18</td>\n      <td>...</td>\n      <td>0E-18</td>\n      <td>0E-18</td>\n      <td>0E-18</td>\n      <td>1721861.218932615825710712</td>\n      <td>2000000.000000000000000000</td>\n      <td>2000434.405647273652981119</td>\n      <td>42891319.530239366453220820</td>\n      <td>2000434.405647273652981119</td>\n      <td>735778.459782648122782478</td>\n      <td>1812608.877391404711184789</td>\n    </tr>\n  </tbody>\n</table>\n<p>1001 rows × 24 columns</p>\n</div>"
     },
     "execution_count": 8,
     "metadata": {},
     "output_type": "execute_result"
    }
   ],
   "source": [
    "simulation, validation = pd.concat(simulation), pd.concat(validation)\n",
    "simulation"
   ],
   "metadata": {
    "collapsed": false,
    "pycharm": {
     "name": "#%%\n"
    }
   }
  },
  {
   "cell_type": "code",
   "execution_count": 9,
   "outputs": [
    {
     "data": {
      "text/plain": "    indx         action    amount             tkn_dayTrader  \\\n0      1     depositTKN  30000000  10000.000000000000000000   \n0      2  enableTrading         0  10000.000000000000000000   \n0      3     depositTKN   1000000  10000.000000000000000000   \n0      4     depositBNT    100000  10000.000000000000000000   \n0      5       tradeTKN      2000   8000.000000000000000000   \n..   ...            ...       ...                       ...   \n0    997       tradeBNT       379  17891.845562623752506460   \n0    998     depositTKN     41257  17891.845562623752506460   \n0    999     depositTKN     26844  17891.845562623752506460   \n0   1000     depositBNT     54905  17891.845562623752506460   \n0   1001       tradeBNT        72  18107.430386442856790549   \n\n                tkn_tknProvider tkn_bntProvider              tkn_masterVault  \\\n0   70000000.000000000000000000           0E-18  30000000.000000000000000000   \n0   70000000.000000000000000000           0E-18  30000000.000000000000000000   \n0   69000000.000000000000000000           0E-18  31000000.000000000000000000   \n0   69000000.000000000000000000           0E-18  31000000.000000000000000000   \n0   69000000.000000000000000000           0E-18  31002000.000000000000000000   \n..                          ...             ...                          ...   \n0   63818898.789358394846297357           0E-18  36173209.365078981401196183   \n0   63777641.789358394846297357           0E-18  36214466.365078981401196183   \n0   63750797.789358394846297357           0E-18  36241310.365078981401196183   \n0   63750797.789358394846297357           0E-18  36241310.365078981401196183   \n0   63750797.789358394846297357           0E-18  36241094.780255162296912094   \n\n   tkn_epVault             bnt_dayTrader bnt_tknProvider  ...  \\\n0        0E-18  10000.000000000000000000           0E-18  ...   \n0        0E-18  10000.000000000000000000           0E-18  ...   \n0        0E-18  10000.000000000000000000           0E-18  ...   \n0        0E-18  10000.000000000000000000           0E-18  ...   \n0        0E-18  10664.889185135810698217           0E-18  ...   \n..         ...                       ...             ...  ...   \n0        0E-18   7223.465600780120416778           0E-18  ...   \n0        0E-18   7223.465600780120416778           0E-18  ...   \n0        0E-18   7223.465600780120416778           0E-18  ...   \n0        0E-18   7223.465600780120416778           0E-18  ...   \n0        0E-18   7151.465600780120416778           0E-18  ...   \n\n   bntkn_bntProvider bnbnt_dayTrader bnbnt_tknProvider  \\\n0              0E-18           0E-18             0E-18   \n0              0E-18           0E-18             0E-18   \n0              0E-18           0E-18             0E-18   \n0              0E-18           0E-18             0E-18   \n0              0E-18           0E-18             0E-18   \n..               ...             ...               ...   \n0              0E-18           0E-18             0E-18   \n0              0E-18           0E-18             0E-18   \n0              0E-18           0E-18             0E-18   \n0              0E-18           0E-18             0E-18   \n0              0E-18           0E-18             0E-18   \n\n             bnbnt_bntProvider               bnbnt_bntPool  \\\n0                        0E-18                       0E-18   \n0                        0E-18  2000000.000000000000000000   \n0                        0E-18  4000000.000000000000000000   \n0    100000.000000000000000000  3900000.000000000000000000   \n0    100000.000000000000000000  3900000.000000000000000000   \n..                         ...                         ...   \n0   1666999.941723579842327164  8332953.459877703811789711   \n0   1666999.941723579842327164  8332953.459877703811789711   \n0   1666999.941723579842327164  8332953.459877703811789711   \n0   1721904.637926213686274099  8278048.763675069967842776   \n0   1721904.637926213686274099  8278048.763675069967842776   \n\n          bntCurrentPoolFunding             tknStakedBalance  \\\n0                         0E-18  30000000.000000000000000000   \n0    2000000.000000000000000000  30000000.000000000000000000   \n0    4000000.000000000000000000  31000000.000000000000000000   \n0    4000000.000000000000000000  31000000.000000000000000000   \n0    4000001.333111148141976337  31000000.000000000000000000   \n..                          ...                          ...   \n0   10000008.733106877960619706  36164630.277526546768127710   \n0   10000008.733106877960619706  36205887.277526546768127710   \n0   10000008.733106877960619706  36232731.277526546768127710   \n0   10000008.733106877960619706  36232731.277526546768127710   \n0   10000008.733106877960619706  36232731.709776820089640059   \n\n               bntStakedBalance          tknTradingLiquidity  \\\n0                         0E-18                        0E-18   \n0    2000000.000000000000000000   6000000.000000000000000000   \n0    4000000.000000000000000000  12000000.000000000000000000   \n0    4000000.000000000000000000  12000000.000000000000000000   \n0    4000001.333111148141976337  12002000.000000000000000000   \n..                          ...                          ...   \n0   10000008.733106877960619706  30011833.380636140875720204   \n0   10000008.733106877960619706  30015473.532339391951358869   \n0   10000008.733106877960619706  30015473.532339391951358869   \n0   10000008.733106877960619706  30015473.532339391951358869   \n0   10000008.733106877960619706  30015257.947515572847074780   \n\n           bntTradingLiquidity  \n0                        0E-18  \n0   2000000.000000000000000000  \n0   4000000.000000000000000000  \n0   4000000.000000000000000000  \n0   3999334.777537077153807699  \n..                         ...  \n0   9999292.848155811713382588  \n0   9999292.848155811713382588  \n0   9999292.848155811713382588  \n0   9999292.848155811713382588  \n0   9999364.812155553143102398  \n\n[1001 rows x 24 columns]",
      "text/html": "<div>\n<style scoped>\n    .dataframe tbody tr th:only-of-type {\n        vertical-align: middle;\n    }\n\n    .dataframe tbody tr th {\n        vertical-align: top;\n    }\n\n    .dataframe thead th {\n        text-align: right;\n    }\n</style>\n<table border=\"1\" class=\"dataframe\">\n  <thead>\n    <tr style=\"text-align: right;\">\n      <th></th>\n      <th>indx</th>\n      <th>action</th>\n      <th>amount</th>\n      <th>tkn_dayTrader</th>\n      <th>tkn_tknProvider</th>\n      <th>tkn_bntProvider</th>\n      <th>tkn_masterVault</th>\n      <th>tkn_epVault</th>\n      <th>bnt_dayTrader</th>\n      <th>bnt_tknProvider</th>\n      <th>...</th>\n      <th>bntkn_bntProvider</th>\n      <th>bnbnt_dayTrader</th>\n      <th>bnbnt_tknProvider</th>\n      <th>bnbnt_bntProvider</th>\n      <th>bnbnt_bntPool</th>\n      <th>bntCurrentPoolFunding</th>\n      <th>tknStakedBalance</th>\n      <th>bntStakedBalance</th>\n      <th>tknTradingLiquidity</th>\n      <th>bntTradingLiquidity</th>\n    </tr>\n  </thead>\n  <tbody>\n    <tr>\n      <th>0</th>\n      <td>1</td>\n      <td>depositTKN</td>\n      <td>30000000</td>\n      <td>10000.000000000000000000</td>\n      <td>70000000.000000000000000000</td>\n      <td>0E-18</td>\n      <td>30000000.000000000000000000</td>\n      <td>0E-18</td>\n      <td>10000.000000000000000000</td>\n      <td>0E-18</td>\n      <td>...</td>\n      <td>0E-18</td>\n      <td>0E-18</td>\n      <td>0E-18</td>\n      <td>0E-18</td>\n      <td>0E-18</td>\n      <td>0E-18</td>\n      <td>30000000.000000000000000000</td>\n      <td>0E-18</td>\n      <td>0E-18</td>\n      <td>0E-18</td>\n    </tr>\n    <tr>\n      <th>0</th>\n      <td>2</td>\n      <td>enableTrading</td>\n      <td>0</td>\n      <td>10000.000000000000000000</td>\n      <td>70000000.000000000000000000</td>\n      <td>0E-18</td>\n      <td>30000000.000000000000000000</td>\n      <td>0E-18</td>\n      <td>10000.000000000000000000</td>\n      <td>0E-18</td>\n      <td>...</td>\n      <td>0E-18</td>\n      <td>0E-18</td>\n      <td>0E-18</td>\n      <td>0E-18</td>\n      <td>2000000.000000000000000000</td>\n      <td>2000000.000000000000000000</td>\n      <td>30000000.000000000000000000</td>\n      <td>2000000.000000000000000000</td>\n      <td>6000000.000000000000000000</td>\n      <td>2000000.000000000000000000</td>\n    </tr>\n    <tr>\n      <th>0</th>\n      <td>3</td>\n      <td>depositTKN</td>\n      <td>1000000</td>\n      <td>10000.000000000000000000</td>\n      <td>69000000.000000000000000000</td>\n      <td>0E-18</td>\n      <td>31000000.000000000000000000</td>\n      <td>0E-18</td>\n      <td>10000.000000000000000000</td>\n      <td>0E-18</td>\n      <td>...</td>\n      <td>0E-18</td>\n      <td>0E-18</td>\n      <td>0E-18</td>\n      <td>0E-18</td>\n      <td>4000000.000000000000000000</td>\n      <td>4000000.000000000000000000</td>\n      <td>31000000.000000000000000000</td>\n      <td>4000000.000000000000000000</td>\n      <td>12000000.000000000000000000</td>\n      <td>4000000.000000000000000000</td>\n    </tr>\n    <tr>\n      <th>0</th>\n      <td>4</td>\n      <td>depositBNT</td>\n      <td>100000</td>\n      <td>10000.000000000000000000</td>\n      <td>69000000.000000000000000000</td>\n      <td>0E-18</td>\n      <td>31000000.000000000000000000</td>\n      <td>0E-18</td>\n      <td>10000.000000000000000000</td>\n      <td>0E-18</td>\n      <td>...</td>\n      <td>0E-18</td>\n      <td>0E-18</td>\n      <td>0E-18</td>\n      <td>100000.000000000000000000</td>\n      <td>3900000.000000000000000000</td>\n      <td>4000000.000000000000000000</td>\n      <td>31000000.000000000000000000</td>\n      <td>4000000.000000000000000000</td>\n      <td>12000000.000000000000000000</td>\n      <td>4000000.000000000000000000</td>\n    </tr>\n    <tr>\n      <th>0</th>\n      <td>5</td>\n      <td>tradeTKN</td>\n      <td>2000</td>\n      <td>8000.000000000000000000</td>\n      <td>69000000.000000000000000000</td>\n      <td>0E-18</td>\n      <td>31002000.000000000000000000</td>\n      <td>0E-18</td>\n      <td>10664.889185135810698217</td>\n      <td>0E-18</td>\n      <td>...</td>\n      <td>0E-18</td>\n      <td>0E-18</td>\n      <td>0E-18</td>\n      <td>100000.000000000000000000</td>\n      <td>3900000.000000000000000000</td>\n      <td>4000001.333111148141976337</td>\n      <td>31000000.000000000000000000</td>\n      <td>4000001.333111148141976337</td>\n      <td>12002000.000000000000000000</td>\n      <td>3999334.777537077153807699</td>\n    </tr>\n    <tr>\n      <th>...</th>\n      <td>...</td>\n      <td>...</td>\n      <td>...</td>\n      <td>...</td>\n      <td>...</td>\n      <td>...</td>\n      <td>...</td>\n      <td>...</td>\n      <td>...</td>\n      <td>...</td>\n      <td>...</td>\n      <td>...</td>\n      <td>...</td>\n      <td>...</td>\n      <td>...</td>\n      <td>...</td>\n      <td>...</td>\n      <td>...</td>\n      <td>...</td>\n      <td>...</td>\n      <td>...</td>\n    </tr>\n    <tr>\n      <th>0</th>\n      <td>997</td>\n      <td>tradeBNT</td>\n      <td>379</td>\n      <td>17891.845562623752506460</td>\n      <td>63818898.789358394846297357</td>\n      <td>0E-18</td>\n      <td>36173209.365078981401196183</td>\n      <td>0E-18</td>\n      <td>7223.465600780120416778</td>\n      <td>0E-18</td>\n      <td>...</td>\n      <td>0E-18</td>\n      <td>0E-18</td>\n      <td>0E-18</td>\n      <td>1666999.941723579842327164</td>\n      <td>8332953.459877703811789711</td>\n      <td>10000008.733106877960619706</td>\n      <td>36164630.277526546768127710</td>\n      <td>10000008.733106877960619706</td>\n      <td>30011833.380636140875720204</td>\n      <td>9999292.848155811713382588</td>\n    </tr>\n    <tr>\n      <th>0</th>\n      <td>998</td>\n      <td>depositTKN</td>\n      <td>41257</td>\n      <td>17891.845562623752506460</td>\n      <td>63777641.789358394846297357</td>\n      <td>0E-18</td>\n      <td>36214466.365078981401196183</td>\n      <td>0E-18</td>\n      <td>7223.465600780120416778</td>\n      <td>0E-18</td>\n      <td>...</td>\n      <td>0E-18</td>\n      <td>0E-18</td>\n      <td>0E-18</td>\n      <td>1666999.941723579842327164</td>\n      <td>8332953.459877703811789711</td>\n      <td>10000008.733106877960619706</td>\n      <td>36205887.277526546768127710</td>\n      <td>10000008.733106877960619706</td>\n      <td>30015473.532339391951358869</td>\n      <td>9999292.848155811713382588</td>\n    </tr>\n    <tr>\n      <th>0</th>\n      <td>999</td>\n      <td>depositTKN</td>\n      <td>26844</td>\n      <td>17891.845562623752506460</td>\n      <td>63750797.789358394846297357</td>\n      <td>0E-18</td>\n      <td>36241310.365078981401196183</td>\n      <td>0E-18</td>\n      <td>7223.465600780120416778</td>\n      <td>0E-18</td>\n      <td>...</td>\n      <td>0E-18</td>\n      <td>0E-18</td>\n      <td>0E-18</td>\n      <td>1666999.941723579842327164</td>\n      <td>8332953.459877703811789711</td>\n      <td>10000008.733106877960619706</td>\n      <td>36232731.277526546768127710</td>\n      <td>10000008.733106877960619706</td>\n      <td>30015473.532339391951358869</td>\n      <td>9999292.848155811713382588</td>\n    </tr>\n    <tr>\n      <th>0</th>\n      <td>1000</td>\n      <td>depositBNT</td>\n      <td>54905</td>\n      <td>17891.845562623752506460</td>\n      <td>63750797.789358394846297357</td>\n      <td>0E-18</td>\n      <td>36241310.365078981401196183</td>\n      <td>0E-18</td>\n      <td>7223.465600780120416778</td>\n      <td>0E-18</td>\n      <td>...</td>\n      <td>0E-18</td>\n      <td>0E-18</td>\n      <td>0E-18</td>\n      <td>1721904.637926213686274099</td>\n      <td>8278048.763675069967842776</td>\n      <td>10000008.733106877960619706</td>\n      <td>36232731.277526546768127710</td>\n      <td>10000008.733106877960619706</td>\n      <td>30015473.532339391951358869</td>\n      <td>9999292.848155811713382588</td>\n    </tr>\n    <tr>\n      <th>0</th>\n      <td>1001</td>\n      <td>tradeBNT</td>\n      <td>72</td>\n      <td>18107.430386442856790549</td>\n      <td>63750797.789358394846297357</td>\n      <td>0E-18</td>\n      <td>36241094.780255162296912094</td>\n      <td>0E-18</td>\n      <td>7151.465600780120416778</td>\n      <td>0E-18</td>\n      <td>...</td>\n      <td>0E-18</td>\n      <td>0E-18</td>\n      <td>0E-18</td>\n      <td>1721904.637926213686274099</td>\n      <td>8278048.763675069967842776</td>\n      <td>10000008.733106877960619706</td>\n      <td>36232731.709776820089640059</td>\n      <td>10000008.733106877960619706</td>\n      <td>30015257.947515572847074780</td>\n      <td>9999364.812155553143102398</td>\n    </tr>\n  </tbody>\n</table>\n<p>1001 rows × 24 columns</p>\n</div>"
     },
     "execution_count": 9,
     "metadata": {},
     "output_type": "execute_result"
    }
   ],
   "source": [
    "validation"
   ],
   "metadata": {
    "collapsed": false,
    "pycharm": {
     "name": "#%%\n"
    }
   }
  },
  {
   "cell_type": "code",
   "execution_count": 10,
   "outputs": [
    {
     "data": {
      "text/plain": "                tkn_dayTrader                            \\\n                         self                     other   \n0                         NaN                       NaN   \n0                         NaN                       NaN   \n0                         NaN                       NaN   \n0    13967.098703888334995015   8000.000000000000000000   \n0    13967.098703888334995015  23940.072142346676806238   \n..                        ...                       ...   \n0   146809.816577734424333131  17891.845562623752506460   \n0   146809.816577734424333131  17891.845562623752506460   \n0   146809.816577734424333131  17891.845562623752506460   \n0   146809.816577734424333131  17891.845562623752506460   \n0   146809.816577734424333131  18107.430386442856790549   \n\n                tkn_tknProvider                               \\\n                           self                        other   \n0                           NaN                          NaN   \n0                           NaN                          NaN   \n0                           NaN                          NaN   \n0                           NaN                          NaN   \n0                           NaN                          NaN   \n..                          ...                          ...   \n0   57176803.000000000000000000  63818898.789358394846297357   \n0   57135546.000000000000000000  63777641.789358394846297357   \n0   57108702.000000000000000000  63750797.789358394846297357   \n0   57108702.000000000000000000  63750797.789358394846297357   \n0   57108702.000000000000000000  63750797.789358394846297357   \n\n                tkn_masterVault                               \\\n                           self                        other   \n0                           NaN                          NaN   \n0                           NaN                          NaN   \n0                           NaN                          NaN   \n0                           NaN                          NaN   \n0   31000221.223820593257710522  30986059.927857653323193762   \n..                          ...                          ...   \n0   42892337.947613935853009618  36173209.365078981401196183   \n0   42933594.947613935853009618  36214466.365078981401196183   \n0   42960438.947613935853009618  36241310.365078981401196183   \n0   42960438.947613935853009618  36241310.365078981401196183   \n0   42960409.793115981456115812  36241094.780255162296912094   \n\n               bnt_dayTrader                            \\\n                        self                     other   \n0                        NaN                       NaN   \n0                        NaN                       NaN   \n0                        NaN                       NaN   \n0   10000.000000000000000000  10664.889185135810698217   \n0    6446.776179406742289478   5332.889185135810698217   \n..                       ...                       ...   \n0   -8610.947613935853009618   7223.465600780120416778   \n0   -8610.947613935853009618   7223.465600780120416778   \n0   -8610.947613935853009618   7223.465600780120416778   \n0   -8610.947613935853009618   7223.465600780120416778   \n0   -8653.793115981456115812   7151.465600780120416778   \n\n               bnt_bntProvider                              ...  \\\n                          self                       other  ...   \n0                          NaN                         NaN  ...   \n0                          NaN                         NaN  ...   \n0                          NaN                         NaN  ...   \n0                          NaN                         NaN  ...   \n0                          NaN                         NaN  ...   \n..                         ...                         ...  ...   \n0   2730135.000000000000000000  8318991.438665121314135589  ...   \n0   2730135.000000000000000000  8318991.438665121314135589  ...   \n0   2730135.000000000000000000  8318991.438665121314135589  ...   \n0   2675230.000000000000000000  8264086.438665121314135589  ...   \n0   2675230.000000000000000000  8264086.438665121314135589  ...   \n\n         bntCurrentPoolFunding                               \\\n                          self                        other   \n0                          NaN                          NaN   \n0   2000000.000000000000000000   4000000.000000000000000000   \n0   2000000.000000000000000000   4000000.000000000000000000   \n0   2000011.964107676969092722   4000001.333111148141976337   \n0   2000011.964107676969092722   4000001.333111148141976337   \n..                         ...                          ...   \n0   2000434.405647273652981119  10000008.733106877960619706   \n0   2000434.405647273652981119  10000008.733106877960619706   \n0   2000434.405647273652981119  10000008.733106877960619706   \n0   2000434.405647273652981119  10000008.733106877960619706   \n0   2000434.405647273652981119  10000008.733106877960619706   \n\n               tknStakedBalance                               \\\n                           self                        other   \n0                           NaN                          NaN   \n0                           NaN                          NaN   \n0                           NaN                          NaN   \n0                           NaN                          NaN   \n0   31000003.566468530138831658  31000031.960044395682560012   \n..                          ...                          ...   \n0   42823218.471784232710069154  36164630.277526546768127710   \n0   42864475.471784232710069154  36205887.277526546768127710   \n0   42891319.471784232710069154  36232731.277526546768127710   \n0   42891319.471784232710069154  36232731.277526546768127710   \n0   42891319.530239366453220820  36232731.709776820089640059   \n\n              bntStakedBalance                               \\\n                          self                        other   \n0                          NaN                          NaN   \n0   2000000.000000000000000000   4000000.000000000000000000   \n0   2000000.000000000000000000   4000000.000000000000000000   \n0   2000011.964107676969092722   4000001.333111148141976337   \n0   2000011.964107676969092722   4000001.333111148141976337   \n..                         ...                          ...   \n0   2000434.405647273652981119  10000008.733106877960619706   \n0   2000434.405647273652981119  10000008.733106877960619706   \n0   2000434.405647273652981119  10000008.733106877960619706   \n0   2000434.405647273652981119  10000008.733106877960619706   \n0   2000434.405647273652981119  10000008.733106877960619706   \n\n          tknTradingLiquidity                               \\\n                         self                        other   \n0   666666.666666666666666667   6000000.000000000000000000   \n0   666666.666666666666666667  12000000.000000000000000000   \n0   666666.666666666666666667  12000000.000000000000000000   \n0   668666.666666666666666667  12002000.000000000000000000   \n0   666887.890487259924377189  11986059.927857653323193762   \n..                        ...                          ...   \n0   735807.614280602519676284  30011833.380636140875720204   \n0   735807.614280602519676284  30015473.532339391951358869   \n0   735807.614280602519676284  30015473.532339391951358869   \n0   735807.614280602519676284  30015473.532339391951358869   \n0   735778.459782648122782478  30015257.947515572847074780   \n\n           bntTradingLiquidity                              \n                          self                       other  \n0                          NaN                         NaN  \n0   2000000.000000000000000000  4000000.000000000000000000  \n0   2000000.000000000000000000  4000000.000000000000000000  \n0   1994029.910269192422731805  3999334.777537077153807699  \n0   1999359.237158226153973369  4004664.107991605782291550  \n..                         ...                         ...  \n0   1812536.913392831175784838  9999292.848155811713382588  \n0   1812536.913392831175784838  9999292.848155811713382588  \n0   1812536.913392831175784838  9999292.848155811713382588  \n0   1812536.913392831175784838  9999292.848155811713382588  \n0   1812608.877391404711184789  9999364.812155553143102398  \n\n[1000 rows x 28 columns]",
      "text/html": "<div>\n<style scoped>\n    .dataframe tbody tr th:only-of-type {\n        vertical-align: middle;\n    }\n\n    .dataframe tbody tr th {\n        vertical-align: top;\n    }\n\n    .dataframe thead tr th {\n        text-align: left;\n    }\n</style>\n<table border=\"1\" class=\"dataframe\">\n  <thead>\n    <tr>\n      <th></th>\n      <th colspan=\"2\" halign=\"left\">tkn_dayTrader</th>\n      <th colspan=\"2\" halign=\"left\">tkn_tknProvider</th>\n      <th colspan=\"2\" halign=\"left\">tkn_masterVault</th>\n      <th colspan=\"2\" halign=\"left\">bnt_dayTrader</th>\n      <th colspan=\"2\" halign=\"left\">bnt_bntProvider</th>\n      <th>...</th>\n      <th colspan=\"2\" halign=\"left\">bntCurrentPoolFunding</th>\n      <th colspan=\"2\" halign=\"left\">tknStakedBalance</th>\n      <th colspan=\"2\" halign=\"left\">bntStakedBalance</th>\n      <th colspan=\"2\" halign=\"left\">tknTradingLiquidity</th>\n      <th colspan=\"2\" halign=\"left\">bntTradingLiquidity</th>\n    </tr>\n    <tr>\n      <th></th>\n      <th>self</th>\n      <th>other</th>\n      <th>self</th>\n      <th>other</th>\n      <th>self</th>\n      <th>other</th>\n      <th>self</th>\n      <th>other</th>\n      <th>self</th>\n      <th>other</th>\n      <th>...</th>\n      <th>self</th>\n      <th>other</th>\n      <th>self</th>\n      <th>other</th>\n      <th>self</th>\n      <th>other</th>\n      <th>self</th>\n      <th>other</th>\n      <th>self</th>\n      <th>other</th>\n    </tr>\n  </thead>\n  <tbody>\n    <tr>\n      <th>0</th>\n      <td>NaN</td>\n      <td>NaN</td>\n      <td>NaN</td>\n      <td>NaN</td>\n      <td>NaN</td>\n      <td>NaN</td>\n      <td>NaN</td>\n      <td>NaN</td>\n      <td>NaN</td>\n      <td>NaN</td>\n      <td>...</td>\n      <td>NaN</td>\n      <td>NaN</td>\n      <td>NaN</td>\n      <td>NaN</td>\n      <td>NaN</td>\n      <td>NaN</td>\n      <td>666666.666666666666666667</td>\n      <td>6000000.000000000000000000</td>\n      <td>NaN</td>\n      <td>NaN</td>\n    </tr>\n    <tr>\n      <th>0</th>\n      <td>NaN</td>\n      <td>NaN</td>\n      <td>NaN</td>\n      <td>NaN</td>\n      <td>NaN</td>\n      <td>NaN</td>\n      <td>NaN</td>\n      <td>NaN</td>\n      <td>NaN</td>\n      <td>NaN</td>\n      <td>...</td>\n      <td>2000000.000000000000000000</td>\n      <td>4000000.000000000000000000</td>\n      <td>NaN</td>\n      <td>NaN</td>\n      <td>2000000.000000000000000000</td>\n      <td>4000000.000000000000000000</td>\n      <td>666666.666666666666666667</td>\n      <td>12000000.000000000000000000</td>\n      <td>2000000.000000000000000000</td>\n      <td>4000000.000000000000000000</td>\n    </tr>\n    <tr>\n      <th>0</th>\n      <td>NaN</td>\n      <td>NaN</td>\n      <td>NaN</td>\n      <td>NaN</td>\n      <td>NaN</td>\n      <td>NaN</td>\n      <td>NaN</td>\n      <td>NaN</td>\n      <td>NaN</td>\n      <td>NaN</td>\n      <td>...</td>\n      <td>2000000.000000000000000000</td>\n      <td>4000000.000000000000000000</td>\n      <td>NaN</td>\n      <td>NaN</td>\n      <td>2000000.000000000000000000</td>\n      <td>4000000.000000000000000000</td>\n      <td>666666.666666666666666667</td>\n      <td>12000000.000000000000000000</td>\n      <td>2000000.000000000000000000</td>\n      <td>4000000.000000000000000000</td>\n    </tr>\n    <tr>\n      <th>0</th>\n      <td>13967.098703888334995015</td>\n      <td>8000.000000000000000000</td>\n      <td>NaN</td>\n      <td>NaN</td>\n      <td>NaN</td>\n      <td>NaN</td>\n      <td>10000.000000000000000000</td>\n      <td>10664.889185135810698217</td>\n      <td>NaN</td>\n      <td>NaN</td>\n      <td>...</td>\n      <td>2000011.964107676969092722</td>\n      <td>4000001.333111148141976337</td>\n      <td>NaN</td>\n      <td>NaN</td>\n      <td>2000011.964107676969092722</td>\n      <td>4000001.333111148141976337</td>\n      <td>668666.666666666666666667</td>\n      <td>12002000.000000000000000000</td>\n      <td>1994029.910269192422731805</td>\n      <td>3999334.777537077153807699</td>\n    </tr>\n    <tr>\n      <th>0</th>\n      <td>13967.098703888334995015</td>\n      <td>23940.072142346676806238</td>\n      <td>NaN</td>\n      <td>NaN</td>\n      <td>31000221.223820593257710522</td>\n      <td>30986059.927857653323193762</td>\n      <td>6446.776179406742289478</td>\n      <td>5332.889185135810698217</td>\n      <td>NaN</td>\n      <td>NaN</td>\n      <td>...</td>\n      <td>2000011.964107676969092722</td>\n      <td>4000001.333111148141976337</td>\n      <td>31000003.566468530138831658</td>\n      <td>31000031.960044395682560012</td>\n      <td>2000011.964107676969092722</td>\n      <td>4000001.333111148141976337</td>\n      <td>666887.890487259924377189</td>\n      <td>11986059.927857653323193762</td>\n      <td>1999359.237158226153973369</td>\n      <td>4004664.107991605782291550</td>\n    </tr>\n    <tr>\n      <th>...</th>\n      <td>...</td>\n      <td>...</td>\n      <td>...</td>\n      <td>...</td>\n      <td>...</td>\n      <td>...</td>\n      <td>...</td>\n      <td>...</td>\n      <td>...</td>\n      <td>...</td>\n      <td>...</td>\n      <td>...</td>\n      <td>...</td>\n      <td>...</td>\n      <td>...</td>\n      <td>...</td>\n      <td>...</td>\n      <td>...</td>\n      <td>...</td>\n      <td>...</td>\n      <td>...</td>\n    </tr>\n    <tr>\n      <th>0</th>\n      <td>146809.816577734424333131</td>\n      <td>17891.845562623752506460</td>\n      <td>57176803.000000000000000000</td>\n      <td>63818898.789358394846297357</td>\n      <td>42892337.947613935853009618</td>\n      <td>36173209.365078981401196183</td>\n      <td>-8610.947613935853009618</td>\n      <td>7223.465600780120416778</td>\n      <td>2730135.000000000000000000</td>\n      <td>8318991.438665121314135589</td>\n      <td>...</td>\n      <td>2000434.405647273652981119</td>\n      <td>10000008.733106877960619706</td>\n      <td>42823218.471784232710069154</td>\n      <td>36164630.277526546768127710</td>\n      <td>2000434.405647273652981119</td>\n      <td>10000008.733106877960619706</td>\n      <td>735807.614280602519676284</td>\n      <td>30011833.380636140875720204</td>\n      <td>1812536.913392831175784838</td>\n      <td>9999292.848155811713382588</td>\n    </tr>\n    <tr>\n      <th>0</th>\n      <td>146809.816577734424333131</td>\n      <td>17891.845562623752506460</td>\n      <td>57135546.000000000000000000</td>\n      <td>63777641.789358394846297357</td>\n      <td>42933594.947613935853009618</td>\n      <td>36214466.365078981401196183</td>\n      <td>-8610.947613935853009618</td>\n      <td>7223.465600780120416778</td>\n      <td>2730135.000000000000000000</td>\n      <td>8318991.438665121314135589</td>\n      <td>...</td>\n      <td>2000434.405647273652981119</td>\n      <td>10000008.733106877960619706</td>\n      <td>42864475.471784232710069154</td>\n      <td>36205887.277526546768127710</td>\n      <td>2000434.405647273652981119</td>\n      <td>10000008.733106877960619706</td>\n      <td>735807.614280602519676284</td>\n      <td>30015473.532339391951358869</td>\n      <td>1812536.913392831175784838</td>\n      <td>9999292.848155811713382588</td>\n    </tr>\n    <tr>\n      <th>0</th>\n      <td>146809.816577734424333131</td>\n      <td>17891.845562623752506460</td>\n      <td>57108702.000000000000000000</td>\n      <td>63750797.789358394846297357</td>\n      <td>42960438.947613935853009618</td>\n      <td>36241310.365078981401196183</td>\n      <td>-8610.947613935853009618</td>\n      <td>7223.465600780120416778</td>\n      <td>2730135.000000000000000000</td>\n      <td>8318991.438665121314135589</td>\n      <td>...</td>\n      <td>2000434.405647273652981119</td>\n      <td>10000008.733106877960619706</td>\n      <td>42891319.471784232710069154</td>\n      <td>36232731.277526546768127710</td>\n      <td>2000434.405647273652981119</td>\n      <td>10000008.733106877960619706</td>\n      <td>735807.614280602519676284</td>\n      <td>30015473.532339391951358869</td>\n      <td>1812536.913392831175784838</td>\n      <td>9999292.848155811713382588</td>\n    </tr>\n    <tr>\n      <th>0</th>\n      <td>146809.816577734424333131</td>\n      <td>17891.845562623752506460</td>\n      <td>57108702.000000000000000000</td>\n      <td>63750797.789358394846297357</td>\n      <td>42960438.947613935853009618</td>\n      <td>36241310.365078981401196183</td>\n      <td>-8610.947613935853009618</td>\n      <td>7223.465600780120416778</td>\n      <td>2675230.000000000000000000</td>\n      <td>8264086.438665121314135589</td>\n      <td>...</td>\n      <td>2000434.405647273652981119</td>\n      <td>10000008.733106877960619706</td>\n      <td>42891319.471784232710069154</td>\n      <td>36232731.277526546768127710</td>\n      <td>2000434.405647273652981119</td>\n      <td>10000008.733106877960619706</td>\n      <td>735807.614280602519676284</td>\n      <td>30015473.532339391951358869</td>\n      <td>1812536.913392831175784838</td>\n      <td>9999292.848155811713382588</td>\n    </tr>\n    <tr>\n      <th>0</th>\n      <td>146809.816577734424333131</td>\n      <td>18107.430386442856790549</td>\n      <td>57108702.000000000000000000</td>\n      <td>63750797.789358394846297357</td>\n      <td>42960409.793115981456115812</td>\n      <td>36241094.780255162296912094</td>\n      <td>-8653.793115981456115812</td>\n      <td>7151.465600780120416778</td>\n      <td>2675230.000000000000000000</td>\n      <td>8264086.438665121314135589</td>\n      <td>...</td>\n      <td>2000434.405647273652981119</td>\n      <td>10000008.733106877960619706</td>\n      <td>42891319.530239366453220820</td>\n      <td>36232731.709776820089640059</td>\n      <td>2000434.405647273652981119</td>\n      <td>10000008.733106877960619706</td>\n      <td>735778.459782648122782478</td>\n      <td>30015257.947515572847074780</td>\n      <td>1812608.877391404711184789</td>\n      <td>9999364.812155553143102398</td>\n    </tr>\n  </tbody>\n</table>\n<p>1000 rows × 28 columns</p>\n</div>"
     },
     "execution_count": 10,
     "metadata": {},
     "output_type": "execute_result"
    }
   ],
   "source": [
    "comparison = simulation.compare(validation)\n",
    "comparison"
   ],
   "metadata": {
    "collapsed": false,
    "pycharm": {
     "name": "#%%\n"
    }
   }
  },
  {
   "cell_type": "code",
   "execution_count": 11,
   "outputs": [
    {
     "data": {
      "text/plain": "    index              tkn_dayTrader                            \\\n                                self                     other   \n0       0                        NaN                       NaN   \n1       0                        NaN                       NaN   \n2       0                        NaN                       NaN   \n3       0   13967.098703888334995015   8000.000000000000000000   \n4       0   13967.098703888334995015  23940.072142346676806238   \n..    ...                        ...                       ...   \n995     0  146809.816577734424333131  17891.845562623752506460   \n996     0  146809.816577734424333131  17891.845562623752506460   \n997     0  146809.816577734424333131  17891.845562623752506460   \n998     0  146809.816577734424333131  17891.845562623752506460   \n999     0  146809.816577734424333131  18107.430386442856790549   \n\n                 tkn_tknProvider                               \\\n                            self                        other   \n0                            NaN                          NaN   \n1                            NaN                          NaN   \n2                            NaN                          NaN   \n3                            NaN                          NaN   \n4                            NaN                          NaN   \n..                           ...                          ...   \n995  57176803.000000000000000000  63818898.789358394846297357   \n996  57135546.000000000000000000  63777641.789358394846297357   \n997  57108702.000000000000000000  63750797.789358394846297357   \n998  57108702.000000000000000000  63750797.789358394846297357   \n999  57108702.000000000000000000  63750797.789358394846297357   \n\n                 tkn_masterVault                               \\\n                            self                        other   \n0                            NaN                          NaN   \n1                            NaN                          NaN   \n2                            NaN                          NaN   \n3                            NaN                          NaN   \n4    31000221.223820593257710522  30986059.927857653323193762   \n..                           ...                          ...   \n995  42892337.947613935853009618  36173209.365078981401196183   \n996  42933594.947613935853009618  36214466.365078981401196183   \n997  42960438.947613935853009618  36241310.365078981401196183   \n998  42960438.947613935853009618  36241310.365078981401196183   \n999  42960409.793115981456115812  36241094.780255162296912094   \n\n                bnt_dayTrader                            \\\n                         self                     other   \n0                         NaN                       NaN   \n1                         NaN                       NaN   \n2                         NaN                       NaN   \n3    10000.000000000000000000  10664.889185135810698217   \n4     6446.776179406742289478   5332.889185135810698217   \n..                        ...                       ...   \n995  -8610.947613935853009618   7223.465600780120416778   \n996  -8610.947613935853009618   7223.465600780120416778   \n997  -8610.947613935853009618   7223.465600780120416778   \n998  -8610.947613935853009618   7223.465600780120416778   \n999  -8653.793115981456115812   7151.465600780120416778   \n\n                bnt_bntProvider  ...       bntCurrentPoolFunding  \\\n                           self  ...                        self   \n0                           NaN  ...                         NaN   \n1                           NaN  ...  2000000.000000000000000000   \n2                           NaN  ...  2000000.000000000000000000   \n3                           NaN  ...  2000011.964107676969092722   \n4                           NaN  ...  2000011.964107676969092722   \n..                          ...  ...                         ...   \n995  2730135.000000000000000000  ...  2000434.405647273652981119   \n996  2730135.000000000000000000  ...  2000434.405647273652981119   \n997  2730135.000000000000000000  ...  2000434.405647273652981119   \n998  2675230.000000000000000000  ...  2000434.405647273652981119   \n999  2675230.000000000000000000  ...  2000434.405647273652981119   \n\n                                             tknStakedBalance  \\\n                           other                         self   \n0                            NaN                          NaN   \n1     4000000.000000000000000000                          NaN   \n2     4000000.000000000000000000                          NaN   \n3     4000001.333111148141976337                          NaN   \n4     4000001.333111148141976337  31000003.566468530138831658   \n..                           ...                          ...   \n995  10000008.733106877960619706  42823218.471784232710069154   \n996  10000008.733106877960619706  42864475.471784232710069154   \n997  10000008.733106877960619706  42891319.471784232710069154   \n998  10000008.733106877960619706  42891319.471784232710069154   \n999  10000008.733106877960619706  42891319.530239366453220820   \n\n                                            bntStakedBalance  \\\n                           other                        self   \n0                            NaN                         NaN   \n1                            NaN  2000000.000000000000000000   \n2                            NaN  2000000.000000000000000000   \n3                            NaN  2000011.964107676969092722   \n4    31000031.960044395682560012  2000011.964107676969092722   \n..                           ...                         ...   \n995  36164630.277526546768127710  2000434.405647273652981119   \n996  36205887.277526546768127710  2000434.405647273652981119   \n997  36232731.277526546768127710  2000434.405647273652981119   \n998  36232731.277526546768127710  2000434.405647273652981119   \n999  36232731.709776820089640059  2000434.405647273652981119   \n\n                                        tknTradingLiquidity  \\\n                           other                       self   \n0                            NaN  666666.666666666666666667   \n1     4000000.000000000000000000  666666.666666666666666667   \n2     4000000.000000000000000000  666666.666666666666666667   \n3     4000001.333111148141976337  668666.666666666666666667   \n4     4000001.333111148141976337  666887.890487259924377189   \n..                           ...                        ...   \n995  10000008.733106877960619706  735807.614280602519676284   \n996  10000008.733106877960619706  735807.614280602519676284   \n997  10000008.733106877960619706  735807.614280602519676284   \n998  10000008.733106877960619706  735807.614280602519676284   \n999  10000008.733106877960619706  735778.459782648122782478   \n\n                                         bntTradingLiquidity  \\\n                           other                        self   \n0     6000000.000000000000000000                         NaN   \n1    12000000.000000000000000000  2000000.000000000000000000   \n2    12000000.000000000000000000  2000000.000000000000000000   \n3    12002000.000000000000000000  1994029.910269192422731805   \n4    11986059.927857653323193762  1999359.237158226153973369   \n..                           ...                         ...   \n995  30011833.380636140875720204  1812536.913392831175784838   \n996  30015473.532339391951358869  1812536.913392831175784838   \n997  30015473.532339391951358869  1812536.913392831175784838   \n998  30015473.532339391951358869  1812536.913392831175784838   \n999  30015257.947515572847074780  1812608.877391404711184789   \n\n                                 \n                          other  \n0                           NaN  \n1    4000000.000000000000000000  \n2    4000000.000000000000000000  \n3    3999334.777537077153807699  \n4    4004664.107991605782291550  \n..                          ...  \n995  9999292.848155811713382588  \n996  9999292.848155811713382588  \n997  9999292.848155811713382588  \n998  9999292.848155811713382588  \n999  9999364.812155553143102398  \n\n[1000 rows x 29 columns]",
      "text/html": "<div>\n<style scoped>\n    .dataframe tbody tr th:only-of-type {\n        vertical-align: middle;\n    }\n\n    .dataframe tbody tr th {\n        vertical-align: top;\n    }\n\n    .dataframe thead tr th {\n        text-align: left;\n    }\n</style>\n<table border=\"1\" class=\"dataframe\">\n  <thead>\n    <tr>\n      <th></th>\n      <th>index</th>\n      <th colspan=\"2\" halign=\"left\">tkn_dayTrader</th>\n      <th colspan=\"2\" halign=\"left\">tkn_tknProvider</th>\n      <th colspan=\"2\" halign=\"left\">tkn_masterVault</th>\n      <th colspan=\"2\" halign=\"left\">bnt_dayTrader</th>\n      <th>bnt_bntProvider</th>\n      <th>...</th>\n      <th colspan=\"2\" halign=\"left\">bntCurrentPoolFunding</th>\n      <th colspan=\"2\" halign=\"left\">tknStakedBalance</th>\n      <th colspan=\"2\" halign=\"left\">bntStakedBalance</th>\n      <th colspan=\"2\" halign=\"left\">tknTradingLiquidity</th>\n      <th colspan=\"2\" halign=\"left\">bntTradingLiquidity</th>\n    </tr>\n    <tr>\n      <th></th>\n      <th></th>\n      <th>self</th>\n      <th>other</th>\n      <th>self</th>\n      <th>other</th>\n      <th>self</th>\n      <th>other</th>\n      <th>self</th>\n      <th>other</th>\n      <th>self</th>\n      <th>...</th>\n      <th>self</th>\n      <th>other</th>\n      <th>self</th>\n      <th>other</th>\n      <th>self</th>\n      <th>other</th>\n      <th>self</th>\n      <th>other</th>\n      <th>self</th>\n      <th>other</th>\n    </tr>\n  </thead>\n  <tbody>\n    <tr>\n      <th>0</th>\n      <td>0</td>\n      <td>NaN</td>\n      <td>NaN</td>\n      <td>NaN</td>\n      <td>NaN</td>\n      <td>NaN</td>\n      <td>NaN</td>\n      <td>NaN</td>\n      <td>NaN</td>\n      <td>NaN</td>\n      <td>...</td>\n      <td>NaN</td>\n      <td>NaN</td>\n      <td>NaN</td>\n      <td>NaN</td>\n      <td>NaN</td>\n      <td>NaN</td>\n      <td>666666.666666666666666667</td>\n      <td>6000000.000000000000000000</td>\n      <td>NaN</td>\n      <td>NaN</td>\n    </tr>\n    <tr>\n      <th>1</th>\n      <td>0</td>\n      <td>NaN</td>\n      <td>NaN</td>\n      <td>NaN</td>\n      <td>NaN</td>\n      <td>NaN</td>\n      <td>NaN</td>\n      <td>NaN</td>\n      <td>NaN</td>\n      <td>NaN</td>\n      <td>...</td>\n      <td>2000000.000000000000000000</td>\n      <td>4000000.000000000000000000</td>\n      <td>NaN</td>\n      <td>NaN</td>\n      <td>2000000.000000000000000000</td>\n      <td>4000000.000000000000000000</td>\n      <td>666666.666666666666666667</td>\n      <td>12000000.000000000000000000</td>\n      <td>2000000.000000000000000000</td>\n      <td>4000000.000000000000000000</td>\n    </tr>\n    <tr>\n      <th>2</th>\n      <td>0</td>\n      <td>NaN</td>\n      <td>NaN</td>\n      <td>NaN</td>\n      <td>NaN</td>\n      <td>NaN</td>\n      <td>NaN</td>\n      <td>NaN</td>\n      <td>NaN</td>\n      <td>NaN</td>\n      <td>...</td>\n      <td>2000000.000000000000000000</td>\n      <td>4000000.000000000000000000</td>\n      <td>NaN</td>\n      <td>NaN</td>\n      <td>2000000.000000000000000000</td>\n      <td>4000000.000000000000000000</td>\n      <td>666666.666666666666666667</td>\n      <td>12000000.000000000000000000</td>\n      <td>2000000.000000000000000000</td>\n      <td>4000000.000000000000000000</td>\n    </tr>\n    <tr>\n      <th>3</th>\n      <td>0</td>\n      <td>13967.098703888334995015</td>\n      <td>8000.000000000000000000</td>\n      <td>NaN</td>\n      <td>NaN</td>\n      <td>NaN</td>\n      <td>NaN</td>\n      <td>10000.000000000000000000</td>\n      <td>10664.889185135810698217</td>\n      <td>NaN</td>\n      <td>...</td>\n      <td>2000011.964107676969092722</td>\n      <td>4000001.333111148141976337</td>\n      <td>NaN</td>\n      <td>NaN</td>\n      <td>2000011.964107676969092722</td>\n      <td>4000001.333111148141976337</td>\n      <td>668666.666666666666666667</td>\n      <td>12002000.000000000000000000</td>\n      <td>1994029.910269192422731805</td>\n      <td>3999334.777537077153807699</td>\n    </tr>\n    <tr>\n      <th>4</th>\n      <td>0</td>\n      <td>13967.098703888334995015</td>\n      <td>23940.072142346676806238</td>\n      <td>NaN</td>\n      <td>NaN</td>\n      <td>31000221.223820593257710522</td>\n      <td>30986059.927857653323193762</td>\n      <td>6446.776179406742289478</td>\n      <td>5332.889185135810698217</td>\n      <td>NaN</td>\n      <td>...</td>\n      <td>2000011.964107676969092722</td>\n      <td>4000001.333111148141976337</td>\n      <td>31000003.566468530138831658</td>\n      <td>31000031.960044395682560012</td>\n      <td>2000011.964107676969092722</td>\n      <td>4000001.333111148141976337</td>\n      <td>666887.890487259924377189</td>\n      <td>11986059.927857653323193762</td>\n      <td>1999359.237158226153973369</td>\n      <td>4004664.107991605782291550</td>\n    </tr>\n    <tr>\n      <th>...</th>\n      <td>...</td>\n      <td>...</td>\n      <td>...</td>\n      <td>...</td>\n      <td>...</td>\n      <td>...</td>\n      <td>...</td>\n      <td>...</td>\n      <td>...</td>\n      <td>...</td>\n      <td>...</td>\n      <td>...</td>\n      <td>...</td>\n      <td>...</td>\n      <td>...</td>\n      <td>...</td>\n      <td>...</td>\n      <td>...</td>\n      <td>...</td>\n      <td>...</td>\n      <td>...</td>\n    </tr>\n    <tr>\n      <th>995</th>\n      <td>0</td>\n      <td>146809.816577734424333131</td>\n      <td>17891.845562623752506460</td>\n      <td>57176803.000000000000000000</td>\n      <td>63818898.789358394846297357</td>\n      <td>42892337.947613935853009618</td>\n      <td>36173209.365078981401196183</td>\n      <td>-8610.947613935853009618</td>\n      <td>7223.465600780120416778</td>\n      <td>2730135.000000000000000000</td>\n      <td>...</td>\n      <td>2000434.405647273652981119</td>\n      <td>10000008.733106877960619706</td>\n      <td>42823218.471784232710069154</td>\n      <td>36164630.277526546768127710</td>\n      <td>2000434.405647273652981119</td>\n      <td>10000008.733106877960619706</td>\n      <td>735807.614280602519676284</td>\n      <td>30011833.380636140875720204</td>\n      <td>1812536.913392831175784838</td>\n      <td>9999292.848155811713382588</td>\n    </tr>\n    <tr>\n      <th>996</th>\n      <td>0</td>\n      <td>146809.816577734424333131</td>\n      <td>17891.845562623752506460</td>\n      <td>57135546.000000000000000000</td>\n      <td>63777641.789358394846297357</td>\n      <td>42933594.947613935853009618</td>\n      <td>36214466.365078981401196183</td>\n      <td>-8610.947613935853009618</td>\n      <td>7223.465600780120416778</td>\n      <td>2730135.000000000000000000</td>\n      <td>...</td>\n      <td>2000434.405647273652981119</td>\n      <td>10000008.733106877960619706</td>\n      <td>42864475.471784232710069154</td>\n      <td>36205887.277526546768127710</td>\n      <td>2000434.405647273652981119</td>\n      <td>10000008.733106877960619706</td>\n      <td>735807.614280602519676284</td>\n      <td>30015473.532339391951358869</td>\n      <td>1812536.913392831175784838</td>\n      <td>9999292.848155811713382588</td>\n    </tr>\n    <tr>\n      <th>997</th>\n      <td>0</td>\n      <td>146809.816577734424333131</td>\n      <td>17891.845562623752506460</td>\n      <td>57108702.000000000000000000</td>\n      <td>63750797.789358394846297357</td>\n      <td>42960438.947613935853009618</td>\n      <td>36241310.365078981401196183</td>\n      <td>-8610.947613935853009618</td>\n      <td>7223.465600780120416778</td>\n      <td>2730135.000000000000000000</td>\n      <td>...</td>\n      <td>2000434.405647273652981119</td>\n      <td>10000008.733106877960619706</td>\n      <td>42891319.471784232710069154</td>\n      <td>36232731.277526546768127710</td>\n      <td>2000434.405647273652981119</td>\n      <td>10000008.733106877960619706</td>\n      <td>735807.614280602519676284</td>\n      <td>30015473.532339391951358869</td>\n      <td>1812536.913392831175784838</td>\n      <td>9999292.848155811713382588</td>\n    </tr>\n    <tr>\n      <th>998</th>\n      <td>0</td>\n      <td>146809.816577734424333131</td>\n      <td>17891.845562623752506460</td>\n      <td>57108702.000000000000000000</td>\n      <td>63750797.789358394846297357</td>\n      <td>42960438.947613935853009618</td>\n      <td>36241310.365078981401196183</td>\n      <td>-8610.947613935853009618</td>\n      <td>7223.465600780120416778</td>\n      <td>2675230.000000000000000000</td>\n      <td>...</td>\n      <td>2000434.405647273652981119</td>\n      <td>10000008.733106877960619706</td>\n      <td>42891319.471784232710069154</td>\n      <td>36232731.277526546768127710</td>\n      <td>2000434.405647273652981119</td>\n      <td>10000008.733106877960619706</td>\n      <td>735807.614280602519676284</td>\n      <td>30015473.532339391951358869</td>\n      <td>1812536.913392831175784838</td>\n      <td>9999292.848155811713382588</td>\n    </tr>\n    <tr>\n      <th>999</th>\n      <td>0</td>\n      <td>146809.816577734424333131</td>\n      <td>18107.430386442856790549</td>\n      <td>57108702.000000000000000000</td>\n      <td>63750797.789358394846297357</td>\n      <td>42960409.793115981456115812</td>\n      <td>36241094.780255162296912094</td>\n      <td>-8653.793115981456115812</td>\n      <td>7151.465600780120416778</td>\n      <td>2675230.000000000000000000</td>\n      <td>...</td>\n      <td>2000434.405647273652981119</td>\n      <td>10000008.733106877960619706</td>\n      <td>42891319.530239366453220820</td>\n      <td>36232731.709776820089640059</td>\n      <td>2000434.405647273652981119</td>\n      <td>10000008.733106877960619706</td>\n      <td>735778.459782648122782478</td>\n      <td>30015257.947515572847074780</td>\n      <td>1812608.877391404711184789</td>\n      <td>9999364.812155553143102398</td>\n    </tr>\n  </tbody>\n</table>\n<p>1000 rows × 29 columns</p>\n</div>"
     },
     "execution_count": 11,
     "metadata": {},
     "output_type": "execute_result"
    }
   ],
   "source": [
    "comparison = comparison.reset_index()\n",
    "comparison"
   ],
   "metadata": {
    "collapsed": false,
    "pycharm": {
     "name": "#%%\n"
    }
   }
  },
  {
   "cell_type": "code",
   "execution_count": 11,
   "outputs": [],
   "source": [],
   "metadata": {
    "collapsed": false,
    "pycharm": {
     "name": "#%%\n"
    }
   }
  }
 ],
 "metadata": {
  "kernelspec": {
   "name": "pycharm-c19c9c8d",
   "language": "python",
   "display_name": "PyCharm (simulator-v3)"
  },
  "language_info": {
   "codemirror_mode": {
    "name": "ipython",
    "version": 3
   },
   "file_extension": ".py",
   "mimetype": "text/x-python",
   "name": "python",
   "nbconvert_exporter": "python",
   "pygments_lexer": "ipython3",
   "version": "3.8.5"
  }
 },
 "nbformat": 4,
 "nbformat_minor": 2
}