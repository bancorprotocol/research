{
 "cells": [
  {
   "cell_type": "code",
   "execution_count": 1,
   "metadata": {
    "collapsed": true
   },
   "outputs": [],
   "source": [
    "from decimal import Decimal\n",
    "from bancor_research.scenario_generator.monte_carlo_generator import MonteCarloGenerator\n",
    "import pandas as pd\n",
    "from bancor_research import DEFAULT\n",
    "\n",
    "DEFAULT_TRADING_FEE = DEFAULT.TRADING_FEE\n",
    "DEFAULT_BNT_FUNDING_LIMIT = DEFAULT.BNT_FUNDING_LIMIT\n",
    "PRICE_FEEDS_PATH = DEFAULT.PRICE_FEEDS_PATH\n",
    "\n",
    "target_tvl = Decimal(\"160000000\")\n",
    "\n",
    "pool_freq_dist = {\n",
    "            'bnt'\t: .442,\n",
    "            'eth'\t: .247,\n",
    "            'link'\t: .18,\n",
    "            'dai'\t: .056,\n",
    "            'wbtc'\t: .023,\n",
    "            'enj'\t: .015,\n",
    "            'usdc'\t: .015,\n",
    "            'matic'\t: .009,\n",
    "            'bat'\t: .005,\n",
    "            'ren'\t: .004\n",
    "        }\n",
    "\n",
    "whitelisted_tokens = {\n",
    " 'eth': {'trading_fee': '1%', 'bnt_funding_limit': '100000'},\n",
    " 'dai': {'trading_fee': '1%', 'bnt_funding_limit': '100000'},\n",
    " 'link': {'trading_fee': '1%', 'bnt_funding_limit': '100000'},\n",
    " 'bat': {'trading_fee': '1%', 'bnt_funding_limit': '100000'},\n",
    " 'usdc': {'trading_fee': '1%', 'bnt_funding_limit': '100000'},\n",
    " 'ren': {'trading_fee': '1%', 'bnt_funding_limit': '100000'},\n",
    " 'wbtc': {'trading_fee': '1%', 'bnt_funding_limit': '100000'},\n",
    " 'enj': {'trading_fee': '1%', 'bnt_funding_limit': '100000'},\n",
    " 'mkr': {'trading_fee': '1%', 'bnt_funding_limit': '100000'},\n",
    " 'matic': {'trading_fee': '1%', 'bnt_funding_limit': '100000'},\n",
    " 'mana': {'trading_fee': '1%', 'bnt_funding_limit': '100000'}\n",
    "}\n",
    "\n",
    "price_feed = pd.read_parquet(PRICE_FEEDS_PATH)\n",
    "\n",
    "user_initial_balances = pd.read_csv('data/user_initial_balances.csv')"
   ]
  },
  {
   "cell_type": "code",
   "execution_count": null,
   "outputs": [],
   "source": [
    "user_initial_balances['user_id'] = ['0x00000000C2Cf7648c169b25ef1C217864bFa38cC' for _ in range(len(user_initial_balances))]\n",
    "user_initial_balances = user_initial_balances.groupby(['user_id','poolSymbol']).sum()\n",
    "user_initial_balances = user_initial_balances.reset_index()\n",
    "user_initial_balances"
   ],
   "metadata": {
    "collapsed": false,
    "pycharm": {
     "name": "#%%\n"
    }
   }
  },
  {
   "cell_type": "code",
   "execution_count": null,
   "outputs": [],
   "source": [
    "simulation_step_count = 1000\n",
    "\n",
    "simulator = MonteCarloGenerator(\n",
    "    target_tvl=target_tvl,\n",
    "    whitelisted_tokens= whitelisted_tokens,\n",
    "    price_feed=price_feed,\n",
    "    user_initial_balances=user_initial_balances,\n",
    "    simulation_step_count=simulation_step_count,\n",
    "    pool_freq_dist=pool_freq_dist\n",
    ")\n",
    "\n",
    "simulator.run()"
   ],
   "metadata": {
    "collapsed": false,
    "pycharm": {
     "name": "#%%\n"
    }
   }
  },
  {
   "cell_type": "code",
   "execution_count": null,
   "outputs": [],
   "source": [
    "pd.concat(simulator.logger)"
   ],
   "metadata": {
    "collapsed": false,
    "pycharm": {
     "name": "#%%\n"
    }
   }
  },
  {
   "cell_type": "code",
   "execution_count": null,
   "outputs": [],
   "source": [
    "simulator.protocol.describe()"
   ],
   "metadata": {
    "collapsed": false,
    "pycharm": {
     "name": "#%%\n"
    }
   }
  },
  {
   "cell_type": "code",
   "execution_count": null,
   "outputs": [],
   "source": [],
   "metadata": {
    "collapsed": false,
    "pycharm": {
     "name": "#%%\n"
    }
   }
  }
 ],
 "metadata": {
  "kernelspec": {
   "display_name": "Python 3",
   "language": "python",
   "name": "python3"
  },
  "language_info": {
   "codemirror_mode": {
    "name": "ipython",
    "version": 2
   },
   "file_extension": ".py",
   "mimetype": "text/x-python",
   "name": "python",
   "nbconvert_exporter": "python",
   "pygments_lexer": "ipython2",
   "version": "2.7.6"
  }
 },
 "nbformat": 4,
 "nbformat_minor": 0
}