{
 "cells": [
  {
   "cell_type": "code",
   "execution_count": 1,
   "metadata": {
    "tags": [
     "remove-input"
    ]
   },
   "outputs": [],
   "source": [
    "from datascience import *\n",
    "from datascience.predicates import are\n",
    "path_data = '../../../../data/'\n",
    "import numpy as np\n",
    "import matplotlib\n",
    "matplotlib.use('Agg')\n",
    "%matplotlib inline\n",
    "import matplotlib.pyplot as plots\n",
    "plots.style.use('fivethirtyeight')\n",
    "import warnings\n",
    "warnings.simplefilter(action=\"ignore\", category=FutureWarning)\n",
    "\n",
    "from urllib.request import urlopen\n",
    "import re\n",
    "from bancor3_simulator.protocol import BancorV3\n",
    "from bancor3_simulator.core.settings import GlobalSettings\n",
    "from decimal import Decimal\n",
    "from fractions import Fraction\n",
    "import pandas as pd\n",
    "\n",
    "# Recall from an earlier chapter that we already defined the cooldown period and the exit fees as follows.\n",
    "cooldown_time: int = 7\n",
    "withdrawal_fee: Decimal = Decimal('0.0025')\n",
    "whitelisted_tokens: list = ['bnt', 'eth', 'wbtc', 'link']\n",
    "bnt_funding_limit: Decimal = Decimal('40000')\n",
    "bnt_min_liquidity: Decimal = Decimal('10000')\n",
    "price_feeds = pd.DataFrame({'INDX':[0],\n",
    "                            'bnt':[2.5],\n",
    "                            'link':[15.00],\n",
    "                            'eth':[2500.00],\n",
    "                            'wbtc':[40000.00]})\n",
    "\n",
    "network_fee: Decimal = Decimal('0.2')\n",
    "trading_fee: Decimal = Decimal('0.01')\n",
    "\n",
    "# There are other possible configuration settings available, however for the present purpose we will use the defaults.\n",
    "v3 = BancorV3(whitelisted_tokens=whitelisted_tokens,\n",
    "              network_fee=network_fee,\n",
    "              trading_fee=trading_fee,\n",
    "              cooldown_time=cooldown_time,\n",
    "              withdrawal_fee=withdrawal_fee,\n",
    "              bnt_min_liquidity=bnt_min_liquidity,\n",
    "              bnt_funding_limit=bnt_funding_limit,\n",
    "              price_feeds=price_feeds)\n",
    "\n",
    "v3.create_user('Alice')\n",
    "v3.create_user('Bob')\n",
    "v3.create_user('Charlie')\n",
    "\n",
    "# The actual deposits.\n",
    "\n",
    "v3.stake(tkn_amt=100, tkn_name='eth', user_name='Alice')\n",
    "\n",
    "v3.stake(tkn_amt=10000, tkn_name='link', user_name='Charlie')\n",
    "\n",
    "v3.stake(tkn_amt=100, tkn_name='wbtc', user_name='Bob')\n",
    "#\n",
    "v3.stake(tkn_amt=1, tkn_name='eth', user_name='Alice')\n",
    "\n",
    "v3.stake(tkn_amt=1, tkn_name='link', user_name='Charlie')\n",
    "\n",
    "v3.stake(tkn_amt=1, tkn_name='wbtc', user_name='Bob')\n",
    "\n",
    "v3.dao_msig_init_pools(whitelisted_tokens)\n",
    "\n",
    "v3.create_user('Trader')\n",
    "\n",
    "v3.trade(swap_amount=2000, source_token='bnt',  target_token='link', user_name='Trader', timestep=0)\n",
    "\n",
    "v3.trade(swap_amount=302.9981, source_token='link',  target_token='bnt', user_name='Trader', timestep=0)\n",
    "\n",
    "v3.trade(swap_amount=1, source_token='eth',  target_token='wbtc', user_name='Trader', timestep=0)\n",
    "\n",
    "def read_url(url): \n",
    "    return re.sub('\\\\s+', ' ', urlopen(url).read().decode())"
   ]
  },
  {
   "cell_type": "markdown",
   "source": [
    "# Staking TKN"
   ],
   "metadata": {
    "collapsed": false
   }
  },
  {
   "cell_type": "code",
   "execution_count": 2,
   "outputs": [
    {
     "data": {
      "text/plain": "               Trading Liquidity            Vault          Staking  \\\n0                                  bnt=60022.3847   bnt=60023.5998   \n1     bnt=19055.2381 eth=21.0000     eth=102.0000     eth=101.0000   \n2     bnt=20940.8835 wbtc=1.1943    wbtc=100.9443    wbtc=101.0005   \n3  bnt=20013.9939 link=3336.3314  link=10003.9981  link=10003.4242   \n4                                                                    \n\n     ERC20 Contracts       Vortex External Protection   Protocol Wallet  \n0   bnbnt=60000.0000  bnt=12.2692          bnt=0.0000  bnbnt=60000.0000  \n1     bneth=101.0000                       eth=0.0000                    \n2    bnwbtc=101.0000                      wbtc=0.0000                    \n3  bnlink=10001.0000                      link=0.0000                    \n4                                                                        ",
      "text/html": "<div>\n<style scoped>\n    .dataframe tbody tr th:only-of-type {\n        vertical-align: middle;\n    }\n\n    .dataframe tbody tr th {\n        vertical-align: top;\n    }\n\n    .dataframe thead th {\n        text-align: right;\n    }\n</style>\n<table border=\"1\" class=\"dataframe\">\n  <thead>\n    <tr style=\"text-align: right;\">\n      <th></th>\n      <th>Trading Liquidity</th>\n      <th>Vault</th>\n      <th>Staking</th>\n      <th>ERC20 Contracts</th>\n      <th>Vortex</th>\n      <th>External Protection</th>\n      <th>Protocol Wallet</th>\n    </tr>\n  </thead>\n  <tbody>\n    <tr>\n      <th>0</th>\n      <td></td>\n      <td>bnt=60022.3847</td>\n      <td>bnt=60023.5998</td>\n      <td>bnbnt=60000.0000</td>\n      <td>bnt=12.2692</td>\n      <td>bnt=0.0000</td>\n      <td>bnbnt=60000.0000</td>\n    </tr>\n    <tr>\n      <th>1</th>\n      <td>bnt=19055.2381 eth=21.0000</td>\n      <td>eth=102.0000</td>\n      <td>eth=101.0000</td>\n      <td>bneth=101.0000</td>\n      <td></td>\n      <td>eth=0.0000</td>\n      <td></td>\n    </tr>\n    <tr>\n      <th>2</th>\n      <td>bnt=20940.8835 wbtc=1.1943</td>\n      <td>wbtc=100.9443</td>\n      <td>wbtc=101.0005</td>\n      <td>bnwbtc=101.0000</td>\n      <td></td>\n      <td>wbtc=0.0000</td>\n      <td></td>\n    </tr>\n    <tr>\n      <th>3</th>\n      <td>bnt=20013.9939 link=3336.3314</td>\n      <td>link=10003.9981</td>\n      <td>link=10003.4242</td>\n      <td>bnlink=10001.0000</td>\n      <td></td>\n      <td>link=0.0000</td>\n      <td></td>\n    </tr>\n    <tr>\n      <th>4</th>\n      <td></td>\n      <td></td>\n      <td></td>\n      <td></td>\n      <td></td>\n      <td></td>\n      <td></td>\n    </tr>\n  </tbody>\n</table>\n</div>"
     },
     "execution_count": 2,
     "metadata": {},
     "output_type": "execute_result"
    }
   ],
   "source": [
    "v3.describe(decimals=4)"
   ],
   "metadata": {
    "collapsed": false,
    "pycharm": {
     "name": "#%%\n"
    }
   }
  },
  {
   "cell_type": "code",
   "execution_count": 3,
   "outputs": [
    {
     "data": {
      "text/plain": "  index                                          0\n0   bnt          Spot Rate=0.0000, EMA Rate=0.0000\n1   eth     Spot Rate=907.3923, EMA Rate=1000.0000\n2  wbtc  Spot Rate=17534.2111, EMA Rate=16000.0000\n3  link          Spot Rate=5.9988, EMA Rate=6.0000",
      "text/html": "<div>\n<style scoped>\n    .dataframe tbody tr th:only-of-type {\n        vertical-align: middle;\n    }\n\n    .dataframe tbody tr th {\n        vertical-align: top;\n    }\n\n    .dataframe thead th {\n        text-align: right;\n    }\n</style>\n<table border=\"1\" class=\"dataframe\">\n  <thead>\n    <tr style=\"text-align: right;\">\n      <th></th>\n      <th>index</th>\n      <th>0</th>\n    </tr>\n  </thead>\n  <tbody>\n    <tr>\n      <th>0</th>\n      <td>bnt</td>\n      <td>Spot Rate=0.0000, EMA Rate=0.0000</td>\n    </tr>\n    <tr>\n      <th>1</th>\n      <td>eth</td>\n      <td>Spot Rate=907.3923, EMA Rate=1000.0000</td>\n    </tr>\n    <tr>\n      <th>2</th>\n      <td>wbtc</td>\n      <td>Spot Rate=17534.2111, EMA Rate=16000.0000</td>\n    </tr>\n    <tr>\n      <th>3</th>\n      <td>link</td>\n      <td>Spot Rate=5.9988, EMA Rate=6.0000</td>\n    </tr>\n  </tbody>\n</table>\n</div>"
     },
     "execution_count": 3,
     "metadata": {},
     "output_type": "execute_result"
    }
   ],
   "source": [
    "v3.describe(rates=True, decimals=4)"
   ],
   "metadata": {
    "collapsed": false,
    "pycharm": {
     "name": "#%%\n"
    }
   }
  },
  {
   "cell_type": "markdown",
   "metadata": {},
   "source": [
    "# Staking TKN\n",
    "\n",
    "The ema serves as a detection mechanism for unusual spikes in the price of an asset against BNT, and prevents changes to the depth of the trading pools to protect the system from harm. To illustrate the effects of the ema, the current state of the system in the present narrative will be carried forward, with each of Alice, Bob, and Charlie providing one additional TKN to the system. Unlike the prior examples where liquidity is added, both the ema, and the pool token valuation need to be taken under consideration.\n",
    "\n",
    "Before the demonstration continues, recall that each of the pools have a preset 4,000 BNT funding limit at this point in the narrative, and up to this point in time all three have only exhausted half of that amount. Further, recall that the ability to increase the available trading liquidity is determined by the vault balance of the TKN in question, and the current depth of the pool, rather than the amount being contributed by a user during any deposit event."
   ]
  },
  {
   "cell_type": "code",
   "execution_count": 4,
   "outputs": [
    {
     "name": "stdout",
     "output_type": "stream",
     "text": [
      "timestep 0\n"
     ]
    },
    {
     "data": {
      "text/plain": "               Trading Liquidity            Vault          Staking  \\\n0                                  bnt=60022.3847   bnt=60023.5998   \n1     bnt=19055.2381 eth=21.0000     eth=103.0000     eth=102.0000   \n2     bnt=20940.8835 wbtc=1.1943    wbtc=100.9443    wbtc=101.0005   \n3  bnt=20013.9939 link=3336.3314  link=10003.9981  link=10003.4242   \n4                                                                    \n\n     ERC20 Contracts       Vortex External Protection   Protocol Wallet  \n0   bnbnt=60000.0000  bnt=12.2692          bnt=0.0000  bnbnt=60000.0000  \n1     bneth=102.0000                       eth=0.0000                    \n2    bnwbtc=101.0000                      wbtc=0.0000                    \n3  bnlink=10001.0000                      link=0.0000                    \n4                                                                        ",
      "text/html": "<div>\n<style scoped>\n    .dataframe tbody tr th:only-of-type {\n        vertical-align: middle;\n    }\n\n    .dataframe tbody tr th {\n        vertical-align: top;\n    }\n\n    .dataframe thead th {\n        text-align: right;\n    }\n</style>\n<table border=\"1\" class=\"dataframe\">\n  <thead>\n    <tr style=\"text-align: right;\">\n      <th></th>\n      <th>Trading Liquidity</th>\n      <th>Vault</th>\n      <th>Staking</th>\n      <th>ERC20 Contracts</th>\n      <th>Vortex</th>\n      <th>External Protection</th>\n      <th>Protocol Wallet</th>\n    </tr>\n  </thead>\n  <tbody>\n    <tr>\n      <th>0</th>\n      <td></td>\n      <td>bnt=60022.3847</td>\n      <td>bnt=60023.5998</td>\n      <td>bnbnt=60000.0000</td>\n      <td>bnt=12.2692</td>\n      <td>bnt=0.0000</td>\n      <td>bnbnt=60000.0000</td>\n    </tr>\n    <tr>\n      <th>1</th>\n      <td>bnt=19055.2381 eth=21.0000</td>\n      <td>eth=103.0000</td>\n      <td>eth=102.0000</td>\n      <td>bneth=102.0000</td>\n      <td></td>\n      <td>eth=0.0000</td>\n      <td></td>\n    </tr>\n    <tr>\n      <th>2</th>\n      <td>bnt=20940.8835 wbtc=1.1943</td>\n      <td>wbtc=100.9443</td>\n      <td>wbtc=101.0005</td>\n      <td>bnwbtc=101.0000</td>\n      <td></td>\n      <td>wbtc=0.0000</td>\n      <td></td>\n    </tr>\n    <tr>\n      <th>3</th>\n      <td>bnt=20013.9939 link=3336.3314</td>\n      <td>link=10003.9981</td>\n      <td>link=10003.4242</td>\n      <td>bnlink=10001.0000</td>\n      <td></td>\n      <td>link=0.0000</td>\n      <td></td>\n    </tr>\n    <tr>\n      <th>4</th>\n      <td></td>\n      <td></td>\n      <td></td>\n      <td></td>\n      <td></td>\n      <td></td>\n      <td></td>\n    </tr>\n  </tbody>\n</table>\n</div>"
     },
     "execution_count": 4,
     "metadata": {},
     "output_type": "execute_result"
    }
   ],
   "source": [
    "timestep = v3.global_state.tokens['wbtc'].timestep\n",
    "print('timestep', timestep)\n",
    "v3.stake(tkn_amt=1, tkn_name='eth',  user_name='Alice', timestep=timestep)\n",
    "\n",
    "v3.describe(decimals=4)"
   ],
   "metadata": {
    "collapsed": false,
    "pycharm": {
     "name": "#%%\n"
    }
   }
  },
  {
   "cell_type": "code",
   "execution_count": 5,
   "outputs": [
    {
     "data": {
      "text/plain": "  index                                          0\n0   bnt          Spot Rate=0.0000, EMA Rate=0.0000\n1   eth     Spot Rate=907.3923, EMA Rate=1000.0000\n2  wbtc  Spot Rate=17534.2111, EMA Rate=16000.0000\n3  link          Spot Rate=5.9988, EMA Rate=6.0000",
      "text/html": "<div>\n<style scoped>\n    .dataframe tbody tr th:only-of-type {\n        vertical-align: middle;\n    }\n\n    .dataframe tbody tr th {\n        vertical-align: top;\n    }\n\n    .dataframe thead th {\n        text-align: right;\n    }\n</style>\n<table border=\"1\" class=\"dataframe\">\n  <thead>\n    <tr style=\"text-align: right;\">\n      <th></th>\n      <th>index</th>\n      <th>0</th>\n    </tr>\n  </thead>\n  <tbody>\n    <tr>\n      <th>0</th>\n      <td>bnt</td>\n      <td>Spot Rate=0.0000, EMA Rate=0.0000</td>\n    </tr>\n    <tr>\n      <th>1</th>\n      <td>eth</td>\n      <td>Spot Rate=907.3923, EMA Rate=1000.0000</td>\n    </tr>\n    <tr>\n      <th>2</th>\n      <td>wbtc</td>\n      <td>Spot Rate=17534.2111, EMA Rate=16000.0000</td>\n    </tr>\n    <tr>\n      <th>3</th>\n      <td>link</td>\n      <td>Spot Rate=5.9988, EMA Rate=6.0000</td>\n    </tr>\n  </tbody>\n</table>\n</div>"
     },
     "execution_count": 5,
     "metadata": {},
     "output_type": "execute_result"
    }
   ],
   "source": [
    "v3.describe(rates=True, decimals=4)"
   ],
   "metadata": {
    "collapsed": false,
    "pycharm": {
     "name": "#%%\n"
    }
   }
  },
  {
   "cell_type": "markdown",
   "source": [
    "Alice now deposits 1 ETH. Since no fees have yet accrued to the bnETH pool tokens (i.e. ETH has not yet been the target of any particular trade), the value of the bnETH pool token remains unchanged. Her 1 ETH is added to the vault, the staking ledger is updated, and a new pool token is created for Alice.\n",
    "\n",
    "Assume that this deposit is occurring on a block wherein no actions have taken place on the ETH pool. Therefore, the ema has not been updated in this block, and it remains where it was. This allows for the effective price quoted by the pool to be evaluated with a view to detecting artificial price manipulation. The protocol's confidence is determined by the relative deviation between the ema and spot prices; the protocol will only allow the pool's trading liquidity to be changed if the difference between these values is small.\n",
    "\n",
    "In this instance, the addition of Alice's 1 ETH occurs when the ema on ETH remains at 1,000, whereas its spot rate is 907.26. The deviation between the spot rate and the ema is measured relative to the ema, as follows:"
   ],
   "metadata": {
    "collapsed": false
   }
  },
  {
   "cell_type": "markdown",
   "source": [
    "Since Δ is fixed at 0.01, the equation above can be expressed as the following boolean:\n",
    "\n",
    "![](https://lh5.googleusercontent.com/blsejE9xJDrmvWZPTX9pyIZnAHe6_FiCmwoKm-IryJ0w678oabuREMMxDo5PrZRbSg68QLAFxG1COySwZTquiD0rfdRxK63u4yGw8In-kcsQFYFuwJWP4JKXebJloN_mkTZ5deQ7YCEaTO5esA)\\\n",
    "where r is the spot rate. In this case, Δ is 0.0927; the tolerance of the protocol is 0.01. Therefore, the protocol will not allow the trading liquidity to be changed on this block. However, Alice's 1 ETH is still accepted into the vault, and she is issued bnETH pool tokens as normal. Since there is no change to the trading liquidity, the protocol will not mint BNT, and will not issue itself bnBNT."
   ],
   "metadata": {
    "collapsed": false
   }
  },
  {
   "cell_type": "markdown",
   "source": [
    "Bob now deposits 1 wBTC. In contrast to Alice’s situation, fees have accumulated on the wBTC pool token. Therefore, the rate of pool token issuance is affected. The staking ledger is reporting a staked amount of wBTC of 101.00045, and the supply of bnwBTC is 101. Therefore, the rate of bnwBTC to wBTC is 0.999995543, and this quotient determines the number of bnwBTC pool tokens Bob will receive.\n",
    "\n",
    "Assume that this deposit is occurring on the same block as Alice’s deposit, where the trade between ETH and wBTC had been executed on the prior block. Therefore, the wBTC ema has not been updated in this block, and also remains at the genesis rate.\n",
    "\n",
    "In this instance, the addition of Bob’s 1 wBTC coccurs when the ema on wBTC remains at 16,000, whereas its spot rate is at 17,534. The deviation (Δ) between the spot rate and the ema is 0.0959, and as before, the protocol will not allow the trading liquidity to be changed on this block. Regardless, the vault still accepts Bob’s wBTC, and issues him bnwBTC as normal.\n"
   ],
   "metadata": {
    "collapsed": false
   }
  },
  {
   "cell_type": "code",
   "execution_count": 6,
   "outputs": [
    {
     "name": "stdout",
     "output_type": "stream",
     "text": [
      "timestep 0\n"
     ]
    },
    {
     "data": {
      "text/plain": "               Trading Liquidity            Vault          Staking  \\\n0                                  bnt=60022.3847   bnt=60023.5998   \n1     bnt=19055.2381 eth=21.0000     eth=103.0000     eth=102.0000   \n2     bnt=20940.8835 wbtc=1.1943    wbtc=101.9443    wbtc=102.0005   \n3  bnt=20013.9939 link=3336.3314  link=10003.9981  link=10003.4242   \n4                                                                    \n\n     ERC20 Contracts       Vortex External Protection   Protocol Wallet  \n0   bnbnt=60000.0000  bnt=12.2692          bnt=0.0000  bnbnt=60000.0000  \n1     bneth=102.0000                       eth=0.0000                    \n2    bnwbtc=102.0000                      wbtc=0.0000                    \n3  bnlink=10001.0000                      link=0.0000                    \n4                                                                        ",
      "text/html": "<div>\n<style scoped>\n    .dataframe tbody tr th:only-of-type {\n        vertical-align: middle;\n    }\n\n    .dataframe tbody tr th {\n        vertical-align: top;\n    }\n\n    .dataframe thead th {\n        text-align: right;\n    }\n</style>\n<table border=\"1\" class=\"dataframe\">\n  <thead>\n    <tr style=\"text-align: right;\">\n      <th></th>\n      <th>Trading Liquidity</th>\n      <th>Vault</th>\n      <th>Staking</th>\n      <th>ERC20 Contracts</th>\n      <th>Vortex</th>\n      <th>External Protection</th>\n      <th>Protocol Wallet</th>\n    </tr>\n  </thead>\n  <tbody>\n    <tr>\n      <th>0</th>\n      <td></td>\n      <td>bnt=60022.3847</td>\n      <td>bnt=60023.5998</td>\n      <td>bnbnt=60000.0000</td>\n      <td>bnt=12.2692</td>\n      <td>bnt=0.0000</td>\n      <td>bnbnt=60000.0000</td>\n    </tr>\n    <tr>\n      <th>1</th>\n      <td>bnt=19055.2381 eth=21.0000</td>\n      <td>eth=103.0000</td>\n      <td>eth=102.0000</td>\n      <td>bneth=102.0000</td>\n      <td></td>\n      <td>eth=0.0000</td>\n      <td></td>\n    </tr>\n    <tr>\n      <th>2</th>\n      <td>bnt=20940.8835 wbtc=1.1943</td>\n      <td>wbtc=101.9443</td>\n      <td>wbtc=102.0005</td>\n      <td>bnwbtc=102.0000</td>\n      <td></td>\n      <td>wbtc=0.0000</td>\n      <td></td>\n    </tr>\n    <tr>\n      <th>3</th>\n      <td>bnt=20013.9939 link=3336.3314</td>\n      <td>link=10003.9981</td>\n      <td>link=10003.4242</td>\n      <td>bnlink=10001.0000</td>\n      <td></td>\n      <td>link=0.0000</td>\n      <td></td>\n    </tr>\n    <tr>\n      <th>4</th>\n      <td></td>\n      <td></td>\n      <td></td>\n      <td></td>\n      <td></td>\n      <td></td>\n      <td></td>\n    </tr>\n  </tbody>\n</table>\n</div>"
     },
     "execution_count": 6,
     "metadata": {},
     "output_type": "execute_result"
    }
   ],
   "source": [
    "timestep = v3.global_state.tokens['wbtc'].timestep\n",
    "print('timestep', timestep)\n",
    "v3.stake(tkn_amt=1, tkn_name='wbtc', user_name='Bob', timestep=timestep)\n",
    "\n",
    "v3.describe(decimals=4)"
   ],
   "metadata": {
    "collapsed": false,
    "pycharm": {
     "name": "#%%\n"
    }
   }
  },
  {
   "cell_type": "code",
   "execution_count": 7,
   "outputs": [
    {
     "data": {
      "text/plain": "  index                                          0\n0   bnt          Spot Rate=0.0000, EMA Rate=0.0000\n1   eth     Spot Rate=907.3923, EMA Rate=1000.0000\n2  wbtc  Spot Rate=17534.2111, EMA Rate=16000.0000\n3  link          Spot Rate=5.9988, EMA Rate=6.0000",
      "text/html": "<div>\n<style scoped>\n    .dataframe tbody tr th:only-of-type {\n        vertical-align: middle;\n    }\n\n    .dataframe tbody tr th {\n        vertical-align: top;\n    }\n\n    .dataframe thead th {\n        text-align: right;\n    }\n</style>\n<table border=\"1\" class=\"dataframe\">\n  <thead>\n    <tr style=\"text-align: right;\">\n      <th></th>\n      <th>index</th>\n      <th>0</th>\n    </tr>\n  </thead>\n  <tbody>\n    <tr>\n      <th>0</th>\n      <td>bnt</td>\n      <td>Spot Rate=0.0000, EMA Rate=0.0000</td>\n    </tr>\n    <tr>\n      <th>1</th>\n      <td>eth</td>\n      <td>Spot Rate=907.3923, EMA Rate=1000.0000</td>\n    </tr>\n    <tr>\n      <th>2</th>\n      <td>wbtc</td>\n      <td>Spot Rate=17534.2111, EMA Rate=16000.0000</td>\n    </tr>\n    <tr>\n      <th>3</th>\n      <td>link</td>\n      <td>Spot Rate=5.9988, EMA Rate=6.0000</td>\n    </tr>\n  </tbody>\n</table>\n</div>"
     },
     "execution_count": 7,
     "metadata": {},
     "output_type": "execute_result"
    }
   ],
   "source": [
    "v3.describe(rates=True, decimals=4)"
   ],
   "metadata": {
    "collapsed": false,
    "pycharm": {
     "name": "#%%\n"
    }
   }
  },
  {
   "cell_type": "markdown",
   "source": [
    "Charlie now deposits 1 LINK. As was the case for Bob, the fee accrual on bnLINK will affect the issuance of pool tokens. The staking ledger is reporting a staked amount of LINK of 10,003.42, and the supply of bnLINK is 10,001. Therefore, the rate of bnLINK to LINK is 0.999758, and the issuance of bnLINK to Charlie is determined by this number.\n",
    "\n",
    "Assume that this deposit occurs on the block following the two LINK trades previously discussed. In this instance, the addition of Charlie’s 1 LINK occurs when the ema on LINK is 5.9998, whereas its spot rate is at 5.9988. The deviation (Δ) between the spot rate and the ema is 0.00017, which is inside the tolerance levels of the protocol, and the protocol will allow the trading liquidity to update.\n",
    "\n",
    "Trading liquidity always updates according to a strict set of criteria. In simple terms, the protocol will always try to increase the liquidity by as much as possible, up to a maximum BNT liquidity increase of 2× relative to the current depth, and without exceeding the preset funding limit. In this example, the current BNT depth on the LINK pool is 20,013.993668. Therefore, with a sufficient funding limit, the pool could double in size, up to a maximum BNT depth of 40,027.98734 BNT. However, the protocol has previously contributed 20,000 BNT of its 40,000 BNT funding limit - it can only increase the trading liquidity by a maximum of 20,000 BNT. The protocol will always default to the smallest of these two values.\n",
    "\n",
    "By convention, the protocol trusts the ema rate over the spot price. Therefore, in this example, the BNT/LINK quotient is treated as 5.9998. The maximum allowed increase is the BNT funding limit, 20,000 BNT. Therefore, 3333.998732 LINK and 20,000 BNT are added to the trading liquidity. As the protocol is minting BNT, it is simultaneously issuing new bnBNT pool tokens for itself. Since the bnBNT pool token has appreciated in value, this will need to be taken into account."
   ],
   "metadata": {
    "collapsed": false,
    "pycharm": {
     "name": "#%% md\n"
    }
   }
  },
  {
   "cell_type": "code",
   "execution_count": 8,
   "outputs": [
    {
     "name": "stdout",
     "output_type": "stream",
     "text": [
      "timestep 1\n"
     ]
    },
    {
     "data": {
      "text/plain": "               Trading Liquidity            Vault          Staking  \\\n0                                  bnt=80006.4040   bnt=80007.6190   \n1     bnt=19055.2381 eth=21.0000     eth=103.0000     eth=102.0000   \n2     bnt=20940.8835 wbtc=1.1943    wbtc=101.9443    wbtc=102.0005   \n3  bnt=39998.0132 link=6666.3355  link=10004.9981  link=10004.4242   \n4                                                                    \n\n     ERC20 Contracts       Vortex External Protection   Protocol Wallet  \n0   bnbnt=79976.1621  bnt=12.2692          bnt=0.0000  bnbnt=59992.1428  \n1     bneth=102.0000                       eth=0.0000                    \n2    bnwbtc=102.0000                      wbtc=0.0000                    \n3  bnlink=10001.9998                      link=0.0000                    \n4                                                                        ",
      "text/html": "<div>\n<style scoped>\n    .dataframe tbody tr th:only-of-type {\n        vertical-align: middle;\n    }\n\n    .dataframe tbody tr th {\n        vertical-align: top;\n    }\n\n    .dataframe thead th {\n        text-align: right;\n    }\n</style>\n<table border=\"1\" class=\"dataframe\">\n  <thead>\n    <tr style=\"text-align: right;\">\n      <th></th>\n      <th>Trading Liquidity</th>\n      <th>Vault</th>\n      <th>Staking</th>\n      <th>ERC20 Contracts</th>\n      <th>Vortex</th>\n      <th>External Protection</th>\n      <th>Protocol Wallet</th>\n    </tr>\n  </thead>\n  <tbody>\n    <tr>\n      <th>0</th>\n      <td></td>\n      <td>bnt=80006.4040</td>\n      <td>bnt=80007.6190</td>\n      <td>bnbnt=79976.1621</td>\n      <td>bnt=12.2692</td>\n      <td>bnt=0.0000</td>\n      <td>bnbnt=59992.1428</td>\n    </tr>\n    <tr>\n      <th>1</th>\n      <td>bnt=19055.2381 eth=21.0000</td>\n      <td>eth=103.0000</td>\n      <td>eth=102.0000</td>\n      <td>bneth=102.0000</td>\n      <td></td>\n      <td>eth=0.0000</td>\n      <td></td>\n    </tr>\n    <tr>\n      <th>2</th>\n      <td>bnt=20940.8835 wbtc=1.1943</td>\n      <td>wbtc=101.9443</td>\n      <td>wbtc=102.0005</td>\n      <td>bnwbtc=102.0000</td>\n      <td></td>\n      <td>wbtc=0.0000</td>\n      <td></td>\n    </tr>\n    <tr>\n      <th>3</th>\n      <td>bnt=39998.0132 link=6666.3355</td>\n      <td>link=10004.9981</td>\n      <td>link=10004.4242</td>\n      <td>bnlink=10001.9998</td>\n      <td></td>\n      <td>link=0.0000</td>\n      <td></td>\n    </tr>\n    <tr>\n      <th>4</th>\n      <td></td>\n      <td></td>\n      <td></td>\n      <td></td>\n      <td></td>\n      <td></td>\n      <td></td>\n    </tr>\n  </tbody>\n</table>\n</div>"
     },
     "execution_count": 8,
     "metadata": {},
     "output_type": "execute_result"
    }
   ],
   "source": [
    "timestep = v3.global_state.tokens['wbtc'].timestep + 1\n",
    "print('timestep', timestep)\n",
    "v3.stake(tkn_amt=1, tkn_name='link', user_name='Charlie', timestep=timestep)\n",
    "\n",
    "v3.describe(decimals=4)"
   ],
   "metadata": {
    "collapsed": false,
    "pycharm": {
     "name": "#%%\n"
    }
   }
  },
  {
   "cell_type": "markdown",
   "source": [
    "The staking ledger is reporting a staked amount of BNT of 60,022.384, and the supply of bnBNT is 60,000. Therefore, the rate of bnBNT to BNT is 0.999627065. As the protocol mints 20,000 BNT to increase the trading liquidity, this amount is added to the BNT staking ledger, and the protocol issues itself 19,992.5413 bnBNT pool tokens."
   ],
   "metadata": {
    "collapsed": false
   }
  },
  {
   "cell_type": "code",
   "execution_count": 9,
   "outputs": [
    {
     "data": {
      "text/plain": "               Trading Liquidity            Vault          Staking  \\\n0                                  bnt=80006.4040   bnt=80007.6190   \n1     bnt=19055.2381 eth=21.0000     eth=103.0000     eth=102.0000   \n2     bnt=20940.8835 wbtc=1.1943    wbtc=101.9443    wbtc=102.0005   \n3  bnt=39998.0132 link=6666.3355  link=10004.9981  link=10004.4242   \n4                                                                    \n\n     ERC20 Contracts       Vortex External Protection   Protocol Wallet  \n0   bnbnt=79976.1621  bnt=12.2692          bnt=0.0000  bnbnt=59992.1428  \n1     bneth=102.0000                       eth=0.0000                    \n2    bnwbtc=102.0000                      wbtc=0.0000                    \n3  bnlink=10001.9998                      link=0.0000                    \n4                                                                        ",
      "text/html": "<div>\n<style scoped>\n    .dataframe tbody tr th:only-of-type {\n        vertical-align: middle;\n    }\n\n    .dataframe tbody tr th {\n        vertical-align: top;\n    }\n\n    .dataframe thead th {\n        text-align: right;\n    }\n</style>\n<table border=\"1\" class=\"dataframe\">\n  <thead>\n    <tr style=\"text-align: right;\">\n      <th></th>\n      <th>Trading Liquidity</th>\n      <th>Vault</th>\n      <th>Staking</th>\n      <th>ERC20 Contracts</th>\n      <th>Vortex</th>\n      <th>External Protection</th>\n      <th>Protocol Wallet</th>\n    </tr>\n  </thead>\n  <tbody>\n    <tr>\n      <th>0</th>\n      <td></td>\n      <td>bnt=80006.4040</td>\n      <td>bnt=80007.6190</td>\n      <td>bnbnt=79976.1621</td>\n      <td>bnt=12.2692</td>\n      <td>bnt=0.0000</td>\n      <td>bnbnt=59992.1428</td>\n    </tr>\n    <tr>\n      <th>1</th>\n      <td>bnt=19055.2381 eth=21.0000</td>\n      <td>eth=103.0000</td>\n      <td>eth=102.0000</td>\n      <td>bneth=102.0000</td>\n      <td></td>\n      <td>eth=0.0000</td>\n      <td></td>\n    </tr>\n    <tr>\n      <th>2</th>\n      <td>bnt=20940.8835 wbtc=1.1943</td>\n      <td>wbtc=101.9443</td>\n      <td>wbtc=102.0005</td>\n      <td>bnwbtc=102.0000</td>\n      <td></td>\n      <td>wbtc=0.0000</td>\n      <td></td>\n    </tr>\n    <tr>\n      <th>3</th>\n      <td>bnt=39998.0132 link=6666.3355</td>\n      <td>link=10004.9981</td>\n      <td>link=10004.4242</td>\n      <td>bnlink=10001.9998</td>\n      <td></td>\n      <td>link=0.0000</td>\n      <td></td>\n    </tr>\n    <tr>\n      <th>4</th>\n      <td></td>\n      <td></td>\n      <td></td>\n      <td></td>\n      <td></td>\n      <td></td>\n      <td></td>\n    </tr>\n  </tbody>\n</table>\n</div>"
     },
     "execution_count": 9,
     "metadata": {},
     "output_type": "execute_result"
    }
   ],
   "source": [
    "v3.describe(decimals=4)"
   ],
   "metadata": {
    "collapsed": false,
    "pycharm": {
     "name": "#%%\n"
    }
   }
  }
 ],
 "metadata": {
  "kernelspec": {
   "name": "pycharm-c19c9c8d",
   "language": "python",
   "display_name": "PyCharm (simulator-v3)"
  },
  "language_info": {
   "codemirror_mode": {
    "name": "ipython",
    "version": 3
   },
   "file_extension": ".py",
   "mimetype": "text/x-python",
   "name": "python",
   "nbconvert_exporter": "python",
   "pygments_lexer": "ipython3",
   "version": "3.8.5"
  }
 },
 "nbformat": 4,
 "nbformat_minor": 2
}